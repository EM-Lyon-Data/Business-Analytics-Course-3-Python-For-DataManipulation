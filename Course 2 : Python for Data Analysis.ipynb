{
 "cells": [
  {
   "cell_type": "markdown",
   "source": "# Course 3: Python - Data Manipulation & ETL\n\n<center><img src=\"https://docs.microsoft.com/fr-fr/azure/architecture/data-guide/images/etl.png\" title=\"Python Logo\" width = 600/></center>",
   "metadata": {
    "tags": [],
    "cell_id": "00001-d4fd0da4-0848-479a-b6d3-aab1e2ca621b",
    "deepnote_cell_type": "markdown"
   }
  },
  {
   "cell_type": "markdown",
   "source": "# 1 - Loading Data",
   "metadata": {
    "tags": [],
    "is_collapsed": false,
    "cell_id": "00001-90b6974b-ec0e-4d30-bcd2-35b9a152ce40",
    "deepnote_cell_type": "text-cell-h1"
   }
  },
  {
   "cell_type": "markdown",
   "source": "You can find all the references at this link : https://pandas.pydata.org/pandas-docs/stable/reference/io.html#",
   "metadata": {
    "tags": [],
    "cell_id": "00002-9d9169e0-c146-432c-8305-babc877fab7f",
    "deepnote_cell_type": "markdown"
   }
  },
  {
   "cell_type": "markdown",
   "source": "## 1.1 Loading from flat files",
   "metadata": {
    "tags": [],
    "is_collapsed": false,
    "cell_id": "00002-fe807e61-a85b-4898-a7c2-fbe5ffe9812d",
    "deepnote_cell_type": "text-cell-h2"
   }
  },
  {
   "cell_type": "markdown",
   "source": "<b><p style=\"color:red;\">Exercice 1 : Load the data from the Excel file</p></b>\nYou will need the function **pandas.read_excel** : https://pandas.pydata.org/pandas-docs/stable/reference/api/pandas.read_excel.html",
   "metadata": {
    "tags": [],
    "cell_id": "00003-21c8edb0-c2cf-48a7-9faf-404206299693",
    "deepnote_cell_type": "markdown"
   }
  },
  {
   "cell_type": "code",
   "metadata": {
    "tags": [],
    "cell_id": "00003-e4143e18-15bf-41a9-8810-a5f92f69069d",
    "deepnote_to_be_reexecuted": false,
    "source_hash": "fe36c0cb",
    "execution_start": 1629468766960,
    "execution_millis": 1892,
    "deepnote_cell_type": "code"
   },
   "source": "# Write your code here\nimport pandas as pd\ndf_client = pd.read_excel(\"https://github.com/malganis35/dataset-test/blob/master/Client.xlsx?raw=true\")",
   "execution_count": null,
   "outputs": []
  },
  {
   "cell_type": "markdown",
   "source": "🔴IMPORTANT❗🔴 It is always a good practice to look at your imported data so that there are not any issues 😉\nSo let's do a print of our dataframe",
   "metadata": {
    "tags": [],
    "cell_id": "00006-a2f3548c-07ac-4c6b-a54d-7e647af18bc5",
    "deepnote_cell_type": "markdown"
   }
  },
  {
   "cell_type": "code",
   "metadata": {
    "tags": [],
    "cell_id": "00007-4534c967-abf0-4456-9c5d-70dca8290ce9",
    "deepnote_to_be_reexecuted": false,
    "source_hash": "1b98f319",
    "execution_start": 1629468771258,
    "execution_millis": 146,
    "is_output_hidden": true,
    "allow_embed": "output",
    "deepnote_cell_type": "code"
   },
   "source": "df_client",
   "execution_count": null,
   "outputs": [
    {
     "output_type": "execute_result",
     "execution_count": 2,
     "data": {
      "application/vnd.deepnote.dataframe.v2+json": {
       "row_count": 2686,
       "column_count": 10,
       "columns": [
        {
         "name": "customerID",
         "dtype": "object",
         "stats": {
          "unique_count": 2686,
          "nan_count": 0,
          "categories": [
           {
            "name": "38040",
            "count": 1
           },
           {
            "name": "vft1eu",
            "count": 1
           },
           {
            "name": "2684 others",
            "count": 2684
           }
          ]
         }
        },
        {
         "name": "gender",
         "dtype": "object",
         "stats": {
          "unique_count": 2,
          "nan_count": 570,
          "categories": [
           {
            "name": "F",
            "count": 1881
           },
           {
            "name": "M",
            "count": 235
           },
           {
            "name": "Missing",
            "count": 570
           }
          ]
         }
        },
        {
         "name": "birthdate",
         "dtype": "object",
         "stats": {
          "unique_count": 2528,
          "nan_count": 0,
          "categories": [
           {
            "name": "1968-02-12 00:00:00",
            "count": 3
           },
           {
            "name": "1968-09-20 00:00:00",
            "count": 3
           },
           {
            "name": "2526 others",
            "count": 2680
           }
          ]
         }
        },
        {
         "name": "ip_address",
         "dtype": "object",
         "stats": {
          "unique_count": 2686,
          "nan_count": 0,
          "categories": [
           {
            "name": "67.74.254.174",
            "count": 1
           },
           {
            "name": "53.115.6.106",
            "count": 1
           },
           {
            "name": "2684 others",
            "count": 2684
           }
          ]
         }
        },
        {
         "name": "latitude",
         "dtype": "float64",
         "stats": {
          "unique_count": 690,
          "nan_count": 0,
          "min": "-43.65000153",
          "max": "65.0",
          "histogram": [
           {
            "bin_start": -43.65000153,
            "bin_end": -32.785001377,
            "count": 23
           },
           {
            "bin_start": -32.785001377,
            "bin_end": -21.920001223999996,
            "count": 58
           },
           {
            "bin_start": -21.920001223999996,
            "bin_end": -11.055001070999992,
            "count": 5
           },
           {
            "bin_start": -11.055001070999992,
            "bin_end": -0.19000091799999552,
            "count": 20
           },
           {
            "bin_start": -0.19000091799999552,
            "bin_end": 10.674999235000001,
            "count": 24
           },
           {
            "bin_start": 10.674999235000001,
            "bin_end": 21.539999388000012,
            "count": 97
           },
           {
            "bin_start": 21.539999388000012,
            "bin_end": 32.40499954100001,
            "count": 362
           },
           {
            "bin_start": 32.40499954100001,
            "bin_end": 43.269999694000006,
            "count": 1395
           },
           {
            "bin_start": 43.269999694000006,
            "bin_end": 54.134999847,
            "count": 593
           },
           {
            "bin_start": 54.134999847,
            "bin_end": 65,
            "count": 109
           }
          ]
         }
        },
        {
         "name": "longitude",
         "dtype": "float64",
         "stats": {
          "unique_count": 699,
          "nan_count": 0,
          "min": "-157.8388977",
          "max": "175.6166992",
          "histogram": [
           {
            "bin_start": -157.8388977,
            "bin_end": -124.49333800999999,
            "count": 5
           },
           {
            "bin_start": -124.49333800999999,
            "bin_end": -91.14777831999999,
            "count": 510
           },
           {
            "bin_start": -91.14777831999999,
            "bin_end": -57.802218629999985,
            "count": 343
           },
           {
            "bin_start": -57.802218629999985,
            "bin_end": -24.456658939999983,
            "count": 1
           },
           {
            "bin_start": -24.456658939999983,
            "bin_end": 8.888900750000033,
            "count": 366
           },
           {
            "bin_start": 8.888900750000033,
            "bin_end": 42.23446044000002,
            "count": 393
           },
           {
            "bin_start": 42.23446044000002,
            "bin_end": 75.58002013000001,
            "count": 41
           },
           {
            "bin_start": 75.58002013000001,
            "bin_end": 108.92557982000002,
            "count": 215
           },
           {
            "bin_start": 108.92557982000002,
            "bin_end": 142.27113951000004,
            "count": 788
           },
           {
            "bin_start": 142.27113951000004,
            "bin_end": 175.6166992,
            "count": 24
           }
          ]
         }
        },
        {
         "name": "Country Name",
         "dtype": "object",
         "stats": {
          "unique_count": 87,
          "nan_count": 0,
          "categories": [
           {
            "name": "United States of America",
            "count": 787
           },
           {
            "name": "China, People's Republic of",
            "count": 444
           },
           {
            "name": "85 others",
            "count": 1455
           }
          ]
         }
        },
        {
         "name": "country_code",
         "dtype": "object",
         "stats": {
          "unique_count": 87,
          "nan_count": 0,
          "categories": [
           {
            "name": "US",
            "count": 787
           },
           {
            "name": "CN",
            "count": 444
           },
           {
            "name": "85 others",
            "count": 1455
           }
          ]
         }
        },
        {
         "name": "city_name",
         "dtype": "object",
         "stats": {
          "unique_count": 581,
          "nan_count": 1212,
          "categories": [
           {
            "name": "Beijing",
            "count": 94
           },
           {
            "name": "580 others",
            "count": 1380
           },
           {
            "name": "Missing",
            "count": 1212
           }
          ]
         }
        },
        {
         "name": "email",
         "dtype": "object",
         "stats": {
          "unique_count": 2678,
          "nan_count": 0,
          "categories": [
           {
            "name": "HKNI@formation.fr",
            "count": 2
           },
           {
            "name": "BWIT@formation.fr",
            "count": 2
           },
           {
            "name": "2676 others",
            "count": 2682
           }
          ]
         }
        },
        {
         "name": "_deepnote_index_column",
         "dtype": "int64"
        }
       ],
       "rows_top": [
        {
         "customerID": "38040",
         "gender": "F",
         "birthdate": "1946-12-21 00:00:00",
         "ip_address": "67.74.254.174",
         "latitude": 38,
         "longitude": -97,
         "Country Name": "United States of America",
         "country_code": "US",
         "city_name": "nan",
         "email": "XOQM@formation.fr",
         "_deepnote_index_column": 0
        },
        {
         "customerID": "vft1eu",
         "gender": "F",
         "birthdate": "1969-06-27 00:00:00",
         "ip_address": "53.115.6.106",
         "latitude": 51,
         "longitude": 9,
         "Country Name": "Germany, Federal Republic of",
         "country_code": "DE",
         "city_name": "nan",
         "email": "HEOX@formation.fr",
         "_deepnote_index_column": 1
        },
        {
         "customerID": "914324",
         "gender": "F",
         "birthdate": "1959-10-22 00:00:00",
         "ip_address": "51.99.199.27",
         "latitude": 51.5,
         "longitude": -0.129999995,
         "Country Name": "United Kingdom of Great Britain & Northern Ireland",
         "country_code": "GB",
         "city_name": "nan",
         "email": "OHVP@formation.fr",
         "_deepnote_index_column": 2
        },
        {
         "customerID": "61311",
         "gender": "F",
         "birthdate": "1941-03-28 00:00:00",
         "ip_address": "79.242.189.178",
         "latitude": 51,
         "longitude": 9,
         "Country Name": "Germany, Federal Republic of",
         "country_code": "DE",
         "city_name": "nan",
         "email": "FCOY@formation.fr",
         "_deepnote_index_column": 3
        },
        {
         "customerID": "494332",
         "gender": "F",
         "birthdate": "1961-04-08 00:00:00",
         "ip_address": "66.27.205.106",
         "latitude": 34.14530182,
         "longitude": -119.1091003,
         "Country Name": "United States of America",
         "country_code": "US",
         "city_name": "Oxnard",
         "email": "RYNS@formation.fr",
         "_deepnote_index_column": 4
        },
        {
         "customerID": "463794",
         "gender": "F",
         "birthdate": "1945-08-22 00:00:00",
         "ip_address": "115.73.124.237",
         "latitude": 21.41670036,
         "longitude": 106.5999985,
         "Country Name": "Vietnam, Socialist Republic of",
         "country_code": "VN",
         "city_name": "Cho Ha",
         "email": "SSRR@formation.fr",
         "_deepnote_index_column": 5
        },
        {
         "customerID": "132885",
         "gender": "F",
         "birthdate": "1984-03-11 00:00:00",
         "ip_address": "77.128.44.162",
         "latitude": 48.86000061,
         "longitude": 2.349999905,
         "Country Name": "France, French Republic",
         "country_code": "FR",
         "city_name": "nan",
         "email": "RAOE@formation.fr",
         "_deepnote_index_column": 6
        },
        {
         "customerID": "519113",
         "gender": "F",
         "birthdate": "1959-07-15 00:00:00",
         "ip_address": "50.167.100.93",
         "latitude": 34.02470017,
         "longitude": -84.50330353,
         "Country Name": "United States of America",
         "country_code": "US",
         "city_name": "Marietta",
         "email": "WWTP@formation.fr",
         "_deepnote_index_column": 7
        },
        {
         "customerID": "je57lh",
         "gender": "M",
         "birthdate": "1953-03-12 00:00:00",
         "ip_address": "110.116.130.200",
         "latitude": 39.92890167,
         "longitude": 116.388298,
         "Country Name": "China, People's Republic of",
         "country_code": "CN",
         "city_name": "Beijing",
         "email": "GOPB@formation.fr",
         "_deepnote_index_column": 8
        },
        {
         "customerID": "49348",
         "gender": "nan",
         "birthdate": "05/08/1863",
         "ip_address": "73.224.218.131",
         "latitude": 38,
         "longitude": -97,
         "Country Name": "United States of America",
         "country_code": "US",
         "city_name": "nan",
         "email": "ORAO@formation.fr",
         "_deepnote_index_column": 9
        },
        {
         "customerID": "heb26i",
         "gender": "F",
         "birthdate": "1984-12-27 00:00:00",
         "ip_address": "62.188.236.61",
         "latitude": 51.5,
         "longitude": -0.129999995,
         "Country Name": "United Kingdom of Great Britain & Northern Ireland",
         "country_code": "GB",
         "city_name": "nan",
         "email": "RPOO@formation.fr",
         "_deepnote_index_column": 10
        },
        {
         "customerID": "989355",
         "gender": "M",
         "birthdate": "1983-05-25 00:00:00",
         "ip_address": "54.74.30.113",
         "latitude": 40.55250168,
         "longitude": -74.29149628,
         "Country Name": "United States of America",
         "country_code": "US",
         "city_name": "Woodbridge",
         "email": "CESI@formation.fr",
         "_deepnote_index_column": 11
        },
        {
         "customerID": "1b0lnt",
         "gender": "F",
         "birthdate": "1981-11-07 00:00:00",
         "ip_address": "117.228.120.81",
         "latitude": 18.5333004,
         "longitude": 73.86669922,
         "Country Name": "India, Republic of",
         "country_code": "IN",
         "city_name": "Poona",
         "email": "RKYX@formation.fr",
         "_deepnote_index_column": 12
        },
        {
         "customerID": "198773",
         "gender": "M",
         "birthdate": "1975-02-10 00:00:00",
         "ip_address": "89.132.174.122",
         "latitude": 47,
         "longitude": 20,
         "Country Name": "Hungary, Republic of",
         "country_code": "HU",
         "city_name": "nan",
         "email": "FVDF@formation.fr",
         "_deepnote_index_column": 13
        },
        {
         "customerID": "476084",
         "gender": "F",
         "birthdate": "1981-12-11 00:00:00",
         "ip_address": "46.236.43.51",
         "latitude": 51.5,
         "longitude": -0.129999995,
         "Country Name": "United Kingdom of Great Britain & Northern Ireland",
         "country_code": "GB",
         "city_name": "nan",
         "email": "IWHC@formation.fr",
         "_deepnote_index_column": 14
        },
        {
         "customerID": "907041",
         "gender": "F",
         "birthdate": "1965-10-16 00:00:00",
         "ip_address": "111.11.97.142",
         "latitude": 35,
         "longitude": 105,
         "Country Name": "China, People's Republic of",
         "country_code": "CN",
         "city_name": "nan",
         "email": "TUST@formation.fr",
         "_deepnote_index_column": 15
        },
        {
         "customerID": "399607",
         "gender": "M",
         "birthdate": "1940-02-05 00:00:00",
         "ip_address": "54.132.252.168",
         "latitude": 40.55250168,
         "longitude": -74.29149628,
         "Country Name": "United States of America",
         "country_code": "US",
         "city_name": "Woodbridge",
         "email": "KKZQ@formation.fr",
         "_deepnote_index_column": 16
        },
        {
         "customerID": "610587",
         "gender": "F",
         "birthdate": "1958-04-14 00:00:00",
         "ip_address": "68.193.147.154",
         "latitude": 40.5182991,
         "longitude": -74.39689636,
         "Country Name": "United States of America",
         "country_code": "US",
         "city_name": "Edison",
         "email": "QAJJ@formation.fr",
         "_deepnote_index_column": 17
        },
        {
         "customerID": "707341",
         "gender": "M",
         "birthdate": "1949-03-25 00:00:00",
         "ip_address": "42.40.60.189",
         "latitude": 37.5699997,
         "longitude": 126.9800034,
         "Country Name": "Korea, Republic of",
         "country_code": "KR",
         "city_name": "nan",
         "email": "CEES@formation.fr",
         "_deepnote_index_column": 18
        },
        {
         "customerID": "pq3m7c",
         "gender": "M",
         "birthdate": "1992-01-19 00:00:00",
         "ip_address": "97.77.88.191",
         "latitude": 38,
         "longitude": -97,
         "Country Name": "United States of America",
         "country_code": "US",
         "city_name": "nan",
         "email": "ZAIT@formation.fr",
         "_deepnote_index_column": 19
        },
        {
         "customerID": "0lkdil",
         "gender": "F",
         "birthdate": "1956-04-28 00:00:00",
         "ip_address": "85.133.57.170",
         "latitude": 51.5,
         "longitude": -0.129999995,
         "Country Name": "United Kingdom of Great Britain & Northern Ireland",
         "country_code": "GB",
         "city_name": "nan",
         "email": "SFOA@formation.fr",
         "_deepnote_index_column": 20
        },
        {
         "customerID": "318409",
         "gender": "M",
         "birthdate": "1990-08-01 00:00:00",
         "ip_address": "106.185.248.107",
         "latitude": 35.68999863,
         "longitude": 139.6900024,
         "Country Name": "Japan",
         "country_code": "JP",
         "city_name": "nan",
         "email": "VLFG@formation.fr",
         "_deepnote_index_column": 21
        },
        {
         "customerID": "964210",
         "gender": "F",
         "birthdate": "1999-05-15 00:00:00",
         "ip_address": "94.140.227.123",
         "latitude": 61.79610062,
         "longitude": 34.34930039,
         "Country Name": "Russian Federation",
         "country_code": "RU",
         "city_name": "Petrozavodsk",
         "email": "MVNN@formation.fr",
         "_deepnote_index_column": 22
        },
        {
         "customerID": "162811",
         "gender": "M",
         "birthdate": "1958-12-03 00:00:00",
         "ip_address": "68.222.89.120",
         "latitude": 38,
         "longitude": -97,
         "Country Name": "United States of America",
         "country_code": "US",
         "city_name": "nan",
         "email": "AYLJ@formation.fr",
         "_deepnote_index_column": 23
        },
        {
         "customerID": "760379",
         "gender": "nan",
         "birthdate": "1980-12-20 00:00:00",
         "ip_address": "41.86.4.152",
         "latitude": 6.5,
         "longitude": -9.5,
         "Country Name": "Liberia, Republic of",
         "country_code": "LR",
         "city_name": "nan",
         "email": "JZDM@formation.fr",
         "_deepnote_index_column": 24
        },
        {
         "customerID": "710433",
         "gender": "F",
         "birthdate": "1953-02-06 00:00:00",
         "ip_address": "108.65.196.22",
         "latitude": 37.92549896,
         "longitude": -122.3436966,
         "Country Name": "United States of America",
         "country_code": "US",
         "city_name": "Richmond",
         "email": "AJXD@formation.fr",
         "_deepnote_index_column": 25
        },
        {
         "customerID": "kuqsq1",
         "gender": "F",
         "birthdate": "1951-05-09 00:00:00",
         "ip_address": "119.206.205.10",
         "latitude": 37.5699997,
         "longitude": 126.9800034,
         "Country Name": "Korea, Republic of",
         "country_code": "KR",
         "city_name": "nan",
         "email": "MXWF@formation.fr",
         "_deepnote_index_column": 26
        },
        {
         "customerID": "bv8gw3",
         "gender": "nan",
         "birthdate": "1961-07-21 00:00:00",
         "ip_address": "105.168.97.144",
         "latitude": -12.5,
         "longitude": 18.5,
         "Country Name": "Angola, Republic of",
         "country_code": "AO",
         "city_name": "nan",
         "email": "RRTY@formation.fr",
         "_deepnote_index_column": 27
        },
        {
         "customerID": "3uouz3",
         "gender": "nan",
         "birthdate": "1952-01-25 00:00:00",
         "ip_address": "96.38.37.136",
         "latitude": 36.16279984,
         "longitude": -85.50160217,
         "Country Name": "United States of America",
         "country_code": "US",
         "city_name": "Cookeville",
         "email": "BYSN@formation.fr",
         "_deepnote_index_column": 28
        },
        {
         "customerID": "grd2ue",
         "gender": "nan",
         "birthdate": "1959-08-30 00:00:00",
         "ip_address": "42.6.129.239",
         "latitude": 41.79219818,
         "longitude": 123.4328003,
         "Country Name": "China, People's Republic of",
         "country_code": "CN",
         "city_name": "Shenyang",
         "email": "PCGM@formation.fr",
         "_deepnote_index_column": 29
        },
        {
         "customerID": "495119",
         "gender": "M",
         "birthdate": "1972-06-13 00:00:00",
         "ip_address": "48.219.86.43",
         "latitude": 40.73550034,
         "longitude": -74.17410278,
         "Country Name": "United States of America",
         "country_code": "US",
         "city_name": "Newark",
         "email": "DIYX@formation.fr",
         "_deepnote_index_column": 30
        },
        {
         "customerID": "vz1jgr",
         "gender": "F",
         "birthdate": "1960-08-27 00:00:00",
         "ip_address": "90.193.117.36",
         "latitude": 52.65530014,
         "longitude": -1.117599964,
         "Country Name": "United Kingdom of Great Britain & Northern Ireland",
         "country_code": "GB",
         "city_name": "Leicester",
         "email": "QQKR@formation.fr",
         "_deepnote_index_column": 31
        },
        {
         "customerID": "75826",
         "gender": "M",
         "birthdate": "1958-09-26 00:00:00",
         "ip_address": "68.182.191.106",
         "latitude": 60,
         "longitude": -95,
         "Country Name": "Canada",
         "country_code": "CA",
         "city_name": "nan",
         "email": "WPHO@formation.fr",
         "_deepnote_index_column": 32
        },
        {
         "customerID": "958838",
         "gender": "M",
         "birthdate": "1945-07-14 00:00:00",
         "ip_address": "76.227.12.85",
         "latitude": 38,
         "longitude": -97,
         "Country Name": "United States of America",
         "country_code": "US",
         "city_name": "nan",
         "email": "DFJL@formation.fr",
         "_deepnote_index_column": 33
        },
        {
         "customerID": "301810",
         "gender": "M",
         "birthdate": "1972-10-21 00:00:00",
         "ip_address": "107.30.196.57",
         "latitude": 32.91260147,
         "longitude": -96.63890076,
         "Country Name": "United States of America",
         "country_code": "US",
         "city_name": "Garland",
         "email": "PUXT@formation.fr",
         "_deepnote_index_column": 34
        },
        {
         "customerID": "917138",
         "gender": "F",
         "birthdate": "1974-03-14 00:00:00",
         "ip_address": "120.113.128.63",
         "latitude": 25.03919983,
         "longitude": 121.5250015,
         "Country Name": "Taiwan",
         "country_code": "TW",
         "city_name": "Taipei",
         "email": "TMIL@formation.fr",
         "_deepnote_index_column": 35
        },
        {
         "customerID": "lby2fl",
         "gender": "M",
         "birthdate": "1975-04-03 00:00:00",
         "ip_address": "124.32.128.98",
         "latitude": 35.68500137,
         "longitude": 139.7514038,
         "Country Name": "Japan",
         "country_code": "JP",
         "city_name": "Tokyo",
         "email": "LJIF@formation.fr",
         "_deepnote_index_column": 36
        },
        {
         "customerID": "797630",
         "gender": "F",
         "birthdate": "1940-01-28 00:00:00",
         "ip_address": "108.166.218.213",
         "latitude": 34.40650177,
         "longitude": -118.4014969,
         "Country Name": "United States of America",
         "country_code": "US",
         "city_name": "Canyon Country",
         "email": "ITYW@formation.fr",
         "_deepnote_index_column": 37
        },
        {
         "customerID": "moudrf",
         "gender": "F",
         "birthdate": "1961-06-02 00:00:00",
         "ip_address": "88.14.192.97",
         "latitude": 36.50830078,
         "longitude": -4.8822999,
         "Country Name": "Spain, Kingdom of",
         "country_code": "ES",
         "city_name": "Marbella",
         "email": "KVYA@formation.fr",
         "_deepnote_index_column": 38
        },
        {
         "customerID": "116680",
         "gender": "F",
         "birthdate": "1952-10-26 00:00:00",
         "ip_address": "76.234.216.141",
         "latitude": 38,
         "longitude": -97,
         "Country Name": "United States of America",
         "country_code": "US",
         "city_name": "nan",
         "email": "YUPV@formation.fr",
         "_deepnote_index_column": 39
        },
        {
         "customerID": "5j3r5q",
         "gender": "F",
         "birthdate": "1975-05-14 00:00:00",
         "ip_address": "93.23.227.254",
         "latitude": 45.87340164,
         "longitude": 0.717599988,
         "Country Name": "France, French Republic",
         "country_code": "FR",
         "city_name": "Chabanais",
         "email": "GJNS@formation.fr",
         "_deepnote_index_column": 40
        },
        {
         "customerID": "882780",
         "gender": "M",
         "birthdate": "1978-06-08 00:00:00",
         "ip_address": "109.98.122.161",
         "latitude": 46,
         "longitude": 25,
         "Country Name": "Romania",
         "country_code": "RO",
         "city_name": "nan",
         "email": "BDBF@formation.fr",
         "_deepnote_index_column": 41
        },
        {
         "customerID": "qgqhv6",
         "gender": "F",
         "birthdate": "1976-09-07 00:00:00",
         "ip_address": "81.205.44.112",
         "latitude": 52.2195015,
         "longitude": 6.891200066,
         "Country Name": "Netherlands, Kingdom of the",
         "country_code": "NL",
         "city_name": "Enschede",
         "email": "YIBH@formation.fr",
         "_deepnote_index_column": 42
        },
        {
         "customerID": "ar83mg",
         "gender": "F",
         "birthdate": "1945-10-19 00:00:00",
         "ip_address": "72.136.210.248",
         "latitude": 43.6391983,
         "longitude": -79.40579987,
         "Country Name": "Canada",
         "country_code": "CA",
         "city_name": "Toronto",
         "email": "NHEA@formation.fr",
         "_deepnote_index_column": 43
        },
        {
         "customerID": "442064",
         "gender": "M",
         "birthdate": "03/02/1853",
         "ip_address": "47.232.4.211",
         "latitude": 45.39899826,
         "longitude": -75.73040009,
         "Country Name": "Canada",
         "country_code": "CA",
         "city_name": "Ottawa",
         "email": "YDED@formation.fr",
         "_deepnote_index_column": 44
        },
        {
         "customerID": "286810",
         "gender": "nan",
         "birthdate": "1992-03-06 00:00:00",
         "ip_address": "71.94.55.227",
         "latitude": 35.38479996,
         "longitude": -120.7845001,
         "Country Name": "United States of America",
         "country_code": "US",
         "city_name": "Morro Bay",
         "email": "HWNP@formation.fr",
         "_deepnote_index_column": 45
        },
        {
         "customerID": "273332",
         "gender": "F",
         "birthdate": "1959-05-22 00:00:00",
         "ip_address": "91.24.241.127",
         "latitude": 51,
         "longitude": 9,
         "Country Name": "Germany, Federal Republic of",
         "country_code": "DE",
         "city_name": "nan",
         "email": "RJNX@formation.fr",
         "_deepnote_index_column": 46
        },
        {
         "customerID": "916341",
         "gender": "M",
         "birthdate": "09/06/1857",
         "ip_address": "67.134.114.240",
         "latitude": 38,
         "longitude": -97,
         "Country Name": "United States of America",
         "country_code": "US",
         "city_name": "nan",
         "email": "GQMD@formation.fr",
         "_deepnote_index_column": 47
        },
        {
         "customerID": "481997",
         "gender": "F",
         "birthdate": "1992-07-21 00:00:00",
         "ip_address": "98.44.244.186",
         "latitude": 38,
         "longitude": -97,
         "Country Name": "United States of America",
         "country_code": "US",
         "city_name": "nan",
         "email": "JNGG@formation.fr",
         "_deepnote_index_column": 48
        },
        {
         "customerID": "877835",
         "gender": "F",
         "birthdate": "1960-07-01 00:00:00",
         "ip_address": "110.51.179.152",
         "latitude": 37.72689819,
         "longitude": 112.4708023,
         "Country Name": "China, People's Republic of",
         "country_code": "CN",
         "city_name": "Taiyuan",
         "email": "NYZB@formation.fr",
         "_deepnote_index_column": 49
        }
       ],
       "rows_bottom": [
        {
         "customerID": "891256",
         "gender": "F",
         "birthdate": "1965-12-21 00:00:00",
         "ip_address": "79.70.143.22",
         "latitude": 51.5,
         "longitude": -0.129999995,
         "Country Name": "United Kingdom of Great Britain & Northern Ireland",
         "country_code": "GB",
         "city_name": "nan",
         "email": "CUYW@formation.fr",
         "_deepnote_index_column": 2636
        },
        {
         "customerID": "871514",
         "gender": "F",
         "birthdate": "1967-05-11 00:00:00",
         "ip_address": "85.188.217.99",
         "latitude": 51.5,
         "longitude": -0.129999995,
         "Country Name": "United Kingdom of Great Britain & Northern Ireland",
         "country_code": "GB",
         "city_name": "nan",
         "email": "PRFS@formation.fr",
         "_deepnote_index_column": 2637
        },
        {
         "customerID": "610789",
         "gender": "F",
         "birthdate": "1953-09-23 00:00:00",
         "ip_address": "90.119.82.44",
         "latitude": 48.86000061,
         "longitude": 2.349999905,
         "Country Name": "France, French Republic",
         "country_code": "FR",
         "city_name": "nan",
         "email": "ZXQJ@formation.fr",
         "_deepnote_index_column": 2638
        },
        {
         "customerID": "999122",
         "gender": "F",
         "birthdate": "1972-07-05 00:00:00",
         "ip_address": "95.13.11.95",
         "latitude": 39,
         "longitude": 35,
         "Country Name": "Turkey, Republic of",
         "country_code": "TR",
         "city_name": "nan",
         "email": "WDMU@formation.fr",
         "_deepnote_index_column": 2639
        },
        {
         "customerID": "161996",
         "gender": "F",
         "birthdate": "1953-08-15 00:00:00",
         "ip_address": "79.153.249.58",
         "latitude": 39.46020126,
         "longitude": -0.371699989,
         "Country Name": "Spain, Kingdom of",
         "country_code": "ES",
         "city_name": "Valencia",
         "email": "PLEW@formation.fr",
         "_deepnote_index_column": 2640
        },
        {
         "customerID": "919524",
         "gender": "F",
         "birthdate": "1952-07-22 00:00:00",
         "ip_address": "79.163.210.188",
         "latitude": 52,
         "longitude": 20,
         "Country Name": "Poland, Republic of",
         "country_code": "PL",
         "city_name": "nan",
         "email": "QOZI@formation.fr",
         "_deepnote_index_column": 2641
        },
        {
         "customerID": "771508",
         "gender": "F",
         "birthdate": "31/07/1880",
         "ip_address": "92.217.85.40",
         "latitude": 51,
         "longitude": 9,
         "Country Name": "Germany, Federal Republic of",
         "country_code": "DE",
         "city_name": "nan",
         "email": "KBYK@formation.fr",
         "_deepnote_index_column": 2642
        },
        {
         "customerID": "109153",
         "gender": "F",
         "birthdate": "1945-01-26 00:00:00",
         "ip_address": "82.73.119.246",
         "latitude": 52.9897995,
         "longitude": 6.293399811,
         "Country Name": "Netherlands, Kingdom of the",
         "country_code": "NL",
         "city_name": "Oosterwolde",
         "email": "JWZE@formation.fr",
         "_deepnote_index_column": 2643
        },
        {
         "customerID": "425073",
         "gender": "F",
         "birthdate": "1966-01-29 00:00:00",
         "ip_address": "46.17.103.61",
         "latitude": 60,
         "longitude": 100,
         "Country Name": "Russian Federation",
         "country_code": "RU",
         "city_name": "nan",
         "email": "URLI@formation.fr",
         "_deepnote_index_column": 2644
        },
        {
         "customerID": "186535",
         "gender": "F",
         "birthdate": "1964-03-29 00:00:00",
         "ip_address": "80.171.98.164",
         "latitude": 53.47029877,
         "longitude": 9.893300056,
         "Country Name": "Germany, Federal Republic of",
         "country_code": "DE",
         "city_name": "Hamburg",
         "email": "GHRK@formation.fr",
         "_deepnote_index_column": 2645
        },
        {
         "customerID": "46ejdd",
         "gender": "F",
         "birthdate": "23/08/1850",
         "ip_address": "79.19.215.13",
         "latitude": 42.83330154,
         "longitude": 12.83329964,
         "Country Name": "Italy, Italian Republic",
         "country_code": "IT",
         "city_name": "nan",
         "email": "OXRV@formation.fr",
         "_deepnote_index_column": 2646
        },
        {
         "customerID": "sszvy6",
         "gender": "F",
         "birthdate": "1951-06-08 00:00:00",
         "ip_address": "85.39.130.214",
         "latitude": 42.83330154,
         "longitude": 12.83329964,
         "Country Name": "Italy, Italian Republic",
         "country_code": "IT",
         "city_name": "nan",
         "email": "GUIX@formation.fr",
         "_deepnote_index_column": 2647
        },
        {
         "customerID": "4lvxl7",
         "gender": "F",
         "birthdate": "1951-07-30 00:00:00",
         "ip_address": "78.141.137.139",
         "latitude": 49.75,
         "longitude": 6.166699886,
         "Country Name": "Luxembourg, Grand Duchy of",
         "country_code": "LU",
         "city_name": "nan",
         "email": "HSMN@formation.fr",
         "_deepnote_index_column": 2648
        },
        {
         "customerID": "58162",
         "gender": "F",
         "birthdate": "1976-01-13 00:00:00",
         "ip_address": "109.90.224.154",
         "latitude": 51,
         "longitude": 9,
         "Country Name": "Germany, Federal Republic of",
         "country_code": "DE",
         "city_name": "nan",
         "email": "BJUG@formation.fr",
         "_deepnote_index_column": 2649
        },
        {
         "customerID": "phql6x",
         "gender": "F",
         "birthdate": "1963-03-16 00:00:00",
         "ip_address": "44.130.26.250",
         "latitude": 51,
         "longitude": 9,
         "Country Name": "Germany, Federal Republic of",
         "country_code": "DE",
         "city_name": "nan",
         "email": "YDBI@formation.fr",
         "_deepnote_index_column": 2650
        },
        {
         "customerID": "573700",
         "gender": "F",
         "birthdate": "1958-09-24 00:00:00",
         "ip_address": "86.80.17.192",
         "latitude": 50.86740112,
         "longitude": 6.066100121,
         "Country Name": "Netherlands, Kingdom of the",
         "country_code": "NL",
         "city_name": "Kerkrade",
         "email": "VVXY@formation.fr",
         "_deepnote_index_column": 2651
        },
        {
         "customerID": "235362",
         "gender": "F",
         "birthdate": "1963-04-13 00:00:00",
         "ip_address": "81.196.119.21",
         "latitude": 44.43330002,
         "longitude": 26.10000038,
         "Country Name": "Romania",
         "country_code": "RO",
         "city_name": "Bucharest",
         "email": "SFWO@formation.fr",
         "_deepnote_index_column": 2652
        },
        {
         "customerID": "20902",
         "gender": "F",
         "birthdate": "1951-04-09 00:00:00",
         "ip_address": "84.175.4.246",
         "latitude": 51,
         "longitude": 9,
         "Country Name": "Germany, Federal Republic of",
         "country_code": "DE",
         "city_name": "nan",
         "email": "VIJP@formation.fr",
         "_deepnote_index_column": 2653
        },
        {
         "customerID": "5604",
         "gender": "F",
         "birthdate": "1943-06-12 00:00:00",
         "ip_address": "95.146.168.184",
         "latitude": 51.58599854,
         "longitude": -0.104699999,
         "Country Name": "United Kingdom of Great Britain & Northern Ireland",
         "country_code": "GB",
         "city_name": "London",
         "email": "SNOD@formation.fr",
         "_deepnote_index_column": 2654
        },
        {
         "customerID": "910971",
         "gender": "F",
         "birthdate": "1946-04-27 00:00:00",
         "ip_address": "82.215.153.37",
         "latitude": 42.83330154,
         "longitude": 12.83329964,
         "Country Name": "Italy, Italian Republic",
         "country_code": "IT",
         "city_name": "nan",
         "email": "HRJD@formation.fr",
         "_deepnote_index_column": 2655
        },
        {
         "customerID": "u9np6l",
         "gender": "F",
         "birthdate": "1944-04-22 00:00:00",
         "ip_address": "89.15.195.28",
         "latitude": 49.86420059,
         "longitude": 8.14109993,
         "Country Name": "Germany, Federal Republic of",
         "country_code": "DE",
         "city_name": "Ober-saulheim",
         "email": "LVRQ@formation.fr",
         "_deepnote_index_column": 2656
        },
        {
         "customerID": "cca99v",
         "gender": "F",
         "birthdate": "1959-04-08 00:00:00",
         "ip_address": "93.135.186.21",
         "latitude": 48.15000153,
         "longitude": 11.58329964,
         "Country Name": "Germany, Federal Republic of",
         "country_code": "DE",
         "city_name": "Munich",
         "email": "ZIBD@formation.fr",
         "_deepnote_index_column": 2657
        },
        {
         "customerID": "zilrk7",
         "gender": "F",
         "birthdate": "1994-10-07 00:00:00",
         "ip_address": "46.104.220.8",
         "latitude": 39,
         "longitude": 35,
         "Country Name": "Turkey, Republic of",
         "country_code": "TR",
         "city_name": "nan",
         "email": "AWFA@formation.fr",
         "_deepnote_index_column": 2658
        },
        {
         "customerID": "zx1r2v",
         "gender": "F",
         "birthdate": "1975-06-29 00:00:00",
         "ip_address": "84.250.40.107",
         "latitude": 60.45000076,
         "longitude": 22.2833004,
         "Country Name": "Finland, Republic of",
         "country_code": "FI",
         "city_name": "Turku",
         "email": "MGZY@formation.fr",
         "_deepnote_index_column": 2659
        },
        {
         "customerID": "856425",
         "gender": "F",
         "birthdate": "1945-02-21 00:00:00",
         "ip_address": "85.200.70.215",
         "latitude": 62,
         "longitude": 10,
         "Country Name": "Norway, Kingdom of",
         "country_code": "NO",
         "city_name": "nan",
         "email": "QJQA@formation.fr",
         "_deepnote_index_column": 2660
        },
        {
         "customerID": "910883",
         "gender": "F",
         "birthdate": "1953-03-06 00:00:00",
         "ip_address": "88.39.97.192",
         "latitude": 42.83330154,
         "longitude": 12.83329964,
         "Country Name": "Italy, Italian Republic",
         "country_code": "IT",
         "city_name": "nan",
         "email": "BGAM@formation.fr",
         "_deepnote_index_column": 2661
        },
        {
         "customerID": "893564",
         "gender": "F",
         "birthdate": "1966-08-12 00:00:00",
         "ip_address": "82.254.48.65",
         "latitude": 48.86000061,
         "longitude": 2.349999905,
         "Country Name": "France, French Republic",
         "country_code": "FR",
         "city_name": "nan",
         "email": "DUCA@formation.fr",
         "_deepnote_index_column": 2662
        },
        {
         "customerID": "352641",
         "gender": "F",
         "birthdate": "1953-08-03 00:00:00",
         "ip_address": "92.142.44.142",
         "latitude": 48.30070114,
         "longitude": 4.085199833,
         "Country Name": "France, French Republic",
         "country_code": "FR",
         "city_name": "Troyes",
         "email": "FOQY@formation.fr",
         "_deepnote_index_column": 2663
        },
        {
         "customerID": "883912",
         "gender": "F",
         "birthdate": "1999-04-30 00:00:00",
         "ip_address": "80.50.250.57",
         "latitude": 52.5931015,
         "longitude": 19.08939934,
         "Country Name": "Poland, Republic of",
         "country_code": "PL",
         "city_name": "Polska",
         "email": "YHGS@formation.fr",
         "_deepnote_index_column": 2664
        },
        {
         "customerID": "3ux5eu",
         "gender": "F",
         "birthdate": "1945-01-20 00:00:00",
         "ip_address": "90.79.250.197",
         "latitude": 48.86000061,
         "longitude": 2.349999905,
         "Country Name": "France, French Republic",
         "country_code": "FR",
         "city_name": "nan",
         "email": "QNVH@formation.fr",
         "_deepnote_index_column": 2665
        },
        {
         "customerID": "623721",
         "gender": "F",
         "birthdate": "1992-04-28 00:00:00",
         "ip_address": "94.163.12.141",
         "latitude": 45.23329926,
         "longitude": 11.64999962,
         "Country Name": "Italy, Italian Republic",
         "country_code": "IT",
         "city_name": "Este",
         "email": "AYBF@formation.fr",
         "_deepnote_index_column": 2666
        },
        {
         "customerID": "296000",
         "gender": "F",
         "birthdate": "1967-09-16 00:00:00",
         "ip_address": "87.233.211.11",
         "latitude": 52.5,
         "longitude": 5.75,
         "Country Name": "Netherlands, Kingdom of the",
         "country_code": "NL",
         "city_name": "nan",
         "email": "HXJU@formation.fr",
         "_deepnote_index_column": 2667
        },
        {
         "customerID": "923959",
         "gender": "F",
         "birthdate": "1978-01-14 00:00:00",
         "ip_address": "51.189.17.34",
         "latitude": 51.5,
         "longitude": -0.129999995,
         "Country Name": "United Kingdom of Great Britain & Northern Ireland",
         "country_code": "GB",
         "city_name": "nan",
         "email": "RSNU@formation.fr",
         "_deepnote_index_column": 2668
        },
        {
         "customerID": "572126",
         "gender": "F",
         "birthdate": "1992-03-25 00:00:00",
         "ip_address": "91.242.135.237",
         "latitude": 47.00559998,
         "longitude": 28.85750008,
         "Country Name": "Moldova, Republic of",
         "country_code": "MD",
         "city_name": "Chisinau",
         "email": "OZPO@formation.fr",
         "_deepnote_index_column": 2669
        },
        {
         "customerID": "650805",
         "gender": "F",
         "birthdate": "1944-03-17 00:00:00",
         "ip_address": "85.98.189.54",
         "latitude": 39.9117012,
         "longitude": 32.84030151,
         "Country Name": "Turkey, Republic of",
         "country_code": "TR",
         "city_name": "Ankara",
         "email": "WNRU@formation.fr",
         "_deepnote_index_column": 2670
        },
        {
         "customerID": "741097",
         "gender": "F",
         "birthdate": "1964-09-15 00:00:00",
         "ip_address": "109.34.10.147",
         "latitude": 52.5,
         "longitude": 5.75,
         "Country Name": "Netherlands, Kingdom of the",
         "country_code": "NL",
         "city_name": "nan",
         "email": "LPLF@formation.fr",
         "_deepnote_index_column": 2671
        },
        {
         "customerID": "lehnba",
         "gender": "F",
         "birthdate": "1962-07-08 00:00:00",
         "ip_address": "93.161.5.163",
         "latitude": 55.66230011,
         "longitude": 12.33510017,
         "Country Name": "Denmark, Kingdom of",
         "country_code": "DK",
         "city_name": "Albertslund",
         "email": "LWKL@formation.fr",
         "_deepnote_index_column": 2672
        },
        {
         "customerID": "516630",
         "gender": "F",
         "birthdate": "1962-05-14 00:00:00",
         "ip_address": "90.194.214.12",
         "latitude": 51.60409927,
         "longitude": -0.063600004,
         "Country Name": "United Kingdom of Great Britain & Northern Ireland",
         "country_code": "GB",
         "city_name": "London",
         "email": "IZXF@formation.fr",
         "_deepnote_index_column": 2673
        },
        {
         "customerID": "846287",
         "gender": "F",
         "birthdate": "1945-12-14 00:00:00",
         "ip_address": "53.83.144.177",
         "latitude": 51,
         "longitude": 9,
         "Country Name": "Germany, Federal Republic of",
         "country_code": "DE",
         "city_name": "nan",
         "email": "SCSI@formation.fr",
         "_deepnote_index_column": 2674
        },
        {
         "customerID": "758881",
         "gender": "F",
         "birthdate": "1955-07-17 00:00:00",
         "ip_address": "53.22.18.146",
         "latitude": 51,
         "longitude": 9,
         "Country Name": "Germany, Federal Republic of",
         "country_code": "DE",
         "city_name": "nan",
         "email": "OXIY@formation.fr",
         "_deepnote_index_column": 2675
        },
        {
         "customerID": "424426",
         "gender": "F",
         "birthdate": "1947-04-27 00:00:00",
         "ip_address": "80.220.50.181",
         "latitude": 64,
         "longitude": 26,
         "Country Name": "Finland, Republic of",
         "country_code": "FI",
         "city_name": "nan",
         "email": "CAOX@formation.fr",
         "_deepnote_index_column": 2676
        },
        {
         "customerID": "259250",
         "gender": "F",
         "birthdate": "1947-06-11 00:00:00",
         "ip_address": "79.72.252.171",
         "latitude": 51.5,
         "longitude": -0.129999995,
         "Country Name": "United Kingdom of Great Britain & Northern Ireland",
         "country_code": "GB",
         "city_name": "nan",
         "email": "RKRF@formation.fr",
         "_deepnote_index_column": 2677
        },
        {
         "customerID": "ad5pj4",
         "gender": "F",
         "birthdate": "1950-05-09 00:00:00",
         "ip_address": "94.30.104.239",
         "latitude": 53.65000153,
         "longitude": -1.783300042,
         "Country Name": "United Kingdom of Great Britain & Northern Ireland",
         "country_code": "GB",
         "city_name": "Huddersfield",
         "email": "UYJY@formation.fr",
         "_deepnote_index_column": 2678
        },
        {
         "customerID": "916523",
         "gender": "F",
         "birthdate": "1954-09-15 00:00:00",
         "ip_address": "88.77.191.99",
         "latitude": 50.43600082,
         "longitude": 7.373000145,
         "Country Name": "Germany, Federal Republic of",
         "country_code": "DE",
         "city_name": "Andernach",
         "email": "ZCLX@formation.fr",
         "_deepnote_index_column": 2679
        },
        {
         "customerID": "608127",
         "gender": "F",
         "birthdate": "1950-06-09 00:00:00",
         "ip_address": "109.145.160.104",
         "latitude": 52.98759842,
         "longitude": -1.17110002,
         "Country Name": "United Kingdom of Great Britain & Northern Ireland",
         "country_code": "GB",
         "city_name": "Nottingham",
         "email": "VXHM@formation.fr",
         "_deepnote_index_column": 2680
        },
        {
         "customerID": "363790",
         "gender": "F",
         "birthdate": "1947-02-24 00:00:00",
         "ip_address": "91.44.228.132",
         "latitude": 48.76670075,
         "longitude": 9.183300018,
         "Country Name": "Germany, Federal Republic of",
         "country_code": "DE",
         "city_name": "Stuttgart",
         "email": "ABHK@formation.fr",
         "_deepnote_index_column": 2681
        },
        {
         "customerID": "399318",
         "gender": "F",
         "birthdate": "25/03/1848",
         "ip_address": "85.249.156.141",
         "latitude": 60,
         "longitude": 100,
         "Country Name": "Russian Federation",
         "country_code": "RU",
         "city_name": "nan",
         "email": "USQB@formation.fr",
         "_deepnote_index_column": 2682
        },
        {
         "customerID": "433300",
         "gender": "F",
         "birthdate": "1968-06-25 00:00:00",
         "ip_address": "86.195.158.226",
         "latitude": 49.00159836,
         "longitude": 2.096899986,
         "Country Name": "France, French Republic",
         "country_code": "FR",
         "city_name": "Conflans-sainte-honorine",
         "email": "CTJD@formation.fr",
         "_deepnote_index_column": 2683
        },
        {
         "customerID": "49290",
         "gender": "F",
         "birthdate": "1953-10-06 00:00:00",
         "ip_address": "81.139.81.23",
         "latitude": 51.78329849,
         "longitude": 0.166700006,
         "Country Name": "United Kingdom of Great Britain & Northern Ireland",
         "country_code": "GB",
         "city_name": "Harlow",
         "email": "KMKX@formation.fr",
         "_deepnote_index_column": 2684
        },
        {
         "customerID": "f1wvaf",
         "gender": "F",
         "birthdate": "1954-06-13 00:00:00",
         "ip_address": "51.8.120.254",
         "latitude": 51.5,
         "longitude": -0.129999995,
         "Country Name": "United Kingdom of Great Britain & Northern Ireland",
         "country_code": "GB",
         "city_name": "nan",
         "email": "DWRV@formation.fr",
         "_deepnote_index_column": 2685
        }
       ]
      },
      "text/plain": "     customerID gender            birthdate      ip_address   latitude  \\\n0         38040      F  1946-12-21 00:00:00   67.74.254.174  38.000000   \n1        vft1eu      F  1969-06-27 00:00:00    53.115.6.106  51.000000   \n2        914324      F  1959-10-22 00:00:00    51.99.199.27  51.500000   \n3         61311      F  1941-03-28 00:00:00  79.242.189.178  51.000000   \n4        494332      F  1961-04-08 00:00:00   66.27.205.106  34.145302   \n...         ...    ...                  ...             ...        ...   \n2681     363790      F  1947-02-24 00:00:00   91.44.228.132  48.766701   \n2682     399318      F           25/03/1848  85.249.156.141  60.000000   \n2683     433300      F  1968-06-25 00:00:00  86.195.158.226  49.001598   \n2684      49290      F  1953-10-06 00:00:00    81.139.81.23  51.783298   \n2685     f1wvaf      F  1954-06-13 00:00:00    51.8.120.254  51.500000   \n\n      longitude                                       Country Name  \\\n0      -97.0000                           United States of America   \n1        9.0000                       Germany, Federal Republic of   \n2       -0.1300  United Kingdom of Great Britain & Northern Ire...   \n3        9.0000                       Germany, Federal Republic of   \n4     -119.1091                           United States of America   \n...         ...                                                ...   \n2681     9.1833                       Germany, Federal Republic of   \n2682   100.0000                                 Russian Federation   \n2683     2.0969                            France, French Republic   \n2684     0.1667  United Kingdom of Great Britain & Northern Ire...   \n2685    -0.1300  United Kingdom of Great Britain & Northern Ire...   \n\n     country_code                 city_name              email  \n0              US                       NaN  XOQM@formation.fr  \n1              DE                       NaN  HEOX@formation.fr  \n2              GB                       NaN  OHVP@formation.fr  \n3              DE                       NaN  FCOY@formation.fr  \n4              US                    Oxnard  RYNS@formation.fr  \n...           ...                       ...                ...  \n2681           DE                 Stuttgart  ABHK@formation.fr  \n2682           RU                       NaN  USQB@formation.fr  \n2683           FR  Conflans-sainte-honorine  CTJD@formation.fr  \n2684           GB                    Harlow  KMKX@formation.fr  \n2685           GB                       NaN  DWRV@formation.fr  \n\n[2686 rows x 10 columns]",
      "text/html": "<div>\n<style scoped>\n    .dataframe tbody tr th:only-of-type {\n        vertical-align: middle;\n    }\n\n    .dataframe tbody tr th {\n        vertical-align: top;\n    }\n\n    .dataframe thead th {\n        text-align: right;\n    }\n</style>\n<table border=\"1\" class=\"dataframe\">\n  <thead>\n    <tr style=\"text-align: right;\">\n      <th></th>\n      <th>customerID</th>\n      <th>gender</th>\n      <th>birthdate</th>\n      <th>ip_address</th>\n      <th>latitude</th>\n      <th>longitude</th>\n      <th>Country Name</th>\n      <th>country_code</th>\n      <th>city_name</th>\n      <th>email</th>\n    </tr>\n  </thead>\n  <tbody>\n    <tr>\n      <th>0</th>\n      <td>38040</td>\n      <td>F</td>\n      <td>1946-12-21 00:00:00</td>\n      <td>67.74.254.174</td>\n      <td>38.000000</td>\n      <td>-97.0000</td>\n      <td>United States of America</td>\n      <td>US</td>\n      <td>NaN</td>\n      <td>XOQM@formation.fr</td>\n    </tr>\n    <tr>\n      <th>1</th>\n      <td>vft1eu</td>\n      <td>F</td>\n      <td>1969-06-27 00:00:00</td>\n      <td>53.115.6.106</td>\n      <td>51.000000</td>\n      <td>9.0000</td>\n      <td>Germany, Federal Republic of</td>\n      <td>DE</td>\n      <td>NaN</td>\n      <td>HEOX@formation.fr</td>\n    </tr>\n    <tr>\n      <th>2</th>\n      <td>914324</td>\n      <td>F</td>\n      <td>1959-10-22 00:00:00</td>\n      <td>51.99.199.27</td>\n      <td>51.500000</td>\n      <td>-0.1300</td>\n      <td>United Kingdom of Great Britain &amp; Northern Ire...</td>\n      <td>GB</td>\n      <td>NaN</td>\n      <td>OHVP@formation.fr</td>\n    </tr>\n    <tr>\n      <th>3</th>\n      <td>61311</td>\n      <td>F</td>\n      <td>1941-03-28 00:00:00</td>\n      <td>79.242.189.178</td>\n      <td>51.000000</td>\n      <td>9.0000</td>\n      <td>Germany, Federal Republic of</td>\n      <td>DE</td>\n      <td>NaN</td>\n      <td>FCOY@formation.fr</td>\n    </tr>\n    <tr>\n      <th>4</th>\n      <td>494332</td>\n      <td>F</td>\n      <td>1961-04-08 00:00:00</td>\n      <td>66.27.205.106</td>\n      <td>34.145302</td>\n      <td>-119.1091</td>\n      <td>United States of America</td>\n      <td>US</td>\n      <td>Oxnard</td>\n      <td>RYNS@formation.fr</td>\n    </tr>\n    <tr>\n      <th>...</th>\n      <td>...</td>\n      <td>...</td>\n      <td>...</td>\n      <td>...</td>\n      <td>...</td>\n      <td>...</td>\n      <td>...</td>\n      <td>...</td>\n      <td>...</td>\n      <td>...</td>\n    </tr>\n    <tr>\n      <th>2681</th>\n      <td>363790</td>\n      <td>F</td>\n      <td>1947-02-24 00:00:00</td>\n      <td>91.44.228.132</td>\n      <td>48.766701</td>\n      <td>9.1833</td>\n      <td>Germany, Federal Republic of</td>\n      <td>DE</td>\n      <td>Stuttgart</td>\n      <td>ABHK@formation.fr</td>\n    </tr>\n    <tr>\n      <th>2682</th>\n      <td>399318</td>\n      <td>F</td>\n      <td>25/03/1848</td>\n      <td>85.249.156.141</td>\n      <td>60.000000</td>\n      <td>100.0000</td>\n      <td>Russian Federation</td>\n      <td>RU</td>\n      <td>NaN</td>\n      <td>USQB@formation.fr</td>\n    </tr>\n    <tr>\n      <th>2683</th>\n      <td>433300</td>\n      <td>F</td>\n      <td>1968-06-25 00:00:00</td>\n      <td>86.195.158.226</td>\n      <td>49.001598</td>\n      <td>2.0969</td>\n      <td>France, French Republic</td>\n      <td>FR</td>\n      <td>Conflans-sainte-honorine</td>\n      <td>CTJD@formation.fr</td>\n    </tr>\n    <tr>\n      <th>2684</th>\n      <td>49290</td>\n      <td>F</td>\n      <td>1953-10-06 00:00:00</td>\n      <td>81.139.81.23</td>\n      <td>51.783298</td>\n      <td>0.1667</td>\n      <td>United Kingdom of Great Britain &amp; Northern Ire...</td>\n      <td>GB</td>\n      <td>Harlow</td>\n      <td>KMKX@formation.fr</td>\n    </tr>\n    <tr>\n      <th>2685</th>\n      <td>f1wvaf</td>\n      <td>F</td>\n      <td>1954-06-13 00:00:00</td>\n      <td>51.8.120.254</td>\n      <td>51.500000</td>\n      <td>-0.1300</td>\n      <td>United Kingdom of Great Britain &amp; Northern Ire...</td>\n      <td>GB</td>\n      <td>NaN</td>\n      <td>DWRV@formation.fr</td>\n    </tr>\n  </tbody>\n</table>\n<p>2686 rows × 10 columns</p>\n</div>"
     },
     "metadata": {}
    }
   ]
  },
  {
   "cell_type": "markdown",
   "source": "<b><p style=\"color:red;\">Exercice 2 : Load the data from the csv file</p></b>\nYou will need the function **pandas.read_csv** : https://pandas.pydata.org/pandas-docs/stable/reference/api/pandas.read_csv.html#pandas.read_csv",
   "metadata": {
    "tags": [],
    "cell_id": "00001-68f67422-bef5-4e07-9764-2fb5447c3e24",
    "deepnote_cell_type": "markdown"
   }
  },
  {
   "cell_type": "code",
   "metadata": {
    "tags": [],
    "cell_id": "00005-389cdaad-517c-4056-96d2-d4517afb8bf3",
    "deepnote_to_be_reexecuted": false,
    "source_hash": "45e3178d",
    "execution_start": 1629383514499,
    "execution_millis": 1243,
    "deepnote_cell_type": "code"
   },
   "source": "# Write your code here\nimport pandas as pd\ndf_vente_part1 = pd.read_csv(\"https://raw.githubusercontent.com/malganis35/dataset-test/master/Ventes%20-%20Part%201.csv\", sep = \";\")\ndf_vente_part2 = pd.read_csv(\"https://raw.githubusercontent.com/malganis35/dataset-test/master/Ventes%20-%20Part%202.csv\", sep = \";\")\ndf_vente_part3 = pd.read_csv(\"https://raw.githubusercontent.com/malganis35/dataset-test/master/Ventes%20-%20Part%203.csv\", sep = \";\")",
   "execution_count": null,
   "outputs": []
  },
  {
   "cell_type": "markdown",
   "source": "🔴IMPORTANT❗🔴 Do not forget to look at your data !",
   "metadata": {
    "tags": [],
    "cell_id": "00010-135a45e4-3e71-483b-a7fe-5b587891352f",
    "deepnote_cell_type": "markdown"
   }
  },
  {
   "cell_type": "code",
   "metadata": {
    "tags": [],
    "cell_id": "00010-79231d3c-286f-440e-a3f8-f96f74d2e909",
    "deepnote_to_be_reexecuted": false,
    "source_hash": "aee92313",
    "execution_start": 1629376242820,
    "execution_millis": 162,
    "is_output_hidden": true,
    "deepnote_cell_type": "code"
   },
   "source": "df_vente_part1",
   "execution_count": null,
   "outputs": [
    {
     "output_type": "execute_result",
     "execution_count": 21,
     "data": {
      "application/vnd.deepnote.dataframe.v2+json": {
       "row_count": 4998,
       "column_count": 8,
       "columns": [
        {
         "name": "customer_id",
         "dtype": "object",
         "stats": {
          "unique_count": 2686,
          "nan_count": 0,
          "categories": [
           {
            "name": "780603",
            "count": 10
           },
           {
            "name": "299477",
            "count": 9
           },
           {
            "name": "2684 others",
            "count": 4979
           }
          ]
         }
        },
        {
         "name": "order_date",
         "dtype": "object",
         "stats": {
          "unique_count": 1285,
          "nan_count": 0,
          "categories": [
           {
            "name": "25/12/2015",
            "count": 14
           },
           {
            "name": "18/11/2015",
            "count": 14
           },
           {
            "name": "1283 others",
            "count": 4970
           }
          ]
         }
        },
        {
         "name": "order_id",
         "dtype": "object",
         "stats": {
          "unique_count": 4981,
          "nan_count": 0,
          "categories": [
           {
            "name": "HTS-296958-0001",
            "count": 2
           },
           {
            "name": "HTS-923895-0002",
            "count": 2
           },
           {
            "name": "4979 others",
            "count": 4994
           }
          ]
         }
        },
        {
         "name": "pages_visited",
         "dtype": "int64",
         "stats": {
          "unique_count": 24,
          "nan_count": 0,
          "min": "2",
          "max": "25",
          "histogram": [
           {
            "bin_start": 2,
            "bin_end": 4.3,
            "count": 117
           },
           {
            "bin_start": 4.3,
            "bin_end": 6.6,
            "count": 365
           },
           {
            "bin_start": 6.6,
            "bin_end": 8.899999999999999,
            "count": 751
           },
           {
            "bin_start": 8.899999999999999,
            "bin_end": 11.2,
            "count": 1665
           },
           {
            "bin_start": 11.2,
            "bin_end": 13.5,
            "count": 949
           },
           {
            "bin_start": 13.5,
            "bin_end": 15.799999999999999,
            "count": 623
           },
           {
            "bin_start": 15.799999999999999,
            "bin_end": 18.099999999999998,
            "count": 417
           },
           {
            "bin_start": 18.099999999999998,
            "bin_end": 20.4,
            "count": 74
           },
           {
            "bin_start": 20.4,
            "bin_end": 22.7,
            "count": 22
           },
           {
            "bin_start": 22.7,
            "bin_end": 25,
            "count": 15
           }
          ]
         }
        },
        {
         "name": "tshirt_category",
         "dtype": "object",
         "stats": {
          "unique_count": 10,
          "nan_count": 0,
          "categories": [
           {
            "name": "Black T-Shirt F",
            "count": 1136
           },
           {
            "name": "Hoodie",
            "count": 941
           },
           {
            "name": "8 others",
            "count": 2921
           }
          ]
         }
        },
        {
         "name": "tshirt_price",
         "dtype": "object",
         "stats": {
          "unique_count": 6,
          "nan_count": 0,
          "categories": [
           {
            "name": "17,5",
            "count": 1253
           },
           {
            "name": "18",
            "count": 1006
           },
           {
            "name": "4 others",
            "count": 2739
           }
          ]
         }
        },
        {
         "name": "tshirt_quantity",
         "dtype": "int64",
         "stats": {
          "unique_count": 27,
          "nan_count": 0,
          "min": "1",
          "max": "27",
          "histogram": [
           {
            "bin_start": 1,
            "bin_end": 3.6,
            "count": 4259
           },
           {
            "bin_start": 3.6,
            "bin_end": 6.2,
            "count": 406
           },
           {
            "bin_start": 6.2,
            "bin_end": 8.8,
            "count": 44
           },
           {
            "bin_start": 8.8,
            "bin_end": 11.4,
            "count": 48
           },
           {
            "bin_start": 11.4,
            "bin_end": 14,
            "count": 51
           },
           {
            "bin_start": 14,
            "bin_end": 16.6,
            "count": 86
           },
           {
            "bin_start": 16.6,
            "bin_end": 19.2,
            "count": 58
           },
           {
            "bin_start": 19.2,
            "bin_end": 21.8,
            "count": 20
           },
           {
            "bin_start": 21.8,
            "bin_end": 24.400000000000002,
            "count": 17
           },
           {
            "bin_start": 24.400000000000002,
            "bin_end": 27,
            "count": 9
           }
          ]
         }
        },
        {
         "name": "user_agent",
         "dtype": "object",
         "stats": {
          "unique_count": 20,
          "nan_count": 0,
          "categories": [
           {
            "name": "Mozilla/5.0 (Windows NT 10.0| Win64| x64) AppleWebKit/537.36 (KHTML, like Gecko) Chrome/56.0.2924.87 Safari/537.36",
            "count": 772
           },
           {
            "name": "Mozilla/5.0 (Windows NT 10.0| WOW64) AppleWebKit/537.36 (KHTML, like Gecko) Chrome/56.0.2924.87 Safari/537.36",
            "count": 611
           },
           {
            "name": "18 others",
            "count": 3615
           }
          ]
         }
        },
        {
         "name": "_deepnote_index_column",
         "dtype": "int64"
        }
       ],
       "rows_top": [
        {
         "customer_id": "38040",
         "order_date": "04/09/2016",
         "order_id": "HTS-038040-0002",
         "pages_visited": 9,
         "tshirt_category": "White T-Shirt M",
         "tshirt_price": "20",
         "tshirt_quantity": 1,
         "user_agent": "Mozilla/5.0 (Windows NT 10.0| WOW64) AppleWebKit/537.36 (KHTML, like Gecko) Chrome/56.0.2924.87 Saf…",
         "_deepnote_index_column": 0
        },
        {
         "customer_id": "vft1eu",
         "order_date": "26/02/2017",
         "order_id": "HTS-vft1eu-0003",
         "pages_visited": 10,
         "tshirt_category": "White T-Shirt F",
         "tshirt_price": "18",
         "tshirt_quantity": 3,
         "user_agent": "Mozilla/5.0 (Macintosh| Intel Mac OS X 10_12_3) AppleWebKit/602.4.8 (KHTML, like Gecko) Version/10.…",
         "_deepnote_index_column": 1
        },
        {
         "customer_id": "914324",
         "order_date": "01/12/2013",
         "order_id": "HTS-914324-0001",
         "pages_visited": 10,
         "tshirt_category": "Wh Tshirt F",
         "tshirt_price": "18",
         "tshirt_quantity": 1,
         "user_agent": "Mozilla/5.0 (Windows NT 10.0| WOW64) AppleWebKit/537.36 (KHTML, like Gecko) Chrome/56.0.2924.87 Saf…",
         "_deepnote_index_column": 2
        },
        {
         "customer_id": "61311",
         "order_date": "15/01/2016",
         "order_id": "HTS-061311-0003",
         "pages_visited": 9,
         "tshirt_category": "Black T-Shirt F",
         "tshirt_price": "17,5",
         "tshirt_quantity": 4,
         "user_agent": "Mozilla/5.0 (Macintosh| Intel Mac OS X 10_12_3) AppleWebKit/537.36 (KHTML, like Gecko) Chrome/56.0.…",
         "_deepnote_index_column": 3
        },
        {
         "customer_id": "494332",
         "order_date": "03/11/2013",
         "order_id": "HTS-494332-0001",
         "pages_visited": 10,
         "tshirt_category": "Wh Tshirt F",
         "tshirt_price": "18",
         "tshirt_quantity": 2,
         "user_agent": "Mozilla/5.0 (Macintosh| Intel Mac OS X 10_11_6) AppleWebKit/537.36 (KHTML, like Gecko) Chrome/56.0.…",
         "_deepnote_index_column": 4
        },
        {
         "customer_id": "463794",
         "order_date": "02/10/2013",
         "order_id": "HTS-463794-0001",
         "pages_visited": 14,
         "tshirt_category": "Tennis Shirt",
         "tshirt_price": "24",
         "tshirt_quantity": 1,
         "user_agent": "Mozilla/5.0 (Windows NT 10.0| Win64| x64) AppleWebKit/537.36 (KHTML, like Gecko) Chrome/56.0.2924.8…",
         "_deepnote_index_column": 5
        },
        {
         "customer_id": "132885",
         "order_date": "23/07/2013",
         "order_id": "HTS-132885-0001",
         "pages_visited": 17,
         "tshirt_category": "Wh Tshirt M",
         "tshirt_price": "20",
         "tshirt_quantity": 1,
         "user_agent": "Mozilla/5.0 (Windows NT 10.0| Win64| x64) AppleWebKit/537.36 (KHTML, like Gecko) Chrome/56.0.2924.8…",
         "_deepnote_index_column": 6
        },
        {
         "customer_id": "519113",
         "order_date": "24/11/2013",
         "order_id": "HTS-519113-0001",
         "pages_visited": 17,
         "tshirt_category": "Bl Tshirt F",
         "tshirt_price": "17,5",
         "tshirt_quantity": 1,
         "user_agent": "Mozilla/5.0 (Windows NT 6.1| WOW64) AppleWebKit/537.36 (KHTML, like Gecko) Chrome/56.0.2924.87 Safa…",
         "_deepnote_index_column": 7
        },
        {
         "customer_id": "je57lh",
         "order_date": "24/11/2015",
         "order_id": "HTS-je57lh-0001",
         "pages_visited": 15,
         "tshirt_category": "Hoodie",
         "tshirt_price": "23",
         "tshirt_quantity": 3,
         "user_agent": "Mozilla/5.0 (Windows NT 10.0| Win64| x64) AppleWebKit/537.36 (KHTML, like Gecko) Chrome/56.0.2924.8…",
         "_deepnote_index_column": 8
        },
        {
         "customer_id": "49348",
         "order_date": "15/08/2016",
         "order_id": "HTS-049348-0004",
         "pages_visited": 6,
         "tshirt_category": "Black T-Shirt F",
         "tshirt_price": "17,5",
         "tshirt_quantity": 1,
         "user_agent": "Mozilla/5.0 (Macintosh| Intel Mac OS X 10_11_6) AppleWebKit/537.36 (KHTML, like Gecko) Chrome/56.0.…",
         "_deepnote_index_column": 9
        },
        {
         "customer_id": "heb26i",
         "order_date": "29/11/2015",
         "order_id": "HTS-heb26i-0001",
         "pages_visited": 15,
         "tshirt_category": "Black T-Shirt F",
         "tshirt_price": "17,5",
         "tshirt_quantity": 1,
         "user_agent": "Mozilla/5.0 (Windows NT 6.1| Win64| x64) AppleWebKit/537.36 (KHTML, like Gecko) Chrome/56.0.2924.87…",
         "_deepnote_index_column": 10
        },
        {
         "customer_id": "989355",
         "order_date": "09/10/2015",
         "order_id": "HTS-989355-0003",
         "pages_visited": 10,
         "tshirt_category": "Hoodie",
         "tshirt_price": "23",
         "tshirt_quantity": 2,
         "user_agent": "Mozilla/5.0 (Windows NT 6.1| WOW64) AppleWebKit/537.36 (KHTML, like Gecko) Chrome/56.0.2924.87 Safa…",
         "_deepnote_index_column": 11
        },
        {
         "customer_id": "1b0lnt",
         "order_date": "16/01/2016",
         "order_id": "HTS-1b0lnt-0002",
         "pages_visited": 15,
         "tshirt_category": "White T-Shirt M",
         "tshirt_price": "20",
         "tshirt_quantity": 1,
         "user_agent": "Mozilla/5.0 (X11| Linux x86_64) AppleWebKit/537.36 (KHTML, like Gecko) Chrome/56.0.2924.87 Safari/5…",
         "_deepnote_index_column": 12
        },
        {
         "customer_id": "198773",
         "order_date": "17/01/2015",
         "order_id": "HTS-198773-0002",
         "pages_visited": 5,
         "tshirt_category": "White T-Shirt M",
         "tshirt_price": "20",
         "tshirt_quantity": 1,
         "user_agent": "Mozilla/5.0 (Windows NT 10.0| Win64| x64) AppleWebKit/537.36 (KHTML, like Gecko) Chrome/56.0.2924.8…",
         "_deepnote_index_column": 13
        },
        {
         "customer_id": "476084",
         "order_date": "20/07/2014",
         "order_id": "HTS-476084-0001",
         "pages_visited": 11,
         "tshirt_category": "White T-Shirt M",
         "tshirt_price": "20",
         "tshirt_quantity": 2,
         "user_agent": "Mozilla/5.0 (Windows NT 10.0| Win64| x64) AppleWebKit/537.36 (KHTML, like Gecko) Chrome/56.0.2924.8…",
         "_deepnote_index_column": 14
        },
        {
         "customer_id": "907041",
         "order_date": "20/05/2016",
         "order_id": "HTS-907041-0002",
         "pages_visited": 14,
         "tshirt_category": "White T-Shirt F",
         "tshirt_price": "18",
         "tshirt_quantity": 3,
         "user_agent": "Mozilla/5.0 (Windows NT 6.1| WOW64| rv:51.0) Gecko/20100101 Firefox/51.0",
         "_deepnote_index_column": 15
        },
        {
         "customer_id": "399607",
         "order_date": "09/03/2014",
         "order_id": "HTS-399607-0002",
         "pages_visited": 12,
         "tshirt_category": "White T-Shirt M",
         "tshirt_price": "20",
         "tshirt_quantity": 5,
         "user_agent": "Mozilla/5.0 (Windows NT 6.1| WOW64) AppleWebKit/537.36 (KHTML, like Gecko) Chrome/56.0.2924.87 Safa…",
         "_deepnote_index_column": 16
        },
        {
         "customer_id": "610587",
         "order_date": "08/01/2017",
         "order_id": "HTS-610587-0004",
         "pages_visited": 5,
         "tshirt_category": "Hoodie",
         "tshirt_price": "23",
         "tshirt_quantity": 1,
         "user_agent": "Mozilla/5.0 (X11| Linux x86_64) AppleWebKit/537.36 (KHTML, like Gecko) Chrome/56.0.2924.87 Safari/5…",
         "_deepnote_index_column": 17
        },
        {
         "customer_id": "707341",
         "order_date": "03/10/2014",
         "order_id": "HTS-707341-0003",
         "pages_visited": 8,
         "tshirt_category": "Black T-Shirt M",
         "tshirt_price": "19",
         "tshirt_quantity": 3,
         "user_agent": "Mozilla/5.0 (Macintosh| Intel Mac OS X 10_12_3) AppleWebKit/602.4.8 (KHTML, like Gecko) Version/10.…",
         "_deepnote_index_column": 18
        },
        {
         "customer_id": "pq3m7c",
         "order_date": "08/09/2015",
         "order_id": "HTS-pq3m7c-0001",
         "pages_visited": 11,
         "tshirt_category": "Hoodie",
         "tshirt_price": "23",
         "tshirt_quantity": 1,
         "user_agent": "Mozilla/5.0 (Windows NT 6.1| WOW64| rv:52.0) Gecko/20100101 Firefox/52.0",
         "_deepnote_index_column": 19
        },
        {
         "customer_id": "0lkdil",
         "order_date": "19/12/2016",
         "order_id": "HTS-0lkdil-0002",
         "pages_visited": 8,
         "tshirt_category": "Black T-Shirt F",
         "tshirt_price": "17,5",
         "tshirt_quantity": 1,
         "user_agent": "Mozilla/5.0 (Macintosh| Intel Mac OS X 10_12_3) AppleWebKit/537.36 (KHTML, like Gecko) Chrome/56.0.…",
         "_deepnote_index_column": 20
        },
        {
         "customer_id": "318409",
         "order_date": "02/08/2015",
         "order_id": "HTS-318409-0001",
         "pages_visited": 19,
         "tshirt_category": "Black T-Shirt M",
         "tshirt_price": "19",
         "tshirt_quantity": 1,
         "user_agent": "Mozilla/5.0 (Macintosh| Intel Mac OS X 10_12_3) AppleWebKit/602.4.8 (KHTML, like Gecko) Version/10.…",
         "_deepnote_index_column": 21
        },
        {
         "customer_id": "964210",
         "order_date": "15/09/2014",
         "order_id": "HTS-964210-0002",
         "pages_visited": 6,
         "tshirt_category": "Black T-Shirt F",
         "tshirt_price": "17,5",
         "tshirt_quantity": 1,
         "user_agent": "Mozilla/5.0 (Windows NT 6.1| Win64| x64) AppleWebKit/537.36 (KHTML, like Gecko) Chrome/56.0.2924.87…",
         "_deepnote_index_column": 22
        },
        {
         "customer_id": "162811",
         "order_date": "23/06/2015",
         "order_id": "HTS-162811-0002",
         "pages_visited": 6,
         "tshirt_category": "Black T-Shirt M",
         "tshirt_price": "19",
         "tshirt_quantity": 3,
         "user_agent": "Mozilla/5.0 (Windows NT 6.1| WOW64| rv:51.0) Gecko/20100101 Firefox/51.0",
         "_deepnote_index_column": 23
        },
        {
         "customer_id": "760379",
         "order_date": "26/08/2013",
         "order_id": "HTS-760379-0001",
         "pages_visited": 14,
         "tshirt_category": "Hoodie",
         "tshirt_price": "23",
         "tshirt_quantity": 1,
         "user_agent": "Mozilla/5.0 (Windows NT 10.0| WOW64| rv:51.0) Gecko/20100101 Firefox/51.0",
         "_deepnote_index_column": 24
        },
        {
         "customer_id": "710433",
         "order_date": "28/01/2015",
         "order_id": "HTS-710433-0001",
         "pages_visited": 11,
         "tshirt_category": "White T-Shirt F",
         "tshirt_price": "18",
         "tshirt_quantity": 1,
         "user_agent": "Mozilla/5.0 (Windows NT 6.1| WOW64) AppleWebKit/537.36 (KHTML, like Gecko) Chrome/56.0.2924.87 Safa…",
         "_deepnote_index_column": 25
        },
        {
         "customer_id": "kuqsq1",
         "order_date": "06/12/2016",
         "order_id": "HTS-kuqsq1-0002",
         "pages_visited": 16,
         "tshirt_category": "Black T-Shirt F",
         "tshirt_price": "17,5",
         "tshirt_quantity": 1,
         "user_agent": "Mozilla/5.0 (Windows NT 10.0| Win64| x64) AppleWebKit/537.36 (KHTML, like Gecko) Chrome/56.0.2924.8…",
         "_deepnote_index_column": 26
        },
        {
         "customer_id": "bv8gw3",
         "order_date": "11/11/2016",
         "order_id": "HTS-bv8gw3-0001",
         "pages_visited": 13,
         "tshirt_category": "Black T-Shirt M",
         "tshirt_price": "19",
         "tshirt_quantity": 1,
         "user_agent": "Mozilla/5.0 (Windows NT 10.0| Win64| x64) AppleWebKit/537.36 (KHTML, like Gecko) Chrome/56.0.2924.8…",
         "_deepnote_index_column": 27
        },
        {
         "customer_id": "3uouz3",
         "order_date": "22/08/2016",
         "order_id": "HTS-3uouz3-0001",
         "pages_visited": 15,
         "tshirt_category": "White T-Shirt M",
         "tshirt_price": "20",
         "tshirt_quantity": 1,
         "user_agent": "Mozilla/5.0 (Macintosh| Intel Mac OS X 10_11_6) AppleWebKit/537.36 (KHTML, like Gecko) Chrome/56.0.…",
         "_deepnote_index_column": 28
        },
        {
         "customer_id": "grd2ue",
         "order_date": "12/08/2015",
         "order_id": "HTS-grd2ue-0001",
         "pages_visited": 16,
         "tshirt_category": "Hoodie",
         "tshirt_price": "23",
         "tshirt_quantity": 2,
         "user_agent": "Mozilla/5.0 (Macintosh| Intel Mac OS X 10_11_6) AppleWebKit/537.36 (KHTML, like Gecko) Chrome/56.0.…",
         "_deepnote_index_column": 29
        },
        {
         "customer_id": "495119",
         "order_date": "27/01/2014",
         "order_id": "HTS-495119-0001",
         "pages_visited": 13,
         "tshirt_category": "Tennis Shirt",
         "tshirt_price": "24",
         "tshirt_quantity": 1,
         "user_agent": "Mozilla/5.0 (Windows NT 10.0| WOW64) AppleWebKit/537.36 (KHTML, like Gecko) Chrome/56.0.2924.87 Saf…",
         "_deepnote_index_column": 30
        },
        {
         "customer_id": "vz1jgr",
         "order_date": "25/11/2016",
         "order_id": "HTS-vz1jgr-0001",
         "pages_visited": 6,
         "tshirt_category": "White T-Shirt F",
         "tshirt_price": "18",
         "tshirt_quantity": 2,
         "user_agent": "Mozilla/5.0 (X11| Linux x86_64) AppleWebKit/537.36 (KHTML, like Gecko) Chrome/56.0.2924.87 Safari/5…",
         "_deepnote_index_column": 31
        },
        {
         "customer_id": "75826",
         "order_date": "13/04/2016",
         "order_id": "HTS-075826-0003",
         "pages_visited": 6,
         "tshirt_category": "White T-Shirt M",
         "tshirt_price": "20",
         "tshirt_quantity": 1,
         "user_agent": "Mozilla/5.0 (Windows NT 10.0| Win64| x64) AppleWebKit/537.36 (KHTML, like Gecko) Chrome/56.0.2924.8…",
         "_deepnote_index_column": 32
        },
        {
         "customer_id": "958838",
         "order_date": "12/03/2015",
         "order_id": "HTS-958838-0001",
         "pages_visited": 15,
         "tshirt_category": "White T-Shirt M",
         "tshirt_price": "20",
         "tshirt_quantity": 2,
         "user_agent": "Mozilla/5.0 (Macintosh| Intel Mac OS X 10_11_6) AppleWebKit/602.4.8 (KHTML, like Gecko) Version/10.…",
         "_deepnote_index_column": 33
        },
        {
         "customer_id": "301810",
         "order_date": "25/12/2015",
         "order_id": "HTS-301810-0003",
         "pages_visited": 10,
         "tshirt_category": "Hoodie",
         "tshirt_price": "23",
         "tshirt_quantity": 3,
         "user_agent": "Mozilla/5.0 (Windows NT 10.0| Win64| x64) AppleWebKit/537.36 (KHTML, like Gecko) Chrome/56.0.2924.8…",
         "_deepnote_index_column": 34
        },
        {
         "customer_id": "917138",
         "order_date": "01/05/2015",
         "order_id": "HTS-917138-0002",
         "pages_visited": 17,
         "tshirt_category": "White T-Shirt M",
         "tshirt_price": "20",
         "tshirt_quantity": 2,
         "user_agent": "Mozilla/5.0 (Windows NT 10.0| Win64| x64) AppleWebKit/537.36 (KHTML, like Gecko) Chrome/56.0.2924.8…",
         "_deepnote_index_column": 35
        },
        {
         "customer_id": "lby2fl",
         "order_date": "08/08/2016",
         "order_id": "HTS-lby2fl-0001",
         "pages_visited": 6,
         "tshirt_category": "White T-Shirt M",
         "tshirt_price": "20",
         "tshirt_quantity": 1,
         "user_agent": "Mozilla/5.0 (Macintosh| Intel Mac OS X 10_12_3) AppleWebKit/537.36 (KHTML, like Gecko) Chrome/56.0.…",
         "_deepnote_index_column": 36
        },
        {
         "customer_id": "797630",
         "order_date": "21/10/2016",
         "order_id": "HTS-797630-0004",
         "pages_visited": 12,
         "tshirt_category": "Black T-Shirt F",
         "tshirt_price": "17,5",
         "tshirt_quantity": 2,
         "user_agent": "Mozilla/5.0 (Windows NT 10.0| Win64| x64) AppleWebKit/537.36 (KHTML, like Gecko) Chrome/56.0.2924.8…",
         "_deepnote_index_column": 37
        },
        {
         "customer_id": "moudrf",
         "order_date": "27/12/2016",
         "order_id": "HTS-moudrf-0003",
         "pages_visited": 11,
         "tshirt_category": "White T-Shirt F",
         "tshirt_price": "18",
         "tshirt_quantity": 4,
         "user_agent": "Mozilla/5.0 (Windows NT 10.0| Win64| x64) AppleWebKit/537.36 (KHTML, like Gecko) Chrome/51.0.2704.7…",
         "_deepnote_index_column": 38
        },
        {
         "customer_id": "116680",
         "order_date": "27/10/2014",
         "order_id": "HTS-116680-0001",
         "pages_visited": 7,
         "tshirt_category": "Black T-Shirt F",
         "tshirt_price": "17,5",
         "tshirt_quantity": 1,
         "user_agent": "Mozilla/5.0 (Macintosh| Intel Mac OS X 10_12_3) AppleWebKit/602.4.8 (KHTML, like Gecko) Version/10.…",
         "_deepnote_index_column": 39
        },
        {
         "customer_id": "5j3r5q",
         "order_date": "20/09/2016",
         "order_id": "HTS-5j3r5q-0001",
         "pages_visited": 12,
         "tshirt_category": "White T-Shirt M",
         "tshirt_price": "20",
         "tshirt_quantity": 1,
         "user_agent": "Mozilla/5.0 (Windows NT 6.1| WOW64) AppleWebKit/537.36 (KHTML, like Gecko) Chrome/56.0.2924.87 Safa…",
         "_deepnote_index_column": 40
        },
        {
         "customer_id": "882780",
         "order_date": "25/09/2014",
         "order_id": "HTS-882780-0002",
         "pages_visited": 15,
         "tshirt_category": "Black T-Shirt M",
         "tshirt_price": "19",
         "tshirt_quantity": 1,
         "user_agent": "Mozilla/5.0 (Windows NT 6.3| WOW64) AppleWebKit/537.36 (KHTML, like Gecko) Chrome/56.0.2924.87 Safa…",
         "_deepnote_index_column": 41
        },
        {
         "customer_id": "qgqhv6",
         "order_date": "16/10/2016",
         "order_id": "HTS-qgqhv6-0001",
         "pages_visited": 21,
         "tshirt_category": "White T-Shirt F",
         "tshirt_price": "18",
         "tshirt_quantity": 1,
         "user_agent": "Mozilla/5.0 (Windows NT 6.1| WOW64| rv:51.0) Gecko/20100101 Firefox/51.0",
         "_deepnote_index_column": 42
        },
        {
         "customer_id": "ar83mg",
         "order_date": "22/07/2015",
         "order_id": "HTS-ar83mg-0001",
         "pages_visited": 9,
         "tshirt_category": "Tennis Shirt",
         "tshirt_price": "24",
         "tshirt_quantity": 2,
         "user_agent": "Mozilla/5.0 (Windows NT 6.1| WOW64) AppleWebKit/537.36 (KHTML, like Gecko) Chrome/56.0.2924.87 Safa…",
         "_deepnote_index_column": 43
        },
        {
         "customer_id": "442064",
         "order_date": "03/01/2017",
         "order_id": "HTS-442064-0003",
         "pages_visited": 8,
         "tshirt_category": "White T-Shirt M",
         "tshirt_price": "20",
         "tshirt_quantity": 1,
         "user_agent": "Mozilla/5.0 (Windows NT 6.1) AppleWebKit/537.36 (KHTML, like Gecko) Chrome/56.0.2924.87 Safari/537.…",
         "_deepnote_index_column": 44
        },
        {
         "customer_id": "286810",
         "order_date": "13/12/2013",
         "order_id": "HTS-286810-0002",
         "pages_visited": 10,
         "tshirt_category": "Bl Tshirt F",
         "tshirt_price": "17,5",
         "tshirt_quantity": 1,
         "user_agent": "Mozilla/5.0 (Windows NT 10.0| Win64| x64) AppleWebKit/537.36 (KHTML, like Gecko) Chrome/56.0.2924.8…",
         "_deepnote_index_column": 45
        },
        {
         "customer_id": "273332",
         "order_date": "10/11/2014",
         "order_id": "HTS-273332-0001",
         "pages_visited": 19,
         "tshirt_category": "White T-Shirt M",
         "tshirt_price": "20",
         "tshirt_quantity": 1,
         "user_agent": "Mozilla/5.0 (Windows NT 10.0| Win64| x64) AppleWebKit/537.36 (KHTML, like Gecko) Chrome/56.0.2924.8…",
         "_deepnote_index_column": 46
        },
        {
         "customer_id": "916341",
         "order_date": "18/04/2015",
         "order_id": "HTS-916341-0002",
         "pages_visited": 11,
         "tshirt_category": "Hoodie",
         "tshirt_price": "23",
         "tshirt_quantity": 2,
         "user_agent": "Mozilla/5.0 (Windows NT 10.0| Win64| x64) AppleWebKit/537.36 (KHTML, like Gecko) Chrome/56.0.2924.8…",
         "_deepnote_index_column": 47
        },
        {
         "customer_id": "481997",
         "order_date": "14/10/2014",
         "order_id": "HTS-481997-0001",
         "pages_visited": 12,
         "tshirt_category": "Black T-Shirt F",
         "tshirt_price": "17,5",
         "tshirt_quantity": 3,
         "user_agent": "Mozilla/5.0 (Windows NT 6.1| WOW64| Trident/7.0| rv:11.0) like Gecko",
         "_deepnote_index_column": 48
        },
        {
         "customer_id": "877835",
         "order_date": "09/12/2015",
         "order_id": "HTS-877835-0002",
         "pages_visited": 15,
         "tshirt_category": "Hoodie",
         "tshirt_price": "23",
         "tshirt_quantity": 3,
         "user_agent": "Mozilla/5.0 (Macintosh| Intel Mac OS X 10_12_3) AppleWebKit/602.4.8 (KHTML, like Gecko) Version/10.…",
         "_deepnote_index_column": 49
        },
        {
         "customer_id": "6ipkrh",
         "order_date": "13/02/2017",
         "order_id": "HTS-6ipkrh-0002",
         "pages_visited": 11,
         "tshirt_category": "Black T-Shirt F",
         "tshirt_price": "17,5",
         "tshirt_quantity": 3,
         "user_agent": "Mozilla/5.0 (Windows NT 10.0| Win64| x64) AppleWebKit/537.36 (KHTML, like Gecko) Chrome/56.0.2924.8…",
         "_deepnote_index_column": 50
        },
        {
         "customer_id": "919747",
         "order_date": "20/12/2015",
         "order_id": "HTS-919747-0004",
         "pages_visited": 12,
         "tshirt_category": "White T-Shirt F",
         "tshirt_price": "18",
         "tshirt_quantity": 2,
         "user_agent": "Mozilla/5.0 (Windows NT 10.0| WOW64) AppleWebKit/537.36 (KHTML, like Gecko) Chrome/56.0.2924.87 Saf…",
         "_deepnote_index_column": 51
        },
        {
         "customer_id": "9cuan5",
         "order_date": "25/03/2016",
         "order_id": "HTS-9cuan5-0001",
         "pages_visited": 10,
         "tshirt_category": "White T-Shirt M",
         "tshirt_price": "20",
         "tshirt_quantity": 1,
         "user_agent": "Mozilla/5.0 (Windows NT 6.1| Win64| x64) AppleWebKit/537.36 (KHTML, like Gecko) Chrome/56.0.2924.87…",
         "_deepnote_index_column": 52
        },
        {
         "customer_id": "842157",
         "order_date": "11/03/2015",
         "order_id": "HTS-842157-0002",
         "pages_visited": 11,
         "tshirt_category": "Black T-Shirt M",
         "tshirt_price": "19",
         "tshirt_quantity": 5,
         "user_agent": "Mozilla/5.0 (Macintosh| Intel Mac OS X 10_11_6) AppleWebKit/602.4.8 (KHTML, like Gecko) Version/10.…",
         "_deepnote_index_column": 53
        },
        {
         "customer_id": "279650",
         "order_date": "22/09/2013",
         "order_id": "HTS-279650-0001",
         "pages_visited": 17,
         "tshirt_category": "Hoodie",
         "tshirt_price": "23",
         "tshirt_quantity": 1,
         "user_agent": "Mozilla/5.0 (Windows NT 10.0| WOW64| rv:51.0) Gecko/20100101 Firefox/51.0",
         "_deepnote_index_column": 54
        },
        {
         "customer_id": "ggj8vc",
         "order_date": "30/12/2015",
         "order_id": "HTS-ggj8vc-0001",
         "pages_visited": 9,
         "tshirt_category": "White T-Shirt F",
         "tshirt_price": "18",
         "tshirt_quantity": 1,
         "user_agent": "Mozilla/5.0 (Windows NT 10.0| WOW64) AppleWebKit/537.36 (KHTML, like Gecko) Chrome/56.0.2924.87 Saf…",
         "_deepnote_index_column": 55
        },
        {
         "customer_id": "771496",
         "order_date": "12/02/2017",
         "order_id": "HTS-771496-0001",
         "pages_visited": 19,
         "tshirt_category": "Hoodie",
         "tshirt_price": "23",
         "tshirt_quantity": 1,
         "user_agent": "Mozilla/5.0 (Windows NT 6.3| WOW64) AppleWebKit/537.36 (KHTML, like Gecko) Chrome/56.0.2924.87 Safa…",
         "_deepnote_index_column": 56
        },
        {
         "customer_id": "7955",
         "order_date": "08/03/2016",
         "order_id": "HTS-007955-0001",
         "pages_visited": 13,
         "tshirt_category": "Tennis Shirt",
         "tshirt_price": "24",
         "tshirt_quantity": 1,
         "user_agent": "Mozilla/5.0 (Windows NT 10.0| Win64| x64) AppleWebKit/537.36 (KHTML, like Gecko) Chrome/56.0.2924.8…",
         "_deepnote_index_column": 57
        },
        {
         "customer_id": "738171",
         "order_date": "26/10/2016",
         "order_id": "HTS-738171-0005",
         "pages_visited": 10,
         "tshirt_category": "Black T-Shirt M",
         "tshirt_price": "19",
         "tshirt_quantity": 3,
         "user_agent": "Mozilla/5.0 (Windows NT 10.0| WOW64) AppleWebKit/537.36 (KHTML, like Gecko) Chrome/56.0.2924.87 Saf…",
         "_deepnote_index_column": 58
        },
        {
         "customer_id": "995267",
         "order_date": "20/03/2015",
         "order_id": "HTS-995267-0002",
         "pages_visited": 15,
         "tshirt_category": "White T-Shirt F",
         "tshirt_price": "18",
         "tshirt_quantity": 5,
         "user_agent": "Mozilla/5.0 (X11| Linux x86_64) AppleWebKit/537.36 (KHTML, like Gecko) Chrome/56.0.2924.87 Safari/5…",
         "_deepnote_index_column": 59
        },
        {
         "customer_id": "103700",
         "order_date": "28/12/2015",
         "order_id": "HTS-103700-0003",
         "pages_visited": 9,
         "tshirt_category": "White T-Shirt M",
         "tshirt_price": "20",
         "tshirt_quantity": 1,
         "user_agent": "Mozilla/5.0 (Windows NT 6.1| WOW64) AppleWebKit/537.36 (KHTML, like Gecko) Chrome/56.0.2924.87 Safa…",
         "_deepnote_index_column": 60
        },
        {
         "customer_id": "166680",
         "order_date": "09/12/2014",
         "order_id": "HTS-166680-0001",
         "pages_visited": 11,
         "tshirt_category": "White T-Shirt M",
         "tshirt_price": "20",
         "tshirt_quantity": 16,
         "user_agent": "Mozilla/5.0 (Macintosh| Intel Mac OS X 10_12_3) AppleWebKit/602.4.8 (KHTML, like Gecko) Version/10.…",
         "_deepnote_index_column": 61
        }
       ],
       "rows_bottom": [
        {
         "customer_id": "phql6x",
         "order_date": "05/08/2015",
         "order_id": "HTS-phql6x-0001",
         "pages_visited": 16,
         "tshirt_category": "Black T-Shirt F",
         "tshirt_price": "17,5",
         "tshirt_quantity": 3,
         "user_agent": "Mozilla/5.0 (Macintosh| Intel Mac OS X 10_11_6) AppleWebKit/537.36 (KHTML, like Gecko) Chrome/56.0.…",
         "_deepnote_index_column": 4935
        },
        {
         "customer_id": "573700",
         "order_date": "10/11/2015",
         "order_id": "HTS-573700-0005",
         "pages_visited": 4,
         "tshirt_category": "Black T-Shirt F",
         "tshirt_price": "17,5",
         "tshirt_quantity": 3,
         "user_agent": "Mozilla/5.0 (Macintosh| Intel Mac OS X 10_11_6) AppleWebKit/602.4.8 (KHTML, like Gecko) Version/10.…",
         "_deepnote_index_column": 4936
        },
        {
         "customer_id": "573700",
         "order_date": "17/12/2016",
         "order_id": "HTS-573700-0008",
         "pages_visited": 5,
         "tshirt_category": "Black T-Shirt F",
         "tshirt_price": "17,5",
         "tshirt_quantity": 5,
         "user_agent": "Mozilla/5.0 (Macintosh| Intel Mac OS X 10_11_6) AppleWebKit/602.4.8 (KHTML, like Gecko) Version/10.…",
         "_deepnote_index_column": 4937
        },
        {
         "customer_id": "jlex71",
         "order_date": "26/03/2016",
         "order_id": "HTS-jlex71-0002",
         "pages_visited": 10,
         "tshirt_category": "Black T-Shirt F",
         "tshirt_price": "17,5",
         "tshirt_quantity": 1,
         "user_agent": "Mozilla/5.0 (Macintosh| Intel Mac OS X 10_11_6) AppleWebKit/602.4.8 (KHTML, like Gecko) Version/10.…",
         "_deepnote_index_column": 4938
        },
        {
         "customer_id": "235362",
         "order_date": "27/10/2016",
         "order_id": "HTS-235362-0005",
         "pages_visited": 5,
         "tshirt_category": "Black T-Shirt F",
         "tshirt_price": "17,5",
         "tshirt_quantity": 4,
         "user_agent": "Mozilla/5.0 (Macintosh| Intel Mac OS X 10_12_3) AppleWebKit/537.36 (KHTML, like Gecko) Chrome/56.0.…",
         "_deepnote_index_column": 4939
        },
        {
         "customer_id": "20902",
         "order_date": "02/01/2017",
         "order_id": "HTS-020902-0006",
         "pages_visited": 5,
         "tshirt_category": "Black T-Shirt F",
         "tshirt_price": "17,5",
         "tshirt_quantity": 14,
         "user_agent": "Mozilla/5.0 (Macintosh| Intel Mac OS X 10_12_3) AppleWebKit/537.36 (KHTML, like Gecko) Chrome/56.0.…",
         "_deepnote_index_column": 4940
        },
        {
         "customer_id": "800697",
         "order_date": "11/11/2016",
         "order_id": "HTS-800697-0005",
         "pages_visited": 6,
         "tshirt_category": "Black T-Shirt F",
         "tshirt_price": "17,5",
         "tshirt_quantity": 2,
         "user_agent": "Mozilla/5.0 (Macintosh| Intel Mac OS X 10_12_3) AppleWebKit/537.36 (KHTML, like Gecko) Chrome/56.0.…",
         "_deepnote_index_column": 4941
        },
        {
         "customer_id": "965983",
         "order_date": "03/01/2017",
         "order_id": "HTS-965983-0005",
         "pages_visited": 6,
         "tshirt_category": "Black T-Shirt F",
         "tshirt_price": "17,5",
         "tshirt_quantity": 2,
         "user_agent": "Mozilla/5.0 (Macintosh| Intel Mac OS X 10_12_3) AppleWebKit/537.36 (KHTML, like Gecko) Chrome/56.0.…",
         "_deepnote_index_column": 4942
        },
        {
         "customer_id": "235362",
         "order_date": "05/07/2014",
         "order_id": "HTS-235362-0002",
         "pages_visited": 8,
         "tshirt_category": "Black T-Shirt F",
         "tshirt_price": "17,5",
         "tshirt_quantity": 2,
         "user_agent": "Mozilla/5.0 (Macintosh| Intel Mac OS X 10_12_3) AppleWebKit/537.36 (KHTML, like Gecko) Chrome/56.0.…",
         "_deepnote_index_column": 4943
        },
        {
         "customer_id": "5604",
         "order_date": "18/12/2014",
         "order_id": "HTS-005604-0002",
         "pages_visited": 8,
         "tshirt_category": "Black T-Shirt F",
         "tshirt_price": "17,5",
         "tshirt_quantity": 4,
         "user_agent": "Mozilla/5.0 (Macintosh| Intel Mac OS X 10_12_3) AppleWebKit/537.36 (KHTML, like Gecko) Chrome/56.0.…",
         "_deepnote_index_column": 4944
        },
        {
         "customer_id": "910971",
         "order_date": "04/04/2015",
         "order_id": "HTS-910971-0003",
         "pages_visited": 8,
         "tshirt_category": "Black T-Shirt F",
         "tshirt_price": "17,5",
         "tshirt_quantity": 5,
         "user_agent": "Mozilla/5.0 (Macintosh| Intel Mac OS X 10_12_3) AppleWebKit/537.36 (KHTML, like Gecko) Chrome/56.0.…",
         "_deepnote_index_column": 4945
        },
        {
         "customer_id": "910971",
         "order_date": "02/01/2016",
         "order_id": "HTS-910971-0004",
         "pages_visited": 8,
         "tshirt_category": "Black T-Shirt F",
         "tshirt_price": "17,5",
         "tshirt_quantity": 6,
         "user_agent": "Mozilla/5.0 (Macintosh| Intel Mac OS X 10_12_3) AppleWebKit/537.36 (KHTML, like Gecko) Chrome/56.0.…",
         "_deepnote_index_column": 4946
        },
        {
         "customer_id": "u9np6l",
         "order_date": "06/01/2016",
         "order_id": "HTS-u9np6l-0002",
         "pages_visited": 10,
         "tshirt_category": "Black T-Shirt F",
         "tshirt_price": "17,5",
         "tshirt_quantity": 6,
         "user_agent": "Mozilla/5.0 (Macintosh| Intel Mac OS X 10_12_3) AppleWebKit/537.36 (KHTML, like Gecko) Chrome/56.0.…",
         "_deepnote_index_column": 4947
        },
        {
         "customer_id": "cca99v",
         "order_date": "30/03/2016",
         "order_id": "HTS-cca99v-0002",
         "pages_visited": 10,
         "tshirt_category": "Black T-Shirt F",
         "tshirt_price": "17,5",
         "tshirt_quantity": 8,
         "user_agent": "Mozilla/5.0 (Macintosh| Intel Mac OS X 10_12_3) AppleWebKit/537.36 (KHTML, like Gecko) Chrome/56.0.…",
         "_deepnote_index_column": 4948
        },
        {
         "customer_id": "20902",
         "order_date": "06/05/2016",
         "order_id": "HTS-020902-0005",
         "pages_visited": 10,
         "tshirt_category": "Black T-Shirt F",
         "tshirt_price": "17,5",
         "tshirt_quantity": 15,
         "user_agent": "Mozilla/5.0 (Macintosh| Intel Mac OS X 10_12_3) AppleWebKit/537.36 (KHTML, like Gecko) Chrome/56.0.…",
         "_deepnote_index_column": 4949
        },
        {
         "customer_id": "zilrk7",
         "order_date": "13/04/2016",
         "order_id": "HTS-zilrk7-0001",
         "pages_visited": 11,
         "tshirt_category": "Black T-Shirt F",
         "tshirt_price": "17,5",
         "tshirt_quantity": 1,
         "user_agent": "Mozilla/5.0 (Macintosh| Intel Mac OS X 10_12_3) AppleWebKit/537.36 (KHTML, like Gecko) Chrome/56.0.…",
         "_deepnote_index_column": 4950
        },
        {
         "customer_id": "u9np6l",
         "order_date": "03/07/2015",
         "order_id": "HTS-u9np6l-0001",
         "pages_visited": 11,
         "tshirt_category": "Black T-Shirt F",
         "tshirt_price": "17,5",
         "tshirt_quantity": 3,
         "user_agent": "Mozilla/5.0 (Macintosh| Intel Mac OS X 10_12_3) AppleWebKit/537.36 (KHTML, like Gecko) Chrome/56.0.…",
         "_deepnote_index_column": 4951
        },
        {
         "customer_id": "zx1r2v",
         "order_date": "24/04/2016",
         "order_id": "HTS-zx1r2v-0002",
         "pages_visited": 12,
         "tshirt_category": "Black T-Shirt F",
         "tshirt_price": "17,5",
         "tshirt_quantity": 1,
         "user_agent": "Mozilla/5.0 (Macintosh| Intel Mac OS X 10_12_3) AppleWebKit/537.36 (KHTML, like Gecko) Chrome/56.0.…",
         "_deepnote_index_column": 4952
        },
        {
         "customer_id": "147806",
         "order_date": "27/07/2015",
         "order_id": "HTS-147806-0002",
         "pages_visited": 12,
         "tshirt_category": "Black T-Shirt F",
         "tshirt_price": "17,5",
         "tshirt_quantity": 1,
         "user_agent": "Mozilla/5.0 (Macintosh| Intel Mac OS X 10_12_3) AppleWebKit/537.36 (KHTML, like Gecko) Chrome/56.0.…",
         "_deepnote_index_column": 4953
        },
        {
         "customer_id": "147806",
         "order_date": "05/11/2014",
         "order_id": "HTS-147806-0001",
         "pages_visited": 12,
         "tshirt_category": "Black T-Shirt F",
         "tshirt_price": "17,5",
         "tshirt_quantity": 1,
         "user_agent": "Mozilla/5.0 (Macintosh| Intel Mac OS X 10_12_3) AppleWebKit/537.36 (KHTML, like Gecko) Chrome/56.0.…",
         "_deepnote_index_column": 4954
        },
        {
         "customer_id": "856425",
         "order_date": "27/01/2015",
         "order_id": "HTS-856425-0003",
         "pages_visited": 12,
         "tshirt_category": "Black T-Shirt F",
         "tshirt_price": "17,5",
         "tshirt_quantity": 9,
         "user_agent": "Mozilla/5.0 (Macintosh| Intel Mac OS X 10_12_3) AppleWebKit/537.36 (KHTML, like Gecko) Chrome/56.0.…",
         "_deepnote_index_column": 4955
        },
        {
         "customer_id": "910883",
         "order_date": "27/02/2017",
         "order_id": "HTS-910883-0004",
         "pages_visited": 12,
         "tshirt_category": "Black T-Shirt F",
         "tshirt_price": "17,5",
         "tshirt_quantity": 10,
         "user_agent": "Mozilla/5.0 (Macintosh| Intel Mac OS X 10_12_3) AppleWebKit/537.36 (KHTML, like Gecko) Chrome/56.0.…",
         "_deepnote_index_column": 4956
        },
        {
         "customer_id": "5604",
         "order_date": "19/12/2015",
         "order_id": "HTS-005604-0004",
         "pages_visited": 13,
         "tshirt_category": "Black T-Shirt F",
         "tshirt_price": "17,5",
         "tshirt_quantity": 2,
         "user_agent": "Mozilla/5.0 (Macintosh| Intel Mac OS X 10_12_3) AppleWebKit/537.36 (KHTML, like Gecko) Chrome/56.0.…",
         "_deepnote_index_column": 4957
        },
        {
         "customer_id": "61311",
         "order_date": "09/05/2015",
         "order_id": "HTS-061311-0002",
         "pages_visited": 13,
         "tshirt_category": "Black T-Shirt F",
         "tshirt_price": "17,5",
         "tshirt_quantity": 7,
         "user_agent": "Mozilla/5.0 (Macintosh| Intel Mac OS X 10_12_3) AppleWebKit/537.36 (KHTML, like Gecko) Chrome/56.0.…",
         "_deepnote_index_column": 4958
        },
        {
         "customer_id": "910883",
         "order_date": "23/10/2014",
         "order_id": "HTS-910883-0001",
         "pages_visited": 15,
         "tshirt_category": "Black T-Shirt F",
         "tshirt_price": "17,5",
         "tshirt_quantity": 16,
         "user_agent": "Mozilla/5.0 (Macintosh| Intel Mac OS X 10_12_3) AppleWebKit/537.36 (KHTML, like Gecko) Chrome/56.0.…",
         "_deepnote_index_column": 4959
        },
        {
         "customer_id": "893564",
         "order_date": "19/01/2015",
         "order_id": "HTS-893564-0002",
         "pages_visited": 16,
         "tshirt_category": "Black T-Shirt F",
         "tshirt_price": "17,5",
         "tshirt_quantity": 3,
         "user_agent": "Mozilla/5.0 (Macintosh| Intel Mac OS X 10_12_3) AppleWebKit/537.36 (KHTML, like Gecko) Chrome/56.0.…",
         "_deepnote_index_column": 4960
        },
        {
         "customer_id": "352641",
         "order_date": "25/08/2014",
         "order_id": "HTS-352641-0001",
         "pages_visited": 16,
         "tshirt_category": "Black T-Shirt F",
         "tshirt_price": "17,5",
         "tshirt_quantity": 4,
         "user_agent": "Mozilla/5.0 (Macintosh| Intel Mac OS X 10_12_3) AppleWebKit/537.36 (KHTML, like Gecko) Chrome/56.0.…",
         "_deepnote_index_column": 4961
        },
        {
         "customer_id": "883912",
         "order_date": "28/10/2015",
         "order_id": "HTS-883912-0001",
         "pages_visited": 17,
         "tshirt_category": "Black T-Shirt F",
         "tshirt_price": "17,5",
         "tshirt_quantity": 1,
         "user_agent": "Mozilla/5.0 (Macintosh| Intel Mac OS X 10_12_3) AppleWebKit/537.36 (KHTML, like Gecko) Chrome/56.0.…",
         "_deepnote_index_column": 4962
        },
        {
         "customer_id": "3ux5eu",
         "order_date": "12/02/2017",
         "order_id": "HTS-3ux5eu-0003",
         "pages_visited": 7,
         "tshirt_category": "Black T-Shirt F",
         "tshirt_price": "17,5",
         "tshirt_quantity": 2,
         "user_agent": "Mozilla/5.0 (Macintosh| Intel Mac OS X 10_12_3) AppleWebKit/602.4.8 (KHTML, like Gecko) Version/10.…",
         "_deepnote_index_column": 4963
        },
        {
         "customer_id": "623721",
         "order_date": "13/06/2016",
         "order_id": "HTS-623721-0002",
         "pages_visited": 8,
         "tshirt_category": "Black T-Shirt F",
         "tshirt_price": "17,5",
         "tshirt_quantity": 1,
         "user_agent": "Mozilla/5.0 (Macintosh| Intel Mac OS X 10_12_3) AppleWebKit/602.4.8 (KHTML, like Gecko) Version/10.…",
         "_deepnote_index_column": 4964
        },
        {
         "customer_id": "995959",
         "order_date": "15/06/2016",
         "order_id": "HTS-995959-0003",
         "pages_visited": 9,
         "tshirt_category": "Black T-Shirt F",
         "tshirt_price": "17,5",
         "tshirt_quantity": 1,
         "user_agent": "Mozilla/5.0 (Macintosh| Intel Mac OS X 10_12_3) AppleWebKit/602.4.8 (KHTML, like Gecko) Version/10.…",
         "_deepnote_index_column": 4965
        },
        {
         "customer_id": "296000",
         "order_date": "04/12/2016",
         "order_id": "HTS-296000-0004",
         "pages_visited": 9,
         "tshirt_category": "Black T-Shirt F",
         "tshirt_price": "17,5",
         "tshirt_quantity": 2,
         "user_agent": "Mozilla/5.0 (Macintosh| Intel Mac OS X 10_12_3) AppleWebKit/602.4.8 (KHTML, like Gecko) Version/10.…",
         "_deepnote_index_column": 4966
        },
        {
         "customer_id": "923959",
         "order_date": "04/08/2015",
         "order_id": "HTS-923959-0002",
         "pages_visited": 10,
         "tshirt_category": "Black T-Shirt F",
         "tshirt_price": "17,5",
         "tshirt_quantity": 2,
         "user_agent": "Mozilla/5.0 (Macintosh| Intel Mac OS X 10_12_3) AppleWebKit/602.4.8 (KHTML, like Gecko) Version/10.…",
         "_deepnote_index_column": 4967
        },
        {
         "customer_id": "3ux5eu",
         "order_date": "10/10/2015",
         "order_id": "HTS-3ux5eu-0001",
         "pages_visited": 10,
         "tshirt_category": "Black T-Shirt F",
         "tshirt_price": "17,5",
         "tshirt_quantity": 4,
         "user_agent": "Mozilla/5.0 (Macintosh| Intel Mac OS X 10_12_3) AppleWebKit/602.4.8 (KHTML, like Gecko) Version/10.…",
         "_deepnote_index_column": 4968
        },
        {
         "customer_id": "572126",
         "order_date": "24/11/2015",
         "order_id": "HTS-572126-0003",
         "pages_visited": 12,
         "tshirt_category": "Black T-Shirt F",
         "tshirt_price": "17,5",
         "tshirt_quantity": 1,
         "user_agent": "Mozilla/5.0 (Macintosh| Intel Mac OS X 10_12_3) AppleWebKit/602.4.8 (KHTML, like Gecko) Version/10.…",
         "_deepnote_index_column": 4969
        },
        {
         "customer_id": "650805",
         "order_date": "24/04/2016",
         "order_id": "HTS-650805-0003",
         "pages_visited": 12,
         "tshirt_category": "Black T-Shirt F",
         "tshirt_price": "17,5",
         "tshirt_quantity": 5,
         "user_agent": "Mozilla/5.0 (Macintosh| Intel Mac OS X 10_12_3) AppleWebKit/602.4.8 (KHTML, like Gecko) Version/10.…",
         "_deepnote_index_column": 4970
        },
        {
         "customer_id": "741097",
         "order_date": "17/08/2015",
         "order_id": "HTS-741097-0003",
         "pages_visited": 13,
         "tshirt_category": "Black T-Shirt F",
         "tshirt_price": "17,5",
         "tshirt_quantity": 4,
         "user_agent": "Mozilla/5.0 (Macintosh| Intel Mac OS X 10_12_3) AppleWebKit/602.4.8 (KHTML, like Gecko) Version/10.…",
         "_deepnote_index_column": 4971
        },
        {
         "customer_id": "650805",
         "order_date": "08/07/2015",
         "order_id": "HTS-650805-0002",
         "pages_visited": 13,
         "tshirt_category": "Black T-Shirt F",
         "tshirt_price": "17,5",
         "tshirt_quantity": 5,
         "user_agent": "Mozilla/5.0 (Macintosh| Intel Mac OS X 10_12_3) AppleWebKit/602.4.8 (KHTML, like Gecko) Version/10.…",
         "_deepnote_index_column": 4972
        },
        {
         "customer_id": "lehnba",
         "order_date": "06/11/2016",
         "order_id": "HTS-lehnba-0003",
         "pages_visited": 14,
         "tshirt_category": "Black T-Shirt F",
         "tshirt_price": "17,5",
         "tshirt_quantity": 2,
         "user_agent": "Mozilla/5.0 (Macintosh| Intel Mac OS X 10_12_3) AppleWebKit/602.4.8 (KHTML, like Gecko) Version/10.…",
         "_deepnote_index_column": 4973
        },
        {
         "customer_id": "516630",
         "order_date": "19/07/2014",
         "order_id": "HTS-516630-0002",
         "pages_visited": 18,
         "tshirt_category": "Black T-Shirt F",
         "tshirt_price": "17,5",
         "tshirt_quantity": 22,
         "user_agent": "Mozilla/5.0 (Macintosh| Intel Mac OS X 10_12_3) AppleWebKit/602.4.8 (KHTML, like Gecko) Version/10.…",
         "_deepnote_index_column": 4974
        },
        {
         "customer_id": "lehnba",
         "order_date": "19/08/2015",
         "order_id": "HTS-lehnba-0001",
         "pages_visited": 19,
         "tshirt_category": "Black T-Shirt F",
         "tshirt_price": "17,5",
         "tshirt_quantity": 5,
         "user_agent": "Mozilla/5.0 (Macintosh| Intel Mac OS X 10_12_3) AppleWebKit/602.4.8 (KHTML, like Gecko) Version/10.…",
         "_deepnote_index_column": 4975
        },
        {
         "customer_id": "846287",
         "order_date": "18/03/2017",
         "order_id": "HTS-846287-0010",
         "pages_visited": 2,
         "tshirt_category": "Black T-Shirt F",
         "tshirt_price": "17,5",
         "tshirt_quantity": 4,
         "user_agent": "Mozilla/5.0 (Windows NT 10.0| WOW64) AppleWebKit/537.36 (KHTML, like Gecko) Chrome/56.0.2924.87 Saf…",
         "_deepnote_index_column": 4976
        },
        {
         "customer_id": "846287",
         "order_date": "12/04/2016",
         "order_id": "HTS-846287-0007",
         "pages_visited": 5,
         "tshirt_category": "Black T-Shirt F",
         "tshirt_price": "17,5",
         "tshirt_quantity": 5,
         "user_agent": "Mozilla/5.0 (Windows NT 10.0| WOW64) AppleWebKit/537.36 (KHTML, like Gecko) Chrome/56.0.2924.87 Saf…",
         "_deepnote_index_column": 4977
        },
        {
         "customer_id": "111454",
         "order_date": "07/06/2016",
         "order_id": "HTS-111454-0006",
         "pages_visited": 5,
         "tshirt_category": "Black T-Shirt F",
         "tshirt_price": "17,5",
         "tshirt_quantity": 5,
         "user_agent": "Mozilla/5.0 (Windows NT 10.0| WOW64) AppleWebKit/537.36 (KHTML, like Gecko) Chrome/56.0.2924.87 Saf…",
         "_deepnote_index_column": 4978
        },
        {
         "customer_id": "758881",
         "order_date": "13/12/2015",
         "order_id": "HTS-758881-0005",
         "pages_visited": 6,
         "tshirt_category": "Black T-Shirt F",
         "tshirt_price": "17,5",
         "tshirt_quantity": 3,
         "user_agent": "Mozilla/5.0 (Windows NT 10.0| WOW64) AppleWebKit/537.36 (KHTML, like Gecko) Chrome/56.0.2924.87 Saf…",
         "_deepnote_index_column": 4979
        },
        {
         "customer_id": "758881",
         "order_date": "07/02/2014",
         "order_id": "HTS-758881-0002",
         "pages_visited": 7,
         "tshirt_category": "Black T-Shirt F",
         "tshirt_price": "17,5",
         "tshirt_quantity": 1,
         "user_agent": "Mozilla/5.0 (Windows NT 10.0| WOW64) AppleWebKit/537.36 (KHTML, like Gecko) Chrome/56.0.2924.87 Saf…",
         "_deepnote_index_column": 4980
        },
        {
         "customer_id": "424426",
         "order_date": "07/08/2015",
         "order_id": "HTS-424426-0003",
         "pages_visited": 9,
         "tshirt_category": "Black T-Shirt F",
         "tshirt_price": "17,5",
         "tshirt_quantity": 1,
         "user_agent": "Mozilla/5.0 (Windows NT 10.0| WOW64) AppleWebKit/537.36 (KHTML, like Gecko) Chrome/56.0.2924.87 Saf…",
         "_deepnote_index_column": 4981
        },
        {
         "customer_id": "111454",
         "order_date": "19/03/2014",
         "order_id": "HTS-111454-0002",
         "pages_visited": 9,
         "tshirt_category": "Black T-Shirt F",
         "tshirt_price": "17,5",
         "tshirt_quantity": 1,
         "user_agent": "Mozilla/5.0 (Windows NT 10.0| WOW64) AppleWebKit/537.36 (KHTML, like Gecko) Chrome/56.0.2924.87 Saf…",
         "_deepnote_index_column": 4982
        },
        {
         "customer_id": "259250",
         "order_date": "08/09/2014",
         "order_id": "HTS-259250-0001",
         "pages_visited": 9,
         "tshirt_category": "Black T-Shirt F",
         "tshirt_price": "17,5",
         "tshirt_quantity": 1,
         "user_agent": "Mozilla/5.0 (Windows NT 10.0| WOW64) AppleWebKit/537.36 (KHTML, like Gecko) Chrome/56.0.2924.87 Saf…",
         "_deepnote_index_column": 4983
        },
        {
         "customer_id": "ad5pj4",
         "order_date": "18/09/2015",
         "order_id": "HTS-ad5pj4-0001",
         "pages_visited": 10,
         "tshirt_category": "Black T-Shirt F",
         "tshirt_price": "17,5",
         "tshirt_quantity": 3,
         "user_agent": "Mozilla/5.0 (Windows NT 10.0| WOW64) AppleWebKit/537.36 (KHTML, like Gecko) Chrome/56.0.2924.87 Saf…",
         "_deepnote_index_column": 4984
        },
        {
         "customer_id": "550969",
         "order_date": "27/02/2017",
         "order_id": "HTS-550969-0004",
         "pages_visited": 11,
         "tshirt_category": "Black T-Shirt F",
         "tshirt_price": "17,5",
         "tshirt_quantity": 2,
         "user_agent": "Mozilla/5.0 (Windows NT 10.0| WOW64) AppleWebKit/537.36 (KHTML, like Gecko) Chrome/56.0.2924.87 Saf…",
         "_deepnote_index_column": 4985
        },
        {
         "customer_id": "916523",
         "order_date": "11/02/2017",
         "order_id": "HTS-916523-0002",
         "pages_visited": 13,
         "tshirt_category": "Black T-Shirt F",
         "tshirt_price": "17,5",
         "tshirt_quantity": 2,
         "user_agent": "Mozilla/5.0 (Windows NT 10.0| WOW64) AppleWebKit/537.36 (KHTML, like Gecko) Chrome/56.0.2924.87 Saf…",
         "_deepnote_index_column": 4986
        },
        {
         "customer_id": "608127",
         "order_date": "04/04/2017",
         "order_id": "HTS-608127-0005",
         "pages_visited": 16,
         "tshirt_category": "Black T-Shirt F",
         "tshirt_price": "17,5",
         "tshirt_quantity": 5,
         "user_agent": "Mozilla/5.0 (Windows NT 10.0| WOW64) AppleWebKit/537.36 (KHTML, like Gecko) Chrome/56.0.2924.87 Saf…",
         "_deepnote_index_column": 4987
        },
        {
         "customer_id": "363930",
         "order_date": "14/01/2016",
         "order_id": "HTS-363930-0005",
         "pages_visited": 17,
         "tshirt_category": "Black T-Shirt F",
         "tshirt_price": "17,5",
         "tshirt_quantity": 4,
         "user_agent": "Mozilla/5.0 (Windows NT 10.0| WOW64) AppleWebKit/537.36 (KHTML, like Gecko) Chrome/56.0.2924.87 Saf…",
         "_deepnote_index_column": 4988
        },
        {
         "customer_id": "183784",
         "order_date": "20/08/2016",
         "order_id": "HTS-183784-0005",
         "pages_visited": 5,
         "tshirt_category": "Black T-Shirt F",
         "tshirt_price": "17,5",
         "tshirt_quantity": 1,
         "user_agent": "Mozilla/5.0 (Windows NT 10.0| WOW64| rv:51.0) Gecko/20100101 Firefox/51.0",
         "_deepnote_index_column": 4989
        },
        {
         "customer_id": "363790",
         "order_date": "05/12/2015",
         "order_id": "HTS-363790-0002",
         "pages_visited": 6,
         "tshirt_category": "Black T-Shirt F",
         "tshirt_price": "17,5",
         "tshirt_quantity": 1,
         "user_agent": "Mozilla/5.0 (Windows NT 10.0| WOW64| rv:51.0) Gecko/20100101 Firefox/51.0",
         "_deepnote_index_column": 4990
        },
        {
         "customer_id": "183784",
         "order_date": "15/10/2015",
         "order_id": "HTS-183784-0004",
         "pages_visited": 6,
         "tshirt_category": "Black T-Shirt F",
         "tshirt_price": "17,5",
         "tshirt_quantity": 1,
         "user_agent": "Mozilla/5.0 (Windows NT 10.0| WOW64| rv:51.0) Gecko/20100101 Firefox/51.0",
         "_deepnote_index_column": 4991
        },
        {
         "customer_id": "399318",
         "order_date": "13/09/2015",
         "order_id": "HTS-399318-0004",
         "pages_visited": 8,
         "tshirt_category": "Black T-Shirt F",
         "tshirt_price": "17,5",
         "tshirt_quantity": 4,
         "user_agent": "Mozilla/5.0 (Windows NT 10.0| WOW64| rv:51.0) Gecko/20100101 Firefox/51.0",
         "_deepnote_index_column": 4992
        },
        {
         "customer_id": "363732",
         "order_date": "22/09/2015",
         "order_id": "HTS-363732-0004",
         "pages_visited": 9,
         "tshirt_category": "Black T-Shirt F",
         "tshirt_price": "17,5",
         "tshirt_quantity": 4,
         "user_agent": "Mozilla/5.0 (Windows NT 10.0| WOW64| rv:51.0) Gecko/20100101 Firefox/51.0",
         "_deepnote_index_column": 4993
        },
        {
         "customer_id": "433300",
         "order_date": "27/08/2015",
         "order_id": "HTS-433300-0002",
         "pages_visited": 12,
         "tshirt_category": "Black T-Shirt F",
         "tshirt_price": "17,5",
         "tshirt_quantity": 3,
         "user_agent": "Mozilla/5.0 (Windows NT 10.0| WOW64| rv:51.0) Gecko/20100101 Firefox/51.0",
         "_deepnote_index_column": 4994
        },
        {
         "customer_id": "49290",
         "order_date": "20/12/2015",
         "order_id": "HTS-049290-0003",
         "pages_visited": 13,
         "tshirt_category": "Black T-Shirt F",
         "tshirt_price": "17,5",
         "tshirt_quantity": 3,
         "user_agent": "Mozilla/5.0 (Windows NT 10.0| WOW64| rv:51.0) Gecko/20100101 Firefox/51.0",
         "_deepnote_index_column": 4995
        },
        {
         "customer_id": "f1wvaf",
         "order_date": "09/05/2016",
         "order_id": "HTS-f1wvaf-0002",
         "pages_visited": 9,
         "tshirt_category": "Black T-Shirt F",
         "tshirt_price": "17,5",
         "tshirt_quantity": 6,
         "user_agent": "Mozilla/5.0 (Windows NT 10.0| WOW64| rv:52.0) Gecko/20100101 Firefox/52.0",
         "_deepnote_index_column": 4996
        },
        {
         "customer_id": "891256",
         "order_date": "29/11/2016",
         "order_id": "HTS-891256-0005",
         "pages_visited": 10,
         "tshirt_category": "Black T-Shirt F",
         "tshirt_price": "17,5",
         "tshirt_quantity": 2,
         "user_agent": "Mozilla/5.0 (Windows NT 10.0| WOW64| rv:52.0) Gecko/20100101 Firefox/52.0",
         "_deepnote_index_column": 4997
        }
       ]
      },
      "text/plain": "     customer_id  order_date         order_id  pages_visited  tshirt_category  \\\n0          38040  04/09/2016  HTS-038040-0002              9  White T-Shirt M   \n1         vft1eu  26/02/2017  HTS-vft1eu-0003             10  White T-Shirt F   \n2         914324  01/12/2013  HTS-914324-0001             10      Wh Tshirt F   \n3          61311  15/01/2016  HTS-061311-0003              9  Black T-Shirt F   \n4         494332  03/11/2013  HTS-494332-0001             10      Wh Tshirt F   \n...          ...         ...              ...            ...              ...   \n4993      363732  22/09/2015  HTS-363732-0004              9  Black T-Shirt F   \n4994      433300  27/08/2015  HTS-433300-0002             12  Black T-Shirt F   \n4995       49290  20/12/2015  HTS-049290-0003             13  Black T-Shirt F   \n4996      f1wvaf  09/05/2016  HTS-f1wvaf-0002              9  Black T-Shirt F   \n4997      891256  29/11/2016  HTS-891256-0005             10  Black T-Shirt F   \n\n     tshirt_price  tshirt_quantity  \\\n0              20                1   \n1              18                3   \n2              18                1   \n3            17,5                4   \n4              18                2   \n...           ...              ...   \n4993         17,5                4   \n4994         17,5                3   \n4995         17,5                3   \n4996         17,5                6   \n4997         17,5                2   \n\n                                             user_agent  \n0     Mozilla/5.0 (Windows NT 10.0| WOW64) AppleWebK...  \n1     Mozilla/5.0 (Macintosh| Intel Mac OS X 10_12_3...  \n2     Mozilla/5.0 (Windows NT 10.0| WOW64) AppleWebK...  \n3     Mozilla/5.0 (Macintosh| Intel Mac OS X 10_12_3...  \n4     Mozilla/5.0 (Macintosh| Intel Mac OS X 10_11_6...  \n...                                                 ...  \n4993  Mozilla/5.0 (Windows NT 10.0| WOW64| rv:51.0) ...  \n4994  Mozilla/5.0 (Windows NT 10.0| WOW64| rv:51.0) ...  \n4995  Mozilla/5.0 (Windows NT 10.0| WOW64| rv:51.0) ...  \n4996  Mozilla/5.0 (Windows NT 10.0| WOW64| rv:52.0) ...  \n4997  Mozilla/5.0 (Windows NT 10.0| WOW64| rv:52.0) ...  \n\n[4998 rows x 8 columns]",
      "text/html": "<div>\n<style scoped>\n    .dataframe tbody tr th:only-of-type {\n        vertical-align: middle;\n    }\n\n    .dataframe tbody tr th {\n        vertical-align: top;\n    }\n\n    .dataframe thead th {\n        text-align: right;\n    }\n</style>\n<table border=\"1\" class=\"dataframe\">\n  <thead>\n    <tr style=\"text-align: right;\">\n      <th></th>\n      <th>customer_id</th>\n      <th>order_date</th>\n      <th>order_id</th>\n      <th>pages_visited</th>\n      <th>tshirt_category</th>\n      <th>tshirt_price</th>\n      <th>tshirt_quantity</th>\n      <th>user_agent</th>\n    </tr>\n  </thead>\n  <tbody>\n    <tr>\n      <th>0</th>\n      <td>38040</td>\n      <td>04/09/2016</td>\n      <td>HTS-038040-0002</td>\n      <td>9</td>\n      <td>White T-Shirt M</td>\n      <td>20</td>\n      <td>1</td>\n      <td>Mozilla/5.0 (Windows NT 10.0| WOW64) AppleWebK...</td>\n    </tr>\n    <tr>\n      <th>1</th>\n      <td>vft1eu</td>\n      <td>26/02/2017</td>\n      <td>HTS-vft1eu-0003</td>\n      <td>10</td>\n      <td>White T-Shirt F</td>\n      <td>18</td>\n      <td>3</td>\n      <td>Mozilla/5.0 (Macintosh| Intel Mac OS X 10_12_3...</td>\n    </tr>\n    <tr>\n      <th>2</th>\n      <td>914324</td>\n      <td>01/12/2013</td>\n      <td>HTS-914324-0001</td>\n      <td>10</td>\n      <td>Wh Tshirt F</td>\n      <td>18</td>\n      <td>1</td>\n      <td>Mozilla/5.0 (Windows NT 10.0| WOW64) AppleWebK...</td>\n    </tr>\n    <tr>\n      <th>3</th>\n      <td>61311</td>\n      <td>15/01/2016</td>\n      <td>HTS-061311-0003</td>\n      <td>9</td>\n      <td>Black T-Shirt F</td>\n      <td>17,5</td>\n      <td>4</td>\n      <td>Mozilla/5.0 (Macintosh| Intel Mac OS X 10_12_3...</td>\n    </tr>\n    <tr>\n      <th>4</th>\n      <td>494332</td>\n      <td>03/11/2013</td>\n      <td>HTS-494332-0001</td>\n      <td>10</td>\n      <td>Wh Tshirt F</td>\n      <td>18</td>\n      <td>2</td>\n      <td>Mozilla/5.0 (Macintosh| Intel Mac OS X 10_11_6...</td>\n    </tr>\n    <tr>\n      <th>...</th>\n      <td>...</td>\n      <td>...</td>\n      <td>...</td>\n      <td>...</td>\n      <td>...</td>\n      <td>...</td>\n      <td>...</td>\n      <td>...</td>\n    </tr>\n    <tr>\n      <th>4993</th>\n      <td>363732</td>\n      <td>22/09/2015</td>\n      <td>HTS-363732-0004</td>\n      <td>9</td>\n      <td>Black T-Shirt F</td>\n      <td>17,5</td>\n      <td>4</td>\n      <td>Mozilla/5.0 (Windows NT 10.0| WOW64| rv:51.0) ...</td>\n    </tr>\n    <tr>\n      <th>4994</th>\n      <td>433300</td>\n      <td>27/08/2015</td>\n      <td>HTS-433300-0002</td>\n      <td>12</td>\n      <td>Black T-Shirt F</td>\n      <td>17,5</td>\n      <td>3</td>\n      <td>Mozilla/5.0 (Windows NT 10.0| WOW64| rv:51.0) ...</td>\n    </tr>\n    <tr>\n      <th>4995</th>\n      <td>49290</td>\n      <td>20/12/2015</td>\n      <td>HTS-049290-0003</td>\n      <td>13</td>\n      <td>Black T-Shirt F</td>\n      <td>17,5</td>\n      <td>3</td>\n      <td>Mozilla/5.0 (Windows NT 10.0| WOW64| rv:51.0) ...</td>\n    </tr>\n    <tr>\n      <th>4996</th>\n      <td>f1wvaf</td>\n      <td>09/05/2016</td>\n      <td>HTS-f1wvaf-0002</td>\n      <td>9</td>\n      <td>Black T-Shirt F</td>\n      <td>17,5</td>\n      <td>6</td>\n      <td>Mozilla/5.0 (Windows NT 10.0| WOW64| rv:52.0) ...</td>\n    </tr>\n    <tr>\n      <th>4997</th>\n      <td>891256</td>\n      <td>29/11/2016</td>\n      <td>HTS-891256-0005</td>\n      <td>10</td>\n      <td>Black T-Shirt F</td>\n      <td>17,5</td>\n      <td>2</td>\n      <td>Mozilla/5.0 (Windows NT 10.0| WOW64| rv:52.0) ...</td>\n    </tr>\n  </tbody>\n</table>\n<p>4998 rows × 8 columns</p>\n</div>"
     },
     "metadata": {}
    }
   ]
  },
  {
   "cell_type": "code",
   "metadata": {
    "tags": [],
    "cell_id": "00011-e6d360aa-bfb5-4b4e-a704-385376fbfac3",
    "deepnote_to_be_reexecuted": false,
    "source_hash": "7fef18a0",
    "execution_start": 1629376244705,
    "execution_millis": 180,
    "is_output_hidden": true,
    "deepnote_cell_type": "code"
   },
   "source": "df_vente_part2",
   "execution_count": null,
   "outputs": [
    {
     "output_type": "execute_result",
     "execution_count": 22,
     "data": {
      "application/vnd.deepnote.dataframe.v2+json": {
       "row_count": 4998,
       "column_count": 8,
       "columns": [
        {
         "name": "customer_id",
         "dtype": "object",
         "stats": {
          "unique_count": 2316,
          "nan_count": 0,
          "categories": [
           {
            "name": "536917",
            "count": 10
           },
           {
            "name": "745166",
            "count": 9
           },
           {
            "name": "2314 others",
            "count": 4979
           }
          ]
         }
        },
        {
         "name": "order_date",
         "dtype": "object",
         "stats": {
          "unique_count": 1289,
          "nan_count": 0,
          "categories": [
           {
            "name": "05/11/2015",
            "count": 15
           },
           {
            "name": "25/10/2015",
            "count": 13
           },
           {
            "name": "1287 others",
            "count": 4970
           }
          ]
         }
        },
        {
         "name": "order_id",
         "dtype": "object",
         "stats": {
          "unique_count": 4997,
          "nan_count": 0,
          "categories": [
           {
            "name": "HTS-357124-0001",
            "count": 2
           },
           {
            "name": "HTS-357500-0003",
            "count": 1
           },
           {
            "name": "4995 others",
            "count": 4995
           }
          ]
         }
        },
        {
         "name": "pages_visited",
         "dtype": "int64",
         "stats": {
          "unique_count": 24,
          "nan_count": 0,
          "min": "2",
          "max": "28",
          "histogram": [
           {
            "bin_start": 2,
            "bin_end": 4.6,
            "count": 152
           },
           {
            "bin_start": 4.6,
            "bin_end": 7.2,
            "count": 761
           },
           {
            "bin_start": 7.2,
            "bin_end": 9.8,
            "count": 928
           },
           {
            "bin_start": 9.8,
            "bin_end": 12.4,
            "count": 1587
           },
           {
            "bin_start": 12.4,
            "bin_end": 15,
            "count": 775
           },
           {
            "bin_start": 15,
            "bin_end": 17.6,
            "count": 591
           },
           {
            "bin_start": 17.6,
            "bin_end": 20.2,
            "count": 168
           },
           {
            "bin_start": 20.2,
            "bin_end": 22.8,
            "count": 28
           },
           {
            "bin_start": 22.8,
            "bin_end": 25.400000000000002,
            "count": 7
           },
           {
            "bin_start": 25.400000000000002,
            "bin_end": 28,
            "count": 1
           }
          ]
         }
        },
        {
         "name": "tshirt_category",
         "dtype": "object",
         "stats": {
          "unique_count": 10,
          "nan_count": 0,
          "categories": [
           {
            "name": "Hoodie",
            "count": 1317
           },
           {
            "name": "White T-Shirt M",
            "count": 1120
           },
           {
            "name": "8 others",
            "count": 2561
           }
          ]
         }
        },
        {
         "name": "tshirt_price",
         "dtype": "object",
         "stats": {
          "unique_count": 6,
          "nan_count": 0,
          "categories": [
           {
            "name": "23",
            "count": 1317
           },
           {
            "name": "20",
            "count": 1218
           },
           {
            "name": "4 others",
            "count": 2463
           }
          ]
         }
        },
        {
         "name": "tshirt_quantity",
         "dtype": "int64",
         "stats": {
          "unique_count": 27,
          "nan_count": 0,
          "min": "1",
          "max": "29",
          "histogram": [
           {
            "bin_start": 1,
            "bin_end": 3.8,
            "count": 4181
           },
           {
            "bin_start": 3.8,
            "bin_end": 6.6,
            "count": 517
           },
           {
            "bin_start": 6.6,
            "bin_end": 9.399999999999999,
            "count": 61
           },
           {
            "bin_start": 9.399999999999999,
            "bin_end": 12.2,
            "count": 36
           },
           {
            "bin_start": 12.2,
            "bin_end": 15,
            "count": 49
           },
           {
            "bin_start": 15,
            "bin_end": 17.799999999999997,
            "count": 59
           },
           {
            "bin_start": 17.799999999999997,
            "bin_end": 20.599999999999998,
            "count": 61
           },
           {
            "bin_start": 20.599999999999998,
            "bin_end": 23.4,
            "count": 23
           },
           {
            "bin_start": 23.4,
            "bin_end": 26.2,
            "count": 10
           },
           {
            "bin_start": 26.2,
            "bin_end": 29,
            "count": 1
           }
          ]
         }
        },
        {
         "name": "user_agent",
         "dtype": "object",
         "stats": {
          "unique_count": 20,
          "nan_count": 0,
          "categories": [
           {
            "name": "Mozilla/5.0 (Windows NT 10.0| Win64| x64) AppleWebKit/537.36 (KHTML, like Gecko) Chrome/56.0.2924.87 Safari/537.36",
            "count": 852
           },
           {
            "name": "Mozilla/5.0 (Windows NT 10.0| WOW64) AppleWebKit/537.36 (KHTML, like Gecko) Chrome/56.0.2924.87 Safari/537.36",
            "count": 644
           },
           {
            "name": "18 others",
            "count": 3502
           }
          ]
         }
        },
        {
         "name": "_deepnote_index_column",
         "dtype": "int64"
        }
       ],
       "rows_top": [
        {
         "customer_id": "357500",
         "order_date": "26/02/2015",
         "order_id": "HTS-357500-0003",
         "pages_visited": 14,
         "tshirt_category": "Black T-Shirt F",
         "tshirt_price": "17,5",
         "tshirt_quantity": 14,
         "user_agent": "Mozilla/5.0 (Windows NT 10.0| WOW64| rv:52.0) Gecko/20100101 Firefox/52.0",
         "_deepnote_index_column": 0
        },
        {
         "customer_id": "357500",
         "order_date": "26/05/2014",
         "order_id": "HTS-357500-0002",
         "pages_visited": 20,
         "tshirt_category": "Black T-Shirt F",
         "tshirt_price": "17,5",
         "tshirt_quantity": 13,
         "user_agent": "Mozilla/5.0 (Windows NT 10.0| WOW64| rv:52.0) Gecko/20100101 Firefox/52.0",
         "_deepnote_index_column": 1
        },
        {
         "customer_id": "256541",
         "order_date": "15/11/2014",
         "order_id": "HTS-256541-0001",
         "pages_visited": 8,
         "tshirt_category": "Black T-Shirt F",
         "tshirt_price": "17,5",
         "tshirt_quantity": 1,
         "user_agent": "Mozilla/5.0 (Windows NT 10.0| Win64| x64) AppleWebKit/537.36 (KHTML, like Gecko) Chrome/51.0.2704.7…",
         "_deepnote_index_column": 2
        },
        {
         "customer_id": "694300",
         "order_date": "20/03/2017",
         "order_id": "HTS-694300-0005",
         "pages_visited": 9,
         "tshirt_category": "Black T-Shirt F",
         "tshirt_price": "17,5",
         "tshirt_quantity": 2,
         "user_agent": "Mozilla/5.0 (Windows NT 10.0| Win64| x64) AppleWebKit/537.36 (KHTML, like Gecko) Chrome/51.0.2704.7…",
         "_deepnote_index_column": 3
        },
        {
         "customer_id": "491681",
         "order_date": "16/02/2016",
         "order_id": "HTS-491681-0005",
         "pages_visited": 5,
         "tshirt_category": "Black T-Shirt F",
         "tshirt_price": "17,5",
         "tshirt_quantity": 1,
         "user_agent": "Mozilla/5.0 (Windows NT 10.0| Win64| x64) AppleWebKit/537.36 (KHTML, like Gecko) Chrome/56.0.2924.8…",
         "_deepnote_index_column": 4
        },
        {
         "customer_id": "o7fecu",
         "order_date": "11/10/2016",
         "order_id": "HTS-o7fecu-0004",
         "pages_visited": 6,
         "tshirt_category": "Black T-Shirt F",
         "tshirt_price": "17,5",
         "tshirt_quantity": 1,
         "user_agent": "Mozilla/5.0 (Windows NT 10.0| Win64| x64) AppleWebKit/537.36 (KHTML, like Gecko) Chrome/56.0.2924.8…",
         "_deepnote_index_column": 5
        },
        {
         "customer_id": "03i0ia",
         "order_date": "30/07/2016",
         "order_id": "HTS-03i0ia-0002",
         "pages_visited": 8,
         "tshirt_category": "Black T-Shirt F",
         "tshirt_price": "17,5",
         "tshirt_quantity": 2,
         "user_agent": "Mozilla/5.0 (Windows NT 10.0| Win64| x64) AppleWebKit/537.36 (KHTML, like Gecko) Chrome/56.0.2924.8…",
         "_deepnote_index_column": 6
        },
        {
         "customer_id": "ubm5qz",
         "order_date": "14/06/2016",
         "order_id": "HTS-ubm5qz-0002",
         "pages_visited": 8,
         "tshirt_category": "Black T-Shirt F",
         "tshirt_price": "17,5",
         "tshirt_quantity": 2,
         "user_agent": "Mozilla/5.0 (Windows NT 10.0| Win64| x64) AppleWebKit/537.36 (KHTML, like Gecko) Chrome/56.0.2924.8…",
         "_deepnote_index_column": 7
        },
        {
         "customer_id": "p1ko7t",
         "order_date": "17/11/2015",
         "order_id": "HTS-p1ko7t-0001",
         "pages_visited": 8,
         "tshirt_category": "Black T-Shirt F",
         "tshirt_price": "17,5",
         "tshirt_quantity": 5,
         "user_agent": "Mozilla/5.0 (Windows NT 10.0| Win64| x64) AppleWebKit/537.36 (KHTML, like Gecko) Chrome/56.0.2924.8…",
         "_deepnote_index_column": 8
        },
        {
         "customer_id": "tnxnh3",
         "order_date": "20/07/2016",
         "order_id": "HTS-tnxnh3-0002",
         "pages_visited": 8,
         "tshirt_category": "Black T-Shirt F",
         "tshirt_price": "17,5",
         "tshirt_quantity": 6,
         "user_agent": "Mozilla/5.0 (Windows NT 10.0| Win64| x64) AppleWebKit/537.36 (KHTML, like Gecko) Chrome/56.0.2924.8…",
         "_deepnote_index_column": 9
        },
        {
         "customer_id": "41utl3",
         "order_date": "13/01/2017",
         "order_id": "HTS-41utl3-0004",
         "pages_visited": 8,
         "tshirt_category": "Black T-Shirt F",
         "tshirt_price": "17,5",
         "tshirt_quantity": 12,
         "user_agent": "Mozilla/5.0 (Windows NT 10.0| Win64| x64) AppleWebKit/537.36 (KHTML, like Gecko) Chrome/56.0.2924.8…",
         "_deepnote_index_column": 10
        },
        {
         "customer_id": "xm6y52",
         "order_date": "23/03/2016",
         "order_id": "HTS-xm6y52-0002",
         "pages_visited": 9,
         "tshirt_category": "Black T-Shirt F",
         "tshirt_price": "17,5",
         "tshirt_quantity": 1,
         "user_agent": "Mozilla/5.0 (Windows NT 10.0| Win64| x64) AppleWebKit/537.36 (KHTML, like Gecko) Chrome/56.0.2924.8…",
         "_deepnote_index_column": 11
        },
        {
         "customer_id": "359468",
         "order_date": "04/01/2016",
         "order_id": "HTS-359468-0001",
         "pages_visited": 9,
         "tshirt_category": "Black T-Shirt F",
         "tshirt_price": "17,5",
         "tshirt_quantity": 3,
         "user_agent": "Mozilla/5.0 (Windows NT 10.0| Win64| x64) AppleWebKit/537.36 (KHTML, like Gecko) Chrome/56.0.2924.8…",
         "_deepnote_index_column": 12
        },
        {
         "customer_id": "p1ko7t",
         "order_date": "23/08/2016",
         "order_id": "HTS-p1ko7t-0002",
         "pages_visited": 9,
         "tshirt_category": "Black T-Shirt F",
         "tshirt_price": "17,5",
         "tshirt_quantity": 8,
         "user_agent": "Mozilla/5.0 (Windows NT 10.0| Win64| x64) AppleWebKit/537.36 (KHTML, like Gecko) Chrome/56.0.2924.8…",
         "_deepnote_index_column": 13
        },
        {
         "customer_id": "yb0362",
         "order_date": "16/11/2015",
         "order_id": "HTS-yb0362-0001",
         "pages_visited": 9,
         "tshirt_category": "Black T-Shirt F",
         "tshirt_price": "17,5",
         "tshirt_quantity": 11,
         "user_agent": "Mozilla/5.0 (Windows NT 10.0| Win64| x64) AppleWebKit/537.36 (KHTML, like Gecko) Chrome/56.0.2924.8…",
         "_deepnote_index_column": 14
        },
        {
         "customer_id": "2w14mp",
         "order_date": "06/08/2016",
         "order_id": "HTS-2w14mp-0002",
         "pages_visited": 9,
         "tshirt_category": "Black T-Shirt F",
         "tshirt_price": "17,5",
         "tshirt_quantity": 19,
         "user_agent": "Mozilla/5.0 (Windows NT 10.0| Win64| x64) AppleWebKit/537.36 (KHTML, like Gecko) Chrome/56.0.2924.8…",
         "_deepnote_index_column": 15
        },
        {
         "customer_id": "5rem3f",
         "order_date": "23/12/2016",
         "order_id": "HTS-5rem3f-0003",
         "pages_visited": 10,
         "tshirt_category": "Black T-Shirt F",
         "tshirt_price": "17,5",
         "tshirt_quantity": 1,
         "user_agent": "Mozilla/5.0 (Windows NT 10.0| Win64| x64) AppleWebKit/537.36 (KHTML, like Gecko) Chrome/56.0.2924.8…",
         "_deepnote_index_column": 16
        },
        {
         "customer_id": "688983",
         "order_date": "25/06/2016",
         "order_id": "HTS-688983-0002",
         "pages_visited": 10,
         "tshirt_category": "Black T-Shirt F",
         "tshirt_price": "17,5",
         "tshirt_quantity": 1,
         "user_agent": "Mozilla/5.0 (Windows NT 10.0| Win64| x64) AppleWebKit/537.36 (KHTML, like Gecko) Chrome/56.0.2924.8…",
         "_deepnote_index_column": 17
        },
        {
         "customer_id": "660735",
         "order_date": "30/01/2016",
         "order_id": "HTS-660735-0002",
         "pages_visited": 10,
         "tshirt_category": "Black T-Shirt F",
         "tshirt_price": "17,5",
         "tshirt_quantity": 3,
         "user_agent": "Mozilla/5.0 (Windows NT 10.0| Win64| x64) AppleWebKit/537.36 (KHTML, like Gecko) Chrome/56.0.2924.8…",
         "_deepnote_index_column": 18
        },
        {
         "customer_id": "7q9bl8",
         "order_date": "02/03/2017",
         "order_id": "HTS-7q9bl8-0004",
         "pages_visited": 11,
         "tshirt_category": "Black T-Shirt F",
         "tshirt_price": "17,5",
         "tshirt_quantity": 1,
         "user_agent": "Mozilla/5.0 (Windows NT 10.0| Win64| x64) AppleWebKit/537.36 (KHTML, like Gecko) Chrome/56.0.2924.8…",
         "_deepnote_index_column": 19
        },
        {
         "customer_id": "cayo5g",
         "order_date": "22/11/2016",
         "order_id": "HTS-cayo5g-0002",
         "pages_visited": 11,
         "tshirt_category": "Black T-Shirt F",
         "tshirt_price": "17,5",
         "tshirt_quantity": 1,
         "user_agent": "Mozilla/5.0 (Windows NT 10.0| Win64| x64) AppleWebKit/537.36 (KHTML, like Gecko) Chrome/56.0.2924.8…",
         "_deepnote_index_column": 20
        },
        {
         "customer_id": "940546",
         "order_date": "17/05/2016",
         "order_id": "HTS-940546-0002",
         "pages_visited": 12,
         "tshirt_category": "Black T-Shirt F",
         "tshirt_price": "17,5",
         "tshirt_quantity": 1,
         "user_agent": "Mozilla/5.0 (Windows NT 10.0| Win64| x64) AppleWebKit/537.36 (KHTML, like Gecko) Chrome/56.0.2924.8…",
         "_deepnote_index_column": 21
        },
        {
         "customer_id": "1j1cbo",
         "order_date": "22/12/2015",
         "order_id": "HTS-1j1cbo-0002",
         "pages_visited": 12,
         "tshirt_category": "Black T-Shirt F",
         "tshirt_price": "17,5",
         "tshirt_quantity": 1,
         "user_agent": "Mozilla/5.0 (Windows NT 10.0| Win64| x64) AppleWebKit/537.36 (KHTML, like Gecko) Chrome/56.0.2924.8…",
         "_deepnote_index_column": 22
        },
        {
         "customer_id": "xm6y52",
         "order_date": "11/08/2015",
         "order_id": "HTS-xm6y52-0001",
         "pages_visited": 12,
         "tshirt_category": "Black T-Shirt F",
         "tshirt_price": "17,5",
         "tshirt_quantity": 5,
         "user_agent": "Mozilla/5.0 (Windows NT 10.0| Win64| x64) AppleWebKit/537.36 (KHTML, like Gecko) Chrome/56.0.2924.8…",
         "_deepnote_index_column": 23
        },
        {
         "customer_id": "764175",
         "order_date": "19/05/2016",
         "order_id": "HTS-764175-0003",
         "pages_visited": 13,
         "tshirt_category": "Black T-Shirt F",
         "tshirt_price": "17,5",
         "tshirt_quantity": 1,
         "user_agent": "Mozilla/5.0 (Windows NT 10.0| Win64| x64) AppleWebKit/537.36 (KHTML, like Gecko) Chrome/56.0.2924.8…",
         "_deepnote_index_column": 24
        },
        {
         "customer_id": "1j1cbo",
         "order_date": "09/07/2015",
         "order_id": "HTS-1j1cbo-0001",
         "pages_visited": 16,
         "tshirt_category": "Black T-Shirt F",
         "tshirt_price": "17,5",
         "tshirt_quantity": 4,
         "user_agent": "Mozilla/5.0 (Windows NT 10.0| Win64| x64) AppleWebKit/537.36 (KHTML, like Gecko) Chrome/56.0.2924.8…",
         "_deepnote_index_column": 25
        },
        {
         "customer_id": "j3cew4",
         "order_date": "21/07/2015",
         "order_id": "HTS-j3cew4-0001",
         "pages_visited": 21,
         "tshirt_category": "Black T-Shirt F",
         "tshirt_price": "17,5",
         "tshirt_quantity": 1,
         "user_agent": "Mozilla/5.0 (Windows NT 10.0| Win64| x64) AppleWebKit/537.36 (KHTML, like Gecko) Chrome/56.0.2924.8…",
         "_deepnote_index_column": 26
        },
        {
         "customer_id": "13125",
         "order_date": "24/05/2015",
         "order_id": "HTS-013125-0001",
         "pages_visited": 9,
         "tshirt_category": "Black T-Shirt F",
         "tshirt_price": "17,5",
         "tshirt_quantity": 2,
         "user_agent": "Mozilla/5.0 (Windows NT 6.1) AppleWebKit/537.36 (KHTML, like Gecko) Chrome/56.0.2924.87 Safari/537.…",
         "_deepnote_index_column": 27
        },
        {
         "customer_id": "655330",
         "order_date": "15/12/2015",
         "order_id": "HTS-655330-0004",
         "pages_visited": 10,
         "tshirt_category": "Black T-Shirt F",
         "tshirt_price": "17,5",
         "tshirt_quantity": 2,
         "user_agent": "Mozilla/5.0 (Windows NT 6.1) AppleWebKit/537.36 (KHTML, like Gecko) Chrome/56.0.2924.87 Safari/537.…",
         "_deepnote_index_column": 28
        },
        {
         "customer_id": "287919",
         "order_date": "15/07/2014",
         "order_id": "HTS-287919-0002",
         "pages_visited": 7,
         "tshirt_category": "Black T-Shirt F",
         "tshirt_price": "17,5",
         "tshirt_quantity": 2,
         "user_agent": "Mozilla/5.0 (Windows NT 6.1| WOW64) AppleWebKit/537.36 (KHTML, like Gecko) Chrome/56.0.2924.87 Safa…",
         "_deepnote_index_column": 29
        },
        {
         "customer_id": "805920",
         "order_date": "04/07/2016",
         "order_id": "HTS-805920-0004",
         "pages_visited": 8,
         "tshirt_category": "Black T-Shirt F",
         "tshirt_price": "17,5",
         "tshirt_quantity": 3,
         "user_agent": "Mozilla/5.0 (Windows NT 6.1| WOW64) AppleWebKit/537.36 (KHTML, like Gecko) Chrome/56.0.2924.87 Safa…",
         "_deepnote_index_column": 30
        },
        {
         "customer_id": "805920",
         "order_date": "10/02/2017",
         "order_id": "HTS-805920-0005",
         "pages_visited": 8,
         "tshirt_category": "Black T-Shirt F",
         "tshirt_price": "17,5",
         "tshirt_quantity": 5,
         "user_agent": "Mozilla/5.0 (Windows NT 6.1| WOW64) AppleWebKit/537.36 (KHTML, like Gecko) Chrome/56.0.2924.87 Safa…",
         "_deepnote_index_column": 31
        },
        {
         "customer_id": "90x4tg",
         "order_date": "27/02/2017",
         "order_id": "HTS-90x4tg-0002",
         "pages_visited": 9,
         "tshirt_category": "Black T-Shirt F",
         "tshirt_price": "17,5",
         "tshirt_quantity": 2,
         "user_agent": "Mozilla/5.0 (Windows NT 6.1| WOW64) AppleWebKit/537.36 (KHTML, like Gecko) Chrome/56.0.2924.87 Safa…",
         "_deepnote_index_column": 32
        },
        {
         "customer_id": "260410",
         "order_date": "28/08/2016",
         "order_id": "HTS-260410-0001",
         "pages_visited": 10,
         "tshirt_category": "Black T-Shirt F",
         "tshirt_price": "17,5",
         "tshirt_quantity": 1,
         "user_agent": "Mozilla/5.0 (Windows NT 6.1| WOW64) AppleWebKit/537.36 (KHTML, like Gecko) Chrome/56.0.2924.87 Safa…",
         "_deepnote_index_column": 33
        },
        {
         "customer_id": "1whx2d",
         "order_date": "05/08/2016",
         "order_id": "HTS-1whx2d-0002",
         "pages_visited": 10,
         "tshirt_category": "Black T-Shirt F",
         "tshirt_price": "17,5",
         "tshirt_quantity": 1,
         "user_agent": "Mozilla/5.0 (Windows NT 6.1| WOW64) AppleWebKit/537.36 (KHTML, like Gecko) Chrome/56.0.2924.87 Safa…",
         "_deepnote_index_column": 34
        },
        {
         "customer_id": "72730",
         "order_date": "08/08/2015",
         "order_id": "HTS-072730-0003",
         "pages_visited": 10,
         "tshirt_category": "Black T-Shirt F",
         "tshirt_price": "17,5",
         "tshirt_quantity": 5,
         "user_agent": "Mozilla/5.0 (Windows NT 6.1| WOW64) AppleWebKit/537.36 (KHTML, like Gecko) Chrome/56.0.2924.87 Safa…",
         "_deepnote_index_column": 35
        },
        {
         "customer_id": "738521",
         "order_date": "10/11/2016",
         "order_id": "HTS-738521-0002",
         "pages_visited": 11,
         "tshirt_category": "Black T-Shirt F",
         "tshirt_price": "17,5",
         "tshirt_quantity": 2,
         "user_agent": "Mozilla/5.0 (Windows NT 6.1| WOW64) AppleWebKit/537.36 (KHTML, like Gecko) Chrome/56.0.2924.87 Safa…",
         "_deepnote_index_column": 36
        },
        {
         "customer_id": "986365",
         "order_date": "28/10/2015",
         "order_id": "HTS-986365-0001",
         "pages_visited": 12,
         "tshirt_category": "Black T-Shirt F",
         "tshirt_price": "17,5",
         "tshirt_quantity": 1,
         "user_agent": "Mozilla/5.0 (Windows NT 6.1| WOW64) AppleWebKit/537.36 (KHTML, like Gecko) Chrome/56.0.2924.87 Safa…",
         "_deepnote_index_column": 37
        },
        {
         "customer_id": "mpu6f5",
         "order_date": "16/10/2015",
         "order_id": "HTS-mpu6f5-0001",
         "pages_visited": 13,
         "tshirt_category": "Black T-Shirt F",
         "tshirt_price": "17,5",
         "tshirt_quantity": 4,
         "user_agent": "Mozilla/5.0 (Windows NT 6.1| WOW64) AppleWebKit/537.36 (KHTML, like Gecko) Chrome/56.0.2924.87 Safa…",
         "_deepnote_index_column": 38
        },
        {
         "customer_id": "lf592o",
         "order_date": "01/10/2015",
         "order_id": "HTS-lf592o-0001",
         "pages_visited": 13,
         "tshirt_category": "Black T-Shirt F",
         "tshirt_price": "17,5",
         "tshirt_quantity": 7,
         "user_agent": "Mozilla/5.0 (Windows NT 6.1| WOW64) AppleWebKit/537.36 (KHTML, like Gecko) Chrome/56.0.2924.87 Safa…",
         "_deepnote_index_column": 39
        },
        {
         "customer_id": "489641",
         "order_date": "12/06/2016",
         "order_id": "HTS-489641-0003",
         "pages_visited": 14,
         "tshirt_category": "Black T-Shirt F",
         "tshirt_price": "17,5",
         "tshirt_quantity": 2,
         "user_agent": "Mozilla/5.0 (Windows NT 6.1| WOW64) AppleWebKit/537.36 (KHTML, like Gecko) Chrome/56.0.2924.87 Safa…",
         "_deepnote_index_column": 40
        },
        {
         "customer_id": "90x4tg",
         "order_date": "18/01/2016",
         "order_id": "HTS-90x4tg-0001",
         "pages_visited": 15,
         "tshirt_category": "Black T-Shirt F",
         "tshirt_price": "17,5",
         "tshirt_quantity": 1,
         "user_agent": "Mozilla/5.0 (Windows NT 6.1| WOW64) AppleWebKit/537.36 (KHTML, like Gecko) Chrome/56.0.2924.87 Safa…",
         "_deepnote_index_column": 41
        },
        {
         "customer_id": "72730",
         "order_date": "26/09/2014",
         "order_id": "HTS-072730-0002",
         "pages_visited": 18,
         "tshirt_category": "Black T-Shirt F",
         "tshirt_price": "17,5",
         "tshirt_quantity": 1,
         "user_agent": "Mozilla/5.0 (Windows NT 6.1| WOW64) AppleWebKit/537.36 (KHTML, like Gecko) Chrome/56.0.2924.87 Safa…",
         "_deepnote_index_column": 42
        },
        {
         "customer_id": "786851",
         "order_date": "22/05/2014",
         "order_id": "HTS-786851-0001",
         "pages_visited": 19,
         "tshirt_category": "Black T-Shirt F",
         "tshirt_price": "17,5",
         "tshirt_quantity": 1,
         "user_agent": "Mozilla/5.0 (Windows NT 6.1| WOW64) AppleWebKit/537.36 (KHTML, like Gecko) Chrome/56.0.2924.87 Safa…",
         "_deepnote_index_column": 43
        },
        {
         "customer_id": "999122",
         "order_date": "03/02/2017",
         "order_id": "HTS-999122-0009",
         "pages_visited": 2,
         "tshirt_category": "Black T-Shirt F",
         "tshirt_price": "17,5",
         "tshirt_quantity": 4,
         "user_agent": "Mozilla/5.0 (Windows NT 6.1| WOW64| Trident/7.0| rv:11.0) like Gecko",
         "_deepnote_index_column": 44
        },
        {
         "customer_id": "999122",
         "order_date": "25/08/2016",
         "order_id": "HTS-999122-0008",
         "pages_visited": 3,
         "tshirt_category": "Black T-Shirt F",
         "tshirt_price": "17,5",
         "tshirt_quantity": 5,
         "user_agent": "Mozilla/5.0 (Windows NT 6.1| WOW64| Trident/7.0| rv:11.0) like Gecko",
         "_deepnote_index_column": 45
        },
        {
         "customer_id": "542499",
         "order_date": "13/04/2017",
         "order_id": "HTS-542499-0005",
         "pages_visited": 7,
         "tshirt_category": "Black T-Shirt F",
         "tshirt_price": "17,5",
         "tshirt_quantity": 1,
         "user_agent": "Mozilla/5.0 (Windows NT 6.1| WOW64| Trident/7.0| rv:11.0) like Gecko",
         "_deepnote_index_column": 46
        },
        {
         "customer_id": "373947",
         "order_date": "14/02/2017",
         "order_id": "HTS-373947-0004",
         "pages_visited": 8,
         "tshirt_category": "Black T-Shirt F",
         "tshirt_price": "17,5",
         "tshirt_quantity": 2,
         "user_agent": "Mozilla/5.0 (Windows NT 6.1| WOW64| Trident/7.0| rv:11.0) like Gecko",
         "_deepnote_index_column": 47
        },
        {
         "customer_id": "542499",
         "order_date": "11/02/2015",
         "order_id": "HTS-542499-0002",
         "pages_visited": 10,
         "tshirt_category": "Black T-Shirt F",
         "tshirt_price": "17,5",
         "tshirt_quantity": 2,
         "user_agent": "Mozilla/5.0 (Windows NT 6.1| WOW64| Trident/7.0| rv:11.0) like Gecko",
         "_deepnote_index_column": 48
        },
        {
         "customer_id": "161996",
         "order_date": "05/04/2017",
         "order_id": "HTS-161996-0005",
         "pages_visited": 7,
         "tshirt_category": "Black T-Shirt F",
         "tshirt_price": "17,5",
         "tshirt_quantity": 2,
         "user_agent": "Mozilla/5.0 (Windows NT 6.1| WOW64| rv:51.0) Gecko/20100101 Firefox/51.0",
         "_deepnote_index_column": 49
        },
        {
         "customer_id": "161996",
         "order_date": "01/02/2016",
         "order_id": "HTS-161996-0003",
         "pages_visited": 7,
         "tshirt_category": "Black T-Shirt F",
         "tshirt_price": "17,5",
         "tshirt_quantity": 3,
         "user_agent": "Mozilla/5.0 (Windows NT 6.1| WOW64| rv:51.0) Gecko/20100101 Firefox/51.0",
         "_deepnote_index_column": 50
        },
        {
         "customer_id": "730057",
         "order_date": "23/03/2017",
         "order_id": "HTS-730057-0008",
         "pages_visited": 8,
         "tshirt_category": "Black T-Shirt F",
         "tshirt_price": "17,5",
         "tshirt_quantity": 3,
         "user_agent": "Mozilla/5.0 (Windows NT 6.1| WOW64| rv:51.0) Gecko/20100101 Firefox/51.0",
         "_deepnote_index_column": 51
        },
        {
         "customer_id": "161996",
         "order_date": "05/06/2015",
         "order_id": "HTS-161996-0002",
         "pages_visited": 8,
         "tshirt_category": "Black T-Shirt F",
         "tshirt_price": "17,5",
         "tshirt_quantity": 3,
         "user_agent": "Mozilla/5.0 (Windows NT 6.1| WOW64| rv:51.0) Gecko/20100101 Firefox/51.0",
         "_deepnote_index_column": 52
        },
        {
         "customer_id": "730057",
         "order_date": "31/07/2015",
         "order_id": "HTS-730057-0004",
         "pages_visited": 9,
         "tshirt_category": "Black T-Shirt F",
         "tshirt_price": "17,5",
         "tshirt_quantity": 4,
         "user_agent": "Mozilla/5.0 (Windows NT 6.1| WOW64| rv:51.0) Gecko/20100101 Firefox/51.0",
         "_deepnote_index_column": 53
        },
        {
         "customer_id": "730057",
         "order_date": "14/05/2016",
         "order_id": "HTS-730057-0006",
         "pages_visited": 11,
         "tshirt_category": "Black T-Shirt F",
         "tshirt_price": "17,5",
         "tshirt_quantity": 7,
         "user_agent": "Mozilla/5.0 (Windows NT 6.1| WOW64| rv:51.0) Gecko/20100101 Firefox/51.0",
         "_deepnote_index_column": 54
        },
        {
         "customer_id": "161996",
         "order_date": "13/09/2016",
         "order_id": "HTS-161996-0004",
         "pages_visited": 13,
         "tshirt_category": "Black T-Shirt F",
         "tshirt_price": "17,5",
         "tshirt_quantity": 6,
         "user_agent": "Mozilla/5.0 (Windows NT 6.1| WOW64| rv:51.0) Gecko/20100101 Firefox/51.0",
         "_deepnote_index_column": 55
        },
        {
         "customer_id": "745166",
         "order_date": "28/09/2015",
         "order_id": "HTS-745166-0006",
         "pages_visited": 6,
         "tshirt_category": "Black T-Shirt F",
         "tshirt_price": "17,5",
         "tshirt_quantity": 6,
         "user_agent": "Mozilla/5.0 (Windows NT 6.1| WOW64| rv:52.0) Gecko/20100101 Firefox/52.0",
         "_deepnote_index_column": 56
        },
        {
         "customer_id": "42303",
         "order_date": "11/08/2014",
         "order_id": "HTS-042303-0001",
         "pages_visited": 11,
         "tshirt_category": "Black T-Shirt F",
         "tshirt_price": "17,5",
         "tshirt_quantity": 2,
         "user_agent": "Mozilla/5.0 (Windows NT 6.1| WOW64| rv:52.0) Gecko/20100101 Firefox/52.0",
         "_deepnote_index_column": 57
        },
        {
         "customer_id": "745166",
         "order_date": "13/11/2014",
         "order_id": "HTS-745166-0004",
         "pages_visited": 11,
         "tshirt_category": "Black T-Shirt F",
         "tshirt_price": "17,5",
         "tshirt_quantity": 2,
         "user_agent": "Mozilla/5.0 (Windows NT 6.1| WOW64| rv:52.0) Gecko/20100101 Firefox/52.0",
         "_deepnote_index_column": 58
        },
        {
         "customer_id": "278721",
         "order_date": "03/09/2015",
         "order_id": "HTS-278721-0002",
         "pages_visited": 7,
         "tshirt_category": "Black T-Shirt F",
         "tshirt_price": "17,5",
         "tshirt_quantity": 1,
         "user_agent": "Mozilla/5.0 (Windows NT 6.1| Win64| x64) AppleWebKit/537.36 (KHTML, like Gecko) Chrome/56.0.2924.87…",
         "_deepnote_index_column": 59
        },
        {
         "customer_id": "1yi44w",
         "order_date": "26/11/2015",
         "order_id": "HTS-1yi44w-0001",
         "pages_visited": 11,
         "tshirt_category": "Black T-Shirt F",
         "tshirt_price": "17,5",
         "tshirt_quantity": 2,
         "user_agent": "Mozilla/5.0 (Windows NT 6.1| Win64| x64) AppleWebKit/537.36 (KHTML, like Gecko) Chrome/56.0.2924.87…",
         "_deepnote_index_column": 60
        },
        {
         "customer_id": "9m6hav",
         "order_date": "13/02/2016",
         "order_id": "HTS-9m6hav-0002",
         "pages_visited": 11,
         "tshirt_category": "Black T-Shirt F",
         "tshirt_price": "17,5",
         "tshirt_quantity": 12,
         "user_agent": "Mozilla/5.0 (Windows NT 6.1| Win64| x64) AppleWebKit/537.36 (KHTML, like Gecko) Chrome/56.0.2924.87…",
         "_deepnote_index_column": 61
        }
       ],
       "rows_bottom": [
        {
         "customer_id": "743253",
         "order_date": "13/12/2016",
         "order_id": "HTS-743253-0004",
         "pages_visited": 13,
         "tshirt_category": "Tennis Shirt",
         "tshirt_price": "24",
         "tshirt_quantity": 2,
         "user_agent": "Mozilla/5.0 (Windows NT 10.0| WOW64| rv:51.0) Gecko/20100101 Firefox/51.0",
         "_deepnote_index_column": 4935
        },
        {
         "customer_id": "513904",
         "order_date": "19/12/2013",
         "order_id": "HTS-513904-0001",
         "pages_visited": 18,
         "tshirt_category": "Tennis Shirt",
         "tshirt_price": "24",
         "tshirt_quantity": 2,
         "user_agent": "Mozilla/5.0 (Windows NT 10.0| WOW64| rv:51.0) Gecko/20100101 Firefox/51.0",
         "_deepnote_index_column": 4936
        },
        {
         "customer_id": "0h5x2k",
         "order_date": "10/06/2016",
         "order_id": "HTS-0h5x2k-0001",
         "pages_visited": 9,
         "tshirt_category": "Tennis Shirt",
         "tshirt_price": "24",
         "tshirt_quantity": 3,
         "user_agent": "Mozilla/5.0 (Windows NT 10.0| WOW64| rv:52.0) Gecko/20100101 Firefox/52.0",
         "_deepnote_index_column": 4937
        },
        {
         "customer_id": "682841",
         "order_date": "17/12/2015",
         "order_id": "HTS-682841-0002",
         "pages_visited": 12,
         "tshirt_category": "Tennis Shirt",
         "tshirt_price": "24",
         "tshirt_quantity": 11,
         "user_agent": "Mozilla/5.0 (Windows NT 10.0| Win64| x64) AppleWebKit/537.36 (KHTML, like Gecko) Chrome/51.0.2704.7…",
         "_deepnote_index_column": 4938
        },
        {
         "customer_id": "139078",
         "order_date": "12/05/2016",
         "order_id": "HTS-139078-0001",
         "pages_visited": 6,
         "tshirt_category": "Tennis Shirt",
         "tshirt_price": "24",
         "tshirt_quantity": 1,
         "user_agent": "Mozilla/5.0 (Windows NT 10.0| Win64| x64) AppleWebKit/537.36 (KHTML, like Gecko) Chrome/56.0.2924.8…",
         "_deepnote_index_column": 4939
        },
        {
         "customer_id": "331918",
         "order_date": "10/02/2016",
         "order_id": "HTS-331918-0004",
         "pages_visited": 6,
         "tshirt_category": "Tennis Shirt",
         "tshirt_price": "24",
         "tshirt_quantity": 1,
         "user_agent": "Mozilla/5.0 (Windows NT 10.0| Win64| x64) AppleWebKit/537.36 (KHTML, like Gecko) Chrome/56.0.2924.8…",
         "_deepnote_index_column": 4940
        },
        {
         "customer_id": "52085",
         "order_date": "16/10/2016",
         "order_id": "HTS-052085-0003",
         "pages_visited": 7,
         "tshirt_category": "Tennis Shirt",
         "tshirt_price": "24",
         "tshirt_quantity": 1,
         "user_agent": "Mozilla/5.0 (Windows NT 10.0| Win64| x64) AppleWebKit/537.36 (KHTML, like Gecko) Chrome/56.0.2924.8…",
         "_deepnote_index_column": 4941
        },
        {
         "customer_id": "556419",
         "order_date": "07/12/2013",
         "order_id": "HTS-556419-0001",
         "pages_visited": 8,
         "tshirt_category": "Tennis Shirt",
         "tshirt_price": "24",
         "tshirt_quantity": 1,
         "user_agent": "Mozilla/5.0 (Windows NT 10.0| Win64| x64) AppleWebKit/537.36 (KHTML, like Gecko) Chrome/56.0.2924.8…",
         "_deepnote_index_column": 4942
        },
        {
         "customer_id": "998090",
         "order_date": "02/12/2015",
         "order_id": "HTS-998090-0001",
         "pages_visited": 9,
         "tshirt_category": "Tennis Shirt",
         "tshirt_price": "24",
         "tshirt_quantity": 2,
         "user_agent": "Mozilla/5.0 (Windows NT 10.0| Win64| x64) AppleWebKit/537.36 (KHTML, like Gecko) Chrome/56.0.2924.8…",
         "_deepnote_index_column": 4943
        },
        {
         "customer_id": "855978",
         "order_date": "16/07/2014",
         "order_id": "HTS-855978-0001",
         "pages_visited": 11,
         "tshirt_category": "Tennis Shirt",
         "tshirt_price": "24",
         "tshirt_quantity": 1,
         "user_agent": "Mozilla/5.0 (Windows NT 10.0| Win64| x64) AppleWebKit/537.36 (KHTML, like Gecko) Chrome/56.0.2924.8…",
         "_deepnote_index_column": 4944
        },
        {
         "customer_id": "32787",
         "order_date": "28/12/2014",
         "order_id": "HTS-032787-0002",
         "pages_visited": 12,
         "tshirt_category": "Tennis Shirt",
         "tshirt_price": "24",
         "tshirt_quantity": 1,
         "user_agent": "Mozilla/5.0 (Windows NT 10.0| Win64| x64) AppleWebKit/537.36 (KHTML, like Gecko) Chrome/56.0.2924.8…",
         "_deepnote_index_column": 4945
        },
        {
         "customer_id": "620902",
         "order_date": "25/07/2015",
         "order_id": "HTS-620902-0002",
         "pages_visited": 12,
         "tshirt_category": "Tennis Shirt",
         "tshirt_price": "24",
         "tshirt_quantity": 17,
         "user_agent": "Mozilla/5.0 (Windows NT 10.0| Win64| x64) AppleWebKit/537.36 (KHTML, like Gecko) Chrome/56.0.2924.8…",
         "_deepnote_index_column": 4946
        },
        {
         "customer_id": "460926",
         "order_date": "11/01/2014",
         "order_id": "HTS-460926-0001",
         "pages_visited": 13,
         "tshirt_category": "Tennis Shirt",
         "tshirt_price": "24",
         "tshirt_quantity": 1,
         "user_agent": "Mozilla/5.0 (Windows NT 10.0| Win64| x64) AppleWebKit/537.36 (KHTML, like Gecko) Chrome/56.0.2924.8…",
         "_deepnote_index_column": 4947
        },
        {
         "customer_id": "508592",
         "order_date": "21/11/2013",
         "order_id": "HTS-508592-0001",
         "pages_visited": 13,
         "tshirt_category": "Tennis Shirt",
         "tshirt_price": "24",
         "tshirt_quantity": 1,
         "user_agent": "Mozilla/5.0 (Windows NT 6.1) AppleWebKit/537.36 (KHTML, like Gecko) Chrome/56.0.2924.87 Safari/537.…",
         "_deepnote_index_column": 4948
        },
        {
         "customer_id": "546692",
         "order_date": "14/01/2017",
         "order_id": "HTS-546692-0002",
         "pages_visited": 8,
         "tshirt_category": "Tennis Shirt",
         "tshirt_price": "24",
         "tshirt_quantity": 1,
         "user_agent": "Mozilla/5.0 (Windows NT 6.1| WOW64) AppleWebKit/537.36 (KHTML, like Gecko) Chrome/56.0.2924.87 Safa…",
         "_deepnote_index_column": 4949
        },
        {
         "customer_id": "qttewa",
         "order_date": "02/09/2016",
         "order_id": "HTS-qttewa-0002",
         "pages_visited": 11,
         "tshirt_category": "Tennis Shirt",
         "tshirt_price": "24",
         "tshirt_quantity": 1,
         "user_agent": "Mozilla/5.0 (Windows NT 6.1| WOW64) AppleWebKit/537.36 (KHTML, like Gecko) Chrome/56.0.2924.87 Safa…",
         "_deepnote_index_column": 4950
        },
        {
         "customer_id": "968253",
         "order_date": "19/11/2013",
         "order_id": "HTS-968253-0001",
         "pages_visited": 11,
         "tshirt_category": "Tennis Shirt",
         "tshirt_price": "24",
         "tshirt_quantity": 4,
         "user_agent": "Mozilla/5.0 (Windows NT 6.1| WOW64) AppleWebKit/537.36 (KHTML, like Gecko) Chrome/56.0.2924.87 Safa…",
         "_deepnote_index_column": 4951
        },
        {
         "customer_id": "819624",
         "order_date": "18/08/2014",
         "order_id": "HTS-819624-0001",
         "pages_visited": 20,
         "tshirt_category": "Tennis Shirt",
         "tshirt_price": "24",
         "tshirt_quantity": 1,
         "user_agent": "Mozilla/5.0 (Windows NT 6.1| WOW64) AppleWebKit/537.36 (KHTML, like Gecko) Chrome/56.0.2924.87 Safa…",
         "_deepnote_index_column": 4952
        },
        {
         "customer_id": "992060",
         "order_date": "09/12/2013",
         "order_id": "HTS-992060-0001",
         "pages_visited": 8,
         "tshirt_category": "Tennis Shirt",
         "tshirt_price": "24",
         "tshirt_quantity": 1,
         "user_agent": "Mozilla/5.0 (Windows NT 6.1| WOW64| Trident/7.0| rv:11.0) like Gecko",
         "_deepnote_index_column": 4953
        },
        {
         "customer_id": "269796",
         "order_date": "14/09/2015",
         "order_id": "HTS-269796-0001",
         "pages_visited": 13,
         "tshirt_category": "Tennis Shirt",
         "tshirt_price": "24",
         "tshirt_quantity": 1,
         "user_agent": "Mozilla/5.0 (Windows NT 6.1| WOW64| Trident/7.0| rv:11.0) like Gecko",
         "_deepnote_index_column": 4954
        },
        {
         "customer_id": "5knivh",
         "order_date": "28/11/2016",
         "order_id": "HTS-5knivh-0001",
         "pages_visited": 10,
         "tshirt_category": "Tennis Shirt",
         "tshirt_price": "24",
         "tshirt_quantity": 1,
         "user_agent": "Mozilla/5.0 (Windows NT 6.1| WOW64| rv:51.0) Gecko/20100101 Firefox/51.0",
         "_deepnote_index_column": 4955
        },
        {
         "customer_id": "255213",
         "order_date": "07/02/2016",
         "order_id": "HTS-255213-0006",
         "pages_visited": 11,
         "tshirt_category": "Tennis Shirt",
         "tshirt_price": "24",
         "tshirt_quantity": 11,
         "user_agent": "Mozilla/5.0 (Windows NT 6.1| WOW64| rv:51.0) Gecko/20100101 Firefox/51.0",
         "_deepnote_index_column": 4956
        },
        {
         "customer_id": "812685",
         "order_date": "25/07/2016",
         "order_id": "HTS-812685-0002",
         "pages_visited": 15,
         "tshirt_category": "Tennis Shirt",
         "tshirt_price": "24",
         "tshirt_quantity": 1,
         "user_agent": "Mozilla/5.0 (Windows NT 6.1| WOW64| rv:51.0) Gecko/20100101 Firefox/51.0",
         "_deepnote_index_column": 4957
        },
        {
         "customer_id": "yabsa5",
         "order_date": "30/10/2016",
         "order_id": "HTS-yabsa5-0003",
         "pages_visited": 9,
         "tshirt_category": "Tennis Shirt",
         "tshirt_price": "24",
         "tshirt_quantity": 1,
         "user_agent": "Mozilla/5.0 (Windows NT 6.1| WOW64| rv:52.0) Gecko/20100101 Firefox/52.0",
         "_deepnote_index_column": 4958
        },
        {
         "customer_id": "yabsa5",
         "order_date": "12/08/2015",
         "order_id": "HTS-yabsa5-0001",
         "pages_visited": 11,
         "tshirt_category": "Tennis Shirt",
         "tshirt_price": "24",
         "tshirt_quantity": 1,
         "user_agent": "Mozilla/5.0 (Windows NT 6.1| WOW64| rv:52.0) Gecko/20100101 Firefox/52.0",
         "_deepnote_index_column": 4959
        },
        {
         "customer_id": "443583",
         "order_date": "13/08/2015",
         "order_id": "HTS-443583-0001",
         "pages_visited": 8,
         "tshirt_category": "Tennis Shirt",
         "tshirt_price": "24",
         "tshirt_quantity": 1,
         "user_agent": "Mozilla/5.0 (Windows NT 6.1| Win64| x64) AppleWebKit/537.36 (KHTML, like Gecko) Chrome/56.0.2924.87…",
         "_deepnote_index_column": 4960
        },
        {
         "customer_id": "87034",
         "order_date": "12/10/2016",
         "order_id": "HTS-087034-0005",
         "pages_visited": 6,
         "tshirt_category": "Tennis Shirt",
         "tshirt_price": "24",
         "tshirt_quantity": 4,
         "user_agent": "Mozilla/5.0 (Windows NT 6.3| WOW64) AppleWebKit/537.36 (KHTML, like Gecko) Chrome/56.0.2924.87 Safa…",
         "_deepnote_index_column": 4961
        },
        {
         "customer_id": "87034",
         "order_date": "10/01/2016",
         "order_id": "HTS-087034-0004",
         "pages_visited": 11,
         "tshirt_category": "Tennis Shirt",
         "tshirt_price": "24",
         "tshirt_quantity": 1,
         "user_agent": "Mozilla/5.0 (Windows NT 6.3| WOW64) AppleWebKit/537.36 (KHTML, like Gecko) Chrome/56.0.2924.87 Safa…",
         "_deepnote_index_column": 4962
        },
        {
         "customer_id": "4ogh6g",
         "order_date": "06/11/2015",
         "order_id": "HTS-4ogh6g-0001",
         "pages_visited": 13,
         "tshirt_category": "Tennis Shirt",
         "tshirt_price": "24",
         "tshirt_quantity": 1,
         "user_agent": "Mozilla/5.0 (Windows NT 6.3| WOW64) AppleWebKit/537.36 (KHTML, like Gecko) Chrome/56.0.2924.87 Safa…",
         "_deepnote_index_column": 4963
        },
        {
         "customer_id": "143654",
         "order_date": "07/09/2013",
         "order_id": "HTS-143654-0001",
         "pages_visited": 13,
         "tshirt_category": "Tennis Shirt",
         "tshirt_price": "24",
         "tshirt_quantity": 1,
         "user_agent": "Mozilla/5.0 (Windows NT 6.3| WOW64) AppleWebKit/537.36 (KHTML, like Gecko) Chrome/56.0.2924.87 Safa…",
         "_deepnote_index_column": 4964
        },
        {
         "customer_id": "dzes2s",
         "order_date": "25/01/2016",
         "order_id": "HTS-dzes2s-0001",
         "pages_visited": 9,
         "tshirt_category": "Tennis Shirt",
         "tshirt_price": "24",
         "tshirt_quantity": 1,
         "user_agent": "Mozilla/5.0 (X11| Linux x86_64) AppleWebKit/537.36 (KHTML, like Gecko) Chrome/56.0.2924.87 Safari/5…",
         "_deepnote_index_column": 4965
        },
        {
         "customer_id": "443970",
         "order_date": "17/06/2016",
         "order_id": "HTS-443970-0005",
         "pages_visited": 12,
         "tshirt_category": "Tennis Shirt",
         "tshirt_price": "24",
         "tshirt_quantity": 16,
         "user_agent": "Mozilla/5.0 (X11| Ubuntu| Linux x86_64| rv:51.0) Gecko/20100101 Firefox/51.0",
         "_deepnote_index_column": 4966
        },
        {
         "customer_id": "pivgdh",
         "order_date": "10/03/2017",
         "order_id": "HTS-pivgdh-0002",
         "pages_visited": 8,
         "tshirt_category": "Tennis Shirt",
         "tshirt_price": "24",
         "tshirt_quantity": 1,
         "user_agent": "Mozilla/5.0 (Macintosh| Intel Mac OS X 10.12| rv:51.0) Gecko/20100101 Firefox/51.0",
         "_deepnote_index_column": 4967
        },
        {
         "customer_id": "146923",
         "order_date": "07/03/2014",
         "order_id": "HTS-146923-0001",
         "pages_visited": 10,
         "tshirt_category": "Tennis Shirt",
         "tshirt_price": "24",
         "tshirt_quantity": 1,
         "user_agent": "Mozilla/5.0 (Macintosh| Intel Mac OS X 10.12| rv:51.0) Gecko/20100101 Firefox/51.0",
         "_deepnote_index_column": 4968
        },
        {
         "customer_id": "482681",
         "order_date": "16/04/2016",
         "order_id": "HTS-482681-0002",
         "pages_visited": 8,
         "tshirt_category": "Tennis Shirt",
         "tshirt_price": "24",
         "tshirt_quantity": 1,
         "user_agent": "Mozilla/5.0 (Macintosh| Intel Mac OS X 10_10_5) AppleWebKit/537.36 (KHTML, like Gecko) Chrome/56.0.…",
         "_deepnote_index_column": 4969
        },
        {
         "customer_id": "7dczpo",
         "order_date": "27/09/2016",
         "order_id": "HTS-7dczpo-0002",
         "pages_visited": 6,
         "tshirt_category": "Tennis Shirt",
         "tshirt_price": "24",
         "tshirt_quantity": 1,
         "user_agent": "Mozilla/5.0 (Macintosh| Intel Mac OS X 10_11_6) AppleWebKit/537.36 (KHTML, like Gecko) Chrome/56.0.…",
         "_deepnote_index_column": 4970
        },
        {
         "customer_id": "359004",
         "order_date": "13/08/2016",
         "order_id": "HTS-359004-0003",
         "pages_visited": 8,
         "tshirt_category": "Tennis Shirt",
         "tshirt_price": "24",
         "tshirt_quantity": 2,
         "user_agent": "Mozilla/5.0 (Macintosh| Intel Mac OS X 10_11_6) AppleWebKit/537.36 (KHTML, like Gecko) Chrome/56.0.…",
         "_deepnote_index_column": 4971
        },
        {
         "customer_id": "20387",
         "order_date": "23/11/2013",
         "order_id": "HTS-020387-0001",
         "pages_visited": 15,
         "tshirt_category": "Tennis Shirt",
         "tshirt_price": "24",
         "tshirt_quantity": 2,
         "user_agent": "Mozilla/5.0 (Macintosh| Intel Mac OS X 10_11_6) AppleWebKit/537.36 (KHTML, like Gecko) Chrome/56.0.…",
         "_deepnote_index_column": 4972
        },
        {
         "customer_id": "210090",
         "order_date": "22/05/2016",
         "order_id": "HTS-210090-0001",
         "pages_visited": 8,
         "tshirt_category": "Tennis Shirt",
         "tshirt_price": "24",
         "tshirt_quantity": 1,
         "user_agent": "Mozilla/5.0 (Macintosh| Intel Mac OS X 10_12_3) AppleWebKit/537.36 (KHTML, like Gecko) Chrome/56.0.…",
         "_deepnote_index_column": 4973
        },
        {
         "customer_id": "dgmqh2",
         "order_date": "20/09/2015",
         "order_id": "HTS-dgmqh2-0001",
         "pages_visited": 10,
         "tshirt_category": "Tennis Shirt",
         "tshirt_price": "24",
         "tshirt_quantity": 1,
         "user_agent": "Mozilla/5.0 (Macintosh| Intel Mac OS X 10_12_3) AppleWebKit/537.36 (KHTML, like Gecko) Chrome/56.0.…",
         "_deepnote_index_column": 4974
        },
        {
         "customer_id": "dgmqh2",
         "order_date": "19/05/2016",
         "order_id": "HTS-dgmqh2-0002",
         "pages_visited": 12,
         "tshirt_category": "Tennis Shirt",
         "tshirt_price": "24",
         "tshirt_quantity": 1,
         "user_agent": "Mozilla/5.0 (Macintosh| Intel Mac OS X 10_12_3) AppleWebKit/537.36 (KHTML, like Gecko) Chrome/56.0.…",
         "_deepnote_index_column": 4975
        },
        {
         "customer_id": "23864",
         "order_date": "11/11/2014",
         "order_id": "HTS-023864-0001",
         "pages_visited": 12,
         "tshirt_category": "Tennis Shirt",
         "tshirt_price": "24",
         "tshirt_quantity": 1,
         "user_agent": "Mozilla/5.0 (Macintosh| Intel Mac OS X 10_12_3) AppleWebKit/537.36 (KHTML, like Gecko) Chrome/56.0.…",
         "_deepnote_index_column": 4976
        },
        {
         "customer_id": "284178",
         "order_date": "07/05/2015",
         "order_id": "HTS-284178-0001",
         "pages_visited": 13,
         "tshirt_category": "Tennis Shirt",
         "tshirt_price": "24",
         "tshirt_quantity": 1,
         "user_agent": "Mozilla/5.0 (Macintosh| Intel Mac OS X 10_12_3) AppleWebKit/537.36 (KHTML, like Gecko) Chrome/56.0.…",
         "_deepnote_index_column": 4977
        },
        {
         "customer_id": "8z7b4v",
         "order_date": "25/09/2015",
         "order_id": "HTS-8z7b4v-0001",
         "pages_visited": 13,
         "tshirt_category": "Tennis Shirt",
         "tshirt_price": "24",
         "tshirt_quantity": 1,
         "user_agent": "Mozilla/5.0 (Macintosh| Intel Mac OS X 10_12_3) AppleWebKit/537.36 (KHTML, like Gecko) Chrome/56.0.…",
         "_deepnote_index_column": 4978
        },
        {
         "customer_id": "404455",
         "order_date": "23/11/2014",
         "order_id": "HTS-404455-0001",
         "pages_visited": 14,
         "tshirt_category": "Tennis Shirt",
         "tshirt_price": "24",
         "tshirt_quantity": 4,
         "user_agent": "Mozilla/5.0 (Macintosh| Intel Mac OS X 10_12_3) AppleWebKit/537.36 (KHTML, like Gecko) Chrome/56.0.…",
         "_deepnote_index_column": 4979
        },
        {
         "customer_id": "jslnyo",
         "order_date": "25/10/2015",
         "order_id": "HTS-jslnyo-0001",
         "pages_visited": 19,
         "tshirt_category": "Tennis Shirt",
         "tshirt_price": "24",
         "tshirt_quantity": 1,
         "user_agent": "Mozilla/5.0 (Macintosh| Intel Mac OS X 10_12_3) AppleWebKit/537.36 (KHTML, like Gecko) Chrome/56.0.…",
         "_deepnote_index_column": 4980
        },
        {
         "customer_id": "ymagqv",
         "order_date": "17/11/2015",
         "order_id": "HTS-ymagqv-0001",
         "pages_visited": 23,
         "tshirt_category": "Tennis Shirt",
         "tshirt_price": "24",
         "tshirt_quantity": 3,
         "user_agent": "Mozilla/5.0 (Macintosh| Intel Mac OS X 10_12_3) AppleWebKit/537.36 (KHTML, like Gecko) Chrome/56.0.…",
         "_deepnote_index_column": 4981
        },
        {
         "customer_id": "dy72oo",
         "order_date": "23/12/2016",
         "order_id": "HTS-dy72oo-0002",
         "pages_visited": 8,
         "tshirt_category": "Tennis Shirt",
         "tshirt_price": "24",
         "tshirt_quantity": 12,
         "user_agent": "Mozilla/5.0 (Macintosh| Intel Mac OS X 10_12_3) AppleWebKit/602.4.8 (KHTML, like Gecko) Version/10.…",
         "_deepnote_index_column": 4982
        },
        {
         "customer_id": "624598",
         "order_date": "29/09/2016",
         "order_id": "HTS-624598-0002",
         "pages_visited": 9,
         "tshirt_category": "Tennis Shirt",
         "tshirt_price": "24",
         "tshirt_quantity": 1,
         "user_agent": "Mozilla/5.0 (Macintosh| Intel Mac OS X 10_12_3) AppleWebKit/602.4.8 (KHTML, like Gecko) Version/10.…",
         "_deepnote_index_column": 4983
        },
        {
         "customer_id": "zr2c59",
         "order_date": "03/09/2015",
         "order_id": "HTS-zr2c59-0001",
         "pages_visited": 10,
         "tshirt_category": "Tennis Shirt",
         "tshirt_price": "24",
         "tshirt_quantity": 1,
         "user_agent": "Mozilla/5.0 (Macintosh| Intel Mac OS X 10_12_3) AppleWebKit/602.4.8 (KHTML, like Gecko) Version/10.…",
         "_deepnote_index_column": 4984
        },
        {
         "customer_id": "kw21u2",
         "order_date": "26/11/2015",
         "order_id": "HTS-kw21u2-0001",
         "pages_visited": 12,
         "tshirt_category": "Tennis Shirt",
         "tshirt_price": "24",
         "tshirt_quantity": 1,
         "user_agent": "Mozilla/5.0 (Macintosh| Intel Mac OS X 10_12_3) AppleWebKit/602.4.8 (KHTML, like Gecko) Version/10.…",
         "_deepnote_index_column": 4985
        },
        {
         "customer_id": "3696",
         "order_date": "21/11/2014",
         "order_id": "HTS-003696-0001",
         "pages_visited": 12,
         "tshirt_category": "Tennis Shirt",
         "tshirt_price": "24",
         "tshirt_quantity": 1,
         "user_agent": "Mozilla/5.0 (Macintosh| Intel Mac OS X 10_12_3) AppleWebKit/602.4.8 (KHTML, like Gecko) Version/10.…",
         "_deepnote_index_column": 4986
        },
        {
         "customer_id": "695667",
         "order_date": "04/02/2017",
         "order_id": "HTS-695667-0005",
         "pages_visited": 5,
         "tshirt_category": "Tennis Shirt",
         "tshirt_price": "24",
         "tshirt_quantity": 1,
         "user_agent": "Mozilla/5.0 (Windows NT 10.0| WOW64) AppleWebKit/537.36 (KHTML, like Gecko) Chrome/56.0.2924.87 Saf…",
         "_deepnote_index_column": 4987
        },
        {
         "customer_id": "495116",
         "order_date": "04/08/2016",
         "order_id": "HTS-495116-0002",
         "pages_visited": 7,
         "tshirt_category": "Tennis Shirt",
         "tshirt_price": "24",
         "tshirt_quantity": 1,
         "user_agent": "Mozilla/5.0 (Windows NT 10.0| WOW64) AppleWebKit/537.36 (KHTML, like Gecko) Chrome/56.0.2924.87 Saf…",
         "_deepnote_index_column": 4988
        },
        {
         "customer_id": "695667",
         "order_date": "28/03/2016",
         "order_id": "HTS-695667-0004",
         "pages_visited": 7,
         "tshirt_category": "Tennis Shirt",
         "tshirt_price": "24",
         "tshirt_quantity": 1,
         "user_agent": "Mozilla/5.0 (Windows NT 10.0| WOW64) AppleWebKit/537.36 (KHTML, like Gecko) Chrome/56.0.2924.87 Saf…",
         "_deepnote_index_column": 4989
        },
        {
         "customer_id": "878304",
         "order_date": "31/01/2014",
         "order_id": "HTS-878304-0001",
         "pages_visited": 12,
         "tshirt_category": "Tennis Shirt",
         "tshirt_price": "24",
         "tshirt_quantity": 1,
         "user_agent": "Mozilla/5.0 (Windows NT 10.0| WOW64) AppleWebKit/537.36 (KHTML, like Gecko) Chrome/56.0.2924.87 Saf…",
         "_deepnote_index_column": 4990
        },
        {
         "customer_id": "523966",
         "order_date": "22/09/2014",
         "order_id": "HTS-523966-0001",
         "pages_visited": 12,
         "tshirt_category": "Tennis Shirt",
         "tshirt_price": "24",
         "tshirt_quantity": 1,
         "user_agent": "Mozilla/5.0 (Windows NT 10.0| WOW64) AppleWebKit/537.36 (KHTML, like Gecko) Chrome/56.0.2924.87 Saf…",
         "_deepnote_index_column": 4991
        },
        {
         "customer_id": "695667",
         "order_date": "13/06/2015",
         "order_id": "HTS-695667-0003",
         "pages_visited": 12,
         "tshirt_category": "Tennis Shirt",
         "tshirt_price": "24",
         "tshirt_quantity": 2,
         "user_agent": "Mozilla/5.0 (Windows NT 10.0| WOW64) AppleWebKit/537.36 (KHTML, like Gecko) Chrome/56.0.2924.87 Saf…",
         "_deepnote_index_column": 4992
        },
        {
         "customer_id": "128623",
         "order_date": "09/08/2014",
         "order_id": "HTS-128623-0001",
         "pages_visited": 18,
         "tshirt_category": "Tennis Shirt",
         "tshirt_price": "24",
         "tshirt_quantity": 1,
         "user_agent": "Mozilla/5.0 (Windows NT 10.0| WOW64) AppleWebKit/537.36 (KHTML, like Gecko) Chrome/56.0.2924.87 Saf…",
         "_deepnote_index_column": 4993
        },
        {
         "customer_id": "426724",
         "order_date": "01/12/2013",
         "order_id": "HTS-426724-0001",
         "pages_visited": 6,
         "tshirt_category": "Tennis Shirt",
         "tshirt_price": "24",
         "tshirt_quantity": 22,
         "user_agent": "Mozilla/5.0 (Windows NT 10.0| WOW64| rv:51.0) Gecko/20100101 Firefox/51.0",
         "_deepnote_index_column": 4994
        },
        {
         "customer_id": "79trmb",
         "order_date": "23/07/2016",
         "order_id": "HTS-79trmb-0002",
         "pages_visited": 7,
         "tshirt_category": "Tennis Shirt",
         "tshirt_price": "24",
         "tshirt_quantity": 1,
         "user_agent": "Mozilla/5.0 (Windows NT 10.0| WOW64| rv:51.0) Gecko/20100101 Firefox/51.0",
         "_deepnote_index_column": 4995
        },
        {
         "customer_id": "518434",
         "order_date": "20/09/2016",
         "order_id": "HTS-518434-0004",
         "pages_visited": 8,
         "tshirt_category": "Tennis Shirt",
         "tshirt_price": "24",
         "tshirt_quantity": 1,
         "user_agent": "Mozilla/5.0 (Windows NT 10.0| WOW64| rv:51.0) Gecko/20100101 Firefox/51.0",
         "_deepnote_index_column": 4996
        },
        {
         "customer_id": "1lyrw9",
         "order_date": "09/08/2016",
         "order_id": "HTS-1lyrw9-0001",
         "pages_visited": 9,
         "tshirt_category": "Tennis Shirt",
         "tshirt_price": "24",
         "tshirt_quantity": 1,
         "user_agent": "Mozilla/5.0 (Windows NT 10.0| WOW64| rv:51.0) Gecko/20100101 Firefox/51.0",
         "_deepnote_index_column": 4997
        }
       ]
      },
      "text/plain": "     customer_id  order_date         order_id  pages_visited  tshirt_category  \\\n0         357500  26/02/2015  HTS-357500-0003             14  Black T-Shirt F   \n1         357500  26/05/2014  HTS-357500-0002             20  Black T-Shirt F   \n2         256541  15/11/2014  HTS-256541-0001              8  Black T-Shirt F   \n3         694300  20/03/2017  HTS-694300-0005              9  Black T-Shirt F   \n4         491681  16/02/2016  HTS-491681-0005              5  Black T-Shirt F   \n...          ...         ...              ...            ...              ...   \n4993      128623  09/08/2014  HTS-128623-0001             18     Tennis Shirt   \n4994      426724  01/12/2013  HTS-426724-0001              6     Tennis Shirt   \n4995      79trmb  23/07/2016  HTS-79trmb-0002              7     Tennis Shirt   \n4996      518434  20/09/2016  HTS-518434-0004              8     Tennis Shirt   \n4997      1lyrw9  09/08/2016  HTS-1lyrw9-0001              9     Tennis Shirt   \n\n     tshirt_price  tshirt_quantity  \\\n0            17,5               14   \n1            17,5               13   \n2            17,5                1   \n3            17,5                2   \n4            17,5                1   \n...           ...              ...   \n4993           24                1   \n4994           24               22   \n4995           24                1   \n4996           24                1   \n4997           24                1   \n\n                                             user_agent  \n0     Mozilla/5.0 (Windows NT 10.0| WOW64| rv:52.0) ...  \n1     Mozilla/5.0 (Windows NT 10.0| WOW64| rv:52.0) ...  \n2     Mozilla/5.0 (Windows NT 10.0| Win64| x64) Appl...  \n3     Mozilla/5.0 (Windows NT 10.0| Win64| x64) Appl...  \n4     Mozilla/5.0 (Windows NT 10.0| Win64| x64) Appl...  \n...                                                 ...  \n4993  Mozilla/5.0 (Windows NT 10.0| WOW64) AppleWebK...  \n4994  Mozilla/5.0 (Windows NT 10.0| WOW64| rv:51.0) ...  \n4995  Mozilla/5.0 (Windows NT 10.0| WOW64| rv:51.0) ...  \n4996  Mozilla/5.0 (Windows NT 10.0| WOW64| rv:51.0) ...  \n4997  Mozilla/5.0 (Windows NT 10.0| WOW64| rv:51.0) ...  \n\n[4998 rows x 8 columns]",
      "text/html": "<div>\n<style scoped>\n    .dataframe tbody tr th:only-of-type {\n        vertical-align: middle;\n    }\n\n    .dataframe tbody tr th {\n        vertical-align: top;\n    }\n\n    .dataframe thead th {\n        text-align: right;\n    }\n</style>\n<table border=\"1\" class=\"dataframe\">\n  <thead>\n    <tr style=\"text-align: right;\">\n      <th></th>\n      <th>customer_id</th>\n      <th>order_date</th>\n      <th>order_id</th>\n      <th>pages_visited</th>\n      <th>tshirt_category</th>\n      <th>tshirt_price</th>\n      <th>tshirt_quantity</th>\n      <th>user_agent</th>\n    </tr>\n  </thead>\n  <tbody>\n    <tr>\n      <th>0</th>\n      <td>357500</td>\n      <td>26/02/2015</td>\n      <td>HTS-357500-0003</td>\n      <td>14</td>\n      <td>Black T-Shirt F</td>\n      <td>17,5</td>\n      <td>14</td>\n      <td>Mozilla/5.0 (Windows NT 10.0| WOW64| rv:52.0) ...</td>\n    </tr>\n    <tr>\n      <th>1</th>\n      <td>357500</td>\n      <td>26/05/2014</td>\n      <td>HTS-357500-0002</td>\n      <td>20</td>\n      <td>Black T-Shirt F</td>\n      <td>17,5</td>\n      <td>13</td>\n      <td>Mozilla/5.0 (Windows NT 10.0| WOW64| rv:52.0) ...</td>\n    </tr>\n    <tr>\n      <th>2</th>\n      <td>256541</td>\n      <td>15/11/2014</td>\n      <td>HTS-256541-0001</td>\n      <td>8</td>\n      <td>Black T-Shirt F</td>\n      <td>17,5</td>\n      <td>1</td>\n      <td>Mozilla/5.0 (Windows NT 10.0| Win64| x64) Appl...</td>\n    </tr>\n    <tr>\n      <th>3</th>\n      <td>694300</td>\n      <td>20/03/2017</td>\n      <td>HTS-694300-0005</td>\n      <td>9</td>\n      <td>Black T-Shirt F</td>\n      <td>17,5</td>\n      <td>2</td>\n      <td>Mozilla/5.0 (Windows NT 10.0| Win64| x64) Appl...</td>\n    </tr>\n    <tr>\n      <th>4</th>\n      <td>491681</td>\n      <td>16/02/2016</td>\n      <td>HTS-491681-0005</td>\n      <td>5</td>\n      <td>Black T-Shirt F</td>\n      <td>17,5</td>\n      <td>1</td>\n      <td>Mozilla/5.0 (Windows NT 10.0| Win64| x64) Appl...</td>\n    </tr>\n    <tr>\n      <th>...</th>\n      <td>...</td>\n      <td>...</td>\n      <td>...</td>\n      <td>...</td>\n      <td>...</td>\n      <td>...</td>\n      <td>...</td>\n      <td>...</td>\n    </tr>\n    <tr>\n      <th>4993</th>\n      <td>128623</td>\n      <td>09/08/2014</td>\n      <td>HTS-128623-0001</td>\n      <td>18</td>\n      <td>Tennis Shirt</td>\n      <td>24</td>\n      <td>1</td>\n      <td>Mozilla/5.0 (Windows NT 10.0| WOW64) AppleWebK...</td>\n    </tr>\n    <tr>\n      <th>4994</th>\n      <td>426724</td>\n      <td>01/12/2013</td>\n      <td>HTS-426724-0001</td>\n      <td>6</td>\n      <td>Tennis Shirt</td>\n      <td>24</td>\n      <td>22</td>\n      <td>Mozilla/5.0 (Windows NT 10.0| WOW64| rv:51.0) ...</td>\n    </tr>\n    <tr>\n      <th>4995</th>\n      <td>79trmb</td>\n      <td>23/07/2016</td>\n      <td>HTS-79trmb-0002</td>\n      <td>7</td>\n      <td>Tennis Shirt</td>\n      <td>24</td>\n      <td>1</td>\n      <td>Mozilla/5.0 (Windows NT 10.0| WOW64| rv:51.0) ...</td>\n    </tr>\n    <tr>\n      <th>4996</th>\n      <td>518434</td>\n      <td>20/09/2016</td>\n      <td>HTS-518434-0004</td>\n      <td>8</td>\n      <td>Tennis Shirt</td>\n      <td>24</td>\n      <td>1</td>\n      <td>Mozilla/5.0 (Windows NT 10.0| WOW64| rv:51.0) ...</td>\n    </tr>\n    <tr>\n      <th>4997</th>\n      <td>1lyrw9</td>\n      <td>09/08/2016</td>\n      <td>HTS-1lyrw9-0001</td>\n      <td>9</td>\n      <td>Tennis Shirt</td>\n      <td>24</td>\n      <td>1</td>\n      <td>Mozilla/5.0 (Windows NT 10.0| WOW64| rv:51.0) ...</td>\n    </tr>\n  </tbody>\n</table>\n<p>4998 rows × 8 columns</p>\n</div>"
     },
     "metadata": {}
    }
   ]
  },
  {
   "cell_type": "code",
   "metadata": {
    "tags": [],
    "cell_id": "00012-a0eb21aa-e204-4fa8-ade3-e04cc0f212ae",
    "deepnote_to_be_reexecuted": false,
    "source_hash": "68c566e7",
    "execution_start": 1629376245387,
    "execution_millis": 136,
    "is_output_hidden": true,
    "deepnote_cell_type": "code"
   },
   "source": "df_vente_part3",
   "execution_count": null,
   "outputs": [
    {
     "output_type": "execute_result",
     "execution_count": 23,
     "data": {
      "application/vnd.deepnote.dataframe.v2+json": {
       "row_count": 2925,
       "column_count": 8,
       "columns": [
        {
         "name": "customer_id",
         "dtype": "object",
         "stats": {
          "unique_count": 899,
          "nan_count": 0,
          "categories": [
           {
            "name": "409679",
            "count": 13
           },
           {
            "name": "650441",
            "count": 11
           },
           {
            "name": "897 others",
            "count": 2901
           }
          ]
         }
        },
        {
         "name": "order_date",
         "dtype": "object",
         "stats": {
          "unique_count": 1166,
          "nan_count": 0,
          "categories": [
           {
            "name": "30/10/2015",
            "count": 9
           },
           {
            "name": "04/03/2016",
            "count": 9
           },
           {
            "name": "1164 others",
            "count": 2907
           }
          ]
         }
        },
        {
         "name": "order_id",
         "dtype": "object",
         "stats": {
          "unique_count": 2924,
          "nan_count": 0,
          "categories": [
           {
            "name": "HTS-040906-0001",
            "count": 2
           },
           {
            "name": "HTS-7uruq8-0001",
            "count": 1
           },
           {
            "name": "2922 others",
            "count": 2922
           }
          ]
         }
        },
        {
         "name": "pages_visited",
         "dtype": "int64",
         "stats": {
          "unique_count": 22,
          "nan_count": 0,
          "min": "2",
          "max": "23",
          "histogram": [
           {
            "bin_start": 2,
            "bin_end": 4.1,
            "count": 125
           },
           {
            "bin_start": 4.1,
            "bin_end": 6.2,
            "count": 294
           },
           {
            "bin_start": 6.2,
            "bin_end": 8.3,
            "count": 549
           },
           {
            "bin_start": 8.3,
            "bin_end": 10.4,
            "count": 603
           },
           {
            "bin_start": 10.4,
            "bin_end": 12.5,
            "count": 559
           },
           {
            "bin_start": 12.5,
            "bin_end": 14.600000000000001,
            "count": 418
           },
           {
            "bin_start": 14.600000000000001,
            "bin_end": 16.700000000000003,
            "count": 229
           },
           {
            "bin_start": 16.700000000000003,
            "bin_end": 18.8,
            "count": 100
           },
           {
            "bin_start": 18.8,
            "bin_end": 20.900000000000002,
            "count": 35
           },
           {
            "bin_start": 20.900000000000002,
            "bin_end": 23,
            "count": 13
           }
          ]
         }
        },
        {
         "name": "tshirt_category",
         "dtype": "object",
         "stats": {
          "unique_count": 10,
          "nan_count": 0,
          "categories": [
           {
            "name": "White T-Shirt M",
            "count": 834
           },
           {
            "name": "Hoodie",
            "count": 789
           },
           {
            "name": "8 others",
            "count": 1302
           }
          ]
         }
        },
        {
         "name": "tshirt_price",
         "dtype": "object",
         "stats": {
          "unique_count": 6,
          "nan_count": 0,
          "categories": [
           {
            "name": "20",
            "count": 912
           },
           {
            "name": "23",
            "count": 789
           },
           {
            "name": "4 others",
            "count": 1224
           }
          ]
         }
        },
        {
         "name": "tshirt_quantity",
         "dtype": "int64",
         "stats": {
          "unique_count": 26,
          "nan_count": 0,
          "min": "1",
          "max": "29",
          "histogram": [
           {
            "bin_start": 1,
            "bin_end": 3.8,
            "count": 2211
           },
           {
            "bin_start": 3.8,
            "bin_end": 6.6,
            "count": 536
           },
           {
            "bin_start": 6.6,
            "bin_end": 9.399999999999999,
            "count": 66
           },
           {
            "bin_start": 9.399999999999999,
            "bin_end": 12.2,
            "count": 16
           },
           {
            "bin_start": 12.2,
            "bin_end": 15,
            "count": 23
           },
           {
            "bin_start": 15,
            "bin_end": 17.799999999999997,
            "count": 27
           },
           {
            "bin_start": 17.799999999999997,
            "bin_end": 20.599999999999998,
            "count": 22
           },
           {
            "bin_start": 20.599999999999998,
            "bin_end": 23.4,
            "count": 18
           },
           {
            "bin_start": 23.4,
            "bin_end": 26.2,
            "count": 4
           },
           {
            "bin_start": 26.2,
            "bin_end": 29,
            "count": 2
           }
          ]
         }
        },
        {
         "name": "user_agent",
         "dtype": "object",
         "stats": {
          "unique_count": 20,
          "nan_count": 0,
          "categories": [
           {
            "name": "Mozilla/5.0 (Windows NT 10.0| Win64| x64) AppleWebKit/537.36 (KHTML, like Gecko) Chrome/56.0.2924.87 Safari/537.36",
            "count": 526
           },
           {
            "name": "Mozilla/5.0 (Macintosh| Intel Mac OS X 10_12_3) AppleWebKit/537.36 (KHTML, like Gecko) Chrome/56.0.2924.87 Safari/537.36",
            "count": 347
           },
           {
            "name": "18 others",
            "count": 2052
           }
          ]
         }
        },
        {
         "name": "_deepnote_index_column",
         "dtype": "int64"
        }
       ],
       "rows_top": [
        {
         "customer_id": "7uruq8",
         "order_date": "09/06/2016",
         "order_id": "HTS-7uruq8-0001",
         "pages_visited": 11,
         "tshirt_category": "Tennis Shirt",
         "tshirt_price": "24",
         "tshirt_quantity": 1,
         "user_agent": "Mozilla/5.0 (Windows NT 10.0| WOW64| rv:51.0) Gecko/20100101 Firefox/51.0",
         "_deepnote_index_column": 0
        },
        {
         "customer_id": "428094",
         "order_date": "18/11/2016",
         "order_id": "HTS-428094-0002",
         "pages_visited": 13,
         "tshirt_category": "Tennis Shirt",
         "tshirt_price": "24",
         "tshirt_quantity": 1,
         "user_agent": "Mozilla/5.0 (Windows NT 10.0| WOW64| rv:51.0) Gecko/20100101 Firefox/51.0",
         "_deepnote_index_column": 1
        },
        {
         "customer_id": "426724",
         "order_date": "19/08/2015",
         "order_id": "HTS-426724-0003",
         "pages_visited": 14,
         "tshirt_category": "Tennis Shirt",
         "tshirt_price": "24",
         "tshirt_quantity": 16,
         "user_agent": "Mozilla/5.0 (Windows NT 10.0| WOW64| rv:51.0) Gecko/20100101 Firefox/51.0",
         "_deepnote_index_column": 2
        },
        {
         "customer_id": "428094",
         "order_date": "29/02/2016",
         "order_id": "HTS-428094-0001",
         "pages_visited": 19,
         "tshirt_category": "Tennis Shirt",
         "tshirt_price": "24",
         "tshirt_quantity": 3,
         "user_agent": "Mozilla/5.0 (Windows NT 10.0| WOW64| rv:51.0) Gecko/20100101 Firefox/51.0",
         "_deepnote_index_column": 3
        },
        {
         "customer_id": "638837",
         "order_date": "19/12/2013",
         "order_id": "HTS-638837-0001",
         "pages_visited": 13,
         "tshirt_category": "Tennis Shirt",
         "tshirt_price": "24",
         "tshirt_quantity": 1,
         "user_agent": "Mozilla/5.0 (Windows NT 10.0| WOW64| rv:52.0) Gecko/20100101 Firefox/52.0",
         "_deepnote_index_column": 4
        },
        {
         "customer_id": "loq4x4",
         "order_date": "06/01/2016",
         "order_id": "HTS-loq4x4-0001",
         "pages_visited": 20,
         "tshirt_category": "Tennis Shirt",
         "tshirt_price": "24",
         "tshirt_quantity": 1,
         "user_agent": "Mozilla/5.0 (Windows NT 10.0| WOW64| rv:52.0) Gecko/20100101 Firefox/52.0",
         "_deepnote_index_column": 5
        },
        {
         "customer_id": "227028",
         "order_date": "05/11/2014",
         "order_id": "HTS-227028-0001",
         "pages_visited": 8,
         "tshirt_category": "Tennis Shirt",
         "tshirt_price": "24",
         "tshirt_quantity": 2,
         "user_agent": "Mozilla/5.0 (Windows NT 10.0| Win64| x64) AppleWebKit/537.36 (KHTML, like Gecko) Chrome/51.0.2704.7…",
         "_deepnote_index_column": 6
        },
        {
         "customer_id": "cxrtv5",
         "order_date": "26/08/2016",
         "order_id": "HTS-cxrtv5-0002",
         "pages_visited": 5,
         "tshirt_category": "Tennis Shirt",
         "tshirt_price": "24",
         "tshirt_quantity": 3,
         "user_agent": "Mozilla/5.0 (Windows NT 10.0| Win64| x64) AppleWebKit/537.36 (KHTML, like Gecko) Chrome/56.0.2924.8…",
         "_deepnote_index_column": 7
        },
        {
         "customer_id": "498253",
         "order_date": "20/09/2015",
         "order_id": "HTS-498253-0001",
         "pages_visited": 7,
         "tshirt_category": "Tennis Shirt",
         "tshirt_price": "24",
         "tshirt_quantity": 1,
         "user_agent": "Mozilla/5.0 (Windows NT 10.0| Win64| x64) AppleWebKit/537.36 (KHTML, like Gecko) Chrome/56.0.2924.8…",
         "_deepnote_index_column": 8
        },
        {
         "customer_id": "ytpmwv",
         "order_date": "19/03/2017",
         "order_id": "HTS-ytpmwv-0003",
         "pages_visited": 8,
         "tshirt_category": "Tennis Shirt",
         "tshirt_price": "24",
         "tshirt_quantity": 1,
         "user_agent": "Mozilla/5.0 (Windows NT 10.0| Win64| x64) AppleWebKit/537.36 (KHTML, like Gecko) Chrome/56.0.2924.8…",
         "_deepnote_index_column": 9
        },
        {
         "customer_id": "5z34ph",
         "order_date": "05/09/2016",
         "order_id": "HTS-5z34ph-0002",
         "pages_visited": 9,
         "tshirt_category": "Tennis Shirt",
         "tshirt_price": "24",
         "tshirt_quantity": 1,
         "user_agent": "Mozilla/5.0 (Windows NT 10.0| Win64| x64) AppleWebKit/537.36 (KHTML, like Gecko) Chrome/56.0.2924.8…",
         "_deepnote_index_column": 10
        },
        {
         "customer_id": "512016",
         "order_date": "30/11/2016",
         "order_id": "HTS-512016-0002",
         "pages_visited": 9,
         "tshirt_category": "Tennis Shirt",
         "tshirt_price": "24",
         "tshirt_quantity": 1,
         "user_agent": "Mozilla/5.0 (Windows NT 10.0| Win64| x64) AppleWebKit/537.36 (KHTML, like Gecko) Chrome/56.0.2924.8…",
         "_deepnote_index_column": 11
        },
        {
         "customer_id": "382137",
         "order_date": "03/09/2016",
         "order_id": "HTS-382137-0001",
         "pages_visited": 10,
         "tshirt_category": "Tennis Shirt",
         "tshirt_price": "24",
         "tshirt_quantity": 1,
         "user_agent": "Mozilla/5.0 (Windows NT 10.0| Win64| x64) AppleWebKit/537.36 (KHTML, like Gecko) Chrome/56.0.2924.8…",
         "_deepnote_index_column": 12
        },
        {
         "customer_id": "7bb707",
         "order_date": "30/05/2016",
         "order_id": "HTS-7bb707-0001",
         "pages_visited": 10,
         "tshirt_category": "Tennis Shirt",
         "tshirt_price": "24",
         "tshirt_quantity": 1,
         "user_agent": "Mozilla/5.0 (Windows NT 10.0| Win64| x64) AppleWebKit/537.36 (KHTML, like Gecko) Chrome/56.0.2924.8…",
         "_deepnote_index_column": 13
        },
        {
         "customer_id": "238834",
         "order_date": "29/08/2014",
         "order_id": "HTS-238834-0001",
         "pages_visited": 10,
         "tshirt_category": "Tennis Shirt",
         "tshirt_price": "24",
         "tshirt_quantity": 2,
         "user_agent": "Mozilla/5.0 (Windows NT 10.0| Win64| x64) AppleWebKit/537.36 (KHTML, like Gecko) Chrome/56.0.2924.8…",
         "_deepnote_index_column": 14
        },
        {
         "customer_id": "488697",
         "order_date": "05/08/2016",
         "order_id": "HTS-488697-0003",
         "pages_visited": 10,
         "tshirt_category": "Tennis Shirt",
         "tshirt_price": "24",
         "tshirt_quantity": 13,
         "user_agent": "Mozilla/5.0 (Windows NT 10.0| Win64| x64) AppleWebKit/537.36 (KHTML, like Gecko) Chrome/56.0.2924.8…",
         "_deepnote_index_column": 15
        },
        {
         "customer_id": "6k5asx",
         "order_date": "27/06/2016",
         "order_id": "HTS-6k5asx-0002",
         "pages_visited": 11,
         "tshirt_category": "Tennis Shirt",
         "tshirt_price": "24",
         "tshirt_quantity": 23,
         "user_agent": "Mozilla/5.0 (Windows NT 10.0| Win64| x64) AppleWebKit/537.36 (KHTML, like Gecko) Chrome/56.0.2924.8…",
         "_deepnote_index_column": 16
        },
        {
         "customer_id": "257772",
         "order_date": "25/12/2013",
         "order_id": "HTS-257772-0001",
         "pages_visited": 12,
         "tshirt_category": "Tennis Shirt",
         "tshirt_price": "24",
         "tshirt_quantity": 1,
         "user_agent": "Mozilla/5.0 (Windows NT 10.0| Win64| x64) AppleWebKit/537.36 (KHTML, like Gecko) Chrome/56.0.2924.8…",
         "_deepnote_index_column": 17
        },
        {
         "customer_id": "pukz7l",
         "order_date": "09/02/2017",
         "order_id": "HTS-pukz7l-0002",
         "pages_visited": 12,
         "tshirt_category": "Tennis Shirt",
         "tshirt_price": "24",
         "tshirt_quantity": 13,
         "user_agent": "Mozilla/5.0 (Windows NT 10.0| Win64| x64) AppleWebKit/537.36 (KHTML, like Gecko) Chrome/56.0.2924.8…",
         "_deepnote_index_column": 18
        },
        {
         "customer_id": "6k5asx",
         "order_date": "19/10/2015",
         "order_id": "HTS-6k5asx-0001",
         "pages_visited": 12,
         "tshirt_category": "Tennis Shirt",
         "tshirt_price": "24",
         "tshirt_quantity": 17,
         "user_agent": "Mozilla/5.0 (Windows NT 10.0| Win64| x64) AppleWebKit/537.36 (KHTML, like Gecko) Chrome/56.0.2924.8…",
         "_deepnote_index_column": 19
        },
        {
         "customer_id": "732582",
         "order_date": "10/10/2014",
         "order_id": "HTS-732582-0001",
         "pages_visited": 13,
         "tshirt_category": "Tennis Shirt",
         "tshirt_price": "24",
         "tshirt_quantity": 1,
         "user_agent": "Mozilla/5.0 (Windows NT 10.0| Win64| x64) AppleWebKit/537.36 (KHTML, like Gecko) Chrome/56.0.2924.8…",
         "_deepnote_index_column": 20
        },
        {
         "customer_id": "916341",
         "order_date": "05/10/2013",
         "order_id": "HTS-916341-0001",
         "pages_visited": 14,
         "tshirt_category": "Tennis Shirt",
         "tshirt_price": "24",
         "tshirt_quantity": 1,
         "user_agent": "Mozilla/5.0 (Windows NT 10.0| Win64| x64) AppleWebKit/537.36 (KHTML, like Gecko) Chrome/56.0.2924.8…",
         "_deepnote_index_column": 21
        },
        {
         "customer_id": "397774",
         "order_date": "08/03/2015",
         "order_id": "HTS-397774-0001",
         "pages_visited": 14,
         "tshirt_category": "Tennis Shirt",
         "tshirt_price": "24",
         "tshirt_quantity": 1,
         "user_agent": "Mozilla/5.0 (Windows NT 10.0| Win64| x64) AppleWebKit/537.36 (KHTML, like Gecko) Chrome/56.0.2924.8…",
         "_deepnote_index_column": 22
        },
        {
         "customer_id": "653930",
         "order_date": "22/11/2015",
         "order_id": "HTS-653930-0002",
         "pages_visited": 14,
         "tshirt_category": "Tennis Shirt",
         "tshirt_price": "24",
         "tshirt_quantity": 1,
         "user_agent": "Mozilla/5.0 (Windows NT 10.0| Win64| x64) AppleWebKit/537.36 (KHTML, like Gecko) Chrome/56.0.2924.8…",
         "_deepnote_index_column": 23
        },
        {
         "customer_id": "444403",
         "order_date": "31/12/2014",
         "order_id": "HTS-444403-0002",
         "pages_visited": 14,
         "tshirt_category": "Tennis Shirt",
         "tshirt_price": "24",
         "tshirt_quantity": 1,
         "user_agent": "Mozilla/5.0 (Windows NT 10.0| Win64| x64) AppleWebKit/537.36 (KHTML, like Gecko) Chrome/56.0.2924.8…",
         "_deepnote_index_column": 24
        },
        {
         "customer_id": "cxrtv5",
         "order_date": "30/10/2015",
         "order_id": "HTS-cxrtv5-0001",
         "pages_visited": 14,
         "tshirt_category": "Tennis Shirt",
         "tshirt_price": "24",
         "tshirt_quantity": 1,
         "user_agent": "Mozilla/5.0 (Windows NT 10.0| Win64| x64) AppleWebKit/537.36 (KHTML, like Gecko) Chrome/56.0.2924.8…",
         "_deepnote_index_column": 25
        },
        {
         "customer_id": "yccg00",
         "order_date": "08/11/2015",
         "order_id": "HTS-yccg00-0001",
         "pages_visited": 14,
         "tshirt_category": "Tennis Shirt",
         "tshirt_price": "24",
         "tshirt_quantity": 1,
         "user_agent": "Mozilla/5.0 (Windows NT 10.0| Win64| x64) AppleWebKit/537.36 (KHTML, like Gecko) Chrome/56.0.2924.8…",
         "_deepnote_index_column": 26
        },
        {
         "customer_id": "488697",
         "order_date": "16/10/2014",
         "order_id": "HTS-488697-0001",
         "pages_visited": 14,
         "tshirt_category": "Tennis Shirt",
         "tshirt_price": "24",
         "tshirt_quantity": 15,
         "user_agent": "Mozilla/5.0 (Windows NT 10.0| Win64| x64) AppleWebKit/537.36 (KHTML, like Gecko) Chrome/56.0.2924.8…",
         "_deepnote_index_column": 27
        },
        {
         "customer_id": "365281",
         "order_date": "13/12/2014",
         "order_id": "HTS-365281-0003",
         "pages_visited": 15,
         "tshirt_category": "Tennis Shirt",
         "tshirt_price": "24",
         "tshirt_quantity": 2,
         "user_agent": "Mozilla/5.0 (Windows NT 10.0| Win64| x64) AppleWebKit/537.36 (KHTML, like Gecko) Chrome/56.0.2924.8…",
         "_deepnote_index_column": 28
        },
        {
         "customer_id": "583929",
         "order_date": "18/12/2013",
         "order_id": "HTS-583929-0001",
         "pages_visited": 15,
         "tshirt_category": "Tennis Shirt",
         "tshirt_price": "24",
         "tshirt_quantity": 3,
         "user_agent": "Mozilla/5.0 (Windows NT 10.0| Win64| x64) AppleWebKit/537.36 (KHTML, like Gecko) Chrome/56.0.2924.8…",
         "_deepnote_index_column": 29
        },
        {
         "customer_id": "365499",
         "order_date": "01/07/2015",
         "order_id": "HTS-365499-0001",
         "pages_visited": 15,
         "tshirt_category": "Tennis Shirt",
         "tshirt_price": "24",
         "tshirt_quantity": 5,
         "user_agent": "Mozilla/5.0 (Windows NT 10.0| Win64| x64) AppleWebKit/537.36 (KHTML, like Gecko) Chrome/56.0.2924.8…",
         "_deepnote_index_column": 30
        },
        {
         "customer_id": "915761",
         "order_date": "20/07/2015",
         "order_id": "HTS-915761-0002",
         "pages_visited": 19,
         "tshirt_category": "Tennis Shirt",
         "tshirt_price": "24",
         "tshirt_quantity": 12,
         "user_agent": "Mozilla/5.0 (Windows NT 10.0| Win64| x64) AppleWebKit/537.36 (KHTML, like Gecko) Chrome/56.0.2924.8…",
         "_deepnote_index_column": 31
        },
        {
         "customer_id": "569613",
         "order_date": "01/10/2016",
         "order_id": "HTS-569613-0003",
         "pages_visited": 7,
         "tshirt_category": "Tennis Shirt",
         "tshirt_price": "24",
         "tshirt_quantity": 1,
         "user_agent": "Mozilla/5.0 (Windows NT 6.1) AppleWebKit/537.36 (KHTML, like Gecko) Chrome/56.0.2924.87 Safari/537.…",
         "_deepnote_index_column": 32
        },
        {
         "customer_id": "978705",
         "order_date": "24/06/2015",
         "order_id": "HTS-978705-0002",
         "pages_visited": 9,
         "tshirt_category": "Tennis Shirt",
         "tshirt_price": "24",
         "tshirt_quantity": 3,
         "user_agent": "Mozilla/5.0 (Windows NT 6.1) AppleWebKit/537.36 (KHTML, like Gecko) Chrome/56.0.2924.87 Safari/537.…",
         "_deepnote_index_column": 33
        },
        {
         "customer_id": "394276",
         "order_date": "25/07/2014",
         "order_id": "HTS-394276-0001",
         "pages_visited": 10,
         "tshirt_category": "Tennis Shirt",
         "tshirt_price": "24",
         "tshirt_quantity": 1,
         "user_agent": "Mozilla/5.0 (Windows NT 6.1) AppleWebKit/537.36 (KHTML, like Gecko) Chrome/56.0.2924.87 Safari/537.…",
         "_deepnote_index_column": 34
        },
        {
         "customer_id": "80190",
         "order_date": "05/12/2014",
         "order_id": "HTS-080190-0001",
         "pages_visited": 13,
         "tshirt_category": "Tennis Shirt",
         "tshirt_price": "24",
         "tshirt_quantity": 1,
         "user_agent": "Mozilla/5.0 (Windows NT 6.1) AppleWebKit/537.36 (KHTML, like Gecko) Chrome/56.0.2924.87 Safari/537.…",
         "_deepnote_index_column": 35
        },
        {
         "customer_id": "971547",
         "order_date": "12/04/2017",
         "order_id": "HTS-971547-0006",
         "pages_visited": 4,
         "tshirt_category": "Tennis Shirt",
         "tshirt_price": "24",
         "tshirt_quantity": 2,
         "user_agent": "Mozilla/5.0 (Windows NT 6.1| WOW64) AppleWebKit/537.36 (KHTML, like Gecko) Chrome/56.0.2924.87 Safa…",
         "_deepnote_index_column": 36
        },
        {
         "customer_id": "936262",
         "order_date": "01/04/2017",
         "order_id": "HTS-936262-0002",
         "pages_visited": 8,
         "tshirt_category": "Tennis Shirt",
         "tshirt_price": "24",
         "tshirt_quantity": 1,
         "user_agent": "Mozilla/5.0 (Windows NT 6.1| WOW64) AppleWebKit/537.36 (KHTML, like Gecko) Chrome/56.0.2924.87 Safa…",
         "_deepnote_index_column": 37
        },
        {
         "customer_id": "cjf9lk",
         "order_date": "05/01/2017",
         "order_id": "HTS-cjf9lk-0001",
         "pages_visited": 9,
         "tshirt_category": "Tennis Shirt",
         "tshirt_price": "24",
         "tshirt_quantity": 1,
         "user_agent": "Mozilla/5.0 (Windows NT 6.1| WOW64) AppleWebKit/537.36 (KHTML, like Gecko) Chrome/56.0.2924.87 Safa…",
         "_deepnote_index_column": 38
        },
        {
         "customer_id": "675460",
         "order_date": "14/08/2014",
         "order_id": "HTS-675460-0001",
         "pages_visited": 9,
         "tshirt_category": "Tennis Shirt",
         "tshirt_price": "24",
         "tshirt_quantity": 1,
         "user_agent": "Mozilla/5.0 (Windows NT 6.1| WOW64) AppleWebKit/537.36 (KHTML, like Gecko) Chrome/56.0.2924.87 Safa…",
         "_deepnote_index_column": 39
        },
        {
         "customer_id": "7o5c87",
         "order_date": "21/01/2016",
         "order_id": "HTS-7o5c87-0001",
         "pages_visited": 13,
         "tshirt_category": "Tennis Shirt",
         "tshirt_price": "24",
         "tshirt_quantity": 1,
         "user_agent": "Mozilla/5.0 (Windows NT 6.1| WOW64) AppleWebKit/537.36 (KHTML, like Gecko) Chrome/56.0.2924.87 Safa…",
         "_deepnote_index_column": 40
        },
        {
         "customer_id": "650856",
         "order_date": "31/12/2013",
         "order_id": "HTS-650856-0001",
         "pages_visited": 14,
         "tshirt_category": "Tennis Shirt",
         "tshirt_price": "24",
         "tshirt_quantity": 3,
         "user_agent": "Mozilla/5.0 (Windows NT 6.1| WOW64) AppleWebKit/537.36 (KHTML, like Gecko) Chrome/56.0.2924.87 Safa…",
         "_deepnote_index_column": 41
        },
        {
         "customer_id": "380209",
         "order_date": "14/08/2015",
         "order_id": "HTS-380209-0002",
         "pages_visited": 13,
         "tshirt_category": "Tennis Shirt",
         "tshirt_price": "24",
         "tshirt_quantity": 1,
         "user_agent": "Mozilla/5.0 (Windows NT 6.1| WOW64| Trident/7.0| rv:11.0) like Gecko",
         "_deepnote_index_column": 42
        },
        {
         "customer_id": "704344",
         "order_date": "05/03/2015",
         "order_id": "HTS-704344-0003",
         "pages_visited": 11,
         "tshirt_category": "Tennis Shirt",
         "tshirt_price": "24",
         "tshirt_quantity": 1,
         "user_agent": "Mozilla/5.0 (Windows NT 6.1| WOW64| rv:51.0) Gecko/20100101 Firefox/51.0",
         "_deepnote_index_column": 43
        },
        {
         "customer_id": "652",
         "order_date": "09/02/2015",
         "order_id": "HTS-000652-0002",
         "pages_visited": 11,
         "tshirt_category": "Tennis Shirt",
         "tshirt_price": "24",
         "tshirt_quantity": 1,
         "user_agent": "Mozilla/5.0 (Windows NT 6.1| WOW64| rv:51.0) Gecko/20100101 Firefox/51.0",
         "_deepnote_index_column": 44
        },
        {
         "customer_id": "704344",
         "order_date": "18/09/2013",
         "order_id": "HTS-704344-0001",
         "pages_visited": 11,
         "tshirt_category": "Tennis Shirt",
         "tshirt_price": "24",
         "tshirt_quantity": 2,
         "user_agent": "Mozilla/5.0 (Windows NT 6.1| WOW64| rv:51.0) Gecko/20100101 Firefox/51.0",
         "_deepnote_index_column": 45
        },
        {
         "customer_id": "189700",
         "order_date": "23/07/2016",
         "order_id": "HTS-189700-0003",
         "pages_visited": 7,
         "tshirt_category": "Tennis Shirt",
         "tshirt_price": "24",
         "tshirt_quantity": 1,
         "user_agent": "Mozilla/5.0 (Windows NT 6.1| WOW64| rv:52.0) Gecko/20100101 Firefox/52.0",
         "_deepnote_index_column": 46
        },
        {
         "customer_id": "464953",
         "order_date": "30/04/2014",
         "order_id": "HTS-464953-0001",
         "pages_visited": 16,
         "tshirt_category": "Tennis Shirt",
         "tshirt_price": "24",
         "tshirt_quantity": 1,
         "user_agent": "Mozilla/5.0 (Windows NT 6.1| WOW64| rv:52.0) Gecko/20100101 Firefox/52.0",
         "_deepnote_index_column": 47
        },
        {
         "customer_id": "553318",
         "order_date": "15/12/2014",
         "order_id": "HTS-553318-0001",
         "pages_visited": 11,
         "tshirt_category": "Tennis Shirt",
         "tshirt_price": "24",
         "tshirt_quantity": 1,
         "user_agent": "Mozilla/5.0 (Windows NT 6.1| Win64| x64) AppleWebKit/537.36 (KHTML, like Gecko) Chrome/56.0.2924.87…",
         "_deepnote_index_column": 48
        },
        {
         "customer_id": "526410",
         "order_date": "28/09/2014",
         "order_id": "HTS-526410-0001",
         "pages_visited": 12,
         "tshirt_category": "Tennis Shirt",
         "tshirt_price": "24",
         "tshirt_quantity": 1,
         "user_agent": "Mozilla/5.0 (Windows NT 6.1| Win64| x64) AppleWebKit/537.36 (KHTML, like Gecko) Chrome/56.0.2924.87…",
         "_deepnote_index_column": 49
        },
        {
         "customer_id": "761299",
         "order_date": "31/03/2016",
         "order_id": "HTS-761299-0001",
         "pages_visited": 13,
         "tshirt_category": "Tennis Shirt",
         "tshirt_price": "24",
         "tshirt_quantity": 1,
         "user_agent": "Mozilla/5.0 (Windows NT 6.1| Win64| x64) AppleWebKit/537.36 (KHTML, like Gecko) Chrome/56.0.2924.87…",
         "_deepnote_index_column": 50
        },
        {
         "customer_id": "384034",
         "order_date": "08/11/2013",
         "order_id": "HTS-384034-0001",
         "pages_visited": 16,
         "tshirt_category": "Tennis Shirt",
         "tshirt_price": "24",
         "tshirt_quantity": 12,
         "user_agent": "Mozilla/5.0 (Windows NT 6.1| Win64| x64) AppleWebKit/537.36 (KHTML, like Gecko) Chrome/56.0.2924.87…",
         "_deepnote_index_column": 51
        },
        {
         "customer_id": "636616",
         "order_date": "07/12/2016",
         "order_id": "HTS-636616-0001",
         "pages_visited": 18,
         "tshirt_category": "Tennis Shirt",
         "tshirt_price": "24",
         "tshirt_quantity": 1,
         "user_agent": "Mozilla/5.0 (Windows NT 6.1| Win64| x64) AppleWebKit/537.36 (KHTML, like Gecko) Chrome/56.0.2924.87…",
         "_deepnote_index_column": 52
        },
        {
         "customer_id": "525793",
         "order_date": "03/08/2015",
         "order_id": "HTS-525793-0002",
         "pages_visited": 7,
         "tshirt_category": "Tennis Shirt",
         "tshirt_price": "24",
         "tshirt_quantity": 3,
         "user_agent": "Mozilla/5.0 (X11| Linux x86_64) AppleWebKit/537.36 (KHTML, like Gecko) Chrome/56.0.2924.87 Safari/5…",
         "_deepnote_index_column": 53
        },
        {
         "customer_id": "933368",
         "order_date": "05/09/2014",
         "order_id": "HTS-933368-0001",
         "pages_visited": 11,
         "tshirt_category": "Tennis Shirt",
         "tshirt_price": "24",
         "tshirt_quantity": 2,
         "user_agent": "Mozilla/5.0 (X11| Linux x86_64) AppleWebKit/537.36 (KHTML, like Gecko) Chrome/56.0.2924.87 Safari/5…",
         "_deepnote_index_column": 54
        },
        {
         "customer_id": "417169",
         "order_date": "24/05/2016",
         "order_id": "HTS-417169-0001",
         "pages_visited": 14,
         "tshirt_category": "Tennis Shirt",
         "tshirt_price": "24",
         "tshirt_quantity": 1,
         "user_agent": "Mozilla/5.0 (X11| Ubuntu| Linux x86_64| rv:51.0) Gecko/20100101 Firefox/51.0",
         "_deepnote_index_column": 55
        },
        {
         "customer_id": "410994",
         "order_date": "06/12/2014",
         "order_id": "HTS-410994-0001",
         "pages_visited": 8,
         "tshirt_category": "Tennis Shirt",
         "tshirt_price": "24",
         "tshirt_quantity": 1,
         "user_agent": "Mozilla/5.0 (Macintosh| Intel Mac OS X 10_11_6) AppleWebKit/537.36 (KHTML, like Gecko) Chrome/56.0.…",
         "_deepnote_index_column": 56
        },
        {
         "customer_id": "866032",
         "order_date": "27/11/2013",
         "order_id": "HTS-866032-0001",
         "pages_visited": 14,
         "tshirt_category": "Tennis Shirt",
         "tshirt_price": "24",
         "tshirt_quantity": 1,
         "user_agent": "Mozilla/5.0 (Macintosh| Intel Mac OS X 10_12_3) AppleWebKit/537.36 (KHTML, like Gecko) Chrome/56.0.…",
         "_deepnote_index_column": 57
        },
        {
         "customer_id": "318044",
         "order_date": "13/06/2014",
         "order_id": "HTS-318044-0001",
         "pages_visited": 11,
         "tshirt_category": "Tennis Shirt",
         "tshirt_price": "24",
         "tshirt_quantity": 1,
         "user_agent": "Mozilla/5.0 (Windows NT 10.0| WOW64) AppleWebKit/537.36 (KHTML, like Gecko) Chrome/56.0.2924.87 Saf…",
         "_deepnote_index_column": 58
        },
        {
         "customer_id": "643083",
         "order_date": "02/09/2016",
         "order_id": "HTS-643083-0003",
         "pages_visited": 8,
         "tshirt_category": "Tennis Shirt",
         "tshirt_price": "24",
         "tshirt_quantity": 13,
         "user_agent": "Mozilla/5.0 (Windows NT 10.0| Win64| x64) AppleWebKit/537.36 (KHTML, like Gecko) Chrome/56.0.2924.8…",
         "_deepnote_index_column": 59
        },
        {
         "customer_id": "353964",
         "order_date": "19/07/2015",
         "order_id": "HTS-353964-0002",
         "pages_visited": 13,
         "tshirt_category": "Tennis Shirt",
         "tshirt_price": "24",
         "tshirt_quantity": 3,
         "user_agent": "Mozilla/5.0 (Windows NT 6.1| WOW64) AppleWebKit/537.36 (KHTML, like Gecko) Chrome/56.0.2924.87 Safa…",
         "_deepnote_index_column": 60
        },
        {
         "customer_id": "685435",
         "order_date": "15/03/2017",
         "order_id": "HTS-685435-0005",
         "pages_visited": 5,
         "tshirt_category": "Tennis Shirt",
         "tshirt_price": "24",
         "tshirt_quantity": 3,
         "user_agent": "Mozilla/5.0 (Windows NT 6.1| WOW64| rv:51.0) Gecko/20100101 Firefox/51.0",
         "_deepnote_index_column": 61
        }
       ],
       "rows_bottom": [
        {
         "customer_id": "838334",
         "order_date": "01/08/2014",
         "order_id": "HTS-838334-0002",
         "pages_visited": 6,
         "tshirt_category": "Tennis Shirt",
         "tshirt_price": "24",
         "tshirt_quantity": 1,
         "user_agent": "Mozilla/5.0 (Windows NT 10.0| WOW64) AppleWebKit/537.36 (KHTML, like Gecko) Chrome/56.0.2924.87 Saf…",
         "_deepnote_index_column": 2862
        },
        {
         "customer_id": "366872",
         "order_date": "11/01/2016",
         "order_id": "HTS-366872-0006",
         "pages_visited": 6,
         "tshirt_category": "Tennis Shirt",
         "tshirt_price": "24",
         "tshirt_quantity": 6,
         "user_agent": "Mozilla/5.0 (Windows NT 10.0| WOW64) AppleWebKit/537.36 (KHTML, like Gecko) Chrome/56.0.2924.87 Saf…",
         "_deepnote_index_column": 2863
        },
        {
         "customer_id": "568641",
         "order_date": "14/03/2017",
         "order_id": "HTS-568641-0005",
         "pages_visited": 7,
         "tshirt_category": "Tennis Shirt",
         "tshirt_price": "24",
         "tshirt_quantity": 2,
         "user_agent": "Mozilla/5.0 (Windows NT 10.0| WOW64) AppleWebKit/537.36 (KHTML, like Gecko) Chrome/56.0.2924.87 Saf…",
         "_deepnote_index_column": 2864
        },
        {
         "customer_id": "366872",
         "order_date": "04/01/2015",
         "order_id": "HTS-366872-0004",
         "pages_visited": 7,
         "tshirt_category": "Tennis Shirt",
         "tshirt_price": "24",
         "tshirt_quantity": 3,
         "user_agent": "Mozilla/5.0 (Windows NT 10.0| WOW64) AppleWebKit/537.36 (KHTML, like Gecko) Chrome/56.0.2924.87 Saf…",
         "_deepnote_index_column": 2865
        },
        {
         "customer_id": "366872",
         "order_date": "24/06/2016",
         "order_id": "HTS-366872-0007",
         "pages_visited": 8,
         "tshirt_category": "Tennis Shirt",
         "tshirt_price": "24",
         "tshirt_quantity": 3,
         "user_agent": "Mozilla/5.0 (Windows NT 10.0| WOW64) AppleWebKit/537.36 (KHTML, like Gecko) Chrome/56.0.2924.87 Saf…",
         "_deepnote_index_column": 2866
        },
        {
         "customer_id": "892209",
         "order_date": "25/08/2013",
         "order_id": "HTS-892209-0001",
         "pages_visited": 9,
         "tshirt_category": "Tennis Shirt",
         "tshirt_price": "24",
         "tshirt_quantity": 1,
         "user_agent": "Mozilla/5.0 (Windows NT 10.0| WOW64) AppleWebKit/537.36 (KHTML, like Gecko) Chrome/56.0.2924.87 Saf…",
         "_deepnote_index_column": 2867
        },
        {
         "customer_id": "568641",
         "order_date": "16/11/2015",
         "order_id": "HTS-568641-0003",
         "pages_visited": 10,
         "tshirt_category": "Tennis Shirt",
         "tshirt_price": "24",
         "tshirt_quantity": 1,
         "user_agent": "Mozilla/5.0 (Windows NT 10.0| WOW64) AppleWebKit/537.36 (KHTML, like Gecko) Chrome/56.0.2924.87 Saf…",
         "_deepnote_index_column": 2868
        },
        {
         "customer_id": "254775",
         "order_date": "24/01/2016",
         "order_id": "HTS-254775-0003",
         "pages_visited": 11,
         "tshirt_category": "Tennis Shirt",
         "tshirt_price": "24",
         "tshirt_quantity": 2,
         "user_agent": "Mozilla/5.0 (Windows NT 10.0| WOW64) AppleWebKit/537.36 (KHTML, like Gecko) Chrome/56.0.2924.87 Saf…",
         "_deepnote_index_column": 2869
        },
        {
         "customer_id": "pxedg4",
         "order_date": "02/07/2015",
         "order_id": "HTS-pxedg4-0001",
         "pages_visited": 11,
         "tshirt_category": "Tennis Shirt",
         "tshirt_price": "24",
         "tshirt_quantity": 3,
         "user_agent": "Mozilla/5.0 (Windows NT 10.0| WOW64) AppleWebKit/537.36 (KHTML, like Gecko) Chrome/56.0.2924.87 Saf…",
         "_deepnote_index_column": 2870
        },
        {
         "customer_id": "215837",
         "order_date": "14/06/2016",
         "order_id": "HTS-215837-0002",
         "pages_visited": 12,
         "tshirt_category": "Tennis Shirt",
         "tshirt_price": "24",
         "tshirt_quantity": 1,
         "user_agent": "Mozilla/5.0 (Windows NT 10.0| WOW64) AppleWebKit/537.36 (KHTML, like Gecko) Chrome/56.0.2924.87 Saf…",
         "_deepnote_index_column": 2871
        },
        {
         "customer_id": "374675",
         "order_date": "16/06/2014",
         "order_id": "HTS-374675-0002",
         "pages_visited": 12,
         "tshirt_category": "Tennis Shirt",
         "tshirt_price": "24",
         "tshirt_quantity": 2,
         "user_agent": "Mozilla/5.0 (Windows NT 10.0| WOW64) AppleWebKit/537.36 (KHTML, like Gecko) Chrome/56.0.2924.87 Saf…",
         "_deepnote_index_column": 2872
        },
        {
         "customer_id": "254027",
         "order_date": "19/05/2016",
         "order_id": "HTS-254027-0003",
         "pages_visited": 12,
         "tshirt_category": "Tennis Shirt",
         "tshirt_price": "24",
         "tshirt_quantity": 4,
         "user_agent": "Mozilla/5.0 (Windows NT 10.0| WOW64) AppleWebKit/537.36 (KHTML, like Gecko) Chrome/56.0.2924.87 Saf…",
         "_deepnote_index_column": 2873
        },
        {
         "customer_id": "123244",
         "order_date": "23/08/2014",
         "order_id": "HTS-123244-0001",
         "pages_visited": 13,
         "tshirt_category": "Tennis Shirt",
         "tshirt_price": "24",
         "tshirt_quantity": 4,
         "user_agent": "Mozilla/5.0 (Windows NT 10.0| WOW64) AppleWebKit/537.36 (KHTML, like Gecko) Chrome/56.0.2924.87 Saf…",
         "_deepnote_index_column": 2874
        },
        {
         "customer_id": "583528",
         "order_date": "16/09/2014",
         "order_id": "HTS-583528-0001",
         "pages_visited": 18,
         "tshirt_category": "Tennis Shirt",
         "tshirt_price": "24",
         "tshirt_quantity": 3,
         "user_agent": "Mozilla/5.0 (Windows NT 10.0| WOW64) AppleWebKit/537.36 (KHTML, like Gecko) Chrome/56.0.2924.87 Saf…",
         "_deepnote_index_column": 2875
        },
        {
         "customer_id": "954392",
         "order_date": "31/10/2013",
         "order_id": "HTS-954392-0001",
         "pages_visited": 14,
         "tshirt_category": "Tennis Shirt",
         "tshirt_price": "24",
         "tshirt_quantity": 2,
         "user_agent": "Mozilla/5.0 (Windows NT 10.0| WOW64| rv:51.0) Gecko/20100101 Firefox/51.0",
         "_deepnote_index_column": 2876
        },
        {
         "customer_id": "826211",
         "order_date": "29/02/2016",
         "order_id": "HTS-826211-0001",
         "pages_visited": 15,
         "tshirt_category": "Tennis Shirt",
         "tshirt_price": "24",
         "tshirt_quantity": 1,
         "user_agent": "Mozilla/5.0 (Windows NT 10.0| WOW64| rv:51.0) Gecko/20100101 Firefox/51.0",
         "_deepnote_index_column": 2877
        },
        {
         "customer_id": "532177",
         "order_date": "20/04/2016",
         "order_id": "HTS-532177-0002",
         "pages_visited": 7,
         "tshirt_category": "Tennis Shirt",
         "tshirt_price": "24",
         "tshirt_quantity": 1,
         "user_agent": "Mozilla/5.0 (Windows NT 10.0| WOW64| rv:52.0) Gecko/20100101 Firefox/52.0",
         "_deepnote_index_column": 2878
        },
        {
         "customer_id": "852360",
         "order_date": "21/04/2014",
         "order_id": "HTS-852360-0001",
         "pages_visited": 7,
         "tshirt_category": "Tennis Shirt",
         "tshirt_price": "24",
         "tshirt_quantity": 2,
         "user_agent": "Mozilla/5.0 (Windows NT 10.0| WOW64| rv:52.0) Gecko/20100101 Firefox/52.0",
         "_deepnote_index_column": 2879
        },
        {
         "customer_id": "553303",
         "order_date": "24/07/2013",
         "order_id": "HTS-553303-0001",
         "pages_visited": 11,
         "tshirt_category": "Tennis Shirt",
         "tshirt_price": "24",
         "tshirt_quantity": 1,
         "user_agent": "Mozilla/5.0 (Windows NT 10.0| WOW64| rv:52.0) Gecko/20100101 Firefox/52.0",
         "_deepnote_index_column": 2880
        },
        {
         "customer_id": "665738",
         "order_date": "08/08/2016",
         "order_id": "HTS-665738-0004",
         "pages_visited": 5,
         "tshirt_category": "Tennis Shirt",
         "tshirt_price": "24",
         "tshirt_quantity": 2,
         "user_agent": "Mozilla/5.0 (Windows NT 10.0| Win64| x64) AppleWebKit/537.36 (KHTML, like Gecko) Chrome/56.0.2924.8…",
         "_deepnote_index_column": 2881
        },
        {
         "customer_id": "662419",
         "order_date": "03/04/2017",
         "order_id": "HTS-662419-0005",
         "pages_visited": 6,
         "tshirt_category": "Tennis Shirt",
         "tshirt_price": "24",
         "tshirt_quantity": 2,
         "user_agent": "Mozilla/5.0 (Windows NT 10.0| Win64| x64) AppleWebKit/537.36 (KHTML, like Gecko) Chrome/56.0.2924.8…",
         "_deepnote_index_column": 2882
        },
        {
         "customer_id": "249636",
         "order_date": "28/10/2015",
         "order_id": "HTS-249636-0003",
         "pages_visited": 9,
         "tshirt_category": "Tennis Shirt",
         "tshirt_price": "24",
         "tshirt_quantity": 2,
         "user_agent": "Mozilla/5.0 (Windows NT 10.0| Win64| x64) AppleWebKit/537.36 (KHTML, like Gecko) Chrome/56.0.2924.8…",
         "_deepnote_index_column": 2883
        },
        {
         "customer_id": "44759",
         "order_date": "23/07/2015",
         "order_id": "HTS-044759-0003",
         "pages_visited": 9,
         "tshirt_category": "Tennis Shirt",
         "tshirt_price": "24",
         "tshirt_quantity": 3,
         "user_agent": "Mozilla/5.0 (Windows NT 10.0| Win64| x64) AppleWebKit/537.36 (KHTML, like Gecko) Chrome/56.0.2924.8…",
         "_deepnote_index_column": 2884
        },
        {
         "customer_id": "389342",
         "order_date": "05/12/2013",
         "order_id": "HTS-389342-0001",
         "pages_visited": 10,
         "tshirt_category": "Tennis Shirt",
         "tshirt_price": "24",
         "tshirt_quantity": 2,
         "user_agent": "Mozilla/5.0 (Windows NT 10.0| Win64| x64) AppleWebKit/537.36 (KHTML, like Gecko) Chrome/56.0.2924.8…",
         "_deepnote_index_column": 2885
        },
        {
         "customer_id": "704302",
         "order_date": "27/06/2016",
         "order_id": "HTS-704302-0005",
         "pages_visited": 10,
         "tshirt_category": "Tennis Shirt",
         "tshirt_price": "24",
         "tshirt_quantity": 4,
         "user_agent": "Mozilla/5.0 (Windows NT 10.0| Win64| x64) AppleWebKit/537.36 (KHTML, like Gecko) Chrome/56.0.2924.8…",
         "_deepnote_index_column": 2886
        },
        {
         "customer_id": "174167",
         "order_date": "17/10/2014",
         "order_id": "HTS-174167-0001",
         "pages_visited": 11,
         "tshirt_category": "Tennis Shirt",
         "tshirt_price": "24",
         "tshirt_quantity": 1,
         "user_agent": "Mozilla/5.0 (Windows NT 10.0| Win64| x64) AppleWebKit/537.36 (KHTML, like Gecko) Chrome/56.0.2924.8…",
         "_deepnote_index_column": 2887
        },
        {
         "customer_id": "44759",
         "order_date": "07/04/2017",
         "order_id": "HTS-044759-0005",
         "pages_visited": 11,
         "tshirt_category": "Tennis Shirt",
         "tshirt_price": "24",
         "tshirt_quantity": 5,
         "user_agent": "Mozilla/5.0 (Windows NT 10.0| Win64| x64) AppleWebKit/537.36 (KHTML, like Gecko) Chrome/56.0.2924.8…",
         "_deepnote_index_column": 2888
        },
        {
         "customer_id": "by4n7h",
         "order_date": "12/10/2016",
         "order_id": "HTS-by4n7h-0002",
         "pages_visited": 13,
         "tshirt_category": "Tennis Shirt",
         "tshirt_price": "24",
         "tshirt_quantity": 2,
         "user_agent": "Mozilla/5.0 (Windows NT 10.0| Win64| x64) AppleWebKit/537.36 (KHTML, like Gecko) Chrome/56.0.2924.8…",
         "_deepnote_index_column": 2889
        },
        {
         "customer_id": "kc5k7h",
         "order_date": "22/08/2016",
         "order_id": "HTS-kc5k7h-0002",
         "pages_visited": 14,
         "tshirt_category": "Tennis Shirt",
         "tshirt_price": "24",
         "tshirt_quantity": 4,
         "user_agent": "Mozilla/5.0 (Windows NT 10.0| Win64| x64) AppleWebKit/537.36 (KHTML, like Gecko) Chrome/56.0.2924.8…",
         "_deepnote_index_column": 2890
        },
        {
         "customer_id": "784711",
         "order_date": "02/10/2015",
         "order_id": "HTS-784711-0003",
         "pages_visited": 15,
         "tshirt_category": "Tennis Shirt",
         "tshirt_price": "24",
         "tshirt_quantity": 5,
         "user_agent": "Mozilla/5.0 (Windows NT 10.0| Win64| x64) AppleWebKit/537.36 (KHTML, like Gecko) Chrome/56.0.2924.8…",
         "_deepnote_index_column": 2891
        },
        {
         "customer_id": "o8mesu",
         "order_date": "25/01/2016",
         "order_id": "HTS-o8mesu-0002",
         "pages_visited": 16,
         "tshirt_category": "Tennis Shirt",
         "tshirt_price": "24",
         "tshirt_quantity": 5,
         "user_agent": "Mozilla/5.0 (Windows NT 10.0| Win64| x64) AppleWebKit/537.36 (KHTML, like Gecko) Chrome/56.0.2924.8…",
         "_deepnote_index_column": 2892
        },
        {
         "customer_id": "399607",
         "order_date": "04/03/2016",
         "order_id": "HTS-399607-0005",
         "pages_visited": 2,
         "tshirt_category": "Tennis Shirt",
         "tshirt_price": "24",
         "tshirt_quantity": 4,
         "user_agent": "Mozilla/5.0 (Windows NT 6.1| WOW64) AppleWebKit/537.36 (KHTML, like Gecko) Chrome/56.0.2924.87 Safa…",
         "_deepnote_index_column": 2893
        },
        {
         "customer_id": "989355",
         "order_date": "18/01/2017",
         "order_id": "HTS-989355-0004",
         "pages_visited": 4,
         "tshirt_category": "Tennis Shirt",
         "tshirt_price": "24",
         "tshirt_quantity": 2,
         "user_agent": "Mozilla/5.0 (Windows NT 6.1| WOW64) AppleWebKit/537.36 (KHTML, like Gecko) Chrome/56.0.2924.87 Safa…",
         "_deepnote_index_column": 2894
        },
        {
         "customer_id": "86618",
         "order_date": "16/10/2015",
         "order_id": "HTS-086618-0006",
         "pages_visited": 6,
         "tshirt_category": "Tennis Shirt",
         "tshirt_price": "24",
         "tshirt_quantity": 2,
         "user_agent": "Mozilla/5.0 (Windows NT 6.1| WOW64) AppleWebKit/537.36 (KHTML, like Gecko) Chrome/56.0.2924.87 Safa…",
         "_deepnote_index_column": 2895
        },
        {
         "customer_id": "72488",
         "order_date": "22/09/2014",
         "order_id": "HTS-072488-0002",
         "pages_visited": 8,
         "tshirt_category": "Tennis Shirt",
         "tshirt_price": "24",
         "tshirt_quantity": 1,
         "user_agent": "Mozilla/5.0 (Windows NT 6.1| WOW64) AppleWebKit/537.36 (KHTML, like Gecko) Chrome/56.0.2924.87 Safa…",
         "_deepnote_index_column": 2896
        },
        {
         "customer_id": "744898",
         "order_date": "18/02/2015",
         "order_id": "HTS-744898-0003",
         "pages_visited": 8,
         "tshirt_category": "Tennis Shirt",
         "tshirt_price": "24",
         "tshirt_quantity": 2,
         "user_agent": "Mozilla/5.0 (Windows NT 6.1| WOW64) AppleWebKit/537.36 (KHTML, like Gecko) Chrome/56.0.2924.87 Safa…",
         "_deepnote_index_column": 2897
        },
        {
         "customer_id": "27163",
         "order_date": "03/12/2015",
         "order_id": "HTS-027163-0003",
         "pages_visited": 11,
         "tshirt_category": "Tennis Shirt",
         "tshirt_price": "24",
         "tshirt_quantity": 1,
         "user_agent": "Mozilla/5.0 (Windows NT 6.1| WOW64) AppleWebKit/537.36 (KHTML, like Gecko) Chrome/56.0.2924.87 Safa…",
         "_deepnote_index_column": 2898
        },
        {
         "customer_id": "8nc81b",
         "order_date": "25/02/2016",
         "order_id": "HTS-8nc81b-0002",
         "pages_visited": 12,
         "tshirt_category": "Tennis Shirt",
         "tshirt_price": "24",
         "tshirt_quantity": 4,
         "user_agent": "Mozilla/5.0 (Windows NT 6.1| WOW64) AppleWebKit/537.36 (KHTML, like Gecko) Chrome/56.0.2924.87 Safa…",
         "_deepnote_index_column": 2899
        },
        {
         "customer_id": "tq6ry2",
         "order_date": "05/01/2017",
         "order_id": "HTS-tq6ry2-0002",
         "pages_visited": 13,
         "tshirt_category": "Tennis Shirt",
         "tshirt_price": "24",
         "tshirt_quantity": 1,
         "user_agent": "Mozilla/5.0 (Windows NT 6.1| WOW64) AppleWebKit/537.36 (KHTML, like Gecko) Chrome/56.0.2924.87 Safa…",
         "_deepnote_index_column": 2900
        },
        {
         "customer_id": "62489",
         "order_date": "22/12/2013",
         "order_id": "HTS-062489-0001",
         "pages_visited": 18,
         "tshirt_category": "Tennis Shirt",
         "tshirt_price": "24",
         "tshirt_quantity": 1,
         "user_agent": "Mozilla/5.0 (Windows NT 6.1| WOW64) AppleWebKit/537.36 (KHTML, like Gecko) Chrome/56.0.2924.87 Safa…",
         "_deepnote_index_column": 2901
        },
        {
         "customer_id": "672344",
         "order_date": "19/11/2016",
         "order_id": "HTS-672344-0005",
         "pages_visited": 5,
         "tshirt_category": "Tennis Shirt",
         "tshirt_price": "24",
         "tshirt_quantity": 2,
         "user_agent": "Mozilla/5.0 (Windows NT 6.1| WOW64| rv:51.0) Gecko/20100101 Firefox/51.0",
         "_deepnote_index_column": 2902
        },
        {
         "customer_id": "763981",
         "order_date": "25/06/2015",
         "order_id": "HTS-763981-0002",
         "pages_visited": 7,
         "tshirt_category": "Tennis Shirt",
         "tshirt_price": "24",
         "tshirt_quantity": 5,
         "user_agent": "Mozilla/5.0 (Windows NT 6.1| WOW64| rv:51.0) Gecko/20100101 Firefox/51.0",
         "_deepnote_index_column": 2903
        },
        {
         "customer_id": "676955",
         "order_date": "25/12/2014",
         "order_id": "HTS-676955-0001",
         "pages_visited": 9,
         "tshirt_category": "Tennis Shirt",
         "tshirt_price": "24",
         "tshirt_quantity": 4,
         "user_agent": "Mozilla/5.0 (Windows NT 6.1| WOW64| rv:51.0) Gecko/20100101 Firefox/51.0",
         "_deepnote_index_column": 2904
        },
        {
         "customer_id": "278313",
         "order_date": "09/04/2016",
         "order_id": "HTS-278313-0004",
         "pages_visited": 15,
         "tshirt_category": "Tennis Shirt",
         "tshirt_price": "24",
         "tshirt_quantity": 13,
         "user_agent": "Mozilla/5.0 (Windows NT 6.1| WOW64| rv:51.0) Gecko/20100101 Firefox/51.0",
         "_deepnote_index_column": 2905
        },
        {
         "customer_id": "el0sj8",
         "order_date": "12/01/2017",
         "order_id": "HTS-el0sj8-0004",
         "pages_visited": 6,
         "tshirt_category": "Tennis Shirt",
         "tshirt_price": "24",
         "tshirt_quantity": 1,
         "user_agent": "Mozilla/5.0 (Windows NT 6.1| Win64| x64) AppleWebKit/537.36 (KHTML, like Gecko) Chrome/56.0.2924.87…",
         "_deepnote_index_column": 2906
        },
        {
         "customer_id": "545790",
         "order_date": "16/07/2015",
         "order_id": "HTS-545790-0005",
         "pages_visited": 6,
         "tshirt_category": "Tennis Shirt",
         "tshirt_price": "24",
         "tshirt_quantity": 3,
         "user_agent": "Mozilla/5.0 (Windows NT 6.1| Win64| x64) AppleWebKit/537.36 (KHTML, like Gecko) Chrome/56.0.2924.87…",
         "_deepnote_index_column": 2907
        },
        {
         "customer_id": "585862",
         "order_date": "19/11/2015",
         "order_id": "HTS-585862-0004",
         "pages_visited": 7,
         "tshirt_category": "Tennis Shirt",
         "tshirt_price": "24",
         "tshirt_quantity": 14,
         "user_agent": "Mozilla/5.0 (Windows NT 6.1| Win64| x64) AppleWebKit/537.36 (KHTML, like Gecko) Chrome/56.0.2924.87…",
         "_deepnote_index_column": 2908
        },
        {
         "customer_id": "585862",
         "order_date": "17/02/2015",
         "order_id": "HTS-585862-0003",
         "pages_visited": 8,
         "tshirt_category": "Tennis Shirt",
         "tshirt_price": "24",
         "tshirt_quantity": 18,
         "user_agent": "Mozilla/5.0 (Windows NT 6.1| Win64| x64) AppleWebKit/537.36 (KHTML, like Gecko) Chrome/56.0.2924.87…",
         "_deepnote_index_column": 2909
        },
        {
         "customer_id": "539658",
         "order_date": "29/12/2015",
         "order_id": "HTS-539658-0003",
         "pages_visited": 9,
         "tshirt_category": "Tennis Shirt",
         "tshirt_price": "24",
         "tshirt_quantity": 6,
         "user_agent": "Mozilla/5.0 (Windows NT 6.1| Win64| x64) AppleWebKit/537.36 (KHTML, like Gecko) Chrome/56.0.2924.87…",
         "_deepnote_index_column": 2910
        },
        {
         "customer_id": "187195",
         "order_date": "30/03/2016",
         "order_id": "HTS-187195-0003",
         "pages_visited": 10,
         "tshirt_category": "Tennis Shirt",
         "tshirt_price": "24",
         "tshirt_quantity": 5,
         "user_agent": "Mozilla/5.0 (Windows NT 6.1| Win64| x64) AppleWebKit/537.36 (KHTML, like Gecko) Chrome/56.0.2924.87…",
         "_deepnote_index_column": 2911
        },
        {
         "customer_id": "449243",
         "order_date": "09/06/2016",
         "order_id": "HTS-449243-0002",
         "pages_visited": 11,
         "tshirt_category": "Tennis Shirt",
         "tshirt_price": "24",
         "tshirt_quantity": 1,
         "user_agent": "Mozilla/5.0 (Windows NT 6.1| Win64| x64) AppleWebKit/537.36 (KHTML, like Gecko) Chrome/56.0.2924.87…",
         "_deepnote_index_column": 2912
        },
        {
         "customer_id": "83318",
         "order_date": "01/08/2016",
         "order_id": "HTS-083318-0005",
         "pages_visited": 11,
         "tshirt_category": "Tennis Shirt",
         "tshirt_price": "24",
         "tshirt_quantity": 2,
         "user_agent": "Mozilla/5.0 (Windows NT 6.1| Win64| x64) AppleWebKit/537.36 (KHTML, like Gecko) Chrome/56.0.2924.87…",
         "_deepnote_index_column": 2913
        },
        {
         "customer_id": "453848",
         "order_date": "18/07/2013",
         "order_id": "HTS-453848-0001",
         "pages_visited": 11,
         "tshirt_category": "Tennis Shirt",
         "tshirt_price": "24",
         "tshirt_quantity": 3,
         "user_agent": "Mozilla/5.0 (Windows NT 6.1| Win64| x64) AppleWebKit/537.36 (KHTML, like Gecko) Chrome/56.0.2924.87…",
         "_deepnote_index_column": 2914
        },
        {
         "customer_id": "83318",
         "order_date": "28/02/2015",
         "order_id": "HTS-083318-0003",
         "pages_visited": 12,
         "tshirt_category": "Tennis Shirt",
         "tshirt_price": "24",
         "tshirt_quantity": 3,
         "user_agent": "Mozilla/5.0 (Windows NT 6.1| Win64| x64) AppleWebKit/537.36 (KHTML, like Gecko) Chrome/56.0.2924.87…",
         "_deepnote_index_column": 2915
        },
        {
         "customer_id": "287913",
         "order_date": "25/12/2014",
         "order_id": "HTS-287913-0002",
         "pages_visited": 11,
         "tshirt_category": "Tennis Shirt",
         "tshirt_price": "24",
         "tshirt_quantity": 1,
         "user_agent": "Mozilla/5.0 (Windows NT 6.3| WOW64) AppleWebKit/537.36 (KHTML, like Gecko) Chrome/56.0.2924.87 Safa…",
         "_deepnote_index_column": 2916
        },
        {
         "customer_id": "534599",
         "order_date": "23/06/2014",
         "order_id": "HTS-534599-0001",
         "pages_visited": 9,
         "tshirt_category": "Tennis Shirt",
         "tshirt_price": "24",
         "tshirt_quantity": 3,
         "user_agent": "Mozilla/5.0 (X11| Linux x86_64) AppleWebKit/537.36 (KHTML, like Gecko) Chrome/56.0.2924.87 Safari/5…",
         "_deepnote_index_column": 2917
        },
        {
         "customer_id": "467894",
         "order_date": "14/10/2015",
         "order_id": "HTS-467894-0003",
         "pages_visited": 11,
         "tshirt_category": "Tennis Shirt",
         "tshirt_price": "24",
         "tshirt_quantity": 1,
         "user_agent": "Mozilla/5.0 (X11| Linux x86_64) AppleWebKit/537.36 (KHTML, like Gecko) Chrome/56.0.2924.87 Safari/5…",
         "_deepnote_index_column": 2918
        },
        {
         "customer_id": "371776",
         "order_date": "04/05/2015",
         "order_id": "HTS-371776-0002",
         "pages_visited": 16,
         "tshirt_category": "Tennis Shirt",
         "tshirt_price": "24",
         "tshirt_quantity": 2,
         "user_agent": "Mozilla/5.0 (X11| Linux x86_64) AppleWebKit/537.36 (KHTML, like Gecko) Chrome/56.0.2924.87 Safari/5…",
         "_deepnote_index_column": 2919
        },
        {
         "customer_id": "0b59cn",
         "order_date": "12/12/2016",
         "order_id": "HTS-0b59cn-0004",
         "pages_visited": 8,
         "tshirt_category": "Tennis Shirt",
         "tshirt_price": "24",
         "tshirt_quantity": 5,
         "user_agent": "Mozilla/5.0 (X11| Ubuntu| Linux x86_64| rv:51.0) Gecko/20100101 Firefox/51.0",
         "_deepnote_index_column": 2920
        },
        {
         "customer_id": "357322",
         "order_date": "10/12/2016",
         "order_id": "HTS-357322-0007",
         "pages_visited": 5,
         "tshirt_category": "Tennis Shirt",
         "tshirt_price": "24",
         "tshirt_quantity": 3,
         "user_agent": "Mozilla/5.0 (Windows NT 10.0| WOW64) AppleWebKit/537.36 (KHTML, like Gecko) Chrome/56.0.2924.87 Saf…",
         "_deepnote_index_column": 2921
        },
        {
         "customer_id": "l8c64t",
         "order_date": "01/03/2017",
         "order_id": "HTS-l8c64t-0003",
         "pages_visited": 7,
         "tshirt_category": "Tennis Shirt",
         "tshirt_price": "24",
         "tshirt_quantity": 2,
         "user_agent": "Mozilla/5.0 (Windows NT 10.0| WOW64| rv:52.0) Gecko/20100101 Firefox/52.0",
         "_deepnote_index_column": 2922
        },
        {
         "customer_id": "946557",
         "order_date": "21/07/2016",
         "order_id": "HTS-946557-0005",
         "pages_visited": 5,
         "tshirt_category": "Tennis Shirt",
         "tshirt_price": "24",
         "tshirt_quantity": 2,
         "user_agent": "Mozilla/5.0 (Windows NT 10.0| Win64| x64) AppleWebKit/537.36 (KHTML, like Gecko) Chrome/56.0.2924.8…",
         "_deepnote_index_column": 2923
        },
        {
         "customer_id": "1bhyje",
         "order_date": "22/06/2016",
         "order_id": "HTS-1bhyje-0002",
         "pages_visited": 17,
         "tshirt_category": "Tennis Shirt",
         "tshirt_price": "24",
         "tshirt_quantity": 1,
         "user_agent": "Mozilla/5.0 (X11| Linux x86_64) AppleWebKit/537.36 (KHTML, like Gecko) Chrome/56.0.2924.87 Safari/5…",
         "_deepnote_index_column": 2924
        }
       ]
      },
      "text/plain": "     customer_id  order_date         order_id  pages_visited tshirt_category  \\\n0         7uruq8  09/06/2016  HTS-7uruq8-0001             11    Tennis Shirt   \n1         428094  18/11/2016  HTS-428094-0002             13    Tennis Shirt   \n2         426724  19/08/2015  HTS-426724-0003             14    Tennis Shirt   \n3         428094  29/02/2016  HTS-428094-0001             19    Tennis Shirt   \n4         638837  19/12/2013  HTS-638837-0001             13    Tennis Shirt   \n...          ...         ...              ...            ...             ...   \n2920      0b59cn  12/12/2016  HTS-0b59cn-0004              8    Tennis Shirt   \n2921      357322  10/12/2016  HTS-357322-0007              5    Tennis Shirt   \n2922      l8c64t  01/03/2017  HTS-l8c64t-0003              7    Tennis Shirt   \n2923      946557  21/07/2016  HTS-946557-0005              5    Tennis Shirt   \n2924      1bhyje  22/06/2016  HTS-1bhyje-0002             17    Tennis Shirt   \n\n     tshirt_price  tshirt_quantity  \\\n0              24                1   \n1              24                1   \n2              24               16   \n3              24                3   \n4              24                1   \n...           ...              ...   \n2920           24                5   \n2921           24                3   \n2922           24                2   \n2923           24                2   \n2924           24                1   \n\n                                             user_agent  \n0     Mozilla/5.0 (Windows NT 10.0| WOW64| rv:51.0) ...  \n1     Mozilla/5.0 (Windows NT 10.0| WOW64| rv:51.0) ...  \n2     Mozilla/5.0 (Windows NT 10.0| WOW64| rv:51.0) ...  \n3     Mozilla/5.0 (Windows NT 10.0| WOW64| rv:51.0) ...  \n4     Mozilla/5.0 (Windows NT 10.0| WOW64| rv:52.0) ...  \n...                                                 ...  \n2920  Mozilla/5.0 (X11| Ubuntu| Linux x86_64| rv:51....  \n2921  Mozilla/5.0 (Windows NT 10.0| WOW64) AppleWebK...  \n2922  Mozilla/5.0 (Windows NT 10.0| WOW64| rv:52.0) ...  \n2923  Mozilla/5.0 (Windows NT 10.0| Win64| x64) Appl...  \n2924  Mozilla/5.0 (X11| Linux x86_64) AppleWebKit/53...  \n\n[2925 rows x 8 columns]",
      "text/html": "<div>\n<style scoped>\n    .dataframe tbody tr th:only-of-type {\n        vertical-align: middle;\n    }\n\n    .dataframe tbody tr th {\n        vertical-align: top;\n    }\n\n    .dataframe thead th {\n        text-align: right;\n    }\n</style>\n<table border=\"1\" class=\"dataframe\">\n  <thead>\n    <tr style=\"text-align: right;\">\n      <th></th>\n      <th>customer_id</th>\n      <th>order_date</th>\n      <th>order_id</th>\n      <th>pages_visited</th>\n      <th>tshirt_category</th>\n      <th>tshirt_price</th>\n      <th>tshirt_quantity</th>\n      <th>user_agent</th>\n    </tr>\n  </thead>\n  <tbody>\n    <tr>\n      <th>0</th>\n      <td>7uruq8</td>\n      <td>09/06/2016</td>\n      <td>HTS-7uruq8-0001</td>\n      <td>11</td>\n      <td>Tennis Shirt</td>\n      <td>24</td>\n      <td>1</td>\n      <td>Mozilla/5.0 (Windows NT 10.0| WOW64| rv:51.0) ...</td>\n    </tr>\n    <tr>\n      <th>1</th>\n      <td>428094</td>\n      <td>18/11/2016</td>\n      <td>HTS-428094-0002</td>\n      <td>13</td>\n      <td>Tennis Shirt</td>\n      <td>24</td>\n      <td>1</td>\n      <td>Mozilla/5.0 (Windows NT 10.0| WOW64| rv:51.0) ...</td>\n    </tr>\n    <tr>\n      <th>2</th>\n      <td>426724</td>\n      <td>19/08/2015</td>\n      <td>HTS-426724-0003</td>\n      <td>14</td>\n      <td>Tennis Shirt</td>\n      <td>24</td>\n      <td>16</td>\n      <td>Mozilla/5.0 (Windows NT 10.0| WOW64| rv:51.0) ...</td>\n    </tr>\n    <tr>\n      <th>3</th>\n      <td>428094</td>\n      <td>29/02/2016</td>\n      <td>HTS-428094-0001</td>\n      <td>19</td>\n      <td>Tennis Shirt</td>\n      <td>24</td>\n      <td>3</td>\n      <td>Mozilla/5.0 (Windows NT 10.0| WOW64| rv:51.0) ...</td>\n    </tr>\n    <tr>\n      <th>4</th>\n      <td>638837</td>\n      <td>19/12/2013</td>\n      <td>HTS-638837-0001</td>\n      <td>13</td>\n      <td>Tennis Shirt</td>\n      <td>24</td>\n      <td>1</td>\n      <td>Mozilla/5.0 (Windows NT 10.0| WOW64| rv:52.0) ...</td>\n    </tr>\n    <tr>\n      <th>...</th>\n      <td>...</td>\n      <td>...</td>\n      <td>...</td>\n      <td>...</td>\n      <td>...</td>\n      <td>...</td>\n      <td>...</td>\n      <td>...</td>\n    </tr>\n    <tr>\n      <th>2920</th>\n      <td>0b59cn</td>\n      <td>12/12/2016</td>\n      <td>HTS-0b59cn-0004</td>\n      <td>8</td>\n      <td>Tennis Shirt</td>\n      <td>24</td>\n      <td>5</td>\n      <td>Mozilla/5.0 (X11| Ubuntu| Linux x86_64| rv:51....</td>\n    </tr>\n    <tr>\n      <th>2921</th>\n      <td>357322</td>\n      <td>10/12/2016</td>\n      <td>HTS-357322-0007</td>\n      <td>5</td>\n      <td>Tennis Shirt</td>\n      <td>24</td>\n      <td>3</td>\n      <td>Mozilla/5.0 (Windows NT 10.0| WOW64) AppleWebK...</td>\n    </tr>\n    <tr>\n      <th>2922</th>\n      <td>l8c64t</td>\n      <td>01/03/2017</td>\n      <td>HTS-l8c64t-0003</td>\n      <td>7</td>\n      <td>Tennis Shirt</td>\n      <td>24</td>\n      <td>2</td>\n      <td>Mozilla/5.0 (Windows NT 10.0| WOW64| rv:52.0) ...</td>\n    </tr>\n    <tr>\n      <th>2923</th>\n      <td>946557</td>\n      <td>21/07/2016</td>\n      <td>HTS-946557-0005</td>\n      <td>5</td>\n      <td>Tennis Shirt</td>\n      <td>24</td>\n      <td>2</td>\n      <td>Mozilla/5.0 (Windows NT 10.0| Win64| x64) Appl...</td>\n    </tr>\n    <tr>\n      <th>2924</th>\n      <td>1bhyje</td>\n      <td>22/06/2016</td>\n      <td>HTS-1bhyje-0002</td>\n      <td>17</td>\n      <td>Tennis Shirt</td>\n      <td>24</td>\n      <td>1</td>\n      <td>Mozilla/5.0 (X11| Linux x86_64) AppleWebKit/53...</td>\n    </tr>\n  </tbody>\n</table>\n<p>2925 rows × 8 columns</p>\n</div>"
     },
     "metadata": {}
    }
   ]
  },
  {
   "cell_type": "markdown",
   "source": "<b><p style=\"color:red;\">Exercice 3 : Load the data from the json file</p></b>\nYou will need the function **pandas.io.json.read_json** : https://pandas.pydata.org/pandas-docs/stable/reference/api/pandas.io.json.read_json.html",
   "metadata": {
    "tags": [],
    "cell_id": "00004-bedd7c16-8dd3-4d0a-8abc-3816f472745e",
    "deepnote_cell_type": "markdown"
   }
  },
  {
   "cell_type": "code",
   "metadata": {
    "tags": [],
    "cell_id": "00007-a3062450-cbb1-4a2a-844c-5a6d29d5b972",
    "deepnote_to_be_reexecuted": false,
    "source_hash": "f4dfe307",
    "execution_start": 1629383518667,
    "execution_millis": 825,
    "deepnote_cell_type": "code"
   },
   "source": "# Write your code here\nimport pandas as pd\ndf_country = pd.read_excel(\"https://github.com/malganis35/dataset-test/blob/master/Nomenclature%20Pays.xlsx?raw=true\")",
   "execution_count": null,
   "outputs": []
  },
  {
   "cell_type": "markdown",
   "source": "🔴IMPORTANT❗🔴 Do not forget to look at your data !",
   "metadata": {
    "tags": [],
    "cell_id": "00016-fd454eab-92b6-45c4-98d9-74df57f86655",
    "deepnote_cell_type": "markdown"
   }
  },
  {
   "cell_type": "code",
   "metadata": {
    "tags": [],
    "cell_id": "00017-532fd262-c167-4e30-a42e-69ef8cff986e",
    "deepnote_to_be_reexecuted": false,
    "source_hash": "5bf4f58",
    "execution_start": 1629376405865,
    "execution_millis": 92,
    "is_output_hidden": true,
    "deepnote_cell_type": "code"
   },
   "source": "df_country",
   "execution_count": null,
   "outputs": [
    {
     "output_type": "execute_result",
     "execution_count": 25,
     "data": {
      "application/vnd.deepnote.dataframe.v2+json": {
       "row_count": 254,
       "column_count": 6,
       "columns": [
        {
         "name": "Continent_Name",
         "dtype": "object",
         "stats": {
          "unique_count": 7,
          "nan_count": 0,
          "categories": [
           {
            "name": "Africa",
            "count": 58
           },
           {
            "name": "Europe",
            "count": 57
           },
           {
            "name": "5 others",
            "count": 139
           }
          ]
         }
        },
        {
         "name": "Continent_Code",
         "dtype": "object",
         "stats": {
          "unique_count": 6,
          "nan_count": 42,
          "categories": [
           {
            "name": "AF",
            "count": 58
           },
           {
            "name": "5 others",
            "count": 154
           },
           {
            "name": "Missing",
            "count": 42
           }
          ]
         }
        },
        {
         "name": "Country_Name",
         "dtype": "object",
         "stats": {
          "unique_count": 254,
          "nan_count": 0,
          "categories": [
           {
            "name": "Afghanistan, Islamic Republic of",
            "count": 1
           },
           {
            "name": "Albania, Republic of",
            "count": 1
           },
           {
            "name": "252 others",
            "count": 252
           }
          ]
         }
        },
        {
         "name": "Two_Letter_Country_Code",
         "dtype": "object",
         "stats": {
          "unique_count": 253,
          "nan_count": 1,
          "categories": [
           {
            "name": "AF",
            "count": 1
           },
           {
            "name": "252 others",
            "count": 252
           },
           {
            "name": "Missing",
            "count": 1
           }
          ]
         }
        },
        {
         "name": "Three_Letter_Country_Code",
         "dtype": "object",
         "stats": {
          "unique_count": 250,
          "nan_count": 4,
          "categories": [
           {
            "name": "AFG",
            "count": 1
           },
           {
            "name": "249 others",
            "count": 249
           },
           {
            "name": "Missing",
            "count": 4
           }
          ]
         }
        },
        {
         "name": "Country_Number",
         "dtype": "float64",
         "stats": {
          "unique_count": 250,
          "nan_count": 4,
          "min": "4.0",
          "max": "894.0",
          "histogram": [
           {
            "bin_start": 4,
            "bin_end": 93,
            "count": 29
           },
           {
            "bin_start": 93,
            "bin_end": 182,
            "count": 23
           },
           {
            "bin_start": 182,
            "bin_end": 271,
            "count": 30
           },
           {
            "bin_start": 271,
            "bin_end": 360,
            "count": 21
           },
           {
            "bin_start": 360,
            "bin_end": 449,
            "count": 26
           },
           {
            "bin_start": 449,
            "bin_end": 538,
            "count": 27
           },
           {
            "bin_start": 538,
            "bin_end": 627,
            "count": 25
           },
           {
            "bin_start": 627,
            "bin_end": 716,
            "count": 27
           },
           {
            "bin_start": 716,
            "bin_end": 805,
            "count": 25
           },
           {
            "bin_start": 805,
            "bin_end": 894,
            "count": 17
           }
          ]
         }
        },
        {
         "name": "_deepnote_index_column",
         "dtype": "int64"
        }
       ],
       "rows_top": [
        {
         "Continent_Name": "Asia",
         "Continent_Code": "AS",
         "Country_Name": "Afghanistan, Islamic Republic of",
         "Two_Letter_Country_Code": "AF",
         "Three_Letter_Country_Code": "AFG",
         "Country_Number": 4,
         "_deepnote_index_column": 0
        },
        {
         "Continent_Name": "Europe",
         "Continent_Code": "EU",
         "Country_Name": "Albania, Republic of",
         "Two_Letter_Country_Code": "AL",
         "Three_Letter_Country_Code": "ALB",
         "Country_Number": 8,
         "_deepnote_index_column": 1
        },
        {
         "Continent_Name": "Antarctica",
         "Continent_Code": "AN",
         "Country_Name": "Antarctica (the territory South of 60 deg S)",
         "Two_Letter_Country_Code": "AQ",
         "Three_Letter_Country_Code": "ATA",
         "Country_Number": 10,
         "_deepnote_index_column": 2
        },
        {
         "Continent_Name": "Africa",
         "Continent_Code": "AF",
         "Country_Name": "Algeria, People's Democratic Republic of",
         "Two_Letter_Country_Code": "DZ",
         "Three_Letter_Country_Code": "DZA",
         "Country_Number": 12,
         "_deepnote_index_column": 3
        },
        {
         "Continent_Name": "Oceania",
         "Continent_Code": "OC",
         "Country_Name": "American Samoa",
         "Two_Letter_Country_Code": "AS",
         "Three_Letter_Country_Code": "ASM",
         "Country_Number": 16,
         "_deepnote_index_column": 4
        },
        {
         "Continent_Name": "Europe",
         "Continent_Code": "EU",
         "Country_Name": "Andorra, Principality of",
         "Two_Letter_Country_Code": "AD",
         "Three_Letter_Country_Code": "AND",
         "Country_Number": 20,
         "_deepnote_index_column": 5
        },
        {
         "Continent_Name": "Africa",
         "Continent_Code": "AF",
         "Country_Name": "Angola, Republic of",
         "Two_Letter_Country_Code": "AO",
         "Three_Letter_Country_Code": "AGO",
         "Country_Number": 24,
         "_deepnote_index_column": 6
        },
        {
         "Continent_Name": "North America",
         "Continent_Code": "nan",
         "Country_Name": "Antigua and Barbuda",
         "Two_Letter_Country_Code": "AG",
         "Three_Letter_Country_Code": "ATG",
         "Country_Number": 28,
         "_deepnote_index_column": 7
        },
        {
         "Continent_Name": "Europe",
         "Continent_Code": "EU",
         "Country_Name": "Azerbaijan, Republic of",
         "Two_Letter_Country_Code": "AZ",
         "Three_Letter_Country_Code": "AZE",
         "Country_Number": 31,
         "_deepnote_index_column": 8
        },
        {
         "Continent_Name": "South America",
         "Continent_Code": "SA",
         "Country_Name": "Argentina, Argentine Republic",
         "Two_Letter_Country_Code": "AR",
         "Three_Letter_Country_Code": "ARG",
         "Country_Number": 32,
         "_deepnote_index_column": 9
        },
        {
         "Continent_Name": "Oceania",
         "Continent_Code": "OC",
         "Country_Name": "Australia, Commonwealth of",
         "Two_Letter_Country_Code": "AU",
         "Three_Letter_Country_Code": "AUS",
         "Country_Number": 36,
         "_deepnote_index_column": 10
        },
        {
         "Continent_Name": "Europe",
         "Continent_Code": "EU",
         "Country_Name": "Austria, Republic of",
         "Two_Letter_Country_Code": "AT",
         "Three_Letter_Country_Code": "AUT",
         "Country_Number": 40,
         "_deepnote_index_column": 11
        },
        {
         "Continent_Name": "North America",
         "Continent_Code": "nan",
         "Country_Name": "Bahamas, Commonwealth of the",
         "Two_Letter_Country_Code": "BS",
         "Three_Letter_Country_Code": "BHS",
         "Country_Number": 44,
         "_deepnote_index_column": 12
        },
        {
         "Continent_Name": "Asia",
         "Continent_Code": "AS",
         "Country_Name": "Bahrain, Kingdom of",
         "Two_Letter_Country_Code": "BH",
         "Three_Letter_Country_Code": "BHR",
         "Country_Number": 48,
         "_deepnote_index_column": 13
        },
        {
         "Continent_Name": "Asia",
         "Continent_Code": "AS",
         "Country_Name": "Bangladesh, People's Republic of",
         "Two_Letter_Country_Code": "BD",
         "Three_Letter_Country_Code": "BGD",
         "Country_Number": 50,
         "_deepnote_index_column": 14
        },
        {
         "Continent_Name": "Europe",
         "Continent_Code": "EU",
         "Country_Name": "Armenia, Republic of",
         "Two_Letter_Country_Code": "AM",
         "Three_Letter_Country_Code": "ARM",
         "Country_Number": 51,
         "_deepnote_index_column": 15
        },
        {
         "Continent_Name": "North America",
         "Continent_Code": "nan",
         "Country_Name": "Barbados",
         "Two_Letter_Country_Code": "BB",
         "Three_Letter_Country_Code": "BRB",
         "Country_Number": 52,
         "_deepnote_index_column": 16
        },
        {
         "Continent_Name": "Europe",
         "Continent_Code": "EU",
         "Country_Name": "Belgium, Kingdom of",
         "Two_Letter_Country_Code": "BE",
         "Three_Letter_Country_Code": "BEL",
         "Country_Number": 56,
         "_deepnote_index_column": 17
        },
        {
         "Continent_Name": "North America",
         "Continent_Code": "nan",
         "Country_Name": "Bermuda",
         "Two_Letter_Country_Code": "BM",
         "Three_Letter_Country_Code": "BMU",
         "Country_Number": 60,
         "_deepnote_index_column": 18
        },
        {
         "Continent_Name": "Asia",
         "Continent_Code": "AS",
         "Country_Name": "Bhutan, Kingdom of",
         "Two_Letter_Country_Code": "BT",
         "Three_Letter_Country_Code": "BTN",
         "Country_Number": 64,
         "_deepnote_index_column": 19
        },
        {
         "Continent_Name": "South America",
         "Continent_Code": "SA",
         "Country_Name": "Bolivia, Republic of",
         "Two_Letter_Country_Code": "BO",
         "Three_Letter_Country_Code": "BOL",
         "Country_Number": 68,
         "_deepnote_index_column": 20
        },
        {
         "Continent_Name": "Europe",
         "Continent_Code": "EU",
         "Country_Name": "Bosnia and Herzegovina",
         "Two_Letter_Country_Code": "BA",
         "Three_Letter_Country_Code": "BIH",
         "Country_Number": 70,
         "_deepnote_index_column": 21
        },
        {
         "Continent_Name": "Africa",
         "Continent_Code": "AF",
         "Country_Name": "Botswana, Republic of",
         "Two_Letter_Country_Code": "BW",
         "Three_Letter_Country_Code": "BWA",
         "Country_Number": 72,
         "_deepnote_index_column": 22
        },
        {
         "Continent_Name": "Antarctica",
         "Continent_Code": "AN",
         "Country_Name": "Bouvet Island (Bouvetoya)",
         "Two_Letter_Country_Code": "BV",
         "Three_Letter_Country_Code": "BVT",
         "Country_Number": 74,
         "_deepnote_index_column": 23
        },
        {
         "Continent_Name": "South America",
         "Continent_Code": "SA",
         "Country_Name": "Brazil, Federative Republic of",
         "Two_Letter_Country_Code": "BR",
         "Three_Letter_Country_Code": "BRA",
         "Country_Number": 76,
         "_deepnote_index_column": 24
        },
        {
         "Continent_Name": "North America",
         "Continent_Code": "nan",
         "Country_Name": "Belize",
         "Two_Letter_Country_Code": "BZ",
         "Three_Letter_Country_Code": "BLZ",
         "Country_Number": 84,
         "_deepnote_index_column": 25
        },
        {
         "Continent_Name": "Asia",
         "Continent_Code": "AS",
         "Country_Name": "British Indian Ocean Territory (Chagos Archipelago)",
         "Two_Letter_Country_Code": "IO",
         "Three_Letter_Country_Code": "IOT",
         "Country_Number": 86,
         "_deepnote_index_column": 26
        },
        {
         "Continent_Name": "Oceania",
         "Continent_Code": "OC",
         "Country_Name": "Solomon Islands",
         "Two_Letter_Country_Code": "SB",
         "Three_Letter_Country_Code": "SLB",
         "Country_Number": 90,
         "_deepnote_index_column": 27
        },
        {
         "Continent_Name": "North America",
         "Continent_Code": "nan",
         "Country_Name": "British Virgin Islands",
         "Two_Letter_Country_Code": "VG",
         "Three_Letter_Country_Code": "VGB",
         "Country_Number": 92,
         "_deepnote_index_column": 28
        },
        {
         "Continent_Name": "Asia",
         "Continent_Code": "AS",
         "Country_Name": "Brunei Darussalam",
         "Two_Letter_Country_Code": "BN",
         "Three_Letter_Country_Code": "BRN",
         "Country_Number": 96,
         "_deepnote_index_column": 29
        },
        {
         "Continent_Name": "Europe",
         "Continent_Code": "EU",
         "Country_Name": "Bulgaria, Republic of",
         "Two_Letter_Country_Code": "BG",
         "Three_Letter_Country_Code": "BGR",
         "Country_Number": 100,
         "_deepnote_index_column": 30
        },
        {
         "Continent_Name": "Asia",
         "Continent_Code": "AS",
         "Country_Name": "Myanmar, Union of",
         "Two_Letter_Country_Code": "MM",
         "Three_Letter_Country_Code": "MMR",
         "Country_Number": 104,
         "_deepnote_index_column": 31
        },
        {
         "Continent_Name": "Africa",
         "Continent_Code": "AF",
         "Country_Name": "Burundi, Republic of",
         "Two_Letter_Country_Code": "BI",
         "Three_Letter_Country_Code": "BDI",
         "Country_Number": 108,
         "_deepnote_index_column": 32
        },
        {
         "Continent_Name": "Europe",
         "Continent_Code": "EU",
         "Country_Name": "Belarus, Republic of",
         "Two_Letter_Country_Code": "BY",
         "Three_Letter_Country_Code": "BLR",
         "Country_Number": 112,
         "_deepnote_index_column": 33
        },
        {
         "Continent_Name": "Asia",
         "Continent_Code": "AS",
         "Country_Name": "Cambodia, Kingdom of",
         "Two_Letter_Country_Code": "KH",
         "Three_Letter_Country_Code": "KHM",
         "Country_Number": 116,
         "_deepnote_index_column": 34
        },
        {
         "Continent_Name": "Africa",
         "Continent_Code": "AF",
         "Country_Name": "Cameroon, Republic of",
         "Two_Letter_Country_Code": "CM",
         "Three_Letter_Country_Code": "CMR",
         "Country_Number": 120,
         "_deepnote_index_column": 35
        },
        {
         "Continent_Name": "North America",
         "Continent_Code": "nan",
         "Country_Name": "Canada",
         "Two_Letter_Country_Code": "CA",
         "Three_Letter_Country_Code": "CAN",
         "Country_Number": 124,
         "_deepnote_index_column": 36
        },
        {
         "Continent_Name": "Africa",
         "Continent_Code": "AF",
         "Country_Name": "Cape Verde, Republic of",
         "Two_Letter_Country_Code": "CV",
         "Three_Letter_Country_Code": "CPV",
         "Country_Number": 132,
         "_deepnote_index_column": 37
        },
        {
         "Continent_Name": "North America",
         "Continent_Code": "nan",
         "Country_Name": "Cayman Islands",
         "Two_Letter_Country_Code": "KY",
         "Three_Letter_Country_Code": "CYM",
         "Country_Number": 136,
         "_deepnote_index_column": 38
        },
        {
         "Continent_Name": "Africa",
         "Continent_Code": "AF",
         "Country_Name": "Central African Republic",
         "Two_Letter_Country_Code": "CF",
         "Three_Letter_Country_Code": "CAF",
         "Country_Number": 140,
         "_deepnote_index_column": 39
        },
        {
         "Continent_Name": "Asia",
         "Continent_Code": "AS",
         "Country_Name": "Sri Lanka, Democratic Socialist Republic of",
         "Two_Letter_Country_Code": "LK",
         "Three_Letter_Country_Code": "LKA",
         "Country_Number": 144,
         "_deepnote_index_column": 40
        },
        {
         "Continent_Name": "Africa",
         "Continent_Code": "AF",
         "Country_Name": "Chad, Republic of",
         "Two_Letter_Country_Code": "TD",
         "Three_Letter_Country_Code": "TCD",
         "Country_Number": 148,
         "_deepnote_index_column": 41
        },
        {
         "Continent_Name": "South America",
         "Continent_Code": "SA",
         "Country_Name": "Chile, Republic of",
         "Two_Letter_Country_Code": "CL",
         "Three_Letter_Country_Code": "CHL",
         "Country_Number": 152,
         "_deepnote_index_column": 42
        },
        {
         "Continent_Name": "Asia",
         "Continent_Code": "AS",
         "Country_Name": "China, People's Republic of",
         "Two_Letter_Country_Code": "CN",
         "Three_Letter_Country_Code": "CHN",
         "Country_Number": 156,
         "_deepnote_index_column": 43
        },
        {
         "Continent_Name": "Asia",
         "Continent_Code": "AS",
         "Country_Name": "Taiwan",
         "Two_Letter_Country_Code": "TW",
         "Three_Letter_Country_Code": "TWN",
         "Country_Number": 158,
         "_deepnote_index_column": 44
        },
        {
         "Continent_Name": "Asia",
         "Continent_Code": "AS",
         "Country_Name": "Christmas Island",
         "Two_Letter_Country_Code": "CX",
         "Three_Letter_Country_Code": "CXR",
         "Country_Number": 162,
         "_deepnote_index_column": 45
        },
        {
         "Continent_Name": "Asia",
         "Continent_Code": "AS",
         "Country_Name": "Cocos (Keeling) Islands",
         "Two_Letter_Country_Code": "CC",
         "Three_Letter_Country_Code": "CCK",
         "Country_Number": 166,
         "_deepnote_index_column": 46
        },
        {
         "Continent_Name": "South America",
         "Continent_Code": "SA",
         "Country_Name": "Colombia, Republic of",
         "Two_Letter_Country_Code": "CO",
         "Three_Letter_Country_Code": "COL",
         "Country_Number": 170,
         "_deepnote_index_column": 47
        },
        {
         "Continent_Name": "Africa",
         "Continent_Code": "AF",
         "Country_Name": "Comoros, Union of the",
         "Two_Letter_Country_Code": "KM",
         "Three_Letter_Country_Code": "COM",
         "Country_Number": 174,
         "_deepnote_index_column": 48
        },
        {
         "Continent_Name": "Africa",
         "Continent_Code": "AF",
         "Country_Name": "Mayotte",
         "Two_Letter_Country_Code": "YT",
         "Three_Letter_Country_Code": "MYT",
         "Country_Number": 175,
         "_deepnote_index_column": 49
        },
        {
         "Continent_Name": "Africa",
         "Continent_Code": "AF",
         "Country_Name": "Congo, Republic of the",
         "Two_Letter_Country_Code": "CG",
         "Three_Letter_Country_Code": "COG",
         "Country_Number": 178,
         "_deepnote_index_column": 50
        },
        {
         "Continent_Name": "Africa",
         "Continent_Code": "AF",
         "Country_Name": "Congo, Democratic Republic of the",
         "Two_Letter_Country_Code": "CD",
         "Three_Letter_Country_Code": "COD",
         "Country_Number": 180,
         "_deepnote_index_column": 51
        },
        {
         "Continent_Name": "Oceania",
         "Continent_Code": "OC",
         "Country_Name": "Cook Islands",
         "Two_Letter_Country_Code": "CK",
         "Three_Letter_Country_Code": "COK",
         "Country_Number": 184,
         "_deepnote_index_column": 52
        },
        {
         "Continent_Name": "North America",
         "Continent_Code": "nan",
         "Country_Name": "Costa Rica, Republic of",
         "Two_Letter_Country_Code": "CR",
         "Three_Letter_Country_Code": "CRI",
         "Country_Number": 188,
         "_deepnote_index_column": 53
        },
        {
         "Continent_Name": "Europe",
         "Continent_Code": "EU",
         "Country_Name": "Croatia, Republic of",
         "Two_Letter_Country_Code": "HR",
         "Three_Letter_Country_Code": "HRV",
         "Country_Number": 191,
         "_deepnote_index_column": 54
        },
        {
         "Continent_Name": "North America",
         "Continent_Code": "nan",
         "Country_Name": "Cuba, Republic of",
         "Two_Letter_Country_Code": "CU",
         "Three_Letter_Country_Code": "CUB",
         "Country_Number": 192,
         "_deepnote_index_column": 55
        },
        {
         "Continent_Name": "Europe",
         "Continent_Code": "EU",
         "Country_Name": "Cyprus, Republic of",
         "Two_Letter_Country_Code": "CY",
         "Three_Letter_Country_Code": "CYP",
         "Country_Number": 196,
         "_deepnote_index_column": 56
        },
        {
         "Continent_Name": "Europe",
         "Continent_Code": "EU",
         "Country_Name": "Czech Republic",
         "Two_Letter_Country_Code": "CZ",
         "Three_Letter_Country_Code": "CZE",
         "Country_Number": 203,
         "_deepnote_index_column": 57
        },
        {
         "Continent_Name": "Africa",
         "Continent_Code": "AF",
         "Country_Name": "Benin, Republic of",
         "Two_Letter_Country_Code": "BJ",
         "Three_Letter_Country_Code": "BEN",
         "Country_Number": 204,
         "_deepnote_index_column": 58
        },
        {
         "Continent_Name": "Europe",
         "Continent_Code": "EU",
         "Country_Name": "Denmark, Kingdom of",
         "Two_Letter_Country_Code": "DK",
         "Three_Letter_Country_Code": "DNK",
         "Country_Number": 208,
         "_deepnote_index_column": 59
        },
        {
         "Continent_Name": "North America",
         "Continent_Code": "nan",
         "Country_Name": "Dominica, Commonwealth of",
         "Two_Letter_Country_Code": "DM",
         "Three_Letter_Country_Code": "DMA",
         "Country_Number": 212,
         "_deepnote_index_column": 60
        },
        {
         "Continent_Name": "North America",
         "Continent_Code": "nan",
         "Country_Name": "Dominican Republic",
         "Two_Letter_Country_Code": "DO",
         "Three_Letter_Country_Code": "DOM",
         "Country_Number": 214,
         "_deepnote_index_column": 61
        },
        {
         "Continent_Name": "South America",
         "Continent_Code": "SA",
         "Country_Name": "Ecuador, Republic of",
         "Two_Letter_Country_Code": "EC",
         "Three_Letter_Country_Code": "ECU",
         "Country_Number": 218,
         "_deepnote_index_column": 62
        },
        {
         "Continent_Name": "North America",
         "Continent_Code": "nan",
         "Country_Name": "El Salvador, Republic of",
         "Two_Letter_Country_Code": "SV",
         "Three_Letter_Country_Code": "SLV",
         "Country_Number": 222,
         "_deepnote_index_column": 63
        },
        {
         "Continent_Name": "Africa",
         "Continent_Code": "AF",
         "Country_Name": "Equatorial Guinea, Republic of",
         "Two_Letter_Country_Code": "GQ",
         "Three_Letter_Country_Code": "GNQ",
         "Country_Number": 226,
         "_deepnote_index_column": 64
        },
        {
         "Continent_Name": "Africa",
         "Continent_Code": "AF",
         "Country_Name": "Ethiopia, Federal Democratic Republic of",
         "Two_Letter_Country_Code": "ET",
         "Three_Letter_Country_Code": "ETH",
         "Country_Number": 231,
         "_deepnote_index_column": 65
        },
        {
         "Continent_Name": "Africa",
         "Continent_Code": "AF",
         "Country_Name": "Eritrea, State of",
         "Two_Letter_Country_Code": "ER",
         "Three_Letter_Country_Code": "ERI",
         "Country_Number": 232,
         "_deepnote_index_column": 66
        },
        {
         "Continent_Name": "Europe",
         "Continent_Code": "EU",
         "Country_Name": "Estonia, Republic of",
         "Two_Letter_Country_Code": "EE",
         "Three_Letter_Country_Code": "EST",
         "Country_Number": 233,
         "_deepnote_index_column": 67
        },
        {
         "Continent_Name": "Europe",
         "Continent_Code": "EU",
         "Country_Name": "Faroe Islands",
         "Two_Letter_Country_Code": "FO",
         "Three_Letter_Country_Code": "FRO",
         "Country_Number": 234,
         "_deepnote_index_column": 68
        },
        {
         "Continent_Name": "South America",
         "Continent_Code": "SA",
         "Country_Name": "Falkland Islands (Malvinas)",
         "Two_Letter_Country_Code": "FK",
         "Three_Letter_Country_Code": "FLK",
         "Country_Number": 238,
         "_deepnote_index_column": 69
        },
        {
         "Continent_Name": "Antarctica",
         "Continent_Code": "AN",
         "Country_Name": "South Georgia and the South Sandwich Islands",
         "Two_Letter_Country_Code": "GS",
         "Three_Letter_Country_Code": "SGS",
         "Country_Number": 239,
         "_deepnote_index_column": 70
        },
        {
         "Continent_Name": "Oceania",
         "Continent_Code": "OC",
         "Country_Name": "Fiji, Republic of the Fiji Islands",
         "Two_Letter_Country_Code": "FJ",
         "Three_Letter_Country_Code": "FJI",
         "Country_Number": 242,
         "_deepnote_index_column": 71
        },
        {
         "Continent_Name": "Europe",
         "Continent_Code": "EU",
         "Country_Name": "Finland, Republic of",
         "Two_Letter_Country_Code": "FI",
         "Three_Letter_Country_Code": "FIN",
         "Country_Number": 246,
         "_deepnote_index_column": 72
        },
        {
         "Continent_Name": "Europe",
         "Continent_Code": "EU",
         "Country_Name": "Ãƒâ€¦land Islands",
         "Two_Letter_Country_Code": "AX",
         "Three_Letter_Country_Code": "ALA",
         "Country_Number": 248,
         "_deepnote_index_column": 73
        },
        {
         "Continent_Name": "Europe",
         "Continent_Code": "EU",
         "Country_Name": "France, French Republic",
         "Two_Letter_Country_Code": "FR",
         "Three_Letter_Country_Code": "FRA",
         "Country_Number": 250,
         "_deepnote_index_column": 74
        },
        {
         "Continent_Name": "South America",
         "Continent_Code": "SA",
         "Country_Name": "French Guiana",
         "Two_Letter_Country_Code": "GF",
         "Three_Letter_Country_Code": "GUF",
         "Country_Number": 254,
         "_deepnote_index_column": 75
        },
        {
         "Continent_Name": "Oceania",
         "Continent_Code": "OC",
         "Country_Name": "French Polynesia",
         "Two_Letter_Country_Code": "PF",
         "Three_Letter_Country_Code": "PYF",
         "Country_Number": 258,
         "_deepnote_index_column": 76
        },
        {
         "Continent_Name": "Antarctica",
         "Continent_Code": "AN",
         "Country_Name": "French Southern Territories",
         "Two_Letter_Country_Code": "TF",
         "Three_Letter_Country_Code": "ATF",
         "Country_Number": 260,
         "_deepnote_index_column": 77
        },
        {
         "Continent_Name": "Africa",
         "Continent_Code": "AF",
         "Country_Name": "Djibouti, Republic of",
         "Two_Letter_Country_Code": "DJ",
         "Three_Letter_Country_Code": "DJI",
         "Country_Number": 262,
         "_deepnote_index_column": 78
        },
        {
         "Continent_Name": "Africa",
         "Continent_Code": "AF",
         "Country_Name": "Gabon, Gabonese Republic",
         "Two_Letter_Country_Code": "GA",
         "Three_Letter_Country_Code": "GAB",
         "Country_Number": 266,
         "_deepnote_index_column": 79
        },
        {
         "Continent_Name": "Europe",
         "Continent_Code": "EU",
         "Country_Name": "Georgia",
         "Two_Letter_Country_Code": "GE",
         "Three_Letter_Country_Code": "GEO",
         "Country_Number": 268,
         "_deepnote_index_column": 80
        },
        {
         "Continent_Name": "Africa",
         "Continent_Code": "AF",
         "Country_Name": "Gambia, Republic of the",
         "Two_Letter_Country_Code": "GM",
         "Three_Letter_Country_Code": "GMB",
         "Country_Number": 270,
         "_deepnote_index_column": 81
        },
        {
         "Continent_Name": "Asia",
         "Continent_Code": "AS",
         "Country_Name": "Palestinian Territory, Occupied",
         "Two_Letter_Country_Code": "PS",
         "Three_Letter_Country_Code": "PSE",
         "Country_Number": 275,
         "_deepnote_index_column": 82
        }
       ],
       "rows_bottom": [
        {
         "Continent_Name": "North America",
         "Continent_Code": "nan",
         "Country_Name": "Panama, Republic of",
         "Two_Letter_Country_Code": "PA",
         "Three_Letter_Country_Code": "PAN",
         "Country_Number": 591,
         "_deepnote_index_column": 171
        },
        {
         "Continent_Name": "Oceania",
         "Continent_Code": "OC",
         "Country_Name": "Papua New Guinea, Independent State of",
         "Two_Letter_Country_Code": "PG",
         "Three_Letter_Country_Code": "PNG",
         "Country_Number": 598,
         "_deepnote_index_column": 172
        },
        {
         "Continent_Name": "South America",
         "Continent_Code": "SA",
         "Country_Name": "Paraguay, Republic of",
         "Two_Letter_Country_Code": "PY",
         "Three_Letter_Country_Code": "PRY",
         "Country_Number": 600,
         "_deepnote_index_column": 173
        },
        {
         "Continent_Name": "South America",
         "Continent_Code": "SA",
         "Country_Name": "Peru, Republic of",
         "Two_Letter_Country_Code": "PE",
         "Three_Letter_Country_Code": "PER",
         "Country_Number": 604,
         "_deepnote_index_column": 174
        },
        {
         "Continent_Name": "Asia",
         "Continent_Code": "AS",
         "Country_Name": "Philippines, Republic of the",
         "Two_Letter_Country_Code": "PH",
         "Three_Letter_Country_Code": "PHL",
         "Country_Number": 608,
         "_deepnote_index_column": 175
        },
        {
         "Continent_Name": "Oceania",
         "Continent_Code": "OC",
         "Country_Name": "Pitcairn Islands",
         "Two_Letter_Country_Code": "PN",
         "Three_Letter_Country_Code": "PCN",
         "Country_Number": 612,
         "_deepnote_index_column": 176
        },
        {
         "Continent_Name": "Europe",
         "Continent_Code": "EU",
         "Country_Name": "Poland, Republic of",
         "Two_Letter_Country_Code": "PL",
         "Three_Letter_Country_Code": "POL",
         "Country_Number": 616,
         "_deepnote_index_column": 177
        },
        {
         "Continent_Name": "Europe",
         "Continent_Code": "EU",
         "Country_Name": "Portugal, Portuguese Republic",
         "Two_Letter_Country_Code": "PT",
         "Three_Letter_Country_Code": "PRT",
         "Country_Number": 620,
         "_deepnote_index_column": 178
        },
        {
         "Continent_Name": "Africa",
         "Continent_Code": "AF",
         "Country_Name": "Guinea-Bissau, Republic of",
         "Two_Letter_Country_Code": "GW",
         "Three_Letter_Country_Code": "GNB",
         "Country_Number": 624,
         "_deepnote_index_column": 179
        },
        {
         "Continent_Name": "Asia",
         "Continent_Code": "AS",
         "Country_Name": "Timor-Leste, Democratic Republic of",
         "Two_Letter_Country_Code": "TL",
         "Three_Letter_Country_Code": "TLS",
         "Country_Number": 626,
         "_deepnote_index_column": 180
        },
        {
         "Continent_Name": "North America",
         "Continent_Code": "nan",
         "Country_Name": "Puerto Rico, Commonwealth of",
         "Two_Letter_Country_Code": "PR",
         "Three_Letter_Country_Code": "PRI",
         "Country_Number": 630,
         "_deepnote_index_column": 181
        },
        {
         "Continent_Name": "Asia",
         "Continent_Code": "AS",
         "Country_Name": "Qatar, State of",
         "Two_Letter_Country_Code": "QA",
         "Three_Letter_Country_Code": "QAT",
         "Country_Number": 634,
         "_deepnote_index_column": 182
        },
        {
         "Continent_Name": "Africa",
         "Continent_Code": "AF",
         "Country_Name": "Reunion",
         "Two_Letter_Country_Code": "RE",
         "Three_Letter_Country_Code": "REU",
         "Country_Number": 638,
         "_deepnote_index_column": 183
        },
        {
         "Continent_Name": "Europe",
         "Continent_Code": "EU",
         "Country_Name": "Romania",
         "Two_Letter_Country_Code": "RO",
         "Three_Letter_Country_Code": "ROU",
         "Country_Number": 642,
         "_deepnote_index_column": 184
        },
        {
         "Continent_Name": "Europe",
         "Continent_Code": "EU",
         "Country_Name": "Russian Federation",
         "Two_Letter_Country_Code": "RU",
         "Three_Letter_Country_Code": "RUS",
         "Country_Number": 643,
         "_deepnote_index_column": 185
        },
        {
         "Continent_Name": "Africa",
         "Continent_Code": "AF",
         "Country_Name": "Rwanda, Republic of",
         "Two_Letter_Country_Code": "RW",
         "Three_Letter_Country_Code": "RWA",
         "Country_Number": 646,
         "_deepnote_index_column": 186
        },
        {
         "Continent_Name": "North America",
         "Continent_Code": "nan",
         "Country_Name": "Saint Barthelemy",
         "Two_Letter_Country_Code": "BL",
         "Three_Letter_Country_Code": "BLM",
         "Country_Number": 652,
         "_deepnote_index_column": 187
        },
        {
         "Continent_Name": "Africa",
         "Continent_Code": "AF",
         "Country_Name": "Saint Helena",
         "Two_Letter_Country_Code": "SH",
         "Three_Letter_Country_Code": "SHN",
         "Country_Number": 654,
         "_deepnote_index_column": 188
        },
        {
         "Continent_Name": "North America",
         "Continent_Code": "nan",
         "Country_Name": "Saint Kitts and Nevis, Federation of",
         "Two_Letter_Country_Code": "KN",
         "Three_Letter_Country_Code": "KNA",
         "Country_Number": 659,
         "_deepnote_index_column": 189
        },
        {
         "Continent_Name": "North America",
         "Continent_Code": "nan",
         "Country_Name": "Anguilla",
         "Two_Letter_Country_Code": "AI",
         "Three_Letter_Country_Code": "AIA",
         "Country_Number": 660,
         "_deepnote_index_column": 190
        },
        {
         "Continent_Name": "North America",
         "Continent_Code": "nan",
         "Country_Name": "Saint Lucia",
         "Two_Letter_Country_Code": "LC",
         "Three_Letter_Country_Code": "LCA",
         "Country_Number": 662,
         "_deepnote_index_column": 191
        },
        {
         "Continent_Name": "North America",
         "Continent_Code": "nan",
         "Country_Name": "Saint Martin",
         "Two_Letter_Country_Code": "MF",
         "Three_Letter_Country_Code": "MAF",
         "Country_Number": 663,
         "_deepnote_index_column": 192
        },
        {
         "Continent_Name": "North America",
         "Continent_Code": "nan",
         "Country_Name": "Saint Pierre and Miquelon",
         "Two_Letter_Country_Code": "PM",
         "Three_Letter_Country_Code": "SPM",
         "Country_Number": 666,
         "_deepnote_index_column": 193
        },
        {
         "Continent_Name": "North America",
         "Continent_Code": "nan",
         "Country_Name": "Saint Vincent and the Grenadines",
         "Two_Letter_Country_Code": "VC",
         "Three_Letter_Country_Code": "VCT",
         "Country_Number": 670,
         "_deepnote_index_column": 194
        },
        {
         "Continent_Name": "Europe",
         "Continent_Code": "EU",
         "Country_Name": "San Marino, Republic of",
         "Two_Letter_Country_Code": "SM",
         "Three_Letter_Country_Code": "SMR",
         "Country_Number": 674,
         "_deepnote_index_column": 195
        },
        {
         "Continent_Name": "Africa",
         "Continent_Code": "AF",
         "Country_Name": "Sao Tome and Principe, Democratic Republic of",
         "Two_Letter_Country_Code": "ST",
         "Three_Letter_Country_Code": "STP",
         "Country_Number": 678,
         "_deepnote_index_column": 196
        },
        {
         "Continent_Name": "Asia",
         "Continent_Code": "AS",
         "Country_Name": "Saudi Arabia, Kingdom of",
         "Two_Letter_Country_Code": "SA",
         "Three_Letter_Country_Code": "SAU",
         "Country_Number": 682,
         "_deepnote_index_column": 197
        },
        {
         "Continent_Name": "Africa",
         "Continent_Code": "AF",
         "Country_Name": "Senegal, Republic of",
         "Two_Letter_Country_Code": "SN",
         "Three_Letter_Country_Code": "SEN",
         "Country_Number": 686,
         "_deepnote_index_column": 198
        },
        {
         "Continent_Name": "Europe",
         "Continent_Code": "EU",
         "Country_Name": "Serbia, Republic of",
         "Two_Letter_Country_Code": "RS",
         "Three_Letter_Country_Code": "SRB",
         "Country_Number": 688,
         "_deepnote_index_column": 199
        },
        {
         "Continent_Name": "Africa",
         "Continent_Code": "AF",
         "Country_Name": "Seychelles, Republic of",
         "Two_Letter_Country_Code": "SC",
         "Three_Letter_Country_Code": "SYC",
         "Country_Number": 690,
         "_deepnote_index_column": 200
        },
        {
         "Continent_Name": "Africa",
         "Continent_Code": "AF",
         "Country_Name": "Sierra Leone, Republic of",
         "Two_Letter_Country_Code": "SL",
         "Three_Letter_Country_Code": "SLE",
         "Country_Number": 694,
         "_deepnote_index_column": 201
        },
        {
         "Continent_Name": "Asia",
         "Continent_Code": "AS",
         "Country_Name": "Singapore, Republic of",
         "Two_Letter_Country_Code": "SG",
         "Three_Letter_Country_Code": "SGP",
         "Country_Number": 702,
         "_deepnote_index_column": 202
        },
        {
         "Continent_Name": "Europe",
         "Continent_Code": "EU",
         "Country_Name": "Slovakia (Slovak Republic)",
         "Two_Letter_Country_Code": "SK",
         "Three_Letter_Country_Code": "SVK",
         "Country_Number": 703,
         "_deepnote_index_column": 203
        },
        {
         "Continent_Name": "Asia",
         "Continent_Code": "AS",
         "Country_Name": "Vietnam, Socialist Republic of",
         "Two_Letter_Country_Code": "VN",
         "Three_Letter_Country_Code": "VNM",
         "Country_Number": 704,
         "_deepnote_index_column": 204
        },
        {
         "Continent_Name": "Europe",
         "Continent_Code": "EU",
         "Country_Name": "Slovenia, Republic of",
         "Two_Letter_Country_Code": "SI",
         "Three_Letter_Country_Code": "SVN",
         "Country_Number": 705,
         "_deepnote_index_column": 205
        },
        {
         "Continent_Name": "Africa",
         "Continent_Code": "AF",
         "Country_Name": "Somalia, Somali Republic",
         "Two_Letter_Country_Code": "SO",
         "Three_Letter_Country_Code": "SOM",
         "Country_Number": 706,
         "_deepnote_index_column": 206
        },
        {
         "Continent_Name": "Africa",
         "Continent_Code": "AF",
         "Country_Name": "South Africa, Republic of",
         "Two_Letter_Country_Code": "ZA",
         "Three_Letter_Country_Code": "ZAF",
         "Country_Number": 710,
         "_deepnote_index_column": 207
        },
        {
         "Continent_Name": "Africa",
         "Continent_Code": "AF",
         "Country_Name": "Zimbabwe, Republic of",
         "Two_Letter_Country_Code": "ZW",
         "Three_Letter_Country_Code": "ZWE",
         "Country_Number": 716,
         "_deepnote_index_column": 208
        },
        {
         "Continent_Name": "Europe",
         "Continent_Code": "EU",
         "Country_Name": "Spain, Kingdom of",
         "Two_Letter_Country_Code": "ES",
         "Three_Letter_Country_Code": "ESP",
         "Country_Number": 724,
         "_deepnote_index_column": 209
        },
        {
         "Continent_Name": "Africa",
         "Continent_Code": "AF",
         "Country_Name": "South Sudan",
         "Two_Letter_Country_Code": "SS",
         "Three_Letter_Country_Code": "SSD",
         "Country_Number": 728,
         "_deepnote_index_column": 210
        },
        {
         "Continent_Name": "Africa",
         "Continent_Code": "AF",
         "Country_Name": "Western Sahara",
         "Two_Letter_Country_Code": "EH",
         "Three_Letter_Country_Code": "ESH",
         "Country_Number": 732,
         "_deepnote_index_column": 211
        },
        {
         "Continent_Name": "Africa",
         "Continent_Code": "AF",
         "Country_Name": "Sudan, Republic of",
         "Two_Letter_Country_Code": "SD",
         "Three_Letter_Country_Code": "SDN",
         "Country_Number": 736,
         "_deepnote_index_column": 212
        },
        {
         "Continent_Name": "South America",
         "Continent_Code": "SA",
         "Country_Name": "Suriname, Republic of",
         "Two_Letter_Country_Code": "SR",
         "Three_Letter_Country_Code": "SUR",
         "Country_Number": 740,
         "_deepnote_index_column": 213
        },
        {
         "Continent_Name": "Europe",
         "Continent_Code": "EU",
         "Country_Name": "Svalbard & Jan Mayen Islands",
         "Two_Letter_Country_Code": "SJ",
         "Three_Letter_Country_Code": "SJM",
         "Country_Number": 744,
         "_deepnote_index_column": 214
        },
        {
         "Continent_Name": "Africa",
         "Continent_Code": "AF",
         "Country_Name": "Swaziland, Kingdom of",
         "Two_Letter_Country_Code": "SZ",
         "Three_Letter_Country_Code": "SWZ",
         "Country_Number": 748,
         "_deepnote_index_column": 215
        },
        {
         "Continent_Name": "Europe",
         "Continent_Code": "EU",
         "Country_Name": "Sweden, Kingdom of",
         "Two_Letter_Country_Code": "SE",
         "Three_Letter_Country_Code": "SWE",
         "Country_Number": 752,
         "_deepnote_index_column": 216
        },
        {
         "Continent_Name": "Europe",
         "Continent_Code": "EU",
         "Country_Name": "Switzerland, Swiss Confederation",
         "Two_Letter_Country_Code": "CH",
         "Three_Letter_Country_Code": "CHE",
         "Country_Number": 756,
         "_deepnote_index_column": 217
        },
        {
         "Continent_Name": "Asia",
         "Continent_Code": "AS",
         "Country_Name": "Syrian Arab Republic",
         "Two_Letter_Country_Code": "SY",
         "Three_Letter_Country_Code": "SYR",
         "Country_Number": 760,
         "_deepnote_index_column": 218
        },
        {
         "Continent_Name": "Asia",
         "Continent_Code": "AS",
         "Country_Name": "Tajikistan, Republic of",
         "Two_Letter_Country_Code": "TJ",
         "Three_Letter_Country_Code": "TJK",
         "Country_Number": 762,
         "_deepnote_index_column": 219
        },
        {
         "Continent_Name": "Asia",
         "Continent_Code": "AS",
         "Country_Name": "Thailand, Kingdom of",
         "Two_Letter_Country_Code": "TH",
         "Three_Letter_Country_Code": "THA",
         "Country_Number": 764,
         "_deepnote_index_column": 220
        },
        {
         "Continent_Name": "Africa",
         "Continent_Code": "AF",
         "Country_Name": "Togo, Togolese Republic",
         "Two_Letter_Country_Code": "TG",
         "Three_Letter_Country_Code": "TGO",
         "Country_Number": 768,
         "_deepnote_index_column": 221
        },
        {
         "Continent_Name": "Oceania",
         "Continent_Code": "OC",
         "Country_Name": "Tokelau",
         "Two_Letter_Country_Code": "TK",
         "Three_Letter_Country_Code": "TKL",
         "Country_Number": 772,
         "_deepnote_index_column": 222
        },
        {
         "Continent_Name": "Oceania",
         "Continent_Code": "OC",
         "Country_Name": "Tonga, Kingdom of",
         "Two_Letter_Country_Code": "TO",
         "Three_Letter_Country_Code": "TON",
         "Country_Number": 776,
         "_deepnote_index_column": 223
        },
        {
         "Continent_Name": "North America",
         "Continent_Code": "nan",
         "Country_Name": "Trinidad and Tobago, Republic of",
         "Two_Letter_Country_Code": "TT",
         "Three_Letter_Country_Code": "TTO",
         "Country_Number": 780,
         "_deepnote_index_column": 224
        },
        {
         "Continent_Name": "Asia",
         "Continent_Code": "AS",
         "Country_Name": "United Arab Emirates",
         "Two_Letter_Country_Code": "AE",
         "Three_Letter_Country_Code": "ARE",
         "Country_Number": 784,
         "_deepnote_index_column": 225
        },
        {
         "Continent_Name": "Africa",
         "Continent_Code": "AF",
         "Country_Name": "Tunisia, Tunisian Republic",
         "Two_Letter_Country_Code": "TN",
         "Three_Letter_Country_Code": "TUN",
         "Country_Number": 788,
         "_deepnote_index_column": 226
        },
        {
         "Continent_Name": "Europe",
         "Continent_Code": "EU",
         "Country_Name": "Turkey, Republic of",
         "Two_Letter_Country_Code": "TR",
         "Three_Letter_Country_Code": "TUR",
         "Country_Number": 792,
         "_deepnote_index_column": 227
        },
        {
         "Continent_Name": "Asia",
         "Continent_Code": "AS",
         "Country_Name": "Turkmenistan",
         "Two_Letter_Country_Code": "TM",
         "Three_Letter_Country_Code": "TKM",
         "Country_Number": 795,
         "_deepnote_index_column": 228
        },
        {
         "Continent_Name": "North America",
         "Continent_Code": "nan",
         "Country_Name": "Turks and Caicos Islands",
         "Two_Letter_Country_Code": "TC",
         "Three_Letter_Country_Code": "TCA",
         "Country_Number": 796,
         "_deepnote_index_column": 229
        },
        {
         "Continent_Name": "Oceania",
         "Continent_Code": "OC",
         "Country_Name": "Tuvalu",
         "Two_Letter_Country_Code": "TV",
         "Three_Letter_Country_Code": "TUV",
         "Country_Number": 798,
         "_deepnote_index_column": 230
        },
        {
         "Continent_Name": "Africa",
         "Continent_Code": "AF",
         "Country_Name": "Uganda, Republic of",
         "Two_Letter_Country_Code": "UG",
         "Three_Letter_Country_Code": "UGA",
         "Country_Number": 800,
         "_deepnote_index_column": 231
        },
        {
         "Continent_Name": "Europe",
         "Continent_Code": "EU",
         "Country_Name": "Ukraine",
         "Two_Letter_Country_Code": "UA",
         "Three_Letter_Country_Code": "UKR",
         "Country_Number": 804,
         "_deepnote_index_column": 232
        },
        {
         "Continent_Name": "Europe",
         "Continent_Code": "EU",
         "Country_Name": "Macedonia, The Former Yugoslav Republic of",
         "Two_Letter_Country_Code": "MK",
         "Three_Letter_Country_Code": "MKD",
         "Country_Number": 807,
         "_deepnote_index_column": 233
        },
        {
         "Continent_Name": "Africa",
         "Continent_Code": "AF",
         "Country_Name": "Egypt, Arab Republic of",
         "Two_Letter_Country_Code": "EG",
         "Three_Letter_Country_Code": "EGY",
         "Country_Number": 818,
         "_deepnote_index_column": 234
        },
        {
         "Continent_Name": "Europe",
         "Continent_Code": "EU",
         "Country_Name": "United Kingdom of Great Britain & Northern Ireland",
         "Two_Letter_Country_Code": "GB",
         "Three_Letter_Country_Code": "GBR",
         "Country_Number": 826,
         "_deepnote_index_column": 235
        },
        {
         "Continent_Name": "Europe",
         "Continent_Code": "EU",
         "Country_Name": "Guernsey, Bailiwick of",
         "Two_Letter_Country_Code": "GG",
         "Three_Letter_Country_Code": "GGY",
         "Country_Number": 831,
         "_deepnote_index_column": 236
        },
        {
         "Continent_Name": "Europe",
         "Continent_Code": "EU",
         "Country_Name": "Jersey, Bailiwick of",
         "Two_Letter_Country_Code": "JE",
         "Three_Letter_Country_Code": "JEY",
         "Country_Number": 832,
         "_deepnote_index_column": 237
        },
        {
         "Continent_Name": "Europe",
         "Continent_Code": "EU",
         "Country_Name": "Isle of Man",
         "Two_Letter_Country_Code": "IM",
         "Three_Letter_Country_Code": "IMN",
         "Country_Number": 833,
         "_deepnote_index_column": 238
        },
        {
         "Continent_Name": "Africa",
         "Continent_Code": "AF",
         "Country_Name": "Tanzania, United Republic of",
         "Two_Letter_Country_Code": "TZ",
         "Three_Letter_Country_Code": "TZA",
         "Country_Number": 834,
         "_deepnote_index_column": 239
        },
        {
         "Continent_Name": "North America",
         "Continent_Code": "nan",
         "Country_Name": "United States of America",
         "Two_Letter_Country_Code": "US",
         "Three_Letter_Country_Code": "USA",
         "Country_Number": 840,
         "_deepnote_index_column": 240
        },
        {
         "Continent_Name": "North America",
         "Continent_Code": "nan",
         "Country_Name": "United States Virgin Islands",
         "Two_Letter_Country_Code": "VI",
         "Three_Letter_Country_Code": "VIR",
         "Country_Number": 850,
         "_deepnote_index_column": 241
        },
        {
         "Continent_Name": "Africa",
         "Continent_Code": "AF",
         "Country_Name": "Burkina Faso",
         "Two_Letter_Country_Code": "BF",
         "Three_Letter_Country_Code": "BFA",
         "Country_Number": 854,
         "_deepnote_index_column": 242
        },
        {
         "Continent_Name": "South America",
         "Continent_Code": "SA",
         "Country_Name": "Uruguay, Eastern Republic of",
         "Two_Letter_Country_Code": "UY",
         "Three_Letter_Country_Code": "URY",
         "Country_Number": 858,
         "_deepnote_index_column": 243
        },
        {
         "Continent_Name": "Asia",
         "Continent_Code": "AS",
         "Country_Name": "Uzbekistan, Republic of",
         "Two_Letter_Country_Code": "UZ",
         "Three_Letter_Country_Code": "UZB",
         "Country_Number": 860,
         "_deepnote_index_column": 244
        },
        {
         "Continent_Name": "South America",
         "Continent_Code": "SA",
         "Country_Name": "Venezuela, Bolivarian Republic of",
         "Two_Letter_Country_Code": "VE",
         "Three_Letter_Country_Code": "VEN",
         "Country_Number": 862,
         "_deepnote_index_column": 245
        },
        {
         "Continent_Name": "Oceania",
         "Continent_Code": "OC",
         "Country_Name": "Wallis and Futuna",
         "Two_Letter_Country_Code": "WF",
         "Three_Letter_Country_Code": "WLF",
         "Country_Number": 876,
         "_deepnote_index_column": 246
        },
        {
         "Continent_Name": "Oceania",
         "Continent_Code": "OC",
         "Country_Name": "Samoa, Independent State of",
         "Two_Letter_Country_Code": "WS",
         "Three_Letter_Country_Code": "WSM",
         "Country_Number": 882,
         "_deepnote_index_column": 247
        },
        {
         "Continent_Name": "Asia",
         "Continent_Code": "AS",
         "Country_Name": "Yemen",
         "Two_Letter_Country_Code": "YE",
         "Three_Letter_Country_Code": "YEM",
         "Country_Number": 887,
         "_deepnote_index_column": 248
        },
        {
         "Continent_Name": "Africa",
         "Continent_Code": "AF",
         "Country_Name": "Zambia, Republic of",
         "Two_Letter_Country_Code": "ZM",
         "Three_Letter_Country_Code": "ZMB",
         "Country_Number": 894,
         "_deepnote_index_column": 249
        },
        {
         "Continent_Name": "Oceania",
         "Continent_Code": "OC",
         "Country_Name": "Disputed Territory",
         "Two_Letter_Country_Code": "XX",
         "Three_Letter_Country_Code": "nan",
         "Country_Number": "nan",
         "_deepnote_index_column": 250
        },
        {
         "Continent_Name": "Asia",
         "Continent_Code": "AS",
         "Country_Name": "Iraq-Saudi Arabia Neutral Zone",
         "Two_Letter_Country_Code": "XE",
         "Three_Letter_Country_Code": "nan",
         "Country_Number": "nan",
         "_deepnote_index_column": 251
        },
        {
         "Continent_Name": "Asia",
         "Continent_Code": "AS",
         "Country_Name": "United Nations Neutral Zone",
         "Two_Letter_Country_Code": "XD",
         "Three_Letter_Country_Code": "nan",
         "Country_Number": "nan",
         "_deepnote_index_column": 252
        },
        {
         "Continent_Name": "Asia",
         "Continent_Code": "AS",
         "Country_Name": "Spratly Islands",
         "Two_Letter_Country_Code": "XS",
         "Three_Letter_Country_Code": "nan",
         "Country_Number": "nan",
         "_deepnote_index_column": 253
        }
       ]
      },
      "text/plain": "    Continent_Name Continent_Code  \\\n0             Asia             AS   \n1           Europe             EU   \n2       Antarctica             AN   \n3           Africa             AF   \n4          Oceania             OC   \n..             ...            ...   \n249         Africa             AF   \n250        Oceania             OC   \n251           Asia             AS   \n252           Asia             AS   \n253           Asia             AS   \n\n                                     Country_Name Two_Letter_Country_Code  \\\n0                Afghanistan, Islamic Republic of                      AF   \n1                            Albania, Republic of                      AL   \n2    Antarctica (the territory South of 60 deg S)                      AQ   \n3        Algeria, People's Democratic Republic of                      DZ   \n4                                  American Samoa                      AS   \n..                                            ...                     ...   \n249                           Zambia, Republic of                      ZM   \n250                            Disputed Territory                      XX   \n251                Iraq-Saudi Arabia Neutral Zone                      XE   \n252                   United Nations Neutral Zone                      XD   \n253                               Spratly Islands                      XS   \n\n    Three_Letter_Country_Code  Country_Number  \n0                         AFG             4.0  \n1                         ALB             8.0  \n2                         ATA            10.0  \n3                         DZA            12.0  \n4                         ASM            16.0  \n..                        ...             ...  \n249                       ZMB           894.0  \n250                       NaN             NaN  \n251                       NaN             NaN  \n252                       NaN             NaN  \n253                       NaN             NaN  \n\n[254 rows x 6 columns]",
      "text/html": "<div>\n<style scoped>\n    .dataframe tbody tr th:only-of-type {\n        vertical-align: middle;\n    }\n\n    .dataframe tbody tr th {\n        vertical-align: top;\n    }\n\n    .dataframe thead th {\n        text-align: right;\n    }\n</style>\n<table border=\"1\" class=\"dataframe\">\n  <thead>\n    <tr style=\"text-align: right;\">\n      <th></th>\n      <th>Continent_Name</th>\n      <th>Continent_Code</th>\n      <th>Country_Name</th>\n      <th>Two_Letter_Country_Code</th>\n      <th>Three_Letter_Country_Code</th>\n      <th>Country_Number</th>\n    </tr>\n  </thead>\n  <tbody>\n    <tr>\n      <th>0</th>\n      <td>Asia</td>\n      <td>AS</td>\n      <td>Afghanistan, Islamic Republic of</td>\n      <td>AF</td>\n      <td>AFG</td>\n      <td>4.0</td>\n    </tr>\n    <tr>\n      <th>1</th>\n      <td>Europe</td>\n      <td>EU</td>\n      <td>Albania, Republic of</td>\n      <td>AL</td>\n      <td>ALB</td>\n      <td>8.0</td>\n    </tr>\n    <tr>\n      <th>2</th>\n      <td>Antarctica</td>\n      <td>AN</td>\n      <td>Antarctica (the territory South of 60 deg S)</td>\n      <td>AQ</td>\n      <td>ATA</td>\n      <td>10.0</td>\n    </tr>\n    <tr>\n      <th>3</th>\n      <td>Africa</td>\n      <td>AF</td>\n      <td>Algeria, People's Democratic Republic of</td>\n      <td>DZ</td>\n      <td>DZA</td>\n      <td>12.0</td>\n    </tr>\n    <tr>\n      <th>4</th>\n      <td>Oceania</td>\n      <td>OC</td>\n      <td>American Samoa</td>\n      <td>AS</td>\n      <td>ASM</td>\n      <td>16.0</td>\n    </tr>\n    <tr>\n      <th>...</th>\n      <td>...</td>\n      <td>...</td>\n      <td>...</td>\n      <td>...</td>\n      <td>...</td>\n      <td>...</td>\n    </tr>\n    <tr>\n      <th>249</th>\n      <td>Africa</td>\n      <td>AF</td>\n      <td>Zambia, Republic of</td>\n      <td>ZM</td>\n      <td>ZMB</td>\n      <td>894.0</td>\n    </tr>\n    <tr>\n      <th>250</th>\n      <td>Oceania</td>\n      <td>OC</td>\n      <td>Disputed Territory</td>\n      <td>XX</td>\n      <td>NaN</td>\n      <td>NaN</td>\n    </tr>\n    <tr>\n      <th>251</th>\n      <td>Asia</td>\n      <td>AS</td>\n      <td>Iraq-Saudi Arabia Neutral Zone</td>\n      <td>XE</td>\n      <td>NaN</td>\n      <td>NaN</td>\n    </tr>\n    <tr>\n      <th>252</th>\n      <td>Asia</td>\n      <td>AS</td>\n      <td>United Nations Neutral Zone</td>\n      <td>XD</td>\n      <td>NaN</td>\n      <td>NaN</td>\n    </tr>\n    <tr>\n      <th>253</th>\n      <td>Asia</td>\n      <td>AS</td>\n      <td>Spratly Islands</td>\n      <td>XS</td>\n      <td>NaN</td>\n      <td>NaN</td>\n    </tr>\n  </tbody>\n</table>\n<p>254 rows × 6 columns</p>\n</div>"
     },
     "metadata": {}
    }
   ]
  },
  {
   "cell_type": "markdown",
   "source": "## 1.2 Loading from a Database",
   "metadata": {
    "tags": [],
    "is_collapsed": false,
    "cell_id": "00009-968107a8-a9b7-49e2-9b49-1a25adba4eb9",
    "deepnote_cell_type": "text-cell-h2"
   }
  },
  {
   "cell_type": "markdown",
   "source": "<b><p style=\"color:red;\">Exercice 4 : Load the data from the SQL Database</p></b>\nYou will need the function **pandas.read_sql** : https://pandas.pydata.org/pandas-docs/stable/reference/api/pandas.read_sql.html",
   "metadata": {
    "tags": [],
    "cell_id": "00005-d68ba425-364a-45ab-a20d-ee8d6cee2a7c",
    "deepnote_cell_type": "markdown"
   }
  },
  {
   "cell_type": "code",
   "metadata": {
    "tags": [],
    "cell_id": "00003-7ef229c8-7811-43e7-a069-5237df754447",
    "deepnote_cell_type": "code"
   },
   "source": "# Write your code here\n",
   "execution_count": null,
   "outputs": []
  },
  {
   "cell_type": "markdown",
   "source": "# 2 - Data Manipulation : Join / Concatenate",
   "metadata": {
    "tags": [],
    "is_collapsed": false,
    "cell_id": "00013-963f0883-270f-4752-aecf-5b187d621f02",
    "deepnote_cell_type": "text-cell-h1"
   }
  },
  {
   "cell_type": "markdown",
   "source": "## 2.1 Concatenate",
   "metadata": {
    "tags": [],
    "is_collapsed": false,
    "cell_id": "00014-e2b0c2ca-edde-4b95-833b-a0f4a18fccde",
    "deepnote_cell_type": "text-cell-h2"
   }
  },
  {
   "cell_type": "code",
   "metadata": {
    "tags": [],
    "cell_id": "00000-3b819c05-9909-4c44-9777-333da93e0550",
    "deepnote_to_be_reexecuted": false,
    "source_hash": "6d5fc570",
    "execution_start": 1629383527870,
    "execution_millis": 117,
    "is_output_hidden": true,
    "deepnote_cell_type": "code"
   },
   "source": "# Write your code here\nlst_ventes = [df_vente_part1, df_vente_part2, df_vente_part3]\ndf_vente = pd.concat(lst_ventes)\n\ndf_vente",
   "execution_count": null,
   "outputs": [
    {
     "output_type": "execute_result",
     "execution_count": 10,
     "data": {
      "application/vnd.deepnote.dataframe.v2+json": {
       "row_count": 12921,
       "column_count": 8,
       "columns": [
        {
         "name": "customer_id",
         "dtype": "object",
         "stats": {
          "unique_count": 5380,
          "nan_count": 0,
          "categories": [
           {
            "name": "536917",
            "count": 13
           },
           {
            "name": "409679",
            "count": 13
           },
           {
            "name": "5378 others",
            "count": 12895
           }
          ]
         }
        },
        {
         "name": "order_date",
         "dtype": "object",
         "stats": {
          "unique_count": 1401,
          "nan_count": 0,
          "categories": [
           {
            "name": "02/11/2015",
            "count": 25
           },
           {
            "name": "05/11/2015",
            "count": 25
           },
           {
            "name": "1399 others",
            "count": 12871
           }
          ]
         }
        },
        {
         "name": "order_id",
         "dtype": "object",
         "stats": {
          "unique_count": 12902,
          "nan_count": 0,
          "categories": [
           {
            "name": "HTS-296958-0001",
            "count": 2
           },
           {
            "name": "HTS-923895-0002",
            "count": 2
           },
           {
            "name": "12900 others",
            "count": 12917
           }
          ]
         }
        },
        {
         "name": "pages_visited",
         "dtype": "int64",
         "stats": {
          "unique_count": 25,
          "nan_count": 0,
          "min": "2",
          "max": "28",
          "histogram": [
           {
            "bin_start": 2,
            "bin_end": 4.6,
            "count": 394
           },
           {
            "bin_start": 4.6,
            "bin_end": 7.2,
            "count": 2004
           },
           {
            "bin_start": 7.2,
            "bin_end": 9.8,
            "count": 2495
           },
           {
            "bin_start": 9.8,
            "bin_end": 12.4,
            "count": 4063
           },
           {
            "bin_start": 12.4,
            "bin_end": 15,
            "count": 1990
           },
           {
            "bin_start": 15,
            "bin_end": 17.6,
            "count": 1513
           },
           {
            "bin_start": 17.6,
            "bin_end": 20.2,
            "count": 376
           },
           {
            "bin_start": 20.2,
            "bin_end": 22.8,
            "count": 60
           },
           {
            "bin_start": 22.8,
            "bin_end": 25.400000000000002,
            "count": 25
           },
           {
            "bin_start": 25.400000000000002,
            "bin_end": 28,
            "count": 1
           }
          ]
         }
        },
        {
         "name": "tshirt_category",
         "dtype": "object",
         "stats": {
          "unique_count": 10,
          "nan_count": 0,
          "categories": [
           {
            "name": "Hoodie",
            "count": 3047
           },
           {
            "name": "White T-Shirt M",
            "count": 2717
           },
           {
            "name": "8 others",
            "count": 7157
           }
          ]
         }
        },
        {
         "name": "tshirt_price",
         "dtype": "object",
         "stats": {
          "unique_count": 6,
          "nan_count": 0,
          "categories": [
           {
            "name": "23",
            "count": 3047
           },
           {
            "name": "20",
            "count": 2955
           },
           {
            "name": "4 others",
            "count": 6919
           }
          ]
         }
        },
        {
         "name": "tshirt_quantity",
         "dtype": "int64",
         "stats": {
          "unique_count": 28,
          "nan_count": 0,
          "min": "1",
          "max": "29",
          "histogram": [
           {
            "bin_start": 1,
            "bin_end": 3.8,
            "count": 10651
           },
           {
            "bin_start": 3.8,
            "bin_end": 6.6,
            "count": 1459
           },
           {
            "bin_start": 6.6,
            "bin_end": 9.399999999999999,
            "count": 181
           },
           {
            "bin_start": 9.399999999999999,
            "bin_end": 12.2,
            "count": 122
           },
           {
            "bin_start": 12.2,
            "bin_end": 15,
            "count": 116
           },
           {
            "bin_start": 15,
            "bin_end": 17.799999999999997,
            "count": 170
           },
           {
            "bin_start": 17.799999999999997,
            "bin_end": 20.599999999999998,
            "count": 126
           },
           {
            "bin_start": 20.599999999999998,
            "bin_end": 23.4,
            "count": 65
           },
           {
            "bin_start": 23.4,
            "bin_end": 26.2,
            "count": 27
           },
           {
            "bin_start": 26.2,
            "bin_end": 29,
            "count": 4
           }
          ]
         }
        },
        {
         "name": "user_agent",
         "dtype": "object"
        },
        {
         "name": "_deepnote_index_column",
         "dtype": "int64"
        }
       ],
       "rows_top": [
        {
         "customer_id": "38040",
         "order_date": "04/09/2016",
         "order_id": "HTS-038040-0002",
         "pages_visited": 9,
         "tshirt_category": "White T-Shirt M",
         "tshirt_price": "20",
         "tshirt_quantity": 1,
         "user_agent": "Mozilla/5.0 (Windows NT 10.0| WOW64) AppleWebKit/537.36 (KHTML, like Gecko) Chrome/56.0.2924.87 Saf…",
         "_deepnote_index_column": 0
        },
        {
         "customer_id": "vft1eu",
         "order_date": "26/02/2017",
         "order_id": "HTS-vft1eu-0003",
         "pages_visited": 10,
         "tshirt_category": "White T-Shirt F",
         "tshirt_price": "18",
         "tshirt_quantity": 3,
         "user_agent": "Mozilla/5.0 (Macintosh| Intel Mac OS X 10_12_3) AppleWebKit/602.4.8 (KHTML, like Gecko) Version/10.…",
         "_deepnote_index_column": 1
        },
        {
         "customer_id": "914324",
         "order_date": "01/12/2013",
         "order_id": "HTS-914324-0001",
         "pages_visited": 10,
         "tshirt_category": "Wh Tshirt F",
         "tshirt_price": "18",
         "tshirt_quantity": 1,
         "user_agent": "Mozilla/5.0 (Windows NT 10.0| WOW64) AppleWebKit/537.36 (KHTML, like Gecko) Chrome/56.0.2924.87 Saf…",
         "_deepnote_index_column": 2
        },
        {
         "customer_id": "61311",
         "order_date": "15/01/2016",
         "order_id": "HTS-061311-0003",
         "pages_visited": 9,
         "tshirt_category": "Black T-Shirt F",
         "tshirt_price": "17,5",
         "tshirt_quantity": 4,
         "user_agent": "Mozilla/5.0 (Macintosh| Intel Mac OS X 10_12_3) AppleWebKit/537.36 (KHTML, like Gecko) Chrome/56.0.…",
         "_deepnote_index_column": 3
        },
        {
         "customer_id": "494332",
         "order_date": "03/11/2013",
         "order_id": "HTS-494332-0001",
         "pages_visited": 10,
         "tshirt_category": "Wh Tshirt F",
         "tshirt_price": "18",
         "tshirt_quantity": 2,
         "user_agent": "Mozilla/5.0 (Macintosh| Intel Mac OS X 10_11_6) AppleWebKit/537.36 (KHTML, like Gecko) Chrome/56.0.…",
         "_deepnote_index_column": 4
        },
        {
         "customer_id": "463794",
         "order_date": "02/10/2013",
         "order_id": "HTS-463794-0001",
         "pages_visited": 14,
         "tshirt_category": "Tennis Shirt",
         "tshirt_price": "24",
         "tshirt_quantity": 1,
         "user_agent": "Mozilla/5.0 (Windows NT 10.0| Win64| x64) AppleWebKit/537.36 (KHTML, like Gecko) Chrome/56.0.2924.8…",
         "_deepnote_index_column": 5
        },
        {
         "customer_id": "132885",
         "order_date": "23/07/2013",
         "order_id": "HTS-132885-0001",
         "pages_visited": 17,
         "tshirt_category": "Wh Tshirt M",
         "tshirt_price": "20",
         "tshirt_quantity": 1,
         "user_agent": "Mozilla/5.0 (Windows NT 10.0| Win64| x64) AppleWebKit/537.36 (KHTML, like Gecko) Chrome/56.0.2924.8…",
         "_deepnote_index_column": 6
        },
        {
         "customer_id": "519113",
         "order_date": "24/11/2013",
         "order_id": "HTS-519113-0001",
         "pages_visited": 17,
         "tshirt_category": "Bl Tshirt F",
         "tshirt_price": "17,5",
         "tshirt_quantity": 1,
         "user_agent": "Mozilla/5.0 (Windows NT 6.1| WOW64) AppleWebKit/537.36 (KHTML, like Gecko) Chrome/56.0.2924.87 Safa…",
         "_deepnote_index_column": 7
        },
        {
         "customer_id": "je57lh",
         "order_date": "24/11/2015",
         "order_id": "HTS-je57lh-0001",
         "pages_visited": 15,
         "tshirt_category": "Hoodie",
         "tshirt_price": "23",
         "tshirt_quantity": 3,
         "user_agent": "Mozilla/5.0 (Windows NT 10.0| Win64| x64) AppleWebKit/537.36 (KHTML, like Gecko) Chrome/56.0.2924.8…",
         "_deepnote_index_column": 8
        },
        {
         "customer_id": "49348",
         "order_date": "15/08/2016",
         "order_id": "HTS-049348-0004",
         "pages_visited": 6,
         "tshirt_category": "Black T-Shirt F",
         "tshirt_price": "17,5",
         "tshirt_quantity": 1,
         "user_agent": "Mozilla/5.0 (Macintosh| Intel Mac OS X 10_11_6) AppleWebKit/537.36 (KHTML, like Gecko) Chrome/56.0.…",
         "_deepnote_index_column": 9
        },
        {
         "customer_id": "heb26i",
         "order_date": "29/11/2015",
         "order_id": "HTS-heb26i-0001",
         "pages_visited": 15,
         "tshirt_category": "Black T-Shirt F",
         "tshirt_price": "17,5",
         "tshirt_quantity": 1,
         "user_agent": "Mozilla/5.0 (Windows NT 6.1| Win64| x64) AppleWebKit/537.36 (KHTML, like Gecko) Chrome/56.0.2924.87…",
         "_deepnote_index_column": 10
        },
        {
         "customer_id": "989355",
         "order_date": "09/10/2015",
         "order_id": "HTS-989355-0003",
         "pages_visited": 10,
         "tshirt_category": "Hoodie",
         "tshirt_price": "23",
         "tshirt_quantity": 2,
         "user_agent": "Mozilla/5.0 (Windows NT 6.1| WOW64) AppleWebKit/537.36 (KHTML, like Gecko) Chrome/56.0.2924.87 Safa…",
         "_deepnote_index_column": 11
        },
        {
         "customer_id": "1b0lnt",
         "order_date": "16/01/2016",
         "order_id": "HTS-1b0lnt-0002",
         "pages_visited": 15,
         "tshirt_category": "White T-Shirt M",
         "tshirt_price": "20",
         "tshirt_quantity": 1,
         "user_agent": "Mozilla/5.0 (X11| Linux x86_64) AppleWebKit/537.36 (KHTML, like Gecko) Chrome/56.0.2924.87 Safari/5…",
         "_deepnote_index_column": 12
        },
        {
         "customer_id": "198773",
         "order_date": "17/01/2015",
         "order_id": "HTS-198773-0002",
         "pages_visited": 5,
         "tshirt_category": "White T-Shirt M",
         "tshirt_price": "20",
         "tshirt_quantity": 1,
         "user_agent": "Mozilla/5.0 (Windows NT 10.0| Win64| x64) AppleWebKit/537.36 (KHTML, like Gecko) Chrome/56.0.2924.8…",
         "_deepnote_index_column": 13
        },
        {
         "customer_id": "476084",
         "order_date": "20/07/2014",
         "order_id": "HTS-476084-0001",
         "pages_visited": 11,
         "tshirt_category": "White T-Shirt M",
         "tshirt_price": "20",
         "tshirt_quantity": 2,
         "user_agent": "Mozilla/5.0 (Windows NT 10.0| Win64| x64) AppleWebKit/537.36 (KHTML, like Gecko) Chrome/56.0.2924.8…",
         "_deepnote_index_column": 14
        },
        {
         "customer_id": "907041",
         "order_date": "20/05/2016",
         "order_id": "HTS-907041-0002",
         "pages_visited": 14,
         "tshirt_category": "White T-Shirt F",
         "tshirt_price": "18",
         "tshirt_quantity": 3,
         "user_agent": "Mozilla/5.0 (Windows NT 6.1| WOW64| rv:51.0) Gecko/20100101 Firefox/51.0",
         "_deepnote_index_column": 15
        },
        {
         "customer_id": "399607",
         "order_date": "09/03/2014",
         "order_id": "HTS-399607-0002",
         "pages_visited": 12,
         "tshirt_category": "White T-Shirt M",
         "tshirt_price": "20",
         "tshirt_quantity": 5,
         "user_agent": "Mozilla/5.0 (Windows NT 6.1| WOW64) AppleWebKit/537.36 (KHTML, like Gecko) Chrome/56.0.2924.87 Safa…",
         "_deepnote_index_column": 16
        },
        {
         "customer_id": "610587",
         "order_date": "08/01/2017",
         "order_id": "HTS-610587-0004",
         "pages_visited": 5,
         "tshirt_category": "Hoodie",
         "tshirt_price": "23",
         "tshirt_quantity": 1,
         "user_agent": "Mozilla/5.0 (X11| Linux x86_64) AppleWebKit/537.36 (KHTML, like Gecko) Chrome/56.0.2924.87 Safari/5…",
         "_deepnote_index_column": 17
        },
        {
         "customer_id": "707341",
         "order_date": "03/10/2014",
         "order_id": "HTS-707341-0003",
         "pages_visited": 8,
         "tshirt_category": "Black T-Shirt M",
         "tshirt_price": "19",
         "tshirt_quantity": 3,
         "user_agent": "Mozilla/5.0 (Macintosh| Intel Mac OS X 10_12_3) AppleWebKit/602.4.8 (KHTML, like Gecko) Version/10.…",
         "_deepnote_index_column": 18
        },
        {
         "customer_id": "pq3m7c",
         "order_date": "08/09/2015",
         "order_id": "HTS-pq3m7c-0001",
         "pages_visited": 11,
         "tshirt_category": "Hoodie",
         "tshirt_price": "23",
         "tshirt_quantity": 1,
         "user_agent": "Mozilla/5.0 (Windows NT 6.1| WOW64| rv:52.0) Gecko/20100101 Firefox/52.0",
         "_deepnote_index_column": 19
        },
        {
         "customer_id": "0lkdil",
         "order_date": "19/12/2016",
         "order_id": "HTS-0lkdil-0002",
         "pages_visited": 8,
         "tshirt_category": "Black T-Shirt F",
         "tshirt_price": "17,5",
         "tshirt_quantity": 1,
         "user_agent": "Mozilla/5.0 (Macintosh| Intel Mac OS X 10_12_3) AppleWebKit/537.36 (KHTML, like Gecko) Chrome/56.0.…",
         "_deepnote_index_column": 20
        },
        {
         "customer_id": "318409",
         "order_date": "02/08/2015",
         "order_id": "HTS-318409-0001",
         "pages_visited": 19,
         "tshirt_category": "Black T-Shirt M",
         "tshirt_price": "19",
         "tshirt_quantity": 1,
         "user_agent": "Mozilla/5.0 (Macintosh| Intel Mac OS X 10_12_3) AppleWebKit/602.4.8 (KHTML, like Gecko) Version/10.…",
         "_deepnote_index_column": 21
        },
        {
         "customer_id": "964210",
         "order_date": "15/09/2014",
         "order_id": "HTS-964210-0002",
         "pages_visited": 6,
         "tshirt_category": "Black T-Shirt F",
         "tshirt_price": "17,5",
         "tshirt_quantity": 1,
         "user_agent": "Mozilla/5.0 (Windows NT 6.1| Win64| x64) AppleWebKit/537.36 (KHTML, like Gecko) Chrome/56.0.2924.87…",
         "_deepnote_index_column": 22
        },
        {
         "customer_id": "162811",
         "order_date": "23/06/2015",
         "order_id": "HTS-162811-0002",
         "pages_visited": 6,
         "tshirt_category": "Black T-Shirt M",
         "tshirt_price": "19",
         "tshirt_quantity": 3,
         "user_agent": "Mozilla/5.0 (Windows NT 6.1| WOW64| rv:51.0) Gecko/20100101 Firefox/51.0",
         "_deepnote_index_column": 23
        },
        {
         "customer_id": "760379",
         "order_date": "26/08/2013",
         "order_id": "HTS-760379-0001",
         "pages_visited": 14,
         "tshirt_category": "Hoodie",
         "tshirt_price": "23",
         "tshirt_quantity": 1,
         "user_agent": "Mozilla/5.0 (Windows NT 10.0| WOW64| rv:51.0) Gecko/20100101 Firefox/51.0",
         "_deepnote_index_column": 24
        },
        {
         "customer_id": "710433",
         "order_date": "28/01/2015",
         "order_id": "HTS-710433-0001",
         "pages_visited": 11,
         "tshirt_category": "White T-Shirt F",
         "tshirt_price": "18",
         "tshirt_quantity": 1,
         "user_agent": "Mozilla/5.0 (Windows NT 6.1| WOW64) AppleWebKit/537.36 (KHTML, like Gecko) Chrome/56.0.2924.87 Safa…",
         "_deepnote_index_column": 25
        },
        {
         "customer_id": "kuqsq1",
         "order_date": "06/12/2016",
         "order_id": "HTS-kuqsq1-0002",
         "pages_visited": 16,
         "tshirt_category": "Black T-Shirt F",
         "tshirt_price": "17,5",
         "tshirt_quantity": 1,
         "user_agent": "Mozilla/5.0 (Windows NT 10.0| Win64| x64) AppleWebKit/537.36 (KHTML, like Gecko) Chrome/56.0.2924.8…",
         "_deepnote_index_column": 26
        },
        {
         "customer_id": "bv8gw3",
         "order_date": "11/11/2016",
         "order_id": "HTS-bv8gw3-0001",
         "pages_visited": 13,
         "tshirt_category": "Black T-Shirt M",
         "tshirt_price": "19",
         "tshirt_quantity": 1,
         "user_agent": "Mozilla/5.0 (Windows NT 10.0| Win64| x64) AppleWebKit/537.36 (KHTML, like Gecko) Chrome/56.0.2924.8…",
         "_deepnote_index_column": 27
        },
        {
         "customer_id": "3uouz3",
         "order_date": "22/08/2016",
         "order_id": "HTS-3uouz3-0001",
         "pages_visited": 15,
         "tshirt_category": "White T-Shirt M",
         "tshirt_price": "20",
         "tshirt_quantity": 1,
         "user_agent": "Mozilla/5.0 (Macintosh| Intel Mac OS X 10_11_6) AppleWebKit/537.36 (KHTML, like Gecko) Chrome/56.0.…",
         "_deepnote_index_column": 28
        },
        {
         "customer_id": "grd2ue",
         "order_date": "12/08/2015",
         "order_id": "HTS-grd2ue-0001",
         "pages_visited": 16,
         "tshirt_category": "Hoodie",
         "tshirt_price": "23",
         "tshirt_quantity": 2,
         "user_agent": "Mozilla/5.0 (Macintosh| Intel Mac OS X 10_11_6) AppleWebKit/537.36 (KHTML, like Gecko) Chrome/56.0.…",
         "_deepnote_index_column": 29
        },
        {
         "customer_id": "495119",
         "order_date": "27/01/2014",
         "order_id": "HTS-495119-0001",
         "pages_visited": 13,
         "tshirt_category": "Tennis Shirt",
         "tshirt_price": "24",
         "tshirt_quantity": 1,
         "user_agent": "Mozilla/5.0 (Windows NT 10.0| WOW64) AppleWebKit/537.36 (KHTML, like Gecko) Chrome/56.0.2924.87 Saf…",
         "_deepnote_index_column": 30
        },
        {
         "customer_id": "vz1jgr",
         "order_date": "25/11/2016",
         "order_id": "HTS-vz1jgr-0001",
         "pages_visited": 6,
         "tshirt_category": "White T-Shirt F",
         "tshirt_price": "18",
         "tshirt_quantity": 2,
         "user_agent": "Mozilla/5.0 (X11| Linux x86_64) AppleWebKit/537.36 (KHTML, like Gecko) Chrome/56.0.2924.87 Safari/5…",
         "_deepnote_index_column": 31
        },
        {
         "customer_id": "75826",
         "order_date": "13/04/2016",
         "order_id": "HTS-075826-0003",
         "pages_visited": 6,
         "tshirt_category": "White T-Shirt M",
         "tshirt_price": "20",
         "tshirt_quantity": 1,
         "user_agent": "Mozilla/5.0 (Windows NT 10.0| Win64| x64) AppleWebKit/537.36 (KHTML, like Gecko) Chrome/56.0.2924.8…",
         "_deepnote_index_column": 32
        },
        {
         "customer_id": "958838",
         "order_date": "12/03/2015",
         "order_id": "HTS-958838-0001",
         "pages_visited": 15,
         "tshirt_category": "White T-Shirt M",
         "tshirt_price": "20",
         "tshirt_quantity": 2,
         "user_agent": "Mozilla/5.0 (Macintosh| Intel Mac OS X 10_11_6) AppleWebKit/602.4.8 (KHTML, like Gecko) Version/10.…",
         "_deepnote_index_column": 33
        },
        {
         "customer_id": "301810",
         "order_date": "25/12/2015",
         "order_id": "HTS-301810-0003",
         "pages_visited": 10,
         "tshirt_category": "Hoodie",
         "tshirt_price": "23",
         "tshirt_quantity": 3,
         "user_agent": "Mozilla/5.0 (Windows NT 10.0| Win64| x64) AppleWebKit/537.36 (KHTML, like Gecko) Chrome/56.0.2924.8…",
         "_deepnote_index_column": 34
        },
        {
         "customer_id": "917138",
         "order_date": "01/05/2015",
         "order_id": "HTS-917138-0002",
         "pages_visited": 17,
         "tshirt_category": "White T-Shirt M",
         "tshirt_price": "20",
         "tshirt_quantity": 2,
         "user_agent": "Mozilla/5.0 (Windows NT 10.0| Win64| x64) AppleWebKit/537.36 (KHTML, like Gecko) Chrome/56.0.2924.8…",
         "_deepnote_index_column": 35
        },
        {
         "customer_id": "lby2fl",
         "order_date": "08/08/2016",
         "order_id": "HTS-lby2fl-0001",
         "pages_visited": 6,
         "tshirt_category": "White T-Shirt M",
         "tshirt_price": "20",
         "tshirt_quantity": 1,
         "user_agent": "Mozilla/5.0 (Macintosh| Intel Mac OS X 10_12_3) AppleWebKit/537.36 (KHTML, like Gecko) Chrome/56.0.…",
         "_deepnote_index_column": 36
        },
        {
         "customer_id": "797630",
         "order_date": "21/10/2016",
         "order_id": "HTS-797630-0004",
         "pages_visited": 12,
         "tshirt_category": "Black T-Shirt F",
         "tshirt_price": "17,5",
         "tshirt_quantity": 2,
         "user_agent": "Mozilla/5.0 (Windows NT 10.0| Win64| x64) AppleWebKit/537.36 (KHTML, like Gecko) Chrome/56.0.2924.8…",
         "_deepnote_index_column": 37
        },
        {
         "customer_id": "moudrf",
         "order_date": "27/12/2016",
         "order_id": "HTS-moudrf-0003",
         "pages_visited": 11,
         "tshirt_category": "White T-Shirt F",
         "tshirt_price": "18",
         "tshirt_quantity": 4,
         "user_agent": "Mozilla/5.0 (Windows NT 10.0| Win64| x64) AppleWebKit/537.36 (KHTML, like Gecko) Chrome/51.0.2704.7…",
         "_deepnote_index_column": 38
        },
        {
         "customer_id": "116680",
         "order_date": "27/10/2014",
         "order_id": "HTS-116680-0001",
         "pages_visited": 7,
         "tshirt_category": "Black T-Shirt F",
         "tshirt_price": "17,5",
         "tshirt_quantity": 1,
         "user_agent": "Mozilla/5.0 (Macintosh| Intel Mac OS X 10_12_3) AppleWebKit/602.4.8 (KHTML, like Gecko) Version/10.…",
         "_deepnote_index_column": 39
        },
        {
         "customer_id": "5j3r5q",
         "order_date": "20/09/2016",
         "order_id": "HTS-5j3r5q-0001",
         "pages_visited": 12,
         "tshirt_category": "White T-Shirt M",
         "tshirt_price": "20",
         "tshirt_quantity": 1,
         "user_agent": "Mozilla/5.0 (Windows NT 6.1| WOW64) AppleWebKit/537.36 (KHTML, like Gecko) Chrome/56.0.2924.87 Safa…",
         "_deepnote_index_column": 40
        },
        {
         "customer_id": "882780",
         "order_date": "25/09/2014",
         "order_id": "HTS-882780-0002",
         "pages_visited": 15,
         "tshirt_category": "Black T-Shirt M",
         "tshirt_price": "19",
         "tshirt_quantity": 1,
         "user_agent": "Mozilla/5.0 (Windows NT 6.3| WOW64) AppleWebKit/537.36 (KHTML, like Gecko) Chrome/56.0.2924.87 Safa…",
         "_deepnote_index_column": 41
        },
        {
         "customer_id": "qgqhv6",
         "order_date": "16/10/2016",
         "order_id": "HTS-qgqhv6-0001",
         "pages_visited": 21,
         "tshirt_category": "White T-Shirt F",
         "tshirt_price": "18",
         "tshirt_quantity": 1,
         "user_agent": "Mozilla/5.0 (Windows NT 6.1| WOW64| rv:51.0) Gecko/20100101 Firefox/51.0",
         "_deepnote_index_column": 42
        },
        {
         "customer_id": "ar83mg",
         "order_date": "22/07/2015",
         "order_id": "HTS-ar83mg-0001",
         "pages_visited": 9,
         "tshirt_category": "Tennis Shirt",
         "tshirt_price": "24",
         "tshirt_quantity": 2,
         "user_agent": "Mozilla/5.0 (Windows NT 6.1| WOW64) AppleWebKit/537.36 (KHTML, like Gecko) Chrome/56.0.2924.87 Safa…",
         "_deepnote_index_column": 43
        },
        {
         "customer_id": "442064",
         "order_date": "03/01/2017",
         "order_id": "HTS-442064-0003",
         "pages_visited": 8,
         "tshirt_category": "White T-Shirt M",
         "tshirt_price": "20",
         "tshirt_quantity": 1,
         "user_agent": "Mozilla/5.0 (Windows NT 6.1) AppleWebKit/537.36 (KHTML, like Gecko) Chrome/56.0.2924.87 Safari/537.…",
         "_deepnote_index_column": 44
        },
        {
         "customer_id": "286810",
         "order_date": "13/12/2013",
         "order_id": "HTS-286810-0002",
         "pages_visited": 10,
         "tshirt_category": "Bl Tshirt F",
         "tshirt_price": "17,5",
         "tshirt_quantity": 1,
         "user_agent": "Mozilla/5.0 (Windows NT 10.0| Win64| x64) AppleWebKit/537.36 (KHTML, like Gecko) Chrome/56.0.2924.8…",
         "_deepnote_index_column": 45
        },
        {
         "customer_id": "273332",
         "order_date": "10/11/2014",
         "order_id": "HTS-273332-0001",
         "pages_visited": 19,
         "tshirt_category": "White T-Shirt M",
         "tshirt_price": "20",
         "tshirt_quantity": 1,
         "user_agent": "Mozilla/5.0 (Windows NT 10.0| Win64| x64) AppleWebKit/537.36 (KHTML, like Gecko) Chrome/56.0.2924.8…",
         "_deepnote_index_column": 46
        },
        {
         "customer_id": "916341",
         "order_date": "18/04/2015",
         "order_id": "HTS-916341-0002",
         "pages_visited": 11,
         "tshirt_category": "Hoodie",
         "tshirt_price": "23",
         "tshirt_quantity": 2,
         "user_agent": "Mozilla/5.0 (Windows NT 10.0| Win64| x64) AppleWebKit/537.36 (KHTML, like Gecko) Chrome/56.0.2924.8…",
         "_deepnote_index_column": 47
        },
        {
         "customer_id": "481997",
         "order_date": "14/10/2014",
         "order_id": "HTS-481997-0001",
         "pages_visited": 12,
         "tshirt_category": "Black T-Shirt F",
         "tshirt_price": "17,5",
         "tshirt_quantity": 3,
         "user_agent": "Mozilla/5.0 (Windows NT 6.1| WOW64| Trident/7.0| rv:11.0) like Gecko",
         "_deepnote_index_column": 48
        },
        {
         "customer_id": "877835",
         "order_date": "09/12/2015",
         "order_id": "HTS-877835-0002",
         "pages_visited": 15,
         "tshirt_category": "Hoodie",
         "tshirt_price": "23",
         "tshirt_quantity": 3,
         "user_agent": "Mozilla/5.0 (Macintosh| Intel Mac OS X 10_12_3) AppleWebKit/602.4.8 (KHTML, like Gecko) Version/10.…",
         "_deepnote_index_column": 49
        },
        {
         "customer_id": "6ipkrh",
         "order_date": "13/02/2017",
         "order_id": "HTS-6ipkrh-0002",
         "pages_visited": 11,
         "tshirt_category": "Black T-Shirt F",
         "tshirt_price": "17,5",
         "tshirt_quantity": 3,
         "user_agent": "Mozilla/5.0 (Windows NT 10.0| Win64| x64) AppleWebKit/537.36 (KHTML, like Gecko) Chrome/56.0.2924.8…",
         "_deepnote_index_column": 50
        },
        {
         "customer_id": "919747",
         "order_date": "20/12/2015",
         "order_id": "HTS-919747-0004",
         "pages_visited": 12,
         "tshirt_category": "White T-Shirt F",
         "tshirt_price": "18",
         "tshirt_quantity": 2,
         "user_agent": "Mozilla/5.0 (Windows NT 10.0| WOW64) AppleWebKit/537.36 (KHTML, like Gecko) Chrome/56.0.2924.87 Saf…",
         "_deepnote_index_column": 51
        },
        {
         "customer_id": "9cuan5",
         "order_date": "25/03/2016",
         "order_id": "HTS-9cuan5-0001",
         "pages_visited": 10,
         "tshirt_category": "White T-Shirt M",
         "tshirt_price": "20",
         "tshirt_quantity": 1,
         "user_agent": "Mozilla/5.0 (Windows NT 6.1| Win64| x64) AppleWebKit/537.36 (KHTML, like Gecko) Chrome/56.0.2924.87…",
         "_deepnote_index_column": 52
        },
        {
         "customer_id": "842157",
         "order_date": "11/03/2015",
         "order_id": "HTS-842157-0002",
         "pages_visited": 11,
         "tshirt_category": "Black T-Shirt M",
         "tshirt_price": "19",
         "tshirt_quantity": 5,
         "user_agent": "Mozilla/5.0 (Macintosh| Intel Mac OS X 10_11_6) AppleWebKit/602.4.8 (KHTML, like Gecko) Version/10.…",
         "_deepnote_index_column": 53
        },
        {
         "customer_id": "279650",
         "order_date": "22/09/2013",
         "order_id": "HTS-279650-0001",
         "pages_visited": 17,
         "tshirt_category": "Hoodie",
         "tshirt_price": "23",
         "tshirt_quantity": 1,
         "user_agent": "Mozilla/5.0 (Windows NT 10.0| WOW64| rv:51.0) Gecko/20100101 Firefox/51.0",
         "_deepnote_index_column": 54
        },
        {
         "customer_id": "ggj8vc",
         "order_date": "30/12/2015",
         "order_id": "HTS-ggj8vc-0001",
         "pages_visited": 9,
         "tshirt_category": "White T-Shirt F",
         "tshirt_price": "18",
         "tshirt_quantity": 1,
         "user_agent": "Mozilla/5.0 (Windows NT 10.0| WOW64) AppleWebKit/537.36 (KHTML, like Gecko) Chrome/56.0.2924.87 Saf…",
         "_deepnote_index_column": 55
        },
        {
         "customer_id": "771496",
         "order_date": "12/02/2017",
         "order_id": "HTS-771496-0001",
         "pages_visited": 19,
         "tshirt_category": "Hoodie",
         "tshirt_price": "23",
         "tshirt_quantity": 1,
         "user_agent": "Mozilla/5.0 (Windows NT 6.3| WOW64) AppleWebKit/537.36 (KHTML, like Gecko) Chrome/56.0.2924.87 Safa…",
         "_deepnote_index_column": 56
        },
        {
         "customer_id": "7955",
         "order_date": "08/03/2016",
         "order_id": "HTS-007955-0001",
         "pages_visited": 13,
         "tshirt_category": "Tennis Shirt",
         "tshirt_price": "24",
         "tshirt_quantity": 1,
         "user_agent": "Mozilla/5.0 (Windows NT 10.0| Win64| x64) AppleWebKit/537.36 (KHTML, like Gecko) Chrome/56.0.2924.8…",
         "_deepnote_index_column": 57
        },
        {
         "customer_id": "738171",
         "order_date": "26/10/2016",
         "order_id": "HTS-738171-0005",
         "pages_visited": 10,
         "tshirt_category": "Black T-Shirt M",
         "tshirt_price": "19",
         "tshirt_quantity": 3,
         "user_agent": "Mozilla/5.0 (Windows NT 10.0| WOW64) AppleWebKit/537.36 (KHTML, like Gecko) Chrome/56.0.2924.87 Saf…",
         "_deepnote_index_column": 58
        },
        {
         "customer_id": "995267",
         "order_date": "20/03/2015",
         "order_id": "HTS-995267-0002",
         "pages_visited": 15,
         "tshirt_category": "White T-Shirt F",
         "tshirt_price": "18",
         "tshirt_quantity": 5,
         "user_agent": "Mozilla/5.0 (X11| Linux x86_64) AppleWebKit/537.36 (KHTML, like Gecko) Chrome/56.0.2924.87 Safari/5…",
         "_deepnote_index_column": 59
        },
        {
         "customer_id": "103700",
         "order_date": "28/12/2015",
         "order_id": "HTS-103700-0003",
         "pages_visited": 9,
         "tshirt_category": "White T-Shirt M",
         "tshirt_price": "20",
         "tshirt_quantity": 1,
         "user_agent": "Mozilla/5.0 (Windows NT 6.1| WOW64) AppleWebKit/537.36 (KHTML, like Gecko) Chrome/56.0.2924.87 Safa…",
         "_deepnote_index_column": 60
        },
        {
         "customer_id": "166680",
         "order_date": "09/12/2014",
         "order_id": "HTS-166680-0001",
         "pages_visited": 11,
         "tshirt_category": "White T-Shirt M",
         "tshirt_price": "20",
         "tshirt_quantity": 16,
         "user_agent": "Mozilla/5.0 (Macintosh| Intel Mac OS X 10_12_3) AppleWebKit/602.4.8 (KHTML, like Gecko) Version/10.…",
         "_deepnote_index_column": 61
        }
       ],
       "rows_bottom": [
        {
         "customer_id": "838334",
         "order_date": "01/08/2014",
         "order_id": "HTS-838334-0002",
         "pages_visited": 6,
         "tshirt_category": "Tennis Shirt",
         "tshirt_price": "24",
         "tshirt_quantity": 1,
         "user_agent": "Mozilla/5.0 (Windows NT 10.0| WOW64) AppleWebKit/537.36 (KHTML, like Gecko) Chrome/56.0.2924.87 Saf…",
         "_deepnote_index_column": 2862
        },
        {
         "customer_id": "366872",
         "order_date": "11/01/2016",
         "order_id": "HTS-366872-0006",
         "pages_visited": 6,
         "tshirt_category": "Tennis Shirt",
         "tshirt_price": "24",
         "tshirt_quantity": 6,
         "user_agent": "Mozilla/5.0 (Windows NT 10.0| WOW64) AppleWebKit/537.36 (KHTML, like Gecko) Chrome/56.0.2924.87 Saf…",
         "_deepnote_index_column": 2863
        },
        {
         "customer_id": "568641",
         "order_date": "14/03/2017",
         "order_id": "HTS-568641-0005",
         "pages_visited": 7,
         "tshirt_category": "Tennis Shirt",
         "tshirt_price": "24",
         "tshirt_quantity": 2,
         "user_agent": "Mozilla/5.0 (Windows NT 10.0| WOW64) AppleWebKit/537.36 (KHTML, like Gecko) Chrome/56.0.2924.87 Saf…",
         "_deepnote_index_column": 2864
        },
        {
         "customer_id": "366872",
         "order_date": "04/01/2015",
         "order_id": "HTS-366872-0004",
         "pages_visited": 7,
         "tshirt_category": "Tennis Shirt",
         "tshirt_price": "24",
         "tshirt_quantity": 3,
         "user_agent": "Mozilla/5.0 (Windows NT 10.0| WOW64) AppleWebKit/537.36 (KHTML, like Gecko) Chrome/56.0.2924.87 Saf…",
         "_deepnote_index_column": 2865
        },
        {
         "customer_id": "366872",
         "order_date": "24/06/2016",
         "order_id": "HTS-366872-0007",
         "pages_visited": 8,
         "tshirt_category": "Tennis Shirt",
         "tshirt_price": "24",
         "tshirt_quantity": 3,
         "user_agent": "Mozilla/5.0 (Windows NT 10.0| WOW64) AppleWebKit/537.36 (KHTML, like Gecko) Chrome/56.0.2924.87 Saf…",
         "_deepnote_index_column": 2866
        },
        {
         "customer_id": "892209",
         "order_date": "25/08/2013",
         "order_id": "HTS-892209-0001",
         "pages_visited": 9,
         "tshirt_category": "Tennis Shirt",
         "tshirt_price": "24",
         "tshirt_quantity": 1,
         "user_agent": "Mozilla/5.0 (Windows NT 10.0| WOW64) AppleWebKit/537.36 (KHTML, like Gecko) Chrome/56.0.2924.87 Saf…",
         "_deepnote_index_column": 2867
        },
        {
         "customer_id": "568641",
         "order_date": "16/11/2015",
         "order_id": "HTS-568641-0003",
         "pages_visited": 10,
         "tshirt_category": "Tennis Shirt",
         "tshirt_price": "24",
         "tshirt_quantity": 1,
         "user_agent": "Mozilla/5.0 (Windows NT 10.0| WOW64) AppleWebKit/537.36 (KHTML, like Gecko) Chrome/56.0.2924.87 Saf…",
         "_deepnote_index_column": 2868
        },
        {
         "customer_id": "254775",
         "order_date": "24/01/2016",
         "order_id": "HTS-254775-0003",
         "pages_visited": 11,
         "tshirt_category": "Tennis Shirt",
         "tshirt_price": "24",
         "tshirt_quantity": 2,
         "user_agent": "Mozilla/5.0 (Windows NT 10.0| WOW64) AppleWebKit/537.36 (KHTML, like Gecko) Chrome/56.0.2924.87 Saf…",
         "_deepnote_index_column": 2869
        },
        {
         "customer_id": "pxedg4",
         "order_date": "02/07/2015",
         "order_id": "HTS-pxedg4-0001",
         "pages_visited": 11,
         "tshirt_category": "Tennis Shirt",
         "tshirt_price": "24",
         "tshirt_quantity": 3,
         "user_agent": "Mozilla/5.0 (Windows NT 10.0| WOW64) AppleWebKit/537.36 (KHTML, like Gecko) Chrome/56.0.2924.87 Saf…",
         "_deepnote_index_column": 2870
        },
        {
         "customer_id": "215837",
         "order_date": "14/06/2016",
         "order_id": "HTS-215837-0002",
         "pages_visited": 12,
         "tshirt_category": "Tennis Shirt",
         "tshirt_price": "24",
         "tshirt_quantity": 1,
         "user_agent": "Mozilla/5.0 (Windows NT 10.0| WOW64) AppleWebKit/537.36 (KHTML, like Gecko) Chrome/56.0.2924.87 Saf…",
         "_deepnote_index_column": 2871
        },
        {
         "customer_id": "374675",
         "order_date": "16/06/2014",
         "order_id": "HTS-374675-0002",
         "pages_visited": 12,
         "tshirt_category": "Tennis Shirt",
         "tshirt_price": "24",
         "tshirt_quantity": 2,
         "user_agent": "Mozilla/5.0 (Windows NT 10.0| WOW64) AppleWebKit/537.36 (KHTML, like Gecko) Chrome/56.0.2924.87 Saf…",
         "_deepnote_index_column": 2872
        },
        {
         "customer_id": "254027",
         "order_date": "19/05/2016",
         "order_id": "HTS-254027-0003",
         "pages_visited": 12,
         "tshirt_category": "Tennis Shirt",
         "tshirt_price": "24",
         "tshirt_quantity": 4,
         "user_agent": "Mozilla/5.0 (Windows NT 10.0| WOW64) AppleWebKit/537.36 (KHTML, like Gecko) Chrome/56.0.2924.87 Saf…",
         "_deepnote_index_column": 2873
        },
        {
         "customer_id": "123244",
         "order_date": "23/08/2014",
         "order_id": "HTS-123244-0001",
         "pages_visited": 13,
         "tshirt_category": "Tennis Shirt",
         "tshirt_price": "24",
         "tshirt_quantity": 4,
         "user_agent": "Mozilla/5.0 (Windows NT 10.0| WOW64) AppleWebKit/537.36 (KHTML, like Gecko) Chrome/56.0.2924.87 Saf…",
         "_deepnote_index_column": 2874
        },
        {
         "customer_id": "583528",
         "order_date": "16/09/2014",
         "order_id": "HTS-583528-0001",
         "pages_visited": 18,
         "tshirt_category": "Tennis Shirt",
         "tshirt_price": "24",
         "tshirt_quantity": 3,
         "user_agent": "Mozilla/5.0 (Windows NT 10.0| WOW64) AppleWebKit/537.36 (KHTML, like Gecko) Chrome/56.0.2924.87 Saf…",
         "_deepnote_index_column": 2875
        },
        {
         "customer_id": "954392",
         "order_date": "31/10/2013",
         "order_id": "HTS-954392-0001",
         "pages_visited": 14,
         "tshirt_category": "Tennis Shirt",
         "tshirt_price": "24",
         "tshirt_quantity": 2,
         "user_agent": "Mozilla/5.0 (Windows NT 10.0| WOW64| rv:51.0) Gecko/20100101 Firefox/51.0",
         "_deepnote_index_column": 2876
        },
        {
         "customer_id": "826211",
         "order_date": "29/02/2016",
         "order_id": "HTS-826211-0001",
         "pages_visited": 15,
         "tshirt_category": "Tennis Shirt",
         "tshirt_price": "24",
         "tshirt_quantity": 1,
         "user_agent": "Mozilla/5.0 (Windows NT 10.0| WOW64| rv:51.0) Gecko/20100101 Firefox/51.0",
         "_deepnote_index_column": 2877
        },
        {
         "customer_id": "532177",
         "order_date": "20/04/2016",
         "order_id": "HTS-532177-0002",
         "pages_visited": 7,
         "tshirt_category": "Tennis Shirt",
         "tshirt_price": "24",
         "tshirt_quantity": 1,
         "user_agent": "Mozilla/5.0 (Windows NT 10.0| WOW64| rv:52.0) Gecko/20100101 Firefox/52.0",
         "_deepnote_index_column": 2878
        },
        {
         "customer_id": "852360",
         "order_date": "21/04/2014",
         "order_id": "HTS-852360-0001",
         "pages_visited": 7,
         "tshirt_category": "Tennis Shirt",
         "tshirt_price": "24",
         "tshirt_quantity": 2,
         "user_agent": "Mozilla/5.0 (Windows NT 10.0| WOW64| rv:52.0) Gecko/20100101 Firefox/52.0",
         "_deepnote_index_column": 2879
        },
        {
         "customer_id": "553303",
         "order_date": "24/07/2013",
         "order_id": "HTS-553303-0001",
         "pages_visited": 11,
         "tshirt_category": "Tennis Shirt",
         "tshirt_price": "24",
         "tshirt_quantity": 1,
         "user_agent": "Mozilla/5.0 (Windows NT 10.0| WOW64| rv:52.0) Gecko/20100101 Firefox/52.0",
         "_deepnote_index_column": 2880
        },
        {
         "customer_id": "665738",
         "order_date": "08/08/2016",
         "order_id": "HTS-665738-0004",
         "pages_visited": 5,
         "tshirt_category": "Tennis Shirt",
         "tshirt_price": "24",
         "tshirt_quantity": 2,
         "user_agent": "Mozilla/5.0 (Windows NT 10.0| Win64| x64) AppleWebKit/537.36 (KHTML, like Gecko) Chrome/56.0.2924.8…",
         "_deepnote_index_column": 2881
        },
        {
         "customer_id": "662419",
         "order_date": "03/04/2017",
         "order_id": "HTS-662419-0005",
         "pages_visited": 6,
         "tshirt_category": "Tennis Shirt",
         "tshirt_price": "24",
         "tshirt_quantity": 2,
         "user_agent": "Mozilla/5.0 (Windows NT 10.0| Win64| x64) AppleWebKit/537.36 (KHTML, like Gecko) Chrome/56.0.2924.8…",
         "_deepnote_index_column": 2882
        },
        {
         "customer_id": "249636",
         "order_date": "28/10/2015",
         "order_id": "HTS-249636-0003",
         "pages_visited": 9,
         "tshirt_category": "Tennis Shirt",
         "tshirt_price": "24",
         "tshirt_quantity": 2,
         "user_agent": "Mozilla/5.0 (Windows NT 10.0| Win64| x64) AppleWebKit/537.36 (KHTML, like Gecko) Chrome/56.0.2924.8…",
         "_deepnote_index_column": 2883
        },
        {
         "customer_id": "44759",
         "order_date": "23/07/2015",
         "order_id": "HTS-044759-0003",
         "pages_visited": 9,
         "tshirt_category": "Tennis Shirt",
         "tshirt_price": "24",
         "tshirt_quantity": 3,
         "user_agent": "Mozilla/5.0 (Windows NT 10.0| Win64| x64) AppleWebKit/537.36 (KHTML, like Gecko) Chrome/56.0.2924.8…",
         "_deepnote_index_column": 2884
        },
        {
         "customer_id": "389342",
         "order_date": "05/12/2013",
         "order_id": "HTS-389342-0001",
         "pages_visited": 10,
         "tshirt_category": "Tennis Shirt",
         "tshirt_price": "24",
         "tshirt_quantity": 2,
         "user_agent": "Mozilla/5.0 (Windows NT 10.0| Win64| x64) AppleWebKit/537.36 (KHTML, like Gecko) Chrome/56.0.2924.8…",
         "_deepnote_index_column": 2885
        },
        {
         "customer_id": "704302",
         "order_date": "27/06/2016",
         "order_id": "HTS-704302-0005",
         "pages_visited": 10,
         "tshirt_category": "Tennis Shirt",
         "tshirt_price": "24",
         "tshirt_quantity": 4,
         "user_agent": "Mozilla/5.0 (Windows NT 10.0| Win64| x64) AppleWebKit/537.36 (KHTML, like Gecko) Chrome/56.0.2924.8…",
         "_deepnote_index_column": 2886
        },
        {
         "customer_id": "174167",
         "order_date": "17/10/2014",
         "order_id": "HTS-174167-0001",
         "pages_visited": 11,
         "tshirt_category": "Tennis Shirt",
         "tshirt_price": "24",
         "tshirt_quantity": 1,
         "user_agent": "Mozilla/5.0 (Windows NT 10.0| Win64| x64) AppleWebKit/537.36 (KHTML, like Gecko) Chrome/56.0.2924.8…",
         "_deepnote_index_column": 2887
        },
        {
         "customer_id": "44759",
         "order_date": "07/04/2017",
         "order_id": "HTS-044759-0005",
         "pages_visited": 11,
         "tshirt_category": "Tennis Shirt",
         "tshirt_price": "24",
         "tshirt_quantity": 5,
         "user_agent": "Mozilla/5.0 (Windows NT 10.0| Win64| x64) AppleWebKit/537.36 (KHTML, like Gecko) Chrome/56.0.2924.8…",
         "_deepnote_index_column": 2888
        },
        {
         "customer_id": "by4n7h",
         "order_date": "12/10/2016",
         "order_id": "HTS-by4n7h-0002",
         "pages_visited": 13,
         "tshirt_category": "Tennis Shirt",
         "tshirt_price": "24",
         "tshirt_quantity": 2,
         "user_agent": "Mozilla/5.0 (Windows NT 10.0| Win64| x64) AppleWebKit/537.36 (KHTML, like Gecko) Chrome/56.0.2924.8…",
         "_deepnote_index_column": 2889
        },
        {
         "customer_id": "kc5k7h",
         "order_date": "22/08/2016",
         "order_id": "HTS-kc5k7h-0002",
         "pages_visited": 14,
         "tshirt_category": "Tennis Shirt",
         "tshirt_price": "24",
         "tshirt_quantity": 4,
         "user_agent": "Mozilla/5.0 (Windows NT 10.0| Win64| x64) AppleWebKit/537.36 (KHTML, like Gecko) Chrome/56.0.2924.8…",
         "_deepnote_index_column": 2890
        },
        {
         "customer_id": "784711",
         "order_date": "02/10/2015",
         "order_id": "HTS-784711-0003",
         "pages_visited": 15,
         "tshirt_category": "Tennis Shirt",
         "tshirt_price": "24",
         "tshirt_quantity": 5,
         "user_agent": "Mozilla/5.0 (Windows NT 10.0| Win64| x64) AppleWebKit/537.36 (KHTML, like Gecko) Chrome/56.0.2924.8…",
         "_deepnote_index_column": 2891
        },
        {
         "customer_id": "o8mesu",
         "order_date": "25/01/2016",
         "order_id": "HTS-o8mesu-0002",
         "pages_visited": 16,
         "tshirt_category": "Tennis Shirt",
         "tshirt_price": "24",
         "tshirt_quantity": 5,
         "user_agent": "Mozilla/5.0 (Windows NT 10.0| Win64| x64) AppleWebKit/537.36 (KHTML, like Gecko) Chrome/56.0.2924.8…",
         "_deepnote_index_column": 2892
        },
        {
         "customer_id": "399607",
         "order_date": "04/03/2016",
         "order_id": "HTS-399607-0005",
         "pages_visited": 2,
         "tshirt_category": "Tennis Shirt",
         "tshirt_price": "24",
         "tshirt_quantity": 4,
         "user_agent": "Mozilla/5.0 (Windows NT 6.1| WOW64) AppleWebKit/537.36 (KHTML, like Gecko) Chrome/56.0.2924.87 Safa…",
         "_deepnote_index_column": 2893
        },
        {
         "customer_id": "989355",
         "order_date": "18/01/2017",
         "order_id": "HTS-989355-0004",
         "pages_visited": 4,
         "tshirt_category": "Tennis Shirt",
         "tshirt_price": "24",
         "tshirt_quantity": 2,
         "user_agent": "Mozilla/5.0 (Windows NT 6.1| WOW64) AppleWebKit/537.36 (KHTML, like Gecko) Chrome/56.0.2924.87 Safa…",
         "_deepnote_index_column": 2894
        },
        {
         "customer_id": "86618",
         "order_date": "16/10/2015",
         "order_id": "HTS-086618-0006",
         "pages_visited": 6,
         "tshirt_category": "Tennis Shirt",
         "tshirt_price": "24",
         "tshirt_quantity": 2,
         "user_agent": "Mozilla/5.0 (Windows NT 6.1| WOW64) AppleWebKit/537.36 (KHTML, like Gecko) Chrome/56.0.2924.87 Safa…",
         "_deepnote_index_column": 2895
        },
        {
         "customer_id": "72488",
         "order_date": "22/09/2014",
         "order_id": "HTS-072488-0002",
         "pages_visited": 8,
         "tshirt_category": "Tennis Shirt",
         "tshirt_price": "24",
         "tshirt_quantity": 1,
         "user_agent": "Mozilla/5.0 (Windows NT 6.1| WOW64) AppleWebKit/537.36 (KHTML, like Gecko) Chrome/56.0.2924.87 Safa…",
         "_deepnote_index_column": 2896
        },
        {
         "customer_id": "744898",
         "order_date": "18/02/2015",
         "order_id": "HTS-744898-0003",
         "pages_visited": 8,
         "tshirt_category": "Tennis Shirt",
         "tshirt_price": "24",
         "tshirt_quantity": 2,
         "user_agent": "Mozilla/5.0 (Windows NT 6.1| WOW64) AppleWebKit/537.36 (KHTML, like Gecko) Chrome/56.0.2924.87 Safa…",
         "_deepnote_index_column": 2897
        },
        {
         "customer_id": "27163",
         "order_date": "03/12/2015",
         "order_id": "HTS-027163-0003",
         "pages_visited": 11,
         "tshirt_category": "Tennis Shirt",
         "tshirt_price": "24",
         "tshirt_quantity": 1,
         "user_agent": "Mozilla/5.0 (Windows NT 6.1| WOW64) AppleWebKit/537.36 (KHTML, like Gecko) Chrome/56.0.2924.87 Safa…",
         "_deepnote_index_column": 2898
        },
        {
         "customer_id": "8nc81b",
         "order_date": "25/02/2016",
         "order_id": "HTS-8nc81b-0002",
         "pages_visited": 12,
         "tshirt_category": "Tennis Shirt",
         "tshirt_price": "24",
         "tshirt_quantity": 4,
         "user_agent": "Mozilla/5.0 (Windows NT 6.1| WOW64) AppleWebKit/537.36 (KHTML, like Gecko) Chrome/56.0.2924.87 Safa…",
         "_deepnote_index_column": 2899
        },
        {
         "customer_id": "tq6ry2",
         "order_date": "05/01/2017",
         "order_id": "HTS-tq6ry2-0002",
         "pages_visited": 13,
         "tshirt_category": "Tennis Shirt",
         "tshirt_price": "24",
         "tshirt_quantity": 1,
         "user_agent": "Mozilla/5.0 (Windows NT 6.1| WOW64) AppleWebKit/537.36 (KHTML, like Gecko) Chrome/56.0.2924.87 Safa…",
         "_deepnote_index_column": 2900
        },
        {
         "customer_id": "62489",
         "order_date": "22/12/2013",
         "order_id": "HTS-062489-0001",
         "pages_visited": 18,
         "tshirt_category": "Tennis Shirt",
         "tshirt_price": "24",
         "tshirt_quantity": 1,
         "user_agent": "Mozilla/5.0 (Windows NT 6.1| WOW64) AppleWebKit/537.36 (KHTML, like Gecko) Chrome/56.0.2924.87 Safa…",
         "_deepnote_index_column": 2901
        },
        {
         "customer_id": "672344",
         "order_date": "19/11/2016",
         "order_id": "HTS-672344-0005",
         "pages_visited": 5,
         "tshirt_category": "Tennis Shirt",
         "tshirt_price": "24",
         "tshirt_quantity": 2,
         "user_agent": "Mozilla/5.0 (Windows NT 6.1| WOW64| rv:51.0) Gecko/20100101 Firefox/51.0",
         "_deepnote_index_column": 2902
        },
        {
         "customer_id": "763981",
         "order_date": "25/06/2015",
         "order_id": "HTS-763981-0002",
         "pages_visited": 7,
         "tshirt_category": "Tennis Shirt",
         "tshirt_price": "24",
         "tshirt_quantity": 5,
         "user_agent": "Mozilla/5.0 (Windows NT 6.1| WOW64| rv:51.0) Gecko/20100101 Firefox/51.0",
         "_deepnote_index_column": 2903
        },
        {
         "customer_id": "676955",
         "order_date": "25/12/2014",
         "order_id": "HTS-676955-0001",
         "pages_visited": 9,
         "tshirt_category": "Tennis Shirt",
         "tshirt_price": "24",
         "tshirt_quantity": 4,
         "user_agent": "Mozilla/5.0 (Windows NT 6.1| WOW64| rv:51.0) Gecko/20100101 Firefox/51.0",
         "_deepnote_index_column": 2904
        },
        {
         "customer_id": "278313",
         "order_date": "09/04/2016",
         "order_id": "HTS-278313-0004",
         "pages_visited": 15,
         "tshirt_category": "Tennis Shirt",
         "tshirt_price": "24",
         "tshirt_quantity": 13,
         "user_agent": "Mozilla/5.0 (Windows NT 6.1| WOW64| rv:51.0) Gecko/20100101 Firefox/51.0",
         "_deepnote_index_column": 2905
        },
        {
         "customer_id": "el0sj8",
         "order_date": "12/01/2017",
         "order_id": "HTS-el0sj8-0004",
         "pages_visited": 6,
         "tshirt_category": "Tennis Shirt",
         "tshirt_price": "24",
         "tshirt_quantity": 1,
         "user_agent": "Mozilla/5.0 (Windows NT 6.1| Win64| x64) AppleWebKit/537.36 (KHTML, like Gecko) Chrome/56.0.2924.87…",
         "_deepnote_index_column": 2906
        },
        {
         "customer_id": "545790",
         "order_date": "16/07/2015",
         "order_id": "HTS-545790-0005",
         "pages_visited": 6,
         "tshirt_category": "Tennis Shirt",
         "tshirt_price": "24",
         "tshirt_quantity": 3,
         "user_agent": "Mozilla/5.0 (Windows NT 6.1| Win64| x64) AppleWebKit/537.36 (KHTML, like Gecko) Chrome/56.0.2924.87…",
         "_deepnote_index_column": 2907
        },
        {
         "customer_id": "585862",
         "order_date": "19/11/2015",
         "order_id": "HTS-585862-0004",
         "pages_visited": 7,
         "tshirt_category": "Tennis Shirt",
         "tshirt_price": "24",
         "tshirt_quantity": 14,
         "user_agent": "Mozilla/5.0 (Windows NT 6.1| Win64| x64) AppleWebKit/537.36 (KHTML, like Gecko) Chrome/56.0.2924.87…",
         "_deepnote_index_column": 2908
        },
        {
         "customer_id": "585862",
         "order_date": "17/02/2015",
         "order_id": "HTS-585862-0003",
         "pages_visited": 8,
         "tshirt_category": "Tennis Shirt",
         "tshirt_price": "24",
         "tshirt_quantity": 18,
         "user_agent": "Mozilla/5.0 (Windows NT 6.1| Win64| x64) AppleWebKit/537.36 (KHTML, like Gecko) Chrome/56.0.2924.87…",
         "_deepnote_index_column": 2909
        },
        {
         "customer_id": "539658",
         "order_date": "29/12/2015",
         "order_id": "HTS-539658-0003",
         "pages_visited": 9,
         "tshirt_category": "Tennis Shirt",
         "tshirt_price": "24",
         "tshirt_quantity": 6,
         "user_agent": "Mozilla/5.0 (Windows NT 6.1| Win64| x64) AppleWebKit/537.36 (KHTML, like Gecko) Chrome/56.0.2924.87…",
         "_deepnote_index_column": 2910
        },
        {
         "customer_id": "187195",
         "order_date": "30/03/2016",
         "order_id": "HTS-187195-0003",
         "pages_visited": 10,
         "tshirt_category": "Tennis Shirt",
         "tshirt_price": "24",
         "tshirt_quantity": 5,
         "user_agent": "Mozilla/5.0 (Windows NT 6.1| Win64| x64) AppleWebKit/537.36 (KHTML, like Gecko) Chrome/56.0.2924.87…",
         "_deepnote_index_column": 2911
        },
        {
         "customer_id": "449243",
         "order_date": "09/06/2016",
         "order_id": "HTS-449243-0002",
         "pages_visited": 11,
         "tshirt_category": "Tennis Shirt",
         "tshirt_price": "24",
         "tshirt_quantity": 1,
         "user_agent": "Mozilla/5.0 (Windows NT 6.1| Win64| x64) AppleWebKit/537.36 (KHTML, like Gecko) Chrome/56.0.2924.87…",
         "_deepnote_index_column": 2912
        },
        {
         "customer_id": "83318",
         "order_date": "01/08/2016",
         "order_id": "HTS-083318-0005",
         "pages_visited": 11,
         "tshirt_category": "Tennis Shirt",
         "tshirt_price": "24",
         "tshirt_quantity": 2,
         "user_agent": "Mozilla/5.0 (Windows NT 6.1| Win64| x64) AppleWebKit/537.36 (KHTML, like Gecko) Chrome/56.0.2924.87…",
         "_deepnote_index_column": 2913
        },
        {
         "customer_id": "453848",
         "order_date": "18/07/2013",
         "order_id": "HTS-453848-0001",
         "pages_visited": 11,
         "tshirt_category": "Tennis Shirt",
         "tshirt_price": "24",
         "tshirt_quantity": 3,
         "user_agent": "Mozilla/5.0 (Windows NT 6.1| Win64| x64) AppleWebKit/537.36 (KHTML, like Gecko) Chrome/56.0.2924.87…",
         "_deepnote_index_column": 2914
        },
        {
         "customer_id": "83318",
         "order_date": "28/02/2015",
         "order_id": "HTS-083318-0003",
         "pages_visited": 12,
         "tshirt_category": "Tennis Shirt",
         "tshirt_price": "24",
         "tshirt_quantity": 3,
         "user_agent": "Mozilla/5.0 (Windows NT 6.1| Win64| x64) AppleWebKit/537.36 (KHTML, like Gecko) Chrome/56.0.2924.87…",
         "_deepnote_index_column": 2915
        },
        {
         "customer_id": "287913",
         "order_date": "25/12/2014",
         "order_id": "HTS-287913-0002",
         "pages_visited": 11,
         "tshirt_category": "Tennis Shirt",
         "tshirt_price": "24",
         "tshirt_quantity": 1,
         "user_agent": "Mozilla/5.0 (Windows NT 6.3| WOW64) AppleWebKit/537.36 (KHTML, like Gecko) Chrome/56.0.2924.87 Safa…",
         "_deepnote_index_column": 2916
        },
        {
         "customer_id": "534599",
         "order_date": "23/06/2014",
         "order_id": "HTS-534599-0001",
         "pages_visited": 9,
         "tshirt_category": "Tennis Shirt",
         "tshirt_price": "24",
         "tshirt_quantity": 3,
         "user_agent": "Mozilla/5.0 (X11| Linux x86_64) AppleWebKit/537.36 (KHTML, like Gecko) Chrome/56.0.2924.87 Safari/5…",
         "_deepnote_index_column": 2917
        },
        {
         "customer_id": "467894",
         "order_date": "14/10/2015",
         "order_id": "HTS-467894-0003",
         "pages_visited": 11,
         "tshirt_category": "Tennis Shirt",
         "tshirt_price": "24",
         "tshirt_quantity": 1,
         "user_agent": "Mozilla/5.0 (X11| Linux x86_64) AppleWebKit/537.36 (KHTML, like Gecko) Chrome/56.0.2924.87 Safari/5…",
         "_deepnote_index_column": 2918
        },
        {
         "customer_id": "371776",
         "order_date": "04/05/2015",
         "order_id": "HTS-371776-0002",
         "pages_visited": 16,
         "tshirt_category": "Tennis Shirt",
         "tshirt_price": "24",
         "tshirt_quantity": 2,
         "user_agent": "Mozilla/5.0 (X11| Linux x86_64) AppleWebKit/537.36 (KHTML, like Gecko) Chrome/56.0.2924.87 Safari/5…",
         "_deepnote_index_column": 2919
        },
        {
         "customer_id": "0b59cn",
         "order_date": "12/12/2016",
         "order_id": "HTS-0b59cn-0004",
         "pages_visited": 8,
         "tshirt_category": "Tennis Shirt",
         "tshirt_price": "24",
         "tshirt_quantity": 5,
         "user_agent": "Mozilla/5.0 (X11| Ubuntu| Linux x86_64| rv:51.0) Gecko/20100101 Firefox/51.0",
         "_deepnote_index_column": 2920
        },
        {
         "customer_id": "357322",
         "order_date": "10/12/2016",
         "order_id": "HTS-357322-0007",
         "pages_visited": 5,
         "tshirt_category": "Tennis Shirt",
         "tshirt_price": "24",
         "tshirt_quantity": 3,
         "user_agent": "Mozilla/5.0 (Windows NT 10.0| WOW64) AppleWebKit/537.36 (KHTML, like Gecko) Chrome/56.0.2924.87 Saf…",
         "_deepnote_index_column": 2921
        },
        {
         "customer_id": "l8c64t",
         "order_date": "01/03/2017",
         "order_id": "HTS-l8c64t-0003",
         "pages_visited": 7,
         "tshirt_category": "Tennis Shirt",
         "tshirt_price": "24",
         "tshirt_quantity": 2,
         "user_agent": "Mozilla/5.0 (Windows NT 10.0| WOW64| rv:52.0) Gecko/20100101 Firefox/52.0",
         "_deepnote_index_column": 2922
        },
        {
         "customer_id": "946557",
         "order_date": "21/07/2016",
         "order_id": "HTS-946557-0005",
         "pages_visited": 5,
         "tshirt_category": "Tennis Shirt",
         "tshirt_price": "24",
         "tshirt_quantity": 2,
         "user_agent": "Mozilla/5.0 (Windows NT 10.0| Win64| x64) AppleWebKit/537.36 (KHTML, like Gecko) Chrome/56.0.2924.8…",
         "_deepnote_index_column": 2923
        },
        {
         "customer_id": "1bhyje",
         "order_date": "22/06/2016",
         "order_id": "HTS-1bhyje-0002",
         "pages_visited": 17,
         "tshirt_category": "Tennis Shirt",
         "tshirt_price": "24",
         "tshirt_quantity": 1,
         "user_agent": "Mozilla/5.0 (X11| Linux x86_64) AppleWebKit/537.36 (KHTML, like Gecko) Chrome/56.0.2924.87 Safari/5…",
         "_deepnote_index_column": 2924
        }
       ]
      },
      "text/plain": "     customer_id  order_date         order_id  pages_visited  tshirt_category  \\\n0          38040  04/09/2016  HTS-038040-0002              9  White T-Shirt M   \n1         vft1eu  26/02/2017  HTS-vft1eu-0003             10  White T-Shirt F   \n2         914324  01/12/2013  HTS-914324-0001             10      Wh Tshirt F   \n3          61311  15/01/2016  HTS-061311-0003              9  Black T-Shirt F   \n4         494332  03/11/2013  HTS-494332-0001             10      Wh Tshirt F   \n...          ...         ...              ...            ...              ...   \n2920      0b59cn  12/12/2016  HTS-0b59cn-0004              8     Tennis Shirt   \n2921      357322  10/12/2016  HTS-357322-0007              5     Tennis Shirt   \n2922      l8c64t  01/03/2017  HTS-l8c64t-0003              7     Tennis Shirt   \n2923      946557  21/07/2016  HTS-946557-0005              5     Tennis Shirt   \n2924      1bhyje  22/06/2016  HTS-1bhyje-0002             17     Tennis Shirt   \n\n     tshirt_price  tshirt_quantity  \\\n0              20                1   \n1              18                3   \n2              18                1   \n3            17,5                4   \n4              18                2   \n...           ...              ...   \n2920           24                5   \n2921           24                3   \n2922           24                2   \n2923           24                2   \n2924           24                1   \n\n                                             user_agent  \n0     Mozilla/5.0 (Windows NT 10.0| WOW64) AppleWebK...  \n1     Mozilla/5.0 (Macintosh| Intel Mac OS X 10_12_3...  \n2     Mozilla/5.0 (Windows NT 10.0| WOW64) AppleWebK...  \n3     Mozilla/5.0 (Macintosh| Intel Mac OS X 10_12_3...  \n4     Mozilla/5.0 (Macintosh| Intel Mac OS X 10_11_6...  \n...                                                 ...  \n2920  Mozilla/5.0 (X11| Ubuntu| Linux x86_64| rv:51....  \n2921  Mozilla/5.0 (Windows NT 10.0| WOW64) AppleWebK...  \n2922  Mozilla/5.0 (Windows NT 10.0| WOW64| rv:52.0) ...  \n2923  Mozilla/5.0 (Windows NT 10.0| Win64| x64) Appl...  \n2924  Mozilla/5.0 (X11| Linux x86_64) AppleWebKit/53...  \n\n[12921 rows x 8 columns]",
      "text/html": "<div>\n<style scoped>\n    .dataframe tbody tr th:only-of-type {\n        vertical-align: middle;\n    }\n\n    .dataframe tbody tr th {\n        vertical-align: top;\n    }\n\n    .dataframe thead th {\n        text-align: right;\n    }\n</style>\n<table border=\"1\" class=\"dataframe\">\n  <thead>\n    <tr style=\"text-align: right;\">\n      <th></th>\n      <th>customer_id</th>\n      <th>order_date</th>\n      <th>order_id</th>\n      <th>pages_visited</th>\n      <th>tshirt_category</th>\n      <th>tshirt_price</th>\n      <th>tshirt_quantity</th>\n      <th>user_agent</th>\n    </tr>\n  </thead>\n  <tbody>\n    <tr>\n      <th>0</th>\n      <td>38040</td>\n      <td>04/09/2016</td>\n      <td>HTS-038040-0002</td>\n      <td>9</td>\n      <td>White T-Shirt M</td>\n      <td>20</td>\n      <td>1</td>\n      <td>Mozilla/5.0 (Windows NT 10.0| WOW64) AppleWebK...</td>\n    </tr>\n    <tr>\n      <th>1</th>\n      <td>vft1eu</td>\n      <td>26/02/2017</td>\n      <td>HTS-vft1eu-0003</td>\n      <td>10</td>\n      <td>White T-Shirt F</td>\n      <td>18</td>\n      <td>3</td>\n      <td>Mozilla/5.0 (Macintosh| Intel Mac OS X 10_12_3...</td>\n    </tr>\n    <tr>\n      <th>2</th>\n      <td>914324</td>\n      <td>01/12/2013</td>\n      <td>HTS-914324-0001</td>\n      <td>10</td>\n      <td>Wh Tshirt F</td>\n      <td>18</td>\n      <td>1</td>\n      <td>Mozilla/5.0 (Windows NT 10.0| WOW64) AppleWebK...</td>\n    </tr>\n    <tr>\n      <th>3</th>\n      <td>61311</td>\n      <td>15/01/2016</td>\n      <td>HTS-061311-0003</td>\n      <td>9</td>\n      <td>Black T-Shirt F</td>\n      <td>17,5</td>\n      <td>4</td>\n      <td>Mozilla/5.0 (Macintosh| Intel Mac OS X 10_12_3...</td>\n    </tr>\n    <tr>\n      <th>4</th>\n      <td>494332</td>\n      <td>03/11/2013</td>\n      <td>HTS-494332-0001</td>\n      <td>10</td>\n      <td>Wh Tshirt F</td>\n      <td>18</td>\n      <td>2</td>\n      <td>Mozilla/5.0 (Macintosh| Intel Mac OS X 10_11_6...</td>\n    </tr>\n    <tr>\n      <th>...</th>\n      <td>...</td>\n      <td>...</td>\n      <td>...</td>\n      <td>...</td>\n      <td>...</td>\n      <td>...</td>\n      <td>...</td>\n      <td>...</td>\n    </tr>\n    <tr>\n      <th>2920</th>\n      <td>0b59cn</td>\n      <td>12/12/2016</td>\n      <td>HTS-0b59cn-0004</td>\n      <td>8</td>\n      <td>Tennis Shirt</td>\n      <td>24</td>\n      <td>5</td>\n      <td>Mozilla/5.0 (X11| Ubuntu| Linux x86_64| rv:51....</td>\n    </tr>\n    <tr>\n      <th>2921</th>\n      <td>357322</td>\n      <td>10/12/2016</td>\n      <td>HTS-357322-0007</td>\n      <td>5</td>\n      <td>Tennis Shirt</td>\n      <td>24</td>\n      <td>3</td>\n      <td>Mozilla/5.0 (Windows NT 10.0| WOW64) AppleWebK...</td>\n    </tr>\n    <tr>\n      <th>2922</th>\n      <td>l8c64t</td>\n      <td>01/03/2017</td>\n      <td>HTS-l8c64t-0003</td>\n      <td>7</td>\n      <td>Tennis Shirt</td>\n      <td>24</td>\n      <td>2</td>\n      <td>Mozilla/5.0 (Windows NT 10.0| WOW64| rv:52.0) ...</td>\n    </tr>\n    <tr>\n      <th>2923</th>\n      <td>946557</td>\n      <td>21/07/2016</td>\n      <td>HTS-946557-0005</td>\n      <td>5</td>\n      <td>Tennis Shirt</td>\n      <td>24</td>\n      <td>2</td>\n      <td>Mozilla/5.0 (Windows NT 10.0| Win64| x64) Appl...</td>\n    </tr>\n    <tr>\n      <th>2924</th>\n      <td>1bhyje</td>\n      <td>22/06/2016</td>\n      <td>HTS-1bhyje-0002</td>\n      <td>17</td>\n      <td>Tennis Shirt</td>\n      <td>24</td>\n      <td>1</td>\n      <td>Mozilla/5.0 (X11| Linux x86_64) AppleWebKit/53...</td>\n    </tr>\n  </tbody>\n</table>\n<p>12921 rows × 8 columns</p>\n</div>"
     },
     "metadata": {}
    }
   ]
  },
  {
   "cell_type": "markdown",
   "source": "## 2.2 Join",
   "metadata": {
    "tags": [],
    "is_collapsed": false,
    "cell_id": "00017-165c0440-f189-45d4-a123-71a2f55dd10d",
    "deepnote_cell_type": "text-cell-h2"
   }
  },
  {
   "cell_type": "markdown",
   "source": "### 2.2.1 Merging Vente and Client datasets",
   "metadata": {
    "tags": [],
    "is_collapsed": false,
    "cell_id": "00026-8fab6b96-dd22-4cbf-8164-62468440af5b",
    "deepnote_cell_type": "text-cell-h3"
   }
  },
  {
   "cell_type": "code",
   "metadata": {
    "tags": [],
    "cell_id": "00026-cc991d05-271e-40dc-9330-2f0a68ff20ac",
    "deepnote_to_be_reexecuted": false,
    "source_hash": "23e622c9",
    "execution_start": 1629383754992,
    "execution_millis": 24,
    "deepnote_cell_type": "code"
   },
   "source": "# Let's make a check on the size of the dataframes before merging\nprint(df_vente.shape)\nprint(df_client.shape)",
   "execution_count": null,
   "outputs": [
    {
     "name": "stdout",
     "text": "(12921, 8)\n(2686, 10)\n",
     "output_type": "stream"
    }
   ]
  },
  {
   "cell_type": "code",
   "metadata": {
    "tags": [],
    "cell_id": "00026-c2cdcd42-3b98-4058-995c-e6d97b1e4f76",
    "deepnote_to_be_reexecuted": false,
    "source_hash": "5c41acff",
    "execution_start": 1629383667007,
    "execution_millis": 43,
    "deepnote_cell_type": "code"
   },
   "source": "# Merge the 2 dataframes\ndf_final = pd.merge(df_vente, df_client, left_on=\"customer_id\", right_on=\"customerID\", how = \"left\")\ndf_final.shape",
   "execution_count": null,
   "outputs": [
    {
     "output_type": "execute_result",
     "execution_count": 21,
     "data": {
      "text/plain": "(12921, 18)"
     },
     "metadata": {}
    }
   ]
  },
  {
   "cell_type": "code",
   "metadata": {
    "tags": [],
    "cell_id": "00017-020e3cf3-3ac1-4b97-9257-10fc7b58a67c",
    "deepnote_to_be_reexecuted": false,
    "source_hash": "cef8ceaa",
    "execution_start": 1629383778984,
    "execution_millis": 165,
    "is_output_hidden": true,
    "deepnote_cell_type": "code"
   },
   "source": "# let's have a look at the data\n\ndf_final",
   "execution_count": null,
   "outputs": [
    {
     "output_type": "execute_result",
     "execution_count": 23,
     "data": {
      "application/vnd.deepnote.dataframe.v2+json": {
       "row_count": 12921,
       "column_count": 18,
       "columns": [
        {
         "name": "customer_id",
         "dtype": "object",
         "stats": {
          "unique_count": 5380,
          "nan_count": 0,
          "categories": [
           {
            "name": "536917",
            "count": 13
           },
           {
            "name": "409679",
            "count": 13
           },
           {
            "name": "5378 others",
            "count": 12895
           }
          ]
         }
        },
        {
         "name": "order_date",
         "dtype": "object",
         "stats": {
          "unique_count": 1401,
          "nan_count": 0,
          "categories": [
           {
            "name": "02/11/2015",
            "count": 25
           },
           {
            "name": "05/11/2015",
            "count": 25
           },
           {
            "name": "1399 others",
            "count": 12871
           }
          ]
         }
        },
        {
         "name": "order_id",
         "dtype": "object",
         "stats": {
          "unique_count": 12902,
          "nan_count": 0,
          "categories": [
           {
            "name": "HTS-296958-0001",
            "count": 2
           },
           {
            "name": "HTS-923895-0002",
            "count": 2
           },
           {
            "name": "12900 others",
            "count": 12917
           }
          ]
         }
        },
        {
         "name": "pages_visited",
         "dtype": "int64",
         "stats": {
          "unique_count": 25,
          "nan_count": 0,
          "min": "2",
          "max": "28",
          "histogram": [
           {
            "bin_start": 2,
            "bin_end": 4.6,
            "count": 394
           },
           {
            "bin_start": 4.6,
            "bin_end": 7.2,
            "count": 2004
           },
           {
            "bin_start": 7.2,
            "bin_end": 9.8,
            "count": 2495
           },
           {
            "bin_start": 9.8,
            "bin_end": 12.4,
            "count": 4063
           },
           {
            "bin_start": 12.4,
            "bin_end": 15,
            "count": 1990
           },
           {
            "bin_start": 15,
            "bin_end": 17.6,
            "count": 1513
           },
           {
            "bin_start": 17.6,
            "bin_end": 20.2,
            "count": 376
           },
           {
            "bin_start": 20.2,
            "bin_end": 22.8,
            "count": 60
           },
           {
            "bin_start": 22.8,
            "bin_end": 25.400000000000002,
            "count": 25
           },
           {
            "bin_start": 25.400000000000002,
            "bin_end": 28,
            "count": 1
           }
          ]
         }
        },
        {
         "name": "tshirt_category",
         "dtype": "object",
         "stats": {
          "unique_count": 10,
          "nan_count": 0,
          "categories": [
           {
            "name": "Hoodie",
            "count": 3047
           },
           {
            "name": "White T-Shirt M",
            "count": 2717
           },
           {
            "name": "8 others",
            "count": 7157
           }
          ]
         }
        },
        {
         "name": "tshirt_price",
         "dtype": "object",
         "stats": {
          "unique_count": 6,
          "nan_count": 0,
          "categories": [
           {
            "name": "23",
            "count": 3047
           },
           {
            "name": "20",
            "count": 2955
           },
           {
            "name": "4 others",
            "count": 6919
           }
          ]
         }
        },
        {
         "name": "tshirt_quantity",
         "dtype": "int64",
         "stats": {
          "unique_count": 28,
          "nan_count": 0,
          "min": "1",
          "max": "29",
          "histogram": [
           {
            "bin_start": 1,
            "bin_end": 3.8,
            "count": 10651
           },
           {
            "bin_start": 3.8,
            "bin_end": 6.6,
            "count": 1459
           },
           {
            "bin_start": 6.6,
            "bin_end": 9.399999999999999,
            "count": 181
           },
           {
            "bin_start": 9.399999999999999,
            "bin_end": 12.2,
            "count": 122
           },
           {
            "bin_start": 12.2,
            "bin_end": 15,
            "count": 116
           },
           {
            "bin_start": 15,
            "bin_end": 17.799999999999997,
            "count": 170
           },
           {
            "bin_start": 17.799999999999997,
            "bin_end": 20.599999999999998,
            "count": 126
           },
           {
            "bin_start": 20.599999999999998,
            "bin_end": 23.4,
            "count": 65
           },
           {
            "bin_start": 23.4,
            "bin_end": 26.2,
            "count": 27
           },
           {
            "bin_start": 26.2,
            "bin_end": 29,
            "count": 4
           }
          ]
         }
        },
        {
         "name": "user_agent",
         "dtype": "object"
        },
        {
         "name": "customerID",
         "dtype": "object"
        },
        {
         "name": "gender",
         "dtype": "object"
        },
        {
         "name": "birthdate",
         "dtype": "object"
        },
        {
         "name": "ip_address",
         "dtype": "object"
        },
        {
         "name": "latitude",
         "dtype": "float64"
        },
        {
         "name": "longitude",
         "dtype": "float64"
        },
        {
         "name": "Country Name",
         "dtype": "object"
        },
        {
         "name": "country_code",
         "dtype": "object"
        },
        {
         "name": "city_name",
         "dtype": "object"
        },
        {
         "name": "email",
         "dtype": "object"
        },
        {
         "name": "_deepnote_index_column",
         "dtype": "int64"
        }
       ],
       "rows_top": [
        {
         "customer_id": "38040",
         "order_date": "04/09/2016",
         "order_id": "HTS-038040-0002",
         "pages_visited": 9,
         "tshirt_category": "White T-Shirt M",
         "tshirt_price": "20",
         "tshirt_quantity": 1,
         "user_agent": "Mozilla/5.0 (Windows NT 10.0| WOW64) AppleWebKit/537.36 (KHTML, like Gecko) Chrome/56.0.2924.87 Saf…",
         "customerID": "nan",
         "gender": "nan",
         "birthdate": "nan",
         "ip_address": "nan",
         "latitude": "nan",
         "longitude": "nan",
         "Country Name": "nan",
         "country_code": "nan",
         "city_name": "nan",
         "email": "nan",
         "_deepnote_index_column": 0
        },
        {
         "customer_id": "vft1eu",
         "order_date": "26/02/2017",
         "order_id": "HTS-vft1eu-0003",
         "pages_visited": 10,
         "tshirt_category": "White T-Shirt F",
         "tshirt_price": "18",
         "tshirt_quantity": 3,
         "user_agent": "Mozilla/5.0 (Macintosh| Intel Mac OS X 10_12_3) AppleWebKit/602.4.8 (KHTML, like Gecko) Version/10.…",
         "customerID": "vft1eu",
         "gender": "F",
         "birthdate": "1969-06-27 00:00:00",
         "ip_address": "53.115.6.106",
         "latitude": 51,
         "longitude": 9,
         "Country Name": "Germany, Federal Republic of",
         "country_code": "DE",
         "city_name": "nan",
         "email": "HEOX@formation.fr",
         "_deepnote_index_column": 1
        },
        {
         "customer_id": "914324",
         "order_date": "01/12/2013",
         "order_id": "HTS-914324-0001",
         "pages_visited": 10,
         "tshirt_category": "Wh Tshirt F",
         "tshirt_price": "18",
         "tshirt_quantity": 1,
         "user_agent": "Mozilla/5.0 (Windows NT 10.0| WOW64) AppleWebKit/537.36 (KHTML, like Gecko) Chrome/56.0.2924.87 Saf…",
         "customerID": "nan",
         "gender": "nan",
         "birthdate": "nan",
         "ip_address": "nan",
         "latitude": "nan",
         "longitude": "nan",
         "Country Name": "nan",
         "country_code": "nan",
         "city_name": "nan",
         "email": "nan",
         "_deepnote_index_column": 2
        },
        {
         "customer_id": "61311",
         "order_date": "15/01/2016",
         "order_id": "HTS-061311-0003",
         "pages_visited": 9,
         "tshirt_category": "Black T-Shirt F",
         "tshirt_price": "17,5",
         "tshirt_quantity": 4,
         "user_agent": "Mozilla/5.0 (Macintosh| Intel Mac OS X 10_12_3) AppleWebKit/537.36 (KHTML, like Gecko) Chrome/56.0.…",
         "customerID": "nan",
         "gender": "nan",
         "birthdate": "nan",
         "ip_address": "nan",
         "latitude": "nan",
         "longitude": "nan",
         "Country Name": "nan",
         "country_code": "nan",
         "city_name": "nan",
         "email": "nan",
         "_deepnote_index_column": 3
        },
        {
         "customer_id": "494332",
         "order_date": "03/11/2013",
         "order_id": "HTS-494332-0001",
         "pages_visited": 10,
         "tshirt_category": "Wh Tshirt F",
         "tshirt_price": "18",
         "tshirt_quantity": 2,
         "user_agent": "Mozilla/5.0 (Macintosh| Intel Mac OS X 10_11_6) AppleWebKit/537.36 (KHTML, like Gecko) Chrome/56.0.…",
         "customerID": "nan",
         "gender": "nan",
         "birthdate": "nan",
         "ip_address": "nan",
         "latitude": "nan",
         "longitude": "nan",
         "Country Name": "nan",
         "country_code": "nan",
         "city_name": "nan",
         "email": "nan",
         "_deepnote_index_column": 4
        },
        {
         "customer_id": "463794",
         "order_date": "02/10/2013",
         "order_id": "HTS-463794-0001",
         "pages_visited": 14,
         "tshirt_category": "Tennis Shirt",
         "tshirt_price": "24",
         "tshirt_quantity": 1,
         "user_agent": "Mozilla/5.0 (Windows NT 10.0| Win64| x64) AppleWebKit/537.36 (KHTML, like Gecko) Chrome/56.0.2924.8…",
         "customerID": "nan",
         "gender": "nan",
         "birthdate": "nan",
         "ip_address": "nan",
         "latitude": "nan",
         "longitude": "nan",
         "Country Name": "nan",
         "country_code": "nan",
         "city_name": "nan",
         "email": "nan",
         "_deepnote_index_column": 5
        },
        {
         "customer_id": "132885",
         "order_date": "23/07/2013",
         "order_id": "HTS-132885-0001",
         "pages_visited": 17,
         "tshirt_category": "Wh Tshirt M",
         "tshirt_price": "20",
         "tshirt_quantity": 1,
         "user_agent": "Mozilla/5.0 (Windows NT 10.0| Win64| x64) AppleWebKit/537.36 (KHTML, like Gecko) Chrome/56.0.2924.8…",
         "customerID": "nan",
         "gender": "nan",
         "birthdate": "nan",
         "ip_address": "nan",
         "latitude": "nan",
         "longitude": "nan",
         "Country Name": "nan",
         "country_code": "nan",
         "city_name": "nan",
         "email": "nan",
         "_deepnote_index_column": 6
        },
        {
         "customer_id": "519113",
         "order_date": "24/11/2013",
         "order_id": "HTS-519113-0001",
         "pages_visited": 17,
         "tshirt_category": "Bl Tshirt F",
         "tshirt_price": "17,5",
         "tshirt_quantity": 1,
         "user_agent": "Mozilla/5.0 (Windows NT 6.1| WOW64) AppleWebKit/537.36 (KHTML, like Gecko) Chrome/56.0.2924.87 Safa…",
         "customerID": "nan",
         "gender": "nan",
         "birthdate": "nan",
         "ip_address": "nan",
         "latitude": "nan",
         "longitude": "nan",
         "Country Name": "nan",
         "country_code": "nan",
         "city_name": "nan",
         "email": "nan",
         "_deepnote_index_column": 7
        },
        {
         "customer_id": "je57lh",
         "order_date": "24/11/2015",
         "order_id": "HTS-je57lh-0001",
         "pages_visited": 15,
         "tshirt_category": "Hoodie",
         "tshirt_price": "23",
         "tshirt_quantity": 3,
         "user_agent": "Mozilla/5.0 (Windows NT 10.0| Win64| x64) AppleWebKit/537.36 (KHTML, like Gecko) Chrome/56.0.2924.8…",
         "customerID": "je57lh",
         "gender": "M",
         "birthdate": "1953-03-12 00:00:00",
         "ip_address": "110.116.130.200",
         "latitude": 39.92890167,
         "longitude": 116.388298,
         "Country Name": "China, People's Republic of",
         "country_code": "CN",
         "city_name": "Beijing",
         "email": "GOPB@formation.fr",
         "_deepnote_index_column": 8
        },
        {
         "customer_id": "49348",
         "order_date": "15/08/2016",
         "order_id": "HTS-049348-0004",
         "pages_visited": 6,
         "tshirt_category": "Black T-Shirt F",
         "tshirt_price": "17,5",
         "tshirt_quantity": 1,
         "user_agent": "Mozilla/5.0 (Macintosh| Intel Mac OS X 10_11_6) AppleWebKit/537.36 (KHTML, like Gecko) Chrome/56.0.…",
         "customerID": "nan",
         "gender": "nan",
         "birthdate": "nan",
         "ip_address": "nan",
         "latitude": "nan",
         "longitude": "nan",
         "Country Name": "nan",
         "country_code": "nan",
         "city_name": "nan",
         "email": "nan",
         "_deepnote_index_column": 9
        },
        {
         "customer_id": "heb26i",
         "order_date": "29/11/2015",
         "order_id": "HTS-heb26i-0001",
         "pages_visited": 15,
         "tshirt_category": "Black T-Shirt F",
         "tshirt_price": "17,5",
         "tshirt_quantity": 1,
         "user_agent": "Mozilla/5.0 (Windows NT 6.1| Win64| x64) AppleWebKit/537.36 (KHTML, like Gecko) Chrome/56.0.2924.87…",
         "customerID": "heb26i",
         "gender": "F",
         "birthdate": "1984-12-27 00:00:00",
         "ip_address": "62.188.236.61",
         "latitude": 51.5,
         "longitude": -0.129999995,
         "Country Name": "United Kingdom of Great Britain & Northern Ireland",
         "country_code": "GB",
         "city_name": "nan",
         "email": "RPOO@formation.fr",
         "_deepnote_index_column": 10
        },
        {
         "customer_id": "989355",
         "order_date": "09/10/2015",
         "order_id": "HTS-989355-0003",
         "pages_visited": 10,
         "tshirt_category": "Hoodie",
         "tshirt_price": "23",
         "tshirt_quantity": 2,
         "user_agent": "Mozilla/5.0 (Windows NT 6.1| WOW64) AppleWebKit/537.36 (KHTML, like Gecko) Chrome/56.0.2924.87 Safa…",
         "customerID": "nan",
         "gender": "nan",
         "birthdate": "nan",
         "ip_address": "nan",
         "latitude": "nan",
         "longitude": "nan",
         "Country Name": "nan",
         "country_code": "nan",
         "city_name": "nan",
         "email": "nan",
         "_deepnote_index_column": 11
        },
        {
         "customer_id": "1b0lnt",
         "order_date": "16/01/2016",
         "order_id": "HTS-1b0lnt-0002",
         "pages_visited": 15,
         "tshirt_category": "White T-Shirt M",
         "tshirt_price": "20",
         "tshirt_quantity": 1,
         "user_agent": "Mozilla/5.0 (X11| Linux x86_64) AppleWebKit/537.36 (KHTML, like Gecko) Chrome/56.0.2924.87 Safari/5…",
         "customerID": "1b0lnt",
         "gender": "F",
         "birthdate": "1981-11-07 00:00:00",
         "ip_address": "117.228.120.81",
         "latitude": 18.5333004,
         "longitude": 73.86669922,
         "Country Name": "India, Republic of",
         "country_code": "IN",
         "city_name": "Poona",
         "email": "RKYX@formation.fr",
         "_deepnote_index_column": 12
        },
        {
         "customer_id": "198773",
         "order_date": "17/01/2015",
         "order_id": "HTS-198773-0002",
         "pages_visited": 5,
         "tshirt_category": "White T-Shirt M",
         "tshirt_price": "20",
         "tshirt_quantity": 1,
         "user_agent": "Mozilla/5.0 (Windows NT 10.0| Win64| x64) AppleWebKit/537.36 (KHTML, like Gecko) Chrome/56.0.2924.8…",
         "customerID": "nan",
         "gender": "nan",
         "birthdate": "nan",
         "ip_address": "nan",
         "latitude": "nan",
         "longitude": "nan",
         "Country Name": "nan",
         "country_code": "nan",
         "city_name": "nan",
         "email": "nan",
         "_deepnote_index_column": 13
        },
        {
         "customer_id": "476084",
         "order_date": "20/07/2014",
         "order_id": "HTS-476084-0001",
         "pages_visited": 11,
         "tshirt_category": "White T-Shirt M",
         "tshirt_price": "20",
         "tshirt_quantity": 2,
         "user_agent": "Mozilla/5.0 (Windows NT 10.0| Win64| x64) AppleWebKit/537.36 (KHTML, like Gecko) Chrome/56.0.2924.8…",
         "customerID": "nan",
         "gender": "nan",
         "birthdate": "nan",
         "ip_address": "nan",
         "latitude": "nan",
         "longitude": "nan",
         "Country Name": "nan",
         "country_code": "nan",
         "city_name": "nan",
         "email": "nan",
         "_deepnote_index_column": 14
        },
        {
         "customer_id": "907041",
         "order_date": "20/05/2016",
         "order_id": "HTS-907041-0002",
         "pages_visited": 14,
         "tshirt_category": "White T-Shirt F",
         "tshirt_price": "18",
         "tshirt_quantity": 3,
         "user_agent": "Mozilla/5.0 (Windows NT 6.1| WOW64| rv:51.0) Gecko/20100101 Firefox/51.0",
         "customerID": "nan",
         "gender": "nan",
         "birthdate": "nan",
         "ip_address": "nan",
         "latitude": "nan",
         "longitude": "nan",
         "Country Name": "nan",
         "country_code": "nan",
         "city_name": "nan",
         "email": "nan",
         "_deepnote_index_column": 15
        },
        {
         "customer_id": "399607",
         "order_date": "09/03/2014",
         "order_id": "HTS-399607-0002",
         "pages_visited": 12,
         "tshirt_category": "White T-Shirt M",
         "tshirt_price": "20",
         "tshirt_quantity": 5,
         "user_agent": "Mozilla/5.0 (Windows NT 6.1| WOW64) AppleWebKit/537.36 (KHTML, like Gecko) Chrome/56.0.2924.87 Safa…",
         "customerID": "nan",
         "gender": "nan",
         "birthdate": "nan",
         "ip_address": "nan",
         "latitude": "nan",
         "longitude": "nan",
         "Country Name": "nan",
         "country_code": "nan",
         "city_name": "nan",
         "email": "nan",
         "_deepnote_index_column": 16
        },
        {
         "customer_id": "610587",
         "order_date": "08/01/2017",
         "order_id": "HTS-610587-0004",
         "pages_visited": 5,
         "tshirt_category": "Hoodie",
         "tshirt_price": "23",
         "tshirt_quantity": 1,
         "user_agent": "Mozilla/5.0 (X11| Linux x86_64) AppleWebKit/537.36 (KHTML, like Gecko) Chrome/56.0.2924.87 Safari/5…",
         "customerID": "nan",
         "gender": "nan",
         "birthdate": "nan",
         "ip_address": "nan",
         "latitude": "nan",
         "longitude": "nan",
         "Country Name": "nan",
         "country_code": "nan",
         "city_name": "nan",
         "email": "nan",
         "_deepnote_index_column": 17
        },
        {
         "customer_id": "707341",
         "order_date": "03/10/2014",
         "order_id": "HTS-707341-0003",
         "pages_visited": 8,
         "tshirt_category": "Black T-Shirt M",
         "tshirt_price": "19",
         "tshirt_quantity": 3,
         "user_agent": "Mozilla/5.0 (Macintosh| Intel Mac OS X 10_12_3) AppleWebKit/602.4.8 (KHTML, like Gecko) Version/10.…",
         "customerID": "nan",
         "gender": "nan",
         "birthdate": "nan",
         "ip_address": "nan",
         "latitude": "nan",
         "longitude": "nan",
         "Country Name": "nan",
         "country_code": "nan",
         "city_name": "nan",
         "email": "nan",
         "_deepnote_index_column": 18
        },
        {
         "customer_id": "pq3m7c",
         "order_date": "08/09/2015",
         "order_id": "HTS-pq3m7c-0001",
         "pages_visited": 11,
         "tshirt_category": "Hoodie",
         "tshirt_price": "23",
         "tshirt_quantity": 1,
         "user_agent": "Mozilla/5.0 (Windows NT 6.1| WOW64| rv:52.0) Gecko/20100101 Firefox/52.0",
         "customerID": "pq3m7c",
         "gender": "M",
         "birthdate": "1992-01-19 00:00:00",
         "ip_address": "97.77.88.191",
         "latitude": 38,
         "longitude": -97,
         "Country Name": "United States of America",
         "country_code": "US",
         "city_name": "nan",
         "email": "ZAIT@formation.fr",
         "_deepnote_index_column": 19
        },
        {
         "customer_id": "0lkdil",
         "order_date": "19/12/2016",
         "order_id": "HTS-0lkdil-0002",
         "pages_visited": 8,
         "tshirt_category": "Black T-Shirt F",
         "tshirt_price": "17,5",
         "tshirt_quantity": 1,
         "user_agent": "Mozilla/5.0 (Macintosh| Intel Mac OS X 10_12_3) AppleWebKit/537.36 (KHTML, like Gecko) Chrome/56.0.…",
         "customerID": "0lkdil",
         "gender": "F",
         "birthdate": "1956-04-28 00:00:00",
         "ip_address": "85.133.57.170",
         "latitude": 51.5,
         "longitude": -0.129999995,
         "Country Name": "United Kingdom of Great Britain & Northern Ireland",
         "country_code": "GB",
         "city_name": "nan",
         "email": "SFOA@formation.fr",
         "_deepnote_index_column": 20
        },
        {
         "customer_id": "318409",
         "order_date": "02/08/2015",
         "order_id": "HTS-318409-0001",
         "pages_visited": 19,
         "tshirt_category": "Black T-Shirt M",
         "tshirt_price": "19",
         "tshirt_quantity": 1,
         "user_agent": "Mozilla/5.0 (Macintosh| Intel Mac OS X 10_12_3) AppleWebKit/602.4.8 (KHTML, like Gecko) Version/10.…",
         "customerID": "nan",
         "gender": "nan",
         "birthdate": "nan",
         "ip_address": "nan",
         "latitude": "nan",
         "longitude": "nan",
         "Country Name": "nan",
         "country_code": "nan",
         "city_name": "nan",
         "email": "nan",
         "_deepnote_index_column": 21
        },
        {
         "customer_id": "964210",
         "order_date": "15/09/2014",
         "order_id": "HTS-964210-0002",
         "pages_visited": 6,
         "tshirt_category": "Black T-Shirt F",
         "tshirt_price": "17,5",
         "tshirt_quantity": 1,
         "user_agent": "Mozilla/5.0 (Windows NT 6.1| Win64| x64) AppleWebKit/537.36 (KHTML, like Gecko) Chrome/56.0.2924.87…",
         "customerID": "nan",
         "gender": "nan",
         "birthdate": "nan",
         "ip_address": "nan",
         "latitude": "nan",
         "longitude": "nan",
         "Country Name": "nan",
         "country_code": "nan",
         "city_name": "nan",
         "email": "nan",
         "_deepnote_index_column": 22
        },
        {
         "customer_id": "162811",
         "order_date": "23/06/2015",
         "order_id": "HTS-162811-0002",
         "pages_visited": 6,
         "tshirt_category": "Black T-Shirt M",
         "tshirt_price": "19",
         "tshirt_quantity": 3,
         "user_agent": "Mozilla/5.0 (Windows NT 6.1| WOW64| rv:51.0) Gecko/20100101 Firefox/51.0",
         "customerID": "nan",
         "gender": "nan",
         "birthdate": "nan",
         "ip_address": "nan",
         "latitude": "nan",
         "longitude": "nan",
         "Country Name": "nan",
         "country_code": "nan",
         "city_name": "nan",
         "email": "nan",
         "_deepnote_index_column": 23
        },
        {
         "customer_id": "760379",
         "order_date": "26/08/2013",
         "order_id": "HTS-760379-0001",
         "pages_visited": 14,
         "tshirt_category": "Hoodie",
         "tshirt_price": "23",
         "tshirt_quantity": 1,
         "user_agent": "Mozilla/5.0 (Windows NT 10.0| WOW64| rv:51.0) Gecko/20100101 Firefox/51.0",
         "customerID": "nan",
         "gender": "nan",
         "birthdate": "nan",
         "ip_address": "nan",
         "latitude": "nan",
         "longitude": "nan",
         "Country Name": "nan",
         "country_code": "nan",
         "city_name": "nan",
         "email": "nan",
         "_deepnote_index_column": 24
        },
        {
         "customer_id": "710433",
         "order_date": "28/01/2015",
         "order_id": "HTS-710433-0001",
         "pages_visited": 11,
         "tshirt_category": "White T-Shirt F",
         "tshirt_price": "18",
         "tshirt_quantity": 1,
         "user_agent": "Mozilla/5.0 (Windows NT 6.1| WOW64) AppleWebKit/537.36 (KHTML, like Gecko) Chrome/56.0.2924.87 Safa…",
         "customerID": "nan",
         "gender": "nan",
         "birthdate": "nan",
         "ip_address": "nan",
         "latitude": "nan",
         "longitude": "nan",
         "Country Name": "nan",
         "country_code": "nan",
         "city_name": "nan",
         "email": "nan",
         "_deepnote_index_column": 25
        },
        {
         "customer_id": "kuqsq1",
         "order_date": "06/12/2016",
         "order_id": "HTS-kuqsq1-0002",
         "pages_visited": 16,
         "tshirt_category": "Black T-Shirt F",
         "tshirt_price": "17,5",
         "tshirt_quantity": 1,
         "user_agent": "Mozilla/5.0 (Windows NT 10.0| Win64| x64) AppleWebKit/537.36 (KHTML, like Gecko) Chrome/56.0.2924.8…",
         "customerID": "kuqsq1",
         "gender": "F",
         "birthdate": "1951-05-09 00:00:00",
         "ip_address": "119.206.205.10",
         "latitude": 37.5699997,
         "longitude": 126.9800034,
         "Country Name": "Korea, Republic of",
         "country_code": "KR",
         "city_name": "nan",
         "email": "MXWF@formation.fr",
         "_deepnote_index_column": 26
        }
       ],
       "rows_bottom": [
        {
         "customer_id": "744898",
         "order_date": "18/02/2015",
         "order_id": "HTS-744898-0003",
         "pages_visited": 8,
         "tshirt_category": "Tennis Shirt",
         "tshirt_price": "24",
         "tshirt_quantity": 2,
         "user_agent": "Mozilla/5.0 (Windows NT 6.1| WOW64) AppleWebKit/537.36 (KHTML, like Gecko) Chrome/56.0.2924.87 Safa…",
         "customerID": "nan",
         "gender": "nan",
         "birthdate": "nan",
         "ip_address": "nan",
         "latitude": "nan",
         "longitude": "nan",
         "Country Name": "nan",
         "country_code": "nan",
         "city_name": "nan",
         "email": "nan",
         "_deepnote_index_column": 12893
        },
        {
         "customer_id": "27163",
         "order_date": "03/12/2015",
         "order_id": "HTS-027163-0003",
         "pages_visited": 11,
         "tshirt_category": "Tennis Shirt",
         "tshirt_price": "24",
         "tshirt_quantity": 1,
         "user_agent": "Mozilla/5.0 (Windows NT 6.1| WOW64) AppleWebKit/537.36 (KHTML, like Gecko) Chrome/56.0.2924.87 Safa…",
         "customerID": "nan",
         "gender": "nan",
         "birthdate": "nan",
         "ip_address": "nan",
         "latitude": "nan",
         "longitude": "nan",
         "Country Name": "nan",
         "country_code": "nan",
         "city_name": "nan",
         "email": "nan",
         "_deepnote_index_column": 12894
        },
        {
         "customer_id": "8nc81b",
         "order_date": "25/02/2016",
         "order_id": "HTS-8nc81b-0002",
         "pages_visited": 12,
         "tshirt_category": "Tennis Shirt",
         "tshirt_price": "24",
         "tshirt_quantity": 4,
         "user_agent": "Mozilla/5.0 (Windows NT 6.1| WOW64) AppleWebKit/537.36 (KHTML, like Gecko) Chrome/56.0.2924.87 Safa…",
         "customerID": "nan",
         "gender": "nan",
         "birthdate": "nan",
         "ip_address": "nan",
         "latitude": "nan",
         "longitude": "nan",
         "Country Name": "nan",
         "country_code": "nan",
         "city_name": "nan",
         "email": "nan",
         "_deepnote_index_column": 12895
        },
        {
         "customer_id": "tq6ry2",
         "order_date": "05/01/2017",
         "order_id": "HTS-tq6ry2-0002",
         "pages_visited": 13,
         "tshirt_category": "Tennis Shirt",
         "tshirt_price": "24",
         "tshirt_quantity": 1,
         "user_agent": "Mozilla/5.0 (Windows NT 6.1| WOW64) AppleWebKit/537.36 (KHTML, like Gecko) Chrome/56.0.2924.87 Safa…",
         "customerID": "nan",
         "gender": "nan",
         "birthdate": "nan",
         "ip_address": "nan",
         "latitude": "nan",
         "longitude": "nan",
         "Country Name": "nan",
         "country_code": "nan",
         "city_name": "nan",
         "email": "nan",
         "_deepnote_index_column": 12896
        },
        {
         "customer_id": "62489",
         "order_date": "22/12/2013",
         "order_id": "HTS-062489-0001",
         "pages_visited": 18,
         "tshirt_category": "Tennis Shirt",
         "tshirt_price": "24",
         "tshirt_quantity": 1,
         "user_agent": "Mozilla/5.0 (Windows NT 6.1| WOW64) AppleWebKit/537.36 (KHTML, like Gecko) Chrome/56.0.2924.87 Safa…",
         "customerID": "nan",
         "gender": "nan",
         "birthdate": "nan",
         "ip_address": "nan",
         "latitude": "nan",
         "longitude": "nan",
         "Country Name": "nan",
         "country_code": "nan",
         "city_name": "nan",
         "email": "nan",
         "_deepnote_index_column": 12897
        },
        {
         "customer_id": "672344",
         "order_date": "19/11/2016",
         "order_id": "HTS-672344-0005",
         "pages_visited": 5,
         "tshirt_category": "Tennis Shirt",
         "tshirt_price": "24",
         "tshirt_quantity": 2,
         "user_agent": "Mozilla/5.0 (Windows NT 6.1| WOW64| rv:51.0) Gecko/20100101 Firefox/51.0",
         "customerID": "nan",
         "gender": "nan",
         "birthdate": "nan",
         "ip_address": "nan",
         "latitude": "nan",
         "longitude": "nan",
         "Country Name": "nan",
         "country_code": "nan",
         "city_name": "nan",
         "email": "nan",
         "_deepnote_index_column": 12898
        },
        {
         "customer_id": "763981",
         "order_date": "25/06/2015",
         "order_id": "HTS-763981-0002",
         "pages_visited": 7,
         "tshirt_category": "Tennis Shirt",
         "tshirt_price": "24",
         "tshirt_quantity": 5,
         "user_agent": "Mozilla/5.0 (Windows NT 6.1| WOW64| rv:51.0) Gecko/20100101 Firefox/51.0",
         "customerID": "nan",
         "gender": "nan",
         "birthdate": "nan",
         "ip_address": "nan",
         "latitude": "nan",
         "longitude": "nan",
         "Country Name": "nan",
         "country_code": "nan",
         "city_name": "nan",
         "email": "nan",
         "_deepnote_index_column": 12899
        },
        {
         "customer_id": "676955",
         "order_date": "25/12/2014",
         "order_id": "HTS-676955-0001",
         "pages_visited": 9,
         "tshirt_category": "Tennis Shirt",
         "tshirt_price": "24",
         "tshirt_quantity": 4,
         "user_agent": "Mozilla/5.0 (Windows NT 6.1| WOW64| rv:51.0) Gecko/20100101 Firefox/51.0",
         "customerID": "nan",
         "gender": "nan",
         "birthdate": "nan",
         "ip_address": "nan",
         "latitude": "nan",
         "longitude": "nan",
         "Country Name": "nan",
         "country_code": "nan",
         "city_name": "nan",
         "email": "nan",
         "_deepnote_index_column": 12900
        },
        {
         "customer_id": "278313",
         "order_date": "09/04/2016",
         "order_id": "HTS-278313-0004",
         "pages_visited": 15,
         "tshirt_category": "Tennis Shirt",
         "tshirt_price": "24",
         "tshirt_quantity": 13,
         "user_agent": "Mozilla/5.0 (Windows NT 6.1| WOW64| rv:51.0) Gecko/20100101 Firefox/51.0",
         "customerID": "nan",
         "gender": "nan",
         "birthdate": "nan",
         "ip_address": "nan",
         "latitude": "nan",
         "longitude": "nan",
         "Country Name": "nan",
         "country_code": "nan",
         "city_name": "nan",
         "email": "nan",
         "_deepnote_index_column": 12901
        },
        {
         "customer_id": "el0sj8",
         "order_date": "12/01/2017",
         "order_id": "HTS-el0sj8-0004",
         "pages_visited": 6,
         "tshirt_category": "Tennis Shirt",
         "tshirt_price": "24",
         "tshirt_quantity": 1,
         "user_agent": "Mozilla/5.0 (Windows NT 6.1| Win64| x64) AppleWebKit/537.36 (KHTML, like Gecko) Chrome/56.0.2924.87…",
         "customerID": "nan",
         "gender": "nan",
         "birthdate": "nan",
         "ip_address": "nan",
         "latitude": "nan",
         "longitude": "nan",
         "Country Name": "nan",
         "country_code": "nan",
         "city_name": "nan",
         "email": "nan",
         "_deepnote_index_column": 12902
        },
        {
         "customer_id": "545790",
         "order_date": "16/07/2015",
         "order_id": "HTS-545790-0005",
         "pages_visited": 6,
         "tshirt_category": "Tennis Shirt",
         "tshirt_price": "24",
         "tshirt_quantity": 3,
         "user_agent": "Mozilla/5.0 (Windows NT 6.1| Win64| x64) AppleWebKit/537.36 (KHTML, like Gecko) Chrome/56.0.2924.87…",
         "customerID": "nan",
         "gender": "nan",
         "birthdate": "nan",
         "ip_address": "nan",
         "latitude": "nan",
         "longitude": "nan",
         "Country Name": "nan",
         "country_code": "nan",
         "city_name": "nan",
         "email": "nan",
         "_deepnote_index_column": 12903
        },
        {
         "customer_id": "585862",
         "order_date": "19/11/2015",
         "order_id": "HTS-585862-0004",
         "pages_visited": 7,
         "tshirt_category": "Tennis Shirt",
         "tshirt_price": "24",
         "tshirt_quantity": 14,
         "user_agent": "Mozilla/5.0 (Windows NT 6.1| Win64| x64) AppleWebKit/537.36 (KHTML, like Gecko) Chrome/56.0.2924.87…",
         "customerID": "nan",
         "gender": "nan",
         "birthdate": "nan",
         "ip_address": "nan",
         "latitude": "nan",
         "longitude": "nan",
         "Country Name": "nan",
         "country_code": "nan",
         "city_name": "nan",
         "email": "nan",
         "_deepnote_index_column": 12904
        },
        {
         "customer_id": "585862",
         "order_date": "17/02/2015",
         "order_id": "HTS-585862-0003",
         "pages_visited": 8,
         "tshirt_category": "Tennis Shirt",
         "tshirt_price": "24",
         "tshirt_quantity": 18,
         "user_agent": "Mozilla/5.0 (Windows NT 6.1| Win64| x64) AppleWebKit/537.36 (KHTML, like Gecko) Chrome/56.0.2924.87…",
         "customerID": "nan",
         "gender": "nan",
         "birthdate": "nan",
         "ip_address": "nan",
         "latitude": "nan",
         "longitude": "nan",
         "Country Name": "nan",
         "country_code": "nan",
         "city_name": "nan",
         "email": "nan",
         "_deepnote_index_column": 12905
        },
        {
         "customer_id": "539658",
         "order_date": "29/12/2015",
         "order_id": "HTS-539658-0003",
         "pages_visited": 9,
         "tshirt_category": "Tennis Shirt",
         "tshirt_price": "24",
         "tshirt_quantity": 6,
         "user_agent": "Mozilla/5.0 (Windows NT 6.1| Win64| x64) AppleWebKit/537.36 (KHTML, like Gecko) Chrome/56.0.2924.87…",
         "customerID": "nan",
         "gender": "nan",
         "birthdate": "nan",
         "ip_address": "nan",
         "latitude": "nan",
         "longitude": "nan",
         "Country Name": "nan",
         "country_code": "nan",
         "city_name": "nan",
         "email": "nan",
         "_deepnote_index_column": 12906
        },
        {
         "customer_id": "187195",
         "order_date": "30/03/2016",
         "order_id": "HTS-187195-0003",
         "pages_visited": 10,
         "tshirt_category": "Tennis Shirt",
         "tshirt_price": "24",
         "tshirt_quantity": 5,
         "user_agent": "Mozilla/5.0 (Windows NT 6.1| Win64| x64) AppleWebKit/537.36 (KHTML, like Gecko) Chrome/56.0.2924.87…",
         "customerID": "nan",
         "gender": "nan",
         "birthdate": "nan",
         "ip_address": "nan",
         "latitude": "nan",
         "longitude": "nan",
         "Country Name": "nan",
         "country_code": "nan",
         "city_name": "nan",
         "email": "nan",
         "_deepnote_index_column": 12907
        },
        {
         "customer_id": "449243",
         "order_date": "09/06/2016",
         "order_id": "HTS-449243-0002",
         "pages_visited": 11,
         "tshirt_category": "Tennis Shirt",
         "tshirt_price": "24",
         "tshirt_quantity": 1,
         "user_agent": "Mozilla/5.0 (Windows NT 6.1| Win64| x64) AppleWebKit/537.36 (KHTML, like Gecko) Chrome/56.0.2924.87…",
         "customerID": "nan",
         "gender": "nan",
         "birthdate": "nan",
         "ip_address": "nan",
         "latitude": "nan",
         "longitude": "nan",
         "Country Name": "nan",
         "country_code": "nan",
         "city_name": "nan",
         "email": "nan",
         "_deepnote_index_column": 12908
        },
        {
         "customer_id": "83318",
         "order_date": "01/08/2016",
         "order_id": "HTS-083318-0005",
         "pages_visited": 11,
         "tshirt_category": "Tennis Shirt",
         "tshirt_price": "24",
         "tshirt_quantity": 2,
         "user_agent": "Mozilla/5.0 (Windows NT 6.1| Win64| x64) AppleWebKit/537.36 (KHTML, like Gecko) Chrome/56.0.2924.87…",
         "customerID": "nan",
         "gender": "nan",
         "birthdate": "nan",
         "ip_address": "nan",
         "latitude": "nan",
         "longitude": "nan",
         "Country Name": "nan",
         "country_code": "nan",
         "city_name": "nan",
         "email": "nan",
         "_deepnote_index_column": 12909
        },
        {
         "customer_id": "453848",
         "order_date": "18/07/2013",
         "order_id": "HTS-453848-0001",
         "pages_visited": 11,
         "tshirt_category": "Tennis Shirt",
         "tshirt_price": "24",
         "tshirt_quantity": 3,
         "user_agent": "Mozilla/5.0 (Windows NT 6.1| Win64| x64) AppleWebKit/537.36 (KHTML, like Gecko) Chrome/56.0.2924.87…",
         "customerID": "nan",
         "gender": "nan",
         "birthdate": "nan",
         "ip_address": "nan",
         "latitude": "nan",
         "longitude": "nan",
         "Country Name": "nan",
         "country_code": "nan",
         "city_name": "nan",
         "email": "nan",
         "_deepnote_index_column": 12910
        },
        {
         "customer_id": "83318",
         "order_date": "28/02/2015",
         "order_id": "HTS-083318-0003",
         "pages_visited": 12,
         "tshirt_category": "Tennis Shirt",
         "tshirt_price": "24",
         "tshirt_quantity": 3,
         "user_agent": "Mozilla/5.0 (Windows NT 6.1| Win64| x64) AppleWebKit/537.36 (KHTML, like Gecko) Chrome/56.0.2924.87…",
         "customerID": "nan",
         "gender": "nan",
         "birthdate": "nan",
         "ip_address": "nan",
         "latitude": "nan",
         "longitude": "nan",
         "Country Name": "nan",
         "country_code": "nan",
         "city_name": "nan",
         "email": "nan",
         "_deepnote_index_column": 12911
        },
        {
         "customer_id": "287913",
         "order_date": "25/12/2014",
         "order_id": "HTS-287913-0002",
         "pages_visited": 11,
         "tshirt_category": "Tennis Shirt",
         "tshirt_price": "24",
         "tshirt_quantity": 1,
         "user_agent": "Mozilla/5.0 (Windows NT 6.3| WOW64) AppleWebKit/537.36 (KHTML, like Gecko) Chrome/56.0.2924.87 Safa…",
         "customerID": "nan",
         "gender": "nan",
         "birthdate": "nan",
         "ip_address": "nan",
         "latitude": "nan",
         "longitude": "nan",
         "Country Name": "nan",
         "country_code": "nan",
         "city_name": "nan",
         "email": "nan",
         "_deepnote_index_column": 12912
        },
        {
         "customer_id": "534599",
         "order_date": "23/06/2014",
         "order_id": "HTS-534599-0001",
         "pages_visited": 9,
         "tshirt_category": "Tennis Shirt",
         "tshirt_price": "24",
         "tshirt_quantity": 3,
         "user_agent": "Mozilla/5.0 (X11| Linux x86_64) AppleWebKit/537.36 (KHTML, like Gecko) Chrome/56.0.2924.87 Safari/5…",
         "customerID": "nan",
         "gender": "nan",
         "birthdate": "nan",
         "ip_address": "nan",
         "latitude": "nan",
         "longitude": "nan",
         "Country Name": "nan",
         "country_code": "nan",
         "city_name": "nan",
         "email": "nan",
         "_deepnote_index_column": 12913
        },
        {
         "customer_id": "467894",
         "order_date": "14/10/2015",
         "order_id": "HTS-467894-0003",
         "pages_visited": 11,
         "tshirt_category": "Tennis Shirt",
         "tshirt_price": "24",
         "tshirt_quantity": 1,
         "user_agent": "Mozilla/5.0 (X11| Linux x86_64) AppleWebKit/537.36 (KHTML, like Gecko) Chrome/56.0.2924.87 Safari/5…",
         "customerID": "nan",
         "gender": "nan",
         "birthdate": "nan",
         "ip_address": "nan",
         "latitude": "nan",
         "longitude": "nan",
         "Country Name": "nan",
         "country_code": "nan",
         "city_name": "nan",
         "email": "nan",
         "_deepnote_index_column": 12914
        },
        {
         "customer_id": "371776",
         "order_date": "04/05/2015",
         "order_id": "HTS-371776-0002",
         "pages_visited": 16,
         "tshirt_category": "Tennis Shirt",
         "tshirt_price": "24",
         "tshirt_quantity": 2,
         "user_agent": "Mozilla/5.0 (X11| Linux x86_64) AppleWebKit/537.36 (KHTML, like Gecko) Chrome/56.0.2924.87 Safari/5…",
         "customerID": "nan",
         "gender": "nan",
         "birthdate": "nan",
         "ip_address": "nan",
         "latitude": "nan",
         "longitude": "nan",
         "Country Name": "nan",
         "country_code": "nan",
         "city_name": "nan",
         "email": "nan",
         "_deepnote_index_column": 12915
        },
        {
         "customer_id": "0b59cn",
         "order_date": "12/12/2016",
         "order_id": "HTS-0b59cn-0004",
         "pages_visited": 8,
         "tshirt_category": "Tennis Shirt",
         "tshirt_price": "24",
         "tshirt_quantity": 5,
         "user_agent": "Mozilla/5.0 (X11| Ubuntu| Linux x86_64| rv:51.0) Gecko/20100101 Firefox/51.0",
         "customerID": "nan",
         "gender": "nan",
         "birthdate": "nan",
         "ip_address": "nan",
         "latitude": "nan",
         "longitude": "nan",
         "Country Name": "nan",
         "country_code": "nan",
         "city_name": "nan",
         "email": "nan",
         "_deepnote_index_column": 12916
        },
        {
         "customer_id": "357322",
         "order_date": "10/12/2016",
         "order_id": "HTS-357322-0007",
         "pages_visited": 5,
         "tshirt_category": "Tennis Shirt",
         "tshirt_price": "24",
         "tshirt_quantity": 3,
         "user_agent": "Mozilla/5.0 (Windows NT 10.0| WOW64) AppleWebKit/537.36 (KHTML, like Gecko) Chrome/56.0.2924.87 Saf…",
         "customerID": "nan",
         "gender": "nan",
         "birthdate": "nan",
         "ip_address": "nan",
         "latitude": "nan",
         "longitude": "nan",
         "Country Name": "nan",
         "country_code": "nan",
         "city_name": "nan",
         "email": "nan",
         "_deepnote_index_column": 12917
        },
        {
         "customer_id": "l8c64t",
         "order_date": "01/03/2017",
         "order_id": "HTS-l8c64t-0003",
         "pages_visited": 7,
         "tshirt_category": "Tennis Shirt",
         "tshirt_price": "24",
         "tshirt_quantity": 2,
         "user_agent": "Mozilla/5.0 (Windows NT 10.0| WOW64| rv:52.0) Gecko/20100101 Firefox/52.0",
         "customerID": "nan",
         "gender": "nan",
         "birthdate": "nan",
         "ip_address": "nan",
         "latitude": "nan",
         "longitude": "nan",
         "Country Name": "nan",
         "country_code": "nan",
         "city_name": "nan",
         "email": "nan",
         "_deepnote_index_column": 12918
        },
        {
         "customer_id": "946557",
         "order_date": "21/07/2016",
         "order_id": "HTS-946557-0005",
         "pages_visited": 5,
         "tshirt_category": "Tennis Shirt",
         "tshirt_price": "24",
         "tshirt_quantity": 2,
         "user_agent": "Mozilla/5.0 (Windows NT 10.0| Win64| x64) AppleWebKit/537.36 (KHTML, like Gecko) Chrome/56.0.2924.8…",
         "customerID": "nan",
         "gender": "nan",
         "birthdate": "nan",
         "ip_address": "nan",
         "latitude": "nan",
         "longitude": "nan",
         "Country Name": "nan",
         "country_code": "nan",
         "city_name": "nan",
         "email": "nan",
         "_deepnote_index_column": 12919
        },
        {
         "customer_id": "1bhyje",
         "order_date": "22/06/2016",
         "order_id": "HTS-1bhyje-0002",
         "pages_visited": 17,
         "tshirt_category": "Tennis Shirt",
         "tshirt_price": "24",
         "tshirt_quantity": 1,
         "user_agent": "Mozilla/5.0 (X11| Linux x86_64) AppleWebKit/537.36 (KHTML, like Gecko) Chrome/56.0.2924.87 Safari/5…",
         "customerID": "nan",
         "gender": "nan",
         "birthdate": "nan",
         "ip_address": "nan",
         "latitude": "nan",
         "longitude": "nan",
         "Country Name": "nan",
         "country_code": "nan",
         "city_name": "nan",
         "email": "nan",
         "_deepnote_index_column": 12920
        }
       ]
      },
      "text/plain": "      customer_id  order_date         order_id  pages_visited  \\\n0           38040  04/09/2016  HTS-038040-0002              9   \n1          vft1eu  26/02/2017  HTS-vft1eu-0003             10   \n2          914324  01/12/2013  HTS-914324-0001             10   \n3           61311  15/01/2016  HTS-061311-0003              9   \n4          494332  03/11/2013  HTS-494332-0001             10   \n...           ...         ...              ...            ...   \n12916      0b59cn  12/12/2016  HTS-0b59cn-0004              8   \n12917      357322  10/12/2016  HTS-357322-0007              5   \n12918      l8c64t  01/03/2017  HTS-l8c64t-0003              7   \n12919      946557  21/07/2016  HTS-946557-0005              5   \n12920      1bhyje  22/06/2016  HTS-1bhyje-0002             17   \n\n       tshirt_category tshirt_price  tshirt_quantity  \\\n0      White T-Shirt M           20                1   \n1      White T-Shirt F           18                3   \n2          Wh Tshirt F           18                1   \n3      Black T-Shirt F         17,5                4   \n4          Wh Tshirt F           18                2   \n...                ...          ...              ...   \n12916     Tennis Shirt           24                5   \n12917     Tennis Shirt           24                3   \n12918     Tennis Shirt           24                2   \n12919     Tennis Shirt           24                2   \n12920     Tennis Shirt           24                1   \n\n                                              user_agent customerID gender  \\\n0      Mozilla/5.0 (Windows NT 10.0| WOW64) AppleWebK...        NaN    NaN   \n1      Mozilla/5.0 (Macintosh| Intel Mac OS X 10_12_3...     vft1eu      F   \n2      Mozilla/5.0 (Windows NT 10.0| WOW64) AppleWebK...        NaN    NaN   \n3      Mozilla/5.0 (Macintosh| Intel Mac OS X 10_12_3...        NaN    NaN   \n4      Mozilla/5.0 (Macintosh| Intel Mac OS X 10_11_6...        NaN    NaN   \n...                                                  ...        ...    ...   \n12916  Mozilla/5.0 (X11| Ubuntu| Linux x86_64| rv:51....        NaN    NaN   \n12917  Mozilla/5.0 (Windows NT 10.0| WOW64) AppleWebK...        NaN    NaN   \n12918  Mozilla/5.0 (Windows NT 10.0| WOW64| rv:52.0) ...        NaN    NaN   \n12919  Mozilla/5.0 (Windows NT 10.0| Win64| x64) Appl...        NaN    NaN   \n12920  Mozilla/5.0 (X11| Linux x86_64) AppleWebKit/53...        NaN    NaN   \n\n                 birthdate    ip_address  latitude  longitude  \\\n0                      NaN           NaN       NaN        NaN   \n1      1969-06-27 00:00:00  53.115.6.106      51.0        9.0   \n2                      NaN           NaN       NaN        NaN   \n3                      NaN           NaN       NaN        NaN   \n4                      NaN           NaN       NaN        NaN   \n...                    ...           ...       ...        ...   \n12916                  NaN           NaN       NaN        NaN   \n12917                  NaN           NaN       NaN        NaN   \n12918                  NaN           NaN       NaN        NaN   \n12919                  NaN           NaN       NaN        NaN   \n12920                  NaN           NaN       NaN        NaN   \n\n                       Country Name country_code city_name              email  \n0                               NaN          NaN       NaN                NaN  \n1      Germany, Federal Republic of           DE       NaN  HEOX@formation.fr  \n2                               NaN          NaN       NaN                NaN  \n3                               NaN          NaN       NaN                NaN  \n4                               NaN          NaN       NaN                NaN  \n...                             ...          ...       ...                ...  \n12916                           NaN          NaN       NaN                NaN  \n12917                           NaN          NaN       NaN                NaN  \n12918                           NaN          NaN       NaN                NaN  \n12919                           NaN          NaN       NaN                NaN  \n12920                           NaN          NaN       NaN                NaN  \n\n[12921 rows x 18 columns]",
      "text/html": "<div>\n<style scoped>\n    .dataframe tbody tr th:only-of-type {\n        vertical-align: middle;\n    }\n\n    .dataframe tbody tr th {\n        vertical-align: top;\n    }\n\n    .dataframe thead th {\n        text-align: right;\n    }\n</style>\n<table border=\"1\" class=\"dataframe\">\n  <thead>\n    <tr style=\"text-align: right;\">\n      <th></th>\n      <th>customer_id</th>\n      <th>order_date</th>\n      <th>order_id</th>\n      <th>pages_visited</th>\n      <th>tshirt_category</th>\n      <th>tshirt_price</th>\n      <th>tshirt_quantity</th>\n      <th>user_agent</th>\n      <th>customerID</th>\n      <th>gender</th>\n      <th>birthdate</th>\n      <th>ip_address</th>\n      <th>latitude</th>\n      <th>longitude</th>\n      <th>Country Name</th>\n      <th>country_code</th>\n      <th>city_name</th>\n      <th>email</th>\n    </tr>\n  </thead>\n  <tbody>\n    <tr>\n      <th>0</th>\n      <td>38040</td>\n      <td>04/09/2016</td>\n      <td>HTS-038040-0002</td>\n      <td>9</td>\n      <td>White T-Shirt M</td>\n      <td>20</td>\n      <td>1</td>\n      <td>Mozilla/5.0 (Windows NT 10.0| WOW64) AppleWebK...</td>\n      <td>NaN</td>\n      <td>NaN</td>\n      <td>NaN</td>\n      <td>NaN</td>\n      <td>NaN</td>\n      <td>NaN</td>\n      <td>NaN</td>\n      <td>NaN</td>\n      <td>NaN</td>\n      <td>NaN</td>\n    </tr>\n    <tr>\n      <th>1</th>\n      <td>vft1eu</td>\n      <td>26/02/2017</td>\n      <td>HTS-vft1eu-0003</td>\n      <td>10</td>\n      <td>White T-Shirt F</td>\n      <td>18</td>\n      <td>3</td>\n      <td>Mozilla/5.0 (Macintosh| Intel Mac OS X 10_12_3...</td>\n      <td>vft1eu</td>\n      <td>F</td>\n      <td>1969-06-27 00:00:00</td>\n      <td>53.115.6.106</td>\n      <td>51.0</td>\n      <td>9.0</td>\n      <td>Germany, Federal Republic of</td>\n      <td>DE</td>\n      <td>NaN</td>\n      <td>HEOX@formation.fr</td>\n    </tr>\n    <tr>\n      <th>2</th>\n      <td>914324</td>\n      <td>01/12/2013</td>\n      <td>HTS-914324-0001</td>\n      <td>10</td>\n      <td>Wh Tshirt F</td>\n      <td>18</td>\n      <td>1</td>\n      <td>Mozilla/5.0 (Windows NT 10.0| WOW64) AppleWebK...</td>\n      <td>NaN</td>\n      <td>NaN</td>\n      <td>NaN</td>\n      <td>NaN</td>\n      <td>NaN</td>\n      <td>NaN</td>\n      <td>NaN</td>\n      <td>NaN</td>\n      <td>NaN</td>\n      <td>NaN</td>\n    </tr>\n    <tr>\n      <th>3</th>\n      <td>61311</td>\n      <td>15/01/2016</td>\n      <td>HTS-061311-0003</td>\n      <td>9</td>\n      <td>Black T-Shirt F</td>\n      <td>17,5</td>\n      <td>4</td>\n      <td>Mozilla/5.0 (Macintosh| Intel Mac OS X 10_12_3...</td>\n      <td>NaN</td>\n      <td>NaN</td>\n      <td>NaN</td>\n      <td>NaN</td>\n      <td>NaN</td>\n      <td>NaN</td>\n      <td>NaN</td>\n      <td>NaN</td>\n      <td>NaN</td>\n      <td>NaN</td>\n    </tr>\n    <tr>\n      <th>4</th>\n      <td>494332</td>\n      <td>03/11/2013</td>\n      <td>HTS-494332-0001</td>\n      <td>10</td>\n      <td>Wh Tshirt F</td>\n      <td>18</td>\n      <td>2</td>\n      <td>Mozilla/5.0 (Macintosh| Intel Mac OS X 10_11_6...</td>\n      <td>NaN</td>\n      <td>NaN</td>\n      <td>NaN</td>\n      <td>NaN</td>\n      <td>NaN</td>\n      <td>NaN</td>\n      <td>NaN</td>\n      <td>NaN</td>\n      <td>NaN</td>\n      <td>NaN</td>\n    </tr>\n    <tr>\n      <th>...</th>\n      <td>...</td>\n      <td>...</td>\n      <td>...</td>\n      <td>...</td>\n      <td>...</td>\n      <td>...</td>\n      <td>...</td>\n      <td>...</td>\n      <td>...</td>\n      <td>...</td>\n      <td>...</td>\n      <td>...</td>\n      <td>...</td>\n      <td>...</td>\n      <td>...</td>\n      <td>...</td>\n      <td>...</td>\n      <td>...</td>\n    </tr>\n    <tr>\n      <th>12916</th>\n      <td>0b59cn</td>\n      <td>12/12/2016</td>\n      <td>HTS-0b59cn-0004</td>\n      <td>8</td>\n      <td>Tennis Shirt</td>\n      <td>24</td>\n      <td>5</td>\n      <td>Mozilla/5.0 (X11| Ubuntu| Linux x86_64| rv:51....</td>\n      <td>NaN</td>\n      <td>NaN</td>\n      <td>NaN</td>\n      <td>NaN</td>\n      <td>NaN</td>\n      <td>NaN</td>\n      <td>NaN</td>\n      <td>NaN</td>\n      <td>NaN</td>\n      <td>NaN</td>\n    </tr>\n    <tr>\n      <th>12917</th>\n      <td>357322</td>\n      <td>10/12/2016</td>\n      <td>HTS-357322-0007</td>\n      <td>5</td>\n      <td>Tennis Shirt</td>\n      <td>24</td>\n      <td>3</td>\n      <td>Mozilla/5.0 (Windows NT 10.0| WOW64) AppleWebK...</td>\n      <td>NaN</td>\n      <td>NaN</td>\n      <td>NaN</td>\n      <td>NaN</td>\n      <td>NaN</td>\n      <td>NaN</td>\n      <td>NaN</td>\n      <td>NaN</td>\n      <td>NaN</td>\n      <td>NaN</td>\n    </tr>\n    <tr>\n      <th>12918</th>\n      <td>l8c64t</td>\n      <td>01/03/2017</td>\n      <td>HTS-l8c64t-0003</td>\n      <td>7</td>\n      <td>Tennis Shirt</td>\n      <td>24</td>\n      <td>2</td>\n      <td>Mozilla/5.0 (Windows NT 10.0| WOW64| rv:52.0) ...</td>\n      <td>NaN</td>\n      <td>NaN</td>\n      <td>NaN</td>\n      <td>NaN</td>\n      <td>NaN</td>\n      <td>NaN</td>\n      <td>NaN</td>\n      <td>NaN</td>\n      <td>NaN</td>\n      <td>NaN</td>\n    </tr>\n    <tr>\n      <th>12919</th>\n      <td>946557</td>\n      <td>21/07/2016</td>\n      <td>HTS-946557-0005</td>\n      <td>5</td>\n      <td>Tennis Shirt</td>\n      <td>24</td>\n      <td>2</td>\n      <td>Mozilla/5.0 (Windows NT 10.0| Win64| x64) Appl...</td>\n      <td>NaN</td>\n      <td>NaN</td>\n      <td>NaN</td>\n      <td>NaN</td>\n      <td>NaN</td>\n      <td>NaN</td>\n      <td>NaN</td>\n      <td>NaN</td>\n      <td>NaN</td>\n      <td>NaN</td>\n    </tr>\n    <tr>\n      <th>12920</th>\n      <td>1bhyje</td>\n      <td>22/06/2016</td>\n      <td>HTS-1bhyje-0002</td>\n      <td>17</td>\n      <td>Tennis Shirt</td>\n      <td>24</td>\n      <td>1</td>\n      <td>Mozilla/5.0 (X11| Linux x86_64) AppleWebKit/53...</td>\n      <td>NaN</td>\n      <td>NaN</td>\n      <td>NaN</td>\n      <td>NaN</td>\n      <td>NaN</td>\n      <td>NaN</td>\n      <td>NaN</td>\n      <td>NaN</td>\n      <td>NaN</td>\n      <td>NaN</td>\n    </tr>\n  </tbody>\n</table>\n<p>12921 rows × 18 columns</p>\n</div>"
     },
     "metadata": {}
    }
   ]
  },
  {
   "cell_type": "markdown",
   "source": "### 2.2.2 Merging Vente/Client with the Country datasets",
   "metadata": {
    "tags": [],
    "is_collapsed": false,
    "cell_id": "00030-7b3089eb-5e90-4528-adf5-aeac4426f59b",
    "deepnote_cell_type": "text-cell-h3"
   }
  },
  {
   "cell_type": "code",
   "metadata": {
    "tags": [],
    "cell_id": "00031-2ee98c05-5da6-493f-853d-778a5bd3c5af",
    "deepnote_to_be_reexecuted": false,
    "source_hash": "d8cf838b",
    "execution_start": 1629384015114,
    "execution_millis": 22,
    "deepnote_cell_type": "code"
   },
   "source": "print(df_final.shape)\nprint(df_country.shape)",
   "execution_count": null,
   "outputs": [
    {
     "name": "stdout",
     "text": "(12921, 30)\n(254, 6)\n",
     "output_type": "stream"
    }
   ]
  },
  {
   "cell_type": "code",
   "metadata": {
    "tags": [],
    "cell_id": "00032-44a16327-de20-47ad-92a9-d994e4cbe057",
    "deepnote_to_be_reexecuted": false,
    "source_hash": "7bb0f40e",
    "execution_start": 1629384021336,
    "execution_millis": 30,
    "deepnote_cell_type": "code"
   },
   "source": "list(df_country)",
   "execution_count": null,
   "outputs": [
    {
     "output_type": "execute_result",
     "execution_count": 34,
     "data": {
      "text/plain": "['Continent_Name',\n 'Continent_Code',\n 'Country_Name',\n 'Two_Letter_Country_Code',\n 'Three_Letter_Country_Code',\n 'Country_Number']"
     },
     "metadata": {}
    }
   ]
  },
  {
   "cell_type": "code",
   "metadata": {
    "tags": [],
    "cell_id": "00032-a478b72f-512b-4a2e-8bf8-4dbb56d2c4c9",
    "deepnote_to_be_reexecuted": false,
    "source_hash": "60f36b4c",
    "execution_start": 1629383968681,
    "execution_millis": 18,
    "deepnote_cell_type": "code"
   },
   "source": "df_final = pd.merge(df_final, df_country, left_on=\"country_code\", right_on=\"Two_Letter_Country_Code\", how = \"left\")",
   "execution_count": null,
   "outputs": []
  },
  {
   "cell_type": "code",
   "metadata": {
    "tags": [],
    "cell_id": "00033-646867f0-84c0-4bde-b6cc-0920be5cbecf",
    "deepnote_to_be_reexecuted": false,
    "source_hash": "ea2727b7",
    "execution_start": 1629383985562,
    "execution_millis": 29,
    "deepnote_cell_type": "code"
   },
   "source": "print(df_final.shape)",
   "execution_count": null,
   "outputs": [
    {
     "name": "stdout",
     "text": "(12921, 30)\n",
     "output_type": "stream"
    }
   ]
  },
  {
   "cell_type": "code",
   "metadata": {
    "tags": [],
    "cell_id": "00033-99c8a5e5-7230-4906-a888-8adcebce5ab0",
    "deepnote_to_be_reexecuted": false,
    "source_hash": "5d0cd32d",
    "execution_start": 1629383986890,
    "execution_millis": 225,
    "is_output_hidden": true,
    "deepnote_cell_type": "code"
   },
   "source": "df_final",
   "execution_count": null,
   "outputs": [
    {
     "output_type": "execute_result",
     "execution_count": 32,
     "data": {
      "application/vnd.deepnote.dataframe.v2+json": {
       "row_count": 12921,
       "column_count": 30,
       "columns": [
        {
         "name": "customer_id",
         "dtype": "object",
         "stats": {
          "unique_count": 5380,
          "nan_count": 0,
          "categories": [
           {
            "name": "536917",
            "count": 13
           },
           {
            "name": "409679",
            "count": 13
           },
           {
            "name": "5378 others",
            "count": 12895
           }
          ]
         }
        },
        {
         "name": "order_date",
         "dtype": "object",
         "stats": {
          "unique_count": 1401,
          "nan_count": 0,
          "categories": [
           {
            "name": "02/11/2015",
            "count": 25
           },
           {
            "name": "05/11/2015",
            "count": 25
           },
           {
            "name": "1399 others",
            "count": 12871
           }
          ]
         }
        },
        {
         "name": "order_id",
         "dtype": "object",
         "stats": {
          "unique_count": 12902,
          "nan_count": 0,
          "categories": [
           {
            "name": "HTS-296958-0001",
            "count": 2
           },
           {
            "name": "HTS-923895-0002",
            "count": 2
           },
           {
            "name": "12900 others",
            "count": 12917
           }
          ]
         }
        },
        {
         "name": "pages_visited",
         "dtype": "int64",
         "stats": {
          "unique_count": 25,
          "nan_count": 0,
          "min": "2",
          "max": "28",
          "histogram": [
           {
            "bin_start": 2,
            "bin_end": 4.6,
            "count": 394
           },
           {
            "bin_start": 4.6,
            "bin_end": 7.2,
            "count": 2004
           },
           {
            "bin_start": 7.2,
            "bin_end": 9.8,
            "count": 2495
           },
           {
            "bin_start": 9.8,
            "bin_end": 12.4,
            "count": 4063
           },
           {
            "bin_start": 12.4,
            "bin_end": 15,
            "count": 1990
           },
           {
            "bin_start": 15,
            "bin_end": 17.6,
            "count": 1513
           },
           {
            "bin_start": 17.6,
            "bin_end": 20.2,
            "count": 376
           },
           {
            "bin_start": 20.2,
            "bin_end": 22.8,
            "count": 60
           },
           {
            "bin_start": 22.8,
            "bin_end": 25.400000000000002,
            "count": 25
           },
           {
            "bin_start": 25.400000000000002,
            "bin_end": 28,
            "count": 1
           }
          ]
         }
        },
        {
         "name": "tshirt_category",
         "dtype": "object",
         "stats": {
          "unique_count": 10,
          "nan_count": 0,
          "categories": [
           {
            "name": "Hoodie",
            "count": 3047
           },
           {
            "name": "White T-Shirt M",
            "count": 2717
           },
           {
            "name": "8 others",
            "count": 7157
           }
          ]
         }
        },
        {
         "name": "tshirt_price",
         "dtype": "object",
         "stats": {
          "unique_count": 6,
          "nan_count": 0,
          "categories": [
           {
            "name": "23",
            "count": 3047
           },
           {
            "name": "20",
            "count": 2955
           },
           {
            "name": "4 others",
            "count": 6919
           }
          ]
         }
        },
        {
         "name": "tshirt_quantity",
         "dtype": "int64",
         "stats": {
          "unique_count": 28,
          "nan_count": 0,
          "min": "1",
          "max": "29",
          "histogram": [
           {
            "bin_start": 1,
            "bin_end": 3.8,
            "count": 10651
           },
           {
            "bin_start": 3.8,
            "bin_end": 6.6,
            "count": 1459
           },
           {
            "bin_start": 6.6,
            "bin_end": 9.399999999999999,
            "count": 181
           },
           {
            "bin_start": 9.399999999999999,
            "bin_end": 12.2,
            "count": 122
           },
           {
            "bin_start": 12.2,
            "bin_end": 15,
            "count": 116
           },
           {
            "bin_start": 15,
            "bin_end": 17.799999999999997,
            "count": 170
           },
           {
            "bin_start": 17.799999999999997,
            "bin_end": 20.599999999999998,
            "count": 126
           },
           {
            "bin_start": 20.599999999999998,
            "bin_end": 23.4,
            "count": 65
           },
           {
            "bin_start": 23.4,
            "bin_end": 26.2,
            "count": 27
           },
           {
            "bin_start": 26.2,
            "bin_end": 29,
            "count": 4
           }
          ]
         }
        },
        {
         "name": "user_agent",
         "dtype": "object"
        },
        {
         "name": "customerID",
         "dtype": "object"
        },
        {
         "name": "gender",
         "dtype": "object"
        },
        {
         "name": "birthdate",
         "dtype": "object"
        },
        {
         "name": "ip_address",
         "dtype": "object"
        },
        {
         "name": "latitude",
         "dtype": "float64"
        },
        {
         "name": "longitude",
         "dtype": "float64"
        },
        {
         "name": "Country Name",
         "dtype": "object"
        },
        {
         "name": "country_code",
         "dtype": "object"
        },
        {
         "name": "city_name",
         "dtype": "object"
        },
        {
         "name": "email",
         "dtype": "object"
        },
        {
         "name": "Continent_Name_x",
         "dtype": "object"
        },
        {
         "name": "Continent_Code_x",
         "dtype": "object"
        },
        {
         "name": "Country_Name_x",
         "dtype": "object"
        },
        {
         "name": "Two_Letter_Country_Code_x",
         "dtype": "object"
        },
        {
         "name": "Three_Letter_Country_Code_x",
         "dtype": "object"
        },
        {
         "name": "Country_Number_x",
         "dtype": "float64"
        },
        {
         "name": "Continent_Name_y",
         "dtype": "object"
        },
        {
         "name": "Continent_Code_y",
         "dtype": "object"
        },
        {
         "name": "Country_Name_y",
         "dtype": "object"
        },
        {
         "name": "Two_Letter_Country_Code_y",
         "dtype": "object"
        },
        {
         "name": "Three_Letter_Country_Code_y",
         "dtype": "object"
        },
        {
         "name": "Country_Number_y",
         "dtype": "float64"
        },
        {
         "name": "_deepnote_index_column",
         "dtype": "int64"
        }
       ],
       "rows_top": [
        {
         "customer_id": "38040",
         "order_date": "04/09/2016",
         "order_id": "HTS-038040-0002",
         "pages_visited": 9,
         "tshirt_category": "White T-Shirt M",
         "tshirt_price": "20",
         "tshirt_quantity": 1,
         "user_agent": "Mozilla/5.0 (Windows NT 10.0| WOW64) AppleWebKit/537.36 (KHTML, like Gecko) Chrome/56.0.2924.87 Saf…",
         "customerID": "nan",
         "gender": "nan",
         "birthdate": "nan",
         "ip_address": "nan",
         "latitude": "nan",
         "longitude": "nan",
         "Country Name": "nan",
         "country_code": "nan",
         "city_name": "nan",
         "email": "nan",
         "Continent_Name_x": "Africa",
         "Continent_Code_x": "AF",
         "Country_Name_x": "Namibia, Republic of",
         "Two_Letter_Country_Code_x": "nan",
         "Three_Letter_Country_Code_x": "NAM",
         "Country_Number_x": 516,
         "Continent_Name_y": "Africa",
         "Continent_Code_y": "AF",
         "Country_Name_y": "Namibia, Republic of",
         "Two_Letter_Country_Code_y": "nan",
         "Three_Letter_Country_Code_y": "NAM",
         "Country_Number_y": 516,
         "_deepnote_index_column": 0
        },
        {
         "customer_id": "914324",
         "order_date": "01/12/2013",
         "order_id": "HTS-914324-0001",
         "pages_visited": 10,
         "tshirt_category": "Wh Tshirt F",
         "tshirt_price": "18",
         "tshirt_quantity": 1,
         "user_agent": "Mozilla/5.0 (Windows NT 10.0| WOW64) AppleWebKit/537.36 (KHTML, like Gecko) Chrome/56.0.2924.87 Saf…",
         "customerID": "nan",
         "gender": "nan",
         "birthdate": "nan",
         "ip_address": "nan",
         "latitude": "nan",
         "longitude": "nan",
         "Country Name": "nan",
         "country_code": "nan",
         "city_name": "nan",
         "email": "nan",
         "Continent_Name_x": "Africa",
         "Continent_Code_x": "AF",
         "Country_Name_x": "Namibia, Republic of",
         "Two_Letter_Country_Code_x": "nan",
         "Three_Letter_Country_Code_x": "NAM",
         "Country_Number_x": 516,
         "Continent_Name_y": "Africa",
         "Continent_Code_y": "AF",
         "Country_Name_y": "Namibia, Republic of",
         "Two_Letter_Country_Code_y": "nan",
         "Three_Letter_Country_Code_y": "NAM",
         "Country_Number_y": 516,
         "_deepnote_index_column": 1
        },
        {
         "customer_id": "61311",
         "order_date": "15/01/2016",
         "order_id": "HTS-061311-0003",
         "pages_visited": 9,
         "tshirt_category": "Black T-Shirt F",
         "tshirt_price": "17,5",
         "tshirt_quantity": 4,
         "user_agent": "Mozilla/5.0 (Macintosh| Intel Mac OS X 10_12_3) AppleWebKit/537.36 (KHTML, like Gecko) Chrome/56.0.…",
         "customerID": "nan",
         "gender": "nan",
         "birthdate": "nan",
         "ip_address": "nan",
         "latitude": "nan",
         "longitude": "nan",
         "Country Name": "nan",
         "country_code": "nan",
         "city_name": "nan",
         "email": "nan",
         "Continent_Name_x": "Africa",
         "Continent_Code_x": "AF",
         "Country_Name_x": "Namibia, Republic of",
         "Two_Letter_Country_Code_x": "nan",
         "Three_Letter_Country_Code_x": "NAM",
         "Country_Number_x": 516,
         "Continent_Name_y": "Africa",
         "Continent_Code_y": "AF",
         "Country_Name_y": "Namibia, Republic of",
         "Two_Letter_Country_Code_y": "nan",
         "Three_Letter_Country_Code_y": "NAM",
         "Country_Number_y": 516,
         "_deepnote_index_column": 2
        },
        {
         "customer_id": "494332",
         "order_date": "03/11/2013",
         "order_id": "HTS-494332-0001",
         "pages_visited": 10,
         "tshirt_category": "Wh Tshirt F",
         "tshirt_price": "18",
         "tshirt_quantity": 2,
         "user_agent": "Mozilla/5.0 (Macintosh| Intel Mac OS X 10_11_6) AppleWebKit/537.36 (KHTML, like Gecko) Chrome/56.0.…",
         "customerID": "nan",
         "gender": "nan",
         "birthdate": "nan",
         "ip_address": "nan",
         "latitude": "nan",
         "longitude": "nan",
         "Country Name": "nan",
         "country_code": "nan",
         "city_name": "nan",
         "email": "nan",
         "Continent_Name_x": "Africa",
         "Continent_Code_x": "AF",
         "Country_Name_x": "Namibia, Republic of",
         "Two_Letter_Country_Code_x": "nan",
         "Three_Letter_Country_Code_x": "NAM",
         "Country_Number_x": 516,
         "Continent_Name_y": "Africa",
         "Continent_Code_y": "AF",
         "Country_Name_y": "Namibia, Republic of",
         "Two_Letter_Country_Code_y": "nan",
         "Three_Letter_Country_Code_y": "NAM",
         "Country_Number_y": 516,
         "_deepnote_index_column": 3
        },
        {
         "customer_id": "463794",
         "order_date": "02/10/2013",
         "order_id": "HTS-463794-0001",
         "pages_visited": 14,
         "tshirt_category": "Tennis Shirt",
         "tshirt_price": "24",
         "tshirt_quantity": 1,
         "user_agent": "Mozilla/5.0 (Windows NT 10.0| Win64| x64) AppleWebKit/537.36 (KHTML, like Gecko) Chrome/56.0.2924.8…",
         "customerID": "nan",
         "gender": "nan",
         "birthdate": "nan",
         "ip_address": "nan",
         "latitude": "nan",
         "longitude": "nan",
         "Country Name": "nan",
         "country_code": "nan",
         "city_name": "nan",
         "email": "nan",
         "Continent_Name_x": "Africa",
         "Continent_Code_x": "AF",
         "Country_Name_x": "Namibia, Republic of",
         "Two_Letter_Country_Code_x": "nan",
         "Three_Letter_Country_Code_x": "NAM",
         "Country_Number_x": 516,
         "Continent_Name_y": "Africa",
         "Continent_Code_y": "AF",
         "Country_Name_y": "Namibia, Republic of",
         "Two_Letter_Country_Code_y": "nan",
         "Three_Letter_Country_Code_y": "NAM",
         "Country_Number_y": 516,
         "_deepnote_index_column": 4
        },
        {
         "customer_id": "132885",
         "order_date": "23/07/2013",
         "order_id": "HTS-132885-0001",
         "pages_visited": 17,
         "tshirt_category": "Wh Tshirt M",
         "tshirt_price": "20",
         "tshirt_quantity": 1,
         "user_agent": "Mozilla/5.0 (Windows NT 10.0| Win64| x64) AppleWebKit/537.36 (KHTML, like Gecko) Chrome/56.0.2924.8…",
         "customerID": "nan",
         "gender": "nan",
         "birthdate": "nan",
         "ip_address": "nan",
         "latitude": "nan",
         "longitude": "nan",
         "Country Name": "nan",
         "country_code": "nan",
         "city_name": "nan",
         "email": "nan",
         "Continent_Name_x": "Africa",
         "Continent_Code_x": "AF",
         "Country_Name_x": "Namibia, Republic of",
         "Two_Letter_Country_Code_x": "nan",
         "Three_Letter_Country_Code_x": "NAM",
         "Country_Number_x": 516,
         "Continent_Name_y": "Africa",
         "Continent_Code_y": "AF",
         "Country_Name_y": "Namibia, Republic of",
         "Two_Letter_Country_Code_y": "nan",
         "Three_Letter_Country_Code_y": "NAM",
         "Country_Number_y": 516,
         "_deepnote_index_column": 5
        },
        {
         "customer_id": "519113",
         "order_date": "24/11/2013",
         "order_id": "HTS-519113-0001",
         "pages_visited": 17,
         "tshirt_category": "Bl Tshirt F",
         "tshirt_price": "17,5",
         "tshirt_quantity": 1,
         "user_agent": "Mozilla/5.0 (Windows NT 6.1| WOW64) AppleWebKit/537.36 (KHTML, like Gecko) Chrome/56.0.2924.87 Safa…",
         "customerID": "nan",
         "gender": "nan",
         "birthdate": "nan",
         "ip_address": "nan",
         "latitude": "nan",
         "longitude": "nan",
         "Country Name": "nan",
         "country_code": "nan",
         "city_name": "nan",
         "email": "nan",
         "Continent_Name_x": "Africa",
         "Continent_Code_x": "AF",
         "Country_Name_x": "Namibia, Republic of",
         "Two_Letter_Country_Code_x": "nan",
         "Three_Letter_Country_Code_x": "NAM",
         "Country_Number_x": 516,
         "Continent_Name_y": "Africa",
         "Continent_Code_y": "AF",
         "Country_Name_y": "Namibia, Republic of",
         "Two_Letter_Country_Code_y": "nan",
         "Three_Letter_Country_Code_y": "NAM",
         "Country_Number_y": 516,
         "_deepnote_index_column": 6
        },
        {
         "customer_id": "49348",
         "order_date": "15/08/2016",
         "order_id": "HTS-049348-0004",
         "pages_visited": 6,
         "tshirt_category": "Black T-Shirt F",
         "tshirt_price": "17,5",
         "tshirt_quantity": 1,
         "user_agent": "Mozilla/5.0 (Macintosh| Intel Mac OS X 10_11_6) AppleWebKit/537.36 (KHTML, like Gecko) Chrome/56.0.…",
         "customerID": "nan",
         "gender": "nan",
         "birthdate": "nan",
         "ip_address": "nan",
         "latitude": "nan",
         "longitude": "nan",
         "Country Name": "nan",
         "country_code": "nan",
         "city_name": "nan",
         "email": "nan",
         "Continent_Name_x": "Africa",
         "Continent_Code_x": "AF",
         "Country_Name_x": "Namibia, Republic of",
         "Two_Letter_Country_Code_x": "nan",
         "Three_Letter_Country_Code_x": "NAM",
         "Country_Number_x": 516,
         "Continent_Name_y": "Africa",
         "Continent_Code_y": "AF",
         "Country_Name_y": "Namibia, Republic of",
         "Two_Letter_Country_Code_y": "nan",
         "Three_Letter_Country_Code_y": "NAM",
         "Country_Number_y": 516,
         "_deepnote_index_column": 7
        },
        {
         "customer_id": "989355",
         "order_date": "09/10/2015",
         "order_id": "HTS-989355-0003",
         "pages_visited": 10,
         "tshirt_category": "Hoodie",
         "tshirt_price": "23",
         "tshirt_quantity": 2,
         "user_agent": "Mozilla/5.0 (Windows NT 6.1| WOW64) AppleWebKit/537.36 (KHTML, like Gecko) Chrome/56.0.2924.87 Safa…",
         "customerID": "nan",
         "gender": "nan",
         "birthdate": "nan",
         "ip_address": "nan",
         "latitude": "nan",
         "longitude": "nan",
         "Country Name": "nan",
         "country_code": "nan",
         "city_name": "nan",
         "email": "nan",
         "Continent_Name_x": "Africa",
         "Continent_Code_x": "AF",
         "Country_Name_x": "Namibia, Republic of",
         "Two_Letter_Country_Code_x": "nan",
         "Three_Letter_Country_Code_x": "NAM",
         "Country_Number_x": 516,
         "Continent_Name_y": "Africa",
         "Continent_Code_y": "AF",
         "Country_Name_y": "Namibia, Republic of",
         "Two_Letter_Country_Code_y": "nan",
         "Three_Letter_Country_Code_y": "NAM",
         "Country_Number_y": 516,
         "_deepnote_index_column": 8
        },
        {
         "customer_id": "198773",
         "order_date": "17/01/2015",
         "order_id": "HTS-198773-0002",
         "pages_visited": 5,
         "tshirt_category": "White T-Shirt M",
         "tshirt_price": "20",
         "tshirt_quantity": 1,
         "user_agent": "Mozilla/5.0 (Windows NT 10.0| Win64| x64) AppleWebKit/537.36 (KHTML, like Gecko) Chrome/56.0.2924.8…",
         "customerID": "nan",
         "gender": "nan",
         "birthdate": "nan",
         "ip_address": "nan",
         "latitude": "nan",
         "longitude": "nan",
         "Country Name": "nan",
         "country_code": "nan",
         "city_name": "nan",
         "email": "nan",
         "Continent_Name_x": "Africa",
         "Continent_Code_x": "AF",
         "Country_Name_x": "Namibia, Republic of",
         "Two_Letter_Country_Code_x": "nan",
         "Three_Letter_Country_Code_x": "NAM",
         "Country_Number_x": 516,
         "Continent_Name_y": "Africa",
         "Continent_Code_y": "AF",
         "Country_Name_y": "Namibia, Republic of",
         "Two_Letter_Country_Code_y": "nan",
         "Three_Letter_Country_Code_y": "NAM",
         "Country_Number_y": 516,
         "_deepnote_index_column": 9
        },
        {
         "customer_id": "476084",
         "order_date": "20/07/2014",
         "order_id": "HTS-476084-0001",
         "pages_visited": 11,
         "tshirt_category": "White T-Shirt M",
         "tshirt_price": "20",
         "tshirt_quantity": 2,
         "user_agent": "Mozilla/5.0 (Windows NT 10.0| Win64| x64) AppleWebKit/537.36 (KHTML, like Gecko) Chrome/56.0.2924.8…",
         "customerID": "nan",
         "gender": "nan",
         "birthdate": "nan",
         "ip_address": "nan",
         "latitude": "nan",
         "longitude": "nan",
         "Country Name": "nan",
         "country_code": "nan",
         "city_name": "nan",
         "email": "nan",
         "Continent_Name_x": "Africa",
         "Continent_Code_x": "AF",
         "Country_Name_x": "Namibia, Republic of",
         "Two_Letter_Country_Code_x": "nan",
         "Three_Letter_Country_Code_x": "NAM",
         "Country_Number_x": 516,
         "Continent_Name_y": "Africa",
         "Continent_Code_y": "AF",
         "Country_Name_y": "Namibia, Republic of",
         "Two_Letter_Country_Code_y": "nan",
         "Three_Letter_Country_Code_y": "NAM",
         "Country_Number_y": 516,
         "_deepnote_index_column": 10
        },
        {
         "customer_id": "907041",
         "order_date": "20/05/2016",
         "order_id": "HTS-907041-0002",
         "pages_visited": 14,
         "tshirt_category": "White T-Shirt F",
         "tshirt_price": "18",
         "tshirt_quantity": 3,
         "user_agent": "Mozilla/5.0 (Windows NT 6.1| WOW64| rv:51.0) Gecko/20100101 Firefox/51.0",
         "customerID": "nan",
         "gender": "nan",
         "birthdate": "nan",
         "ip_address": "nan",
         "latitude": "nan",
         "longitude": "nan",
         "Country Name": "nan",
         "country_code": "nan",
         "city_name": "nan",
         "email": "nan",
         "Continent_Name_x": "Africa",
         "Continent_Code_x": "AF",
         "Country_Name_x": "Namibia, Republic of",
         "Two_Letter_Country_Code_x": "nan",
         "Three_Letter_Country_Code_x": "NAM",
         "Country_Number_x": 516,
         "Continent_Name_y": "Africa",
         "Continent_Code_y": "AF",
         "Country_Name_y": "Namibia, Republic of",
         "Two_Letter_Country_Code_y": "nan",
         "Three_Letter_Country_Code_y": "NAM",
         "Country_Number_y": 516,
         "_deepnote_index_column": 11
        },
        {
         "customer_id": "399607",
         "order_date": "09/03/2014",
         "order_id": "HTS-399607-0002",
         "pages_visited": 12,
         "tshirt_category": "White T-Shirt M",
         "tshirt_price": "20",
         "tshirt_quantity": 5,
         "user_agent": "Mozilla/5.0 (Windows NT 6.1| WOW64) AppleWebKit/537.36 (KHTML, like Gecko) Chrome/56.0.2924.87 Safa…",
         "customerID": "nan",
         "gender": "nan",
         "birthdate": "nan",
         "ip_address": "nan",
         "latitude": "nan",
         "longitude": "nan",
         "Country Name": "nan",
         "country_code": "nan",
         "city_name": "nan",
         "email": "nan",
         "Continent_Name_x": "Africa",
         "Continent_Code_x": "AF",
         "Country_Name_x": "Namibia, Republic of",
         "Two_Letter_Country_Code_x": "nan",
         "Three_Letter_Country_Code_x": "NAM",
         "Country_Number_x": 516,
         "Continent_Name_y": "Africa",
         "Continent_Code_y": "AF",
         "Country_Name_y": "Namibia, Republic of",
         "Two_Letter_Country_Code_y": "nan",
         "Three_Letter_Country_Code_y": "NAM",
         "Country_Number_y": 516,
         "_deepnote_index_column": 12
        },
        {
         "customer_id": "610587",
         "order_date": "08/01/2017",
         "order_id": "HTS-610587-0004",
         "pages_visited": 5,
         "tshirt_category": "Hoodie",
         "tshirt_price": "23",
         "tshirt_quantity": 1,
         "user_agent": "Mozilla/5.0 (X11| Linux x86_64) AppleWebKit/537.36 (KHTML, like Gecko) Chrome/56.0.2924.87 Safari/5…",
         "customerID": "nan",
         "gender": "nan",
         "birthdate": "nan",
         "ip_address": "nan",
         "latitude": "nan",
         "longitude": "nan",
         "Country Name": "nan",
         "country_code": "nan",
         "city_name": "nan",
         "email": "nan",
         "Continent_Name_x": "Africa",
         "Continent_Code_x": "AF",
         "Country_Name_x": "Namibia, Republic of",
         "Two_Letter_Country_Code_x": "nan",
         "Three_Letter_Country_Code_x": "NAM",
         "Country_Number_x": 516,
         "Continent_Name_y": "Africa",
         "Continent_Code_y": "AF",
         "Country_Name_y": "Namibia, Republic of",
         "Two_Letter_Country_Code_y": "nan",
         "Three_Letter_Country_Code_y": "NAM",
         "Country_Number_y": 516,
         "_deepnote_index_column": 13
        },
        {
         "customer_id": "707341",
         "order_date": "03/10/2014",
         "order_id": "HTS-707341-0003",
         "pages_visited": 8,
         "tshirt_category": "Black T-Shirt M",
         "tshirt_price": "19",
         "tshirt_quantity": 3,
         "user_agent": "Mozilla/5.0 (Macintosh| Intel Mac OS X 10_12_3) AppleWebKit/602.4.8 (KHTML, like Gecko) Version/10.…",
         "customerID": "nan",
         "gender": "nan",
         "birthdate": "nan",
         "ip_address": "nan",
         "latitude": "nan",
         "longitude": "nan",
         "Country Name": "nan",
         "country_code": "nan",
         "city_name": "nan",
         "email": "nan",
         "Continent_Name_x": "Africa",
         "Continent_Code_x": "AF",
         "Country_Name_x": "Namibia, Republic of",
         "Two_Letter_Country_Code_x": "nan",
         "Three_Letter_Country_Code_x": "NAM",
         "Country_Number_x": 516,
         "Continent_Name_y": "Africa",
         "Continent_Code_y": "AF",
         "Country_Name_y": "Namibia, Republic of",
         "Two_Letter_Country_Code_y": "nan",
         "Three_Letter_Country_Code_y": "NAM",
         "Country_Number_y": 516,
         "_deepnote_index_column": 14
        },
        {
         "customer_id": "318409",
         "order_date": "02/08/2015",
         "order_id": "HTS-318409-0001",
         "pages_visited": 19,
         "tshirt_category": "Black T-Shirt M",
         "tshirt_price": "19",
         "tshirt_quantity": 1,
         "user_agent": "Mozilla/5.0 (Macintosh| Intel Mac OS X 10_12_3) AppleWebKit/602.4.8 (KHTML, like Gecko) Version/10.…",
         "customerID": "nan",
         "gender": "nan",
         "birthdate": "nan",
         "ip_address": "nan",
         "latitude": "nan",
         "longitude": "nan",
         "Country Name": "nan",
         "country_code": "nan",
         "city_name": "nan",
         "email": "nan",
         "Continent_Name_x": "Africa",
         "Continent_Code_x": "AF",
         "Country_Name_x": "Namibia, Republic of",
         "Two_Letter_Country_Code_x": "nan",
         "Three_Letter_Country_Code_x": "NAM",
         "Country_Number_x": 516,
         "Continent_Name_y": "Africa",
         "Continent_Code_y": "AF",
         "Country_Name_y": "Namibia, Republic of",
         "Two_Letter_Country_Code_y": "nan",
         "Three_Letter_Country_Code_y": "NAM",
         "Country_Number_y": 516,
         "_deepnote_index_column": 15
        }
       ],
       "rows_bottom": [
        {
         "customer_id": "enni98",
         "order_date": "20/12/2015",
         "order_id": "HTS-enni98-0001",
         "pages_visited": 13,
         "tshirt_category": "White T-Shirt F",
         "tshirt_price": "18",
         "tshirt_quantity": 1,
         "user_agent": "Mozilla/5.0 (Windows NT 10.0| Win64| x64) AppleWebKit/537.36 (KHTML, like Gecko) Chrome/56.0.2924.8…",
         "customerID": "enni98",
         "gender": "F",
         "birthdate": "1941-04-06 00:00:00",
         "ip_address": "85.223.210.235",
         "latitude": 50.43330002,
         "longitude": 30.51670075,
         "Country Name": "Ukraine",
         "country_code": "UA",
         "city_name": "Kiev",
         "email": "HMWN@formation.fr",
         "Continent_Name_x": "Europe",
         "Continent_Code_x": "EU",
         "Country_Name_x": "Ukraine",
         "Two_Letter_Country_Code_x": "UA",
         "Three_Letter_Country_Code_x": "UKR",
         "Country_Number_x": 804,
         "Continent_Name_y": "Europe",
         "Continent_Code_y": "EU",
         "Country_Name_y": "Ukraine",
         "Two_Letter_Country_Code_y": "UA",
         "Three_Letter_Country_Code_y": "UKR",
         "Country_Number_y": 804,
         "_deepnote_index_column": 12904
        },
        {
         "customer_id": "xvcp7a",
         "order_date": "27/09/2016",
         "order_id": "HTS-xvcp7a-0001",
         "pages_visited": 14,
         "tshirt_category": "White T-Shirt F",
         "tshirt_price": "18",
         "tshirt_quantity": 1,
         "user_agent": "Mozilla/5.0 (X11| Ubuntu| Linux x86_64| rv:51.0) Gecko/20100101 Firefox/51.0",
         "customerID": "xvcp7a",
         "gender": "F",
         "birthdate": "1969-09-14 00:00:00",
         "ip_address": "88.209.76.234",
         "latitude": 43.73329926,
         "longitude": 7.416699886,
         "Country Name": "Monaco, Principality of",
         "country_code": "MC",
         "city_name": "nan",
         "email": "XWDV@formation.fr",
         "Continent_Name_x": "Europe",
         "Continent_Code_x": "EU",
         "Country_Name_x": "Monaco, Principality of",
         "Two_Letter_Country_Code_x": "MC",
         "Three_Letter_Country_Code_x": "MCO",
         "Country_Number_x": 492,
         "Continent_Name_y": "Europe",
         "Continent_Code_y": "EU",
         "Country_Name_y": "Monaco, Principality of",
         "Two_Letter_Country_Code_y": "MC",
         "Three_Letter_Country_Code_y": "MCO",
         "Country_Number_y": 492,
         "_deepnote_index_column": 12905
        },
        {
         "customer_id": "n2gyx6",
         "order_date": "20/10/2015",
         "order_id": "HTS-n2gyx6-0001",
         "pages_visited": 9,
         "tshirt_category": "Black T-Shirt M",
         "tshirt_price": "19",
         "tshirt_quantity": 1,
         "user_agent": "Mozilla/5.0 (Windows NT 6.1| WOW64) AppleWebKit/537.36 (KHTML, like Gecko) Chrome/56.0.2924.87 Safa…",
         "customerID": "n2gyx6",
         "gender": "F",
         "birthdate": "1940-04-19 00:00:00",
         "ip_address": "93.88.195.35",
         "latitude": 47,
         "longitude": 20,
         "Country Name": "Hungary, Republic of",
         "country_code": "HU",
         "city_name": "nan",
         "email": "HQSM@formation.fr",
         "Continent_Name_x": "Europe",
         "Continent_Code_x": "EU",
         "Country_Name_x": "Hungary, Republic of",
         "Two_Letter_Country_Code_x": "HU",
         "Three_Letter_Country_Code_x": "HUN",
         "Country_Number_x": 348,
         "Continent_Name_y": "Europe",
         "Continent_Code_y": "EU",
         "Country_Name_y": "Hungary, Republic of",
         "Two_Letter_Country_Code_y": "HU",
         "Three_Letter_Country_Code_y": "HUN",
         "Country_Number_y": 348,
         "_deepnote_index_column": 12906
        },
        {
         "customer_id": "gak3am",
         "order_date": "18/11/2015",
         "order_id": "HTS-gak3am-0001",
         "pages_visited": 11,
         "tshirt_category": "Black T-Shirt M",
         "tshirt_price": "19",
         "tshirt_quantity": 2,
         "user_agent": "Mozilla/5.0 (Windows NT 6.1| WOW64| rv:51.0) Gecko/20100101 Firefox/51.0",
         "customerID": "gak3am",
         "gender": "F",
         "birthdate": "1970-04-30 00:00:00",
         "ip_address": "62.168.162.88",
         "latitude": 42,
         "longitude": 43.5,
         "Country Name": "Georgia",
         "country_code": "GE",
         "city_name": "nan",
         "email": "HXUS@formation.fr",
         "Continent_Name_x": "Europe",
         "Continent_Code_x": "EU",
         "Country_Name_x": "Georgia",
         "Two_Letter_Country_Code_x": "GE",
         "Three_Letter_Country_Code_x": "GEO",
         "Country_Number_x": 268,
         "Continent_Name_y": "Europe",
         "Continent_Code_y": "EU",
         "Country_Name_y": "Georgia",
         "Two_Letter_Country_Code_y": "GE",
         "Three_Letter_Country_Code_y": "GEO",
         "Country_Number_y": 268,
         "_deepnote_index_column": 12907
        },
        {
         "customer_id": "gak3am",
         "order_date": "03/10/2016",
         "order_id": "HTS-gak3am-0002",
         "pages_visited": 9,
         "tshirt_category": "White T-Shirt M",
         "tshirt_price": "20",
         "tshirt_quantity": 1,
         "user_agent": "Mozilla/5.0 (Windows NT 6.1| WOW64| rv:51.0) Gecko/20100101 Firefox/51.0",
         "customerID": "gak3am",
         "gender": "F",
         "birthdate": "1970-04-30 00:00:00",
         "ip_address": "62.168.162.88",
         "latitude": 42,
         "longitude": 43.5,
         "Country Name": "Georgia",
         "country_code": "GE",
         "city_name": "nan",
         "email": "HXUS@formation.fr",
         "Continent_Name_x": "Europe",
         "Continent_Code_x": "EU",
         "Country_Name_x": "Georgia",
         "Two_Letter_Country_Code_x": "GE",
         "Three_Letter_Country_Code_x": "GEO",
         "Country_Number_x": 268,
         "Continent_Name_y": "Europe",
         "Continent_Code_y": "EU",
         "Country_Name_y": "Georgia",
         "Two_Letter_Country_Code_y": "GE",
         "Three_Letter_Country_Code_y": "GEO",
         "Country_Number_y": 268,
         "_deepnote_index_column": 12908
        },
        {
         "customer_id": "ealo4s",
         "order_date": "15/06/2015",
         "order_id": "HTS-ealo4s-0001",
         "pages_visited": 9,
         "tshirt_category": "Black T-Shirt M",
         "tshirt_price": "19",
         "tshirt_quantity": 1,
         "user_agent": "Mozilla/5.0 (Windows NT 6.1) AppleWebKit/537.36 (KHTML, like Gecko) Chrome/56.0.2924.87 Safari/537.…",
         "customerID": "ealo4s",
         "gender": "F",
         "birthdate": "1988-04-18 00:00:00",
         "ip_address": "113.20.32.218",
         "latitude": -21.5,
         "longitude": 165.5,
         "Country Name": "New Caledonia",
         "country_code": "NC",
         "city_name": "nan",
         "email": "DDMF@formation.fr",
         "Continent_Name_x": "Oceania",
         "Continent_Code_x": "OC",
         "Country_Name_x": "New Caledonia",
         "Two_Letter_Country_Code_x": "NC",
         "Three_Letter_Country_Code_x": "NCL",
         "Country_Number_x": 540,
         "Continent_Name_y": "Oceania",
         "Continent_Code_y": "OC",
         "Country_Name_y": "New Caledonia",
         "Two_Letter_Country_Code_y": "NC",
         "Three_Letter_Country_Code_y": "NCL",
         "Country_Number_y": 540,
         "_deepnote_index_column": 12909
        },
        {
         "customer_id": "ealo4s",
         "order_date": "08/01/2017",
         "order_id": "HTS-ealo4s-0002",
         "pages_visited": 13,
         "tshirt_category": "Tennis Shirt",
         "tshirt_price": "24",
         "tshirt_quantity": 1,
         "user_agent": "Mozilla/5.0 (Windows NT 6.1) AppleWebKit/537.36 (KHTML, like Gecko) Chrome/56.0.2924.87 Safari/537.…",
         "customerID": "ealo4s",
         "gender": "F",
         "birthdate": "1988-04-18 00:00:00",
         "ip_address": "113.20.32.218",
         "latitude": -21.5,
         "longitude": 165.5,
         "Country Name": "New Caledonia",
         "country_code": "NC",
         "city_name": "nan",
         "email": "DDMF@formation.fr",
         "Continent_Name_x": "Oceania",
         "Continent_Code_x": "OC",
         "Country_Name_x": "New Caledonia",
         "Two_Letter_Country_Code_x": "NC",
         "Three_Letter_Country_Code_x": "NCL",
         "Country_Number_x": 540,
         "Continent_Name_y": "Oceania",
         "Continent_Code_y": "OC",
         "Country_Name_y": "New Caledonia",
         "Two_Letter_Country_Code_y": "NC",
         "Three_Letter_Country_Code_y": "NCL",
         "Country_Number_y": 540,
         "_deepnote_index_column": 12910
        },
        {
         "customer_id": "enbk0u",
         "order_date": "03/10/2016",
         "order_id": "HTS-enbk0u-0001",
         "pages_visited": 13,
         "tshirt_category": "White T-Shirt M",
         "tshirt_price": "20",
         "tshirt_quantity": 3,
         "user_agent": "Mozilla/5.0 (Macintosh| Intel Mac OS X 10_12_3) AppleWebKit/602.4.8 (KHTML, like Gecko) Version/10.…",
         "customerID": "enbk0u",
         "gender": "F",
         "birthdate": "31/12/1881",
         "ip_address": "87.241.176.238",
         "latitude": 40,
         "longitude": 45,
         "Country Name": "Armenia, Republic of",
         "country_code": "AM",
         "city_name": "nan",
         "email": "KIXI@formation.fr",
         "Continent_Name_x": "Europe",
         "Continent_Code_x": "EU",
         "Country_Name_x": "Armenia, Republic of",
         "Two_Letter_Country_Code_x": "AM",
         "Three_Letter_Country_Code_x": "ARM",
         "Country_Number_x": 51,
         "Continent_Name_y": "Europe",
         "Continent_Code_y": "EU",
         "Country_Name_y": "Armenia, Republic of",
         "Two_Letter_Country_Code_y": "AM",
         "Three_Letter_Country_Code_y": "ARM",
         "Country_Number_y": 51,
         "_deepnote_index_column": 12911
        },
        {
         "customer_id": "qrs1lk",
         "order_date": "08/03/2017",
         "order_id": "HTS-qrs1lk-0001",
         "pages_visited": 11,
         "tshirt_category": "White T-Shirt M",
         "tshirt_price": "20",
         "tshirt_quantity": 2,
         "user_agent": "Mozilla/5.0 (Macintosh| Intel Mac OS X 10_12_3) AppleWebKit/537.36 (KHTML, like Gecko) Chrome/56.0.…",
         "customerID": "qrs1lk",
         "gender": "F",
         "birthdate": "1960-05-06 00:00:00",
         "ip_address": "72.27.85.214",
         "latitude": 18,
         "longitude": -76.80000305,
         "Country Name": "Jamaica",
         "country_code": "JM",
         "city_name": "Kingston",
         "email": "SXRA@formation.fr",
         "Continent_Name_x": "North America",
         "Continent_Code_x": "nan",
         "Country_Name_x": "Jamaica",
         "Two_Letter_Country_Code_x": "JM",
         "Three_Letter_Country_Code_x": "JAM",
         "Country_Number_x": 388,
         "Continent_Name_y": "North America",
         "Continent_Code_y": "nan",
         "Country_Name_y": "Jamaica",
         "Two_Letter_Country_Code_y": "JM",
         "Three_Letter_Country_Code_y": "JAM",
         "Country_Number_y": 388,
         "_deepnote_index_column": 12912
        },
        {
         "customer_id": "gpdkjc",
         "order_date": "07/04/2016",
         "order_id": "HTS-gpdkjc-0001",
         "pages_visited": 10,
         "tshirt_category": "Hoodie",
         "tshirt_price": "23",
         "tshirt_quantity": 2,
         "user_agent": "Mozilla/5.0 (Windows NT 6.1| WOW64| rv:51.0) Gecko/20100101 Firefox/51.0",
         "customerID": "gpdkjc",
         "gender": "F",
         "birthdate": "1955-04-09 00:00:00",
         "ip_address": "46.123.234.110",
         "latitude": 46,
         "longitude": 15,
         "Country Name": "Slovenia, Republic of",
         "country_code": "SI",
         "city_name": "nan",
         "email": "YYHQ@formation.fr",
         "Continent_Name_x": "Europe",
         "Continent_Code_x": "EU",
         "Country_Name_x": "Slovenia, Republic of",
         "Two_Letter_Country_Code_x": "SI",
         "Three_Letter_Country_Code_x": "SVN",
         "Country_Number_x": 705,
         "Continent_Name_y": "Europe",
         "Continent_Code_y": "EU",
         "Country_Name_y": "Slovenia, Republic of",
         "Two_Letter_Country_Code_y": "SI",
         "Three_Letter_Country_Code_y": "SVN",
         "Country_Number_y": 705,
         "_deepnote_index_column": 12913
        },
        {
         "customer_id": "7p5xph",
         "order_date": "02/08/2016",
         "order_id": "HTS-7p5xph-0001",
         "pages_visited": 16,
         "tshirt_category": "Tennis Shirt",
         "tshirt_price": "24",
         "tshirt_quantity": 1,
         "user_agent": "Mozilla/5.0 (Windows NT 10.0| WOW64) AppleWebKit/537.36 (KHTML, like Gecko) Chrome/56.0.2924.87 Saf…",
         "customerID": "7p5xph",
         "gender": "F",
         "birthdate": "1988-08-02 00:00:00",
         "ip_address": "58.182.216.232",
         "latitude": 1.293099999,
         "longitude": 103.8557968,
         "Country Name": "Singapore, Republic of",
         "country_code": "SG",
         "city_name": "Singapore",
         "email": "QWZU@formation.fr",
         "Continent_Name_x": "Asia",
         "Continent_Code_x": "AS",
         "Country_Name_x": "Singapore, Republic of",
         "Two_Letter_Country_Code_x": "SG",
         "Three_Letter_Country_Code_x": "SGP",
         "Country_Number_x": 702,
         "Continent_Name_y": "Asia",
         "Continent_Code_y": "AS",
         "Country_Name_y": "Singapore, Republic of",
         "Two_Letter_Country_Code_y": "SG",
         "Three_Letter_Country_Code_y": "SGP",
         "Country_Number_y": 702,
         "_deepnote_index_column": 12914
        },
        {
         "customer_id": "476w74",
         "order_date": "27/05/2016",
         "order_id": "HTS-476w74-0001",
         "pages_visited": 9,
         "tshirt_category": "Black T-Shirt F",
         "tshirt_price": "17,5",
         "tshirt_quantity": 1,
         "user_agent": "Mozilla/5.0 (X11| Linux x86_64) AppleWebKit/537.36 (KHTML, like Gecko) Chrome/56.0.2924.87 Safari/5…",
         "customerID": "476w74",
         "gender": "F",
         "birthdate": "1939-04-02 00:00:00",
         "ip_address": "46.40.205.109",
         "latitude": 21,
         "longitude": 57,
         "Country Name": "Oman, Sultanate of",
         "country_code": "OM",
         "city_name": "nan",
         "email": "OMCC@formation.fr",
         "Continent_Name_x": "Asia",
         "Continent_Code_x": "AS",
         "Country_Name_x": "Oman, Sultanate of",
         "Two_Letter_Country_Code_x": "OM",
         "Three_Letter_Country_Code_x": "OMN",
         "Country_Number_x": 512,
         "Continent_Name_y": "Asia",
         "Continent_Code_y": "AS",
         "Country_Name_y": "Oman, Sultanate of",
         "Two_Letter_Country_Code_y": "OM",
         "Three_Letter_Country_Code_y": "OMN",
         "Country_Number_y": 512,
         "_deepnote_index_column": 12915
        },
        {
         "customer_id": "476w74",
         "order_date": "26/01/2017",
         "order_id": "HTS-476w74-0002",
         "pages_visited": 11,
         "tshirt_category": "Black T-Shirt F",
         "tshirt_price": "17,5",
         "tshirt_quantity": 1,
         "user_agent": "Mozilla/5.0 (X11| Linux x86_64) AppleWebKit/537.36 (KHTML, like Gecko) Chrome/56.0.2924.87 Safari/5…",
         "customerID": "476w74",
         "gender": "F",
         "birthdate": "1939-04-02 00:00:00",
         "ip_address": "46.40.205.109",
         "latitude": 21,
         "longitude": 57,
         "Country Name": "Oman, Sultanate of",
         "country_code": "OM",
         "city_name": "nan",
         "email": "OMCC@formation.fr",
         "Continent_Name_x": "Asia",
         "Continent_Code_x": "AS",
         "Country_Name_x": "Oman, Sultanate of",
         "Two_Letter_Country_Code_x": "OM",
         "Three_Letter_Country_Code_x": "OMN",
         "Country_Number_x": 512,
         "Continent_Name_y": "Asia",
         "Continent_Code_y": "AS",
         "Country_Name_y": "Oman, Sultanate of",
         "Two_Letter_Country_Code_y": "OM",
         "Three_Letter_Country_Code_y": "OMN",
         "Country_Number_y": 512,
         "_deepnote_index_column": 12916
        },
        {
         "customer_id": "4lvxl7",
         "order_date": "25/02/2017",
         "order_id": "HTS-4lvxl7-0004",
         "pages_visited": 9,
         "tshirt_category": "Black T-Shirt F",
         "tshirt_price": "17,5",
         "tshirt_quantity": 6,
         "user_agent": "Mozilla/5.0 (Macintosh| Intel Mac OS X 10_11_6) AppleWebKit/537.36 (KHTML, like Gecko) Chrome/56.0.…",
         "customerID": "4lvxl7",
         "gender": "F",
         "birthdate": "1951-07-30 00:00:00",
         "ip_address": "78.141.137.139",
         "latitude": 49.75,
         "longitude": 6.166699886,
         "Country Name": "Luxembourg, Grand Duchy of",
         "country_code": "LU",
         "city_name": "nan",
         "email": "HSMN@formation.fr",
         "Continent_Name_x": "Europe",
         "Continent_Code_x": "EU",
         "Country_Name_x": "Luxembourg, Grand Duchy of",
         "Two_Letter_Country_Code_x": "LU",
         "Three_Letter_Country_Code_x": "LUX",
         "Country_Number_x": 442,
         "Continent_Name_y": "Europe",
         "Continent_Code_y": "EU",
         "Country_Name_y": "Luxembourg, Grand Duchy of",
         "Two_Letter_Country_Code_y": "LU",
         "Three_Letter_Country_Code_y": "LUX",
         "Country_Number_y": 442,
         "_deepnote_index_column": 12917
        },
        {
         "customer_id": "4lvxl7",
         "order_date": "23/08/2016",
         "order_id": "HTS-4lvxl7-0003",
         "pages_visited": 12,
         "tshirt_category": "White T-Shirt F",
         "tshirt_price": "18",
         "tshirt_quantity": 1,
         "user_agent": "Mozilla/5.0 (Macintosh| Intel Mac OS X 10_11_6) AppleWebKit/537.36 (KHTML, like Gecko) Chrome/56.0.…",
         "customerID": "4lvxl7",
         "gender": "F",
         "birthdate": "1951-07-30 00:00:00",
         "ip_address": "78.141.137.139",
         "latitude": 49.75,
         "longitude": 6.166699886,
         "Country Name": "Luxembourg, Grand Duchy of",
         "country_code": "LU",
         "city_name": "nan",
         "email": "HSMN@formation.fr",
         "Continent_Name_x": "Europe",
         "Continent_Code_x": "EU",
         "Country_Name_x": "Luxembourg, Grand Duchy of",
         "Two_Letter_Country_Code_x": "LU",
         "Three_Letter_Country_Code_x": "LUX",
         "Country_Number_x": 442,
         "Continent_Name_y": "Europe",
         "Continent_Code_y": "EU",
         "Country_Name_y": "Luxembourg, Grand Duchy of",
         "Two_Letter_Country_Code_y": "LU",
         "Three_Letter_Country_Code_y": "LUX",
         "Country_Number_y": 442,
         "_deepnote_index_column": 12918
        },
        {
         "customer_id": "4lvxl7",
         "order_date": "15/07/2015",
         "order_id": "HTS-4lvxl7-0001",
         "pages_visited": 13,
         "tshirt_category": "White T-Shirt F",
         "tshirt_price": "18",
         "tshirt_quantity": 4,
         "user_agent": "Mozilla/5.0 (Macintosh| Intel Mac OS X 10_11_6) AppleWebKit/537.36 (KHTML, like Gecko) Chrome/56.0.…",
         "customerID": "4lvxl7",
         "gender": "F",
         "birthdate": "1951-07-30 00:00:00",
         "ip_address": "78.141.137.139",
         "latitude": 49.75,
         "longitude": 6.166699886,
         "Country Name": "Luxembourg, Grand Duchy of",
         "country_code": "LU",
         "city_name": "nan",
         "email": "HSMN@formation.fr",
         "Continent_Name_x": "Europe",
         "Continent_Code_x": "EU",
         "Country_Name_x": "Luxembourg, Grand Duchy of",
         "Two_Letter_Country_Code_x": "LU",
         "Three_Letter_Country_Code_x": "LUX",
         "Country_Number_x": 442,
         "Continent_Name_y": "Europe",
         "Continent_Code_y": "EU",
         "Country_Name_y": "Luxembourg, Grand Duchy of",
         "Two_Letter_Country_Code_y": "LU",
         "Three_Letter_Country_Code_y": "LUX",
         "Country_Number_y": 442,
         "_deepnote_index_column": 12919
        },
        {
         "customer_id": "4lvxl7",
         "order_date": "04/02/2016",
         "order_id": "HTS-4lvxl7-0002",
         "pages_visited": 10,
         "tshirt_category": "White T-Shirt M",
         "tshirt_price": "20",
         "tshirt_quantity": 5,
         "user_agent": "Mozilla/5.0 (Macintosh| Intel Mac OS X 10_11_6) AppleWebKit/537.36 (KHTML, like Gecko) Chrome/56.0.…",
         "customerID": "4lvxl7",
         "gender": "F",
         "birthdate": "1951-07-30 00:00:00",
         "ip_address": "78.141.137.139",
         "latitude": 49.75,
         "longitude": 6.166699886,
         "Country Name": "Luxembourg, Grand Duchy of",
         "country_code": "LU",
         "city_name": "nan",
         "email": "HSMN@formation.fr",
         "Continent_Name_x": "Europe",
         "Continent_Code_x": "EU",
         "Country_Name_x": "Luxembourg, Grand Duchy of",
         "Two_Letter_Country_Code_x": "LU",
         "Three_Letter_Country_Code_x": "LUX",
         "Country_Number_x": 442,
         "Continent_Name_y": "Europe",
         "Continent_Code_y": "EU",
         "Country_Name_y": "Luxembourg, Grand Duchy of",
         "Two_Letter_Country_Code_y": "LU",
         "Three_Letter_Country_Code_y": "LUX",
         "Country_Number_y": 442,
         "_deepnote_index_column": 12920
        }
       ]
      },
      "text/plain": "      customer_id  order_date         order_id  pages_visited  \\\n0           38040  04/09/2016  HTS-038040-0002              9   \n1          914324  01/12/2013  HTS-914324-0001             10   \n2           61311  15/01/2016  HTS-061311-0003              9   \n3          494332  03/11/2013  HTS-494332-0001             10   \n4          463794  02/10/2013  HTS-463794-0001             14   \n...           ...         ...              ...            ...   \n12916      476w74  26/01/2017  HTS-476w74-0002             11   \n12917      4lvxl7  25/02/2017  HTS-4lvxl7-0004              9   \n12918      4lvxl7  23/08/2016  HTS-4lvxl7-0003             12   \n12919      4lvxl7  15/07/2015  HTS-4lvxl7-0001             13   \n12920      4lvxl7  04/02/2016  HTS-4lvxl7-0002             10   \n\n       tshirt_category tshirt_price  tshirt_quantity  \\\n0      White T-Shirt M           20                1   \n1          Wh Tshirt F           18                1   \n2      Black T-Shirt F         17,5                4   \n3          Wh Tshirt F           18                2   \n4         Tennis Shirt           24                1   \n...                ...          ...              ...   \n12916  Black T-Shirt F         17,5                1   \n12917  Black T-Shirt F         17,5                6   \n12918  White T-Shirt F           18                1   \n12919  White T-Shirt F           18                4   \n12920  White T-Shirt M           20                5   \n\n                                              user_agent customerID gender  \\\n0      Mozilla/5.0 (Windows NT 10.0| WOW64) AppleWebK...        NaN    NaN   \n1      Mozilla/5.0 (Windows NT 10.0| WOW64) AppleWebK...        NaN    NaN   \n2      Mozilla/5.0 (Macintosh| Intel Mac OS X 10_12_3...        NaN    NaN   \n3      Mozilla/5.0 (Macintosh| Intel Mac OS X 10_11_6...        NaN    NaN   \n4      Mozilla/5.0 (Windows NT 10.0| Win64| x64) Appl...        NaN    NaN   \n...                                                  ...        ...    ...   \n12916  Mozilla/5.0 (X11| Linux x86_64) AppleWebKit/53...     476w74      F   \n12917  Mozilla/5.0 (Macintosh| Intel Mac OS X 10_11_6...     4lvxl7      F   \n12918  Mozilla/5.0 (Macintosh| Intel Mac OS X 10_11_6...     4lvxl7      F   \n12919  Mozilla/5.0 (Macintosh| Intel Mac OS X 10_11_6...     4lvxl7      F   \n12920  Mozilla/5.0 (Macintosh| Intel Mac OS X 10_11_6...     4lvxl7      F   \n\n       ...              Country_Name_x Two_Letter_Country_Code_x  \\\n0      ...        Namibia, Republic of                       NaN   \n1      ...        Namibia, Republic of                       NaN   \n2      ...        Namibia, Republic of                       NaN   \n3      ...        Namibia, Republic of                       NaN   \n4      ...        Namibia, Republic of                       NaN   \n...    ...                         ...                       ...   \n12916  ...          Oman, Sultanate of                        OM   \n12917  ...  Luxembourg, Grand Duchy of                        LU   \n12918  ...  Luxembourg, Grand Duchy of                        LU   \n12919  ...  Luxembourg, Grand Duchy of                        LU   \n12920  ...  Luxembourg, Grand Duchy of                        LU   \n\n       Three_Letter_Country_Code_x  Country_Number_x Continent_Name_y  \\\n0                              NAM             516.0           Africa   \n1                              NAM             516.0           Africa   \n2                              NAM             516.0           Africa   \n3                              NAM             516.0           Africa   \n4                              NAM             516.0           Africa   \n...                            ...               ...              ...   \n12916                          OMN             512.0             Asia   \n12917                          LUX             442.0           Europe   \n12918                          LUX             442.0           Europe   \n12919                          LUX             442.0           Europe   \n12920                          LUX             442.0           Europe   \n\n      Continent_Code_y              Country_Name_y Two_Letter_Country_Code_y  \\\n0                   AF        Namibia, Republic of                       NaN   \n1                   AF        Namibia, Republic of                       NaN   \n2                   AF        Namibia, Republic of                       NaN   \n3                   AF        Namibia, Republic of                       NaN   \n4                   AF        Namibia, Republic of                       NaN   \n...                ...                         ...                       ...   \n12916               AS          Oman, Sultanate of                        OM   \n12917               EU  Luxembourg, Grand Duchy of                        LU   \n12918               EU  Luxembourg, Grand Duchy of                        LU   \n12919               EU  Luxembourg, Grand Duchy of                        LU   \n12920               EU  Luxembourg, Grand Duchy of                        LU   \n\n      Three_Letter_Country_Code_y Country_Number_y  \n0                             NAM            516.0  \n1                             NAM            516.0  \n2                             NAM            516.0  \n3                             NAM            516.0  \n4                             NAM            516.0  \n...                           ...              ...  \n12916                         OMN            512.0  \n12917                         LUX            442.0  \n12918                         LUX            442.0  \n12919                         LUX            442.0  \n12920                         LUX            442.0  \n\n[12921 rows x 30 columns]",
      "text/html": "<div>\n<style scoped>\n    .dataframe tbody tr th:only-of-type {\n        vertical-align: middle;\n    }\n\n    .dataframe tbody tr th {\n        vertical-align: top;\n    }\n\n    .dataframe thead th {\n        text-align: right;\n    }\n</style>\n<table border=\"1\" class=\"dataframe\">\n  <thead>\n    <tr style=\"text-align: right;\">\n      <th></th>\n      <th>customer_id</th>\n      <th>order_date</th>\n      <th>order_id</th>\n      <th>pages_visited</th>\n      <th>tshirt_category</th>\n      <th>tshirt_price</th>\n      <th>tshirt_quantity</th>\n      <th>user_agent</th>\n      <th>customerID</th>\n      <th>gender</th>\n      <th>...</th>\n      <th>Country_Name_x</th>\n      <th>Two_Letter_Country_Code_x</th>\n      <th>Three_Letter_Country_Code_x</th>\n      <th>Country_Number_x</th>\n      <th>Continent_Name_y</th>\n      <th>Continent_Code_y</th>\n      <th>Country_Name_y</th>\n      <th>Two_Letter_Country_Code_y</th>\n      <th>Three_Letter_Country_Code_y</th>\n      <th>Country_Number_y</th>\n    </tr>\n  </thead>\n  <tbody>\n    <tr>\n      <th>0</th>\n      <td>38040</td>\n      <td>04/09/2016</td>\n      <td>HTS-038040-0002</td>\n      <td>9</td>\n      <td>White T-Shirt M</td>\n      <td>20</td>\n      <td>1</td>\n      <td>Mozilla/5.0 (Windows NT 10.0| WOW64) AppleWebK...</td>\n      <td>NaN</td>\n      <td>NaN</td>\n      <td>...</td>\n      <td>Namibia, Republic of</td>\n      <td>NaN</td>\n      <td>NAM</td>\n      <td>516.0</td>\n      <td>Africa</td>\n      <td>AF</td>\n      <td>Namibia, Republic of</td>\n      <td>NaN</td>\n      <td>NAM</td>\n      <td>516.0</td>\n    </tr>\n    <tr>\n      <th>1</th>\n      <td>914324</td>\n      <td>01/12/2013</td>\n      <td>HTS-914324-0001</td>\n      <td>10</td>\n      <td>Wh Tshirt F</td>\n      <td>18</td>\n      <td>1</td>\n      <td>Mozilla/5.0 (Windows NT 10.0| WOW64) AppleWebK...</td>\n      <td>NaN</td>\n      <td>NaN</td>\n      <td>...</td>\n      <td>Namibia, Republic of</td>\n      <td>NaN</td>\n      <td>NAM</td>\n      <td>516.0</td>\n      <td>Africa</td>\n      <td>AF</td>\n      <td>Namibia, Republic of</td>\n      <td>NaN</td>\n      <td>NAM</td>\n      <td>516.0</td>\n    </tr>\n    <tr>\n      <th>2</th>\n      <td>61311</td>\n      <td>15/01/2016</td>\n      <td>HTS-061311-0003</td>\n      <td>9</td>\n      <td>Black T-Shirt F</td>\n      <td>17,5</td>\n      <td>4</td>\n      <td>Mozilla/5.0 (Macintosh| Intel Mac OS X 10_12_3...</td>\n      <td>NaN</td>\n      <td>NaN</td>\n      <td>...</td>\n      <td>Namibia, Republic of</td>\n      <td>NaN</td>\n      <td>NAM</td>\n      <td>516.0</td>\n      <td>Africa</td>\n      <td>AF</td>\n      <td>Namibia, Republic of</td>\n      <td>NaN</td>\n      <td>NAM</td>\n      <td>516.0</td>\n    </tr>\n    <tr>\n      <th>3</th>\n      <td>494332</td>\n      <td>03/11/2013</td>\n      <td>HTS-494332-0001</td>\n      <td>10</td>\n      <td>Wh Tshirt F</td>\n      <td>18</td>\n      <td>2</td>\n      <td>Mozilla/5.0 (Macintosh| Intel Mac OS X 10_11_6...</td>\n      <td>NaN</td>\n      <td>NaN</td>\n      <td>...</td>\n      <td>Namibia, Republic of</td>\n      <td>NaN</td>\n      <td>NAM</td>\n      <td>516.0</td>\n      <td>Africa</td>\n      <td>AF</td>\n      <td>Namibia, Republic of</td>\n      <td>NaN</td>\n      <td>NAM</td>\n      <td>516.0</td>\n    </tr>\n    <tr>\n      <th>4</th>\n      <td>463794</td>\n      <td>02/10/2013</td>\n      <td>HTS-463794-0001</td>\n      <td>14</td>\n      <td>Tennis Shirt</td>\n      <td>24</td>\n      <td>1</td>\n      <td>Mozilla/5.0 (Windows NT 10.0| Win64| x64) Appl...</td>\n      <td>NaN</td>\n      <td>NaN</td>\n      <td>...</td>\n      <td>Namibia, Republic of</td>\n      <td>NaN</td>\n      <td>NAM</td>\n      <td>516.0</td>\n      <td>Africa</td>\n      <td>AF</td>\n      <td>Namibia, Republic of</td>\n      <td>NaN</td>\n      <td>NAM</td>\n      <td>516.0</td>\n    </tr>\n    <tr>\n      <th>...</th>\n      <td>...</td>\n      <td>...</td>\n      <td>...</td>\n      <td>...</td>\n      <td>...</td>\n      <td>...</td>\n      <td>...</td>\n      <td>...</td>\n      <td>...</td>\n      <td>...</td>\n      <td>...</td>\n      <td>...</td>\n      <td>...</td>\n      <td>...</td>\n      <td>...</td>\n      <td>...</td>\n      <td>...</td>\n      <td>...</td>\n      <td>...</td>\n      <td>...</td>\n      <td>...</td>\n    </tr>\n    <tr>\n      <th>12916</th>\n      <td>476w74</td>\n      <td>26/01/2017</td>\n      <td>HTS-476w74-0002</td>\n      <td>11</td>\n      <td>Black T-Shirt F</td>\n      <td>17,5</td>\n      <td>1</td>\n      <td>Mozilla/5.0 (X11| Linux x86_64) AppleWebKit/53...</td>\n      <td>476w74</td>\n      <td>F</td>\n      <td>...</td>\n      <td>Oman, Sultanate of</td>\n      <td>OM</td>\n      <td>OMN</td>\n      <td>512.0</td>\n      <td>Asia</td>\n      <td>AS</td>\n      <td>Oman, Sultanate of</td>\n      <td>OM</td>\n      <td>OMN</td>\n      <td>512.0</td>\n    </tr>\n    <tr>\n      <th>12917</th>\n      <td>4lvxl7</td>\n      <td>25/02/2017</td>\n      <td>HTS-4lvxl7-0004</td>\n      <td>9</td>\n      <td>Black T-Shirt F</td>\n      <td>17,5</td>\n      <td>6</td>\n      <td>Mozilla/5.0 (Macintosh| Intel Mac OS X 10_11_6...</td>\n      <td>4lvxl7</td>\n      <td>F</td>\n      <td>...</td>\n      <td>Luxembourg, Grand Duchy of</td>\n      <td>LU</td>\n      <td>LUX</td>\n      <td>442.0</td>\n      <td>Europe</td>\n      <td>EU</td>\n      <td>Luxembourg, Grand Duchy of</td>\n      <td>LU</td>\n      <td>LUX</td>\n      <td>442.0</td>\n    </tr>\n    <tr>\n      <th>12918</th>\n      <td>4lvxl7</td>\n      <td>23/08/2016</td>\n      <td>HTS-4lvxl7-0003</td>\n      <td>12</td>\n      <td>White T-Shirt F</td>\n      <td>18</td>\n      <td>1</td>\n      <td>Mozilla/5.0 (Macintosh| Intel Mac OS X 10_11_6...</td>\n      <td>4lvxl7</td>\n      <td>F</td>\n      <td>...</td>\n      <td>Luxembourg, Grand Duchy of</td>\n      <td>LU</td>\n      <td>LUX</td>\n      <td>442.0</td>\n      <td>Europe</td>\n      <td>EU</td>\n      <td>Luxembourg, Grand Duchy of</td>\n      <td>LU</td>\n      <td>LUX</td>\n      <td>442.0</td>\n    </tr>\n    <tr>\n      <th>12919</th>\n      <td>4lvxl7</td>\n      <td>15/07/2015</td>\n      <td>HTS-4lvxl7-0001</td>\n      <td>13</td>\n      <td>White T-Shirt F</td>\n      <td>18</td>\n      <td>4</td>\n      <td>Mozilla/5.0 (Macintosh| Intel Mac OS X 10_11_6...</td>\n      <td>4lvxl7</td>\n      <td>F</td>\n      <td>...</td>\n      <td>Luxembourg, Grand Duchy of</td>\n      <td>LU</td>\n      <td>LUX</td>\n      <td>442.0</td>\n      <td>Europe</td>\n      <td>EU</td>\n      <td>Luxembourg, Grand Duchy of</td>\n      <td>LU</td>\n      <td>LUX</td>\n      <td>442.0</td>\n    </tr>\n    <tr>\n      <th>12920</th>\n      <td>4lvxl7</td>\n      <td>04/02/2016</td>\n      <td>HTS-4lvxl7-0002</td>\n      <td>10</td>\n      <td>White T-Shirt M</td>\n      <td>20</td>\n      <td>5</td>\n      <td>Mozilla/5.0 (Macintosh| Intel Mac OS X 10_11_6...</td>\n      <td>4lvxl7</td>\n      <td>F</td>\n      <td>...</td>\n      <td>Luxembourg, Grand Duchy of</td>\n      <td>LU</td>\n      <td>LUX</td>\n      <td>442.0</td>\n      <td>Europe</td>\n      <td>EU</td>\n      <td>Luxembourg, Grand Duchy of</td>\n      <td>LU</td>\n      <td>LUX</td>\n      <td>442.0</td>\n    </tr>\n  </tbody>\n</table>\n<p>12921 rows × 30 columns</p>\n</div>"
     },
     "metadata": {}
    }
   ]
  },
  {
   "cell_type": "markdown",
   "source": "# 3 - Data Manipulation : Data Standardization",
   "metadata": {
    "tags": [],
    "is_collapsed": false,
    "cell_id": "00018-a3f15eb6-22d4-4636-8305-efeecf8e8a18",
    "deepnote_cell_type": "text-cell-h1"
   }
  },
  {
   "cell_type": "code",
   "metadata": {
    "tags": [],
    "cell_id": "00019-bd8d9006-9475-475a-b6dc-84081e2279c6",
    "deepnote_to_be_reexecuted": false,
    "source_hash": "c14465f9",
    "execution_start": 1629375134374,
    "execution_millis": 0,
    "allow_embed": "code_output",
    "deepnote_cell_type": "code"
   },
   "source": "# Write your code here",
   "execution_count": null,
   "outputs": []
  },
  {
   "cell_type": "markdown",
   "source": "# 4 - Label Encoding",
   "metadata": {
    "tags": [],
    "is_collapsed": false,
    "cell_id": "00020-19b53742-8b2f-4b97-8a9c-f1985127193d",
    "deepnote_cell_type": "text-cell-h1"
   }
  },
  {
   "cell_type": "markdown",
   "source": "# 5 - Handling TimeStamp",
   "metadata": {
    "tags": [],
    "is_collapsed": false,
    "cell_id": "00021-aecba363-e28b-4e06-9e43-1c4afffc3e0a",
    "deepnote_cell_type": "text-cell-h1"
   }
  },
  {
   "cell_type": "markdown",
   "source": "<a style='text-decoration:none;line-height:16px;display:flex;color:#5B5B62;padding:10px;justify-content:end;' href='https://deepnote.com?utm_source=created-in-deepnote-cell&projectId=15271986-c986-45e3-9a81-c9d56c7c99fa' target=\"_blank\">\n<img alt='Created in deepnote.com' style='display:inline;max-height:16px;margin:0px;margin-right:7.5px;' src='data:image/svg+xml;base64,PD94bWwgdmVyc2lvbj0iMS4wIiBlbmNvZGluZz0iVVRGLTgiPz4KPHN2ZyB3aWR0aD0iODBweCIgaGVpZ2h0PSI4MHB4IiB2aWV3Qm94PSIwIDAgODAgODAiIHZlcnNpb249IjEuMSIgeG1sbnM9Imh0dHA6Ly93d3cudzMub3JnLzIwMDAvc3ZnIiB4bWxuczp4bGluaz0iaHR0cDovL3d3dy53My5vcmcvMTk5OS94bGluayI+CiAgICA8IS0tIEdlbmVyYXRvcjogU2tldGNoIDU0LjEgKDc2NDkwKSAtIGh0dHBzOi8vc2tldGNoYXBwLmNvbSAtLT4KICAgIDx0aXRsZT5Hcm91cCAzPC90aXRsZT4KICAgIDxkZXNjPkNyZWF0ZWQgd2l0aCBTa2V0Y2guPC9kZXNjPgogICAgPGcgaWQ9IkxhbmRpbmciIHN0cm9rZT0ibm9uZSIgc3Ryb2tlLXdpZHRoPSIxIiBmaWxsPSJub25lIiBmaWxsLXJ1bGU9ImV2ZW5vZGQiPgogICAgICAgIDxnIGlkPSJBcnRib2FyZCIgdHJhbnNmb3JtPSJ0cmFuc2xhdGUoLTEyMzUuMDAwMDAwLCAtNzkuMDAwMDAwKSI+CiAgICAgICAgICAgIDxnIGlkPSJHcm91cC0zIiB0cmFuc2Zvcm09InRyYW5zbGF0ZSgxMjM1LjAwMDAwMCwgNzkuMDAwMDAwKSI+CiAgICAgICAgICAgICAgICA8cG9seWdvbiBpZD0iUGF0aC0yMCIgZmlsbD0iIzAyNjVCNCIgcG9pbnRzPSIyLjM3NjIzNzYyIDgwIDM4LjA0NzY2NjcgODAgNTcuODIxNzgyMiA3My44MDU3NTkyIDU3LjgyMTc4MjIgMzIuNzU5MjczOSAzOS4xNDAyMjc4IDMxLjY4MzE2ODMiPjwvcG9seWdvbj4KICAgICAgICAgICAgICAgIDxwYXRoIGQ9Ik0zNS4wMDc3MTgsODAgQzQyLjkwNjIwMDcsNzYuNDU0OTM1OCA0Ny41NjQ5MTY3LDcxLjU0MjI2NzEgNDguOTgzODY2LDY1LjI2MTk5MzkgQzUxLjExMjI4OTksNTUuODQxNTg0MiA0MS42NzcxNzk1LDQ5LjIxMjIyODQgMjUuNjIzOTg0Niw0OS4yMTIyMjg0IEMyNS40ODQ5Mjg5LDQ5LjEyNjg0NDggMjkuODI2MTI5Niw0My4yODM4MjQ4IDM4LjY0NzU4NjksMzEuNjgzMTY4MyBMNzIuODcxMjg3MSwzMi41NTQ0MjUgTDY1LjI4MDk3Myw2Ny42NzYzNDIxIEw1MS4xMTIyODk5LDc3LjM3NjE0NCBMMzUuMDA3NzE4LDgwIFoiIGlkPSJQYXRoLTIyIiBmaWxsPSIjMDAyODY4Ij48L3BhdGg+CiAgICAgICAgICAgICAgICA8cGF0aCBkPSJNMCwzNy43MzA0NDA1IEwyNy4xMTQ1MzcsMC4yNTcxMTE0MzYgQzYyLjM3MTUxMjMsLTEuOTkwNzE3MDEgODAsMTAuNTAwMzkyNyA4MCwzNy43MzA0NDA1IEM4MCw2NC45NjA0ODgyIDY0Ljc3NjUwMzgsNzkuMDUwMzQxNCAzNC4zMjk1MTEzLDgwIEM0Ny4wNTUzNDg5LDc3LjU2NzA4MDggNTMuNDE4MjY3Nyw3MC4zMTM2MTAzIDUzLjQxODI2NzcsNTguMjM5NTg4NSBDNTMuNDE4MjY3Nyw0MC4xMjg1NTU3IDM2LjMwMzk1NDQsMzcuNzMwNDQwNSAyNS4yMjc0MTcsMzcuNzMwNDQwNSBDMTcuODQzMDU4NiwzNy43MzA0NDA1IDkuNDMzOTE5NjYsMzcuNzMwNDQwNSAwLDM3LjczMDQ0MDUgWiIgaWQ9IlBhdGgtMTkiIGZpbGw9IiMzNzkzRUYiPjwvcGF0aD4KICAgICAgICAgICAgPC9nPgogICAgICAgIDwvZz4KICAgIDwvZz4KPC9zdmc+' > </img>\nCreated in <span style='font-weight:600;margin-left:4px;'>Deepnote</span></a>",
   "metadata": {
    "tags": [],
    "created_in_deepnote_cell": true,
    "deepnote_cell_type": "markdown"
   }
  }
 ],
 "nbformat": 4,
 "nbformat_minor": 2,
 "metadata": {
  "orig_nbformat": 2,
  "deepnote": {
   "is_reactive": false
  },
  "deepnote_notebook_id": "55b78163-e59c-4fc9-b565-d315f65d0189",
  "deepnote_execution_queue": []
 }
}