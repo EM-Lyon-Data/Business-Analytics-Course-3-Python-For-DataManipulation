{
 "cells": [
  {
   "cell_type": "markdown",
   "source": "# Course 3: Python - Data Manipulation & ETL\n\nObjectives: In this course and notebook, the objective will be for you to be able to load, manipulate and export a dataset. All of these operations are commonly named ETL (Extract, Transform and Load). ETL is a very important process in Data project and can sometimes takes up to 80% of the time of a project..\n\nAt the end of this course, you will be able to:\n- **EXTRACT**: Load data from multiples sources: Flat files (Excel, CSV, etc.) and Databases (MSSQL)\n- **TRANSFORM**: Realize simple and advanced manipulation of the data covering concatenating, merging, standardize, encode a dataset\n- **LOAD**: Export your data in multiple format (Excel, CSV)\n\n<center><img src=\"https://docs.microsoft.com/fr-fr/azure/architecture/data-guide/images/etl.png\" title=\"Python Logo\" width = 600/></center>",
   "metadata": {
    "tags": [],
    "cell_id": "00001-d4fd0da4-0848-479a-b6d3-aab1e2ca621b",
    "deepnote_cell_type": "markdown"
   }
  },
  {
   "cell_type": "markdown",
   "source": "# 0 - Presentation of the case study",
   "metadata": {
    "tags": [],
    "is_collapsed": false,
    "cell_id": "00001-b63bd9ff-380f-41db-aed0-328ff69e36a4",
    "deepnote_cell_type": "text-cell-h1"
   }
  },
  {
   "cell_type": "markdown",
   "source": "You will be working for the Head of Operation of a big company that sales online Clothes for People. They would like to make an analysis of their Sales in order to extract meaninful insight that could help the marketing department to imagine new strategies for expanding their Asian market.\n\nThe DSI sent you all the data:\n- The Sales Tables that were given in 3 parts (because the file was too large)\n- The Client Table containing all the client information\n- A reference table given the country and their associated continent\n\nBelow you can find a representation of data that were sent. <br>\n\n<center><a href=\"https://ibb.co/YBr8Ggv\"><img src=\"https://i.ibb.co/PGS48kB/Case-Study.png\" alt=\"Case-Study\" border=\"0\"></a></center>",
   "metadata": {
    "tags": [],
    "cell_id": "00002-6c2eefaf-d833-4d04-884a-02c26dc813d4",
    "deepnote_cell_type": "markdown"
   }
  },
  {
   "cell_type": "markdown",
   "source": "<div class=\"alert alert-success\" role=\"alert\">\n<b>OBJECTIVE: You have asked and charged to clean the data in order to proceed to the next analysis steps</b>\n</div>",
   "metadata": {
    "tags": [],
    "cell_id": "00003-bb2d2f9d-ad40-47f1-9f28-f9d1f09f55c5",
    "deepnote_cell_type": "markdown"
   }
  },
  {
   "cell_type": "markdown",
   "source": "# 1 - Loading Data",
   "metadata": {
    "tags": [],
    "is_collapsed": false,
    "cell_id": "00001-90b6974b-ec0e-4d30-bcd2-35b9a152ce40",
    "deepnote_cell_type": "text-cell-h1"
   }
  },
  {
   "cell_type": "markdown",
   "source": "You can find all the references at this link : https://pandas.pydata.org/pandas-docs/stable/reference/io.html#",
   "metadata": {
    "tags": [],
    "cell_id": "00002-9d9169e0-c146-432c-8305-babc877fab7f",
    "deepnote_cell_type": "markdown"
   }
  },
  {
   "cell_type": "markdown",
   "source": "<div class=\"alert alert-block alert-info\">\n<b><p style=\"color:red;\">Exercice 0 : Install and import the pandas library</p></b>\n",
   "metadata": {
    "tags": [],
    "cell_id": "00006-bd1a2be4-0b86-4ebc-a87e-23890dd4cf84",
    "deepnote_cell_type": "markdown"
   }
  },
  {
   "cell_type": "code",
   "metadata": {
    "tags": [],
    "cell_id": "00006-cebecd6c-ee55-42fd-b8e3-e507ed38b96c",
    "deepnote_to_be_reexecuted": false,
    "source_hash": "43b7ea0e",
    "execution_start": 1631562922971,
    "execution_millis": 3643,
    "deepnote_cell_type": "code"
   },
   "source": "!pip install pandas",
   "outputs": [
    {
     "name": "stdout",
     "text": "Requirement already satisfied: pandas in /shared-libs/python3.7/py/lib/python3.7/site-packages (1.2.5)\nRequirement already satisfied: pytz>=2017.3 in /shared-libs/python3.7/py/lib/python3.7/site-packages (from pandas) (2021.1)\nRequirement already satisfied: numpy>=1.16.5 in /shared-libs/python3.7/py/lib/python3.7/site-packages (from pandas) (1.19.5)\nRequirement already satisfied: python-dateutil>=2.7.3 in /shared-libs/python3.7/py-core/lib/python3.7/site-packages (from pandas) (2.8.2)\nRequirement already satisfied: six>=1.5 in /shared-libs/python3.7/py-core/lib/python3.7/site-packages (from python-dateutil>=2.7.3->pandas) (1.16.0)\n\u001b[33mWARNING: You are using pip version 21.2.3; however, version 21.2.4 is available.\nYou should consider upgrading via the '/root/venv/bin/python -m pip install --upgrade pip' command.\u001b[0m\n",
     "output_type": "stream"
    }
   ],
   "execution_count": null
  },
  {
   "cell_type": "code",
   "metadata": {
    "tags": [],
    "cell_id": "00008-88aa66f4-9da1-4515-b7c5-602cae4f2b19",
    "deepnote_to_be_reexecuted": false,
    "source_hash": "9b82ee11",
    "execution_start": 1631562947012,
    "execution_millis": 0,
    "deepnote_cell_type": "code"
   },
   "source": "import pandas as pd",
   "outputs": [],
   "execution_count": null
  },
  {
   "cell_type": "code",
   "metadata": {
    "tags": [],
    "cell_id": "00009-633ad146-e083-4631-ae04-9c732a6dbbe1",
    "deepnote_to_be_reexecuted": false,
    "source_hash": "f482d9e1",
    "execution_start": 1631563105397,
    "execution_millis": 10,
    "deepnote_cell_type": "code"
   },
   "source": "df_movie = pd.DataFrame([1,2,3,4], columns = [\"number\"])\nprint(df_movie)",
   "outputs": [
    {
     "name": "stdout",
     "text": "   number\n0       1\n1       2\n2       3\n3       4\n",
     "output_type": "stream"
    }
   ],
   "execution_count": null
  },
  {
   "cell_type": "markdown",
   "source": "## 1.1 Loading from flat files",
   "metadata": {
    "tags": [],
    "is_collapsed": false,
    "cell_id": "00002-fe807e61-a85b-4898-a7c2-fbe5ffe9812d",
    "deepnote_cell_type": "text-cell-h2"
   }
  },
  {
   "cell_type": "markdown",
   "source": "<div class=\"alert alert-block alert-info\">\n<b><p style=\"color:red;\">Exercice 1 : Load the data from the Excel file</p></b>\nYou will need the function <b>pandas.read_excel</b> : <a href=\"https://pandas.pydata.org/pandas-docs/stable/reference/api/pandas.read_excel.html\">https://pandas.pydata.org/pandas-docs/stable/reference/api/pandas.read_excel.html</a>",
   "metadata": {
    "tags": [],
    "cell_id": "00003-21c8edb0-c2cf-48a7-9faf-404206299693",
    "deepnote_cell_type": "markdown"
   }
  },
  {
   "cell_type": "code",
   "metadata": {
    "tags": [],
    "cell_id": "00003-e4143e18-15bf-41a9-8810-a5f92f69069d",
    "deepnote_to_be_reexecuted": false,
    "source_hash": "1b6afc06",
    "execution_start": 1631574412917,
    "execution_millis": 698,
    "is_code_hidden": false,
    "deepnote_cell_type": "code"
   },
   "source": "# Write your code here\nimport pandas as pd\ndf_client = pd.read_excel(\"Client.xlsx\")",
   "outputs": [],
   "execution_count": 6
  },
  {
   "cell_type": "markdown",
   "source": "🔴IMPORTANT❗🔴 It is always a good practice to look at your imported data so that there are not any issues 😉\nSo let's do a print of our dataframe",
   "metadata": {
    "tags": [],
    "cell_id": "00006-a2f3548c-07ac-4c6b-a54d-7e647af18bc5",
    "deepnote_cell_type": "markdown"
   }
  },
  {
   "cell_type": "code",
   "metadata": {
    "tags": [],
    "cell_id": "00007-4534c967-abf0-4456-9c5d-70dca8290ce9",
    "deepnote_to_be_reexecuted": false,
    "source_hash": "52bdd774",
    "execution_start": 1631550469120,
    "execution_millis": 27,
    "is_output_hidden": false,
    "allow_embed": "output",
    "deepnote_cell_type": "code"
   },
   "source": "df_client.head()",
   "outputs": [
    {
     "output_type": "execute_result",
     "execution_count": 3,
     "data": {
      "application/vnd.deepnote.dataframe.v2+json": {
       "row_count": 5,
       "column_count": 10,
       "columns": [
        {
         "name": "customerID",
         "dtype": "object",
         "stats": {
          "unique_count": 5,
          "nan_count": 0,
          "categories": [
           {
            "name": "38040",
            "count": 1
           },
           {
            "name": "vft1eu",
            "count": 1
           },
           {
            "name": "3 others",
            "count": 3
           }
          ]
         }
        },
        {
         "name": "gender",
         "dtype": "object",
         "stats": {
          "unique_count": 1,
          "nan_count": 0,
          "categories": [
           {
            "name": "F",
            "count": 5
           }
          ]
         }
        },
        {
         "name": "birthdate",
         "dtype": "object",
         "stats": {
          "unique_count": 5,
          "nan_count": 0,
          "categories": [
           {
            "name": "1946-12-21",
            "count": 1
           },
           {
            "name": "1969-06-27",
            "count": 1
           },
           {
            "name": "3 others",
            "count": 3
           }
          ]
         }
        },
        {
         "name": "ip_address",
         "dtype": "object",
         "stats": {
          "unique_count": 5,
          "nan_count": 0,
          "categories": [
           {
            "name": "67.74.254.174",
            "count": 1
           },
           {
            "name": "53.115.6.106",
            "count": 1
           },
           {
            "name": "3 others",
            "count": 3
           }
          ]
         }
        },
        {
         "name": "latitude",
         "dtype": "float64",
         "stats": {
          "unique_count": 4,
          "nan_count": 0,
          "min": "34.14530182",
          "max": "51.5",
          "histogram": [
           {
            "bin_start": 34.14530182,
            "bin_end": 35.880771638,
            "count": 1
           },
           {
            "bin_start": 35.880771638,
            "bin_end": 37.616241456,
            "count": 0
           },
           {
            "bin_start": 37.616241456,
            "bin_end": 39.351711273999996,
            "count": 1
           },
           {
            "bin_start": 39.351711273999996,
            "bin_end": 41.087181092,
            "count": 0
           },
           {
            "bin_start": 41.087181092,
            "bin_end": 42.82265091,
            "count": 0
           },
           {
            "bin_start": 42.82265091,
            "bin_end": 44.558120728,
            "count": 0
           },
           {
            "bin_start": 44.558120728,
            "bin_end": 46.293590546,
            "count": 0
           },
           {
            "bin_start": 46.293590546,
            "bin_end": 48.029060364,
            "count": 0
           },
           {
            "bin_start": 48.029060364,
            "bin_end": 49.764530182,
            "count": 0
           },
           {
            "bin_start": 49.764530182,
            "bin_end": 51.5,
            "count": 3
           }
          ]
         }
        },
        {
         "name": "longitude",
         "dtype": "float64",
         "stats": {
          "unique_count": 4,
          "nan_count": 0,
          "min": "-119.1091003",
          "max": "9.0",
          "histogram": [
           {
            "bin_start": -119.1091003,
            "bin_end": -106.29819026999999,
            "count": 1
           },
           {
            "bin_start": -106.29819026999999,
            "bin_end": -93.48728023999999,
            "count": 1
           },
           {
            "bin_start": -93.48728023999999,
            "bin_end": -80.67637021,
            "count": 0
           },
           {
            "bin_start": -80.67637021,
            "bin_end": -67.86546018,
            "count": 0
           },
           {
            "bin_start": -67.86546018,
            "bin_end": -55.05455015,
            "count": 0
           },
           {
            "bin_start": -55.05455015,
            "bin_end": -42.24364012000001,
            "count": 0
           },
           {
            "bin_start": -42.24364012000001,
            "bin_end": -29.432730090000007,
            "count": 0
           },
           {
            "bin_start": -29.432730090000007,
            "bin_end": -16.621820060000005,
            "count": 0
           },
           {
            "bin_start": -16.621820060000005,
            "bin_end": -3.8109100300000023,
            "count": 0
           },
           {
            "bin_start": -3.8109100300000023,
            "bin_end": 9,
            "count": 3
           }
          ]
         }
        },
        {
         "name": "Country Name",
         "dtype": "object",
         "stats": {
          "unique_count": 3,
          "nan_count": 0,
          "categories": [
           {
            "name": "United States of America",
            "count": 2
           },
           {
            "name": "Germany, Federal Republic of",
            "count": 2
           },
           {
            "name": "United Kingdom of Great Britain & Northern Ireland",
            "count": 1
           }
          ]
         }
        },
        {
         "name": "country_code",
         "dtype": "object",
         "stats": {
          "unique_count": 3,
          "nan_count": 0,
          "categories": [
           {
            "name": "US",
            "count": 2
           },
           {
            "name": "DE",
            "count": 2
           },
           {
            "name": "GB",
            "count": 1
           }
          ]
         }
        },
        {
         "name": "city_name",
         "dtype": "object",
         "stats": {
          "unique_count": 1,
          "nan_count": 4,
          "categories": [
           {
            "name": "Oxnard",
            "count": 1
           },
           {
            "name": "Missing",
            "count": 4
           }
          ]
         }
        },
        {
         "name": "email",
         "dtype": "object",
         "stats": {
          "unique_count": 5,
          "nan_count": 0,
          "categories": [
           {
            "name": "XOQM@formation.fr",
            "count": 1
           },
           {
            "name": "HEOX@formation.fr",
            "count": 1
           },
           {
            "name": "3 others",
            "count": 3
           }
          ]
         }
        },
        {
         "name": "_deepnote_index_column",
         "dtype": "int64"
        }
       ],
       "rows_top": [
        {
         "customerID": "38040",
         "gender": "F",
         "birthdate": "1946-12-21 00:00:00",
         "ip_address": "67.74.254.174",
         "latitude": 38,
         "longitude": -97,
         "Country Name": "United States of America",
         "country_code": "US",
         "city_name": "nan",
         "email": "XOQM@formation.fr",
         "_deepnote_index_column": 0
        },
        {
         "customerID": "vft1eu",
         "gender": "F",
         "birthdate": "1969-06-27 00:00:00",
         "ip_address": "53.115.6.106",
         "latitude": 51,
         "longitude": 9,
         "Country Name": "Germany, Federal Republic of",
         "country_code": "DE",
         "city_name": "nan",
         "email": "HEOX@formation.fr",
         "_deepnote_index_column": 1
        },
        {
         "customerID": "914324",
         "gender": "F",
         "birthdate": "1959-10-22 00:00:00",
         "ip_address": "51.99.199.27",
         "latitude": 51.5,
         "longitude": -0.129999995,
         "Country Name": "United Kingdom of Great Britain & Northern Ireland",
         "country_code": "GB",
         "city_name": "nan",
         "email": "OHVP@formation.fr",
         "_deepnote_index_column": 2
        },
        {
         "customerID": "61311",
         "gender": "F",
         "birthdate": "1941-03-28 00:00:00",
         "ip_address": "79.242.189.178",
         "latitude": 51,
         "longitude": 9,
         "Country Name": "Germany, Federal Republic of",
         "country_code": "DE",
         "city_name": "nan",
         "email": "FCOY@formation.fr",
         "_deepnote_index_column": 3
        },
        {
         "customerID": "494332",
         "gender": "F",
         "birthdate": "1961-04-08 00:00:00",
         "ip_address": "66.27.205.106",
         "latitude": 34.14530182,
         "longitude": -119.1091003,
         "Country Name": "United States of America",
         "country_code": "US",
         "city_name": "Oxnard",
         "email": "RYNS@formation.fr",
         "_deepnote_index_column": 4
        }
       ],
       "rows_bottom": null
      },
      "text/plain": "  customerID gender            birthdate      ip_address   latitude  \\\n0      38040      F  1946-12-21 00:00:00   67.74.254.174  38.000000   \n1     vft1eu      F  1969-06-27 00:00:00    53.115.6.106  51.000000   \n2     914324      F  1959-10-22 00:00:00    51.99.199.27  51.500000   \n3      61311      F  1941-03-28 00:00:00  79.242.189.178  51.000000   \n4     494332      F  1961-04-08 00:00:00   66.27.205.106  34.145302   \n\n   longitude                                       Country Name country_code  \\\n0   -97.0000                           United States of America           US   \n1     9.0000                       Germany, Federal Republic of           DE   \n2    -0.1300  United Kingdom of Great Britain & Northern Ire...           GB   \n3     9.0000                       Germany, Federal Republic of           DE   \n4  -119.1091                           United States of America           US   \n\n  city_name              email  \n0       NaN  XOQM@formation.fr  \n1       NaN  HEOX@formation.fr  \n2       NaN  OHVP@formation.fr  \n3       NaN  FCOY@formation.fr  \n4    Oxnard  RYNS@formation.fr  ",
      "text/html": "<div>\n<style scoped>\n    .dataframe tbody tr th:only-of-type {\n        vertical-align: middle;\n    }\n\n    .dataframe tbody tr th {\n        vertical-align: top;\n    }\n\n    .dataframe thead th {\n        text-align: right;\n    }\n</style>\n<table border=\"1\" class=\"dataframe\">\n  <thead>\n    <tr style=\"text-align: right;\">\n      <th></th>\n      <th>customerID</th>\n      <th>gender</th>\n      <th>birthdate</th>\n      <th>ip_address</th>\n      <th>latitude</th>\n      <th>longitude</th>\n      <th>Country Name</th>\n      <th>country_code</th>\n      <th>city_name</th>\n      <th>email</th>\n    </tr>\n  </thead>\n  <tbody>\n    <tr>\n      <th>0</th>\n      <td>38040</td>\n      <td>F</td>\n      <td>1946-12-21 00:00:00</td>\n      <td>67.74.254.174</td>\n      <td>38.000000</td>\n      <td>-97.0000</td>\n      <td>United States of America</td>\n      <td>US</td>\n      <td>NaN</td>\n      <td>XOQM@formation.fr</td>\n    </tr>\n    <tr>\n      <th>1</th>\n      <td>vft1eu</td>\n      <td>F</td>\n      <td>1969-06-27 00:00:00</td>\n      <td>53.115.6.106</td>\n      <td>51.000000</td>\n      <td>9.0000</td>\n      <td>Germany, Federal Republic of</td>\n      <td>DE</td>\n      <td>NaN</td>\n      <td>HEOX@formation.fr</td>\n    </tr>\n    <tr>\n      <th>2</th>\n      <td>914324</td>\n      <td>F</td>\n      <td>1959-10-22 00:00:00</td>\n      <td>51.99.199.27</td>\n      <td>51.500000</td>\n      <td>-0.1300</td>\n      <td>United Kingdom of Great Britain &amp; Northern Ire...</td>\n      <td>GB</td>\n      <td>NaN</td>\n      <td>OHVP@formation.fr</td>\n    </tr>\n    <tr>\n      <th>3</th>\n      <td>61311</td>\n      <td>F</td>\n      <td>1941-03-28 00:00:00</td>\n      <td>79.242.189.178</td>\n      <td>51.000000</td>\n      <td>9.0000</td>\n      <td>Germany, Federal Republic of</td>\n      <td>DE</td>\n      <td>NaN</td>\n      <td>FCOY@formation.fr</td>\n    </tr>\n    <tr>\n      <th>4</th>\n      <td>494332</td>\n      <td>F</td>\n      <td>1961-04-08 00:00:00</td>\n      <td>66.27.205.106</td>\n      <td>34.145302</td>\n      <td>-119.1091</td>\n      <td>United States of America</td>\n      <td>US</td>\n      <td>Oxnard</td>\n      <td>RYNS@formation.fr</td>\n    </tr>\n  </tbody>\n</table>\n</div>"
     },
     "metadata": {}
    }
   ],
   "execution_count": null
  },
  {
   "cell_type": "markdown",
   "source": "<div class=\"alert alert-block alert-info\">\n<b><p style=\"color:red;\">Exercice 1bis : Read the first 10, 20 and 50 records</p></b>",
   "metadata": {
    "tags": [],
    "cell_id": "00011-439e45f3-7b8c-4854-b031-b6144612be19",
    "deepnote_cell_type": "markdown"
   }
  },
  {
   "cell_type": "code",
   "metadata": {
    "tags": [],
    "cell_id": "00012-94082159-ccf4-430d-8d11-1de48d939a92",
    "deepnote_to_be_reexecuted": false,
    "source_hash": "6935f6f0",
    "execution_start": 1631550470160,
    "execution_millis": 12,
    "deepnote_cell_type": "code"
   },
   "source": "df_client.head(5)",
   "outputs": [
    {
     "output_type": "execute_result",
     "execution_count": 4,
     "data": {
      "application/vnd.deepnote.dataframe.v2+json": {
       "row_count": 5,
       "column_count": 10,
       "columns": [
        {
         "name": "customerID",
         "dtype": "object",
         "stats": {
          "unique_count": 5,
          "nan_count": 0,
          "categories": [
           {
            "name": "38040",
            "count": 1
           },
           {
            "name": "vft1eu",
            "count": 1
           },
           {
            "name": "3 others",
            "count": 3
           }
          ]
         }
        },
        {
         "name": "gender",
         "dtype": "object",
         "stats": {
          "unique_count": 1,
          "nan_count": 0,
          "categories": [
           {
            "name": "F",
            "count": 5
           }
          ]
         }
        },
        {
         "name": "birthdate",
         "dtype": "object",
         "stats": {
          "unique_count": 5,
          "nan_count": 0,
          "categories": [
           {
            "name": "1946-12-21",
            "count": 1
           },
           {
            "name": "1969-06-27",
            "count": 1
           },
           {
            "name": "3 others",
            "count": 3
           }
          ]
         }
        },
        {
         "name": "ip_address",
         "dtype": "object",
         "stats": {
          "unique_count": 5,
          "nan_count": 0,
          "categories": [
           {
            "name": "67.74.254.174",
            "count": 1
           },
           {
            "name": "53.115.6.106",
            "count": 1
           },
           {
            "name": "3 others",
            "count": 3
           }
          ]
         }
        },
        {
         "name": "latitude",
         "dtype": "float64",
         "stats": {
          "unique_count": 4,
          "nan_count": 0,
          "min": "34.14530182",
          "max": "51.5",
          "histogram": [
           {
            "bin_start": 34.14530182,
            "bin_end": 35.880771638,
            "count": 1
           },
           {
            "bin_start": 35.880771638,
            "bin_end": 37.616241456,
            "count": 0
           },
           {
            "bin_start": 37.616241456,
            "bin_end": 39.351711273999996,
            "count": 1
           },
           {
            "bin_start": 39.351711273999996,
            "bin_end": 41.087181092,
            "count": 0
           },
           {
            "bin_start": 41.087181092,
            "bin_end": 42.82265091,
            "count": 0
           },
           {
            "bin_start": 42.82265091,
            "bin_end": 44.558120728,
            "count": 0
           },
           {
            "bin_start": 44.558120728,
            "bin_end": 46.293590546,
            "count": 0
           },
           {
            "bin_start": 46.293590546,
            "bin_end": 48.029060364,
            "count": 0
           },
           {
            "bin_start": 48.029060364,
            "bin_end": 49.764530182,
            "count": 0
           },
           {
            "bin_start": 49.764530182,
            "bin_end": 51.5,
            "count": 3
           }
          ]
         }
        },
        {
         "name": "longitude",
         "dtype": "float64",
         "stats": {
          "unique_count": 4,
          "nan_count": 0,
          "min": "-119.1091003",
          "max": "9.0",
          "histogram": [
           {
            "bin_start": -119.1091003,
            "bin_end": -106.29819026999999,
            "count": 1
           },
           {
            "bin_start": -106.29819026999999,
            "bin_end": -93.48728023999999,
            "count": 1
           },
           {
            "bin_start": -93.48728023999999,
            "bin_end": -80.67637021,
            "count": 0
           },
           {
            "bin_start": -80.67637021,
            "bin_end": -67.86546018,
            "count": 0
           },
           {
            "bin_start": -67.86546018,
            "bin_end": -55.05455015,
            "count": 0
           },
           {
            "bin_start": -55.05455015,
            "bin_end": -42.24364012000001,
            "count": 0
           },
           {
            "bin_start": -42.24364012000001,
            "bin_end": -29.432730090000007,
            "count": 0
           },
           {
            "bin_start": -29.432730090000007,
            "bin_end": -16.621820060000005,
            "count": 0
           },
           {
            "bin_start": -16.621820060000005,
            "bin_end": -3.8109100300000023,
            "count": 0
           },
           {
            "bin_start": -3.8109100300000023,
            "bin_end": 9,
            "count": 3
           }
          ]
         }
        },
        {
         "name": "Country Name",
         "dtype": "object",
         "stats": {
          "unique_count": 3,
          "nan_count": 0,
          "categories": [
           {
            "name": "United States of America",
            "count": 2
           },
           {
            "name": "Germany, Federal Republic of",
            "count": 2
           },
           {
            "name": "United Kingdom of Great Britain & Northern Ireland",
            "count": 1
           }
          ]
         }
        },
        {
         "name": "country_code",
         "dtype": "object",
         "stats": {
          "unique_count": 3,
          "nan_count": 0,
          "categories": [
           {
            "name": "US",
            "count": 2
           },
           {
            "name": "DE",
            "count": 2
           },
           {
            "name": "GB",
            "count": 1
           }
          ]
         }
        },
        {
         "name": "city_name",
         "dtype": "object",
         "stats": {
          "unique_count": 1,
          "nan_count": 4,
          "categories": [
           {
            "name": "Oxnard",
            "count": 1
           },
           {
            "name": "Missing",
            "count": 4
           }
          ]
         }
        },
        {
         "name": "email",
         "dtype": "object",
         "stats": {
          "unique_count": 5,
          "nan_count": 0,
          "categories": [
           {
            "name": "XOQM@formation.fr",
            "count": 1
           },
           {
            "name": "HEOX@formation.fr",
            "count": 1
           },
           {
            "name": "3 others",
            "count": 3
           }
          ]
         }
        },
        {
         "name": "_deepnote_index_column",
         "dtype": "int64"
        }
       ],
       "rows_top": [
        {
         "customerID": "38040",
         "gender": "F",
         "birthdate": "1946-12-21 00:00:00",
         "ip_address": "67.74.254.174",
         "latitude": 38,
         "longitude": -97,
         "Country Name": "United States of America",
         "country_code": "US",
         "city_name": "nan",
         "email": "XOQM@formation.fr",
         "_deepnote_index_column": 0
        },
        {
         "customerID": "vft1eu",
         "gender": "F",
         "birthdate": "1969-06-27 00:00:00",
         "ip_address": "53.115.6.106",
         "latitude": 51,
         "longitude": 9,
         "Country Name": "Germany, Federal Republic of",
         "country_code": "DE",
         "city_name": "nan",
         "email": "HEOX@formation.fr",
         "_deepnote_index_column": 1
        },
        {
         "customerID": "914324",
         "gender": "F",
         "birthdate": "1959-10-22 00:00:00",
         "ip_address": "51.99.199.27",
         "latitude": 51.5,
         "longitude": -0.129999995,
         "Country Name": "United Kingdom of Great Britain & Northern Ireland",
         "country_code": "GB",
         "city_name": "nan",
         "email": "OHVP@formation.fr",
         "_deepnote_index_column": 2
        },
        {
         "customerID": "61311",
         "gender": "F",
         "birthdate": "1941-03-28 00:00:00",
         "ip_address": "79.242.189.178",
         "latitude": 51,
         "longitude": 9,
         "Country Name": "Germany, Federal Republic of",
         "country_code": "DE",
         "city_name": "nan",
         "email": "FCOY@formation.fr",
         "_deepnote_index_column": 3
        },
        {
         "customerID": "494332",
         "gender": "F",
         "birthdate": "1961-04-08 00:00:00",
         "ip_address": "66.27.205.106",
         "latitude": 34.14530182,
         "longitude": -119.1091003,
         "Country Name": "United States of America",
         "country_code": "US",
         "city_name": "Oxnard",
         "email": "RYNS@formation.fr",
         "_deepnote_index_column": 4
        }
       ],
       "rows_bottom": null
      },
      "text/plain": "  customerID gender            birthdate      ip_address   latitude  \\\n0      38040      F  1946-12-21 00:00:00   67.74.254.174  38.000000   \n1     vft1eu      F  1969-06-27 00:00:00    53.115.6.106  51.000000   \n2     914324      F  1959-10-22 00:00:00    51.99.199.27  51.500000   \n3      61311      F  1941-03-28 00:00:00  79.242.189.178  51.000000   \n4     494332      F  1961-04-08 00:00:00   66.27.205.106  34.145302   \n\n   longitude                                       Country Name country_code  \\\n0   -97.0000                           United States of America           US   \n1     9.0000                       Germany, Federal Republic of           DE   \n2    -0.1300  United Kingdom of Great Britain & Northern Ire...           GB   \n3     9.0000                       Germany, Federal Republic of           DE   \n4  -119.1091                           United States of America           US   \n\n  city_name              email  \n0       NaN  XOQM@formation.fr  \n1       NaN  HEOX@formation.fr  \n2       NaN  OHVP@formation.fr  \n3       NaN  FCOY@formation.fr  \n4    Oxnard  RYNS@formation.fr  ",
      "text/html": "<div>\n<style scoped>\n    .dataframe tbody tr th:only-of-type {\n        vertical-align: middle;\n    }\n\n    .dataframe tbody tr th {\n        vertical-align: top;\n    }\n\n    .dataframe thead th {\n        text-align: right;\n    }\n</style>\n<table border=\"1\" class=\"dataframe\">\n  <thead>\n    <tr style=\"text-align: right;\">\n      <th></th>\n      <th>customerID</th>\n      <th>gender</th>\n      <th>birthdate</th>\n      <th>ip_address</th>\n      <th>latitude</th>\n      <th>longitude</th>\n      <th>Country Name</th>\n      <th>country_code</th>\n      <th>city_name</th>\n      <th>email</th>\n    </tr>\n  </thead>\n  <tbody>\n    <tr>\n      <th>0</th>\n      <td>38040</td>\n      <td>F</td>\n      <td>1946-12-21 00:00:00</td>\n      <td>67.74.254.174</td>\n      <td>38.000000</td>\n      <td>-97.0000</td>\n      <td>United States of America</td>\n      <td>US</td>\n      <td>NaN</td>\n      <td>XOQM@formation.fr</td>\n    </tr>\n    <tr>\n      <th>1</th>\n      <td>vft1eu</td>\n      <td>F</td>\n      <td>1969-06-27 00:00:00</td>\n      <td>53.115.6.106</td>\n      <td>51.000000</td>\n      <td>9.0000</td>\n      <td>Germany, Federal Republic of</td>\n      <td>DE</td>\n      <td>NaN</td>\n      <td>HEOX@formation.fr</td>\n    </tr>\n    <tr>\n      <th>2</th>\n      <td>914324</td>\n      <td>F</td>\n      <td>1959-10-22 00:00:00</td>\n      <td>51.99.199.27</td>\n      <td>51.500000</td>\n      <td>-0.1300</td>\n      <td>United Kingdom of Great Britain &amp; Northern Ire...</td>\n      <td>GB</td>\n      <td>NaN</td>\n      <td>OHVP@formation.fr</td>\n    </tr>\n    <tr>\n      <th>3</th>\n      <td>61311</td>\n      <td>F</td>\n      <td>1941-03-28 00:00:00</td>\n      <td>79.242.189.178</td>\n      <td>51.000000</td>\n      <td>9.0000</td>\n      <td>Germany, Federal Republic of</td>\n      <td>DE</td>\n      <td>NaN</td>\n      <td>FCOY@formation.fr</td>\n    </tr>\n    <tr>\n      <th>4</th>\n      <td>494332</td>\n      <td>F</td>\n      <td>1961-04-08 00:00:00</td>\n      <td>66.27.205.106</td>\n      <td>34.145302</td>\n      <td>-119.1091</td>\n      <td>United States of America</td>\n      <td>US</td>\n      <td>Oxnard</td>\n      <td>RYNS@formation.fr</td>\n    </tr>\n  </tbody>\n</table>\n</div>"
     },
     "metadata": {}
    }
   ],
   "execution_count": null
  },
  {
   "cell_type": "markdown",
   "source": "<div class=\"alert alert-block alert-info\">\n<b><p style=\"color:red;\">Exercice 1ter : Can you guess how to view the last few records ?</p></b>",
   "metadata": {
    "tags": [],
    "cell_id": "00013-d15ab710-3ed1-48c7-b1c5-941481a4dcc9",
    "deepnote_cell_type": "markdown"
   }
  },
  {
   "cell_type": "code",
   "metadata": {
    "tags": [],
    "cell_id": "00014-8955743d-9fa5-4461-8d3e-44655b305235",
    "deepnote_to_be_reexecuted": false,
    "source_hash": "eb8ffa46",
    "execution_start": 1631550471175,
    "execution_millis": 10,
    "deepnote_cell_type": "code"
   },
   "source": "df_client.tail(5)",
   "outputs": [
    {
     "output_type": "execute_result",
     "execution_count": 5,
     "data": {
      "application/vnd.deepnote.dataframe.v2+json": {
       "row_count": 5,
       "column_count": 10,
       "columns": [
        {
         "name": "customerID",
         "dtype": "object",
         "stats": {
          "unique_count": 5,
          "nan_count": 0,
          "categories": [
           {
            "name": "363790",
            "count": 1
           },
           {
            "name": "399318",
            "count": 1
           },
           {
            "name": "3 others",
            "count": 3
           }
          ]
         }
        },
        {
         "name": "gender",
         "dtype": "object",
         "stats": {
          "unique_count": 1,
          "nan_count": 0,
          "categories": [
           {
            "name": "F",
            "count": 5
           }
          ]
         }
        },
        {
         "name": "birthdate",
         "dtype": "object",
         "stats": {
          "unique_count": 5,
          "nan_count": 0,
          "categories": [
           {
            "name": "1947-02-24 00:00:00",
            "count": 1
           },
           {
            "name": "25/03/1848",
            "count": 1
           },
           {
            "name": "3 others",
            "count": 3
           }
          ]
         }
        },
        {
         "name": "ip_address",
         "dtype": "object",
         "stats": {
          "unique_count": 5,
          "nan_count": 0,
          "categories": [
           {
            "name": "91.44.228.132",
            "count": 1
           },
           {
            "name": "85.249.156.141",
            "count": 1
           },
           {
            "name": "3 others",
            "count": 3
           }
          ]
         }
        },
        {
         "name": "latitude",
         "dtype": "float64",
         "stats": {
          "unique_count": 5,
          "nan_count": 0,
          "min": "48.76670075",
          "max": "60.0",
          "histogram": [
           {
            "bin_start": 48.76670075,
            "bin_end": 49.890030675,
            "count": 2
           },
           {
            "bin_start": 49.890030675,
            "bin_end": 51.0133606,
            "count": 0
           },
           {
            "bin_start": 51.0133606,
            "bin_end": 52.136690525,
            "count": 2
           },
           {
            "bin_start": 52.136690525,
            "bin_end": 53.26002045,
            "count": 0
           },
           {
            "bin_start": 53.26002045,
            "bin_end": 54.383350375,
            "count": 0
           },
           {
            "bin_start": 54.383350375,
            "bin_end": 55.5066803,
            "count": 0
           },
           {
            "bin_start": 55.5066803,
            "bin_end": 56.630010225,
            "count": 0
           },
           {
            "bin_start": 56.630010225,
            "bin_end": 57.75334015,
            "count": 0
           },
           {
            "bin_start": 57.75334015,
            "bin_end": 58.876670075,
            "count": 0
           },
           {
            "bin_start": 58.876670075,
            "bin_end": 60,
            "count": 1
           }
          ]
         }
        },
        {
         "name": "longitude",
         "dtype": "float64",
         "stats": {
          "unique_count": 5,
          "nan_count": 0,
          "min": "-0.129999995",
          "max": "100.0",
          "histogram": [
           {
            "bin_start": -0.129999995,
            "bin_end": 9.8830000045,
            "count": 4
           },
           {
            "bin_start": 9.8830000045,
            "bin_end": 19.896000004,
            "count": 0
           },
           {
            "bin_start": 19.896000004,
            "bin_end": 29.9090000035,
            "count": 0
           },
           {
            "bin_start": 29.9090000035,
            "bin_end": 39.922000003,
            "count": 0
           },
           {
            "bin_start": 39.922000003,
            "bin_end": 49.9350000025,
            "count": 0
           },
           {
            "bin_start": 49.9350000025,
            "bin_end": 59.948000002,
            "count": 0
           },
           {
            "bin_start": 59.948000002,
            "bin_end": 69.9610000015,
            "count": 0
           },
           {
            "bin_start": 69.9610000015,
            "bin_end": 79.974000001,
            "count": 0
           },
           {
            "bin_start": 79.974000001,
            "bin_end": 89.98700000049999,
            "count": 0
           },
           {
            "bin_start": 89.98700000049999,
            "bin_end": 100,
            "count": 1
           }
          ]
         }
        },
        {
         "name": "Country Name",
         "dtype": "object",
         "stats": {
          "unique_count": 4,
          "nan_count": 0,
          "categories": [
           {
            "name": "United Kingdom of Great Britain & Northern Ireland",
            "count": 2
           },
           {
            "name": "Germany, Federal Republic of",
            "count": 1
           },
           {
            "name": "2 others",
            "count": 2
           }
          ]
         }
        },
        {
         "name": "country_code",
         "dtype": "object",
         "stats": {
          "unique_count": 4,
          "nan_count": 0,
          "categories": [
           {
            "name": "GB",
            "count": 2
           },
           {
            "name": "DE",
            "count": 1
           },
           {
            "name": "2 others",
            "count": 2
           }
          ]
         }
        },
        {
         "name": "city_name",
         "dtype": "object",
         "stats": {
          "unique_count": 3,
          "nan_count": 2,
          "categories": [
           {
            "name": "Stuttgart",
            "count": 1
           },
           {
            "name": "2 others",
            "count": 2
           },
           {
            "name": "Missing",
            "count": 2
           }
          ]
         }
        },
        {
         "name": "email",
         "dtype": "object",
         "stats": {
          "unique_count": 5,
          "nan_count": 0,
          "categories": [
           {
            "name": "ABHK@formation.fr",
            "count": 1
           },
           {
            "name": "USQB@formation.fr",
            "count": 1
           },
           {
            "name": "3 others",
            "count": 3
           }
          ]
         }
        },
        {
         "name": "_deepnote_index_column",
         "dtype": "int64"
        }
       ],
       "rows_top": [
        {
         "customerID": "363790",
         "gender": "F",
         "birthdate": "1947-02-24 00:00:00",
         "ip_address": "91.44.228.132",
         "latitude": 48.76670075,
         "longitude": 9.183300018,
         "Country Name": "Germany, Federal Republic of",
         "country_code": "DE",
         "city_name": "Stuttgart",
         "email": "ABHK@formation.fr",
         "_deepnote_index_column": 2681
        },
        {
         "customerID": "399318",
         "gender": "F",
         "birthdate": "25/03/1848",
         "ip_address": "85.249.156.141",
         "latitude": 60,
         "longitude": 100,
         "Country Name": "Russian Federation",
         "country_code": "RU",
         "city_name": "nan",
         "email": "USQB@formation.fr",
         "_deepnote_index_column": 2682
        },
        {
         "customerID": "433300",
         "gender": "F",
         "birthdate": "1968-06-25 00:00:00",
         "ip_address": "86.195.158.226",
         "latitude": 49.00159836,
         "longitude": 2.096899986,
         "Country Name": "France, French Republic",
         "country_code": "FR",
         "city_name": "Conflans-sainte-honorine",
         "email": "CTJD@formation.fr",
         "_deepnote_index_column": 2683
        },
        {
         "customerID": "49290",
         "gender": "F",
         "birthdate": "1953-10-06 00:00:00",
         "ip_address": "81.139.81.23",
         "latitude": 51.78329849,
         "longitude": 0.166700006,
         "Country Name": "United Kingdom of Great Britain & Northern Ireland",
         "country_code": "GB",
         "city_name": "Harlow",
         "email": "KMKX@formation.fr",
         "_deepnote_index_column": 2684
        },
        {
         "customerID": "f1wvaf",
         "gender": "F",
         "birthdate": "1954-06-13 00:00:00",
         "ip_address": "51.8.120.254",
         "latitude": 51.5,
         "longitude": -0.129999995,
         "Country Name": "United Kingdom of Great Britain & Northern Ireland",
         "country_code": "GB",
         "city_name": "nan",
         "email": "DWRV@formation.fr",
         "_deepnote_index_column": 2685
        }
       ],
       "rows_bottom": null
      },
      "text/plain": "     customerID gender            birthdate      ip_address   latitude  \\\n2681     363790      F  1947-02-24 00:00:00   91.44.228.132  48.766701   \n2682     399318      F           25/03/1848  85.249.156.141  60.000000   \n2683     433300      F  1968-06-25 00:00:00  86.195.158.226  49.001598   \n2684      49290      F  1953-10-06 00:00:00    81.139.81.23  51.783298   \n2685     f1wvaf      F  1954-06-13 00:00:00    51.8.120.254  51.500000   \n\n      longitude                                       Country Name  \\\n2681     9.1833                       Germany, Federal Republic of   \n2682   100.0000                                 Russian Federation   \n2683     2.0969                            France, French Republic   \n2684     0.1667  United Kingdom of Great Britain & Northern Ire...   \n2685    -0.1300  United Kingdom of Great Britain & Northern Ire...   \n\n     country_code                 city_name              email  \n2681           DE                 Stuttgart  ABHK@formation.fr  \n2682           RU                       NaN  USQB@formation.fr  \n2683           FR  Conflans-sainte-honorine  CTJD@formation.fr  \n2684           GB                    Harlow  KMKX@formation.fr  \n2685           GB                       NaN  DWRV@formation.fr  ",
      "text/html": "<div>\n<style scoped>\n    .dataframe tbody tr th:only-of-type {\n        vertical-align: middle;\n    }\n\n    .dataframe tbody tr th {\n        vertical-align: top;\n    }\n\n    .dataframe thead th {\n        text-align: right;\n    }\n</style>\n<table border=\"1\" class=\"dataframe\">\n  <thead>\n    <tr style=\"text-align: right;\">\n      <th></th>\n      <th>customerID</th>\n      <th>gender</th>\n      <th>birthdate</th>\n      <th>ip_address</th>\n      <th>latitude</th>\n      <th>longitude</th>\n      <th>Country Name</th>\n      <th>country_code</th>\n      <th>city_name</th>\n      <th>email</th>\n    </tr>\n  </thead>\n  <tbody>\n    <tr>\n      <th>2681</th>\n      <td>363790</td>\n      <td>F</td>\n      <td>1947-02-24 00:00:00</td>\n      <td>91.44.228.132</td>\n      <td>48.766701</td>\n      <td>9.1833</td>\n      <td>Germany, Federal Republic of</td>\n      <td>DE</td>\n      <td>Stuttgart</td>\n      <td>ABHK@formation.fr</td>\n    </tr>\n    <tr>\n      <th>2682</th>\n      <td>399318</td>\n      <td>F</td>\n      <td>25/03/1848</td>\n      <td>85.249.156.141</td>\n      <td>60.000000</td>\n      <td>100.0000</td>\n      <td>Russian Federation</td>\n      <td>RU</td>\n      <td>NaN</td>\n      <td>USQB@formation.fr</td>\n    </tr>\n    <tr>\n      <th>2683</th>\n      <td>433300</td>\n      <td>F</td>\n      <td>1968-06-25 00:00:00</td>\n      <td>86.195.158.226</td>\n      <td>49.001598</td>\n      <td>2.0969</td>\n      <td>France, French Republic</td>\n      <td>FR</td>\n      <td>Conflans-sainte-honorine</td>\n      <td>CTJD@formation.fr</td>\n    </tr>\n    <tr>\n      <th>2684</th>\n      <td>49290</td>\n      <td>F</td>\n      <td>1953-10-06 00:00:00</td>\n      <td>81.139.81.23</td>\n      <td>51.783298</td>\n      <td>0.1667</td>\n      <td>United Kingdom of Great Britain &amp; Northern Ire...</td>\n      <td>GB</td>\n      <td>Harlow</td>\n      <td>KMKX@formation.fr</td>\n    </tr>\n    <tr>\n      <th>2685</th>\n      <td>f1wvaf</td>\n      <td>F</td>\n      <td>1954-06-13 00:00:00</td>\n      <td>51.8.120.254</td>\n      <td>51.500000</td>\n      <td>-0.1300</td>\n      <td>United Kingdom of Great Britain &amp; Northern Ire...</td>\n      <td>GB</td>\n      <td>NaN</td>\n      <td>DWRV@formation.fr</td>\n    </tr>\n  </tbody>\n</table>\n</div>"
     },
     "metadata": {}
    }
   ],
   "execution_count": null
  },
  {
   "cell_type": "markdown",
   "source": "<div class=\"alert alert-block alert-info\">\n<b><p style=\"color:red;\">Exercice 2 : Load the data from the csv file</p></b>\nYou will need the function <b>pandas.read_csv</b> : <a href=\"https://pandas.pydata.org/pandas-docs/stable/reference/api/pandas.read_csv.html#pandas.read_csv\">https://pandas.pydata.org/pandas-docs/stable/reference/api/pandas.read_csv.html#pandas.read_csv</a>\n",
   "metadata": {
    "tags": [],
    "cell_id": "00001-68f67422-bef5-4e07-9764-2fb5447c3e24",
    "deepnote_cell_type": "markdown"
   }
  },
  {
   "cell_type": "code",
   "metadata": {
    "tags": [],
    "cell_id": "00005-389cdaad-517c-4056-96d2-d4517afb8bf3",
    "deepnote_to_be_reexecuted": false,
    "source_hash": "3048497",
    "execution_start": 1631574460276,
    "execution_millis": 35,
    "deepnote_cell_type": "code"
   },
   "source": "# Write your code here\nimport pandas as pd\n\ndf_vente_part1 = pd.read_csv(\"Ventes_Part1.csv\", sep = \",\")\ndf_vente_part2 = pd.read_csv(\"Ventes_Part2.csv\", sep = \",\")\ndf_vente_part3 = pd.read_csv(\"Ventes_Part3.csv\", sep = \",\")",
   "outputs": [],
   "execution_count": 9
  },
  {
   "cell_type": "markdown",
   "source": "🔴IMPORTANT❗🔴 Do not forget to look at your data !",
   "metadata": {
    "tags": [],
    "cell_id": "00010-135a45e4-3e71-483b-a7fe-5b587891352f",
    "deepnote_cell_type": "markdown"
   }
  },
  {
   "cell_type": "code",
   "metadata": {
    "tags": [],
    "cell_id": "00010-79231d3c-286f-440e-a3f8-f96f74d2e909",
    "deepnote_to_be_reexecuted": false,
    "source_hash": "aee92313",
    "execution_start": 1631574462520,
    "execution_millis": 86,
    "is_output_hidden": false,
    "deepnote_cell_type": "code"
   },
   "source": "df_vente_part1",
   "outputs": [
    {
     "output_type": "execute_result",
     "execution_count": 10,
     "data": {
      "application/vnd.deepnote.dataframe.v2+json": {
       "row_count": 4000,
       "column_count": 10,
       "columns": [
        {
         "name": "Unnamed: 0",
         "dtype": "int64",
         "stats": {
          "unique_count": 4000,
          "nan_count": 0,
          "min": "0",
          "max": "3999",
          "histogram": [
           {
            "bin_start": 0,
            "bin_end": 399.9,
            "count": 400
           },
           {
            "bin_start": 399.9,
            "bin_end": 799.8,
            "count": 400
           },
           {
            "bin_start": 799.8,
            "bin_end": 1199.6999999999998,
            "count": 400
           },
           {
            "bin_start": 1199.6999999999998,
            "bin_end": 1599.6,
            "count": 400
           },
           {
            "bin_start": 1599.6,
            "bin_end": 1999.5,
            "count": 400
           },
           {
            "bin_start": 1999.5,
            "bin_end": 2399.3999999999996,
            "count": 400
           },
           {
            "bin_start": 2399.3999999999996,
            "bin_end": 2799.2999999999997,
            "count": 400
           },
           {
            "bin_start": 2799.2999999999997,
            "bin_end": 3199.2,
            "count": 400
           },
           {
            "bin_start": 3199.2,
            "bin_end": 3599.1,
            "count": 400
           },
           {
            "bin_start": 3599.1,
            "bin_end": 3999,
            "count": 400
           }
          ]
         }
        },
        {
         "name": "index",
         "dtype": "int64",
         "stats": {
          "unique_count": 4000,
          "nan_count": 0,
          "min": "0",
          "max": "4012",
          "histogram": [
           {
            "bin_start": 0,
            "bin_end": 401.2,
            "count": 402
           },
           {
            "bin_start": 401.2,
            "bin_end": 802.4,
            "count": 401
           },
           {
            "bin_start": 802.4,
            "bin_end": 1203.6,
            "count": 396
           },
           {
            "bin_start": 1203.6,
            "bin_end": 1604.8,
            "count": 397
           },
           {
            "bin_start": 1604.8,
            "bin_end": 2006,
            "count": 399
           },
           {
            "bin_start": 2006,
            "bin_end": 2407.2,
            "count": 402
           },
           {
            "bin_start": 2407.2,
            "bin_end": 2808.4,
            "count": 400
           },
           {
            "bin_start": 2808.4,
            "bin_end": 3209.6,
            "count": 401
           },
           {
            "bin_start": 3209.6,
            "bin_end": 3610.7999999999997,
            "count": 401
           },
           {
            "bin_start": 3610.7999999999997,
            "bin_end": 4012,
            "count": 401
           }
          ]
         }
        },
        {
         "name": "customer_id",
         "dtype": "object",
         "stats": {
          "unique_count": 2281,
          "nan_count": 0,
          "categories": [
           {
            "name": "682688",
            "count": 9
           },
           {
            "name": "pbh4o5",
            "count": 8
           },
           {
            "name": "2279 others",
            "count": 3983
           }
          ]
         }
        },
        {
         "name": "order_date",
         "dtype": "object",
         "stats": {
          "unique_count": 1238,
          "nan_count": 0,
          "categories": [
           {
            "name": "25/12/2015",
            "count": 12
           },
           {
            "name": "07/09/2014",
            "count": 11
           },
           {
            "name": "1236 others",
            "count": 3977
           }
          ]
         }
        },
        {
         "name": "order_id",
         "dtype": "object",
         "stats": {
          "unique_count": 4000,
          "nan_count": 0,
          "categories": [
           {
            "name": "HTS-038040-0002",
            "count": 1
           },
           {
            "name": "HTS-vft1eu-0003",
            "count": 1
           },
           {
            "name": "3998 others",
            "count": 3998
           }
          ]
         }
        },
        {
         "name": "pages_visited",
         "dtype": "int64",
         "stats": {
          "unique_count": 24,
          "nan_count": 0,
          "min": "2",
          "max": "25",
          "histogram": [
           {
            "bin_start": 2,
            "bin_end": 4.3,
            "count": 93
           },
           {
            "bin_start": 4.3,
            "bin_end": 6.6,
            "count": 279
           },
           {
            "bin_start": 6.6,
            "bin_end": 8.899999999999999,
            "count": 605
           },
           {
            "bin_start": 8.899999999999999,
            "bin_end": 11.2,
            "count": 1321
           },
           {
            "bin_start": 11.2,
            "bin_end": 13.5,
            "count": 767
           },
           {
            "bin_start": 13.5,
            "bin_end": 15.799999999999999,
            "count": 500
           },
           {
            "bin_start": 15.799999999999999,
            "bin_end": 18.099999999999998,
            "count": 337
           },
           {
            "bin_start": 18.099999999999998,
            "bin_end": 20.4,
            "count": 64
           },
           {
            "bin_start": 20.4,
            "bin_end": 22.7,
            "count": 19
           },
           {
            "bin_start": 22.7,
            "bin_end": 25,
            "count": 15
           }
          ]
         }
        },
        {
         "name": "tshirt_category",
         "dtype": "object",
         "stats": {
          "unique_count": 10,
          "nan_count": 0,
          "categories": [
           {
            "name": "White T-Shirt F",
            "count": 927
           },
           {
            "name": "Black T-Shirt F",
            "count": 827
           },
           {
            "name": "8 others",
            "count": 2246
           }
          ]
         }
        },
        {
         "name": "tshirt_price",
         "dtype": "object",
         "stats": {
          "unique_count": 6,
          "nan_count": 0,
          "categories": [
           {
            "name": "18",
            "count": 1005
           },
           {
            "name": "17,5",
            "count": 901
           },
           {
            "name": "4 others",
            "count": 2094
           }
          ]
         }
        },
        {
         "name": "tshirt_quantity",
         "dtype": "int64",
         "stats": {
          "unique_count": 27,
          "nan_count": 0,
          "min": "1",
          "max": "27",
          "histogram": [
           {
            "bin_start": 1,
            "bin_end": 3.6,
            "count": 3434
           },
           {
            "bin_start": 3.6,
            "bin_end": 6.2,
            "count": 301
           },
           {
            "bin_start": 6.2,
            "bin_end": 8.8,
            "count": 35
           },
           {
            "bin_start": 8.8,
            "bin_end": 11.4,
            "count": 33
           },
           {
            "bin_start": 11.4,
            "bin_end": 14,
            "count": 42
           },
           {
            "bin_start": 14,
            "bin_end": 16.6,
            "count": 69
           },
           {
            "bin_start": 16.6,
            "bin_end": 19.2,
            "count": 47
           },
           {
            "bin_start": 19.2,
            "bin_end": 21.8,
            "count": 17
           },
           {
            "bin_start": 21.8,
            "bin_end": 24.400000000000002,
            "count": 14
           },
           {
            "bin_start": 24.400000000000002,
            "bin_end": 27,
            "count": 8
           }
          ]
         }
        },
        {
         "name": "user_agent",
         "dtype": "object",
         "stats": {
          "unique_count": 20,
          "nan_count": 0,
          "categories": [
           {
            "name": "Mozilla/5.0 (Windows NT 10.0| Win64| x64) AppleWebKit/537.36 (KHTML, like Gecko) Chrome/56.0.2924.87 Safari/537.36",
            "count": 642
           },
           {
            "name": "Mozilla/5.0 (Windows NT 10.0| WOW64) AppleWebKit/537.36 (KHTML, like Gecko) Chrome/56.0.2924.87 Safari/537.36",
            "count": 475
           },
           {
            "name": "18 others",
            "count": 2883
           }
          ]
         }
        },
        {
         "name": "_deepnote_index_column",
         "dtype": "int64"
        }
       ],
       "rows_top": [
        {
         "Unnamed: 0": 0,
         "index": 0,
         "customer_id": "38040",
         "order_date": "04/09/2016",
         "order_id": "HTS-038040-0002",
         "pages_visited": 9,
         "tshirt_category": "White T-Shirt M",
         "tshirt_price": "20",
         "tshirt_quantity": 1,
         "user_agent": "Mozilla/5.0 (Windows NT 10.0| WOW64) AppleWebKit/537.36 (KHTML, like Gecko) Chrome/56.0.2924.87 Saf…",
         "_deepnote_index_column": 0
        },
        {
         "Unnamed: 0": 1,
         "index": 1,
         "customer_id": "vft1eu",
         "order_date": "26/02/2017",
         "order_id": "HTS-vft1eu-0003",
         "pages_visited": 10,
         "tshirt_category": "White T-Shirt F",
         "tshirt_price": "18",
         "tshirt_quantity": 3,
         "user_agent": "Mozilla/5.0 (Macintosh| Intel Mac OS X 10_12_3) AppleWebKit/602.4.8 (KHTML, like Gecko) Version/10.…",
         "_deepnote_index_column": 1
        },
        {
         "Unnamed: 0": 2,
         "index": 2,
         "customer_id": "914324",
         "order_date": "01/12/2013",
         "order_id": "HTS-914324-0001",
         "pages_visited": 10,
         "tshirt_category": "Wh Tshirt F",
         "tshirt_price": "18",
         "tshirt_quantity": 1,
         "user_agent": "Mozilla/5.0 (Windows NT 10.0| WOW64) AppleWebKit/537.36 (KHTML, like Gecko) Chrome/56.0.2924.87 Saf…",
         "_deepnote_index_column": 2
        },
        {
         "Unnamed: 0": 3,
         "index": 3,
         "customer_id": "61311",
         "order_date": "15/01/2016",
         "order_id": "HTS-061311-0003",
         "pages_visited": 9,
         "tshirt_category": "Black T-Shirt F",
         "tshirt_price": "17,5",
         "tshirt_quantity": 4,
         "user_agent": "Mozilla/5.0 (Macintosh| Intel Mac OS X 10_12_3) AppleWebKit/537.36 (KHTML, like Gecko) Chrome/56.0.…",
         "_deepnote_index_column": 3
        },
        {
         "Unnamed: 0": 4,
         "index": 4,
         "customer_id": "494332",
         "order_date": "03/11/2013",
         "order_id": "HTS-494332-0001",
         "pages_visited": 10,
         "tshirt_category": "Wh Tshirt F",
         "tshirt_price": "18",
         "tshirt_quantity": 2,
         "user_agent": "Mozilla/5.0 (Macintosh| Intel Mac OS X 10_11_6) AppleWebKit/537.36 (KHTML, like Gecko) Chrome/56.0.…",
         "_deepnote_index_column": 4
        },
        {
         "Unnamed: 0": 5,
         "index": 5,
         "customer_id": "463794",
         "order_date": "02/10/2013",
         "order_id": "HTS-463794-0001",
         "pages_visited": 14,
         "tshirt_category": "Tennis Shirt",
         "tshirt_price": "24",
         "tshirt_quantity": 1,
         "user_agent": "Mozilla/5.0 (Windows NT 10.0| Win64| x64) AppleWebKit/537.36 (KHTML, like Gecko) Chrome/56.0.2924.8…",
         "_deepnote_index_column": 5
        },
        {
         "Unnamed: 0": 6,
         "index": 6,
         "customer_id": "132885",
         "order_date": "23/07/2013",
         "order_id": "HTS-132885-0001",
         "pages_visited": 17,
         "tshirt_category": "Wh Tshirt M",
         "tshirt_price": "20",
         "tshirt_quantity": 1,
         "user_agent": "Mozilla/5.0 (Windows NT 10.0| Win64| x64) AppleWebKit/537.36 (KHTML, like Gecko) Chrome/56.0.2924.8…",
         "_deepnote_index_column": 6
        },
        {
         "Unnamed: 0": 7,
         "index": 7,
         "customer_id": "519113",
         "order_date": "24/11/2013",
         "order_id": "HTS-519113-0001",
         "pages_visited": 17,
         "tshirt_category": "Bl Tshirt F",
         "tshirt_price": "17,5",
         "tshirt_quantity": 1,
         "user_agent": "Mozilla/5.0 (Windows NT 6.1| WOW64) AppleWebKit/537.36 (KHTML, like Gecko) Chrome/56.0.2924.87 Safa…",
         "_deepnote_index_column": 7
        },
        {
         "Unnamed: 0": 8,
         "index": 8,
         "customer_id": "je57lh",
         "order_date": "24/11/2015",
         "order_id": "HTS-je57lh-0001",
         "pages_visited": 15,
         "tshirt_category": "Hoodie",
         "tshirt_price": "23",
         "tshirt_quantity": 3,
         "user_agent": "Mozilla/5.0 (Windows NT 10.0| Win64| x64) AppleWebKit/537.36 (KHTML, like Gecko) Chrome/56.0.2924.8…",
         "_deepnote_index_column": 8
        },
        {
         "Unnamed: 0": 9,
         "index": 9,
         "customer_id": "49348",
         "order_date": "15/08/2016",
         "order_id": "HTS-049348-0004",
         "pages_visited": 6,
         "tshirt_category": "Black T-Shirt F",
         "tshirt_price": "17,5",
         "tshirt_quantity": 1,
         "user_agent": "Mozilla/5.0 (Macintosh| Intel Mac OS X 10_11_6) AppleWebKit/537.36 (KHTML, like Gecko) Chrome/56.0.…",
         "_deepnote_index_column": 9
        },
        {
         "Unnamed: 0": 10,
         "index": 10,
         "customer_id": "heb26i",
         "order_date": "29/11/2015",
         "order_id": "HTS-heb26i-0001",
         "pages_visited": 15,
         "tshirt_category": "Black T-Shirt F",
         "tshirt_price": "17,5",
         "tshirt_quantity": 1,
         "user_agent": "Mozilla/5.0 (Windows NT 6.1| Win64| x64) AppleWebKit/537.36 (KHTML, like Gecko) Chrome/56.0.2924.87…",
         "_deepnote_index_column": 10
        },
        {
         "Unnamed: 0": 11,
         "index": 11,
         "customer_id": "989355",
         "order_date": "09/10/2015",
         "order_id": "HTS-989355-0003",
         "pages_visited": 10,
         "tshirt_category": "Hoodie",
         "tshirt_price": "23",
         "tshirt_quantity": 2,
         "user_agent": "Mozilla/5.0 (Windows NT 6.1| WOW64) AppleWebKit/537.36 (KHTML, like Gecko) Chrome/56.0.2924.87 Safa…",
         "_deepnote_index_column": 11
        },
        {
         "Unnamed: 0": 12,
         "index": 12,
         "customer_id": "1b0lnt",
         "order_date": "16/01/2016",
         "order_id": "HTS-1b0lnt-0002",
         "pages_visited": 15,
         "tshirt_category": "White T-Shirt M",
         "tshirt_price": "20",
         "tshirt_quantity": 1,
         "user_agent": "Mozilla/5.0 (X11| Linux x86_64) AppleWebKit/537.36 (KHTML, like Gecko) Chrome/56.0.2924.87 Safari/5…",
         "_deepnote_index_column": 12
        },
        {
         "Unnamed: 0": 13,
         "index": 13,
         "customer_id": "198773",
         "order_date": "17/01/2015",
         "order_id": "HTS-198773-0002",
         "pages_visited": 5,
         "tshirt_category": "White T-Shirt M",
         "tshirt_price": "20",
         "tshirt_quantity": 1,
         "user_agent": "Mozilla/5.0 (Windows NT 10.0| Win64| x64) AppleWebKit/537.36 (KHTML, like Gecko) Chrome/56.0.2924.8…",
         "_deepnote_index_column": 13
        },
        {
         "Unnamed: 0": 14,
         "index": 14,
         "customer_id": "476084",
         "order_date": "20/07/2014",
         "order_id": "HTS-476084-0001",
         "pages_visited": 11,
         "tshirt_category": "White T-Shirt M",
         "tshirt_price": "20",
         "tshirt_quantity": 2,
         "user_agent": "Mozilla/5.0 (Windows NT 10.0| Win64| x64) AppleWebKit/537.36 (KHTML, like Gecko) Chrome/56.0.2924.8…",
         "_deepnote_index_column": 14
        },
        {
         "Unnamed: 0": 15,
         "index": 15,
         "customer_id": "907041",
         "order_date": "20/05/2016",
         "order_id": "HTS-907041-0002",
         "pages_visited": 14,
         "tshirt_category": "White T-Shirt F",
         "tshirt_price": "18",
         "tshirt_quantity": 3,
         "user_agent": "Mozilla/5.0 (Windows NT 6.1| WOW64| rv:51.0) Gecko/20100101 Firefox/51.0",
         "_deepnote_index_column": 15
        },
        {
         "Unnamed: 0": 16,
         "index": 16,
         "customer_id": "399607",
         "order_date": "09/03/2014",
         "order_id": "HTS-399607-0002",
         "pages_visited": 12,
         "tshirt_category": "White T-Shirt M",
         "tshirt_price": "20",
         "tshirt_quantity": 5,
         "user_agent": "Mozilla/5.0 (Windows NT 6.1| WOW64) AppleWebKit/537.36 (KHTML, like Gecko) Chrome/56.0.2924.87 Safa…",
         "_deepnote_index_column": 16
        },
        {
         "Unnamed: 0": 17,
         "index": 17,
         "customer_id": "610587",
         "order_date": "08/01/2017",
         "order_id": "HTS-610587-0004",
         "pages_visited": 5,
         "tshirt_category": "Hoodie",
         "tshirt_price": "23",
         "tshirt_quantity": 1,
         "user_agent": "Mozilla/5.0 (X11| Linux x86_64) AppleWebKit/537.36 (KHTML, like Gecko) Chrome/56.0.2924.87 Safari/5…",
         "_deepnote_index_column": 17
        },
        {
         "Unnamed: 0": 18,
         "index": 18,
         "customer_id": "707341",
         "order_date": "03/10/2014",
         "order_id": "HTS-707341-0003",
         "pages_visited": 8,
         "tshirt_category": "Black T-Shirt M",
         "tshirt_price": "19",
         "tshirt_quantity": 3,
         "user_agent": "Mozilla/5.0 (Macintosh| Intel Mac OS X 10_12_3) AppleWebKit/602.4.8 (KHTML, like Gecko) Version/10.…",
         "_deepnote_index_column": 18
        },
        {
         "Unnamed: 0": 19,
         "index": 19,
         "customer_id": "pq3m7c",
         "order_date": "08/09/2015",
         "order_id": "HTS-pq3m7c-0001",
         "pages_visited": 11,
         "tshirt_category": "Hoodie",
         "tshirt_price": "23",
         "tshirt_quantity": 1,
         "user_agent": "Mozilla/5.0 (Windows NT 6.1| WOW64| rv:52.0) Gecko/20100101 Firefox/52.0",
         "_deepnote_index_column": 19
        },
        {
         "Unnamed: 0": 20,
         "index": 20,
         "customer_id": "0lkdil",
         "order_date": "19/12/2016",
         "order_id": "HTS-0lkdil-0002",
         "pages_visited": 8,
         "tshirt_category": "Black T-Shirt F",
         "tshirt_price": "17,5",
         "tshirt_quantity": 1,
         "user_agent": "Mozilla/5.0 (Macintosh| Intel Mac OS X 10_12_3) AppleWebKit/537.36 (KHTML, like Gecko) Chrome/56.0.…",
         "_deepnote_index_column": 20
        },
        {
         "Unnamed: 0": 21,
         "index": 21,
         "customer_id": "318409",
         "order_date": "02/08/2015",
         "order_id": "HTS-318409-0001",
         "pages_visited": 19,
         "tshirt_category": "Black T-Shirt M",
         "tshirt_price": "19",
         "tshirt_quantity": 1,
         "user_agent": "Mozilla/5.0 (Macintosh| Intel Mac OS X 10_12_3) AppleWebKit/602.4.8 (KHTML, like Gecko) Version/10.…",
         "_deepnote_index_column": 21
        },
        {
         "Unnamed: 0": 22,
         "index": 22,
         "customer_id": "964210",
         "order_date": "15/09/2014",
         "order_id": "HTS-964210-0002",
         "pages_visited": 6,
         "tshirt_category": "Black T-Shirt F",
         "tshirt_price": "17,5",
         "tshirt_quantity": 1,
         "user_agent": "Mozilla/5.0 (Windows NT 6.1| Win64| x64) AppleWebKit/537.36 (KHTML, like Gecko) Chrome/56.0.2924.87…",
         "_deepnote_index_column": 22
        },
        {
         "Unnamed: 0": 23,
         "index": 23,
         "customer_id": "162811",
         "order_date": "23/06/2015",
         "order_id": "HTS-162811-0002",
         "pages_visited": 6,
         "tshirt_category": "Black T-Shirt M",
         "tshirt_price": "19",
         "tshirt_quantity": 3,
         "user_agent": "Mozilla/5.0 (Windows NT 6.1| WOW64| rv:51.0) Gecko/20100101 Firefox/51.0",
         "_deepnote_index_column": 23
        },
        {
         "Unnamed: 0": 24,
         "index": 24,
         "customer_id": "760379",
         "order_date": "26/08/2013",
         "order_id": "HTS-760379-0001",
         "pages_visited": 14,
         "tshirt_category": "Hoodie",
         "tshirt_price": "23",
         "tshirt_quantity": 1,
         "user_agent": "Mozilla/5.0 (Windows NT 10.0| WOW64| rv:51.0) Gecko/20100101 Firefox/51.0",
         "_deepnote_index_column": 24
        },
        {
         "Unnamed: 0": 25,
         "index": 25,
         "customer_id": "710433",
         "order_date": "28/01/2015",
         "order_id": "HTS-710433-0001",
         "pages_visited": 11,
         "tshirt_category": "White T-Shirt F",
         "tshirt_price": "18",
         "tshirt_quantity": 1,
         "user_agent": "Mozilla/5.0 (Windows NT 6.1| WOW64) AppleWebKit/537.36 (KHTML, like Gecko) Chrome/56.0.2924.87 Safa…",
         "_deepnote_index_column": 25
        },
        {
         "Unnamed: 0": 26,
         "index": 26,
         "customer_id": "kuqsq1",
         "order_date": "06/12/2016",
         "order_id": "HTS-kuqsq1-0002",
         "pages_visited": 16,
         "tshirt_category": "Black T-Shirt F",
         "tshirt_price": "17,5",
         "tshirt_quantity": 1,
         "user_agent": "Mozilla/5.0 (Windows NT 10.0| Win64| x64) AppleWebKit/537.36 (KHTML, like Gecko) Chrome/56.0.2924.8…",
         "_deepnote_index_column": 26
        },
        {
         "Unnamed: 0": 27,
         "index": 27,
         "customer_id": "bv8gw3",
         "order_date": "11/11/2016",
         "order_id": "HTS-bv8gw3-0001",
         "pages_visited": 13,
         "tshirt_category": "Black T-Shirt M",
         "tshirt_price": "19",
         "tshirt_quantity": 1,
         "user_agent": "Mozilla/5.0 (Windows NT 10.0| Win64| x64) AppleWebKit/537.36 (KHTML, like Gecko) Chrome/56.0.2924.8…",
         "_deepnote_index_column": 27
        },
        {
         "Unnamed: 0": 28,
         "index": 28,
         "customer_id": "3uouz3",
         "order_date": "22/08/2016",
         "order_id": "HTS-3uouz3-0001",
         "pages_visited": 15,
         "tshirt_category": "White T-Shirt M",
         "tshirt_price": "20",
         "tshirt_quantity": 1,
         "user_agent": "Mozilla/5.0 (Macintosh| Intel Mac OS X 10_11_6) AppleWebKit/537.36 (KHTML, like Gecko) Chrome/56.0.…",
         "_deepnote_index_column": 28
        },
        {
         "Unnamed: 0": 29,
         "index": 29,
         "customer_id": "grd2ue",
         "order_date": "12/08/2015",
         "order_id": "HTS-grd2ue-0001",
         "pages_visited": 16,
         "tshirt_category": "Hoodie",
         "tshirt_price": "23",
         "tshirt_quantity": 2,
         "user_agent": "Mozilla/5.0 (Macintosh| Intel Mac OS X 10_11_6) AppleWebKit/537.36 (KHTML, like Gecko) Chrome/56.0.…",
         "_deepnote_index_column": 29
        },
        {
         "Unnamed: 0": 30,
         "index": 30,
         "customer_id": "495119",
         "order_date": "27/01/2014",
         "order_id": "HTS-495119-0001",
         "pages_visited": 13,
         "tshirt_category": "Tennis Shirt",
         "tshirt_price": "24",
         "tshirt_quantity": 1,
         "user_agent": "Mozilla/5.0 (Windows NT 10.0| WOW64) AppleWebKit/537.36 (KHTML, like Gecko) Chrome/56.0.2924.87 Saf…",
         "_deepnote_index_column": 30
        },
        {
         "Unnamed: 0": 31,
         "index": 31,
         "customer_id": "vz1jgr",
         "order_date": "25/11/2016",
         "order_id": "HTS-vz1jgr-0001",
         "pages_visited": 6,
         "tshirt_category": "White T-Shirt F",
         "tshirt_price": "18",
         "tshirt_quantity": 2,
         "user_agent": "Mozilla/5.0 (X11| Linux x86_64) AppleWebKit/537.36 (KHTML, like Gecko) Chrome/56.0.2924.87 Safari/5…",
         "_deepnote_index_column": 31
        },
        {
         "Unnamed: 0": 32,
         "index": 32,
         "customer_id": "75826",
         "order_date": "13/04/2016",
         "order_id": "HTS-075826-0003",
         "pages_visited": 6,
         "tshirt_category": "White T-Shirt M",
         "tshirt_price": "20",
         "tshirt_quantity": 1,
         "user_agent": "Mozilla/5.0 (Windows NT 10.0| Win64| x64) AppleWebKit/537.36 (KHTML, like Gecko) Chrome/56.0.2924.8…",
         "_deepnote_index_column": 32
        },
        {
         "Unnamed: 0": 33,
         "index": 33,
         "customer_id": "958838",
         "order_date": "12/03/2015",
         "order_id": "HTS-958838-0001",
         "pages_visited": 15,
         "tshirt_category": "White T-Shirt M",
         "tshirt_price": "20",
         "tshirt_quantity": 2,
         "user_agent": "Mozilla/5.0 (Macintosh| Intel Mac OS X 10_11_6) AppleWebKit/602.4.8 (KHTML, like Gecko) Version/10.…",
         "_deepnote_index_column": 33
        },
        {
         "Unnamed: 0": 34,
         "index": 34,
         "customer_id": "301810",
         "order_date": "25/12/2015",
         "order_id": "HTS-301810-0003",
         "pages_visited": 10,
         "tshirt_category": "Hoodie",
         "tshirt_price": "23",
         "tshirt_quantity": 3,
         "user_agent": "Mozilla/5.0 (Windows NT 10.0| Win64| x64) AppleWebKit/537.36 (KHTML, like Gecko) Chrome/56.0.2924.8…",
         "_deepnote_index_column": 34
        },
        {
         "Unnamed: 0": 35,
         "index": 35,
         "customer_id": "917138",
         "order_date": "01/05/2015",
         "order_id": "HTS-917138-0002",
         "pages_visited": 17,
         "tshirt_category": "White T-Shirt M",
         "tshirt_price": "20",
         "tshirt_quantity": 2,
         "user_agent": "Mozilla/5.0 (Windows NT 10.0| Win64| x64) AppleWebKit/537.36 (KHTML, like Gecko) Chrome/56.0.2924.8…",
         "_deepnote_index_column": 35
        },
        {
         "Unnamed: 0": 36,
         "index": 36,
         "customer_id": "lby2fl",
         "order_date": "08/08/2016",
         "order_id": "HTS-lby2fl-0001",
         "pages_visited": 6,
         "tshirt_category": "White T-Shirt M",
         "tshirt_price": "20",
         "tshirt_quantity": 1,
         "user_agent": "Mozilla/5.0 (Macintosh| Intel Mac OS X 10_12_3) AppleWebKit/537.36 (KHTML, like Gecko) Chrome/56.0.…",
         "_deepnote_index_column": 36
        },
        {
         "Unnamed: 0": 37,
         "index": 37,
         "customer_id": "797630",
         "order_date": "21/10/2016",
         "order_id": "HTS-797630-0004",
         "pages_visited": 12,
         "tshirt_category": "Black T-Shirt F",
         "tshirt_price": "17,5",
         "tshirt_quantity": 2,
         "user_agent": "Mozilla/5.0 (Windows NT 10.0| Win64| x64) AppleWebKit/537.36 (KHTML, like Gecko) Chrome/56.0.2924.8…",
         "_deepnote_index_column": 37
        },
        {
         "Unnamed: 0": 38,
         "index": 38,
         "customer_id": "moudrf",
         "order_date": "27/12/2016",
         "order_id": "HTS-moudrf-0003",
         "pages_visited": 11,
         "tshirt_category": "White T-Shirt F",
         "tshirt_price": "18",
         "tshirt_quantity": 4,
         "user_agent": "Mozilla/5.0 (Windows NT 10.0| Win64| x64) AppleWebKit/537.36 (KHTML, like Gecko) Chrome/51.0.2704.7…",
         "_deepnote_index_column": 38
        },
        {
         "Unnamed: 0": 39,
         "index": 39,
         "customer_id": "116680",
         "order_date": "27/10/2014",
         "order_id": "HTS-116680-0001",
         "pages_visited": 7,
         "tshirt_category": "Black T-Shirt F",
         "tshirt_price": "17,5",
         "tshirt_quantity": 1,
         "user_agent": "Mozilla/5.0 (Macintosh| Intel Mac OS X 10_12_3) AppleWebKit/602.4.8 (KHTML, like Gecko) Version/10.…",
         "_deepnote_index_column": 39
        },
        {
         "Unnamed: 0": 40,
         "index": 40,
         "customer_id": "5j3r5q",
         "order_date": "20/09/2016",
         "order_id": "HTS-5j3r5q-0001",
         "pages_visited": 12,
         "tshirt_category": "White T-Shirt M",
         "tshirt_price": "20",
         "tshirt_quantity": 1,
         "user_agent": "Mozilla/5.0 (Windows NT 6.1| WOW64) AppleWebKit/537.36 (KHTML, like Gecko) Chrome/56.0.2924.87 Safa…",
         "_deepnote_index_column": 40
        },
        {
         "Unnamed: 0": 41,
         "index": 41,
         "customer_id": "882780",
         "order_date": "25/09/2014",
         "order_id": "HTS-882780-0002",
         "pages_visited": 15,
         "tshirt_category": "Black T-Shirt M",
         "tshirt_price": "19",
         "tshirt_quantity": 1,
         "user_agent": "Mozilla/5.0 (Windows NT 6.3| WOW64) AppleWebKit/537.36 (KHTML, like Gecko) Chrome/56.0.2924.87 Safa…",
         "_deepnote_index_column": 41
        },
        {
         "Unnamed: 0": 42,
         "index": 42,
         "customer_id": "qgqhv6",
         "order_date": "16/10/2016",
         "order_id": "HTS-qgqhv6-0001",
         "pages_visited": 21,
         "tshirt_category": "White T-Shirt F",
         "tshirt_price": "18",
         "tshirt_quantity": 1,
         "user_agent": "Mozilla/5.0 (Windows NT 6.1| WOW64| rv:51.0) Gecko/20100101 Firefox/51.0",
         "_deepnote_index_column": 42
        },
        {
         "Unnamed: 0": 43,
         "index": 43,
         "customer_id": "ar83mg",
         "order_date": "22/07/2015",
         "order_id": "HTS-ar83mg-0001",
         "pages_visited": 9,
         "tshirt_category": "Tennis Shirt",
         "tshirt_price": "24",
         "tshirt_quantity": 2,
         "user_agent": "Mozilla/5.0 (Windows NT 6.1| WOW64) AppleWebKit/537.36 (KHTML, like Gecko) Chrome/56.0.2924.87 Safa…",
         "_deepnote_index_column": 43
        },
        {
         "Unnamed: 0": 44,
         "index": 44,
         "customer_id": "442064",
         "order_date": "03/01/2017",
         "order_id": "HTS-442064-0003",
         "pages_visited": 8,
         "tshirt_category": "White T-Shirt M",
         "tshirt_price": "20",
         "tshirt_quantity": 1,
         "user_agent": "Mozilla/5.0 (Windows NT 6.1) AppleWebKit/537.36 (KHTML, like Gecko) Chrome/56.0.2924.87 Safari/537.…",
         "_deepnote_index_column": 44
        },
        {
         "Unnamed: 0": 45,
         "index": 45,
         "customer_id": "286810",
         "order_date": "13/12/2013",
         "order_id": "HTS-286810-0002",
         "pages_visited": 10,
         "tshirt_category": "Bl Tshirt F",
         "tshirt_price": "17,5",
         "tshirt_quantity": 1,
         "user_agent": "Mozilla/5.0 (Windows NT 10.0| Win64| x64) AppleWebKit/537.36 (KHTML, like Gecko) Chrome/56.0.2924.8…",
         "_deepnote_index_column": 45
        },
        {
         "Unnamed: 0": 46,
         "index": 46,
         "customer_id": "273332",
         "order_date": "10/11/2014",
         "order_id": "HTS-273332-0001",
         "pages_visited": 19,
         "tshirt_category": "White T-Shirt M",
         "tshirt_price": "20",
         "tshirt_quantity": 1,
         "user_agent": "Mozilla/5.0 (Windows NT 10.0| Win64| x64) AppleWebKit/537.36 (KHTML, like Gecko) Chrome/56.0.2924.8…",
         "_deepnote_index_column": 46
        },
        {
         "Unnamed: 0": 47,
         "index": 47,
         "customer_id": "916341",
         "order_date": "18/04/2015",
         "order_id": "HTS-916341-0002",
         "pages_visited": 11,
         "tshirt_category": "Hoodie",
         "tshirt_price": "23",
         "tshirt_quantity": 2,
         "user_agent": "Mozilla/5.0 (Windows NT 10.0| Win64| x64) AppleWebKit/537.36 (KHTML, like Gecko) Chrome/56.0.2924.8…",
         "_deepnote_index_column": 47
        },
        {
         "Unnamed: 0": 48,
         "index": 48,
         "customer_id": "481997",
         "order_date": "14/10/2014",
         "order_id": "HTS-481997-0001",
         "pages_visited": 12,
         "tshirt_category": "Black T-Shirt F",
         "tshirt_price": "17,5",
         "tshirt_quantity": 3,
         "user_agent": "Mozilla/5.0 (Windows NT 6.1| WOW64| Trident/7.0| rv:11.0) like Gecko",
         "_deepnote_index_column": 48
        },
        {
         "Unnamed: 0": 49,
         "index": 49,
         "customer_id": "877835",
         "order_date": "09/12/2015",
         "order_id": "HTS-877835-0002",
         "pages_visited": 15,
         "tshirt_category": "Hoodie",
         "tshirt_price": "23",
         "tshirt_quantity": 3,
         "user_agent": "Mozilla/5.0 (Macintosh| Intel Mac OS X 10_12_3) AppleWebKit/602.4.8 (KHTML, like Gecko) Version/10.…",
         "_deepnote_index_column": 49
        }
       ],
       "rows_bottom": [
        {
         "Unnamed: 0": 3950,
         "index": 3963,
         "customer_id": "532428",
         "order_date": "09/02/2014",
         "order_id": "HTS-532428-0001",
         "pages_visited": 2,
         "tshirt_category": "Hoodie",
         "tshirt_price": "23",
         "tshirt_quantity": 1,
         "user_agent": "Mozilla/5.0 (Windows NT 10.0| WOW64| rv:51.0) Gecko/20100101 Firefox/51.0",
         "_deepnote_index_column": 3950
        },
        {
         "Unnamed: 0": 3951,
         "index": 3964,
         "customer_id": "253162",
         "order_date": "30/09/2016",
         "order_id": "HTS-253162-0003",
         "pages_visited": 6,
         "tshirt_category": "Hoodie",
         "tshirt_price": "23",
         "tshirt_quantity": 2,
         "user_agent": "Mozilla/5.0 (Windows NT 10.0| WOW64| rv:51.0) Gecko/20100101 Firefox/51.0",
         "_deepnote_index_column": 3951
        },
        {
         "Unnamed: 0": 3952,
         "index": 3965,
         "customer_id": "771132",
         "order_date": "27/01/2016",
         "order_id": "HTS-771132-0003",
         "pages_visited": 6,
         "tshirt_category": "Hoodie",
         "tshirt_price": "23",
         "tshirt_quantity": 13,
         "user_agent": "Mozilla/5.0 (Windows NT 10.0| WOW64| rv:51.0) Gecko/20100101 Firefox/51.0",
         "_deepnote_index_column": 3952
        },
        {
         "Unnamed: 0": 3953,
         "index": 3966,
         "customer_id": "157914",
         "order_date": "11/10/2015",
         "order_id": "HTS-157914-0002",
         "pages_visited": 8,
         "tshirt_category": "Hoodie",
         "tshirt_price": "23",
         "tshirt_quantity": 2,
         "user_agent": "Mozilla/5.0 (Windows NT 10.0| WOW64| rv:51.0) Gecko/20100101 Firefox/51.0",
         "_deepnote_index_column": 3953
        },
        {
         "Unnamed: 0": 3954,
         "index": 3967,
         "customer_id": "230178",
         "order_date": "26/06/2014",
         "order_id": "HTS-230178-0002",
         "pages_visited": 8,
         "tshirt_category": "Hoodie",
         "tshirt_price": "23",
         "tshirt_quantity": 2,
         "user_agent": "Mozilla/5.0 (Windows NT 10.0| WOW64| rv:51.0) Gecko/20100101 Firefox/51.0",
         "_deepnote_index_column": 3954
        },
        {
         "Unnamed: 0": 3955,
         "index": 3968,
         "customer_id": "sgwuna",
         "order_date": "12/06/2016",
         "order_id": "HTS-sgwuna-0002",
         "pages_visited": 10,
         "tshirt_category": "Hoodie",
         "tshirt_price": "23",
         "tshirt_quantity": 3,
         "user_agent": "Mozilla/5.0 (Windows NT 10.0| WOW64| rv:51.0) Gecko/20100101 Firefox/51.0",
         "_deepnote_index_column": 3955
        },
        {
         "Unnamed: 0": 3956,
         "index": 3969,
         "customer_id": "rhpavp",
         "order_date": "11/02/2017",
         "order_id": "HTS-rhpavp-0002",
         "pages_visited": 10,
         "tshirt_category": "Hoodie",
         "tshirt_price": "23",
         "tshirt_quantity": 6,
         "user_agent": "Mozilla/5.0 (Windows NT 10.0| WOW64| rv:51.0) Gecko/20100101 Firefox/51.0",
         "_deepnote_index_column": 3956
        },
        {
         "Unnamed: 0": 3957,
         "index": 3970,
         "customer_id": "253162",
         "order_date": "21/10/2015",
         "order_id": "HTS-253162-0002",
         "pages_visited": 11,
         "tshirt_category": "Hoodie",
         "tshirt_price": "23",
         "tshirt_quantity": 2,
         "user_agent": "Mozilla/5.0 (Windows NT 10.0| WOW64| rv:51.0) Gecko/20100101 Firefox/51.0",
         "_deepnote_index_column": 3957
        },
        {
         "Unnamed: 0": 3958,
         "index": 3971,
         "customer_id": "230178",
         "order_date": "27/09/2013",
         "order_id": "HTS-230178-0001",
         "pages_visited": 12,
         "tshirt_category": "Hoodie",
         "tshirt_price": "23",
         "tshirt_quantity": 1,
         "user_agent": "Mozilla/5.0 (Windows NT 10.0| WOW64| rv:51.0) Gecko/20100101 Firefox/51.0",
         "_deepnote_index_column": 3958
        },
        {
         "Unnamed: 0": 3959,
         "index": 3972,
         "customer_id": "896646",
         "order_date": "25/11/2014",
         "order_id": "HTS-896646-0001",
         "pages_visited": 13,
         "tshirt_category": "Hoodie",
         "tshirt_price": "23",
         "tshirt_quantity": 1,
         "user_agent": "Mozilla/5.0 (Windows NT 10.0| WOW64| rv:51.0) Gecko/20100101 Firefox/51.0",
         "_deepnote_index_column": 3959
        },
        {
         "Unnamed: 0": 3960,
         "index": 3973,
         "customer_id": "714399",
         "order_date": "12/09/2016",
         "order_id": "HTS-714399-0003",
         "pages_visited": 14,
         "tshirt_category": "Hoodie",
         "tshirt_price": "23",
         "tshirt_quantity": 2,
         "user_agent": "Mozilla/5.0 (Windows NT 10.0| Win64| x64) AppleWebKit/537.36 (KHTML, like Gecko) Chrome/51.0.2704.7…",
         "_deepnote_index_column": 3960
        },
        {
         "Unnamed: 0": 3961,
         "index": 3974,
         "customer_id": "455261",
         "order_date": "14/09/2015",
         "order_id": "HTS-455261-0001",
         "pages_visited": 16,
         "tshirt_category": "Hoodie",
         "tshirt_price": "23",
         "tshirt_quantity": 2,
         "user_agent": "Mozilla/5.0 (Windows NT 10.0| Win64| x64) AppleWebKit/537.36 (KHTML, like Gecko) Chrome/51.0.2704.7…",
         "_deepnote_index_column": 3961
        },
        {
         "Unnamed: 0": 3962,
         "index": 3975,
         "customer_id": "722643",
         "order_date": "25/09/2015",
         "order_id": "HTS-722643-0002",
         "pages_visited": 19,
         "tshirt_category": "Hoodie",
         "tshirt_price": "23",
         "tshirt_quantity": 1,
         "user_agent": "Mozilla/5.0 (Windows NT 10.0| Win64| x64) AppleWebKit/537.36 (KHTML, like Gecko) Chrome/51.0.2704.7…",
         "_deepnote_index_column": 3962
        },
        {
         "Unnamed: 0": 3963,
         "index": 3976,
         "customer_id": "592191",
         "order_date": "18/11/2016",
         "order_id": "HTS-592191-0003",
         "pages_visited": 4,
         "tshirt_category": "Hoodie",
         "tshirt_price": "23",
         "tshirt_quantity": 6,
         "user_agent": "Mozilla/5.0 (Windows NT 10.0| Win64| x64) AppleWebKit/537.36 (KHTML, like Gecko) Chrome/56.0.2924.8…",
         "_deepnote_index_column": 3963
        },
        {
         "Unnamed: 0": 3964,
         "index": 3977,
         "customer_id": "894237",
         "order_date": "24/08/2014",
         "order_id": "HTS-894237-0001",
         "pages_visited": 5,
         "tshirt_category": "Hoodie",
         "tshirt_price": "23",
         "tshirt_quantity": 1,
         "user_agent": "Mozilla/5.0 (Windows NT 10.0| Win64| x64) AppleWebKit/537.36 (KHTML, like Gecko) Chrome/56.0.2924.8…",
         "_deepnote_index_column": 3964
        },
        {
         "Unnamed: 0": 3965,
         "index": 3978,
         "customer_id": "354919",
         "order_date": "24/06/2016",
         "order_id": "HTS-354919-0002",
         "pages_visited": 6,
         "tshirt_category": "Hoodie",
         "tshirt_price": "23",
         "tshirt_quantity": 2,
         "user_agent": "Mozilla/5.0 (Windows NT 10.0| Win64| x64) AppleWebKit/537.36 (KHTML, like Gecko) Chrome/56.0.2924.8…",
         "_deepnote_index_column": 3965
        },
        {
         "Unnamed: 0": 3966,
         "index": 3979,
         "customer_id": "368252",
         "order_date": "25/08/2015",
         "order_id": "HTS-368252-0002",
         "pages_visited": 7,
         "tshirt_category": "Hoodie",
         "tshirt_price": "23",
         "tshirt_quantity": 1,
         "user_agent": "Mozilla/5.0 (Windows NT 10.0| Win64| x64) AppleWebKit/537.36 (KHTML, like Gecko) Chrome/56.0.2924.8…",
         "_deepnote_index_column": 3966
        },
        {
         "Unnamed: 0": 3967,
         "index": 3980,
         "customer_id": "495525",
         "order_date": "16/07/2013",
         "order_id": "HTS-495525-0001",
         "pages_visited": 8,
         "tshirt_category": "Hoodie",
         "tshirt_price": "23",
         "tshirt_quantity": 1,
         "user_agent": "Mozilla/5.0 (Windows NT 10.0| Win64| x64) AppleWebKit/537.36 (KHTML, like Gecko) Chrome/56.0.2924.8…",
         "_deepnote_index_column": 3967
        },
        {
         "Unnamed: 0": 3968,
         "index": 3981,
         "customer_id": "857260",
         "order_date": "29/10/2016",
         "order_id": "HTS-857260-0004",
         "pages_visited": 8,
         "tshirt_category": "Hoodie",
         "tshirt_price": "23",
         "tshirt_quantity": 1,
         "user_agent": "Mozilla/5.0 (Windows NT 10.0| Win64| x64) AppleWebKit/537.36 (KHTML, like Gecko) Chrome/56.0.2924.8…",
         "_deepnote_index_column": 3968
        },
        {
         "Unnamed: 0": 3969,
         "index": 3982,
         "customer_id": "889709",
         "order_date": "01/12/2014",
         "order_id": "HTS-889709-0001",
         "pages_visited": 9,
         "tshirt_category": "Hoodie",
         "tshirt_price": "23",
         "tshirt_quantity": 1,
         "user_agent": "Mozilla/5.0 (Windows NT 10.0| Win64| x64) AppleWebKit/537.36 (KHTML, like Gecko) Chrome/56.0.2924.8…",
         "_deepnote_index_column": 3969
        },
        {
         "Unnamed: 0": 3970,
         "index": 3983,
         "customer_id": "153843",
         "order_date": "28/01/2016",
         "order_id": "HTS-153843-0003",
         "pages_visited": 9,
         "tshirt_category": "Hoodie",
         "tshirt_price": "23",
         "tshirt_quantity": 1,
         "user_agent": "Mozilla/5.0 (Windows NT 10.0| Win64| x64) AppleWebKit/537.36 (KHTML, like Gecko) Chrome/56.0.2924.8…",
         "_deepnote_index_column": 3970
        },
        {
         "Unnamed: 0": 3971,
         "index": 3984,
         "customer_id": "270102",
         "order_date": "10/10/2016",
         "order_id": "HTS-270102-0002",
         "pages_visited": 9,
         "tshirt_category": "Hoodie",
         "tshirt_price": "23",
         "tshirt_quantity": 1,
         "user_agent": "Mozilla/5.0 (Windows NT 10.0| Win64| x64) AppleWebKit/537.36 (KHTML, like Gecko) Chrome/56.0.2924.8…",
         "_deepnote_index_column": 3971
        },
        {
         "Unnamed: 0": 3972,
         "index": 3985,
         "customer_id": "747692",
         "order_date": "10/04/2015",
         "order_id": "HTS-747692-0001",
         "pages_visited": 9,
         "tshirt_category": "Hoodie",
         "tshirt_price": "23",
         "tshirt_quantity": 1,
         "user_agent": "Mozilla/5.0 (Windows NT 10.0| Win64| x64) AppleWebKit/537.36 (KHTML, like Gecko) Chrome/56.0.2924.8…",
         "_deepnote_index_column": 3972
        },
        {
         "Unnamed: 0": 3973,
         "index": 3986,
         "customer_id": "442435",
         "order_date": "31/08/2016",
         "order_id": "HTS-442435-0002",
         "pages_visited": 10,
         "tshirt_category": "Hoodie",
         "tshirt_price": "23",
         "tshirt_quantity": 1,
         "user_agent": "Mozilla/5.0 (Windows NT 10.0| Win64| x64) AppleWebKit/537.36 (KHTML, like Gecko) Chrome/56.0.2924.8…",
         "_deepnote_index_column": 3973
        },
        {
         "Unnamed: 0": 3974,
         "index": 3987,
         "customer_id": "vnp260",
         "order_date": "18/03/2017",
         "order_id": "HTS-vnp260-0002",
         "pages_visited": 11,
         "tshirt_category": "Hoodie",
         "tshirt_price": "23",
         "tshirt_quantity": 15,
         "user_agent": "Mozilla/5.0 (Windows NT 10.0| Win64| x64) AppleWebKit/537.36 (KHTML, like Gecko) Chrome/56.0.2924.8…",
         "_deepnote_index_column": 3974
        },
        {
         "Unnamed: 0": 3975,
         "index": 3988,
         "customer_id": "873421",
         "order_date": "03/09/2013",
         "order_id": "HTS-873421-0001",
         "pages_visited": 12,
         "tshirt_category": "Hoodie",
         "tshirt_price": "23",
         "tshirt_quantity": 1,
         "user_agent": "Mozilla/5.0 (Windows NT 10.0| Win64| x64) AppleWebKit/537.36 (KHTML, like Gecko) Chrome/56.0.2924.8…",
         "_deepnote_index_column": 3975
        },
        {
         "Unnamed: 0": 3976,
         "index": 3989,
         "customer_id": "857260",
         "order_date": "26/05/2015",
         "order_id": "HTS-857260-0002",
         "pages_visited": 12,
         "tshirt_category": "Hoodie",
         "tshirt_price": "23",
         "tshirt_quantity": 1,
         "user_agent": "Mozilla/5.0 (Windows NT 10.0| Win64| x64) AppleWebKit/537.36 (KHTML, like Gecko) Chrome/56.0.2924.8…",
         "_deepnote_index_column": 3976
        },
        {
         "Unnamed: 0": 3977,
         "index": 3990,
         "customer_id": "448765",
         "order_date": "11/11/2016",
         "order_id": "HTS-448765-0002",
         "pages_visited": 12,
         "tshirt_category": "Hoodie",
         "tshirt_price": "23",
         "tshirt_quantity": 2,
         "user_agent": "Mozilla/5.0 (Windows NT 10.0| Win64| x64) AppleWebKit/537.36 (KHTML, like Gecko) Chrome/56.0.2924.8…",
         "_deepnote_index_column": 3977
        },
        {
         "Unnamed: 0": 3978,
         "index": 3991,
         "customer_id": "495525",
         "order_date": "20/10/2015",
         "order_id": "HTS-495525-0005",
         "pages_visited": 12,
         "tshirt_category": "Hoodie",
         "tshirt_price": "23",
         "tshirt_quantity": 3,
         "user_agent": "Mozilla/5.0 (Windows NT 10.0| Win64| x64) AppleWebKit/537.36 (KHTML, like Gecko) Chrome/56.0.2924.8…",
         "_deepnote_index_column": 3978
        },
        {
         "Unnamed: 0": 3979,
         "index": 3992,
         "customer_id": "55370",
         "order_date": "16/09/2013",
         "order_id": "HTS-055370-0001",
         "pages_visited": 13,
         "tshirt_category": "Hoodie",
         "tshirt_price": "23",
         "tshirt_quantity": 1,
         "user_agent": "Mozilla/5.0 (Windows NT 10.0| Win64| x64) AppleWebKit/537.36 (KHTML, like Gecko) Chrome/56.0.2924.8…",
         "_deepnote_index_column": 3979
        },
        {
         "Unnamed: 0": 3980,
         "index": 3993,
         "customer_id": "8ieumv",
         "order_date": "26/09/2015",
         "order_id": "HTS-8ieumv-0001",
         "pages_visited": 13,
         "tshirt_category": "Hoodie",
         "tshirt_price": "23",
         "tshirt_quantity": 1,
         "user_agent": "Mozilla/5.0 (Windows NT 10.0| Win64| x64) AppleWebKit/537.36 (KHTML, like Gecko) Chrome/56.0.2924.8…",
         "_deepnote_index_column": 3980
        },
        {
         "Unnamed: 0": 3981,
         "index": 3994,
         "customer_id": "139726",
         "order_date": "21/09/2014",
         "order_id": "HTS-139726-0001",
         "pages_visited": 13,
         "tshirt_category": "Hoodie",
         "tshirt_price": "23",
         "tshirt_quantity": 1,
         "user_agent": "Mozilla/5.0 (Windows NT 10.0| Win64| x64) AppleWebKit/537.36 (KHTML, like Gecko) Chrome/56.0.2924.8…",
         "_deepnote_index_column": 3981
        },
        {
         "Unnamed: 0": 3982,
         "index": 3995,
         "customer_id": "917350",
         "order_date": "13/10/2014",
         "order_id": "HTS-917350-0001",
         "pages_visited": 13,
         "tshirt_category": "Hoodie",
         "tshirt_price": "23",
         "tshirt_quantity": 16,
         "user_agent": "Mozilla/5.0 (Windows NT 10.0| Win64| x64) AppleWebKit/537.36 (KHTML, like Gecko) Chrome/56.0.2924.8…",
         "_deepnote_index_column": 3982
        },
        {
         "Unnamed: 0": 3983,
         "index": 3996,
         "customer_id": "51906",
         "order_date": "10/08/2015",
         "order_id": "HTS-051906-0001",
         "pages_visited": 15,
         "tshirt_category": "Hoodie",
         "tshirt_price": "23",
         "tshirt_quantity": 5,
         "user_agent": "Mozilla/5.0 (Windows NT 10.0| Win64| x64) AppleWebKit/537.36 (KHTML, like Gecko) Chrome/56.0.2924.8…",
         "_deepnote_index_column": 3983
        },
        {
         "Unnamed: 0": 3984,
         "index": 3997,
         "customer_id": "6er544",
         "order_date": "19/01/2016",
         "order_id": "HTS-6er544-0001",
         "pages_visited": 15,
         "tshirt_category": "Hoodie",
         "tshirt_price": "23",
         "tshirt_quantity": 5,
         "user_agent": "Mozilla/5.0 (Windows NT 10.0| Win64| x64) AppleWebKit/537.36 (KHTML, like Gecko) Chrome/56.0.2924.8…",
         "_deepnote_index_column": 3984
        },
        {
         "Unnamed: 0": 3985,
         "index": 3998,
         "customer_id": "773811",
         "order_date": "02/01/2015",
         "order_id": "HTS-773811-0001",
         "pages_visited": 16,
         "tshirt_category": "Hoodie",
         "tshirt_price": "23",
         "tshirt_quantity": 1,
         "user_agent": "Mozilla/5.0 (Windows NT 10.0| Win64| x64) AppleWebKit/537.36 (KHTML, like Gecko) Chrome/56.0.2924.8…",
         "_deepnote_index_column": 3985
        },
        {
         "Unnamed: 0": 3986,
         "index": 3999,
         "customer_id": "490322",
         "order_date": "08/05/2016",
         "order_id": "HTS-490322-0001",
         "pages_visited": 12,
         "tshirt_category": "Hoodie",
         "tshirt_price": "23",
         "tshirt_quantity": 1,
         "user_agent": "Mozilla/5.0 (Windows NT 6.1) AppleWebKit/537.36 (KHTML, like Gecko) Chrome/56.0.2924.87 Safari/537.…",
         "_deepnote_index_column": 3986
        },
        {
         "Unnamed: 0": 3987,
         "index": 4000,
         "customer_id": "x2re38",
         "order_date": "10/08/2015",
         "order_id": "HTS-x2re38-0001",
         "pages_visited": 12,
         "tshirt_category": "Hoodie",
         "tshirt_price": "23",
         "tshirt_quantity": 10,
         "user_agent": "Mozilla/5.0 (Windows NT 6.1) AppleWebKit/537.36 (KHTML, like Gecko) Chrome/56.0.2924.87 Safari/537.…",
         "_deepnote_index_column": 3987
        },
        {
         "Unnamed: 0": 3988,
         "index": 4001,
         "customer_id": "686976",
         "order_date": "16/10/2013",
         "order_id": "HTS-686976-0001",
         "pages_visited": 23,
         "tshirt_category": "Hoodie",
         "tshirt_price": "23",
         "tshirt_quantity": 2,
         "user_agent": "Mozilla/5.0 (Windows NT 6.1) AppleWebKit/537.36 (KHTML, like Gecko) Chrome/56.0.2924.87 Safari/537.…",
         "_deepnote_index_column": 3988
        },
        {
         "Unnamed: 0": 3989,
         "index": 4002,
         "customer_id": "16640",
         "order_date": "02/02/2017",
         "order_id": "HTS-016640-0003",
         "pages_visited": 4,
         "tshirt_category": "Hoodie",
         "tshirt_price": "23",
         "tshirt_quantity": 1,
         "user_agent": "Mozilla/5.0 (Windows NT 6.1| WOW64) AppleWebKit/537.36 (KHTML, like Gecko) Chrome/56.0.2924.87 Safa…",
         "_deepnote_index_column": 3989
        },
        {
         "Unnamed: 0": 3990,
         "index": 4003,
         "customer_id": "832582",
         "order_date": "27/01/2015",
         "order_id": "HTS-832582-0002",
         "pages_visited": 6,
         "tshirt_category": "Hoodie",
         "tshirt_price": "23",
         "tshirt_quantity": 2,
         "user_agent": "Mozilla/5.0 (Windows NT 6.1| WOW64) AppleWebKit/537.36 (KHTML, like Gecko) Chrome/56.0.2924.87 Safa…",
         "_deepnote_index_column": 3990
        },
        {
         "Unnamed: 0": 3991,
         "index": 4004,
         "customer_id": "214765",
         "order_date": "29/04/2014",
         "order_id": "HTS-214765-0002",
         "pages_visited": 7,
         "tshirt_category": "Hoodie",
         "tshirt_price": "23",
         "tshirt_quantity": 2,
         "user_agent": "Mozilla/5.0 (Windows NT 6.1| WOW64) AppleWebKit/537.36 (KHTML, like Gecko) Chrome/56.0.2924.87 Safa…",
         "_deepnote_index_column": 3991
        },
        {
         "Unnamed: 0": 3992,
         "index": 4005,
         "customer_id": "7xy0mw",
         "order_date": "22/04/2016",
         "order_id": "HTS-7xy0mw-0003",
         "pages_visited": 7,
         "tshirt_category": "Hoodie",
         "tshirt_price": "23",
         "tshirt_quantity": 3,
         "user_agent": "Mozilla/5.0 (Windows NT 6.1| WOW64) AppleWebKit/537.36 (KHTML, like Gecko) Chrome/56.0.2924.87 Safa…",
         "_deepnote_index_column": 3992
        },
        {
         "Unnamed: 0": 3993,
         "index": 4006,
         "customer_id": "921776",
         "order_date": "30/05/2015",
         "order_id": "HTS-921776-0001",
         "pages_visited": 8,
         "tshirt_category": "Hoodie",
         "tshirt_price": "23",
         "tshirt_quantity": 1,
         "user_agent": "Mozilla/5.0 (Windows NT 6.1| WOW64) AppleWebKit/537.36 (KHTML, like Gecko) Chrome/56.0.2924.87 Safa…",
         "_deepnote_index_column": 3993
        },
        {
         "Unnamed: 0": 3994,
         "index": 4007,
         "customer_id": "190916",
         "order_date": "24/01/2017",
         "order_id": "HTS-190916-0002",
         "pages_visited": 8,
         "tshirt_category": "Hoodie",
         "tshirt_price": "23",
         "tshirt_quantity": 1,
         "user_agent": "Mozilla/5.0 (Windows NT 6.1| WOW64) AppleWebKit/537.36 (KHTML, like Gecko) Chrome/56.0.2924.87 Safa…",
         "_deepnote_index_column": 3994
        },
        {
         "Unnamed: 0": 3995,
         "index": 4008,
         "customer_id": "523094",
         "order_date": "02/09/2016",
         "order_id": "HTS-523094-0001",
         "pages_visited": 9,
         "tshirt_category": "Hoodie",
         "tshirt_price": "23",
         "tshirt_quantity": 1,
         "user_agent": "Mozilla/5.0 (Windows NT 6.1| WOW64) AppleWebKit/537.36 (KHTML, like Gecko) Chrome/56.0.2924.87 Safa…",
         "_deepnote_index_column": 3995
        },
        {
         "Unnamed: 0": 3996,
         "index": 4009,
         "customer_id": "963774",
         "order_date": "06/07/2015",
         "order_id": "HTS-963774-0002",
         "pages_visited": 9,
         "tshirt_category": "Hoodie",
         "tshirt_price": "23",
         "tshirt_quantity": 3,
         "user_agent": "Mozilla/5.0 (Windows NT 6.1| WOW64) AppleWebKit/537.36 (KHTML, like Gecko) Chrome/56.0.2924.87 Safa…",
         "_deepnote_index_column": 3996
        },
        {
         "Unnamed: 0": 3997,
         "index": 4010,
         "customer_id": "335800",
         "order_date": "21/03/2017",
         "order_id": "HTS-335800-0001",
         "pages_visited": 10,
         "tshirt_category": "Hoodie",
         "tshirt_price": "23",
         "tshirt_quantity": 1,
         "user_agent": "Mozilla/5.0 (Windows NT 6.1| WOW64) AppleWebKit/537.36 (KHTML, like Gecko) Chrome/56.0.2924.87 Safa…",
         "_deepnote_index_column": 3997
        },
        {
         "Unnamed: 0": 3998,
         "index": 4011,
         "customer_id": "489189",
         "order_date": "17/03/2016",
         "order_id": "HTS-489189-0002",
         "pages_visited": 10,
         "tshirt_category": "Hoodie",
         "tshirt_price": "23",
         "tshirt_quantity": 3,
         "user_agent": "Mozilla/5.0 (Windows NT 6.1| WOW64) AppleWebKit/537.36 (KHTML, like Gecko) Chrome/56.0.2924.87 Safa…",
         "_deepnote_index_column": 3998
        },
        {
         "Unnamed: 0": 3999,
         "index": 4012,
         "customer_id": "921776",
         "order_date": "24/01/2016",
         "order_id": "HTS-921776-0002",
         "pages_visited": 11,
         "tshirt_category": "Hoodie",
         "tshirt_price": "23",
         "tshirt_quantity": 1,
         "user_agent": "Mozilla/5.0 (Windows NT 6.1| WOW64) AppleWebKit/537.36 (KHTML, like Gecko) Chrome/56.0.2924.87 Safa…",
         "_deepnote_index_column": 3999
        }
       ]
      },
      "text/plain": "      Unnamed: 0  index customer_id  order_date         order_id  \\\n0              0      0       38040  04/09/2016  HTS-038040-0002   \n1              1      1      vft1eu  26/02/2017  HTS-vft1eu-0003   \n2              2      2      914324  01/12/2013  HTS-914324-0001   \n3              3      3       61311  15/01/2016  HTS-061311-0003   \n4              4      4      494332  03/11/2013  HTS-494332-0001   \n...          ...    ...         ...         ...              ...   \n3995        3995   4008      523094  02/09/2016  HTS-523094-0001   \n3996        3996   4009      963774  06/07/2015  HTS-963774-0002   \n3997        3997   4010      335800  21/03/2017  HTS-335800-0001   \n3998        3998   4011      489189  17/03/2016  HTS-489189-0002   \n3999        3999   4012      921776  24/01/2016  HTS-921776-0002   \n\n      pages_visited  tshirt_category tshirt_price  tshirt_quantity  \\\n0                 9  White T-Shirt M           20                1   \n1                10  White T-Shirt F           18                3   \n2                10      Wh Tshirt F           18                1   \n3                 9  Black T-Shirt F         17,5                4   \n4                10      Wh Tshirt F           18                2   \n...             ...              ...          ...              ...   \n3995              9           Hoodie           23                1   \n3996              9           Hoodie           23                3   \n3997             10           Hoodie           23                1   \n3998             10           Hoodie           23                3   \n3999             11           Hoodie           23                1   \n\n                                             user_agent  \n0     Mozilla/5.0 (Windows NT 10.0| WOW64) AppleWebK...  \n1     Mozilla/5.0 (Macintosh| Intel Mac OS X 10_12_3...  \n2     Mozilla/5.0 (Windows NT 10.0| WOW64) AppleWebK...  \n3     Mozilla/5.0 (Macintosh| Intel Mac OS X 10_12_3...  \n4     Mozilla/5.0 (Macintosh| Intel Mac OS X 10_11_6...  \n...                                                 ...  \n3995  Mozilla/5.0 (Windows NT 6.1| WOW64) AppleWebKi...  \n3996  Mozilla/5.0 (Windows NT 6.1| WOW64) AppleWebKi...  \n3997  Mozilla/5.0 (Windows NT 6.1| WOW64) AppleWebKi...  \n3998  Mozilla/5.0 (Windows NT 6.1| WOW64) AppleWebKi...  \n3999  Mozilla/5.0 (Windows NT 6.1| WOW64) AppleWebKi...  \n\n[4000 rows x 10 columns]",
      "text/html": "<div>\n<style scoped>\n    .dataframe tbody tr th:only-of-type {\n        vertical-align: middle;\n    }\n\n    .dataframe tbody tr th {\n        vertical-align: top;\n    }\n\n    .dataframe thead th {\n        text-align: right;\n    }\n</style>\n<table border=\"1\" class=\"dataframe\">\n  <thead>\n    <tr style=\"text-align: right;\">\n      <th></th>\n      <th>Unnamed: 0</th>\n      <th>index</th>\n      <th>customer_id</th>\n      <th>order_date</th>\n      <th>order_id</th>\n      <th>pages_visited</th>\n      <th>tshirt_category</th>\n      <th>tshirt_price</th>\n      <th>tshirt_quantity</th>\n      <th>user_agent</th>\n    </tr>\n  </thead>\n  <tbody>\n    <tr>\n      <th>0</th>\n      <td>0</td>\n      <td>0</td>\n      <td>38040</td>\n      <td>04/09/2016</td>\n      <td>HTS-038040-0002</td>\n      <td>9</td>\n      <td>White T-Shirt M</td>\n      <td>20</td>\n      <td>1</td>\n      <td>Mozilla/5.0 (Windows NT 10.0| WOW64) AppleWebK...</td>\n    </tr>\n    <tr>\n      <th>1</th>\n      <td>1</td>\n      <td>1</td>\n      <td>vft1eu</td>\n      <td>26/02/2017</td>\n      <td>HTS-vft1eu-0003</td>\n      <td>10</td>\n      <td>White T-Shirt F</td>\n      <td>18</td>\n      <td>3</td>\n      <td>Mozilla/5.0 (Macintosh| Intel Mac OS X 10_12_3...</td>\n    </tr>\n    <tr>\n      <th>2</th>\n      <td>2</td>\n      <td>2</td>\n      <td>914324</td>\n      <td>01/12/2013</td>\n      <td>HTS-914324-0001</td>\n      <td>10</td>\n      <td>Wh Tshirt F</td>\n      <td>18</td>\n      <td>1</td>\n      <td>Mozilla/5.0 (Windows NT 10.0| WOW64) AppleWebK...</td>\n    </tr>\n    <tr>\n      <th>3</th>\n      <td>3</td>\n      <td>3</td>\n      <td>61311</td>\n      <td>15/01/2016</td>\n      <td>HTS-061311-0003</td>\n      <td>9</td>\n      <td>Black T-Shirt F</td>\n      <td>17,5</td>\n      <td>4</td>\n      <td>Mozilla/5.0 (Macintosh| Intel Mac OS X 10_12_3...</td>\n    </tr>\n    <tr>\n      <th>4</th>\n      <td>4</td>\n      <td>4</td>\n      <td>494332</td>\n      <td>03/11/2013</td>\n      <td>HTS-494332-0001</td>\n      <td>10</td>\n      <td>Wh Tshirt F</td>\n      <td>18</td>\n      <td>2</td>\n      <td>Mozilla/5.0 (Macintosh| Intel Mac OS X 10_11_6...</td>\n    </tr>\n    <tr>\n      <th>...</th>\n      <td>...</td>\n      <td>...</td>\n      <td>...</td>\n      <td>...</td>\n      <td>...</td>\n      <td>...</td>\n      <td>...</td>\n      <td>...</td>\n      <td>...</td>\n      <td>...</td>\n    </tr>\n    <tr>\n      <th>3995</th>\n      <td>3995</td>\n      <td>4008</td>\n      <td>523094</td>\n      <td>02/09/2016</td>\n      <td>HTS-523094-0001</td>\n      <td>9</td>\n      <td>Hoodie</td>\n      <td>23</td>\n      <td>1</td>\n      <td>Mozilla/5.0 (Windows NT 6.1| WOW64) AppleWebKi...</td>\n    </tr>\n    <tr>\n      <th>3996</th>\n      <td>3996</td>\n      <td>4009</td>\n      <td>963774</td>\n      <td>06/07/2015</td>\n      <td>HTS-963774-0002</td>\n      <td>9</td>\n      <td>Hoodie</td>\n      <td>23</td>\n      <td>3</td>\n      <td>Mozilla/5.0 (Windows NT 6.1| WOW64) AppleWebKi...</td>\n    </tr>\n    <tr>\n      <th>3997</th>\n      <td>3997</td>\n      <td>4010</td>\n      <td>335800</td>\n      <td>21/03/2017</td>\n      <td>HTS-335800-0001</td>\n      <td>10</td>\n      <td>Hoodie</td>\n      <td>23</td>\n      <td>1</td>\n      <td>Mozilla/5.0 (Windows NT 6.1| WOW64) AppleWebKi...</td>\n    </tr>\n    <tr>\n      <th>3998</th>\n      <td>3998</td>\n      <td>4011</td>\n      <td>489189</td>\n      <td>17/03/2016</td>\n      <td>HTS-489189-0002</td>\n      <td>10</td>\n      <td>Hoodie</td>\n      <td>23</td>\n      <td>3</td>\n      <td>Mozilla/5.0 (Windows NT 6.1| WOW64) AppleWebKi...</td>\n    </tr>\n    <tr>\n      <th>3999</th>\n      <td>3999</td>\n      <td>4012</td>\n      <td>921776</td>\n      <td>24/01/2016</td>\n      <td>HTS-921776-0002</td>\n      <td>11</td>\n      <td>Hoodie</td>\n      <td>23</td>\n      <td>1</td>\n      <td>Mozilla/5.0 (Windows NT 6.1| WOW64) AppleWebKi...</td>\n    </tr>\n  </tbody>\n</table>\n<p>4000 rows × 10 columns</p>\n</div>"
     },
     "metadata": {}
    }
   ],
   "execution_count": 10
  },
  {
   "cell_type": "code",
   "metadata": {
    "tags": [],
    "cell_id": "00011-e6d360aa-bfb5-4b4e-a704-385376fbfac3",
    "deepnote_to_be_reexecuted": false,
    "source_hash": "7fef18a0",
    "execution_start": 1629376244705,
    "execution_millis": 180,
    "is_output_hidden": true,
    "deepnote_cell_type": "code"
   },
   "source": "df_vente_part2",
   "outputs": [
    {
     "output_type": "execute_result",
     "execution_count": 22,
     "data": {
      "application/vnd.deepnote.dataframe.v2+json": {
       "row_count": 4998,
       "column_count": 8,
       "columns": [
        {
         "name": "customer_id",
         "dtype": "object",
         "stats": {
          "unique_count": 2316,
          "nan_count": 0,
          "categories": [
           {
            "name": "536917",
            "count": 10
           },
           {
            "name": "745166",
            "count": 9
           },
           {
            "name": "2314 others",
            "count": 4979
           }
          ]
         }
        },
        {
         "name": "order_date",
         "dtype": "object",
         "stats": {
          "unique_count": 1289,
          "nan_count": 0,
          "categories": [
           {
            "name": "05/11/2015",
            "count": 15
           },
           {
            "name": "25/10/2015",
            "count": 13
           },
           {
            "name": "1287 others",
            "count": 4970
           }
          ]
         }
        },
        {
         "name": "order_id",
         "dtype": "object",
         "stats": {
          "unique_count": 4997,
          "nan_count": 0,
          "categories": [
           {
            "name": "HTS-357124-0001",
            "count": 2
           },
           {
            "name": "HTS-357500-0003",
            "count": 1
           },
           {
            "name": "4995 others",
            "count": 4995
           }
          ]
         }
        },
        {
         "name": "pages_visited",
         "dtype": "int64",
         "stats": {
          "unique_count": 24,
          "nan_count": 0,
          "min": "2",
          "max": "28",
          "histogram": [
           {
            "bin_start": 2,
            "bin_end": 4.6,
            "count": 152
           },
           {
            "bin_start": 4.6,
            "bin_end": 7.2,
            "count": 761
           },
           {
            "bin_start": 7.2,
            "bin_end": 9.8,
            "count": 928
           },
           {
            "bin_start": 9.8,
            "bin_end": 12.4,
            "count": 1587
           },
           {
            "bin_start": 12.4,
            "bin_end": 15,
            "count": 775
           },
           {
            "bin_start": 15,
            "bin_end": 17.6,
            "count": 591
           },
           {
            "bin_start": 17.6,
            "bin_end": 20.2,
            "count": 168
           },
           {
            "bin_start": 20.2,
            "bin_end": 22.8,
            "count": 28
           },
           {
            "bin_start": 22.8,
            "bin_end": 25.400000000000002,
            "count": 7
           },
           {
            "bin_start": 25.400000000000002,
            "bin_end": 28,
            "count": 1
           }
          ]
         }
        },
        {
         "name": "tshirt_category",
         "dtype": "object",
         "stats": {
          "unique_count": 10,
          "nan_count": 0,
          "categories": [
           {
            "name": "Hoodie",
            "count": 1317
           },
           {
            "name": "White T-Shirt M",
            "count": 1120
           },
           {
            "name": "8 others",
            "count": 2561
           }
          ]
         }
        },
        {
         "name": "tshirt_price",
         "dtype": "object",
         "stats": {
          "unique_count": 6,
          "nan_count": 0,
          "categories": [
           {
            "name": "23",
            "count": 1317
           },
           {
            "name": "20",
            "count": 1218
           },
           {
            "name": "4 others",
            "count": 2463
           }
          ]
         }
        },
        {
         "name": "tshirt_quantity",
         "dtype": "int64",
         "stats": {
          "unique_count": 27,
          "nan_count": 0,
          "min": "1",
          "max": "29",
          "histogram": [
           {
            "bin_start": 1,
            "bin_end": 3.8,
            "count": 4181
           },
           {
            "bin_start": 3.8,
            "bin_end": 6.6,
            "count": 517
           },
           {
            "bin_start": 6.6,
            "bin_end": 9.399999999999999,
            "count": 61
           },
           {
            "bin_start": 9.399999999999999,
            "bin_end": 12.2,
            "count": 36
           },
           {
            "bin_start": 12.2,
            "bin_end": 15,
            "count": 49
           },
           {
            "bin_start": 15,
            "bin_end": 17.799999999999997,
            "count": 59
           },
           {
            "bin_start": 17.799999999999997,
            "bin_end": 20.599999999999998,
            "count": 61
           },
           {
            "bin_start": 20.599999999999998,
            "bin_end": 23.4,
            "count": 23
           },
           {
            "bin_start": 23.4,
            "bin_end": 26.2,
            "count": 10
           },
           {
            "bin_start": 26.2,
            "bin_end": 29,
            "count": 1
           }
          ]
         }
        },
        {
         "name": "user_agent",
         "dtype": "object",
         "stats": {
          "unique_count": 20,
          "nan_count": 0,
          "categories": [
           {
            "name": "Mozilla/5.0 (Windows NT 10.0| Win64| x64) AppleWebKit/537.36 (KHTML, like Gecko) Chrome/56.0.2924.87 Safari/537.36",
            "count": 852
           },
           {
            "name": "Mozilla/5.0 (Windows NT 10.0| WOW64) AppleWebKit/537.36 (KHTML, like Gecko) Chrome/56.0.2924.87 Safari/537.36",
            "count": 644
           },
           {
            "name": "18 others",
            "count": 3502
           }
          ]
         }
        },
        {
         "name": "_deepnote_index_column",
         "dtype": "int64"
        }
       ],
       "rows_top": [
        {
         "customer_id": "357500",
         "order_date": "26/02/2015",
         "order_id": "HTS-357500-0003",
         "pages_visited": 14,
         "tshirt_category": "Black T-Shirt F",
         "tshirt_price": "17,5",
         "tshirt_quantity": 14,
         "user_agent": "Mozilla/5.0 (Windows NT 10.0| WOW64| rv:52.0) Gecko/20100101 Firefox/52.0",
         "_deepnote_index_column": 0
        },
        {
         "customer_id": "357500",
         "order_date": "26/05/2014",
         "order_id": "HTS-357500-0002",
         "pages_visited": 20,
         "tshirt_category": "Black T-Shirt F",
         "tshirt_price": "17,5",
         "tshirt_quantity": 13,
         "user_agent": "Mozilla/5.0 (Windows NT 10.0| WOW64| rv:52.0) Gecko/20100101 Firefox/52.0",
         "_deepnote_index_column": 1
        },
        {
         "customer_id": "256541",
         "order_date": "15/11/2014",
         "order_id": "HTS-256541-0001",
         "pages_visited": 8,
         "tshirt_category": "Black T-Shirt F",
         "tshirt_price": "17,5",
         "tshirt_quantity": 1,
         "user_agent": "Mozilla/5.0 (Windows NT 10.0| Win64| x64) AppleWebKit/537.36 (KHTML, like Gecko) Chrome/51.0.2704.7…",
         "_deepnote_index_column": 2
        },
        {
         "customer_id": "694300",
         "order_date": "20/03/2017",
         "order_id": "HTS-694300-0005",
         "pages_visited": 9,
         "tshirt_category": "Black T-Shirt F",
         "tshirt_price": "17,5",
         "tshirt_quantity": 2,
         "user_agent": "Mozilla/5.0 (Windows NT 10.0| Win64| x64) AppleWebKit/537.36 (KHTML, like Gecko) Chrome/51.0.2704.7…",
         "_deepnote_index_column": 3
        },
        {
         "customer_id": "491681",
         "order_date": "16/02/2016",
         "order_id": "HTS-491681-0005",
         "pages_visited": 5,
         "tshirt_category": "Black T-Shirt F",
         "tshirt_price": "17,5",
         "tshirt_quantity": 1,
         "user_agent": "Mozilla/5.0 (Windows NT 10.0| Win64| x64) AppleWebKit/537.36 (KHTML, like Gecko) Chrome/56.0.2924.8…",
         "_deepnote_index_column": 4
        },
        {
         "customer_id": "o7fecu",
         "order_date": "11/10/2016",
         "order_id": "HTS-o7fecu-0004",
         "pages_visited": 6,
         "tshirt_category": "Black T-Shirt F",
         "tshirt_price": "17,5",
         "tshirt_quantity": 1,
         "user_agent": "Mozilla/5.0 (Windows NT 10.0| Win64| x64) AppleWebKit/537.36 (KHTML, like Gecko) Chrome/56.0.2924.8…",
         "_deepnote_index_column": 5
        },
        {
         "customer_id": "03i0ia",
         "order_date": "30/07/2016",
         "order_id": "HTS-03i0ia-0002",
         "pages_visited": 8,
         "tshirt_category": "Black T-Shirt F",
         "tshirt_price": "17,5",
         "tshirt_quantity": 2,
         "user_agent": "Mozilla/5.0 (Windows NT 10.0| Win64| x64) AppleWebKit/537.36 (KHTML, like Gecko) Chrome/56.0.2924.8…",
         "_deepnote_index_column": 6
        },
        {
         "customer_id": "ubm5qz",
         "order_date": "14/06/2016",
         "order_id": "HTS-ubm5qz-0002",
         "pages_visited": 8,
         "tshirt_category": "Black T-Shirt F",
         "tshirt_price": "17,5",
         "tshirt_quantity": 2,
         "user_agent": "Mozilla/5.0 (Windows NT 10.0| Win64| x64) AppleWebKit/537.36 (KHTML, like Gecko) Chrome/56.0.2924.8…",
         "_deepnote_index_column": 7
        },
        {
         "customer_id": "p1ko7t",
         "order_date": "17/11/2015",
         "order_id": "HTS-p1ko7t-0001",
         "pages_visited": 8,
         "tshirt_category": "Black T-Shirt F",
         "tshirt_price": "17,5",
         "tshirt_quantity": 5,
         "user_agent": "Mozilla/5.0 (Windows NT 10.0| Win64| x64) AppleWebKit/537.36 (KHTML, like Gecko) Chrome/56.0.2924.8…",
         "_deepnote_index_column": 8
        },
        {
         "customer_id": "tnxnh3",
         "order_date": "20/07/2016",
         "order_id": "HTS-tnxnh3-0002",
         "pages_visited": 8,
         "tshirt_category": "Black T-Shirt F",
         "tshirt_price": "17,5",
         "tshirt_quantity": 6,
         "user_agent": "Mozilla/5.0 (Windows NT 10.0| Win64| x64) AppleWebKit/537.36 (KHTML, like Gecko) Chrome/56.0.2924.8…",
         "_deepnote_index_column": 9
        },
        {
         "customer_id": "41utl3",
         "order_date": "13/01/2017",
         "order_id": "HTS-41utl3-0004",
         "pages_visited": 8,
         "tshirt_category": "Black T-Shirt F",
         "tshirt_price": "17,5",
         "tshirt_quantity": 12,
         "user_agent": "Mozilla/5.0 (Windows NT 10.0| Win64| x64) AppleWebKit/537.36 (KHTML, like Gecko) Chrome/56.0.2924.8…",
         "_deepnote_index_column": 10
        },
        {
         "customer_id": "xm6y52",
         "order_date": "23/03/2016",
         "order_id": "HTS-xm6y52-0002",
         "pages_visited": 9,
         "tshirt_category": "Black T-Shirt F",
         "tshirt_price": "17,5",
         "tshirt_quantity": 1,
         "user_agent": "Mozilla/5.0 (Windows NT 10.0| Win64| x64) AppleWebKit/537.36 (KHTML, like Gecko) Chrome/56.0.2924.8…",
         "_deepnote_index_column": 11
        },
        {
         "customer_id": "359468",
         "order_date": "04/01/2016",
         "order_id": "HTS-359468-0001",
         "pages_visited": 9,
         "tshirt_category": "Black T-Shirt F",
         "tshirt_price": "17,5",
         "tshirt_quantity": 3,
         "user_agent": "Mozilla/5.0 (Windows NT 10.0| Win64| x64) AppleWebKit/537.36 (KHTML, like Gecko) Chrome/56.0.2924.8…",
         "_deepnote_index_column": 12
        },
        {
         "customer_id": "p1ko7t",
         "order_date": "23/08/2016",
         "order_id": "HTS-p1ko7t-0002",
         "pages_visited": 9,
         "tshirt_category": "Black T-Shirt F",
         "tshirt_price": "17,5",
         "tshirt_quantity": 8,
         "user_agent": "Mozilla/5.0 (Windows NT 10.0| Win64| x64) AppleWebKit/537.36 (KHTML, like Gecko) Chrome/56.0.2924.8…",
         "_deepnote_index_column": 13
        },
        {
         "customer_id": "yb0362",
         "order_date": "16/11/2015",
         "order_id": "HTS-yb0362-0001",
         "pages_visited": 9,
         "tshirt_category": "Black T-Shirt F",
         "tshirt_price": "17,5",
         "tshirt_quantity": 11,
         "user_agent": "Mozilla/5.0 (Windows NT 10.0| Win64| x64) AppleWebKit/537.36 (KHTML, like Gecko) Chrome/56.0.2924.8…",
         "_deepnote_index_column": 14
        },
        {
         "customer_id": "2w14mp",
         "order_date": "06/08/2016",
         "order_id": "HTS-2w14mp-0002",
         "pages_visited": 9,
         "tshirt_category": "Black T-Shirt F",
         "tshirt_price": "17,5",
         "tshirt_quantity": 19,
         "user_agent": "Mozilla/5.0 (Windows NT 10.0| Win64| x64) AppleWebKit/537.36 (KHTML, like Gecko) Chrome/56.0.2924.8…",
         "_deepnote_index_column": 15
        },
        {
         "customer_id": "5rem3f",
         "order_date": "23/12/2016",
         "order_id": "HTS-5rem3f-0003",
         "pages_visited": 10,
         "tshirt_category": "Black T-Shirt F",
         "tshirt_price": "17,5",
         "tshirt_quantity": 1,
         "user_agent": "Mozilla/5.0 (Windows NT 10.0| Win64| x64) AppleWebKit/537.36 (KHTML, like Gecko) Chrome/56.0.2924.8…",
         "_deepnote_index_column": 16
        },
        {
         "customer_id": "688983",
         "order_date": "25/06/2016",
         "order_id": "HTS-688983-0002",
         "pages_visited": 10,
         "tshirt_category": "Black T-Shirt F",
         "tshirt_price": "17,5",
         "tshirt_quantity": 1,
         "user_agent": "Mozilla/5.0 (Windows NT 10.0| Win64| x64) AppleWebKit/537.36 (KHTML, like Gecko) Chrome/56.0.2924.8…",
         "_deepnote_index_column": 17
        },
        {
         "customer_id": "660735",
         "order_date": "30/01/2016",
         "order_id": "HTS-660735-0002",
         "pages_visited": 10,
         "tshirt_category": "Black T-Shirt F",
         "tshirt_price": "17,5",
         "tshirt_quantity": 3,
         "user_agent": "Mozilla/5.0 (Windows NT 10.0| Win64| x64) AppleWebKit/537.36 (KHTML, like Gecko) Chrome/56.0.2924.8…",
         "_deepnote_index_column": 18
        },
        {
         "customer_id": "7q9bl8",
         "order_date": "02/03/2017",
         "order_id": "HTS-7q9bl8-0004",
         "pages_visited": 11,
         "tshirt_category": "Black T-Shirt F",
         "tshirt_price": "17,5",
         "tshirt_quantity": 1,
         "user_agent": "Mozilla/5.0 (Windows NT 10.0| Win64| x64) AppleWebKit/537.36 (KHTML, like Gecko) Chrome/56.0.2924.8…",
         "_deepnote_index_column": 19
        },
        {
         "customer_id": "cayo5g",
         "order_date": "22/11/2016",
         "order_id": "HTS-cayo5g-0002",
         "pages_visited": 11,
         "tshirt_category": "Black T-Shirt F",
         "tshirt_price": "17,5",
         "tshirt_quantity": 1,
         "user_agent": "Mozilla/5.0 (Windows NT 10.0| Win64| x64) AppleWebKit/537.36 (KHTML, like Gecko) Chrome/56.0.2924.8…",
         "_deepnote_index_column": 20
        },
        {
         "customer_id": "940546",
         "order_date": "17/05/2016",
         "order_id": "HTS-940546-0002",
         "pages_visited": 12,
         "tshirt_category": "Black T-Shirt F",
         "tshirt_price": "17,5",
         "tshirt_quantity": 1,
         "user_agent": "Mozilla/5.0 (Windows NT 10.0| Win64| x64) AppleWebKit/537.36 (KHTML, like Gecko) Chrome/56.0.2924.8…",
         "_deepnote_index_column": 21
        },
        {
         "customer_id": "1j1cbo",
         "order_date": "22/12/2015",
         "order_id": "HTS-1j1cbo-0002",
         "pages_visited": 12,
         "tshirt_category": "Black T-Shirt F",
         "tshirt_price": "17,5",
         "tshirt_quantity": 1,
         "user_agent": "Mozilla/5.0 (Windows NT 10.0| Win64| x64) AppleWebKit/537.36 (KHTML, like Gecko) Chrome/56.0.2924.8…",
         "_deepnote_index_column": 22
        },
        {
         "customer_id": "xm6y52",
         "order_date": "11/08/2015",
         "order_id": "HTS-xm6y52-0001",
         "pages_visited": 12,
         "tshirt_category": "Black T-Shirt F",
         "tshirt_price": "17,5",
         "tshirt_quantity": 5,
         "user_agent": "Mozilla/5.0 (Windows NT 10.0| Win64| x64) AppleWebKit/537.36 (KHTML, like Gecko) Chrome/56.0.2924.8…",
         "_deepnote_index_column": 23
        },
        {
         "customer_id": "764175",
         "order_date": "19/05/2016",
         "order_id": "HTS-764175-0003",
         "pages_visited": 13,
         "tshirt_category": "Black T-Shirt F",
         "tshirt_price": "17,5",
         "tshirt_quantity": 1,
         "user_agent": "Mozilla/5.0 (Windows NT 10.0| Win64| x64) AppleWebKit/537.36 (KHTML, like Gecko) Chrome/56.0.2924.8…",
         "_deepnote_index_column": 24
        },
        {
         "customer_id": "1j1cbo",
         "order_date": "09/07/2015",
         "order_id": "HTS-1j1cbo-0001",
         "pages_visited": 16,
         "tshirt_category": "Black T-Shirt F",
         "tshirt_price": "17,5",
         "tshirt_quantity": 4,
         "user_agent": "Mozilla/5.0 (Windows NT 10.0| Win64| x64) AppleWebKit/537.36 (KHTML, like Gecko) Chrome/56.0.2924.8…",
         "_deepnote_index_column": 25
        },
        {
         "customer_id": "j3cew4",
         "order_date": "21/07/2015",
         "order_id": "HTS-j3cew4-0001",
         "pages_visited": 21,
         "tshirt_category": "Black T-Shirt F",
         "tshirt_price": "17,5",
         "tshirt_quantity": 1,
         "user_agent": "Mozilla/5.0 (Windows NT 10.0| Win64| x64) AppleWebKit/537.36 (KHTML, like Gecko) Chrome/56.0.2924.8…",
         "_deepnote_index_column": 26
        },
        {
         "customer_id": "13125",
         "order_date": "24/05/2015",
         "order_id": "HTS-013125-0001",
         "pages_visited": 9,
         "tshirt_category": "Black T-Shirt F",
         "tshirt_price": "17,5",
         "tshirt_quantity": 2,
         "user_agent": "Mozilla/5.0 (Windows NT 6.1) AppleWebKit/537.36 (KHTML, like Gecko) Chrome/56.0.2924.87 Safari/537.…",
         "_deepnote_index_column": 27
        },
        {
         "customer_id": "655330",
         "order_date": "15/12/2015",
         "order_id": "HTS-655330-0004",
         "pages_visited": 10,
         "tshirt_category": "Black T-Shirt F",
         "tshirt_price": "17,5",
         "tshirt_quantity": 2,
         "user_agent": "Mozilla/5.0 (Windows NT 6.1) AppleWebKit/537.36 (KHTML, like Gecko) Chrome/56.0.2924.87 Safari/537.…",
         "_deepnote_index_column": 28
        },
        {
         "customer_id": "287919",
         "order_date": "15/07/2014",
         "order_id": "HTS-287919-0002",
         "pages_visited": 7,
         "tshirt_category": "Black T-Shirt F",
         "tshirt_price": "17,5",
         "tshirt_quantity": 2,
         "user_agent": "Mozilla/5.0 (Windows NT 6.1| WOW64) AppleWebKit/537.36 (KHTML, like Gecko) Chrome/56.0.2924.87 Safa…",
         "_deepnote_index_column": 29
        },
        {
         "customer_id": "805920",
         "order_date": "04/07/2016",
         "order_id": "HTS-805920-0004",
         "pages_visited": 8,
         "tshirt_category": "Black T-Shirt F",
         "tshirt_price": "17,5",
         "tshirt_quantity": 3,
         "user_agent": "Mozilla/5.0 (Windows NT 6.1| WOW64) AppleWebKit/537.36 (KHTML, like Gecko) Chrome/56.0.2924.87 Safa…",
         "_deepnote_index_column": 30
        },
        {
         "customer_id": "805920",
         "order_date": "10/02/2017",
         "order_id": "HTS-805920-0005",
         "pages_visited": 8,
         "tshirt_category": "Black T-Shirt F",
         "tshirt_price": "17,5",
         "tshirt_quantity": 5,
         "user_agent": "Mozilla/5.0 (Windows NT 6.1| WOW64) AppleWebKit/537.36 (KHTML, like Gecko) Chrome/56.0.2924.87 Safa…",
         "_deepnote_index_column": 31
        },
        {
         "customer_id": "90x4tg",
         "order_date": "27/02/2017",
         "order_id": "HTS-90x4tg-0002",
         "pages_visited": 9,
         "tshirt_category": "Black T-Shirt F",
         "tshirt_price": "17,5",
         "tshirt_quantity": 2,
         "user_agent": "Mozilla/5.0 (Windows NT 6.1| WOW64) AppleWebKit/537.36 (KHTML, like Gecko) Chrome/56.0.2924.87 Safa…",
         "_deepnote_index_column": 32
        },
        {
         "customer_id": "260410",
         "order_date": "28/08/2016",
         "order_id": "HTS-260410-0001",
         "pages_visited": 10,
         "tshirt_category": "Black T-Shirt F",
         "tshirt_price": "17,5",
         "tshirt_quantity": 1,
         "user_agent": "Mozilla/5.0 (Windows NT 6.1| WOW64) AppleWebKit/537.36 (KHTML, like Gecko) Chrome/56.0.2924.87 Safa…",
         "_deepnote_index_column": 33
        },
        {
         "customer_id": "1whx2d",
         "order_date": "05/08/2016",
         "order_id": "HTS-1whx2d-0002",
         "pages_visited": 10,
         "tshirt_category": "Black T-Shirt F",
         "tshirt_price": "17,5",
         "tshirt_quantity": 1,
         "user_agent": "Mozilla/5.0 (Windows NT 6.1| WOW64) AppleWebKit/537.36 (KHTML, like Gecko) Chrome/56.0.2924.87 Safa…",
         "_deepnote_index_column": 34
        },
        {
         "customer_id": "72730",
         "order_date": "08/08/2015",
         "order_id": "HTS-072730-0003",
         "pages_visited": 10,
         "tshirt_category": "Black T-Shirt F",
         "tshirt_price": "17,5",
         "tshirt_quantity": 5,
         "user_agent": "Mozilla/5.0 (Windows NT 6.1| WOW64) AppleWebKit/537.36 (KHTML, like Gecko) Chrome/56.0.2924.87 Safa…",
         "_deepnote_index_column": 35
        },
        {
         "customer_id": "738521",
         "order_date": "10/11/2016",
         "order_id": "HTS-738521-0002",
         "pages_visited": 11,
         "tshirt_category": "Black T-Shirt F",
         "tshirt_price": "17,5",
         "tshirt_quantity": 2,
         "user_agent": "Mozilla/5.0 (Windows NT 6.1| WOW64) AppleWebKit/537.36 (KHTML, like Gecko) Chrome/56.0.2924.87 Safa…",
         "_deepnote_index_column": 36
        },
        {
         "customer_id": "986365",
         "order_date": "28/10/2015",
         "order_id": "HTS-986365-0001",
         "pages_visited": 12,
         "tshirt_category": "Black T-Shirt F",
         "tshirt_price": "17,5",
         "tshirt_quantity": 1,
         "user_agent": "Mozilla/5.0 (Windows NT 6.1| WOW64) AppleWebKit/537.36 (KHTML, like Gecko) Chrome/56.0.2924.87 Safa…",
         "_deepnote_index_column": 37
        },
        {
         "customer_id": "mpu6f5",
         "order_date": "16/10/2015",
         "order_id": "HTS-mpu6f5-0001",
         "pages_visited": 13,
         "tshirt_category": "Black T-Shirt F",
         "tshirt_price": "17,5",
         "tshirt_quantity": 4,
         "user_agent": "Mozilla/5.0 (Windows NT 6.1| WOW64) AppleWebKit/537.36 (KHTML, like Gecko) Chrome/56.0.2924.87 Safa…",
         "_deepnote_index_column": 38
        },
        {
         "customer_id": "lf592o",
         "order_date": "01/10/2015",
         "order_id": "HTS-lf592o-0001",
         "pages_visited": 13,
         "tshirt_category": "Black T-Shirt F",
         "tshirt_price": "17,5",
         "tshirt_quantity": 7,
         "user_agent": "Mozilla/5.0 (Windows NT 6.1| WOW64) AppleWebKit/537.36 (KHTML, like Gecko) Chrome/56.0.2924.87 Safa…",
         "_deepnote_index_column": 39
        },
        {
         "customer_id": "489641",
         "order_date": "12/06/2016",
         "order_id": "HTS-489641-0003",
         "pages_visited": 14,
         "tshirt_category": "Black T-Shirt F",
         "tshirt_price": "17,5",
         "tshirt_quantity": 2,
         "user_agent": "Mozilla/5.0 (Windows NT 6.1| WOW64) AppleWebKit/537.36 (KHTML, like Gecko) Chrome/56.0.2924.87 Safa…",
         "_deepnote_index_column": 40
        },
        {
         "customer_id": "90x4tg",
         "order_date": "18/01/2016",
         "order_id": "HTS-90x4tg-0001",
         "pages_visited": 15,
         "tshirt_category": "Black T-Shirt F",
         "tshirt_price": "17,5",
         "tshirt_quantity": 1,
         "user_agent": "Mozilla/5.0 (Windows NT 6.1| WOW64) AppleWebKit/537.36 (KHTML, like Gecko) Chrome/56.0.2924.87 Safa…",
         "_deepnote_index_column": 41
        },
        {
         "customer_id": "72730",
         "order_date": "26/09/2014",
         "order_id": "HTS-072730-0002",
         "pages_visited": 18,
         "tshirt_category": "Black T-Shirt F",
         "tshirt_price": "17,5",
         "tshirt_quantity": 1,
         "user_agent": "Mozilla/5.0 (Windows NT 6.1| WOW64) AppleWebKit/537.36 (KHTML, like Gecko) Chrome/56.0.2924.87 Safa…",
         "_deepnote_index_column": 42
        },
        {
         "customer_id": "786851",
         "order_date": "22/05/2014",
         "order_id": "HTS-786851-0001",
         "pages_visited": 19,
         "tshirt_category": "Black T-Shirt F",
         "tshirt_price": "17,5",
         "tshirt_quantity": 1,
         "user_agent": "Mozilla/5.0 (Windows NT 6.1| WOW64) AppleWebKit/537.36 (KHTML, like Gecko) Chrome/56.0.2924.87 Safa…",
         "_deepnote_index_column": 43
        },
        {
         "customer_id": "999122",
         "order_date": "03/02/2017",
         "order_id": "HTS-999122-0009",
         "pages_visited": 2,
         "tshirt_category": "Black T-Shirt F",
         "tshirt_price": "17,5",
         "tshirt_quantity": 4,
         "user_agent": "Mozilla/5.0 (Windows NT 6.1| WOW64| Trident/7.0| rv:11.0) like Gecko",
         "_deepnote_index_column": 44
        },
        {
         "customer_id": "999122",
         "order_date": "25/08/2016",
         "order_id": "HTS-999122-0008",
         "pages_visited": 3,
         "tshirt_category": "Black T-Shirt F",
         "tshirt_price": "17,5",
         "tshirt_quantity": 5,
         "user_agent": "Mozilla/5.0 (Windows NT 6.1| WOW64| Trident/7.0| rv:11.0) like Gecko",
         "_deepnote_index_column": 45
        },
        {
         "customer_id": "542499",
         "order_date": "13/04/2017",
         "order_id": "HTS-542499-0005",
         "pages_visited": 7,
         "tshirt_category": "Black T-Shirt F",
         "tshirt_price": "17,5",
         "tshirt_quantity": 1,
         "user_agent": "Mozilla/5.0 (Windows NT 6.1| WOW64| Trident/7.0| rv:11.0) like Gecko",
         "_deepnote_index_column": 46
        },
        {
         "customer_id": "373947",
         "order_date": "14/02/2017",
         "order_id": "HTS-373947-0004",
         "pages_visited": 8,
         "tshirt_category": "Black T-Shirt F",
         "tshirt_price": "17,5",
         "tshirt_quantity": 2,
         "user_agent": "Mozilla/5.0 (Windows NT 6.1| WOW64| Trident/7.0| rv:11.0) like Gecko",
         "_deepnote_index_column": 47
        },
        {
         "customer_id": "542499",
         "order_date": "11/02/2015",
         "order_id": "HTS-542499-0002",
         "pages_visited": 10,
         "tshirt_category": "Black T-Shirt F",
         "tshirt_price": "17,5",
         "tshirt_quantity": 2,
         "user_agent": "Mozilla/5.0 (Windows NT 6.1| WOW64| Trident/7.0| rv:11.0) like Gecko",
         "_deepnote_index_column": 48
        },
        {
         "customer_id": "161996",
         "order_date": "05/04/2017",
         "order_id": "HTS-161996-0005",
         "pages_visited": 7,
         "tshirt_category": "Black T-Shirt F",
         "tshirt_price": "17,5",
         "tshirt_quantity": 2,
         "user_agent": "Mozilla/5.0 (Windows NT 6.1| WOW64| rv:51.0) Gecko/20100101 Firefox/51.0",
         "_deepnote_index_column": 49
        },
        {
         "customer_id": "161996",
         "order_date": "01/02/2016",
         "order_id": "HTS-161996-0003",
         "pages_visited": 7,
         "tshirt_category": "Black T-Shirt F",
         "tshirt_price": "17,5",
         "tshirt_quantity": 3,
         "user_agent": "Mozilla/5.0 (Windows NT 6.1| WOW64| rv:51.0) Gecko/20100101 Firefox/51.0",
         "_deepnote_index_column": 50
        },
        {
         "customer_id": "730057",
         "order_date": "23/03/2017",
         "order_id": "HTS-730057-0008",
         "pages_visited": 8,
         "tshirt_category": "Black T-Shirt F",
         "tshirt_price": "17,5",
         "tshirt_quantity": 3,
         "user_agent": "Mozilla/5.0 (Windows NT 6.1| WOW64| rv:51.0) Gecko/20100101 Firefox/51.0",
         "_deepnote_index_column": 51
        },
        {
         "customer_id": "161996",
         "order_date": "05/06/2015",
         "order_id": "HTS-161996-0002",
         "pages_visited": 8,
         "tshirt_category": "Black T-Shirt F",
         "tshirt_price": "17,5",
         "tshirt_quantity": 3,
         "user_agent": "Mozilla/5.0 (Windows NT 6.1| WOW64| rv:51.0) Gecko/20100101 Firefox/51.0",
         "_deepnote_index_column": 52
        },
        {
         "customer_id": "730057",
         "order_date": "31/07/2015",
         "order_id": "HTS-730057-0004",
         "pages_visited": 9,
         "tshirt_category": "Black T-Shirt F",
         "tshirt_price": "17,5",
         "tshirt_quantity": 4,
         "user_agent": "Mozilla/5.0 (Windows NT 6.1| WOW64| rv:51.0) Gecko/20100101 Firefox/51.0",
         "_deepnote_index_column": 53
        },
        {
         "customer_id": "730057",
         "order_date": "14/05/2016",
         "order_id": "HTS-730057-0006",
         "pages_visited": 11,
         "tshirt_category": "Black T-Shirt F",
         "tshirt_price": "17,5",
         "tshirt_quantity": 7,
         "user_agent": "Mozilla/5.0 (Windows NT 6.1| WOW64| rv:51.0) Gecko/20100101 Firefox/51.0",
         "_deepnote_index_column": 54
        },
        {
         "customer_id": "161996",
         "order_date": "13/09/2016",
         "order_id": "HTS-161996-0004",
         "pages_visited": 13,
         "tshirt_category": "Black T-Shirt F",
         "tshirt_price": "17,5",
         "tshirt_quantity": 6,
         "user_agent": "Mozilla/5.0 (Windows NT 6.1| WOW64| rv:51.0) Gecko/20100101 Firefox/51.0",
         "_deepnote_index_column": 55
        },
        {
         "customer_id": "745166",
         "order_date": "28/09/2015",
         "order_id": "HTS-745166-0006",
         "pages_visited": 6,
         "tshirt_category": "Black T-Shirt F",
         "tshirt_price": "17,5",
         "tshirt_quantity": 6,
         "user_agent": "Mozilla/5.0 (Windows NT 6.1| WOW64| rv:52.0) Gecko/20100101 Firefox/52.0",
         "_deepnote_index_column": 56
        },
        {
         "customer_id": "42303",
         "order_date": "11/08/2014",
         "order_id": "HTS-042303-0001",
         "pages_visited": 11,
         "tshirt_category": "Black T-Shirt F",
         "tshirt_price": "17,5",
         "tshirt_quantity": 2,
         "user_agent": "Mozilla/5.0 (Windows NT 6.1| WOW64| rv:52.0) Gecko/20100101 Firefox/52.0",
         "_deepnote_index_column": 57
        },
        {
         "customer_id": "745166",
         "order_date": "13/11/2014",
         "order_id": "HTS-745166-0004",
         "pages_visited": 11,
         "tshirt_category": "Black T-Shirt F",
         "tshirt_price": "17,5",
         "tshirt_quantity": 2,
         "user_agent": "Mozilla/5.0 (Windows NT 6.1| WOW64| rv:52.0) Gecko/20100101 Firefox/52.0",
         "_deepnote_index_column": 58
        },
        {
         "customer_id": "278721",
         "order_date": "03/09/2015",
         "order_id": "HTS-278721-0002",
         "pages_visited": 7,
         "tshirt_category": "Black T-Shirt F",
         "tshirt_price": "17,5",
         "tshirt_quantity": 1,
         "user_agent": "Mozilla/5.0 (Windows NT 6.1| Win64| x64) AppleWebKit/537.36 (KHTML, like Gecko) Chrome/56.0.2924.87…",
         "_deepnote_index_column": 59
        },
        {
         "customer_id": "1yi44w",
         "order_date": "26/11/2015",
         "order_id": "HTS-1yi44w-0001",
         "pages_visited": 11,
         "tshirt_category": "Black T-Shirt F",
         "tshirt_price": "17,5",
         "tshirt_quantity": 2,
         "user_agent": "Mozilla/5.0 (Windows NT 6.1| Win64| x64) AppleWebKit/537.36 (KHTML, like Gecko) Chrome/56.0.2924.87…",
         "_deepnote_index_column": 60
        },
        {
         "customer_id": "9m6hav",
         "order_date": "13/02/2016",
         "order_id": "HTS-9m6hav-0002",
         "pages_visited": 11,
         "tshirt_category": "Black T-Shirt F",
         "tshirt_price": "17,5",
         "tshirt_quantity": 12,
         "user_agent": "Mozilla/5.0 (Windows NT 6.1| Win64| x64) AppleWebKit/537.36 (KHTML, like Gecko) Chrome/56.0.2924.87…",
         "_deepnote_index_column": 61
        }
       ],
       "rows_bottom": [
        {
         "customer_id": "743253",
         "order_date": "13/12/2016",
         "order_id": "HTS-743253-0004",
         "pages_visited": 13,
         "tshirt_category": "Tennis Shirt",
         "tshirt_price": "24",
         "tshirt_quantity": 2,
         "user_agent": "Mozilla/5.0 (Windows NT 10.0| WOW64| rv:51.0) Gecko/20100101 Firefox/51.0",
         "_deepnote_index_column": 4935
        },
        {
         "customer_id": "513904",
         "order_date": "19/12/2013",
         "order_id": "HTS-513904-0001",
         "pages_visited": 18,
         "tshirt_category": "Tennis Shirt",
         "tshirt_price": "24",
         "tshirt_quantity": 2,
         "user_agent": "Mozilla/5.0 (Windows NT 10.0| WOW64| rv:51.0) Gecko/20100101 Firefox/51.0",
         "_deepnote_index_column": 4936
        },
        {
         "customer_id": "0h5x2k",
         "order_date": "10/06/2016",
         "order_id": "HTS-0h5x2k-0001",
         "pages_visited": 9,
         "tshirt_category": "Tennis Shirt",
         "tshirt_price": "24",
         "tshirt_quantity": 3,
         "user_agent": "Mozilla/5.0 (Windows NT 10.0| WOW64| rv:52.0) Gecko/20100101 Firefox/52.0",
         "_deepnote_index_column": 4937
        },
        {
         "customer_id": "682841",
         "order_date": "17/12/2015",
         "order_id": "HTS-682841-0002",
         "pages_visited": 12,
         "tshirt_category": "Tennis Shirt",
         "tshirt_price": "24",
         "tshirt_quantity": 11,
         "user_agent": "Mozilla/5.0 (Windows NT 10.0| Win64| x64) AppleWebKit/537.36 (KHTML, like Gecko) Chrome/51.0.2704.7…",
         "_deepnote_index_column": 4938
        },
        {
         "customer_id": "139078",
         "order_date": "12/05/2016",
         "order_id": "HTS-139078-0001",
         "pages_visited": 6,
         "tshirt_category": "Tennis Shirt",
         "tshirt_price": "24",
         "tshirt_quantity": 1,
         "user_agent": "Mozilla/5.0 (Windows NT 10.0| Win64| x64) AppleWebKit/537.36 (KHTML, like Gecko) Chrome/56.0.2924.8…",
         "_deepnote_index_column": 4939
        },
        {
         "customer_id": "331918",
         "order_date": "10/02/2016",
         "order_id": "HTS-331918-0004",
         "pages_visited": 6,
         "tshirt_category": "Tennis Shirt",
         "tshirt_price": "24",
         "tshirt_quantity": 1,
         "user_agent": "Mozilla/5.0 (Windows NT 10.0| Win64| x64) AppleWebKit/537.36 (KHTML, like Gecko) Chrome/56.0.2924.8…",
         "_deepnote_index_column": 4940
        },
        {
         "customer_id": "52085",
         "order_date": "16/10/2016",
         "order_id": "HTS-052085-0003",
         "pages_visited": 7,
         "tshirt_category": "Tennis Shirt",
         "tshirt_price": "24",
         "tshirt_quantity": 1,
         "user_agent": "Mozilla/5.0 (Windows NT 10.0| Win64| x64) AppleWebKit/537.36 (KHTML, like Gecko) Chrome/56.0.2924.8…",
         "_deepnote_index_column": 4941
        },
        {
         "customer_id": "556419",
         "order_date": "07/12/2013",
         "order_id": "HTS-556419-0001",
         "pages_visited": 8,
         "tshirt_category": "Tennis Shirt",
         "tshirt_price": "24",
         "tshirt_quantity": 1,
         "user_agent": "Mozilla/5.0 (Windows NT 10.0| Win64| x64) AppleWebKit/537.36 (KHTML, like Gecko) Chrome/56.0.2924.8…",
         "_deepnote_index_column": 4942
        },
        {
         "customer_id": "998090",
         "order_date": "02/12/2015",
         "order_id": "HTS-998090-0001",
         "pages_visited": 9,
         "tshirt_category": "Tennis Shirt",
         "tshirt_price": "24",
         "tshirt_quantity": 2,
         "user_agent": "Mozilla/5.0 (Windows NT 10.0| Win64| x64) AppleWebKit/537.36 (KHTML, like Gecko) Chrome/56.0.2924.8…",
         "_deepnote_index_column": 4943
        },
        {
         "customer_id": "855978",
         "order_date": "16/07/2014",
         "order_id": "HTS-855978-0001",
         "pages_visited": 11,
         "tshirt_category": "Tennis Shirt",
         "tshirt_price": "24",
         "tshirt_quantity": 1,
         "user_agent": "Mozilla/5.0 (Windows NT 10.0| Win64| x64) AppleWebKit/537.36 (KHTML, like Gecko) Chrome/56.0.2924.8…",
         "_deepnote_index_column": 4944
        },
        {
         "customer_id": "32787",
         "order_date": "28/12/2014",
         "order_id": "HTS-032787-0002",
         "pages_visited": 12,
         "tshirt_category": "Tennis Shirt",
         "tshirt_price": "24",
         "tshirt_quantity": 1,
         "user_agent": "Mozilla/5.0 (Windows NT 10.0| Win64| x64) AppleWebKit/537.36 (KHTML, like Gecko) Chrome/56.0.2924.8…",
         "_deepnote_index_column": 4945
        },
        {
         "customer_id": "620902",
         "order_date": "25/07/2015",
         "order_id": "HTS-620902-0002",
         "pages_visited": 12,
         "tshirt_category": "Tennis Shirt",
         "tshirt_price": "24",
         "tshirt_quantity": 17,
         "user_agent": "Mozilla/5.0 (Windows NT 10.0| Win64| x64) AppleWebKit/537.36 (KHTML, like Gecko) Chrome/56.0.2924.8…",
         "_deepnote_index_column": 4946
        },
        {
         "customer_id": "460926",
         "order_date": "11/01/2014",
         "order_id": "HTS-460926-0001",
         "pages_visited": 13,
         "tshirt_category": "Tennis Shirt",
         "tshirt_price": "24",
         "tshirt_quantity": 1,
         "user_agent": "Mozilla/5.0 (Windows NT 10.0| Win64| x64) AppleWebKit/537.36 (KHTML, like Gecko) Chrome/56.0.2924.8…",
         "_deepnote_index_column": 4947
        },
        {
         "customer_id": "508592",
         "order_date": "21/11/2013",
         "order_id": "HTS-508592-0001",
         "pages_visited": 13,
         "tshirt_category": "Tennis Shirt",
         "tshirt_price": "24",
         "tshirt_quantity": 1,
         "user_agent": "Mozilla/5.0 (Windows NT 6.1) AppleWebKit/537.36 (KHTML, like Gecko) Chrome/56.0.2924.87 Safari/537.…",
         "_deepnote_index_column": 4948
        },
        {
         "customer_id": "546692",
         "order_date": "14/01/2017",
         "order_id": "HTS-546692-0002",
         "pages_visited": 8,
         "tshirt_category": "Tennis Shirt",
         "tshirt_price": "24",
         "tshirt_quantity": 1,
         "user_agent": "Mozilla/5.0 (Windows NT 6.1| WOW64) AppleWebKit/537.36 (KHTML, like Gecko) Chrome/56.0.2924.87 Safa…",
         "_deepnote_index_column": 4949
        },
        {
         "customer_id": "qttewa",
         "order_date": "02/09/2016",
         "order_id": "HTS-qttewa-0002",
         "pages_visited": 11,
         "tshirt_category": "Tennis Shirt",
         "tshirt_price": "24",
         "tshirt_quantity": 1,
         "user_agent": "Mozilla/5.0 (Windows NT 6.1| WOW64) AppleWebKit/537.36 (KHTML, like Gecko) Chrome/56.0.2924.87 Safa…",
         "_deepnote_index_column": 4950
        },
        {
         "customer_id": "968253",
         "order_date": "19/11/2013",
         "order_id": "HTS-968253-0001",
         "pages_visited": 11,
         "tshirt_category": "Tennis Shirt",
         "tshirt_price": "24",
         "tshirt_quantity": 4,
         "user_agent": "Mozilla/5.0 (Windows NT 6.1| WOW64) AppleWebKit/537.36 (KHTML, like Gecko) Chrome/56.0.2924.87 Safa…",
         "_deepnote_index_column": 4951
        },
        {
         "customer_id": "819624",
         "order_date": "18/08/2014",
         "order_id": "HTS-819624-0001",
         "pages_visited": 20,
         "tshirt_category": "Tennis Shirt",
         "tshirt_price": "24",
         "tshirt_quantity": 1,
         "user_agent": "Mozilla/5.0 (Windows NT 6.1| WOW64) AppleWebKit/537.36 (KHTML, like Gecko) Chrome/56.0.2924.87 Safa…",
         "_deepnote_index_column": 4952
        },
        {
         "customer_id": "992060",
         "order_date": "09/12/2013",
         "order_id": "HTS-992060-0001",
         "pages_visited": 8,
         "tshirt_category": "Tennis Shirt",
         "tshirt_price": "24",
         "tshirt_quantity": 1,
         "user_agent": "Mozilla/5.0 (Windows NT 6.1| WOW64| Trident/7.0| rv:11.0) like Gecko",
         "_deepnote_index_column": 4953
        },
        {
         "customer_id": "269796",
         "order_date": "14/09/2015",
         "order_id": "HTS-269796-0001",
         "pages_visited": 13,
         "tshirt_category": "Tennis Shirt",
         "tshirt_price": "24",
         "tshirt_quantity": 1,
         "user_agent": "Mozilla/5.0 (Windows NT 6.1| WOW64| Trident/7.0| rv:11.0) like Gecko",
         "_deepnote_index_column": 4954
        },
        {
         "customer_id": "5knivh",
         "order_date": "28/11/2016",
         "order_id": "HTS-5knivh-0001",
         "pages_visited": 10,
         "tshirt_category": "Tennis Shirt",
         "tshirt_price": "24",
         "tshirt_quantity": 1,
         "user_agent": "Mozilla/5.0 (Windows NT 6.1| WOW64| rv:51.0) Gecko/20100101 Firefox/51.0",
         "_deepnote_index_column": 4955
        },
        {
         "customer_id": "255213",
         "order_date": "07/02/2016",
         "order_id": "HTS-255213-0006",
         "pages_visited": 11,
         "tshirt_category": "Tennis Shirt",
         "tshirt_price": "24",
         "tshirt_quantity": 11,
         "user_agent": "Mozilla/5.0 (Windows NT 6.1| WOW64| rv:51.0) Gecko/20100101 Firefox/51.0",
         "_deepnote_index_column": 4956
        },
        {
         "customer_id": "812685",
         "order_date": "25/07/2016",
         "order_id": "HTS-812685-0002",
         "pages_visited": 15,
         "tshirt_category": "Tennis Shirt",
         "tshirt_price": "24",
         "tshirt_quantity": 1,
         "user_agent": "Mozilla/5.0 (Windows NT 6.1| WOW64| rv:51.0) Gecko/20100101 Firefox/51.0",
         "_deepnote_index_column": 4957
        },
        {
         "customer_id": "yabsa5",
         "order_date": "30/10/2016",
         "order_id": "HTS-yabsa5-0003",
         "pages_visited": 9,
         "tshirt_category": "Tennis Shirt",
         "tshirt_price": "24",
         "tshirt_quantity": 1,
         "user_agent": "Mozilla/5.0 (Windows NT 6.1| WOW64| rv:52.0) Gecko/20100101 Firefox/52.0",
         "_deepnote_index_column": 4958
        },
        {
         "customer_id": "yabsa5",
         "order_date": "12/08/2015",
         "order_id": "HTS-yabsa5-0001",
         "pages_visited": 11,
         "tshirt_category": "Tennis Shirt",
         "tshirt_price": "24",
         "tshirt_quantity": 1,
         "user_agent": "Mozilla/5.0 (Windows NT 6.1| WOW64| rv:52.0) Gecko/20100101 Firefox/52.0",
         "_deepnote_index_column": 4959
        },
        {
         "customer_id": "443583",
         "order_date": "13/08/2015",
         "order_id": "HTS-443583-0001",
         "pages_visited": 8,
         "tshirt_category": "Tennis Shirt",
         "tshirt_price": "24",
         "tshirt_quantity": 1,
         "user_agent": "Mozilla/5.0 (Windows NT 6.1| Win64| x64) AppleWebKit/537.36 (KHTML, like Gecko) Chrome/56.0.2924.87…",
         "_deepnote_index_column": 4960
        },
        {
         "customer_id": "87034",
         "order_date": "12/10/2016",
         "order_id": "HTS-087034-0005",
         "pages_visited": 6,
         "tshirt_category": "Tennis Shirt",
         "tshirt_price": "24",
         "tshirt_quantity": 4,
         "user_agent": "Mozilla/5.0 (Windows NT 6.3| WOW64) AppleWebKit/537.36 (KHTML, like Gecko) Chrome/56.0.2924.87 Safa…",
         "_deepnote_index_column": 4961
        },
        {
         "customer_id": "87034",
         "order_date": "10/01/2016",
         "order_id": "HTS-087034-0004",
         "pages_visited": 11,
         "tshirt_category": "Tennis Shirt",
         "tshirt_price": "24",
         "tshirt_quantity": 1,
         "user_agent": "Mozilla/5.0 (Windows NT 6.3| WOW64) AppleWebKit/537.36 (KHTML, like Gecko) Chrome/56.0.2924.87 Safa…",
         "_deepnote_index_column": 4962
        },
        {
         "customer_id": "4ogh6g",
         "order_date": "06/11/2015",
         "order_id": "HTS-4ogh6g-0001",
         "pages_visited": 13,
         "tshirt_category": "Tennis Shirt",
         "tshirt_price": "24",
         "tshirt_quantity": 1,
         "user_agent": "Mozilla/5.0 (Windows NT 6.3| WOW64) AppleWebKit/537.36 (KHTML, like Gecko) Chrome/56.0.2924.87 Safa…",
         "_deepnote_index_column": 4963
        },
        {
         "customer_id": "143654",
         "order_date": "07/09/2013",
         "order_id": "HTS-143654-0001",
         "pages_visited": 13,
         "tshirt_category": "Tennis Shirt",
         "tshirt_price": "24",
         "tshirt_quantity": 1,
         "user_agent": "Mozilla/5.0 (Windows NT 6.3| WOW64) AppleWebKit/537.36 (KHTML, like Gecko) Chrome/56.0.2924.87 Safa…",
         "_deepnote_index_column": 4964
        },
        {
         "customer_id": "dzes2s",
         "order_date": "25/01/2016",
         "order_id": "HTS-dzes2s-0001",
         "pages_visited": 9,
         "tshirt_category": "Tennis Shirt",
         "tshirt_price": "24",
         "tshirt_quantity": 1,
         "user_agent": "Mozilla/5.0 (X11| Linux x86_64) AppleWebKit/537.36 (KHTML, like Gecko) Chrome/56.0.2924.87 Safari/5…",
         "_deepnote_index_column": 4965
        },
        {
         "customer_id": "443970",
         "order_date": "17/06/2016",
         "order_id": "HTS-443970-0005",
         "pages_visited": 12,
         "tshirt_category": "Tennis Shirt",
         "tshirt_price": "24",
         "tshirt_quantity": 16,
         "user_agent": "Mozilla/5.0 (X11| Ubuntu| Linux x86_64| rv:51.0) Gecko/20100101 Firefox/51.0",
         "_deepnote_index_column": 4966
        },
        {
         "customer_id": "pivgdh",
         "order_date": "10/03/2017",
         "order_id": "HTS-pivgdh-0002",
         "pages_visited": 8,
         "tshirt_category": "Tennis Shirt",
         "tshirt_price": "24",
         "tshirt_quantity": 1,
         "user_agent": "Mozilla/5.0 (Macintosh| Intel Mac OS X 10.12| rv:51.0) Gecko/20100101 Firefox/51.0",
         "_deepnote_index_column": 4967
        },
        {
         "customer_id": "146923",
         "order_date": "07/03/2014",
         "order_id": "HTS-146923-0001",
         "pages_visited": 10,
         "tshirt_category": "Tennis Shirt",
         "tshirt_price": "24",
         "tshirt_quantity": 1,
         "user_agent": "Mozilla/5.0 (Macintosh| Intel Mac OS X 10.12| rv:51.0) Gecko/20100101 Firefox/51.0",
         "_deepnote_index_column": 4968
        },
        {
         "customer_id": "482681",
         "order_date": "16/04/2016",
         "order_id": "HTS-482681-0002",
         "pages_visited": 8,
         "tshirt_category": "Tennis Shirt",
         "tshirt_price": "24",
         "tshirt_quantity": 1,
         "user_agent": "Mozilla/5.0 (Macintosh| Intel Mac OS X 10_10_5) AppleWebKit/537.36 (KHTML, like Gecko) Chrome/56.0.…",
         "_deepnote_index_column": 4969
        },
        {
         "customer_id": "7dczpo",
         "order_date": "27/09/2016",
         "order_id": "HTS-7dczpo-0002",
         "pages_visited": 6,
         "tshirt_category": "Tennis Shirt",
         "tshirt_price": "24",
         "tshirt_quantity": 1,
         "user_agent": "Mozilla/5.0 (Macintosh| Intel Mac OS X 10_11_6) AppleWebKit/537.36 (KHTML, like Gecko) Chrome/56.0.…",
         "_deepnote_index_column": 4970
        },
        {
         "customer_id": "359004",
         "order_date": "13/08/2016",
         "order_id": "HTS-359004-0003",
         "pages_visited": 8,
         "tshirt_category": "Tennis Shirt",
         "tshirt_price": "24",
         "tshirt_quantity": 2,
         "user_agent": "Mozilla/5.0 (Macintosh| Intel Mac OS X 10_11_6) AppleWebKit/537.36 (KHTML, like Gecko) Chrome/56.0.…",
         "_deepnote_index_column": 4971
        },
        {
         "customer_id": "20387",
         "order_date": "23/11/2013",
         "order_id": "HTS-020387-0001",
         "pages_visited": 15,
         "tshirt_category": "Tennis Shirt",
         "tshirt_price": "24",
         "tshirt_quantity": 2,
         "user_agent": "Mozilla/5.0 (Macintosh| Intel Mac OS X 10_11_6) AppleWebKit/537.36 (KHTML, like Gecko) Chrome/56.0.…",
         "_deepnote_index_column": 4972
        },
        {
         "customer_id": "210090",
         "order_date": "22/05/2016",
         "order_id": "HTS-210090-0001",
         "pages_visited": 8,
         "tshirt_category": "Tennis Shirt",
         "tshirt_price": "24",
         "tshirt_quantity": 1,
         "user_agent": "Mozilla/5.0 (Macintosh| Intel Mac OS X 10_12_3) AppleWebKit/537.36 (KHTML, like Gecko) Chrome/56.0.…",
         "_deepnote_index_column": 4973
        },
        {
         "customer_id": "dgmqh2",
         "order_date": "20/09/2015",
         "order_id": "HTS-dgmqh2-0001",
         "pages_visited": 10,
         "tshirt_category": "Tennis Shirt",
         "tshirt_price": "24",
         "tshirt_quantity": 1,
         "user_agent": "Mozilla/5.0 (Macintosh| Intel Mac OS X 10_12_3) AppleWebKit/537.36 (KHTML, like Gecko) Chrome/56.0.…",
         "_deepnote_index_column": 4974
        },
        {
         "customer_id": "dgmqh2",
         "order_date": "19/05/2016",
         "order_id": "HTS-dgmqh2-0002",
         "pages_visited": 12,
         "tshirt_category": "Tennis Shirt",
         "tshirt_price": "24",
         "tshirt_quantity": 1,
         "user_agent": "Mozilla/5.0 (Macintosh| Intel Mac OS X 10_12_3) AppleWebKit/537.36 (KHTML, like Gecko) Chrome/56.0.…",
         "_deepnote_index_column": 4975
        },
        {
         "customer_id": "23864",
         "order_date": "11/11/2014",
         "order_id": "HTS-023864-0001",
         "pages_visited": 12,
         "tshirt_category": "Tennis Shirt",
         "tshirt_price": "24",
         "tshirt_quantity": 1,
         "user_agent": "Mozilla/5.0 (Macintosh| Intel Mac OS X 10_12_3) AppleWebKit/537.36 (KHTML, like Gecko) Chrome/56.0.…",
         "_deepnote_index_column": 4976
        },
        {
         "customer_id": "284178",
         "order_date": "07/05/2015",
         "order_id": "HTS-284178-0001",
         "pages_visited": 13,
         "tshirt_category": "Tennis Shirt",
         "tshirt_price": "24",
         "tshirt_quantity": 1,
         "user_agent": "Mozilla/5.0 (Macintosh| Intel Mac OS X 10_12_3) AppleWebKit/537.36 (KHTML, like Gecko) Chrome/56.0.…",
         "_deepnote_index_column": 4977
        },
        {
         "customer_id": "8z7b4v",
         "order_date": "25/09/2015",
         "order_id": "HTS-8z7b4v-0001",
         "pages_visited": 13,
         "tshirt_category": "Tennis Shirt",
         "tshirt_price": "24",
         "tshirt_quantity": 1,
         "user_agent": "Mozilla/5.0 (Macintosh| Intel Mac OS X 10_12_3) AppleWebKit/537.36 (KHTML, like Gecko) Chrome/56.0.…",
         "_deepnote_index_column": 4978
        },
        {
         "customer_id": "404455",
         "order_date": "23/11/2014",
         "order_id": "HTS-404455-0001",
         "pages_visited": 14,
         "tshirt_category": "Tennis Shirt",
         "tshirt_price": "24",
         "tshirt_quantity": 4,
         "user_agent": "Mozilla/5.0 (Macintosh| Intel Mac OS X 10_12_3) AppleWebKit/537.36 (KHTML, like Gecko) Chrome/56.0.…",
         "_deepnote_index_column": 4979
        },
        {
         "customer_id": "jslnyo",
         "order_date": "25/10/2015",
         "order_id": "HTS-jslnyo-0001",
         "pages_visited": 19,
         "tshirt_category": "Tennis Shirt",
         "tshirt_price": "24",
         "tshirt_quantity": 1,
         "user_agent": "Mozilla/5.0 (Macintosh| Intel Mac OS X 10_12_3) AppleWebKit/537.36 (KHTML, like Gecko) Chrome/56.0.…",
         "_deepnote_index_column": 4980
        },
        {
         "customer_id": "ymagqv",
         "order_date": "17/11/2015",
         "order_id": "HTS-ymagqv-0001",
         "pages_visited": 23,
         "tshirt_category": "Tennis Shirt",
         "tshirt_price": "24",
         "tshirt_quantity": 3,
         "user_agent": "Mozilla/5.0 (Macintosh| Intel Mac OS X 10_12_3) AppleWebKit/537.36 (KHTML, like Gecko) Chrome/56.0.…",
         "_deepnote_index_column": 4981
        },
        {
         "customer_id": "dy72oo",
         "order_date": "23/12/2016",
         "order_id": "HTS-dy72oo-0002",
         "pages_visited": 8,
         "tshirt_category": "Tennis Shirt",
         "tshirt_price": "24",
         "tshirt_quantity": 12,
         "user_agent": "Mozilla/5.0 (Macintosh| Intel Mac OS X 10_12_3) AppleWebKit/602.4.8 (KHTML, like Gecko) Version/10.…",
         "_deepnote_index_column": 4982
        },
        {
         "customer_id": "624598",
         "order_date": "29/09/2016",
         "order_id": "HTS-624598-0002",
         "pages_visited": 9,
         "tshirt_category": "Tennis Shirt",
         "tshirt_price": "24",
         "tshirt_quantity": 1,
         "user_agent": "Mozilla/5.0 (Macintosh| Intel Mac OS X 10_12_3) AppleWebKit/602.4.8 (KHTML, like Gecko) Version/10.…",
         "_deepnote_index_column": 4983
        },
        {
         "customer_id": "zr2c59",
         "order_date": "03/09/2015",
         "order_id": "HTS-zr2c59-0001",
         "pages_visited": 10,
         "tshirt_category": "Tennis Shirt",
         "tshirt_price": "24",
         "tshirt_quantity": 1,
         "user_agent": "Mozilla/5.0 (Macintosh| Intel Mac OS X 10_12_3) AppleWebKit/602.4.8 (KHTML, like Gecko) Version/10.…",
         "_deepnote_index_column": 4984
        },
        {
         "customer_id": "kw21u2",
         "order_date": "26/11/2015",
         "order_id": "HTS-kw21u2-0001",
         "pages_visited": 12,
         "tshirt_category": "Tennis Shirt",
         "tshirt_price": "24",
         "tshirt_quantity": 1,
         "user_agent": "Mozilla/5.0 (Macintosh| Intel Mac OS X 10_12_3) AppleWebKit/602.4.8 (KHTML, like Gecko) Version/10.…",
         "_deepnote_index_column": 4985
        },
        {
         "customer_id": "3696",
         "order_date": "21/11/2014",
         "order_id": "HTS-003696-0001",
         "pages_visited": 12,
         "tshirt_category": "Tennis Shirt",
         "tshirt_price": "24",
         "tshirt_quantity": 1,
         "user_agent": "Mozilla/5.0 (Macintosh| Intel Mac OS X 10_12_3) AppleWebKit/602.4.8 (KHTML, like Gecko) Version/10.…",
         "_deepnote_index_column": 4986
        },
        {
         "customer_id": "695667",
         "order_date": "04/02/2017",
         "order_id": "HTS-695667-0005",
         "pages_visited": 5,
         "tshirt_category": "Tennis Shirt",
         "tshirt_price": "24",
         "tshirt_quantity": 1,
         "user_agent": "Mozilla/5.0 (Windows NT 10.0| WOW64) AppleWebKit/537.36 (KHTML, like Gecko) Chrome/56.0.2924.87 Saf…",
         "_deepnote_index_column": 4987
        },
        {
         "customer_id": "495116",
         "order_date": "04/08/2016",
         "order_id": "HTS-495116-0002",
         "pages_visited": 7,
         "tshirt_category": "Tennis Shirt",
         "tshirt_price": "24",
         "tshirt_quantity": 1,
         "user_agent": "Mozilla/5.0 (Windows NT 10.0| WOW64) AppleWebKit/537.36 (KHTML, like Gecko) Chrome/56.0.2924.87 Saf…",
         "_deepnote_index_column": 4988
        },
        {
         "customer_id": "695667",
         "order_date": "28/03/2016",
         "order_id": "HTS-695667-0004",
         "pages_visited": 7,
         "tshirt_category": "Tennis Shirt",
         "tshirt_price": "24",
         "tshirt_quantity": 1,
         "user_agent": "Mozilla/5.0 (Windows NT 10.0| WOW64) AppleWebKit/537.36 (KHTML, like Gecko) Chrome/56.0.2924.87 Saf…",
         "_deepnote_index_column": 4989
        },
        {
         "customer_id": "878304",
         "order_date": "31/01/2014",
         "order_id": "HTS-878304-0001",
         "pages_visited": 12,
         "tshirt_category": "Tennis Shirt",
         "tshirt_price": "24",
         "tshirt_quantity": 1,
         "user_agent": "Mozilla/5.0 (Windows NT 10.0| WOW64) AppleWebKit/537.36 (KHTML, like Gecko) Chrome/56.0.2924.87 Saf…",
         "_deepnote_index_column": 4990
        },
        {
         "customer_id": "523966",
         "order_date": "22/09/2014",
         "order_id": "HTS-523966-0001",
         "pages_visited": 12,
         "tshirt_category": "Tennis Shirt",
         "tshirt_price": "24",
         "tshirt_quantity": 1,
         "user_agent": "Mozilla/5.0 (Windows NT 10.0| WOW64) AppleWebKit/537.36 (KHTML, like Gecko) Chrome/56.0.2924.87 Saf…",
         "_deepnote_index_column": 4991
        },
        {
         "customer_id": "695667",
         "order_date": "13/06/2015",
         "order_id": "HTS-695667-0003",
         "pages_visited": 12,
         "tshirt_category": "Tennis Shirt",
         "tshirt_price": "24",
         "tshirt_quantity": 2,
         "user_agent": "Mozilla/5.0 (Windows NT 10.0| WOW64) AppleWebKit/537.36 (KHTML, like Gecko) Chrome/56.0.2924.87 Saf…",
         "_deepnote_index_column": 4992
        },
        {
         "customer_id": "128623",
         "order_date": "09/08/2014",
         "order_id": "HTS-128623-0001",
         "pages_visited": 18,
         "tshirt_category": "Tennis Shirt",
         "tshirt_price": "24",
         "tshirt_quantity": 1,
         "user_agent": "Mozilla/5.0 (Windows NT 10.0| WOW64) AppleWebKit/537.36 (KHTML, like Gecko) Chrome/56.0.2924.87 Saf…",
         "_deepnote_index_column": 4993
        },
        {
         "customer_id": "426724",
         "order_date": "01/12/2013",
         "order_id": "HTS-426724-0001",
         "pages_visited": 6,
         "tshirt_category": "Tennis Shirt",
         "tshirt_price": "24",
         "tshirt_quantity": 22,
         "user_agent": "Mozilla/5.0 (Windows NT 10.0| WOW64| rv:51.0) Gecko/20100101 Firefox/51.0",
         "_deepnote_index_column": 4994
        },
        {
         "customer_id": "79trmb",
         "order_date": "23/07/2016",
         "order_id": "HTS-79trmb-0002",
         "pages_visited": 7,
         "tshirt_category": "Tennis Shirt",
         "tshirt_price": "24",
         "tshirt_quantity": 1,
         "user_agent": "Mozilla/5.0 (Windows NT 10.0| WOW64| rv:51.0) Gecko/20100101 Firefox/51.0",
         "_deepnote_index_column": 4995
        },
        {
         "customer_id": "518434",
         "order_date": "20/09/2016",
         "order_id": "HTS-518434-0004",
         "pages_visited": 8,
         "tshirt_category": "Tennis Shirt",
         "tshirt_price": "24",
         "tshirt_quantity": 1,
         "user_agent": "Mozilla/5.0 (Windows NT 10.0| WOW64| rv:51.0) Gecko/20100101 Firefox/51.0",
         "_deepnote_index_column": 4996
        },
        {
         "customer_id": "1lyrw9",
         "order_date": "09/08/2016",
         "order_id": "HTS-1lyrw9-0001",
         "pages_visited": 9,
         "tshirt_category": "Tennis Shirt",
         "tshirt_price": "24",
         "tshirt_quantity": 1,
         "user_agent": "Mozilla/5.0 (Windows NT 10.0| WOW64| rv:51.0) Gecko/20100101 Firefox/51.0",
         "_deepnote_index_column": 4997
        }
       ]
      },
      "text/plain": "     customer_id  order_date         order_id  pages_visited  tshirt_category  \\\n0         357500  26/02/2015  HTS-357500-0003             14  Black T-Shirt F   \n1         357500  26/05/2014  HTS-357500-0002             20  Black T-Shirt F   \n2         256541  15/11/2014  HTS-256541-0001              8  Black T-Shirt F   \n3         694300  20/03/2017  HTS-694300-0005              9  Black T-Shirt F   \n4         491681  16/02/2016  HTS-491681-0005              5  Black T-Shirt F   \n...          ...         ...              ...            ...              ...   \n4993      128623  09/08/2014  HTS-128623-0001             18     Tennis Shirt   \n4994      426724  01/12/2013  HTS-426724-0001              6     Tennis Shirt   \n4995      79trmb  23/07/2016  HTS-79trmb-0002              7     Tennis Shirt   \n4996      518434  20/09/2016  HTS-518434-0004              8     Tennis Shirt   \n4997      1lyrw9  09/08/2016  HTS-1lyrw9-0001              9     Tennis Shirt   \n\n     tshirt_price  tshirt_quantity  \\\n0            17,5               14   \n1            17,5               13   \n2            17,5                1   \n3            17,5                2   \n4            17,5                1   \n...           ...              ...   \n4993           24                1   \n4994           24               22   \n4995           24                1   \n4996           24                1   \n4997           24                1   \n\n                                             user_agent  \n0     Mozilla/5.0 (Windows NT 10.0| WOW64| rv:52.0) ...  \n1     Mozilla/5.0 (Windows NT 10.0| WOW64| rv:52.0) ...  \n2     Mozilla/5.0 (Windows NT 10.0| Win64| x64) Appl...  \n3     Mozilla/5.0 (Windows NT 10.0| Win64| x64) Appl...  \n4     Mozilla/5.0 (Windows NT 10.0| Win64| x64) Appl...  \n...                                                 ...  \n4993  Mozilla/5.0 (Windows NT 10.0| WOW64) AppleWebK...  \n4994  Mozilla/5.0 (Windows NT 10.0| WOW64| rv:51.0) ...  \n4995  Mozilla/5.0 (Windows NT 10.0| WOW64| rv:51.0) ...  \n4996  Mozilla/5.0 (Windows NT 10.0| WOW64| rv:51.0) ...  \n4997  Mozilla/5.0 (Windows NT 10.0| WOW64| rv:51.0) ...  \n\n[4998 rows x 8 columns]",
      "text/html": "<div>\n<style scoped>\n    .dataframe tbody tr th:only-of-type {\n        vertical-align: middle;\n    }\n\n    .dataframe tbody tr th {\n        vertical-align: top;\n    }\n\n    .dataframe thead th {\n        text-align: right;\n    }\n</style>\n<table border=\"1\" class=\"dataframe\">\n  <thead>\n    <tr style=\"text-align: right;\">\n      <th></th>\n      <th>customer_id</th>\n      <th>order_date</th>\n      <th>order_id</th>\n      <th>pages_visited</th>\n      <th>tshirt_category</th>\n      <th>tshirt_price</th>\n      <th>tshirt_quantity</th>\n      <th>user_agent</th>\n    </tr>\n  </thead>\n  <tbody>\n    <tr>\n      <th>0</th>\n      <td>357500</td>\n      <td>26/02/2015</td>\n      <td>HTS-357500-0003</td>\n      <td>14</td>\n      <td>Black T-Shirt F</td>\n      <td>17,5</td>\n      <td>14</td>\n      <td>Mozilla/5.0 (Windows NT 10.0| WOW64| rv:52.0) ...</td>\n    </tr>\n    <tr>\n      <th>1</th>\n      <td>357500</td>\n      <td>26/05/2014</td>\n      <td>HTS-357500-0002</td>\n      <td>20</td>\n      <td>Black T-Shirt F</td>\n      <td>17,5</td>\n      <td>13</td>\n      <td>Mozilla/5.0 (Windows NT 10.0| WOW64| rv:52.0) ...</td>\n    </tr>\n    <tr>\n      <th>2</th>\n      <td>256541</td>\n      <td>15/11/2014</td>\n      <td>HTS-256541-0001</td>\n      <td>8</td>\n      <td>Black T-Shirt F</td>\n      <td>17,5</td>\n      <td>1</td>\n      <td>Mozilla/5.0 (Windows NT 10.0| Win64| x64) Appl...</td>\n    </tr>\n    <tr>\n      <th>3</th>\n      <td>694300</td>\n      <td>20/03/2017</td>\n      <td>HTS-694300-0005</td>\n      <td>9</td>\n      <td>Black T-Shirt F</td>\n      <td>17,5</td>\n      <td>2</td>\n      <td>Mozilla/5.0 (Windows NT 10.0| Win64| x64) Appl...</td>\n    </tr>\n    <tr>\n      <th>4</th>\n      <td>491681</td>\n      <td>16/02/2016</td>\n      <td>HTS-491681-0005</td>\n      <td>5</td>\n      <td>Black T-Shirt F</td>\n      <td>17,5</td>\n      <td>1</td>\n      <td>Mozilla/5.0 (Windows NT 10.0| Win64| x64) Appl...</td>\n    </tr>\n    <tr>\n      <th>...</th>\n      <td>...</td>\n      <td>...</td>\n      <td>...</td>\n      <td>...</td>\n      <td>...</td>\n      <td>...</td>\n      <td>...</td>\n      <td>...</td>\n    </tr>\n    <tr>\n      <th>4993</th>\n      <td>128623</td>\n      <td>09/08/2014</td>\n      <td>HTS-128623-0001</td>\n      <td>18</td>\n      <td>Tennis Shirt</td>\n      <td>24</td>\n      <td>1</td>\n      <td>Mozilla/5.0 (Windows NT 10.0| WOW64) AppleWebK...</td>\n    </tr>\n    <tr>\n      <th>4994</th>\n      <td>426724</td>\n      <td>01/12/2013</td>\n      <td>HTS-426724-0001</td>\n      <td>6</td>\n      <td>Tennis Shirt</td>\n      <td>24</td>\n      <td>22</td>\n      <td>Mozilla/5.0 (Windows NT 10.0| WOW64| rv:51.0) ...</td>\n    </tr>\n    <tr>\n      <th>4995</th>\n      <td>79trmb</td>\n      <td>23/07/2016</td>\n      <td>HTS-79trmb-0002</td>\n      <td>7</td>\n      <td>Tennis Shirt</td>\n      <td>24</td>\n      <td>1</td>\n      <td>Mozilla/5.0 (Windows NT 10.0| WOW64| rv:51.0) ...</td>\n    </tr>\n    <tr>\n      <th>4996</th>\n      <td>518434</td>\n      <td>20/09/2016</td>\n      <td>HTS-518434-0004</td>\n      <td>8</td>\n      <td>Tennis Shirt</td>\n      <td>24</td>\n      <td>1</td>\n      <td>Mozilla/5.0 (Windows NT 10.0| WOW64| rv:51.0) ...</td>\n    </tr>\n    <tr>\n      <th>4997</th>\n      <td>1lyrw9</td>\n      <td>09/08/2016</td>\n      <td>HTS-1lyrw9-0001</td>\n      <td>9</td>\n      <td>Tennis Shirt</td>\n      <td>24</td>\n      <td>1</td>\n      <td>Mozilla/5.0 (Windows NT 10.0| WOW64| rv:51.0) ...</td>\n    </tr>\n  </tbody>\n</table>\n<p>4998 rows × 8 columns</p>\n</div>"
     },
     "metadata": {}
    }
   ],
   "execution_count": null
  },
  {
   "cell_type": "code",
   "metadata": {
    "tags": [],
    "cell_id": "00012-a0eb21aa-e204-4fa8-ade3-e04cc0f212ae",
    "deepnote_to_be_reexecuted": false,
    "source_hash": "68c566e7",
    "execution_start": 1629376245387,
    "execution_millis": 136,
    "is_output_hidden": true,
    "deepnote_cell_type": "code"
   },
   "source": "df_vente_part3",
   "outputs": [
    {
     "output_type": "execute_result",
     "execution_count": 23,
     "data": {
      "application/vnd.deepnote.dataframe.v2+json": {
       "row_count": 2925,
       "column_count": 8,
       "columns": [
        {
         "name": "customer_id",
         "dtype": "object",
         "stats": {
          "unique_count": 899,
          "nan_count": 0,
          "categories": [
           {
            "name": "409679",
            "count": 13
           },
           {
            "name": "650441",
            "count": 11
           },
           {
            "name": "897 others",
            "count": 2901
           }
          ]
         }
        },
        {
         "name": "order_date",
         "dtype": "object",
         "stats": {
          "unique_count": 1166,
          "nan_count": 0,
          "categories": [
           {
            "name": "30/10/2015",
            "count": 9
           },
           {
            "name": "04/03/2016",
            "count": 9
           },
           {
            "name": "1164 others",
            "count": 2907
           }
          ]
         }
        },
        {
         "name": "order_id",
         "dtype": "object",
         "stats": {
          "unique_count": 2924,
          "nan_count": 0,
          "categories": [
           {
            "name": "HTS-040906-0001",
            "count": 2
           },
           {
            "name": "HTS-7uruq8-0001",
            "count": 1
           },
           {
            "name": "2922 others",
            "count": 2922
           }
          ]
         }
        },
        {
         "name": "pages_visited",
         "dtype": "int64",
         "stats": {
          "unique_count": 22,
          "nan_count": 0,
          "min": "2",
          "max": "23",
          "histogram": [
           {
            "bin_start": 2,
            "bin_end": 4.1,
            "count": 125
           },
           {
            "bin_start": 4.1,
            "bin_end": 6.2,
            "count": 294
           },
           {
            "bin_start": 6.2,
            "bin_end": 8.3,
            "count": 549
           },
           {
            "bin_start": 8.3,
            "bin_end": 10.4,
            "count": 603
           },
           {
            "bin_start": 10.4,
            "bin_end": 12.5,
            "count": 559
           },
           {
            "bin_start": 12.5,
            "bin_end": 14.600000000000001,
            "count": 418
           },
           {
            "bin_start": 14.600000000000001,
            "bin_end": 16.700000000000003,
            "count": 229
           },
           {
            "bin_start": 16.700000000000003,
            "bin_end": 18.8,
            "count": 100
           },
           {
            "bin_start": 18.8,
            "bin_end": 20.900000000000002,
            "count": 35
           },
           {
            "bin_start": 20.900000000000002,
            "bin_end": 23,
            "count": 13
           }
          ]
         }
        },
        {
         "name": "tshirt_category",
         "dtype": "object",
         "stats": {
          "unique_count": 10,
          "nan_count": 0,
          "categories": [
           {
            "name": "White T-Shirt M",
            "count": 834
           },
           {
            "name": "Hoodie",
            "count": 789
           },
           {
            "name": "8 others",
            "count": 1302
           }
          ]
         }
        },
        {
         "name": "tshirt_price",
         "dtype": "object",
         "stats": {
          "unique_count": 6,
          "nan_count": 0,
          "categories": [
           {
            "name": "20",
            "count": 912
           },
           {
            "name": "23",
            "count": 789
           },
           {
            "name": "4 others",
            "count": 1224
           }
          ]
         }
        },
        {
         "name": "tshirt_quantity",
         "dtype": "int64",
         "stats": {
          "unique_count": 26,
          "nan_count": 0,
          "min": "1",
          "max": "29",
          "histogram": [
           {
            "bin_start": 1,
            "bin_end": 3.8,
            "count": 2211
           },
           {
            "bin_start": 3.8,
            "bin_end": 6.6,
            "count": 536
           },
           {
            "bin_start": 6.6,
            "bin_end": 9.399999999999999,
            "count": 66
           },
           {
            "bin_start": 9.399999999999999,
            "bin_end": 12.2,
            "count": 16
           },
           {
            "bin_start": 12.2,
            "bin_end": 15,
            "count": 23
           },
           {
            "bin_start": 15,
            "bin_end": 17.799999999999997,
            "count": 27
           },
           {
            "bin_start": 17.799999999999997,
            "bin_end": 20.599999999999998,
            "count": 22
           },
           {
            "bin_start": 20.599999999999998,
            "bin_end": 23.4,
            "count": 18
           },
           {
            "bin_start": 23.4,
            "bin_end": 26.2,
            "count": 4
           },
           {
            "bin_start": 26.2,
            "bin_end": 29,
            "count": 2
           }
          ]
         }
        },
        {
         "name": "user_agent",
         "dtype": "object",
         "stats": {
          "unique_count": 20,
          "nan_count": 0,
          "categories": [
           {
            "name": "Mozilla/5.0 (Windows NT 10.0| Win64| x64) AppleWebKit/537.36 (KHTML, like Gecko) Chrome/56.0.2924.87 Safari/537.36",
            "count": 526
           },
           {
            "name": "Mozilla/5.0 (Macintosh| Intel Mac OS X 10_12_3) AppleWebKit/537.36 (KHTML, like Gecko) Chrome/56.0.2924.87 Safari/537.36",
            "count": 347
           },
           {
            "name": "18 others",
            "count": 2052
           }
          ]
         }
        },
        {
         "name": "_deepnote_index_column",
         "dtype": "int64"
        }
       ],
       "rows_top": [
        {
         "customer_id": "7uruq8",
         "order_date": "09/06/2016",
         "order_id": "HTS-7uruq8-0001",
         "pages_visited": 11,
         "tshirt_category": "Tennis Shirt",
         "tshirt_price": "24",
         "tshirt_quantity": 1,
         "user_agent": "Mozilla/5.0 (Windows NT 10.0| WOW64| rv:51.0) Gecko/20100101 Firefox/51.0",
         "_deepnote_index_column": 0
        },
        {
         "customer_id": "428094",
         "order_date": "18/11/2016",
         "order_id": "HTS-428094-0002",
         "pages_visited": 13,
         "tshirt_category": "Tennis Shirt",
         "tshirt_price": "24",
         "tshirt_quantity": 1,
         "user_agent": "Mozilla/5.0 (Windows NT 10.0| WOW64| rv:51.0) Gecko/20100101 Firefox/51.0",
         "_deepnote_index_column": 1
        },
        {
         "customer_id": "426724",
         "order_date": "19/08/2015",
         "order_id": "HTS-426724-0003",
         "pages_visited": 14,
         "tshirt_category": "Tennis Shirt",
         "tshirt_price": "24",
         "tshirt_quantity": 16,
         "user_agent": "Mozilla/5.0 (Windows NT 10.0| WOW64| rv:51.0) Gecko/20100101 Firefox/51.0",
         "_deepnote_index_column": 2
        },
        {
         "customer_id": "428094",
         "order_date": "29/02/2016",
         "order_id": "HTS-428094-0001",
         "pages_visited": 19,
         "tshirt_category": "Tennis Shirt",
         "tshirt_price": "24",
         "tshirt_quantity": 3,
         "user_agent": "Mozilla/5.0 (Windows NT 10.0| WOW64| rv:51.0) Gecko/20100101 Firefox/51.0",
         "_deepnote_index_column": 3
        },
        {
         "customer_id": "638837",
         "order_date": "19/12/2013",
         "order_id": "HTS-638837-0001",
         "pages_visited": 13,
         "tshirt_category": "Tennis Shirt",
         "tshirt_price": "24",
         "tshirt_quantity": 1,
         "user_agent": "Mozilla/5.0 (Windows NT 10.0| WOW64| rv:52.0) Gecko/20100101 Firefox/52.0",
         "_deepnote_index_column": 4
        },
        {
         "customer_id": "loq4x4",
         "order_date": "06/01/2016",
         "order_id": "HTS-loq4x4-0001",
         "pages_visited": 20,
         "tshirt_category": "Tennis Shirt",
         "tshirt_price": "24",
         "tshirt_quantity": 1,
         "user_agent": "Mozilla/5.0 (Windows NT 10.0| WOW64| rv:52.0) Gecko/20100101 Firefox/52.0",
         "_deepnote_index_column": 5
        },
        {
         "customer_id": "227028",
         "order_date": "05/11/2014",
         "order_id": "HTS-227028-0001",
         "pages_visited": 8,
         "tshirt_category": "Tennis Shirt",
         "tshirt_price": "24",
         "tshirt_quantity": 2,
         "user_agent": "Mozilla/5.0 (Windows NT 10.0| Win64| x64) AppleWebKit/537.36 (KHTML, like Gecko) Chrome/51.0.2704.7…",
         "_deepnote_index_column": 6
        },
        {
         "customer_id": "cxrtv5",
         "order_date": "26/08/2016",
         "order_id": "HTS-cxrtv5-0002",
         "pages_visited": 5,
         "tshirt_category": "Tennis Shirt",
         "tshirt_price": "24",
         "tshirt_quantity": 3,
         "user_agent": "Mozilla/5.0 (Windows NT 10.0| Win64| x64) AppleWebKit/537.36 (KHTML, like Gecko) Chrome/56.0.2924.8…",
         "_deepnote_index_column": 7
        },
        {
         "customer_id": "498253",
         "order_date": "20/09/2015",
         "order_id": "HTS-498253-0001",
         "pages_visited": 7,
         "tshirt_category": "Tennis Shirt",
         "tshirt_price": "24",
         "tshirt_quantity": 1,
         "user_agent": "Mozilla/5.0 (Windows NT 10.0| Win64| x64) AppleWebKit/537.36 (KHTML, like Gecko) Chrome/56.0.2924.8…",
         "_deepnote_index_column": 8
        },
        {
         "customer_id": "ytpmwv",
         "order_date": "19/03/2017",
         "order_id": "HTS-ytpmwv-0003",
         "pages_visited": 8,
         "tshirt_category": "Tennis Shirt",
         "tshirt_price": "24",
         "tshirt_quantity": 1,
         "user_agent": "Mozilla/5.0 (Windows NT 10.0| Win64| x64) AppleWebKit/537.36 (KHTML, like Gecko) Chrome/56.0.2924.8…",
         "_deepnote_index_column": 9
        },
        {
         "customer_id": "5z34ph",
         "order_date": "05/09/2016",
         "order_id": "HTS-5z34ph-0002",
         "pages_visited": 9,
         "tshirt_category": "Tennis Shirt",
         "tshirt_price": "24",
         "tshirt_quantity": 1,
         "user_agent": "Mozilla/5.0 (Windows NT 10.0| Win64| x64) AppleWebKit/537.36 (KHTML, like Gecko) Chrome/56.0.2924.8…",
         "_deepnote_index_column": 10
        },
        {
         "customer_id": "512016",
         "order_date": "30/11/2016",
         "order_id": "HTS-512016-0002",
         "pages_visited": 9,
         "tshirt_category": "Tennis Shirt",
         "tshirt_price": "24",
         "tshirt_quantity": 1,
         "user_agent": "Mozilla/5.0 (Windows NT 10.0| Win64| x64) AppleWebKit/537.36 (KHTML, like Gecko) Chrome/56.0.2924.8…",
         "_deepnote_index_column": 11
        },
        {
         "customer_id": "382137",
         "order_date": "03/09/2016",
         "order_id": "HTS-382137-0001",
         "pages_visited": 10,
         "tshirt_category": "Tennis Shirt",
         "tshirt_price": "24",
         "tshirt_quantity": 1,
         "user_agent": "Mozilla/5.0 (Windows NT 10.0| Win64| x64) AppleWebKit/537.36 (KHTML, like Gecko) Chrome/56.0.2924.8…",
         "_deepnote_index_column": 12
        },
        {
         "customer_id": "7bb707",
         "order_date": "30/05/2016",
         "order_id": "HTS-7bb707-0001",
         "pages_visited": 10,
         "tshirt_category": "Tennis Shirt",
         "tshirt_price": "24",
         "tshirt_quantity": 1,
         "user_agent": "Mozilla/5.0 (Windows NT 10.0| Win64| x64) AppleWebKit/537.36 (KHTML, like Gecko) Chrome/56.0.2924.8…",
         "_deepnote_index_column": 13
        },
        {
         "customer_id": "238834",
         "order_date": "29/08/2014",
         "order_id": "HTS-238834-0001",
         "pages_visited": 10,
         "tshirt_category": "Tennis Shirt",
         "tshirt_price": "24",
         "tshirt_quantity": 2,
         "user_agent": "Mozilla/5.0 (Windows NT 10.0| Win64| x64) AppleWebKit/537.36 (KHTML, like Gecko) Chrome/56.0.2924.8…",
         "_deepnote_index_column": 14
        },
        {
         "customer_id": "488697",
         "order_date": "05/08/2016",
         "order_id": "HTS-488697-0003",
         "pages_visited": 10,
         "tshirt_category": "Tennis Shirt",
         "tshirt_price": "24",
         "tshirt_quantity": 13,
         "user_agent": "Mozilla/5.0 (Windows NT 10.0| Win64| x64) AppleWebKit/537.36 (KHTML, like Gecko) Chrome/56.0.2924.8…",
         "_deepnote_index_column": 15
        },
        {
         "customer_id": "6k5asx",
         "order_date": "27/06/2016",
         "order_id": "HTS-6k5asx-0002",
         "pages_visited": 11,
         "tshirt_category": "Tennis Shirt",
         "tshirt_price": "24",
         "tshirt_quantity": 23,
         "user_agent": "Mozilla/5.0 (Windows NT 10.0| Win64| x64) AppleWebKit/537.36 (KHTML, like Gecko) Chrome/56.0.2924.8…",
         "_deepnote_index_column": 16
        },
        {
         "customer_id": "257772",
         "order_date": "25/12/2013",
         "order_id": "HTS-257772-0001",
         "pages_visited": 12,
         "tshirt_category": "Tennis Shirt",
         "tshirt_price": "24",
         "tshirt_quantity": 1,
         "user_agent": "Mozilla/5.0 (Windows NT 10.0| Win64| x64) AppleWebKit/537.36 (KHTML, like Gecko) Chrome/56.0.2924.8…",
         "_deepnote_index_column": 17
        },
        {
         "customer_id": "pukz7l",
         "order_date": "09/02/2017",
         "order_id": "HTS-pukz7l-0002",
         "pages_visited": 12,
         "tshirt_category": "Tennis Shirt",
         "tshirt_price": "24",
         "tshirt_quantity": 13,
         "user_agent": "Mozilla/5.0 (Windows NT 10.0| Win64| x64) AppleWebKit/537.36 (KHTML, like Gecko) Chrome/56.0.2924.8…",
         "_deepnote_index_column": 18
        },
        {
         "customer_id": "6k5asx",
         "order_date": "19/10/2015",
         "order_id": "HTS-6k5asx-0001",
         "pages_visited": 12,
         "tshirt_category": "Tennis Shirt",
         "tshirt_price": "24",
         "tshirt_quantity": 17,
         "user_agent": "Mozilla/5.0 (Windows NT 10.0| Win64| x64) AppleWebKit/537.36 (KHTML, like Gecko) Chrome/56.0.2924.8…",
         "_deepnote_index_column": 19
        },
        {
         "customer_id": "732582",
         "order_date": "10/10/2014",
         "order_id": "HTS-732582-0001",
         "pages_visited": 13,
         "tshirt_category": "Tennis Shirt",
         "tshirt_price": "24",
         "tshirt_quantity": 1,
         "user_agent": "Mozilla/5.0 (Windows NT 10.0| Win64| x64) AppleWebKit/537.36 (KHTML, like Gecko) Chrome/56.0.2924.8…",
         "_deepnote_index_column": 20
        },
        {
         "customer_id": "916341",
         "order_date": "05/10/2013",
         "order_id": "HTS-916341-0001",
         "pages_visited": 14,
         "tshirt_category": "Tennis Shirt",
         "tshirt_price": "24",
         "tshirt_quantity": 1,
         "user_agent": "Mozilla/5.0 (Windows NT 10.0| Win64| x64) AppleWebKit/537.36 (KHTML, like Gecko) Chrome/56.0.2924.8…",
         "_deepnote_index_column": 21
        },
        {
         "customer_id": "397774",
         "order_date": "08/03/2015",
         "order_id": "HTS-397774-0001",
         "pages_visited": 14,
         "tshirt_category": "Tennis Shirt",
         "tshirt_price": "24",
         "tshirt_quantity": 1,
         "user_agent": "Mozilla/5.0 (Windows NT 10.0| Win64| x64) AppleWebKit/537.36 (KHTML, like Gecko) Chrome/56.0.2924.8…",
         "_deepnote_index_column": 22
        },
        {
         "customer_id": "653930",
         "order_date": "22/11/2015",
         "order_id": "HTS-653930-0002",
         "pages_visited": 14,
         "tshirt_category": "Tennis Shirt",
         "tshirt_price": "24",
         "tshirt_quantity": 1,
         "user_agent": "Mozilla/5.0 (Windows NT 10.0| Win64| x64) AppleWebKit/537.36 (KHTML, like Gecko) Chrome/56.0.2924.8…",
         "_deepnote_index_column": 23
        },
        {
         "customer_id": "444403",
         "order_date": "31/12/2014",
         "order_id": "HTS-444403-0002",
         "pages_visited": 14,
         "tshirt_category": "Tennis Shirt",
         "tshirt_price": "24",
         "tshirt_quantity": 1,
         "user_agent": "Mozilla/5.0 (Windows NT 10.0| Win64| x64) AppleWebKit/537.36 (KHTML, like Gecko) Chrome/56.0.2924.8…",
         "_deepnote_index_column": 24
        },
        {
         "customer_id": "cxrtv5",
         "order_date": "30/10/2015",
         "order_id": "HTS-cxrtv5-0001",
         "pages_visited": 14,
         "tshirt_category": "Tennis Shirt",
         "tshirt_price": "24",
         "tshirt_quantity": 1,
         "user_agent": "Mozilla/5.0 (Windows NT 10.0| Win64| x64) AppleWebKit/537.36 (KHTML, like Gecko) Chrome/56.0.2924.8…",
         "_deepnote_index_column": 25
        },
        {
         "customer_id": "yccg00",
         "order_date": "08/11/2015",
         "order_id": "HTS-yccg00-0001",
         "pages_visited": 14,
         "tshirt_category": "Tennis Shirt",
         "tshirt_price": "24",
         "tshirt_quantity": 1,
         "user_agent": "Mozilla/5.0 (Windows NT 10.0| Win64| x64) AppleWebKit/537.36 (KHTML, like Gecko) Chrome/56.0.2924.8…",
         "_deepnote_index_column": 26
        },
        {
         "customer_id": "488697",
         "order_date": "16/10/2014",
         "order_id": "HTS-488697-0001",
         "pages_visited": 14,
         "tshirt_category": "Tennis Shirt",
         "tshirt_price": "24",
         "tshirt_quantity": 15,
         "user_agent": "Mozilla/5.0 (Windows NT 10.0| Win64| x64) AppleWebKit/537.36 (KHTML, like Gecko) Chrome/56.0.2924.8…",
         "_deepnote_index_column": 27
        },
        {
         "customer_id": "365281",
         "order_date": "13/12/2014",
         "order_id": "HTS-365281-0003",
         "pages_visited": 15,
         "tshirt_category": "Tennis Shirt",
         "tshirt_price": "24",
         "tshirt_quantity": 2,
         "user_agent": "Mozilla/5.0 (Windows NT 10.0| Win64| x64) AppleWebKit/537.36 (KHTML, like Gecko) Chrome/56.0.2924.8…",
         "_deepnote_index_column": 28
        },
        {
         "customer_id": "583929",
         "order_date": "18/12/2013",
         "order_id": "HTS-583929-0001",
         "pages_visited": 15,
         "tshirt_category": "Tennis Shirt",
         "tshirt_price": "24",
         "tshirt_quantity": 3,
         "user_agent": "Mozilla/5.0 (Windows NT 10.0| Win64| x64) AppleWebKit/537.36 (KHTML, like Gecko) Chrome/56.0.2924.8…",
         "_deepnote_index_column": 29
        },
        {
         "customer_id": "365499",
         "order_date": "01/07/2015",
         "order_id": "HTS-365499-0001",
         "pages_visited": 15,
         "tshirt_category": "Tennis Shirt",
         "tshirt_price": "24",
         "tshirt_quantity": 5,
         "user_agent": "Mozilla/5.0 (Windows NT 10.0| Win64| x64) AppleWebKit/537.36 (KHTML, like Gecko) Chrome/56.0.2924.8…",
         "_deepnote_index_column": 30
        },
        {
         "customer_id": "915761",
         "order_date": "20/07/2015",
         "order_id": "HTS-915761-0002",
         "pages_visited": 19,
         "tshirt_category": "Tennis Shirt",
         "tshirt_price": "24",
         "tshirt_quantity": 12,
         "user_agent": "Mozilla/5.0 (Windows NT 10.0| Win64| x64) AppleWebKit/537.36 (KHTML, like Gecko) Chrome/56.0.2924.8…",
         "_deepnote_index_column": 31
        },
        {
         "customer_id": "569613",
         "order_date": "01/10/2016",
         "order_id": "HTS-569613-0003",
         "pages_visited": 7,
         "tshirt_category": "Tennis Shirt",
         "tshirt_price": "24",
         "tshirt_quantity": 1,
         "user_agent": "Mozilla/5.0 (Windows NT 6.1) AppleWebKit/537.36 (KHTML, like Gecko) Chrome/56.0.2924.87 Safari/537.…",
         "_deepnote_index_column": 32
        },
        {
         "customer_id": "978705",
         "order_date": "24/06/2015",
         "order_id": "HTS-978705-0002",
         "pages_visited": 9,
         "tshirt_category": "Tennis Shirt",
         "tshirt_price": "24",
         "tshirt_quantity": 3,
         "user_agent": "Mozilla/5.0 (Windows NT 6.1) AppleWebKit/537.36 (KHTML, like Gecko) Chrome/56.0.2924.87 Safari/537.…",
         "_deepnote_index_column": 33
        },
        {
         "customer_id": "394276",
         "order_date": "25/07/2014",
         "order_id": "HTS-394276-0001",
         "pages_visited": 10,
         "tshirt_category": "Tennis Shirt",
         "tshirt_price": "24",
         "tshirt_quantity": 1,
         "user_agent": "Mozilla/5.0 (Windows NT 6.1) AppleWebKit/537.36 (KHTML, like Gecko) Chrome/56.0.2924.87 Safari/537.…",
         "_deepnote_index_column": 34
        },
        {
         "customer_id": "80190",
         "order_date": "05/12/2014",
         "order_id": "HTS-080190-0001",
         "pages_visited": 13,
         "tshirt_category": "Tennis Shirt",
         "tshirt_price": "24",
         "tshirt_quantity": 1,
         "user_agent": "Mozilla/5.0 (Windows NT 6.1) AppleWebKit/537.36 (KHTML, like Gecko) Chrome/56.0.2924.87 Safari/537.…",
         "_deepnote_index_column": 35
        },
        {
         "customer_id": "971547",
         "order_date": "12/04/2017",
         "order_id": "HTS-971547-0006",
         "pages_visited": 4,
         "tshirt_category": "Tennis Shirt",
         "tshirt_price": "24",
         "tshirt_quantity": 2,
         "user_agent": "Mozilla/5.0 (Windows NT 6.1| WOW64) AppleWebKit/537.36 (KHTML, like Gecko) Chrome/56.0.2924.87 Safa…",
         "_deepnote_index_column": 36
        },
        {
         "customer_id": "936262",
         "order_date": "01/04/2017",
         "order_id": "HTS-936262-0002",
         "pages_visited": 8,
         "tshirt_category": "Tennis Shirt",
         "tshirt_price": "24",
         "tshirt_quantity": 1,
         "user_agent": "Mozilla/5.0 (Windows NT 6.1| WOW64) AppleWebKit/537.36 (KHTML, like Gecko) Chrome/56.0.2924.87 Safa…",
         "_deepnote_index_column": 37
        },
        {
         "customer_id": "cjf9lk",
         "order_date": "05/01/2017",
         "order_id": "HTS-cjf9lk-0001",
         "pages_visited": 9,
         "tshirt_category": "Tennis Shirt",
         "tshirt_price": "24",
         "tshirt_quantity": 1,
         "user_agent": "Mozilla/5.0 (Windows NT 6.1| WOW64) AppleWebKit/537.36 (KHTML, like Gecko) Chrome/56.0.2924.87 Safa…",
         "_deepnote_index_column": 38
        },
        {
         "customer_id": "675460",
         "order_date": "14/08/2014",
         "order_id": "HTS-675460-0001",
         "pages_visited": 9,
         "tshirt_category": "Tennis Shirt",
         "tshirt_price": "24",
         "tshirt_quantity": 1,
         "user_agent": "Mozilla/5.0 (Windows NT 6.1| WOW64) AppleWebKit/537.36 (KHTML, like Gecko) Chrome/56.0.2924.87 Safa…",
         "_deepnote_index_column": 39
        },
        {
         "customer_id": "7o5c87",
         "order_date": "21/01/2016",
         "order_id": "HTS-7o5c87-0001",
         "pages_visited": 13,
         "tshirt_category": "Tennis Shirt",
         "tshirt_price": "24",
         "tshirt_quantity": 1,
         "user_agent": "Mozilla/5.0 (Windows NT 6.1| WOW64) AppleWebKit/537.36 (KHTML, like Gecko) Chrome/56.0.2924.87 Safa…",
         "_deepnote_index_column": 40
        },
        {
         "customer_id": "650856",
         "order_date": "31/12/2013",
         "order_id": "HTS-650856-0001",
         "pages_visited": 14,
         "tshirt_category": "Tennis Shirt",
         "tshirt_price": "24",
         "tshirt_quantity": 3,
         "user_agent": "Mozilla/5.0 (Windows NT 6.1| WOW64) AppleWebKit/537.36 (KHTML, like Gecko) Chrome/56.0.2924.87 Safa…",
         "_deepnote_index_column": 41
        },
        {
         "customer_id": "380209",
         "order_date": "14/08/2015",
         "order_id": "HTS-380209-0002",
         "pages_visited": 13,
         "tshirt_category": "Tennis Shirt",
         "tshirt_price": "24",
         "tshirt_quantity": 1,
         "user_agent": "Mozilla/5.0 (Windows NT 6.1| WOW64| Trident/7.0| rv:11.0) like Gecko",
         "_deepnote_index_column": 42
        },
        {
         "customer_id": "704344",
         "order_date": "05/03/2015",
         "order_id": "HTS-704344-0003",
         "pages_visited": 11,
         "tshirt_category": "Tennis Shirt",
         "tshirt_price": "24",
         "tshirt_quantity": 1,
         "user_agent": "Mozilla/5.0 (Windows NT 6.1| WOW64| rv:51.0) Gecko/20100101 Firefox/51.0",
         "_deepnote_index_column": 43
        },
        {
         "customer_id": "652",
         "order_date": "09/02/2015",
         "order_id": "HTS-000652-0002",
         "pages_visited": 11,
         "tshirt_category": "Tennis Shirt",
         "tshirt_price": "24",
         "tshirt_quantity": 1,
         "user_agent": "Mozilla/5.0 (Windows NT 6.1| WOW64| rv:51.0) Gecko/20100101 Firefox/51.0",
         "_deepnote_index_column": 44
        },
        {
         "customer_id": "704344",
         "order_date": "18/09/2013",
         "order_id": "HTS-704344-0001",
         "pages_visited": 11,
         "tshirt_category": "Tennis Shirt",
         "tshirt_price": "24",
         "tshirt_quantity": 2,
         "user_agent": "Mozilla/5.0 (Windows NT 6.1| WOW64| rv:51.0) Gecko/20100101 Firefox/51.0",
         "_deepnote_index_column": 45
        },
        {
         "customer_id": "189700",
         "order_date": "23/07/2016",
         "order_id": "HTS-189700-0003",
         "pages_visited": 7,
         "tshirt_category": "Tennis Shirt",
         "tshirt_price": "24",
         "tshirt_quantity": 1,
         "user_agent": "Mozilla/5.0 (Windows NT 6.1| WOW64| rv:52.0) Gecko/20100101 Firefox/52.0",
         "_deepnote_index_column": 46
        },
        {
         "customer_id": "464953",
         "order_date": "30/04/2014",
         "order_id": "HTS-464953-0001",
         "pages_visited": 16,
         "tshirt_category": "Tennis Shirt",
         "tshirt_price": "24",
         "tshirt_quantity": 1,
         "user_agent": "Mozilla/5.0 (Windows NT 6.1| WOW64| rv:52.0) Gecko/20100101 Firefox/52.0",
         "_deepnote_index_column": 47
        },
        {
         "customer_id": "553318",
         "order_date": "15/12/2014",
         "order_id": "HTS-553318-0001",
         "pages_visited": 11,
         "tshirt_category": "Tennis Shirt",
         "tshirt_price": "24",
         "tshirt_quantity": 1,
         "user_agent": "Mozilla/5.0 (Windows NT 6.1| Win64| x64) AppleWebKit/537.36 (KHTML, like Gecko) Chrome/56.0.2924.87…",
         "_deepnote_index_column": 48
        },
        {
         "customer_id": "526410",
         "order_date": "28/09/2014",
         "order_id": "HTS-526410-0001",
         "pages_visited": 12,
         "tshirt_category": "Tennis Shirt",
         "tshirt_price": "24",
         "tshirt_quantity": 1,
         "user_agent": "Mozilla/5.0 (Windows NT 6.1| Win64| x64) AppleWebKit/537.36 (KHTML, like Gecko) Chrome/56.0.2924.87…",
         "_deepnote_index_column": 49
        },
        {
         "customer_id": "761299",
         "order_date": "31/03/2016",
         "order_id": "HTS-761299-0001",
         "pages_visited": 13,
         "tshirt_category": "Tennis Shirt",
         "tshirt_price": "24",
         "tshirt_quantity": 1,
         "user_agent": "Mozilla/5.0 (Windows NT 6.1| Win64| x64) AppleWebKit/537.36 (KHTML, like Gecko) Chrome/56.0.2924.87…",
         "_deepnote_index_column": 50
        },
        {
         "customer_id": "384034",
         "order_date": "08/11/2013",
         "order_id": "HTS-384034-0001",
         "pages_visited": 16,
         "tshirt_category": "Tennis Shirt",
         "tshirt_price": "24",
         "tshirt_quantity": 12,
         "user_agent": "Mozilla/5.0 (Windows NT 6.1| Win64| x64) AppleWebKit/537.36 (KHTML, like Gecko) Chrome/56.0.2924.87…",
         "_deepnote_index_column": 51
        },
        {
         "customer_id": "636616",
         "order_date": "07/12/2016",
         "order_id": "HTS-636616-0001",
         "pages_visited": 18,
         "tshirt_category": "Tennis Shirt",
         "tshirt_price": "24",
         "tshirt_quantity": 1,
         "user_agent": "Mozilla/5.0 (Windows NT 6.1| Win64| x64) AppleWebKit/537.36 (KHTML, like Gecko) Chrome/56.0.2924.87…",
         "_deepnote_index_column": 52
        },
        {
         "customer_id": "525793",
         "order_date": "03/08/2015",
         "order_id": "HTS-525793-0002",
         "pages_visited": 7,
         "tshirt_category": "Tennis Shirt",
         "tshirt_price": "24",
         "tshirt_quantity": 3,
         "user_agent": "Mozilla/5.0 (X11| Linux x86_64) AppleWebKit/537.36 (KHTML, like Gecko) Chrome/56.0.2924.87 Safari/5…",
         "_deepnote_index_column": 53
        },
        {
         "customer_id": "933368",
         "order_date": "05/09/2014",
         "order_id": "HTS-933368-0001",
         "pages_visited": 11,
         "tshirt_category": "Tennis Shirt",
         "tshirt_price": "24",
         "tshirt_quantity": 2,
         "user_agent": "Mozilla/5.0 (X11| Linux x86_64) AppleWebKit/537.36 (KHTML, like Gecko) Chrome/56.0.2924.87 Safari/5…",
         "_deepnote_index_column": 54
        },
        {
         "customer_id": "417169",
         "order_date": "24/05/2016",
         "order_id": "HTS-417169-0001",
         "pages_visited": 14,
         "tshirt_category": "Tennis Shirt",
         "tshirt_price": "24",
         "tshirt_quantity": 1,
         "user_agent": "Mozilla/5.0 (X11| Ubuntu| Linux x86_64| rv:51.0) Gecko/20100101 Firefox/51.0",
         "_deepnote_index_column": 55
        },
        {
         "customer_id": "410994",
         "order_date": "06/12/2014",
         "order_id": "HTS-410994-0001",
         "pages_visited": 8,
         "tshirt_category": "Tennis Shirt",
         "tshirt_price": "24",
         "tshirt_quantity": 1,
         "user_agent": "Mozilla/5.0 (Macintosh| Intel Mac OS X 10_11_6) AppleWebKit/537.36 (KHTML, like Gecko) Chrome/56.0.…",
         "_deepnote_index_column": 56
        },
        {
         "customer_id": "866032",
         "order_date": "27/11/2013",
         "order_id": "HTS-866032-0001",
         "pages_visited": 14,
         "tshirt_category": "Tennis Shirt",
         "tshirt_price": "24",
         "tshirt_quantity": 1,
         "user_agent": "Mozilla/5.0 (Macintosh| Intel Mac OS X 10_12_3) AppleWebKit/537.36 (KHTML, like Gecko) Chrome/56.0.…",
         "_deepnote_index_column": 57
        },
        {
         "customer_id": "318044",
         "order_date": "13/06/2014",
         "order_id": "HTS-318044-0001",
         "pages_visited": 11,
         "tshirt_category": "Tennis Shirt",
         "tshirt_price": "24",
         "tshirt_quantity": 1,
         "user_agent": "Mozilla/5.0 (Windows NT 10.0| WOW64) AppleWebKit/537.36 (KHTML, like Gecko) Chrome/56.0.2924.87 Saf…",
         "_deepnote_index_column": 58
        },
        {
         "customer_id": "643083",
         "order_date": "02/09/2016",
         "order_id": "HTS-643083-0003",
         "pages_visited": 8,
         "tshirt_category": "Tennis Shirt",
         "tshirt_price": "24",
         "tshirt_quantity": 13,
         "user_agent": "Mozilla/5.0 (Windows NT 10.0| Win64| x64) AppleWebKit/537.36 (KHTML, like Gecko) Chrome/56.0.2924.8…",
         "_deepnote_index_column": 59
        },
        {
         "customer_id": "353964",
         "order_date": "19/07/2015",
         "order_id": "HTS-353964-0002",
         "pages_visited": 13,
         "tshirt_category": "Tennis Shirt",
         "tshirt_price": "24",
         "tshirt_quantity": 3,
         "user_agent": "Mozilla/5.0 (Windows NT 6.1| WOW64) AppleWebKit/537.36 (KHTML, like Gecko) Chrome/56.0.2924.87 Safa…",
         "_deepnote_index_column": 60
        },
        {
         "customer_id": "685435",
         "order_date": "15/03/2017",
         "order_id": "HTS-685435-0005",
         "pages_visited": 5,
         "tshirt_category": "Tennis Shirt",
         "tshirt_price": "24",
         "tshirt_quantity": 3,
         "user_agent": "Mozilla/5.0 (Windows NT 6.1| WOW64| rv:51.0) Gecko/20100101 Firefox/51.0",
         "_deepnote_index_column": 61
        }
       ],
       "rows_bottom": [
        {
         "customer_id": "838334",
         "order_date": "01/08/2014",
         "order_id": "HTS-838334-0002",
         "pages_visited": 6,
         "tshirt_category": "Tennis Shirt",
         "tshirt_price": "24",
         "tshirt_quantity": 1,
         "user_agent": "Mozilla/5.0 (Windows NT 10.0| WOW64) AppleWebKit/537.36 (KHTML, like Gecko) Chrome/56.0.2924.87 Saf…",
         "_deepnote_index_column": 2862
        },
        {
         "customer_id": "366872",
         "order_date": "11/01/2016",
         "order_id": "HTS-366872-0006",
         "pages_visited": 6,
         "tshirt_category": "Tennis Shirt",
         "tshirt_price": "24",
         "tshirt_quantity": 6,
         "user_agent": "Mozilla/5.0 (Windows NT 10.0| WOW64) AppleWebKit/537.36 (KHTML, like Gecko) Chrome/56.0.2924.87 Saf…",
         "_deepnote_index_column": 2863
        },
        {
         "customer_id": "568641",
         "order_date": "14/03/2017",
         "order_id": "HTS-568641-0005",
         "pages_visited": 7,
         "tshirt_category": "Tennis Shirt",
         "tshirt_price": "24",
         "tshirt_quantity": 2,
         "user_agent": "Mozilla/5.0 (Windows NT 10.0| WOW64) AppleWebKit/537.36 (KHTML, like Gecko) Chrome/56.0.2924.87 Saf…",
         "_deepnote_index_column": 2864
        },
        {
         "customer_id": "366872",
         "order_date": "04/01/2015",
         "order_id": "HTS-366872-0004",
         "pages_visited": 7,
         "tshirt_category": "Tennis Shirt",
         "tshirt_price": "24",
         "tshirt_quantity": 3,
         "user_agent": "Mozilla/5.0 (Windows NT 10.0| WOW64) AppleWebKit/537.36 (KHTML, like Gecko) Chrome/56.0.2924.87 Saf…",
         "_deepnote_index_column": 2865
        },
        {
         "customer_id": "366872",
         "order_date": "24/06/2016",
         "order_id": "HTS-366872-0007",
         "pages_visited": 8,
         "tshirt_category": "Tennis Shirt",
         "tshirt_price": "24",
         "tshirt_quantity": 3,
         "user_agent": "Mozilla/5.0 (Windows NT 10.0| WOW64) AppleWebKit/537.36 (KHTML, like Gecko) Chrome/56.0.2924.87 Saf…",
         "_deepnote_index_column": 2866
        },
        {
         "customer_id": "892209",
         "order_date": "25/08/2013",
         "order_id": "HTS-892209-0001",
         "pages_visited": 9,
         "tshirt_category": "Tennis Shirt",
         "tshirt_price": "24",
         "tshirt_quantity": 1,
         "user_agent": "Mozilla/5.0 (Windows NT 10.0| WOW64) AppleWebKit/537.36 (KHTML, like Gecko) Chrome/56.0.2924.87 Saf…",
         "_deepnote_index_column": 2867
        },
        {
         "customer_id": "568641",
         "order_date": "16/11/2015",
         "order_id": "HTS-568641-0003",
         "pages_visited": 10,
         "tshirt_category": "Tennis Shirt",
         "tshirt_price": "24",
         "tshirt_quantity": 1,
         "user_agent": "Mozilla/5.0 (Windows NT 10.0| WOW64) AppleWebKit/537.36 (KHTML, like Gecko) Chrome/56.0.2924.87 Saf…",
         "_deepnote_index_column": 2868
        },
        {
         "customer_id": "254775",
         "order_date": "24/01/2016",
         "order_id": "HTS-254775-0003",
         "pages_visited": 11,
         "tshirt_category": "Tennis Shirt",
         "tshirt_price": "24",
         "tshirt_quantity": 2,
         "user_agent": "Mozilla/5.0 (Windows NT 10.0| WOW64) AppleWebKit/537.36 (KHTML, like Gecko) Chrome/56.0.2924.87 Saf…",
         "_deepnote_index_column": 2869
        },
        {
         "customer_id": "pxedg4",
         "order_date": "02/07/2015",
         "order_id": "HTS-pxedg4-0001",
         "pages_visited": 11,
         "tshirt_category": "Tennis Shirt",
         "tshirt_price": "24",
         "tshirt_quantity": 3,
         "user_agent": "Mozilla/5.0 (Windows NT 10.0| WOW64) AppleWebKit/537.36 (KHTML, like Gecko) Chrome/56.0.2924.87 Saf…",
         "_deepnote_index_column": 2870
        },
        {
         "customer_id": "215837",
         "order_date": "14/06/2016",
         "order_id": "HTS-215837-0002",
         "pages_visited": 12,
         "tshirt_category": "Tennis Shirt",
         "tshirt_price": "24",
         "tshirt_quantity": 1,
         "user_agent": "Mozilla/5.0 (Windows NT 10.0| WOW64) AppleWebKit/537.36 (KHTML, like Gecko) Chrome/56.0.2924.87 Saf…",
         "_deepnote_index_column": 2871
        },
        {
         "customer_id": "374675",
         "order_date": "16/06/2014",
         "order_id": "HTS-374675-0002",
         "pages_visited": 12,
         "tshirt_category": "Tennis Shirt",
         "tshirt_price": "24",
         "tshirt_quantity": 2,
         "user_agent": "Mozilla/5.0 (Windows NT 10.0| WOW64) AppleWebKit/537.36 (KHTML, like Gecko) Chrome/56.0.2924.87 Saf…",
         "_deepnote_index_column": 2872
        },
        {
         "customer_id": "254027",
         "order_date": "19/05/2016",
         "order_id": "HTS-254027-0003",
         "pages_visited": 12,
         "tshirt_category": "Tennis Shirt",
         "tshirt_price": "24",
         "tshirt_quantity": 4,
         "user_agent": "Mozilla/5.0 (Windows NT 10.0| WOW64) AppleWebKit/537.36 (KHTML, like Gecko) Chrome/56.0.2924.87 Saf…",
         "_deepnote_index_column": 2873
        },
        {
         "customer_id": "123244",
         "order_date": "23/08/2014",
         "order_id": "HTS-123244-0001",
         "pages_visited": 13,
         "tshirt_category": "Tennis Shirt",
         "tshirt_price": "24",
         "tshirt_quantity": 4,
         "user_agent": "Mozilla/5.0 (Windows NT 10.0| WOW64) AppleWebKit/537.36 (KHTML, like Gecko) Chrome/56.0.2924.87 Saf…",
         "_deepnote_index_column": 2874
        },
        {
         "customer_id": "583528",
         "order_date": "16/09/2014",
         "order_id": "HTS-583528-0001",
         "pages_visited": 18,
         "tshirt_category": "Tennis Shirt",
         "tshirt_price": "24",
         "tshirt_quantity": 3,
         "user_agent": "Mozilla/5.0 (Windows NT 10.0| WOW64) AppleWebKit/537.36 (KHTML, like Gecko) Chrome/56.0.2924.87 Saf…",
         "_deepnote_index_column": 2875
        },
        {
         "customer_id": "954392",
         "order_date": "31/10/2013",
         "order_id": "HTS-954392-0001",
         "pages_visited": 14,
         "tshirt_category": "Tennis Shirt",
         "tshirt_price": "24",
         "tshirt_quantity": 2,
         "user_agent": "Mozilla/5.0 (Windows NT 10.0| WOW64| rv:51.0) Gecko/20100101 Firefox/51.0",
         "_deepnote_index_column": 2876
        },
        {
         "customer_id": "826211",
         "order_date": "29/02/2016",
         "order_id": "HTS-826211-0001",
         "pages_visited": 15,
         "tshirt_category": "Tennis Shirt",
         "tshirt_price": "24",
         "tshirt_quantity": 1,
         "user_agent": "Mozilla/5.0 (Windows NT 10.0| WOW64| rv:51.0) Gecko/20100101 Firefox/51.0",
         "_deepnote_index_column": 2877
        },
        {
         "customer_id": "532177",
         "order_date": "20/04/2016",
         "order_id": "HTS-532177-0002",
         "pages_visited": 7,
         "tshirt_category": "Tennis Shirt",
         "tshirt_price": "24",
         "tshirt_quantity": 1,
         "user_agent": "Mozilla/5.0 (Windows NT 10.0| WOW64| rv:52.0) Gecko/20100101 Firefox/52.0",
         "_deepnote_index_column": 2878
        },
        {
         "customer_id": "852360",
         "order_date": "21/04/2014",
         "order_id": "HTS-852360-0001",
         "pages_visited": 7,
         "tshirt_category": "Tennis Shirt",
         "tshirt_price": "24",
         "tshirt_quantity": 2,
         "user_agent": "Mozilla/5.0 (Windows NT 10.0| WOW64| rv:52.0) Gecko/20100101 Firefox/52.0",
         "_deepnote_index_column": 2879
        },
        {
         "customer_id": "553303",
         "order_date": "24/07/2013",
         "order_id": "HTS-553303-0001",
         "pages_visited": 11,
         "tshirt_category": "Tennis Shirt",
         "tshirt_price": "24",
         "tshirt_quantity": 1,
         "user_agent": "Mozilla/5.0 (Windows NT 10.0| WOW64| rv:52.0) Gecko/20100101 Firefox/52.0",
         "_deepnote_index_column": 2880
        },
        {
         "customer_id": "665738",
         "order_date": "08/08/2016",
         "order_id": "HTS-665738-0004",
         "pages_visited": 5,
         "tshirt_category": "Tennis Shirt",
         "tshirt_price": "24",
         "tshirt_quantity": 2,
         "user_agent": "Mozilla/5.0 (Windows NT 10.0| Win64| x64) AppleWebKit/537.36 (KHTML, like Gecko) Chrome/56.0.2924.8…",
         "_deepnote_index_column": 2881
        },
        {
         "customer_id": "662419",
         "order_date": "03/04/2017",
         "order_id": "HTS-662419-0005",
         "pages_visited": 6,
         "tshirt_category": "Tennis Shirt",
         "tshirt_price": "24",
         "tshirt_quantity": 2,
         "user_agent": "Mozilla/5.0 (Windows NT 10.0| Win64| x64) AppleWebKit/537.36 (KHTML, like Gecko) Chrome/56.0.2924.8…",
         "_deepnote_index_column": 2882
        },
        {
         "customer_id": "249636",
         "order_date": "28/10/2015",
         "order_id": "HTS-249636-0003",
         "pages_visited": 9,
         "tshirt_category": "Tennis Shirt",
         "tshirt_price": "24",
         "tshirt_quantity": 2,
         "user_agent": "Mozilla/5.0 (Windows NT 10.0| Win64| x64) AppleWebKit/537.36 (KHTML, like Gecko) Chrome/56.0.2924.8…",
         "_deepnote_index_column": 2883
        },
        {
         "customer_id": "44759",
         "order_date": "23/07/2015",
         "order_id": "HTS-044759-0003",
         "pages_visited": 9,
         "tshirt_category": "Tennis Shirt",
         "tshirt_price": "24",
         "tshirt_quantity": 3,
         "user_agent": "Mozilla/5.0 (Windows NT 10.0| Win64| x64) AppleWebKit/537.36 (KHTML, like Gecko) Chrome/56.0.2924.8…",
         "_deepnote_index_column": 2884
        },
        {
         "customer_id": "389342",
         "order_date": "05/12/2013",
         "order_id": "HTS-389342-0001",
         "pages_visited": 10,
         "tshirt_category": "Tennis Shirt",
         "tshirt_price": "24",
         "tshirt_quantity": 2,
         "user_agent": "Mozilla/5.0 (Windows NT 10.0| Win64| x64) AppleWebKit/537.36 (KHTML, like Gecko) Chrome/56.0.2924.8…",
         "_deepnote_index_column": 2885
        },
        {
         "customer_id": "704302",
         "order_date": "27/06/2016",
         "order_id": "HTS-704302-0005",
         "pages_visited": 10,
         "tshirt_category": "Tennis Shirt",
         "tshirt_price": "24",
         "tshirt_quantity": 4,
         "user_agent": "Mozilla/5.0 (Windows NT 10.0| Win64| x64) AppleWebKit/537.36 (KHTML, like Gecko) Chrome/56.0.2924.8…",
         "_deepnote_index_column": 2886
        },
        {
         "customer_id": "174167",
         "order_date": "17/10/2014",
         "order_id": "HTS-174167-0001",
         "pages_visited": 11,
         "tshirt_category": "Tennis Shirt",
         "tshirt_price": "24",
         "tshirt_quantity": 1,
         "user_agent": "Mozilla/5.0 (Windows NT 10.0| Win64| x64) AppleWebKit/537.36 (KHTML, like Gecko) Chrome/56.0.2924.8…",
         "_deepnote_index_column": 2887
        },
        {
         "customer_id": "44759",
         "order_date": "07/04/2017",
         "order_id": "HTS-044759-0005",
         "pages_visited": 11,
         "tshirt_category": "Tennis Shirt",
         "tshirt_price": "24",
         "tshirt_quantity": 5,
         "user_agent": "Mozilla/5.0 (Windows NT 10.0| Win64| x64) AppleWebKit/537.36 (KHTML, like Gecko) Chrome/56.0.2924.8…",
         "_deepnote_index_column": 2888
        },
        {
         "customer_id": "by4n7h",
         "order_date": "12/10/2016",
         "order_id": "HTS-by4n7h-0002",
         "pages_visited": 13,
         "tshirt_category": "Tennis Shirt",
         "tshirt_price": "24",
         "tshirt_quantity": 2,
         "user_agent": "Mozilla/5.0 (Windows NT 10.0| Win64| x64) AppleWebKit/537.36 (KHTML, like Gecko) Chrome/56.0.2924.8…",
         "_deepnote_index_column": 2889
        },
        {
         "customer_id": "kc5k7h",
         "order_date": "22/08/2016",
         "order_id": "HTS-kc5k7h-0002",
         "pages_visited": 14,
         "tshirt_category": "Tennis Shirt",
         "tshirt_price": "24",
         "tshirt_quantity": 4,
         "user_agent": "Mozilla/5.0 (Windows NT 10.0| Win64| x64) AppleWebKit/537.36 (KHTML, like Gecko) Chrome/56.0.2924.8…",
         "_deepnote_index_column": 2890
        },
        {
         "customer_id": "784711",
         "order_date": "02/10/2015",
         "order_id": "HTS-784711-0003",
         "pages_visited": 15,
         "tshirt_category": "Tennis Shirt",
         "tshirt_price": "24",
         "tshirt_quantity": 5,
         "user_agent": "Mozilla/5.0 (Windows NT 10.0| Win64| x64) AppleWebKit/537.36 (KHTML, like Gecko) Chrome/56.0.2924.8…",
         "_deepnote_index_column": 2891
        },
        {
         "customer_id": "o8mesu",
         "order_date": "25/01/2016",
         "order_id": "HTS-o8mesu-0002",
         "pages_visited": 16,
         "tshirt_category": "Tennis Shirt",
         "tshirt_price": "24",
         "tshirt_quantity": 5,
         "user_agent": "Mozilla/5.0 (Windows NT 10.0| Win64| x64) AppleWebKit/537.36 (KHTML, like Gecko) Chrome/56.0.2924.8…",
         "_deepnote_index_column": 2892
        },
        {
         "customer_id": "399607",
         "order_date": "04/03/2016",
         "order_id": "HTS-399607-0005",
         "pages_visited": 2,
         "tshirt_category": "Tennis Shirt",
         "tshirt_price": "24",
         "tshirt_quantity": 4,
         "user_agent": "Mozilla/5.0 (Windows NT 6.1| WOW64) AppleWebKit/537.36 (KHTML, like Gecko) Chrome/56.0.2924.87 Safa…",
         "_deepnote_index_column": 2893
        },
        {
         "customer_id": "989355",
         "order_date": "18/01/2017",
         "order_id": "HTS-989355-0004",
         "pages_visited": 4,
         "tshirt_category": "Tennis Shirt",
         "tshirt_price": "24",
         "tshirt_quantity": 2,
         "user_agent": "Mozilla/5.0 (Windows NT 6.1| WOW64) AppleWebKit/537.36 (KHTML, like Gecko) Chrome/56.0.2924.87 Safa…",
         "_deepnote_index_column": 2894
        },
        {
         "customer_id": "86618",
         "order_date": "16/10/2015",
         "order_id": "HTS-086618-0006",
         "pages_visited": 6,
         "tshirt_category": "Tennis Shirt",
         "tshirt_price": "24",
         "tshirt_quantity": 2,
         "user_agent": "Mozilla/5.0 (Windows NT 6.1| WOW64) AppleWebKit/537.36 (KHTML, like Gecko) Chrome/56.0.2924.87 Safa…",
         "_deepnote_index_column": 2895
        },
        {
         "customer_id": "72488",
         "order_date": "22/09/2014",
         "order_id": "HTS-072488-0002",
         "pages_visited": 8,
         "tshirt_category": "Tennis Shirt",
         "tshirt_price": "24",
         "tshirt_quantity": 1,
         "user_agent": "Mozilla/5.0 (Windows NT 6.1| WOW64) AppleWebKit/537.36 (KHTML, like Gecko) Chrome/56.0.2924.87 Safa…",
         "_deepnote_index_column": 2896
        },
        {
         "customer_id": "744898",
         "order_date": "18/02/2015",
         "order_id": "HTS-744898-0003",
         "pages_visited": 8,
         "tshirt_category": "Tennis Shirt",
         "tshirt_price": "24",
         "tshirt_quantity": 2,
         "user_agent": "Mozilla/5.0 (Windows NT 6.1| WOW64) AppleWebKit/537.36 (KHTML, like Gecko) Chrome/56.0.2924.87 Safa…",
         "_deepnote_index_column": 2897
        },
        {
         "customer_id": "27163",
         "order_date": "03/12/2015",
         "order_id": "HTS-027163-0003",
         "pages_visited": 11,
         "tshirt_category": "Tennis Shirt",
         "tshirt_price": "24",
         "tshirt_quantity": 1,
         "user_agent": "Mozilla/5.0 (Windows NT 6.1| WOW64) AppleWebKit/537.36 (KHTML, like Gecko) Chrome/56.0.2924.87 Safa…",
         "_deepnote_index_column": 2898
        },
        {
         "customer_id": "8nc81b",
         "order_date": "25/02/2016",
         "order_id": "HTS-8nc81b-0002",
         "pages_visited": 12,
         "tshirt_category": "Tennis Shirt",
         "tshirt_price": "24",
         "tshirt_quantity": 4,
         "user_agent": "Mozilla/5.0 (Windows NT 6.1| WOW64) AppleWebKit/537.36 (KHTML, like Gecko) Chrome/56.0.2924.87 Safa…",
         "_deepnote_index_column": 2899
        },
        {
         "customer_id": "tq6ry2",
         "order_date": "05/01/2017",
         "order_id": "HTS-tq6ry2-0002",
         "pages_visited": 13,
         "tshirt_category": "Tennis Shirt",
         "tshirt_price": "24",
         "tshirt_quantity": 1,
         "user_agent": "Mozilla/5.0 (Windows NT 6.1| WOW64) AppleWebKit/537.36 (KHTML, like Gecko) Chrome/56.0.2924.87 Safa…",
         "_deepnote_index_column": 2900
        },
        {
         "customer_id": "62489",
         "order_date": "22/12/2013",
         "order_id": "HTS-062489-0001",
         "pages_visited": 18,
         "tshirt_category": "Tennis Shirt",
         "tshirt_price": "24",
         "tshirt_quantity": 1,
         "user_agent": "Mozilla/5.0 (Windows NT 6.1| WOW64) AppleWebKit/537.36 (KHTML, like Gecko) Chrome/56.0.2924.87 Safa…",
         "_deepnote_index_column": 2901
        },
        {
         "customer_id": "672344",
         "order_date": "19/11/2016",
         "order_id": "HTS-672344-0005",
         "pages_visited": 5,
         "tshirt_category": "Tennis Shirt",
         "tshirt_price": "24",
         "tshirt_quantity": 2,
         "user_agent": "Mozilla/5.0 (Windows NT 6.1| WOW64| rv:51.0) Gecko/20100101 Firefox/51.0",
         "_deepnote_index_column": 2902
        },
        {
         "customer_id": "763981",
         "order_date": "25/06/2015",
         "order_id": "HTS-763981-0002",
         "pages_visited": 7,
         "tshirt_category": "Tennis Shirt",
         "tshirt_price": "24",
         "tshirt_quantity": 5,
         "user_agent": "Mozilla/5.0 (Windows NT 6.1| WOW64| rv:51.0) Gecko/20100101 Firefox/51.0",
         "_deepnote_index_column": 2903
        },
        {
         "customer_id": "676955",
         "order_date": "25/12/2014",
         "order_id": "HTS-676955-0001",
         "pages_visited": 9,
         "tshirt_category": "Tennis Shirt",
         "tshirt_price": "24",
         "tshirt_quantity": 4,
         "user_agent": "Mozilla/5.0 (Windows NT 6.1| WOW64| rv:51.0) Gecko/20100101 Firefox/51.0",
         "_deepnote_index_column": 2904
        },
        {
         "customer_id": "278313",
         "order_date": "09/04/2016",
         "order_id": "HTS-278313-0004",
         "pages_visited": 15,
         "tshirt_category": "Tennis Shirt",
         "tshirt_price": "24",
         "tshirt_quantity": 13,
         "user_agent": "Mozilla/5.0 (Windows NT 6.1| WOW64| rv:51.0) Gecko/20100101 Firefox/51.0",
         "_deepnote_index_column": 2905
        },
        {
         "customer_id": "el0sj8",
         "order_date": "12/01/2017",
         "order_id": "HTS-el0sj8-0004",
         "pages_visited": 6,
         "tshirt_category": "Tennis Shirt",
         "tshirt_price": "24",
         "tshirt_quantity": 1,
         "user_agent": "Mozilla/5.0 (Windows NT 6.1| Win64| x64) AppleWebKit/537.36 (KHTML, like Gecko) Chrome/56.0.2924.87…",
         "_deepnote_index_column": 2906
        },
        {
         "customer_id": "545790",
         "order_date": "16/07/2015",
         "order_id": "HTS-545790-0005",
         "pages_visited": 6,
         "tshirt_category": "Tennis Shirt",
         "tshirt_price": "24",
         "tshirt_quantity": 3,
         "user_agent": "Mozilla/5.0 (Windows NT 6.1| Win64| x64) AppleWebKit/537.36 (KHTML, like Gecko) Chrome/56.0.2924.87…",
         "_deepnote_index_column": 2907
        },
        {
         "customer_id": "585862",
         "order_date": "19/11/2015",
         "order_id": "HTS-585862-0004",
         "pages_visited": 7,
         "tshirt_category": "Tennis Shirt",
         "tshirt_price": "24",
         "tshirt_quantity": 14,
         "user_agent": "Mozilla/5.0 (Windows NT 6.1| Win64| x64) AppleWebKit/537.36 (KHTML, like Gecko) Chrome/56.0.2924.87…",
         "_deepnote_index_column": 2908
        },
        {
         "customer_id": "585862",
         "order_date": "17/02/2015",
         "order_id": "HTS-585862-0003",
         "pages_visited": 8,
         "tshirt_category": "Tennis Shirt",
         "tshirt_price": "24",
         "tshirt_quantity": 18,
         "user_agent": "Mozilla/5.0 (Windows NT 6.1| Win64| x64) AppleWebKit/537.36 (KHTML, like Gecko) Chrome/56.0.2924.87…",
         "_deepnote_index_column": 2909
        },
        {
         "customer_id": "539658",
         "order_date": "29/12/2015",
         "order_id": "HTS-539658-0003",
         "pages_visited": 9,
         "tshirt_category": "Tennis Shirt",
         "tshirt_price": "24",
         "tshirt_quantity": 6,
         "user_agent": "Mozilla/5.0 (Windows NT 6.1| Win64| x64) AppleWebKit/537.36 (KHTML, like Gecko) Chrome/56.0.2924.87…",
         "_deepnote_index_column": 2910
        },
        {
         "customer_id": "187195",
         "order_date": "30/03/2016",
         "order_id": "HTS-187195-0003",
         "pages_visited": 10,
         "tshirt_category": "Tennis Shirt",
         "tshirt_price": "24",
         "tshirt_quantity": 5,
         "user_agent": "Mozilla/5.0 (Windows NT 6.1| Win64| x64) AppleWebKit/537.36 (KHTML, like Gecko) Chrome/56.0.2924.87…",
         "_deepnote_index_column": 2911
        },
        {
         "customer_id": "449243",
         "order_date": "09/06/2016",
         "order_id": "HTS-449243-0002",
         "pages_visited": 11,
         "tshirt_category": "Tennis Shirt",
         "tshirt_price": "24",
         "tshirt_quantity": 1,
         "user_agent": "Mozilla/5.0 (Windows NT 6.1| Win64| x64) AppleWebKit/537.36 (KHTML, like Gecko) Chrome/56.0.2924.87…",
         "_deepnote_index_column": 2912
        },
        {
         "customer_id": "83318",
         "order_date": "01/08/2016",
         "order_id": "HTS-083318-0005",
         "pages_visited": 11,
         "tshirt_category": "Tennis Shirt",
         "tshirt_price": "24",
         "tshirt_quantity": 2,
         "user_agent": "Mozilla/5.0 (Windows NT 6.1| Win64| x64) AppleWebKit/537.36 (KHTML, like Gecko) Chrome/56.0.2924.87…",
         "_deepnote_index_column": 2913
        },
        {
         "customer_id": "453848",
         "order_date": "18/07/2013",
         "order_id": "HTS-453848-0001",
         "pages_visited": 11,
         "tshirt_category": "Tennis Shirt",
         "tshirt_price": "24",
         "tshirt_quantity": 3,
         "user_agent": "Mozilla/5.0 (Windows NT 6.1| Win64| x64) AppleWebKit/537.36 (KHTML, like Gecko) Chrome/56.0.2924.87…",
         "_deepnote_index_column": 2914
        },
        {
         "customer_id": "83318",
         "order_date": "28/02/2015",
         "order_id": "HTS-083318-0003",
         "pages_visited": 12,
         "tshirt_category": "Tennis Shirt",
         "tshirt_price": "24",
         "tshirt_quantity": 3,
         "user_agent": "Mozilla/5.0 (Windows NT 6.1| Win64| x64) AppleWebKit/537.36 (KHTML, like Gecko) Chrome/56.0.2924.87…",
         "_deepnote_index_column": 2915
        },
        {
         "customer_id": "287913",
         "order_date": "25/12/2014",
         "order_id": "HTS-287913-0002",
         "pages_visited": 11,
         "tshirt_category": "Tennis Shirt",
         "tshirt_price": "24",
         "tshirt_quantity": 1,
         "user_agent": "Mozilla/5.0 (Windows NT 6.3| WOW64) AppleWebKit/537.36 (KHTML, like Gecko) Chrome/56.0.2924.87 Safa…",
         "_deepnote_index_column": 2916
        },
        {
         "customer_id": "534599",
         "order_date": "23/06/2014",
         "order_id": "HTS-534599-0001",
         "pages_visited": 9,
         "tshirt_category": "Tennis Shirt",
         "tshirt_price": "24",
         "tshirt_quantity": 3,
         "user_agent": "Mozilla/5.0 (X11| Linux x86_64) AppleWebKit/537.36 (KHTML, like Gecko) Chrome/56.0.2924.87 Safari/5…",
         "_deepnote_index_column": 2917
        },
        {
         "customer_id": "467894",
         "order_date": "14/10/2015",
         "order_id": "HTS-467894-0003",
         "pages_visited": 11,
         "tshirt_category": "Tennis Shirt",
         "tshirt_price": "24",
         "tshirt_quantity": 1,
         "user_agent": "Mozilla/5.0 (X11| Linux x86_64) AppleWebKit/537.36 (KHTML, like Gecko) Chrome/56.0.2924.87 Safari/5…",
         "_deepnote_index_column": 2918
        },
        {
         "customer_id": "371776",
         "order_date": "04/05/2015",
         "order_id": "HTS-371776-0002",
         "pages_visited": 16,
         "tshirt_category": "Tennis Shirt",
         "tshirt_price": "24",
         "tshirt_quantity": 2,
         "user_agent": "Mozilla/5.0 (X11| Linux x86_64) AppleWebKit/537.36 (KHTML, like Gecko) Chrome/56.0.2924.87 Safari/5…",
         "_deepnote_index_column": 2919
        },
        {
         "customer_id": "0b59cn",
         "order_date": "12/12/2016",
         "order_id": "HTS-0b59cn-0004",
         "pages_visited": 8,
         "tshirt_category": "Tennis Shirt",
         "tshirt_price": "24",
         "tshirt_quantity": 5,
         "user_agent": "Mozilla/5.0 (X11| Ubuntu| Linux x86_64| rv:51.0) Gecko/20100101 Firefox/51.0",
         "_deepnote_index_column": 2920
        },
        {
         "customer_id": "357322",
         "order_date": "10/12/2016",
         "order_id": "HTS-357322-0007",
         "pages_visited": 5,
         "tshirt_category": "Tennis Shirt",
         "tshirt_price": "24",
         "tshirt_quantity": 3,
         "user_agent": "Mozilla/5.0 (Windows NT 10.0| WOW64) AppleWebKit/537.36 (KHTML, like Gecko) Chrome/56.0.2924.87 Saf…",
         "_deepnote_index_column": 2921
        },
        {
         "customer_id": "l8c64t",
         "order_date": "01/03/2017",
         "order_id": "HTS-l8c64t-0003",
         "pages_visited": 7,
         "tshirt_category": "Tennis Shirt",
         "tshirt_price": "24",
         "tshirt_quantity": 2,
         "user_agent": "Mozilla/5.0 (Windows NT 10.0| WOW64| rv:52.0) Gecko/20100101 Firefox/52.0",
         "_deepnote_index_column": 2922
        },
        {
         "customer_id": "946557",
         "order_date": "21/07/2016",
         "order_id": "HTS-946557-0005",
         "pages_visited": 5,
         "tshirt_category": "Tennis Shirt",
         "tshirt_price": "24",
         "tshirt_quantity": 2,
         "user_agent": "Mozilla/5.0 (Windows NT 10.0| Win64| x64) AppleWebKit/537.36 (KHTML, like Gecko) Chrome/56.0.2924.8…",
         "_deepnote_index_column": 2923
        },
        {
         "customer_id": "1bhyje",
         "order_date": "22/06/2016",
         "order_id": "HTS-1bhyje-0002",
         "pages_visited": 17,
         "tshirt_category": "Tennis Shirt",
         "tshirt_price": "24",
         "tshirt_quantity": 1,
         "user_agent": "Mozilla/5.0 (X11| Linux x86_64) AppleWebKit/537.36 (KHTML, like Gecko) Chrome/56.0.2924.87 Safari/5…",
         "_deepnote_index_column": 2924
        }
       ]
      },
      "text/plain": "     customer_id  order_date         order_id  pages_visited tshirt_category  \\\n0         7uruq8  09/06/2016  HTS-7uruq8-0001             11    Tennis Shirt   \n1         428094  18/11/2016  HTS-428094-0002             13    Tennis Shirt   \n2         426724  19/08/2015  HTS-426724-0003             14    Tennis Shirt   \n3         428094  29/02/2016  HTS-428094-0001             19    Tennis Shirt   \n4         638837  19/12/2013  HTS-638837-0001             13    Tennis Shirt   \n...          ...         ...              ...            ...             ...   \n2920      0b59cn  12/12/2016  HTS-0b59cn-0004              8    Tennis Shirt   \n2921      357322  10/12/2016  HTS-357322-0007              5    Tennis Shirt   \n2922      l8c64t  01/03/2017  HTS-l8c64t-0003              7    Tennis Shirt   \n2923      946557  21/07/2016  HTS-946557-0005              5    Tennis Shirt   \n2924      1bhyje  22/06/2016  HTS-1bhyje-0002             17    Tennis Shirt   \n\n     tshirt_price  tshirt_quantity  \\\n0              24                1   \n1              24                1   \n2              24               16   \n3              24                3   \n4              24                1   \n...           ...              ...   \n2920           24                5   \n2921           24                3   \n2922           24                2   \n2923           24                2   \n2924           24                1   \n\n                                             user_agent  \n0     Mozilla/5.0 (Windows NT 10.0| WOW64| rv:51.0) ...  \n1     Mozilla/5.0 (Windows NT 10.0| WOW64| rv:51.0) ...  \n2     Mozilla/5.0 (Windows NT 10.0| WOW64| rv:51.0) ...  \n3     Mozilla/5.0 (Windows NT 10.0| WOW64| rv:51.0) ...  \n4     Mozilla/5.0 (Windows NT 10.0| WOW64| rv:52.0) ...  \n...                                                 ...  \n2920  Mozilla/5.0 (X11| Ubuntu| Linux x86_64| rv:51....  \n2921  Mozilla/5.0 (Windows NT 10.0| WOW64) AppleWebK...  \n2922  Mozilla/5.0 (Windows NT 10.0| WOW64| rv:52.0) ...  \n2923  Mozilla/5.0 (Windows NT 10.0| Win64| x64) Appl...  \n2924  Mozilla/5.0 (X11| Linux x86_64) AppleWebKit/53...  \n\n[2925 rows x 8 columns]",
      "text/html": "<div>\n<style scoped>\n    .dataframe tbody tr th:only-of-type {\n        vertical-align: middle;\n    }\n\n    .dataframe tbody tr th {\n        vertical-align: top;\n    }\n\n    .dataframe thead th {\n        text-align: right;\n    }\n</style>\n<table border=\"1\" class=\"dataframe\">\n  <thead>\n    <tr style=\"text-align: right;\">\n      <th></th>\n      <th>customer_id</th>\n      <th>order_date</th>\n      <th>order_id</th>\n      <th>pages_visited</th>\n      <th>tshirt_category</th>\n      <th>tshirt_price</th>\n      <th>tshirt_quantity</th>\n      <th>user_agent</th>\n    </tr>\n  </thead>\n  <tbody>\n    <tr>\n      <th>0</th>\n      <td>7uruq8</td>\n      <td>09/06/2016</td>\n      <td>HTS-7uruq8-0001</td>\n      <td>11</td>\n      <td>Tennis Shirt</td>\n      <td>24</td>\n      <td>1</td>\n      <td>Mozilla/5.0 (Windows NT 10.0| WOW64| rv:51.0) ...</td>\n    </tr>\n    <tr>\n      <th>1</th>\n      <td>428094</td>\n      <td>18/11/2016</td>\n      <td>HTS-428094-0002</td>\n      <td>13</td>\n      <td>Tennis Shirt</td>\n      <td>24</td>\n      <td>1</td>\n      <td>Mozilla/5.0 (Windows NT 10.0| WOW64| rv:51.0) ...</td>\n    </tr>\n    <tr>\n      <th>2</th>\n      <td>426724</td>\n      <td>19/08/2015</td>\n      <td>HTS-426724-0003</td>\n      <td>14</td>\n      <td>Tennis Shirt</td>\n      <td>24</td>\n      <td>16</td>\n      <td>Mozilla/5.0 (Windows NT 10.0| WOW64| rv:51.0) ...</td>\n    </tr>\n    <tr>\n      <th>3</th>\n      <td>428094</td>\n      <td>29/02/2016</td>\n      <td>HTS-428094-0001</td>\n      <td>19</td>\n      <td>Tennis Shirt</td>\n      <td>24</td>\n      <td>3</td>\n      <td>Mozilla/5.0 (Windows NT 10.0| WOW64| rv:51.0) ...</td>\n    </tr>\n    <tr>\n      <th>4</th>\n      <td>638837</td>\n      <td>19/12/2013</td>\n      <td>HTS-638837-0001</td>\n      <td>13</td>\n      <td>Tennis Shirt</td>\n      <td>24</td>\n      <td>1</td>\n      <td>Mozilla/5.0 (Windows NT 10.0| WOW64| rv:52.0) ...</td>\n    </tr>\n    <tr>\n      <th>...</th>\n      <td>...</td>\n      <td>...</td>\n      <td>...</td>\n      <td>...</td>\n      <td>...</td>\n      <td>...</td>\n      <td>...</td>\n      <td>...</td>\n    </tr>\n    <tr>\n      <th>2920</th>\n      <td>0b59cn</td>\n      <td>12/12/2016</td>\n      <td>HTS-0b59cn-0004</td>\n      <td>8</td>\n      <td>Tennis Shirt</td>\n      <td>24</td>\n      <td>5</td>\n      <td>Mozilla/5.0 (X11| Ubuntu| Linux x86_64| rv:51....</td>\n    </tr>\n    <tr>\n      <th>2921</th>\n      <td>357322</td>\n      <td>10/12/2016</td>\n      <td>HTS-357322-0007</td>\n      <td>5</td>\n      <td>Tennis Shirt</td>\n      <td>24</td>\n      <td>3</td>\n      <td>Mozilla/5.0 (Windows NT 10.0| WOW64) AppleWebK...</td>\n    </tr>\n    <tr>\n      <th>2922</th>\n      <td>l8c64t</td>\n      <td>01/03/2017</td>\n      <td>HTS-l8c64t-0003</td>\n      <td>7</td>\n      <td>Tennis Shirt</td>\n      <td>24</td>\n      <td>2</td>\n      <td>Mozilla/5.0 (Windows NT 10.0| WOW64| rv:52.0) ...</td>\n    </tr>\n    <tr>\n      <th>2923</th>\n      <td>946557</td>\n      <td>21/07/2016</td>\n      <td>HTS-946557-0005</td>\n      <td>5</td>\n      <td>Tennis Shirt</td>\n      <td>24</td>\n      <td>2</td>\n      <td>Mozilla/5.0 (Windows NT 10.0| Win64| x64) Appl...</td>\n    </tr>\n    <tr>\n      <th>2924</th>\n      <td>1bhyje</td>\n      <td>22/06/2016</td>\n      <td>HTS-1bhyje-0002</td>\n      <td>17</td>\n      <td>Tennis Shirt</td>\n      <td>24</td>\n      <td>1</td>\n      <td>Mozilla/5.0 (X11| Linux x86_64) AppleWebKit/53...</td>\n    </tr>\n  </tbody>\n</table>\n<p>2925 rows × 8 columns</p>\n</div>"
     },
     "metadata": {}
    }
   ],
   "execution_count": null
  },
  {
   "cell_type": "markdown",
   "source": "## 1.2 Loading from a Database",
   "metadata": {
    "tags": [],
    "is_collapsed": false,
    "cell_id": "00009-968107a8-a9b7-49e2-9b49-1a25adba4eb9",
    "deepnote_cell_type": "text-cell-h2"
   }
  },
  {
   "cell_type": "markdown",
   "source": "<div class=\"alert alert-block alert-info\">\n<b><p style=\"color:red;\">Exercice 3 : Load the data from the SQL Database</p></b>\nYou will need the function <b>pandas.read_sql</b> : <a href=\"https://pandas.pydata.org/pandas-docs/stable/reference/api/pandas.read_sql.html\">https://pandas.pydata.org/pandas-docs/stable/reference/api/pandas.read_sql.html</a>\n\n\n",
   "metadata": {
    "tags": [],
    "cell_id": "00005-d68ba425-364a-45ab-a20d-ee8d6cee2a7c",
    "deepnote_cell_type": "markdown"
   }
  },
  {
   "cell_type": "code",
   "source": "import sqlite3\n\n# Read sqlite query results into a pandas DataFrame\ncon = sqlite3.connect(\"Country.db\")\ndf_country = pd.read_sql_query(\"SELECT * from Country\", con)\ncon.close()",
   "metadata": {
    "tags": [],
    "cell_id": "00032-42773e84-a174-4f53-9a06-9b733b4e8d0c",
    "deepnote_to_be_reexecuted": false,
    "source_hash": "6d681ec9",
    "execution_start": 1631574333183,
    "execution_millis": 17,
    "deepnote_cell_type": "code"
   },
   "outputs": [],
   "execution_count": 4
  },
  {
   "cell_type": "markdown",
   "source": "🔴IMPORTANT❗🔴 Do not forget to look at your data !",
   "metadata": {
    "tags": [],
    "cell_id": "00016-fd454eab-92b6-45c4-98d9-74df57f86655",
    "deepnote_cell_type": "markdown"
   }
  },
  {
   "cell_type": "code",
   "source": "# Verify that result of SQL query is stored in the dataframe\ndf_country",
   "metadata": {
    "tags": [],
    "cell_id": "00032-c5cefec8-c73a-4343-bb70-e72b0b28c6ab",
    "deepnote_to_be_reexecuted": false,
    "source_hash": "b2a55b7a",
    "execution_start": 1631574337788,
    "execution_millis": 74,
    "deepnote_cell_type": "code"
   },
   "outputs": [
    {
     "output_type": "execute_result",
     "execution_count": 5,
     "data": {
      "application/vnd.deepnote.dataframe.v2+json": {
       "row_count": 254,
       "column_count": 6,
       "columns": [
        {
         "name": "Continent_Name",
         "dtype": "object",
         "stats": {
          "unique_count": 7,
          "nan_count": 0,
          "categories": [
           {
            "name": "Africa",
            "count": 58
           },
           {
            "name": "Europe",
            "count": 57
           },
           {
            "name": "5 others",
            "count": 139
           }
          ]
         }
        },
        {
         "name": "Continent_Code",
         "dtype": "object",
         "stats": {
          "unique_count": 7,
          "nan_count": 0,
          "categories": [
           {
            "name": "AF",
            "count": 58
           },
           {
            "name": "EU",
            "count": 57
           },
           {
            "name": "5 others",
            "count": 139
           }
          ]
         }
        },
        {
         "name": "Country_Name",
         "dtype": "object",
         "stats": {
          "unique_count": 254,
          "nan_count": 0,
          "categories": [
           {
            "name": "Afghanistan, Islamic Republic of",
            "count": 1
           },
           {
            "name": "Albania, Republic of",
            "count": 1
           },
           {
            "name": "252 others",
            "count": 252
           }
          ]
         }
        },
        {
         "name": "Two_Letter_Country_Code",
         "dtype": "object",
         "stats": {
          "unique_count": 254,
          "nan_count": 0,
          "categories": [
           {
            "name": "AF",
            "count": 1
           },
           {
            "name": "AL",
            "count": 1
           },
           {
            "name": "252 others",
            "count": 252
           }
          ]
         }
        },
        {
         "name": "Three_Letter_Country_Code",
         "dtype": "object",
         "stats": {
          "unique_count": 250,
          "nan_count": 4,
          "categories": [
           {
            "name": "AFG",
            "count": 1
           },
           {
            "name": "249 others",
            "count": 249
           },
           {
            "name": "Missing",
            "count": 4
           }
          ]
         }
        },
        {
         "name": "Country_Number",
         "dtype": "float64",
         "stats": {
          "unique_count": 250,
          "nan_count": 4,
          "min": "4.0",
          "max": "894.0",
          "histogram": [
           {
            "bin_start": 4,
            "bin_end": 93,
            "count": 29
           },
           {
            "bin_start": 93,
            "bin_end": 182,
            "count": 23
           },
           {
            "bin_start": 182,
            "bin_end": 271,
            "count": 30
           },
           {
            "bin_start": 271,
            "bin_end": 360,
            "count": 21
           },
           {
            "bin_start": 360,
            "bin_end": 449,
            "count": 26
           },
           {
            "bin_start": 449,
            "bin_end": 538,
            "count": 27
           },
           {
            "bin_start": 538,
            "bin_end": 627,
            "count": 25
           },
           {
            "bin_start": 627,
            "bin_end": 716,
            "count": 27
           },
           {
            "bin_start": 716,
            "bin_end": 805,
            "count": 25
           },
           {
            "bin_start": 805,
            "bin_end": 894,
            "count": 17
           }
          ]
         }
        },
        {
         "name": "_deepnote_index_column",
         "dtype": "int64"
        }
       ],
       "rows_top": [
        {
         "Continent_Name": "Asia",
         "Continent_Code": "AS",
         "Country_Name": "Afghanistan, Islamic Republic of",
         "Two_Letter_Country_Code": "AF",
         "Three_Letter_Country_Code": "AFG",
         "Country_Number": 4,
         "_deepnote_index_column": 0
        },
        {
         "Continent_Name": "Europe",
         "Continent_Code": "EU",
         "Country_Name": "Albania, Republic of",
         "Two_Letter_Country_Code": "AL",
         "Three_Letter_Country_Code": "ALB",
         "Country_Number": 8,
         "_deepnote_index_column": 1
        },
        {
         "Continent_Name": "Antarctica",
         "Continent_Code": "AN",
         "Country_Name": "Antarctica (the territory South of 60 deg S)",
         "Two_Letter_Country_Code": "AQ",
         "Three_Letter_Country_Code": "ATA",
         "Country_Number": 10,
         "_deepnote_index_column": 2
        },
        {
         "Continent_Name": "Africa",
         "Continent_Code": "AF",
         "Country_Name": "Algeria, People's Democratic Republic of",
         "Two_Letter_Country_Code": "DZ",
         "Three_Letter_Country_Code": "DZA",
         "Country_Number": 12,
         "_deepnote_index_column": 3
        },
        {
         "Continent_Name": "Oceania",
         "Continent_Code": "OC",
         "Country_Name": "American Samoa",
         "Two_Letter_Country_Code": "AS",
         "Three_Letter_Country_Code": "ASM",
         "Country_Number": 16,
         "_deepnote_index_column": 4
        },
        {
         "Continent_Name": "Europe",
         "Continent_Code": "EU",
         "Country_Name": "Andorra, Principality of",
         "Two_Letter_Country_Code": "AD",
         "Three_Letter_Country_Code": "AND",
         "Country_Number": 20,
         "_deepnote_index_column": 5
        },
        {
         "Continent_Name": "Africa",
         "Continent_Code": "AF",
         "Country_Name": "Angola, Republic of",
         "Two_Letter_Country_Code": "AO",
         "Three_Letter_Country_Code": "AGO",
         "Country_Number": 24,
         "_deepnote_index_column": 6
        },
        {
         "Continent_Name": "North America",
         "Continent_Code": "NA",
         "Country_Name": "Antigua and Barbuda",
         "Two_Letter_Country_Code": "AG",
         "Three_Letter_Country_Code": "ATG",
         "Country_Number": 28,
         "_deepnote_index_column": 7
        },
        {
         "Continent_Name": "Europe",
         "Continent_Code": "EU",
         "Country_Name": "Azerbaijan, Republic of",
         "Two_Letter_Country_Code": "AZ",
         "Three_Letter_Country_Code": "AZE",
         "Country_Number": 31,
         "_deepnote_index_column": 8
        },
        {
         "Continent_Name": "South America",
         "Continent_Code": "SA",
         "Country_Name": "Argentina, Argentine Republic",
         "Two_Letter_Country_Code": "AR",
         "Three_Letter_Country_Code": "ARG",
         "Country_Number": 32,
         "_deepnote_index_column": 9
        },
        {
         "Continent_Name": "Oceania",
         "Continent_Code": "OC",
         "Country_Name": "Australia, Commonwealth of",
         "Two_Letter_Country_Code": "AU",
         "Three_Letter_Country_Code": "AUS",
         "Country_Number": 36,
         "_deepnote_index_column": 10
        },
        {
         "Continent_Name": "Europe",
         "Continent_Code": "EU",
         "Country_Name": "Austria, Republic of",
         "Two_Letter_Country_Code": "AT",
         "Three_Letter_Country_Code": "AUT",
         "Country_Number": 40,
         "_deepnote_index_column": 11
        },
        {
         "Continent_Name": "North America",
         "Continent_Code": "NA",
         "Country_Name": "Bahamas, Commonwealth of the",
         "Two_Letter_Country_Code": "BS",
         "Three_Letter_Country_Code": "BHS",
         "Country_Number": 44,
         "_deepnote_index_column": 12
        },
        {
         "Continent_Name": "Asia",
         "Continent_Code": "AS",
         "Country_Name": "Bahrain, Kingdom of",
         "Two_Letter_Country_Code": "BH",
         "Three_Letter_Country_Code": "BHR",
         "Country_Number": 48,
         "_deepnote_index_column": 13
        },
        {
         "Continent_Name": "Asia",
         "Continent_Code": "AS",
         "Country_Name": "Bangladesh, People's Republic of",
         "Two_Letter_Country_Code": "BD",
         "Three_Letter_Country_Code": "BGD",
         "Country_Number": 50,
         "_deepnote_index_column": 14
        },
        {
         "Continent_Name": "Europe",
         "Continent_Code": "EU",
         "Country_Name": "Armenia, Republic of",
         "Two_Letter_Country_Code": "AM",
         "Three_Letter_Country_Code": "ARM",
         "Country_Number": 51,
         "_deepnote_index_column": 15
        },
        {
         "Continent_Name": "North America",
         "Continent_Code": "NA",
         "Country_Name": "Barbados",
         "Two_Letter_Country_Code": "BB",
         "Three_Letter_Country_Code": "BRB",
         "Country_Number": 52,
         "_deepnote_index_column": 16
        },
        {
         "Continent_Name": "Europe",
         "Continent_Code": "EU",
         "Country_Name": "Belgium, Kingdom of",
         "Two_Letter_Country_Code": "BE",
         "Three_Letter_Country_Code": "BEL",
         "Country_Number": 56,
         "_deepnote_index_column": 17
        },
        {
         "Continent_Name": "North America",
         "Continent_Code": "NA",
         "Country_Name": "Bermuda",
         "Two_Letter_Country_Code": "BM",
         "Three_Letter_Country_Code": "BMU",
         "Country_Number": 60,
         "_deepnote_index_column": 18
        },
        {
         "Continent_Name": "Asia",
         "Continent_Code": "AS",
         "Country_Name": "Bhutan, Kingdom of",
         "Two_Letter_Country_Code": "BT",
         "Three_Letter_Country_Code": "BTN",
         "Country_Number": 64,
         "_deepnote_index_column": 19
        },
        {
         "Continent_Name": "South America",
         "Continent_Code": "SA",
         "Country_Name": "Bolivia, Republic of",
         "Two_Letter_Country_Code": "BO",
         "Three_Letter_Country_Code": "BOL",
         "Country_Number": 68,
         "_deepnote_index_column": 20
        },
        {
         "Continent_Name": "Europe",
         "Continent_Code": "EU",
         "Country_Name": "Bosnia and Herzegovina",
         "Two_Letter_Country_Code": "BA",
         "Three_Letter_Country_Code": "BIH",
         "Country_Number": 70,
         "_deepnote_index_column": 21
        },
        {
         "Continent_Name": "Africa",
         "Continent_Code": "AF",
         "Country_Name": "Botswana, Republic of",
         "Two_Letter_Country_Code": "BW",
         "Three_Letter_Country_Code": "BWA",
         "Country_Number": 72,
         "_deepnote_index_column": 22
        },
        {
         "Continent_Name": "Antarctica",
         "Continent_Code": "AN",
         "Country_Name": "Bouvet Island (Bouvetoya)",
         "Two_Letter_Country_Code": "BV",
         "Three_Letter_Country_Code": "BVT",
         "Country_Number": 74,
         "_deepnote_index_column": 23
        },
        {
         "Continent_Name": "South America",
         "Continent_Code": "SA",
         "Country_Name": "Brazil, Federative Republic of",
         "Two_Letter_Country_Code": "BR",
         "Three_Letter_Country_Code": "BRA",
         "Country_Number": 76,
         "_deepnote_index_column": 24
        },
        {
         "Continent_Name": "North America",
         "Continent_Code": "NA",
         "Country_Name": "Belize",
         "Two_Letter_Country_Code": "BZ",
         "Three_Letter_Country_Code": "BLZ",
         "Country_Number": 84,
         "_deepnote_index_column": 25
        },
        {
         "Continent_Name": "Asia",
         "Continent_Code": "AS",
         "Country_Name": "British Indian Ocean Territory (Chagos Archipelago)",
         "Two_Letter_Country_Code": "IO",
         "Three_Letter_Country_Code": "IOT",
         "Country_Number": 86,
         "_deepnote_index_column": 26
        },
        {
         "Continent_Name": "Oceania",
         "Continent_Code": "OC",
         "Country_Name": "Solomon Islands",
         "Two_Letter_Country_Code": "SB",
         "Three_Letter_Country_Code": "SLB",
         "Country_Number": 90,
         "_deepnote_index_column": 27
        },
        {
         "Continent_Name": "North America",
         "Continent_Code": "NA",
         "Country_Name": "British Virgin Islands",
         "Two_Letter_Country_Code": "VG",
         "Three_Letter_Country_Code": "VGB",
         "Country_Number": 92,
         "_deepnote_index_column": 28
        },
        {
         "Continent_Name": "Asia",
         "Continent_Code": "AS",
         "Country_Name": "Brunei Darussalam",
         "Two_Letter_Country_Code": "BN",
         "Three_Letter_Country_Code": "BRN",
         "Country_Number": 96,
         "_deepnote_index_column": 29
        },
        {
         "Continent_Name": "Europe",
         "Continent_Code": "EU",
         "Country_Name": "Bulgaria, Republic of",
         "Two_Letter_Country_Code": "BG",
         "Three_Letter_Country_Code": "BGR",
         "Country_Number": 100,
         "_deepnote_index_column": 30
        },
        {
         "Continent_Name": "Asia",
         "Continent_Code": "AS",
         "Country_Name": "Myanmar, Union of",
         "Two_Letter_Country_Code": "MM",
         "Three_Letter_Country_Code": "MMR",
         "Country_Number": 104,
         "_deepnote_index_column": 31
        },
        {
         "Continent_Name": "Africa",
         "Continent_Code": "AF",
         "Country_Name": "Burundi, Republic of",
         "Two_Letter_Country_Code": "BI",
         "Three_Letter_Country_Code": "BDI",
         "Country_Number": 108,
         "_deepnote_index_column": 32
        },
        {
         "Continent_Name": "Europe",
         "Continent_Code": "EU",
         "Country_Name": "Belarus, Republic of",
         "Two_Letter_Country_Code": "BY",
         "Three_Letter_Country_Code": "BLR",
         "Country_Number": 112,
         "_deepnote_index_column": 33
        },
        {
         "Continent_Name": "Asia",
         "Continent_Code": "AS",
         "Country_Name": "Cambodia, Kingdom of",
         "Two_Letter_Country_Code": "KH",
         "Three_Letter_Country_Code": "KHM",
         "Country_Number": 116,
         "_deepnote_index_column": 34
        },
        {
         "Continent_Name": "Africa",
         "Continent_Code": "AF",
         "Country_Name": "Cameroon, Republic of",
         "Two_Letter_Country_Code": "CM",
         "Three_Letter_Country_Code": "CMR",
         "Country_Number": 120,
         "_deepnote_index_column": 35
        },
        {
         "Continent_Name": "North America",
         "Continent_Code": "NA",
         "Country_Name": "Canada",
         "Two_Letter_Country_Code": "CA",
         "Three_Letter_Country_Code": "CAN",
         "Country_Number": 124,
         "_deepnote_index_column": 36
        },
        {
         "Continent_Name": "Africa",
         "Continent_Code": "AF",
         "Country_Name": "Cape Verde, Republic of",
         "Two_Letter_Country_Code": "CV",
         "Three_Letter_Country_Code": "CPV",
         "Country_Number": 132,
         "_deepnote_index_column": 37
        },
        {
         "Continent_Name": "North America",
         "Continent_Code": "NA",
         "Country_Name": "Cayman Islands",
         "Two_Letter_Country_Code": "KY",
         "Three_Letter_Country_Code": "CYM",
         "Country_Number": 136,
         "_deepnote_index_column": 38
        },
        {
         "Continent_Name": "Africa",
         "Continent_Code": "AF",
         "Country_Name": "Central African Republic",
         "Two_Letter_Country_Code": "CF",
         "Three_Letter_Country_Code": "CAF",
         "Country_Number": 140,
         "_deepnote_index_column": 39
        },
        {
         "Continent_Name": "Asia",
         "Continent_Code": "AS",
         "Country_Name": "Sri Lanka, Democratic Socialist Republic of",
         "Two_Letter_Country_Code": "LK",
         "Three_Letter_Country_Code": "LKA",
         "Country_Number": 144,
         "_deepnote_index_column": 40
        },
        {
         "Continent_Name": "Africa",
         "Continent_Code": "AF",
         "Country_Name": "Chad, Republic of",
         "Two_Letter_Country_Code": "TD",
         "Three_Letter_Country_Code": "TCD",
         "Country_Number": 148,
         "_deepnote_index_column": 41
        },
        {
         "Continent_Name": "South America",
         "Continent_Code": "SA",
         "Country_Name": "Chile, Republic of",
         "Two_Letter_Country_Code": "CL",
         "Three_Letter_Country_Code": "CHL",
         "Country_Number": 152,
         "_deepnote_index_column": 42
        },
        {
         "Continent_Name": "Asia",
         "Continent_Code": "AS",
         "Country_Name": "China, People's Republic of",
         "Two_Letter_Country_Code": "CN",
         "Three_Letter_Country_Code": "CHN",
         "Country_Number": 156,
         "_deepnote_index_column": 43
        },
        {
         "Continent_Name": "Asia",
         "Continent_Code": "AS",
         "Country_Name": "Taiwan",
         "Two_Letter_Country_Code": "TW",
         "Three_Letter_Country_Code": "TWN",
         "Country_Number": 158,
         "_deepnote_index_column": 44
        },
        {
         "Continent_Name": "Asia",
         "Continent_Code": "AS",
         "Country_Name": "Christmas Island",
         "Two_Letter_Country_Code": "CX",
         "Three_Letter_Country_Code": "CXR",
         "Country_Number": 162,
         "_deepnote_index_column": 45
        },
        {
         "Continent_Name": "Asia",
         "Continent_Code": "AS",
         "Country_Name": "Cocos (Keeling) Islands",
         "Two_Letter_Country_Code": "CC",
         "Three_Letter_Country_Code": "CCK",
         "Country_Number": 166,
         "_deepnote_index_column": 46
        },
        {
         "Continent_Name": "South America",
         "Continent_Code": "SA",
         "Country_Name": "Colombia, Republic of",
         "Two_Letter_Country_Code": "CO",
         "Three_Letter_Country_Code": "COL",
         "Country_Number": 170,
         "_deepnote_index_column": 47
        },
        {
         "Continent_Name": "Africa",
         "Continent_Code": "AF",
         "Country_Name": "Comoros, Union of the",
         "Two_Letter_Country_Code": "KM",
         "Three_Letter_Country_Code": "COM",
         "Country_Number": 174,
         "_deepnote_index_column": 48
        },
        {
         "Continent_Name": "Africa",
         "Continent_Code": "AF",
         "Country_Name": "Mayotte",
         "Two_Letter_Country_Code": "YT",
         "Three_Letter_Country_Code": "MYT",
         "Country_Number": 175,
         "_deepnote_index_column": 49
        },
        {
         "Continent_Name": "Africa",
         "Continent_Code": "AF",
         "Country_Name": "Congo, Republic of the",
         "Two_Letter_Country_Code": "CG",
         "Three_Letter_Country_Code": "COG",
         "Country_Number": 178,
         "_deepnote_index_column": 50
        },
        {
         "Continent_Name": "Africa",
         "Continent_Code": "AF",
         "Country_Name": "Congo, Democratic Republic of the",
         "Two_Letter_Country_Code": "CD",
         "Three_Letter_Country_Code": "COD",
         "Country_Number": 180,
         "_deepnote_index_column": 51
        },
        {
         "Continent_Name": "Oceania",
         "Continent_Code": "OC",
         "Country_Name": "Cook Islands",
         "Two_Letter_Country_Code": "CK",
         "Three_Letter_Country_Code": "COK",
         "Country_Number": 184,
         "_deepnote_index_column": 52
        },
        {
         "Continent_Name": "North America",
         "Continent_Code": "NA",
         "Country_Name": "Costa Rica, Republic of",
         "Two_Letter_Country_Code": "CR",
         "Three_Letter_Country_Code": "CRI",
         "Country_Number": 188,
         "_deepnote_index_column": 53
        },
        {
         "Continent_Name": "Europe",
         "Continent_Code": "EU",
         "Country_Name": "Croatia, Republic of",
         "Two_Letter_Country_Code": "HR",
         "Three_Letter_Country_Code": "HRV",
         "Country_Number": 191,
         "_deepnote_index_column": 54
        },
        {
         "Continent_Name": "North America",
         "Continent_Code": "NA",
         "Country_Name": "Cuba, Republic of",
         "Two_Letter_Country_Code": "CU",
         "Three_Letter_Country_Code": "CUB",
         "Country_Number": 192,
         "_deepnote_index_column": 55
        },
        {
         "Continent_Name": "Europe",
         "Continent_Code": "EU",
         "Country_Name": "Cyprus, Republic of",
         "Two_Letter_Country_Code": "CY",
         "Three_Letter_Country_Code": "CYP",
         "Country_Number": 196,
         "_deepnote_index_column": 56
        },
        {
         "Continent_Name": "Europe",
         "Continent_Code": "EU",
         "Country_Name": "Czech Republic",
         "Two_Letter_Country_Code": "CZ",
         "Three_Letter_Country_Code": "CZE",
         "Country_Number": 203,
         "_deepnote_index_column": 57
        },
        {
         "Continent_Name": "Africa",
         "Continent_Code": "AF",
         "Country_Name": "Benin, Republic of",
         "Two_Letter_Country_Code": "BJ",
         "Three_Letter_Country_Code": "BEN",
         "Country_Number": 204,
         "_deepnote_index_column": 58
        },
        {
         "Continent_Name": "Europe",
         "Continent_Code": "EU",
         "Country_Name": "Denmark, Kingdom of",
         "Two_Letter_Country_Code": "DK",
         "Three_Letter_Country_Code": "DNK",
         "Country_Number": 208,
         "_deepnote_index_column": 59
        },
        {
         "Continent_Name": "North America",
         "Continent_Code": "NA",
         "Country_Name": "Dominica, Commonwealth of",
         "Two_Letter_Country_Code": "DM",
         "Three_Letter_Country_Code": "DMA",
         "Country_Number": 212,
         "_deepnote_index_column": 60
        },
        {
         "Continent_Name": "North America",
         "Continent_Code": "NA",
         "Country_Name": "Dominican Republic",
         "Two_Letter_Country_Code": "DO",
         "Three_Letter_Country_Code": "DOM",
         "Country_Number": 214,
         "_deepnote_index_column": 61
        },
        {
         "Continent_Name": "South America",
         "Continent_Code": "SA",
         "Country_Name": "Ecuador, Republic of",
         "Two_Letter_Country_Code": "EC",
         "Three_Letter_Country_Code": "ECU",
         "Country_Number": 218,
         "_deepnote_index_column": 62
        },
        {
         "Continent_Name": "North America",
         "Continent_Code": "NA",
         "Country_Name": "El Salvador, Republic of",
         "Two_Letter_Country_Code": "SV",
         "Three_Letter_Country_Code": "SLV",
         "Country_Number": 222,
         "_deepnote_index_column": 63
        },
        {
         "Continent_Name": "Africa",
         "Continent_Code": "AF",
         "Country_Name": "Equatorial Guinea, Republic of",
         "Two_Letter_Country_Code": "GQ",
         "Three_Letter_Country_Code": "GNQ",
         "Country_Number": 226,
         "_deepnote_index_column": 64
        },
        {
         "Continent_Name": "Africa",
         "Continent_Code": "AF",
         "Country_Name": "Ethiopia, Federal Democratic Republic of",
         "Two_Letter_Country_Code": "ET",
         "Three_Letter_Country_Code": "ETH",
         "Country_Number": 231,
         "_deepnote_index_column": 65
        },
        {
         "Continent_Name": "Africa",
         "Continent_Code": "AF",
         "Country_Name": "Eritrea, State of",
         "Two_Letter_Country_Code": "ER",
         "Three_Letter_Country_Code": "ERI",
         "Country_Number": 232,
         "_deepnote_index_column": 66
        },
        {
         "Continent_Name": "Europe",
         "Continent_Code": "EU",
         "Country_Name": "Estonia, Republic of",
         "Two_Letter_Country_Code": "EE",
         "Three_Letter_Country_Code": "EST",
         "Country_Number": 233,
         "_deepnote_index_column": 67
        },
        {
         "Continent_Name": "Europe",
         "Continent_Code": "EU",
         "Country_Name": "Faroe Islands",
         "Two_Letter_Country_Code": "FO",
         "Three_Letter_Country_Code": "FRO",
         "Country_Number": 234,
         "_deepnote_index_column": 68
        },
        {
         "Continent_Name": "South America",
         "Continent_Code": "SA",
         "Country_Name": "Falkland Islands (Malvinas)",
         "Two_Letter_Country_Code": "FK",
         "Three_Letter_Country_Code": "FLK",
         "Country_Number": 238,
         "_deepnote_index_column": 69
        },
        {
         "Continent_Name": "Antarctica",
         "Continent_Code": "AN",
         "Country_Name": "South Georgia and the South Sandwich Islands",
         "Two_Letter_Country_Code": "GS",
         "Three_Letter_Country_Code": "SGS",
         "Country_Number": 239,
         "_deepnote_index_column": 70
        },
        {
         "Continent_Name": "Oceania",
         "Continent_Code": "OC",
         "Country_Name": "Fiji, Republic of the Fiji Islands",
         "Two_Letter_Country_Code": "FJ",
         "Three_Letter_Country_Code": "FJI",
         "Country_Number": 242,
         "_deepnote_index_column": 71
        },
        {
         "Continent_Name": "Europe",
         "Continent_Code": "EU",
         "Country_Name": "Finland, Republic of",
         "Two_Letter_Country_Code": "FI",
         "Three_Letter_Country_Code": "FIN",
         "Country_Number": 246,
         "_deepnote_index_column": 72
        },
        {
         "Continent_Name": "Europe",
         "Continent_Code": "EU",
         "Country_Name": "Ãƒâ€¦land Islands",
         "Two_Letter_Country_Code": "AX",
         "Three_Letter_Country_Code": "ALA",
         "Country_Number": 248,
         "_deepnote_index_column": 73
        },
        {
         "Continent_Name": "Europe",
         "Continent_Code": "EU",
         "Country_Name": "France, French Republic",
         "Two_Letter_Country_Code": "FR",
         "Three_Letter_Country_Code": "FRA",
         "Country_Number": 250,
         "_deepnote_index_column": 74
        },
        {
         "Continent_Name": "South America",
         "Continent_Code": "SA",
         "Country_Name": "French Guiana",
         "Two_Letter_Country_Code": "GF",
         "Three_Letter_Country_Code": "GUF",
         "Country_Number": 254,
         "_deepnote_index_column": 75
        },
        {
         "Continent_Name": "Oceania",
         "Continent_Code": "OC",
         "Country_Name": "French Polynesia",
         "Two_Letter_Country_Code": "PF",
         "Three_Letter_Country_Code": "PYF",
         "Country_Number": 258,
         "_deepnote_index_column": 76
        },
        {
         "Continent_Name": "Antarctica",
         "Continent_Code": "AN",
         "Country_Name": "French Southern Territories",
         "Two_Letter_Country_Code": "TF",
         "Three_Letter_Country_Code": "ATF",
         "Country_Number": 260,
         "_deepnote_index_column": 77
        },
        {
         "Continent_Name": "Africa",
         "Continent_Code": "AF",
         "Country_Name": "Djibouti, Republic of",
         "Two_Letter_Country_Code": "DJ",
         "Three_Letter_Country_Code": "DJI",
         "Country_Number": 262,
         "_deepnote_index_column": 78
        },
        {
         "Continent_Name": "Africa",
         "Continent_Code": "AF",
         "Country_Name": "Gabon, Gabonese Republic",
         "Two_Letter_Country_Code": "GA",
         "Three_Letter_Country_Code": "GAB",
         "Country_Number": 266,
         "_deepnote_index_column": 79
        },
        {
         "Continent_Name": "Europe",
         "Continent_Code": "EU",
         "Country_Name": "Georgia",
         "Two_Letter_Country_Code": "GE",
         "Three_Letter_Country_Code": "GEO",
         "Country_Number": 268,
         "_deepnote_index_column": 80
        },
        {
         "Continent_Name": "Africa",
         "Continent_Code": "AF",
         "Country_Name": "Gambia, Republic of the",
         "Two_Letter_Country_Code": "GM",
         "Three_Letter_Country_Code": "GMB",
         "Country_Number": 270,
         "_deepnote_index_column": 81
        },
        {
         "Continent_Name": "Asia",
         "Continent_Code": "AS",
         "Country_Name": "Palestinian Territory, Occupied",
         "Two_Letter_Country_Code": "PS",
         "Three_Letter_Country_Code": "PSE",
         "Country_Number": 275,
         "_deepnote_index_column": 82
        }
       ],
       "rows_bottom": [
        {
         "Continent_Name": "North America",
         "Continent_Code": "NA",
         "Country_Name": "Panama, Republic of",
         "Two_Letter_Country_Code": "PA",
         "Three_Letter_Country_Code": "PAN",
         "Country_Number": 591,
         "_deepnote_index_column": 171
        },
        {
         "Continent_Name": "Oceania",
         "Continent_Code": "OC",
         "Country_Name": "Papua New Guinea, Independent State of",
         "Two_Letter_Country_Code": "PG",
         "Three_Letter_Country_Code": "PNG",
         "Country_Number": 598,
         "_deepnote_index_column": 172
        },
        {
         "Continent_Name": "South America",
         "Continent_Code": "SA",
         "Country_Name": "Paraguay, Republic of",
         "Two_Letter_Country_Code": "PY",
         "Three_Letter_Country_Code": "PRY",
         "Country_Number": 600,
         "_deepnote_index_column": 173
        },
        {
         "Continent_Name": "South America",
         "Continent_Code": "SA",
         "Country_Name": "Peru, Republic of",
         "Two_Letter_Country_Code": "PE",
         "Three_Letter_Country_Code": "PER",
         "Country_Number": 604,
         "_deepnote_index_column": 174
        },
        {
         "Continent_Name": "Asia",
         "Continent_Code": "AS",
         "Country_Name": "Philippines, Republic of the",
         "Two_Letter_Country_Code": "PH",
         "Three_Letter_Country_Code": "PHL",
         "Country_Number": 608,
         "_deepnote_index_column": 175
        },
        {
         "Continent_Name": "Oceania",
         "Continent_Code": "OC",
         "Country_Name": "Pitcairn Islands",
         "Two_Letter_Country_Code": "PN",
         "Three_Letter_Country_Code": "PCN",
         "Country_Number": 612,
         "_deepnote_index_column": 176
        },
        {
         "Continent_Name": "Europe",
         "Continent_Code": "EU",
         "Country_Name": "Poland, Republic of",
         "Two_Letter_Country_Code": "PL",
         "Three_Letter_Country_Code": "POL",
         "Country_Number": 616,
         "_deepnote_index_column": 177
        },
        {
         "Continent_Name": "Europe",
         "Continent_Code": "EU",
         "Country_Name": "Portugal, Portuguese Republic",
         "Two_Letter_Country_Code": "PT",
         "Three_Letter_Country_Code": "PRT",
         "Country_Number": 620,
         "_deepnote_index_column": 178
        },
        {
         "Continent_Name": "Africa",
         "Continent_Code": "AF",
         "Country_Name": "Guinea-Bissau, Republic of",
         "Two_Letter_Country_Code": "GW",
         "Three_Letter_Country_Code": "GNB",
         "Country_Number": 624,
         "_deepnote_index_column": 179
        },
        {
         "Continent_Name": "Asia",
         "Continent_Code": "AS",
         "Country_Name": "Timor-Leste, Democratic Republic of",
         "Two_Letter_Country_Code": "TL",
         "Three_Letter_Country_Code": "TLS",
         "Country_Number": 626,
         "_deepnote_index_column": 180
        },
        {
         "Continent_Name": "North America",
         "Continent_Code": "NA",
         "Country_Name": "Puerto Rico, Commonwealth of",
         "Two_Letter_Country_Code": "PR",
         "Three_Letter_Country_Code": "PRI",
         "Country_Number": 630,
         "_deepnote_index_column": 181
        },
        {
         "Continent_Name": "Asia",
         "Continent_Code": "AS",
         "Country_Name": "Qatar, State of",
         "Two_Letter_Country_Code": "QA",
         "Three_Letter_Country_Code": "QAT",
         "Country_Number": 634,
         "_deepnote_index_column": 182
        },
        {
         "Continent_Name": "Africa",
         "Continent_Code": "AF",
         "Country_Name": "Reunion",
         "Two_Letter_Country_Code": "RE",
         "Three_Letter_Country_Code": "REU",
         "Country_Number": 638,
         "_deepnote_index_column": 183
        },
        {
         "Continent_Name": "Europe",
         "Continent_Code": "EU",
         "Country_Name": "Romania",
         "Two_Letter_Country_Code": "RO",
         "Three_Letter_Country_Code": "ROU",
         "Country_Number": 642,
         "_deepnote_index_column": 184
        },
        {
         "Continent_Name": "Europe",
         "Continent_Code": "EU",
         "Country_Name": "Russian Federation",
         "Two_Letter_Country_Code": "RU",
         "Three_Letter_Country_Code": "RUS",
         "Country_Number": 643,
         "_deepnote_index_column": 185
        },
        {
         "Continent_Name": "Africa",
         "Continent_Code": "AF",
         "Country_Name": "Rwanda, Republic of",
         "Two_Letter_Country_Code": "RW",
         "Three_Letter_Country_Code": "RWA",
         "Country_Number": 646,
         "_deepnote_index_column": 186
        },
        {
         "Continent_Name": "North America",
         "Continent_Code": "NA",
         "Country_Name": "Saint Barthelemy",
         "Two_Letter_Country_Code": "BL",
         "Three_Letter_Country_Code": "BLM",
         "Country_Number": 652,
         "_deepnote_index_column": 187
        },
        {
         "Continent_Name": "Africa",
         "Continent_Code": "AF",
         "Country_Name": "Saint Helena",
         "Two_Letter_Country_Code": "SH",
         "Three_Letter_Country_Code": "SHN",
         "Country_Number": 654,
         "_deepnote_index_column": 188
        },
        {
         "Continent_Name": "North America",
         "Continent_Code": "NA",
         "Country_Name": "Saint Kitts and Nevis, Federation of",
         "Two_Letter_Country_Code": "KN",
         "Three_Letter_Country_Code": "KNA",
         "Country_Number": 659,
         "_deepnote_index_column": 189
        },
        {
         "Continent_Name": "North America",
         "Continent_Code": "NA",
         "Country_Name": "Anguilla",
         "Two_Letter_Country_Code": "AI",
         "Three_Letter_Country_Code": "AIA",
         "Country_Number": 660,
         "_deepnote_index_column": 190
        },
        {
         "Continent_Name": "North America",
         "Continent_Code": "NA",
         "Country_Name": "Saint Lucia",
         "Two_Letter_Country_Code": "LC",
         "Three_Letter_Country_Code": "LCA",
         "Country_Number": 662,
         "_deepnote_index_column": 191
        },
        {
         "Continent_Name": "North America",
         "Continent_Code": "NA",
         "Country_Name": "Saint Martin",
         "Two_Letter_Country_Code": "MF",
         "Three_Letter_Country_Code": "MAF",
         "Country_Number": 663,
         "_deepnote_index_column": 192
        },
        {
         "Continent_Name": "North America",
         "Continent_Code": "NA",
         "Country_Name": "Saint Pierre and Miquelon",
         "Two_Letter_Country_Code": "PM",
         "Three_Letter_Country_Code": "SPM",
         "Country_Number": 666,
         "_deepnote_index_column": 193
        },
        {
         "Continent_Name": "North America",
         "Continent_Code": "NA",
         "Country_Name": "Saint Vincent and the Grenadines",
         "Two_Letter_Country_Code": "VC",
         "Three_Letter_Country_Code": "VCT",
         "Country_Number": 670,
         "_deepnote_index_column": 194
        },
        {
         "Continent_Name": "Europe",
         "Continent_Code": "EU",
         "Country_Name": "San Marino, Republic of",
         "Two_Letter_Country_Code": "SM",
         "Three_Letter_Country_Code": "SMR",
         "Country_Number": 674,
         "_deepnote_index_column": 195
        },
        {
         "Continent_Name": "Africa",
         "Continent_Code": "AF",
         "Country_Name": "Sao Tome and Principe, Democratic Republic of",
         "Two_Letter_Country_Code": "ST",
         "Three_Letter_Country_Code": "STP",
         "Country_Number": 678,
         "_deepnote_index_column": 196
        },
        {
         "Continent_Name": "Asia",
         "Continent_Code": "AS",
         "Country_Name": "Saudi Arabia, Kingdom of",
         "Two_Letter_Country_Code": "SA",
         "Three_Letter_Country_Code": "SAU",
         "Country_Number": 682,
         "_deepnote_index_column": 197
        },
        {
         "Continent_Name": "Africa",
         "Continent_Code": "AF",
         "Country_Name": "Senegal, Republic of",
         "Two_Letter_Country_Code": "SN",
         "Three_Letter_Country_Code": "SEN",
         "Country_Number": 686,
         "_deepnote_index_column": 198
        },
        {
         "Continent_Name": "Europe",
         "Continent_Code": "EU",
         "Country_Name": "Serbia, Republic of",
         "Two_Letter_Country_Code": "RS",
         "Three_Letter_Country_Code": "SRB",
         "Country_Number": 688,
         "_deepnote_index_column": 199
        },
        {
         "Continent_Name": "Africa",
         "Continent_Code": "AF",
         "Country_Name": "Seychelles, Republic of",
         "Two_Letter_Country_Code": "SC",
         "Three_Letter_Country_Code": "SYC",
         "Country_Number": 690,
         "_deepnote_index_column": 200
        },
        {
         "Continent_Name": "Africa",
         "Continent_Code": "AF",
         "Country_Name": "Sierra Leone, Republic of",
         "Two_Letter_Country_Code": "SL",
         "Three_Letter_Country_Code": "SLE",
         "Country_Number": 694,
         "_deepnote_index_column": 201
        },
        {
         "Continent_Name": "Asia",
         "Continent_Code": "AS",
         "Country_Name": "Singapore, Republic of",
         "Two_Letter_Country_Code": "SG",
         "Three_Letter_Country_Code": "SGP",
         "Country_Number": 702,
         "_deepnote_index_column": 202
        },
        {
         "Continent_Name": "Europe",
         "Continent_Code": "EU",
         "Country_Name": "Slovakia (Slovak Republic)",
         "Two_Letter_Country_Code": "SK",
         "Three_Letter_Country_Code": "SVK",
         "Country_Number": 703,
         "_deepnote_index_column": 203
        },
        {
         "Continent_Name": "Asia",
         "Continent_Code": "AS",
         "Country_Name": "Vietnam, Socialist Republic of",
         "Two_Letter_Country_Code": "VN",
         "Three_Letter_Country_Code": "VNM",
         "Country_Number": 704,
         "_deepnote_index_column": 204
        },
        {
         "Continent_Name": "Europe",
         "Continent_Code": "EU",
         "Country_Name": "Slovenia, Republic of",
         "Two_Letter_Country_Code": "SI",
         "Three_Letter_Country_Code": "SVN",
         "Country_Number": 705,
         "_deepnote_index_column": 205
        },
        {
         "Continent_Name": "Africa",
         "Continent_Code": "AF",
         "Country_Name": "Somalia, Somali Republic",
         "Two_Letter_Country_Code": "SO",
         "Three_Letter_Country_Code": "SOM",
         "Country_Number": 706,
         "_deepnote_index_column": 206
        },
        {
         "Continent_Name": "Africa",
         "Continent_Code": "AF",
         "Country_Name": "South Africa, Republic of",
         "Two_Letter_Country_Code": "ZA",
         "Three_Letter_Country_Code": "ZAF",
         "Country_Number": 710,
         "_deepnote_index_column": 207
        },
        {
         "Continent_Name": "Africa",
         "Continent_Code": "AF",
         "Country_Name": "Zimbabwe, Republic of",
         "Two_Letter_Country_Code": "ZW",
         "Three_Letter_Country_Code": "ZWE",
         "Country_Number": 716,
         "_deepnote_index_column": 208
        },
        {
         "Continent_Name": "Europe",
         "Continent_Code": "EU",
         "Country_Name": "Spain, Kingdom of",
         "Two_Letter_Country_Code": "ES",
         "Three_Letter_Country_Code": "ESP",
         "Country_Number": 724,
         "_deepnote_index_column": 209
        },
        {
         "Continent_Name": "Africa",
         "Continent_Code": "AF",
         "Country_Name": "South Sudan",
         "Two_Letter_Country_Code": "SS",
         "Three_Letter_Country_Code": "SSD",
         "Country_Number": 728,
         "_deepnote_index_column": 210
        },
        {
         "Continent_Name": "Africa",
         "Continent_Code": "AF",
         "Country_Name": "Western Sahara",
         "Two_Letter_Country_Code": "EH",
         "Three_Letter_Country_Code": "ESH",
         "Country_Number": 732,
         "_deepnote_index_column": 211
        },
        {
         "Continent_Name": "Africa",
         "Continent_Code": "AF",
         "Country_Name": "Sudan, Republic of",
         "Two_Letter_Country_Code": "SD",
         "Three_Letter_Country_Code": "SDN",
         "Country_Number": 736,
         "_deepnote_index_column": 212
        },
        {
         "Continent_Name": "South America",
         "Continent_Code": "SA",
         "Country_Name": "Suriname, Republic of",
         "Two_Letter_Country_Code": "SR",
         "Three_Letter_Country_Code": "SUR",
         "Country_Number": 740,
         "_deepnote_index_column": 213
        },
        {
         "Continent_Name": "Europe",
         "Continent_Code": "EU",
         "Country_Name": "Svalbard & Jan Mayen Islands",
         "Two_Letter_Country_Code": "SJ",
         "Three_Letter_Country_Code": "SJM",
         "Country_Number": 744,
         "_deepnote_index_column": 214
        },
        {
         "Continent_Name": "Africa",
         "Continent_Code": "AF",
         "Country_Name": "Swaziland, Kingdom of",
         "Two_Letter_Country_Code": "SZ",
         "Three_Letter_Country_Code": "SWZ",
         "Country_Number": 748,
         "_deepnote_index_column": 215
        },
        {
         "Continent_Name": "Europe",
         "Continent_Code": "EU",
         "Country_Name": "Sweden, Kingdom of",
         "Two_Letter_Country_Code": "SE",
         "Three_Letter_Country_Code": "SWE",
         "Country_Number": 752,
         "_deepnote_index_column": 216
        },
        {
         "Continent_Name": "Europe",
         "Continent_Code": "EU",
         "Country_Name": "Switzerland, Swiss Confederation",
         "Two_Letter_Country_Code": "CH",
         "Three_Letter_Country_Code": "CHE",
         "Country_Number": 756,
         "_deepnote_index_column": 217
        },
        {
         "Continent_Name": "Asia",
         "Continent_Code": "AS",
         "Country_Name": "Syrian Arab Republic",
         "Two_Letter_Country_Code": "SY",
         "Three_Letter_Country_Code": "SYR",
         "Country_Number": 760,
         "_deepnote_index_column": 218
        },
        {
         "Continent_Name": "Asia",
         "Continent_Code": "AS",
         "Country_Name": "Tajikistan, Republic of",
         "Two_Letter_Country_Code": "TJ",
         "Three_Letter_Country_Code": "TJK",
         "Country_Number": 762,
         "_deepnote_index_column": 219
        },
        {
         "Continent_Name": "Asia",
         "Continent_Code": "AS",
         "Country_Name": "Thailand, Kingdom of",
         "Two_Letter_Country_Code": "TH",
         "Three_Letter_Country_Code": "THA",
         "Country_Number": 764,
         "_deepnote_index_column": 220
        },
        {
         "Continent_Name": "Africa",
         "Continent_Code": "AF",
         "Country_Name": "Togo, Togolese Republic",
         "Two_Letter_Country_Code": "TG",
         "Three_Letter_Country_Code": "TGO",
         "Country_Number": 768,
         "_deepnote_index_column": 221
        },
        {
         "Continent_Name": "Oceania",
         "Continent_Code": "OC",
         "Country_Name": "Tokelau",
         "Two_Letter_Country_Code": "TK",
         "Three_Letter_Country_Code": "TKL",
         "Country_Number": 772,
         "_deepnote_index_column": 222
        },
        {
         "Continent_Name": "Oceania",
         "Continent_Code": "OC",
         "Country_Name": "Tonga, Kingdom of",
         "Two_Letter_Country_Code": "TO",
         "Three_Letter_Country_Code": "TON",
         "Country_Number": 776,
         "_deepnote_index_column": 223
        },
        {
         "Continent_Name": "North America",
         "Continent_Code": "NA",
         "Country_Name": "Trinidad and Tobago, Republic of",
         "Two_Letter_Country_Code": "TT",
         "Three_Letter_Country_Code": "TTO",
         "Country_Number": 780,
         "_deepnote_index_column": 224
        },
        {
         "Continent_Name": "Asia",
         "Continent_Code": "AS",
         "Country_Name": "United Arab Emirates",
         "Two_Letter_Country_Code": "AE",
         "Three_Letter_Country_Code": "ARE",
         "Country_Number": 784,
         "_deepnote_index_column": 225
        },
        {
         "Continent_Name": "Africa",
         "Continent_Code": "AF",
         "Country_Name": "Tunisia, Tunisian Republic",
         "Two_Letter_Country_Code": "TN",
         "Three_Letter_Country_Code": "TUN",
         "Country_Number": 788,
         "_deepnote_index_column": 226
        },
        {
         "Continent_Name": "Europe",
         "Continent_Code": "EU",
         "Country_Name": "Turkey, Republic of",
         "Two_Letter_Country_Code": "TR",
         "Three_Letter_Country_Code": "TUR",
         "Country_Number": 792,
         "_deepnote_index_column": 227
        },
        {
         "Continent_Name": "Asia",
         "Continent_Code": "AS",
         "Country_Name": "Turkmenistan",
         "Two_Letter_Country_Code": "TM",
         "Three_Letter_Country_Code": "TKM",
         "Country_Number": 795,
         "_deepnote_index_column": 228
        },
        {
         "Continent_Name": "North America",
         "Continent_Code": "NA",
         "Country_Name": "Turks and Caicos Islands",
         "Two_Letter_Country_Code": "TC",
         "Three_Letter_Country_Code": "TCA",
         "Country_Number": 796,
         "_deepnote_index_column": 229
        },
        {
         "Continent_Name": "Oceania",
         "Continent_Code": "OC",
         "Country_Name": "Tuvalu",
         "Two_Letter_Country_Code": "TV",
         "Three_Letter_Country_Code": "TUV",
         "Country_Number": 798,
         "_deepnote_index_column": 230
        },
        {
         "Continent_Name": "Africa",
         "Continent_Code": "AF",
         "Country_Name": "Uganda, Republic of",
         "Two_Letter_Country_Code": "UG",
         "Three_Letter_Country_Code": "UGA",
         "Country_Number": 800,
         "_deepnote_index_column": 231
        },
        {
         "Continent_Name": "Europe",
         "Continent_Code": "EU",
         "Country_Name": "Ukraine",
         "Two_Letter_Country_Code": "UA",
         "Three_Letter_Country_Code": "UKR",
         "Country_Number": 804,
         "_deepnote_index_column": 232
        },
        {
         "Continent_Name": "Europe",
         "Continent_Code": "EU",
         "Country_Name": "Macedonia, The Former Yugoslav Republic of",
         "Two_Letter_Country_Code": "MK",
         "Three_Letter_Country_Code": "MKD",
         "Country_Number": 807,
         "_deepnote_index_column": 233
        },
        {
         "Continent_Name": "Africa",
         "Continent_Code": "AF",
         "Country_Name": "Egypt, Arab Republic of",
         "Two_Letter_Country_Code": "EG",
         "Three_Letter_Country_Code": "EGY",
         "Country_Number": 818,
         "_deepnote_index_column": 234
        },
        {
         "Continent_Name": "Europe",
         "Continent_Code": "EU",
         "Country_Name": "United Kingdom of Great Britain & Northern Ireland",
         "Two_Letter_Country_Code": "GB",
         "Three_Letter_Country_Code": "GBR",
         "Country_Number": 826,
         "_deepnote_index_column": 235
        },
        {
         "Continent_Name": "Europe",
         "Continent_Code": "EU",
         "Country_Name": "Guernsey, Bailiwick of",
         "Two_Letter_Country_Code": "GG",
         "Three_Letter_Country_Code": "GGY",
         "Country_Number": 831,
         "_deepnote_index_column": 236
        },
        {
         "Continent_Name": "Europe",
         "Continent_Code": "EU",
         "Country_Name": "Jersey, Bailiwick of",
         "Two_Letter_Country_Code": "JE",
         "Three_Letter_Country_Code": "JEY",
         "Country_Number": 832,
         "_deepnote_index_column": 237
        },
        {
         "Continent_Name": "Europe",
         "Continent_Code": "EU",
         "Country_Name": "Isle of Man",
         "Two_Letter_Country_Code": "IM",
         "Three_Letter_Country_Code": "IMN",
         "Country_Number": 833,
         "_deepnote_index_column": 238
        },
        {
         "Continent_Name": "Africa",
         "Continent_Code": "AF",
         "Country_Name": "Tanzania, United Republic of",
         "Two_Letter_Country_Code": "TZ",
         "Three_Letter_Country_Code": "TZA",
         "Country_Number": 834,
         "_deepnote_index_column": 239
        },
        {
         "Continent_Name": "North America",
         "Continent_Code": "NA",
         "Country_Name": "United States of America",
         "Two_Letter_Country_Code": "US",
         "Three_Letter_Country_Code": "USA",
         "Country_Number": 840,
         "_deepnote_index_column": 240
        },
        {
         "Continent_Name": "North America",
         "Continent_Code": "NA",
         "Country_Name": "United States Virgin Islands",
         "Two_Letter_Country_Code": "VI",
         "Three_Letter_Country_Code": "VIR",
         "Country_Number": 850,
         "_deepnote_index_column": 241
        },
        {
         "Continent_Name": "Africa",
         "Continent_Code": "AF",
         "Country_Name": "Burkina Faso",
         "Two_Letter_Country_Code": "BF",
         "Three_Letter_Country_Code": "BFA",
         "Country_Number": 854,
         "_deepnote_index_column": 242
        },
        {
         "Continent_Name": "South America",
         "Continent_Code": "SA",
         "Country_Name": "Uruguay, Eastern Republic of",
         "Two_Letter_Country_Code": "UY",
         "Three_Letter_Country_Code": "URY",
         "Country_Number": 858,
         "_deepnote_index_column": 243
        },
        {
         "Continent_Name": "Asia",
         "Continent_Code": "AS",
         "Country_Name": "Uzbekistan, Republic of",
         "Two_Letter_Country_Code": "UZ",
         "Three_Letter_Country_Code": "UZB",
         "Country_Number": 860,
         "_deepnote_index_column": 244
        },
        {
         "Continent_Name": "South America",
         "Continent_Code": "SA",
         "Country_Name": "Venezuela, Bolivarian Republic of",
         "Two_Letter_Country_Code": "VE",
         "Three_Letter_Country_Code": "VEN",
         "Country_Number": 862,
         "_deepnote_index_column": 245
        },
        {
         "Continent_Name": "Oceania",
         "Continent_Code": "OC",
         "Country_Name": "Wallis and Futuna",
         "Two_Letter_Country_Code": "WF",
         "Three_Letter_Country_Code": "WLF",
         "Country_Number": 876,
         "_deepnote_index_column": 246
        },
        {
         "Continent_Name": "Oceania",
         "Continent_Code": "OC",
         "Country_Name": "Samoa, Independent State of",
         "Two_Letter_Country_Code": "WS",
         "Three_Letter_Country_Code": "WSM",
         "Country_Number": 882,
         "_deepnote_index_column": 247
        },
        {
         "Continent_Name": "Asia",
         "Continent_Code": "AS",
         "Country_Name": "Yemen",
         "Two_Letter_Country_Code": "YE",
         "Three_Letter_Country_Code": "YEM",
         "Country_Number": 887,
         "_deepnote_index_column": 248
        },
        {
         "Continent_Name": "Africa",
         "Continent_Code": "AF",
         "Country_Name": "Zambia, Republic of",
         "Two_Letter_Country_Code": "ZM",
         "Three_Letter_Country_Code": "ZMB",
         "Country_Number": 894,
         "_deepnote_index_column": 249
        },
        {
         "Continent_Name": "Oceania",
         "Continent_Code": "OC",
         "Country_Name": "Disputed Territory",
         "Two_Letter_Country_Code": "XX",
         "Three_Letter_Country_Code": "None",
         "Country_Number": "nan",
         "_deepnote_index_column": 250
        },
        {
         "Continent_Name": "Asia",
         "Continent_Code": "AS",
         "Country_Name": "Iraq-Saudi Arabia Neutral Zone",
         "Two_Letter_Country_Code": "XE",
         "Three_Letter_Country_Code": "None",
         "Country_Number": "nan",
         "_deepnote_index_column": 251
        },
        {
         "Continent_Name": "Asia",
         "Continent_Code": "AS",
         "Country_Name": "United Nations Neutral Zone",
         "Two_Letter_Country_Code": "XD",
         "Three_Letter_Country_Code": "None",
         "Country_Number": "nan",
         "_deepnote_index_column": 252
        },
        {
         "Continent_Name": "Asia",
         "Continent_Code": "AS",
         "Country_Name": "Spratly Islands",
         "Two_Letter_Country_Code": "XS",
         "Three_Letter_Country_Code": "None",
         "Country_Number": "nan",
         "_deepnote_index_column": 253
        }
       ]
      },
      "text/plain": "    Continent_Name Continent_Code  \\\n0             Asia             AS   \n1           Europe             EU   \n2       Antarctica             AN   \n3           Africa             AF   \n4          Oceania             OC   \n..             ...            ...   \n249         Africa             AF   \n250        Oceania             OC   \n251           Asia             AS   \n252           Asia             AS   \n253           Asia             AS   \n\n                                     Country_Name Two_Letter_Country_Code  \\\n0                Afghanistan, Islamic Republic of                      AF   \n1                            Albania, Republic of                      AL   \n2    Antarctica (the territory South of 60 deg S)                      AQ   \n3        Algeria, People's Democratic Republic of                      DZ   \n4                                  American Samoa                      AS   \n..                                            ...                     ...   \n249                           Zambia, Republic of                      ZM   \n250                            Disputed Territory                      XX   \n251                Iraq-Saudi Arabia Neutral Zone                      XE   \n252                   United Nations Neutral Zone                      XD   \n253                               Spratly Islands                      XS   \n\n    Three_Letter_Country_Code  Country_Number  \n0                         AFG             4.0  \n1                         ALB             8.0  \n2                         ATA            10.0  \n3                         DZA            12.0  \n4                         ASM            16.0  \n..                        ...             ...  \n249                       ZMB           894.0  \n250                      None             NaN  \n251                      None             NaN  \n252                      None             NaN  \n253                      None             NaN  \n\n[254 rows x 6 columns]",
      "text/html": "<div>\n<style scoped>\n    .dataframe tbody tr th:only-of-type {\n        vertical-align: middle;\n    }\n\n    .dataframe tbody tr th {\n        vertical-align: top;\n    }\n\n    .dataframe thead th {\n        text-align: right;\n    }\n</style>\n<table border=\"1\" class=\"dataframe\">\n  <thead>\n    <tr style=\"text-align: right;\">\n      <th></th>\n      <th>Continent_Name</th>\n      <th>Continent_Code</th>\n      <th>Country_Name</th>\n      <th>Two_Letter_Country_Code</th>\n      <th>Three_Letter_Country_Code</th>\n      <th>Country_Number</th>\n    </tr>\n  </thead>\n  <tbody>\n    <tr>\n      <th>0</th>\n      <td>Asia</td>\n      <td>AS</td>\n      <td>Afghanistan, Islamic Republic of</td>\n      <td>AF</td>\n      <td>AFG</td>\n      <td>4.0</td>\n    </tr>\n    <tr>\n      <th>1</th>\n      <td>Europe</td>\n      <td>EU</td>\n      <td>Albania, Republic of</td>\n      <td>AL</td>\n      <td>ALB</td>\n      <td>8.0</td>\n    </tr>\n    <tr>\n      <th>2</th>\n      <td>Antarctica</td>\n      <td>AN</td>\n      <td>Antarctica (the territory South of 60 deg S)</td>\n      <td>AQ</td>\n      <td>ATA</td>\n      <td>10.0</td>\n    </tr>\n    <tr>\n      <th>3</th>\n      <td>Africa</td>\n      <td>AF</td>\n      <td>Algeria, People's Democratic Republic of</td>\n      <td>DZ</td>\n      <td>DZA</td>\n      <td>12.0</td>\n    </tr>\n    <tr>\n      <th>4</th>\n      <td>Oceania</td>\n      <td>OC</td>\n      <td>American Samoa</td>\n      <td>AS</td>\n      <td>ASM</td>\n      <td>16.0</td>\n    </tr>\n    <tr>\n      <th>...</th>\n      <td>...</td>\n      <td>...</td>\n      <td>...</td>\n      <td>...</td>\n      <td>...</td>\n      <td>...</td>\n    </tr>\n    <tr>\n      <th>249</th>\n      <td>Africa</td>\n      <td>AF</td>\n      <td>Zambia, Republic of</td>\n      <td>ZM</td>\n      <td>ZMB</td>\n      <td>894.0</td>\n    </tr>\n    <tr>\n      <th>250</th>\n      <td>Oceania</td>\n      <td>OC</td>\n      <td>Disputed Territory</td>\n      <td>XX</td>\n      <td>None</td>\n      <td>NaN</td>\n    </tr>\n    <tr>\n      <th>251</th>\n      <td>Asia</td>\n      <td>AS</td>\n      <td>Iraq-Saudi Arabia Neutral Zone</td>\n      <td>XE</td>\n      <td>None</td>\n      <td>NaN</td>\n    </tr>\n    <tr>\n      <th>252</th>\n      <td>Asia</td>\n      <td>AS</td>\n      <td>United Nations Neutral Zone</td>\n      <td>XD</td>\n      <td>None</td>\n      <td>NaN</td>\n    </tr>\n    <tr>\n      <th>253</th>\n      <td>Asia</td>\n      <td>AS</td>\n      <td>Spratly Islands</td>\n      <td>XS</td>\n      <td>None</td>\n      <td>NaN</td>\n    </tr>\n  </tbody>\n</table>\n<p>254 rows × 6 columns</p>\n</div>"
     },
     "metadata": {}
    }
   ],
   "execution_count": 5
  },
  {
   "cell_type": "markdown",
   "source": "# 1bis - Analyze and Manipulating Data (Example on client Table)",
   "metadata": {
    "tags": [],
    "is_collapsed": false,
    "cell_id": "00028-ebb60f47-4bf2-4504-932d-e2d7c6216220",
    "deepnote_cell_type": "text-cell-h1"
   }
  },
  {
   "cell_type": "markdown",
   "source": "## 1bis. 1 Analyze Data",
   "metadata": {
    "tags": [],
    "is_collapsed": false,
    "cell_id": "00029-ddf98e94-1887-4912-8067-3d7597a3d638",
    "deepnote_cell_type": "text-cell-h2"
   }
  },
  {
   "cell_type": "markdown",
   "source": "Get the shape of all the dataframes",
   "metadata": {
    "tags": [],
    "cell_id": "00029-3b8442fb-ccac-4574-a8f1-e8dc857c7ca3",
    "deepnote_cell_type": "markdown"
   }
  },
  {
   "cell_type": "markdown",
   "source": "<div class=\"alert alert-block alert-info\">\n<b><p style=\"color:red;\">Exercice 4 : Get the size of the Client Table (number of lines and columns)</p></b>",
   "metadata": {
    "tags": [],
    "cell_id": "00031-c301d9a9-43e1-4fca-b85a-0f8f2c84265f",
    "deepnote_cell_type": "markdown"
   }
  },
  {
   "cell_type": "code",
   "metadata": {
    "tags": [],
    "cell_id": "00030-da78ae02-af58-49e6-a1ab-25a3c0172242",
    "deepnote_to_be_reexecuted": false,
    "source_hash": "d7352fe0",
    "execution_start": 1631557966524,
    "execution_millis": 37,
    "deepnote_cell_type": "code"
   },
   "source": "print(\"Size of the dataframe\")\nprint(df_client.shape)",
   "outputs": [
    {
     "name": "stdout",
     "text": "Size of the dataframe\n(2686, 10)\n",
     "output_type": "stream"
    }
   ],
   "execution_count": null
  },
  {
   "cell_type": "markdown",
   "source": "<div class=\"alert alert-block alert-info\">\n<b><p style=\"color:red;\">Exercice 5 : List all the columns of the Client Table</p></b>",
   "metadata": {
    "tags": [],
    "cell_id": "00033-66432dea-6a9b-4d83-833d-63b3753a6cad",
    "deepnote_cell_type": "markdown"
   }
  },
  {
   "cell_type": "code",
   "metadata": {
    "tags": [],
    "cell_id": "00034-0265b1bc-4f3b-4066-a8d7-586233d15722",
    "deepnote_to_be_reexecuted": false,
    "source_hash": "b21e1668",
    "execution_start": 1631561234151,
    "execution_millis": 16,
    "deepnote_cell_type": "code"
   },
   "source": "list(df_client)",
   "outputs": [
    {
     "output_type": "execute_result",
     "execution_count": 51,
     "data": {
      "text/plain": "['customerID',\n 'gender',\n 'birthdate',\n 'ip_address',\n 'latitude',\n 'longitude',\n 'Country Name',\n 'country_code',\n 'city_name',\n 'email']"
     },
     "metadata": {}
    }
   ],
   "execution_count": null
  },
  {
   "cell_type": "markdown",
   "source": "<div class=\"alert alert-block alert-info\">\n<b><p style=\"color:red;\">Exercice 6 : Make a description / rapid analysis of the Table</p></b>",
   "metadata": {
    "tags": [],
    "cell_id": "00033-cba054f3-9b56-48ea-9bf5-78896e6ea2b9",
    "deepnote_cell_type": "markdown"
   }
  },
  {
   "cell_type": "code",
   "metadata": {
    "tags": [],
    "cell_id": "00031-b6eae0f8-7004-449b-b5c7-c4fcea610b56",
    "deepnote_to_be_reexecuted": false,
    "source_hash": "76bd5778",
    "execution_start": 1631558028055,
    "execution_millis": 114,
    "deepnote_cell_type": "code"
   },
   "source": "df_client.describe(include = \"all\").transpose()",
   "outputs": [
    {
     "output_type": "execute_result",
     "execution_count": 15,
     "data": {
      "application/vnd.deepnote.dataframe.v2+json": {
       "row_count": 10,
       "column_count": 11,
       "columns": [
        {
         "name": "count",
         "dtype": "object",
         "stats": {
          "unique_count": 3,
          "nan_count": 0,
          "categories": [
           {
            "name": "2686.0",
            "count": 8
           },
           {
            "name": "2116.0",
            "count": 1
           },
           {
            "name": "1474.0",
            "count": 1
           }
          ]
         }
        },
        {
         "name": "unique",
         "dtype": "object",
         "stats": {
          "unique_count": 6,
          "nan_count": 2,
          "categories": [
           {
            "name": "2686.0",
            "count": 2
           },
           {
            "name": "5 others",
            "count": 6
           },
           {
            "name": "Missing",
            "count": 2
           }
          ]
         }
        },
        {
         "name": "top",
         "dtype": "object",
         "stats": {
          "unique_count": 8,
          "nan_count": 2,
          "categories": [
           {
            "name": "704512.0",
            "count": 1
           },
           {
            "name": "7 others",
            "count": 7
           },
           {
            "name": "Missing",
            "count": 2
           }
          ]
         }
        },
        {
         "name": "freq",
         "dtype": "object",
         "stats": {
          "unique_count": 6,
          "nan_count": 2,
          "categories": [
           {
            "name": "1.0",
            "count": 2
           },
           {
            "name": "5 others",
            "count": 6
           },
           {
            "name": "Missing",
            "count": 2
           }
          ]
         }
        },
        {
         "name": "mean",
         "dtype": "object",
         "stats": {
          "unique_count": 2,
          "nan_count": 8,
          "categories": [
           {
            "name": "36.54861342788273",
            "count": 1
           },
           {
            "name": "20.171194482314593",
            "count": 1
           },
           {
            "name": "Missing",
            "count": 8
           }
          ]
         }
        },
        {
         "name": "std",
         "dtype": "object",
         "stats": {
          "unique_count": 2,
          "nan_count": 8,
          "categories": [
           {
            "name": "15.81905213122401",
            "count": 1
           },
           {
            "name": "90.45882534867177",
            "count": 1
           },
           {
            "name": "Missing",
            "count": 8
           }
          ]
         }
        },
        {
         "name": "min",
         "dtype": "object",
         "stats": {
          "unique_count": 2,
          "nan_count": 8,
          "categories": [
           {
            "name": "-43.65000153",
            "count": 1
           },
           {
            "name": "-157.8388977",
            "count": 1
           },
           {
            "name": "Missing",
            "count": 8
           }
          ]
         }
        },
        {
         "name": "25%",
         "dtype": "object",
         "stats": {
          "unique_count": 2,
          "nan_count": 8,
          "categories": [
           {
            "name": "34.68360138",
            "count": 1
           },
           {
            "name": "-77.4838028",
            "count": 1
           },
           {
            "name": "Missing",
            "count": 8
           }
          ]
         }
        },
        {
         "name": "50%",
         "dtype": "object",
         "stats": {
          "unique_count": 2,
          "nan_count": 8,
          "categories": [
           {
            "name": "38.0",
            "count": 1
           },
           {
            "name": "12.316649915",
            "count": 1
           },
           {
            "name": "Missing",
            "count": 8
           }
          ]
         }
        },
        {
         "name": "75%",
         "dtype": "object",
         "stats": {
          "unique_count": 2,
          "nan_count": 8,
          "categories": [
           {
            "name": "43.88000107",
            "count": 1
           },
           {
            "name": "116.388298",
            "count": 1
           },
           {
            "name": "Missing",
            "count": 8
           }
          ]
         }
        },
        {
         "name": "max",
         "dtype": "object",
         "stats": {
          "unique_count": 2,
          "nan_count": 8,
          "categories": [
           {
            "name": "65.0",
            "count": 1
           },
           {
            "name": "175.6166992",
            "count": 1
           },
           {
            "name": "Missing",
            "count": 8
           }
          ]
         }
        },
        {
         "name": "_deepnote_index_column",
         "dtype": "object"
        }
       ],
       "rows_top": [
        {
         "count": "2686.0",
         "unique": "2686.0",
         "top": "704512.0",
         "freq": "1.0",
         "mean": "nan",
         "std": "nan",
         "min": "nan",
         "25%": "nan",
         "50%": "nan",
         "75%": "nan",
         "max": "nan",
         "_deepnote_index_column": "customerID"
        },
        {
         "count": "2116",
         "unique": "2",
         "top": "F",
         "freq": "1881",
         "mean": "nan",
         "std": "nan",
         "min": "nan",
         "25%": "nan",
         "50%": "nan",
         "75%": "nan",
         "max": "nan",
         "_deepnote_index_column": "gender"
        },
        {
         "count": "2686",
         "unique": "2528",
         "top": "1968-02-12 00:00:00",
         "freq": "3",
         "mean": "nan",
         "std": "nan",
         "min": "nan",
         "25%": "nan",
         "50%": "nan",
         "75%": "nan",
         "max": "nan",
         "_deepnote_index_column": "birthdate"
        },
        {
         "count": "2686",
         "unique": "2686",
         "top": "92.102.54.106",
         "freq": "1",
         "mean": "nan",
         "std": "nan",
         "min": "nan",
         "25%": "nan",
         "50%": "nan",
         "75%": "nan",
         "max": "nan",
         "_deepnote_index_column": "ip_address"
        },
        {
         "count": "2686.0",
         "unique": "nan",
         "top": "nan",
         "freq": "nan",
         "mean": "36.54861342788273",
         "std": "15.81905213122401",
         "min": "-43.65000153",
         "25%": "34.68360138",
         "50%": "38.0",
         "75%": "43.88000107",
         "max": "65.0",
         "_deepnote_index_column": "latitude"
        },
        {
         "count": "2686.0",
         "unique": "nan",
         "top": "nan",
         "freq": "nan",
         "mean": "20.171194482314593",
         "std": "90.45882534867177",
         "min": "-157.8388977",
         "25%": "-77.4838028",
         "50%": "12.316649915",
         "75%": "116.388298",
         "max": "175.6166992",
         "_deepnote_index_column": "longitude"
        },
        {
         "count": "2686",
         "unique": "87",
         "top": "United States of America",
         "freq": "787",
         "mean": "nan",
         "std": "nan",
         "min": "nan",
         "25%": "nan",
         "50%": "nan",
         "75%": "nan",
         "max": "nan",
         "_deepnote_index_column": "Country Name"
        },
        {
         "count": "2686",
         "unique": "87",
         "top": "US",
         "freq": "787",
         "mean": "nan",
         "std": "nan",
         "min": "nan",
         "25%": "nan",
         "50%": "nan",
         "75%": "nan",
         "max": "nan",
         "_deepnote_index_column": "country_code"
        },
        {
         "count": "1474",
         "unique": "581",
         "top": "Beijing",
         "freq": "94",
         "mean": "nan",
         "std": "nan",
         "min": "nan",
         "25%": "nan",
         "50%": "nan",
         "75%": "nan",
         "max": "nan",
         "_deepnote_index_column": "city_name"
        },
        {
         "count": "2686",
         "unique": "2678",
         "top": "BWIT@formation.fr",
         "freq": "2",
         "mean": "nan",
         "std": "nan",
         "min": "nan",
         "25%": "nan",
         "50%": "nan",
         "75%": "nan",
         "max": "nan",
         "_deepnote_index_column": "email"
        }
       ],
       "rows_bottom": null
      },
      "text/plain": "               count  unique                       top  freq       mean  \\\ncustomerID    2686.0  2686.0                  704512.0   1.0        NaN   \ngender          2116       2                         F  1881        NaN   \nbirthdate       2686    2528       1968-02-12 00:00:00     3        NaN   \nip_address      2686    2686             92.102.54.106     1        NaN   \nlatitude      2686.0     NaN                       NaN   NaN  36.548613   \nlongitude     2686.0     NaN                       NaN   NaN  20.171194   \nCountry Name    2686      87  United States of America   787        NaN   \ncountry_code    2686      87                        US   787        NaN   \ncity_name       1474     581                   Beijing    94        NaN   \nemail           2686    2678         BWIT@formation.fr     2        NaN   \n\n                    std         min        25%       50%         75%  \\\ncustomerID          NaN         NaN        NaN       NaN         NaN   \ngender              NaN         NaN        NaN       NaN         NaN   \nbirthdate           NaN         NaN        NaN       NaN         NaN   \nip_address          NaN         NaN        NaN       NaN         NaN   \nlatitude      15.819052  -43.650002  34.683601      38.0   43.880001   \nlongitude     90.458825 -157.838898 -77.483803  12.31665  116.388298   \nCountry Name        NaN         NaN        NaN       NaN         NaN   \ncountry_code        NaN         NaN        NaN       NaN         NaN   \ncity_name           NaN         NaN        NaN       NaN         NaN   \nemail               NaN         NaN        NaN       NaN         NaN   \n\n                     max  \ncustomerID           NaN  \ngender               NaN  \nbirthdate            NaN  \nip_address           NaN  \nlatitude            65.0  \nlongitude     175.616699  \nCountry Name         NaN  \ncountry_code         NaN  \ncity_name            NaN  \nemail                NaN  ",
      "text/html": "<div>\n<style scoped>\n    .dataframe tbody tr th:only-of-type {\n        vertical-align: middle;\n    }\n\n    .dataframe tbody tr th {\n        vertical-align: top;\n    }\n\n    .dataframe thead th {\n        text-align: right;\n    }\n</style>\n<table border=\"1\" class=\"dataframe\">\n  <thead>\n    <tr style=\"text-align: right;\">\n      <th></th>\n      <th>count</th>\n      <th>unique</th>\n      <th>top</th>\n      <th>freq</th>\n      <th>mean</th>\n      <th>std</th>\n      <th>min</th>\n      <th>25%</th>\n      <th>50%</th>\n      <th>75%</th>\n      <th>max</th>\n    </tr>\n  </thead>\n  <tbody>\n    <tr>\n      <th>customerID</th>\n      <td>2686.0</td>\n      <td>2686.0</td>\n      <td>704512.0</td>\n      <td>1.0</td>\n      <td>NaN</td>\n      <td>NaN</td>\n      <td>NaN</td>\n      <td>NaN</td>\n      <td>NaN</td>\n      <td>NaN</td>\n      <td>NaN</td>\n    </tr>\n    <tr>\n      <th>gender</th>\n      <td>2116</td>\n      <td>2</td>\n      <td>F</td>\n      <td>1881</td>\n      <td>NaN</td>\n      <td>NaN</td>\n      <td>NaN</td>\n      <td>NaN</td>\n      <td>NaN</td>\n      <td>NaN</td>\n      <td>NaN</td>\n    </tr>\n    <tr>\n      <th>birthdate</th>\n      <td>2686</td>\n      <td>2528</td>\n      <td>1968-02-12 00:00:00</td>\n      <td>3</td>\n      <td>NaN</td>\n      <td>NaN</td>\n      <td>NaN</td>\n      <td>NaN</td>\n      <td>NaN</td>\n      <td>NaN</td>\n      <td>NaN</td>\n    </tr>\n    <tr>\n      <th>ip_address</th>\n      <td>2686</td>\n      <td>2686</td>\n      <td>92.102.54.106</td>\n      <td>1</td>\n      <td>NaN</td>\n      <td>NaN</td>\n      <td>NaN</td>\n      <td>NaN</td>\n      <td>NaN</td>\n      <td>NaN</td>\n      <td>NaN</td>\n    </tr>\n    <tr>\n      <th>latitude</th>\n      <td>2686.0</td>\n      <td>NaN</td>\n      <td>NaN</td>\n      <td>NaN</td>\n      <td>36.548613</td>\n      <td>15.819052</td>\n      <td>-43.650002</td>\n      <td>34.683601</td>\n      <td>38.0</td>\n      <td>43.880001</td>\n      <td>65.0</td>\n    </tr>\n    <tr>\n      <th>longitude</th>\n      <td>2686.0</td>\n      <td>NaN</td>\n      <td>NaN</td>\n      <td>NaN</td>\n      <td>20.171194</td>\n      <td>90.458825</td>\n      <td>-157.838898</td>\n      <td>-77.483803</td>\n      <td>12.31665</td>\n      <td>116.388298</td>\n      <td>175.616699</td>\n    </tr>\n    <tr>\n      <th>Country Name</th>\n      <td>2686</td>\n      <td>87</td>\n      <td>United States of America</td>\n      <td>787</td>\n      <td>NaN</td>\n      <td>NaN</td>\n      <td>NaN</td>\n      <td>NaN</td>\n      <td>NaN</td>\n      <td>NaN</td>\n      <td>NaN</td>\n    </tr>\n    <tr>\n      <th>country_code</th>\n      <td>2686</td>\n      <td>87</td>\n      <td>US</td>\n      <td>787</td>\n      <td>NaN</td>\n      <td>NaN</td>\n      <td>NaN</td>\n      <td>NaN</td>\n      <td>NaN</td>\n      <td>NaN</td>\n      <td>NaN</td>\n    </tr>\n    <tr>\n      <th>city_name</th>\n      <td>1474</td>\n      <td>581</td>\n      <td>Beijing</td>\n      <td>94</td>\n      <td>NaN</td>\n      <td>NaN</td>\n      <td>NaN</td>\n      <td>NaN</td>\n      <td>NaN</td>\n      <td>NaN</td>\n      <td>NaN</td>\n    </tr>\n    <tr>\n      <th>email</th>\n      <td>2686</td>\n      <td>2678</td>\n      <td>BWIT@formation.fr</td>\n      <td>2</td>\n      <td>NaN</td>\n      <td>NaN</td>\n      <td>NaN</td>\n      <td>NaN</td>\n      <td>NaN</td>\n      <td>NaN</td>\n      <td>NaN</td>\n    </tr>\n  </tbody>\n</table>\n</div>"
     },
     "metadata": {}
    }
   ],
   "execution_count": null
  },
  {
   "cell_type": "markdown",
   "source": "<div class=\"alert alert-block alert-info\">\n<b><p style=\"color:red;\">Exercice 7 : Get the variable type of all columns</p></b>",
   "metadata": {
    "tags": [],
    "cell_id": "00035-0f3863fe-eaa8-41b1-8ca9-177238dd2da6",
    "deepnote_cell_type": "markdown"
   }
  },
  {
   "cell_type": "code",
   "metadata": {
    "tags": [],
    "cell_id": "00032-236c803c-9be5-4042-a817-22669745bd7c",
    "deepnote_to_be_reexecuted": false,
    "source_hash": "b3a49b25",
    "execution_start": 1631558098486,
    "execution_millis": 2,
    "deepnote_cell_type": "code"
   },
   "source": "df_client.dtypes",
   "outputs": [
    {
     "output_type": "execute_result",
     "execution_count": 18,
     "data": {
      "text/plain": "customerID       object\ngender           object\nbirthdate        object\nip_address       object\nlatitude        float64\nlongitude       float64\nCountry Name     object\ncountry_code     object\ncity_name        object\nemail            object\ndtype: object"
     },
     "metadata": {}
    }
   ],
   "execution_count": null
  },
  {
   "cell_type": "markdown",
   "source": "<div class=\"alert alert-block alert-info\">\n<b><p style=\"color:red;\">Exercice 8 : Question: Which country has the most number of clients ?</p></b>",
   "metadata": {
    "tags": [],
    "cell_id": "00037-aedff202-bd05-43c2-aad3-17230cb60415",
    "deepnote_cell_type": "markdown"
   }
  },
  {
   "cell_type": "code",
   "metadata": {
    "tags": [],
    "cell_id": "00033-6e8ca375-5232-4c08-9460-2319d70f6bb4",
    "deepnote_to_be_reexecuted": false,
    "source_hash": "1ff7075",
    "execution_start": 1631558184074,
    "execution_millis": 27,
    "deepnote_cell_type": "code"
   },
   "source": "df_client[\"Country Name\"].value_counts()",
   "outputs": [
    {
     "output_type": "execute_result",
     "execution_count": 21,
     "data": {
      "text/plain": "United States of America        787\nChina, People's Republic of     444\nJapan                           201\nKorea, Republic of              121\nGermany, Federal Republic of    117\n                               ... \nLuxembourg, Grand Duchy of        1\nQatar, State of                   1\nGuadeloupe                        1\nNew Caledonia                     1\nPuerto Rico, Commonwealth of      1\nName: Country Name, Length: 87, dtype: int64"
     },
     "metadata": {}
    }
   ],
   "execution_count": null
  },
  {
   "cell_type": "markdown",
   "source": "<div class=\"alert alert-block alert-info\">\n<b><p style=\"color:red;\">Exercice 9 : Indexing: select the 1st line</p></b>",
   "metadata": {
    "tags": [],
    "cell_id": "00039-738852d2-2d26-432a-96bf-ac923801f9e7",
    "deepnote_cell_type": "markdown"
   }
  },
  {
   "cell_type": "code",
   "metadata": {
    "tags": [],
    "cell_id": "00037-b7aa4c7b-c35e-49a4-b307-89e01b3b1332",
    "deepnote_to_be_reexecuted": false,
    "source_hash": "1036e8b1",
    "execution_start": 1631559013221,
    "execution_millis": 13,
    "deepnote_cell_type": "code"
   },
   "source": "df_client.loc[0]",
   "outputs": [
    {
     "output_type": "execute_result",
     "execution_count": 42,
     "data": {
      "text/plain": "customerID                         38040\ngender                                 F\nbirthdate            1946-12-21 00:00:00\nip_address                 67.74.254.174\nlatitude                            38.0\nlongitude                          -97.0\nCountry Name    United States of America\ncountry_code                          US\ncity_name                            NaN\nemail                  XOQM@formation.fr\nName: 0, dtype: object"
     },
     "metadata": {}
    }
   ],
   "execution_count": null
  },
  {
   "cell_type": "markdown",
   "source": "<div class=\"alert alert-block alert-info\">\n<b><p style=\"color:red;\">Exercice 10 : Select the 1st and 2nd line</p></b>",
   "metadata": {
    "tags": [],
    "cell_id": "00041-5bd5a2b9-a76e-498d-876b-dcb96123e902",
    "deepnote_cell_type": "markdown"
   }
  },
  {
   "cell_type": "code",
   "metadata": {
    "tags": [],
    "cell_id": "00038-82ceecbd-8395-486b-815b-19af70a5050a",
    "deepnote_to_be_reexecuted": false,
    "source_hash": "718ca272",
    "execution_start": 1631559025893,
    "execution_millis": 52,
    "deepnote_cell_type": "code"
   },
   "source": "df_client.loc[0:1]",
   "outputs": [
    {
     "output_type": "execute_result",
     "execution_count": 43,
     "data": {
      "application/vnd.deepnote.dataframe.v2+json": {
       "row_count": 2,
       "column_count": 10,
       "columns": [
        {
         "name": "customerID",
         "dtype": "object",
         "stats": {
          "unique_count": 2,
          "nan_count": 0,
          "categories": [
           {
            "name": "38040",
            "count": 1
           },
           {
            "name": "vft1eu",
            "count": 1
           }
          ]
         }
        },
        {
         "name": "gender",
         "dtype": "object",
         "stats": {
          "unique_count": 1,
          "nan_count": 0,
          "categories": [
           {
            "name": "F",
            "count": 2
           }
          ]
         }
        },
        {
         "name": "birthdate",
         "dtype": "object",
         "stats": {
          "unique_count": 2,
          "nan_count": 0,
          "categories": [
           {
            "name": "1946-12-21",
            "count": 1
           },
           {
            "name": "1969-06-27",
            "count": 1
           }
          ]
         }
        },
        {
         "name": "ip_address",
         "dtype": "object",
         "stats": {
          "unique_count": 2,
          "nan_count": 0,
          "categories": [
           {
            "name": "67.74.254.174",
            "count": 1
           },
           {
            "name": "53.115.6.106",
            "count": 1
           }
          ]
         }
        },
        {
         "name": "latitude",
         "dtype": "float64",
         "stats": {
          "unique_count": 2,
          "nan_count": 0,
          "min": "38.0",
          "max": "51.0",
          "histogram": [
           {
            "bin_start": 38,
            "bin_end": 39.3,
            "count": 1
           },
           {
            "bin_start": 39.3,
            "bin_end": 40.6,
            "count": 0
           },
           {
            "bin_start": 40.6,
            "bin_end": 41.9,
            "count": 0
           },
           {
            "bin_start": 41.9,
            "bin_end": 43.2,
            "count": 0
           },
           {
            "bin_start": 43.2,
            "bin_end": 44.5,
            "count": 0
           },
           {
            "bin_start": 44.5,
            "bin_end": 45.8,
            "count": 0
           },
           {
            "bin_start": 45.8,
            "bin_end": 47.1,
            "count": 0
           },
           {
            "bin_start": 47.1,
            "bin_end": 48.4,
            "count": 0
           },
           {
            "bin_start": 48.4,
            "bin_end": 49.7,
            "count": 0
           },
           {
            "bin_start": 49.7,
            "bin_end": 51,
            "count": 1
           }
          ]
         }
        },
        {
         "name": "longitude",
         "dtype": "float64",
         "stats": {
          "unique_count": 2,
          "nan_count": 0,
          "min": "-97.0",
          "max": "9.0",
          "histogram": [
           {
            "bin_start": -97,
            "bin_end": -86.4,
            "count": 1
           },
           {
            "bin_start": -86.4,
            "bin_end": -75.8,
            "count": 0
           },
           {
            "bin_start": -75.8,
            "bin_end": -65.2,
            "count": 0
           },
           {
            "bin_start": -65.2,
            "bin_end": -54.6,
            "count": 0
           },
           {
            "bin_start": -54.6,
            "bin_end": -44,
            "count": 0
           },
           {
            "bin_start": -44,
            "bin_end": -33.400000000000006,
            "count": 0
           },
           {
            "bin_start": -33.400000000000006,
            "bin_end": -22.799999999999997,
            "count": 0
           },
           {
            "bin_start": -22.799999999999997,
            "bin_end": -12.200000000000003,
            "count": 0
           },
           {
            "bin_start": -12.200000000000003,
            "bin_end": -1.6000000000000085,
            "count": 0
           },
           {
            "bin_start": -1.6000000000000085,
            "bin_end": 9,
            "count": 1
           }
          ]
         }
        },
        {
         "name": "Country Name",
         "dtype": "object",
         "stats": {
          "unique_count": 2,
          "nan_count": 0,
          "categories": [
           {
            "name": "United States of America",
            "count": 1
           },
           {
            "name": "Germany, Federal Republic of",
            "count": 1
           }
          ]
         }
        },
        {
         "name": "country_code",
         "dtype": "object",
         "stats": {
          "unique_count": 2,
          "nan_count": 0,
          "categories": [
           {
            "name": "US",
            "count": 1
           },
           {
            "name": "DE",
            "count": 1
           }
          ]
         }
        },
        {
         "name": "city_name",
         "dtype": "object",
         "stats": {
          "unique_count": 0,
          "nan_count": 2,
          "categories": [
           {
            "name": "Missing",
            "count": 2
           }
          ]
         }
        },
        {
         "name": "email",
         "dtype": "object",
         "stats": {
          "unique_count": 2,
          "nan_count": 0,
          "categories": [
           {
            "name": "XOQM@formation.fr",
            "count": 1
           },
           {
            "name": "HEOX@formation.fr",
            "count": 1
           }
          ]
         }
        },
        {
         "name": "_deepnote_index_column",
         "dtype": "int64"
        }
       ],
       "rows_top": [
        {
         "customerID": "38040",
         "gender": "F",
         "birthdate": "1946-12-21 00:00:00",
         "ip_address": "67.74.254.174",
         "latitude": 38,
         "longitude": -97,
         "Country Name": "United States of America",
         "country_code": "US",
         "city_name": "nan",
         "email": "XOQM@formation.fr",
         "_deepnote_index_column": 0
        },
        {
         "customerID": "vft1eu",
         "gender": "F",
         "birthdate": "1969-06-27 00:00:00",
         "ip_address": "53.115.6.106",
         "latitude": 51,
         "longitude": 9,
         "Country Name": "Germany, Federal Republic of",
         "country_code": "DE",
         "city_name": "nan",
         "email": "HEOX@formation.fr",
         "_deepnote_index_column": 1
        }
       ],
       "rows_bottom": null
      },
      "text/plain": "  customerID gender            birthdate     ip_address  latitude  longitude  \\\n0      38040      F  1946-12-21 00:00:00  67.74.254.174      38.0      -97.0   \n1     vft1eu      F  1969-06-27 00:00:00   53.115.6.106      51.0        9.0   \n\n                   Country Name country_code city_name              email  \n0      United States of America           US       NaN  XOQM@formation.fr  \n1  Germany, Federal Republic of           DE       NaN  HEOX@formation.fr  ",
      "text/html": "<div>\n<style scoped>\n    .dataframe tbody tr th:only-of-type {\n        vertical-align: middle;\n    }\n\n    .dataframe tbody tr th {\n        vertical-align: top;\n    }\n\n    .dataframe thead th {\n        text-align: right;\n    }\n</style>\n<table border=\"1\" class=\"dataframe\">\n  <thead>\n    <tr style=\"text-align: right;\">\n      <th></th>\n      <th>customerID</th>\n      <th>gender</th>\n      <th>birthdate</th>\n      <th>ip_address</th>\n      <th>latitude</th>\n      <th>longitude</th>\n      <th>Country Name</th>\n      <th>country_code</th>\n      <th>city_name</th>\n      <th>email</th>\n    </tr>\n  </thead>\n  <tbody>\n    <tr>\n      <th>0</th>\n      <td>38040</td>\n      <td>F</td>\n      <td>1946-12-21 00:00:00</td>\n      <td>67.74.254.174</td>\n      <td>38.0</td>\n      <td>-97.0</td>\n      <td>United States of America</td>\n      <td>US</td>\n      <td>NaN</td>\n      <td>XOQM@formation.fr</td>\n    </tr>\n    <tr>\n      <th>1</th>\n      <td>vft1eu</td>\n      <td>F</td>\n      <td>1969-06-27 00:00:00</td>\n      <td>53.115.6.106</td>\n      <td>51.0</td>\n      <td>9.0</td>\n      <td>Germany, Federal Republic of</td>\n      <td>DE</td>\n      <td>NaN</td>\n      <td>HEOX@formation.fr</td>\n    </tr>\n  </tbody>\n</table>\n</div>"
     },
     "metadata": {}
    }
   ],
   "execution_count": null
  },
  {
   "cell_type": "markdown",
   "source": "<div class=\"alert alert-block alert-info\">\n<b><p style=\"color:red;\">Exercice 11 : What is the customerID and the gender of the only person living in Guadeloupe ? </p></b>",
   "metadata": {
    "tags": [],
    "cell_id": "00043-01c6687d-5068-42ae-b489-11757fda8004",
    "deepnote_cell_type": "markdown"
   }
  },
  {
   "cell_type": "code",
   "metadata": {
    "tags": [],
    "cell_id": "00036-8a4f9a3a-ced6-47ca-81d6-6610491d80e5",
    "deepnote_to_be_reexecuted": false,
    "source_hash": "8252e546",
    "execution_start": 1631558965370,
    "execution_millis": 74,
    "deepnote_cell_type": "code"
   },
   "source": "df_client[df_client[\"Country Name\"]==\"Guadeloupe\"]",
   "outputs": [
    {
     "output_type": "execute_result",
     "execution_count": 40,
     "data": {
      "application/vnd.deepnote.dataframe.v2+json": {
       "row_count": 1,
       "column_count": 10,
       "columns": [
        {
         "name": "customerID",
         "dtype": "object",
         "stats": {
          "unique_count": 1,
          "nan_count": 0,
          "categories": [
           {
            "name": "186543",
            "count": 1
           }
          ]
         }
        },
        {
         "name": "gender",
         "dtype": "object",
         "stats": {
          "unique_count": 1,
          "nan_count": 0,
          "categories": [
           {
            "name": "F",
            "count": 1
           }
          ]
         }
        },
        {
         "name": "birthdate",
         "dtype": "object",
         "stats": {
          "unique_count": 1,
          "nan_count": 0,
          "categories": [
           {
            "name": "1946-11-14",
            "count": 1
           }
          ]
         }
        },
        {
         "name": "ip_address",
         "dtype": "object",
         "stats": {
          "unique_count": 1,
          "nan_count": 0,
          "categories": [
           {
            "name": "93.121.238.251",
            "count": 1
           }
          ]
         }
        },
        {
         "name": "latitude",
         "dtype": "float64",
         "stats": {
          "unique_count": 1,
          "nan_count": 0,
          "min": "16.33329964",
          "max": "16.33329964",
          "histogram": [
           {
            "bin_start": 15.83329964,
            "bin_end": 15.93329964,
            "count": 0
           },
           {
            "bin_start": 15.93329964,
            "bin_end": 16.03329964,
            "count": 0
           },
           {
            "bin_start": 16.03329964,
            "bin_end": 16.13329964,
            "count": 0
           },
           {
            "bin_start": 16.13329964,
            "bin_end": 16.23329964,
            "count": 0
           },
           {
            "bin_start": 16.23329964,
            "bin_end": 16.33329964,
            "count": 0
           },
           {
            "bin_start": 16.33329964,
            "bin_end": 16.43329964,
            "count": 1
           },
           {
            "bin_start": 16.43329964,
            "bin_end": 16.53329964,
            "count": 0
           },
           {
            "bin_start": 16.53329964,
            "bin_end": 16.63329964,
            "count": 0
           },
           {
            "bin_start": 16.63329964,
            "bin_end": 16.73329964,
            "count": 0
           },
           {
            "bin_start": 16.73329964,
            "bin_end": 16.83329964,
            "count": 0
           }
          ]
         }
        },
        {
         "name": "longitude",
         "dtype": "float64",
         "stats": {
          "unique_count": 1,
          "nan_count": 0,
          "min": "-61.45000076",
          "max": "-61.45000076",
          "histogram": [
           {
            "bin_start": -61.95000076,
            "bin_end": -61.85000076,
            "count": 0
           },
           {
            "bin_start": -61.85000076,
            "bin_end": -61.75000076,
            "count": 0
           },
           {
            "bin_start": -61.75000076,
            "bin_end": -61.650000760000005,
            "count": 0
           },
           {
            "bin_start": -61.650000760000005,
            "bin_end": -61.55000076,
            "count": 0
           },
           {
            "bin_start": -61.55000076,
            "bin_end": -61.45000076,
            "count": 0
           },
           {
            "bin_start": -61.45000076,
            "bin_end": -61.35000076,
            "count": 1
           },
           {
            "bin_start": -61.35000076,
            "bin_end": -61.25000076,
            "count": 0
           },
           {
            "bin_start": -61.25000076,
            "bin_end": -61.150000760000005,
            "count": 0
           },
           {
            "bin_start": -61.150000760000005,
            "bin_end": -61.05000076,
            "count": 0
           },
           {
            "bin_start": -61.05000076,
            "bin_end": -60.95000076,
            "count": 0
           }
          ]
         }
        },
        {
         "name": "Country Name",
         "dtype": "object",
         "stats": {
          "unique_count": 1,
          "nan_count": 0,
          "categories": [
           {
            "name": "Guadeloupe",
            "count": 1
           }
          ]
         }
        },
        {
         "name": "country_code",
         "dtype": "object",
         "stats": {
          "unique_count": 1,
          "nan_count": 0,
          "categories": [
           {
            "name": "GP",
            "count": 1
           }
          ]
         }
        },
        {
         "name": "city_name",
         "dtype": "object",
         "stats": {
          "unique_count": 1,
          "nan_count": 0,
          "categories": [
           {
            "name": "Morne-à-l'eau",
            "count": 1
           }
          ]
         }
        },
        {
         "name": "email",
         "dtype": "object",
         "stats": {
          "unique_count": 1,
          "nan_count": 0,
          "categories": [
           {
            "name": "NIHH@formation.fr",
            "count": 1
           }
          ]
         }
        },
        {
         "name": "_deepnote_index_column",
         "dtype": "int64"
        }
       ],
       "rows_top": [
        {
         "customerID": "186543",
         "gender": "F",
         "birthdate": "1946-11-14 00:00:00",
         "ip_address": "93.121.238.251",
         "latitude": 16.33329964,
         "longitude": -61.45000076,
         "Country Name": "Guadeloupe",
         "country_code": "GP",
         "city_name": "Morne-à-l'eau",
         "email": "NIHH@formation.fr",
         "_deepnote_index_column": 1934
        }
       ],
       "rows_bottom": null
      },
      "text/plain": "     customerID gender            birthdate      ip_address  latitude  \\\n1934     186543      F  1946-11-14 00:00:00  93.121.238.251   16.3333   \n\n      longitude Country Name country_code      city_name              email  \n1934 -61.450001   Guadeloupe           GP  Morne-à-l'eau  NIHH@formation.fr  ",
      "text/html": "<div>\n<style scoped>\n    .dataframe tbody tr th:only-of-type {\n        vertical-align: middle;\n    }\n\n    .dataframe tbody tr th {\n        vertical-align: top;\n    }\n\n    .dataframe thead th {\n        text-align: right;\n    }\n</style>\n<table border=\"1\" class=\"dataframe\">\n  <thead>\n    <tr style=\"text-align: right;\">\n      <th></th>\n      <th>customerID</th>\n      <th>gender</th>\n      <th>birthdate</th>\n      <th>ip_address</th>\n      <th>latitude</th>\n      <th>longitude</th>\n      <th>Country Name</th>\n      <th>country_code</th>\n      <th>city_name</th>\n      <th>email</th>\n    </tr>\n  </thead>\n  <tbody>\n    <tr>\n      <th>1934</th>\n      <td>186543</td>\n      <td>F</td>\n      <td>1946-11-14 00:00:00</td>\n      <td>93.121.238.251</td>\n      <td>16.3333</td>\n      <td>-61.450001</td>\n      <td>Guadeloupe</td>\n      <td>GP</td>\n      <td>Morne-à-l'eau</td>\n      <td>NIHH@formation.fr</td>\n    </tr>\n  </tbody>\n</table>\n</div>"
     },
     "metadata": {}
    }
   ],
   "execution_count": null
  },
  {
   "cell_type": "markdown",
   "source": "<div class=\"alert alert-block alert-info\">\n<b><p style=\"color:red;\">Exercice 12 : Count the number of male and female in the Client Table</p></b>",
   "metadata": {
    "tags": [],
    "cell_id": "00045-9615893b-ce0e-41f8-97b9-8445c455c069",
    "deepnote_cell_type": "markdown"
   }
  },
  {
   "cell_type": "code",
   "metadata": {
    "tags": [],
    "cell_id": "00036-1195c6bc-2268-430e-bc29-d4bb2891d880",
    "deepnote_to_be_reexecuted": false,
    "source_hash": "a20f20d0",
    "execution_start": 1631558618948,
    "execution_millis": 23,
    "deepnote_cell_type": "code"
   },
   "source": "col_list = [\"gender\", \"customerID\"]\ndf_client[col_list].groupby(\"gender\").count()",
   "outputs": [
    {
     "output_type": "execute_result",
     "execution_count": 28,
     "data": {
      "application/vnd.deepnote.dataframe.v2+json": {
       "row_count": 2,
       "column_count": 1,
       "columns": [
        {
         "name": "customerID",
         "dtype": "int64",
         "stats": {
          "unique_count": 2,
          "nan_count": 0,
          "min": "235",
          "max": "1881",
          "histogram": [
           {
            "bin_start": 235,
            "bin_end": 399.6,
            "count": 1
           },
           {
            "bin_start": 399.6,
            "bin_end": 564.2,
            "count": 0
           },
           {
            "bin_start": 564.2,
            "bin_end": 728.8,
            "count": 0
           },
           {
            "bin_start": 728.8,
            "bin_end": 893.4,
            "count": 0
           },
           {
            "bin_start": 893.4,
            "bin_end": 1058,
            "count": 0
           },
           {
            "bin_start": 1058,
            "bin_end": 1222.6,
            "count": 0
           },
           {
            "bin_start": 1222.6,
            "bin_end": 1387.2,
            "count": 0
           },
           {
            "bin_start": 1387.2,
            "bin_end": 1551.8,
            "count": 0
           },
           {
            "bin_start": 1551.8,
            "bin_end": 1716.3999999999999,
            "count": 0
           },
           {
            "bin_start": 1716.3999999999999,
            "bin_end": 1881,
            "count": 1
           }
          ]
         }
        },
        {
         "name": "_deepnote_index_column",
         "dtype": "object"
        }
       ],
       "rows_top": [
        {
         "customerID": 1881,
         "_deepnote_index_column": "F"
        },
        {
         "customerID": 235,
         "_deepnote_index_column": "M"
        }
       ],
       "rows_bottom": null
      },
      "text/plain": "        customerID\ngender            \nF             1881\nM              235",
      "text/html": "<div>\n<style scoped>\n    .dataframe tbody tr th:only-of-type {\n        vertical-align: middle;\n    }\n\n    .dataframe tbody tr th {\n        vertical-align: top;\n    }\n\n    .dataframe thead th {\n        text-align: right;\n    }\n</style>\n<table border=\"1\" class=\"dataframe\">\n  <thead>\n    <tr style=\"text-align: right;\">\n      <th></th>\n      <th>customerID</th>\n    </tr>\n    <tr>\n      <th>gender</th>\n      <th></th>\n    </tr>\n  </thead>\n  <tbody>\n    <tr>\n      <th>F</th>\n      <td>1881</td>\n    </tr>\n    <tr>\n      <th>M</th>\n      <td>235</td>\n    </tr>\n  </tbody>\n</table>\n</div>"
     },
     "metadata": {}
    }
   ],
   "execution_count": null
  },
  {
   "cell_type": "markdown",
   "source": "# 2 - Data Processing: Join / Concatenate",
   "metadata": {
    "tags": [],
    "is_collapsed": false,
    "cell_id": "00013-963f0883-270f-4752-aecf-5b187d621f02",
    "deepnote_cell_type": "text-cell-h1"
   }
  },
  {
   "cell_type": "markdown",
   "source": "## 2.1 Concatenate",
   "metadata": {
    "tags": [],
    "is_collapsed": false,
    "cell_id": "00014-e2b0c2ca-edde-4b95-833b-a0f4a18fccde",
    "deepnote_cell_type": "text-cell-h2"
   }
  },
  {
   "cell_type": "markdown",
   "source": "<div class=\"alert alert-block alert-info\">\n<b><p style=\"color:red;\">Exercice 13: Concatenate/Union of the 3 Sales Table</p></b>\nConcatenate the tables <b>df_vente_part1, df_vente_part2 and df_vente_part3</b> together into 1 table. <br>\nYou will need the function <b>pandas.concat</b> : <a href=\"https://pandas.pydata.org/docs/reference/api/pandas.concat.html\">https://pandas.pydata.org/docs/reference/api/pandas.concat.html</a> <br>\nWe advice that you look at your data shape first, concatenate your tables, and check at the end your shape\n",
   "metadata": {
    "tags": [],
    "cell_id": "00023-0e6bb848-e21c-4cce-80ee-2821e5b8644e",
    "deepnote_cell_type": "markdown"
   }
  },
  {
   "cell_type": "code",
   "metadata": {
    "tags": [],
    "cell_id": "00000-3b819c05-9909-4c44-9777-333da93e0550",
    "deepnote_to_be_reexecuted": false,
    "source_hash": "beae61ca",
    "execution_start": 1631560782778,
    "execution_millis": 165,
    "is_output_hidden": true,
    "deepnote_cell_type": "code"
   },
   "source": "# Write your code here\nlst_ventes = [df_vente_part1, df_vente_part2, df_vente_part3]\ndf_vente = pd.concat(lst_ventes)\n\nprint(df_vente_part1.shape)\nprint(df_vente_part2.shape)\nprint(df_vente_part3.shape)\nprint(df_vente.shape)\ndf_vente",
   "outputs": [
    {
     "name": "stdout",
     "text": "(4998, 8)\n(4998, 8)\n(2925, 8)\n(12921, 8)\n",
     "output_type": "stream"
    },
    {
     "output_type": "execute_result",
     "execution_count": 47,
     "data": {
      "application/vnd.deepnote.dataframe.v2+json": {
       "row_count": 12921,
       "column_count": 8,
       "columns": [
        {
         "name": "customer_id",
         "dtype": "object",
         "stats": {
          "unique_count": 5380,
          "nan_count": 0,
          "categories": [
           {
            "name": "536917",
            "count": 13
           },
           {
            "name": "409679",
            "count": 13
           },
           {
            "name": "5378 others",
            "count": 12895
           }
          ]
         }
        },
        {
         "name": "order_date",
         "dtype": "object",
         "stats": {
          "unique_count": 1401,
          "nan_count": 0,
          "categories": [
           {
            "name": "02/11/2015",
            "count": 25
           },
           {
            "name": "05/11/2015",
            "count": 25
           },
           {
            "name": "1399 others",
            "count": 12871
           }
          ]
         }
        },
        {
         "name": "order_id",
         "dtype": "object",
         "stats": {
          "unique_count": 12902,
          "nan_count": 0,
          "categories": [
           {
            "name": "HTS-296958-0001",
            "count": 2
           },
           {
            "name": "HTS-923895-0002",
            "count": 2
           },
           {
            "name": "12900 others",
            "count": 12917
           }
          ]
         }
        },
        {
         "name": "pages_visited",
         "dtype": "int64",
         "stats": {
          "unique_count": 25,
          "nan_count": 0,
          "min": "2",
          "max": "28",
          "histogram": [
           {
            "bin_start": 2,
            "bin_end": 4.6,
            "count": 394
           },
           {
            "bin_start": 4.6,
            "bin_end": 7.2,
            "count": 2004
           },
           {
            "bin_start": 7.2,
            "bin_end": 9.8,
            "count": 2495
           },
           {
            "bin_start": 9.8,
            "bin_end": 12.4,
            "count": 4063
           },
           {
            "bin_start": 12.4,
            "bin_end": 15,
            "count": 1990
           },
           {
            "bin_start": 15,
            "bin_end": 17.6,
            "count": 1513
           },
           {
            "bin_start": 17.6,
            "bin_end": 20.2,
            "count": 376
           },
           {
            "bin_start": 20.2,
            "bin_end": 22.8,
            "count": 60
           },
           {
            "bin_start": 22.8,
            "bin_end": 25.400000000000002,
            "count": 25
           },
           {
            "bin_start": 25.400000000000002,
            "bin_end": 28,
            "count": 1
           }
          ]
         }
        },
        {
         "name": "tshirt_category",
         "dtype": "object",
         "stats": {
          "unique_count": 10,
          "nan_count": 0,
          "categories": [
           {
            "name": "Hoodie",
            "count": 3047
           },
           {
            "name": "White T-Shirt M",
            "count": 2717
           },
           {
            "name": "8 others",
            "count": 7157
           }
          ]
         }
        },
        {
         "name": "tshirt_price",
         "dtype": "object",
         "stats": {
          "unique_count": 6,
          "nan_count": 0,
          "categories": [
           {
            "name": "23",
            "count": 3047
           },
           {
            "name": "20",
            "count": 2955
           },
           {
            "name": "4 others",
            "count": 6919
           }
          ]
         }
        },
        {
         "name": "tshirt_quantity",
         "dtype": "int64",
         "stats": {
          "unique_count": 28,
          "nan_count": 0,
          "min": "1",
          "max": "29",
          "histogram": [
           {
            "bin_start": 1,
            "bin_end": 3.8,
            "count": 10651
           },
           {
            "bin_start": 3.8,
            "bin_end": 6.6,
            "count": 1459
           },
           {
            "bin_start": 6.6,
            "bin_end": 9.399999999999999,
            "count": 181
           },
           {
            "bin_start": 9.399999999999999,
            "bin_end": 12.2,
            "count": 122
           },
           {
            "bin_start": 12.2,
            "bin_end": 15,
            "count": 116
           },
           {
            "bin_start": 15,
            "bin_end": 17.799999999999997,
            "count": 170
           },
           {
            "bin_start": 17.799999999999997,
            "bin_end": 20.599999999999998,
            "count": 126
           },
           {
            "bin_start": 20.599999999999998,
            "bin_end": 23.4,
            "count": 65
           },
           {
            "bin_start": 23.4,
            "bin_end": 26.2,
            "count": 27
           },
           {
            "bin_start": 26.2,
            "bin_end": 29,
            "count": 4
           }
          ]
         }
        },
        {
         "name": "user_agent",
         "dtype": "object"
        },
        {
         "name": "_deepnote_index_column",
         "dtype": "int64"
        }
       ],
       "rows_top": [
        {
         "customer_id": "38040",
         "order_date": "04/09/2016",
         "order_id": "HTS-038040-0002",
         "pages_visited": 9,
         "tshirt_category": "White T-Shirt M",
         "tshirt_price": "20",
         "tshirt_quantity": 1,
         "user_agent": "Mozilla/5.0 (Windows NT 10.0| WOW64) AppleWebKit/537.36 (KHTML, like Gecko) Chrome/56.0.2924.87 Saf…",
         "_deepnote_index_column": 0
        },
        {
         "customer_id": "vft1eu",
         "order_date": "26/02/2017",
         "order_id": "HTS-vft1eu-0003",
         "pages_visited": 10,
         "tshirt_category": "White T-Shirt F",
         "tshirt_price": "18",
         "tshirt_quantity": 3,
         "user_agent": "Mozilla/5.0 (Macintosh| Intel Mac OS X 10_12_3) AppleWebKit/602.4.8 (KHTML, like Gecko) Version/10.…",
         "_deepnote_index_column": 1
        },
        {
         "customer_id": "914324",
         "order_date": "01/12/2013",
         "order_id": "HTS-914324-0001",
         "pages_visited": 10,
         "tshirt_category": "Wh Tshirt F",
         "tshirt_price": "18",
         "tshirt_quantity": 1,
         "user_agent": "Mozilla/5.0 (Windows NT 10.0| WOW64) AppleWebKit/537.36 (KHTML, like Gecko) Chrome/56.0.2924.87 Saf…",
         "_deepnote_index_column": 2
        },
        {
         "customer_id": "61311",
         "order_date": "15/01/2016",
         "order_id": "HTS-061311-0003",
         "pages_visited": 9,
         "tshirt_category": "Black T-Shirt F",
         "tshirt_price": "17,5",
         "tshirt_quantity": 4,
         "user_agent": "Mozilla/5.0 (Macintosh| Intel Mac OS X 10_12_3) AppleWebKit/537.36 (KHTML, like Gecko) Chrome/56.0.…",
         "_deepnote_index_column": 3
        },
        {
         "customer_id": "494332",
         "order_date": "03/11/2013",
         "order_id": "HTS-494332-0001",
         "pages_visited": 10,
         "tshirt_category": "Wh Tshirt F",
         "tshirt_price": "18",
         "tshirt_quantity": 2,
         "user_agent": "Mozilla/5.0 (Macintosh| Intel Mac OS X 10_11_6) AppleWebKit/537.36 (KHTML, like Gecko) Chrome/56.0.…",
         "_deepnote_index_column": 4
        },
        {
         "customer_id": "463794",
         "order_date": "02/10/2013",
         "order_id": "HTS-463794-0001",
         "pages_visited": 14,
         "tshirt_category": "Tennis Shirt",
         "tshirt_price": "24",
         "tshirt_quantity": 1,
         "user_agent": "Mozilla/5.0 (Windows NT 10.0| Win64| x64) AppleWebKit/537.36 (KHTML, like Gecko) Chrome/56.0.2924.8…",
         "_deepnote_index_column": 5
        },
        {
         "customer_id": "132885",
         "order_date": "23/07/2013",
         "order_id": "HTS-132885-0001",
         "pages_visited": 17,
         "tshirt_category": "Wh Tshirt M",
         "tshirt_price": "20",
         "tshirt_quantity": 1,
         "user_agent": "Mozilla/5.0 (Windows NT 10.0| Win64| x64) AppleWebKit/537.36 (KHTML, like Gecko) Chrome/56.0.2924.8…",
         "_deepnote_index_column": 6
        },
        {
         "customer_id": "519113",
         "order_date": "24/11/2013",
         "order_id": "HTS-519113-0001",
         "pages_visited": 17,
         "tshirt_category": "Bl Tshirt F",
         "tshirt_price": "17,5",
         "tshirt_quantity": 1,
         "user_agent": "Mozilla/5.0 (Windows NT 6.1| WOW64) AppleWebKit/537.36 (KHTML, like Gecko) Chrome/56.0.2924.87 Safa…",
         "_deepnote_index_column": 7
        },
        {
         "customer_id": "je57lh",
         "order_date": "24/11/2015",
         "order_id": "HTS-je57lh-0001",
         "pages_visited": 15,
         "tshirt_category": "Hoodie",
         "tshirt_price": "23",
         "tshirt_quantity": 3,
         "user_agent": "Mozilla/5.0 (Windows NT 10.0| Win64| x64) AppleWebKit/537.36 (KHTML, like Gecko) Chrome/56.0.2924.8…",
         "_deepnote_index_column": 8
        },
        {
         "customer_id": "49348",
         "order_date": "15/08/2016",
         "order_id": "HTS-049348-0004",
         "pages_visited": 6,
         "tshirt_category": "Black T-Shirt F",
         "tshirt_price": "17,5",
         "tshirt_quantity": 1,
         "user_agent": "Mozilla/5.0 (Macintosh| Intel Mac OS X 10_11_6) AppleWebKit/537.36 (KHTML, like Gecko) Chrome/56.0.…",
         "_deepnote_index_column": 9
        },
        {
         "customer_id": "heb26i",
         "order_date": "29/11/2015",
         "order_id": "HTS-heb26i-0001",
         "pages_visited": 15,
         "tshirt_category": "Black T-Shirt F",
         "tshirt_price": "17,5",
         "tshirt_quantity": 1,
         "user_agent": "Mozilla/5.0 (Windows NT 6.1| Win64| x64) AppleWebKit/537.36 (KHTML, like Gecko) Chrome/56.0.2924.87…",
         "_deepnote_index_column": 10
        },
        {
         "customer_id": "989355",
         "order_date": "09/10/2015",
         "order_id": "HTS-989355-0003",
         "pages_visited": 10,
         "tshirt_category": "Hoodie",
         "tshirt_price": "23",
         "tshirt_quantity": 2,
         "user_agent": "Mozilla/5.0 (Windows NT 6.1| WOW64) AppleWebKit/537.36 (KHTML, like Gecko) Chrome/56.0.2924.87 Safa…",
         "_deepnote_index_column": 11
        },
        {
         "customer_id": "1b0lnt",
         "order_date": "16/01/2016",
         "order_id": "HTS-1b0lnt-0002",
         "pages_visited": 15,
         "tshirt_category": "White T-Shirt M",
         "tshirt_price": "20",
         "tshirt_quantity": 1,
         "user_agent": "Mozilla/5.0 (X11| Linux x86_64) AppleWebKit/537.36 (KHTML, like Gecko) Chrome/56.0.2924.87 Safari/5…",
         "_deepnote_index_column": 12
        },
        {
         "customer_id": "198773",
         "order_date": "17/01/2015",
         "order_id": "HTS-198773-0002",
         "pages_visited": 5,
         "tshirt_category": "White T-Shirt M",
         "tshirt_price": "20",
         "tshirt_quantity": 1,
         "user_agent": "Mozilla/5.0 (Windows NT 10.0| Win64| x64) AppleWebKit/537.36 (KHTML, like Gecko) Chrome/56.0.2924.8…",
         "_deepnote_index_column": 13
        },
        {
         "customer_id": "476084",
         "order_date": "20/07/2014",
         "order_id": "HTS-476084-0001",
         "pages_visited": 11,
         "tshirt_category": "White T-Shirt M",
         "tshirt_price": "20",
         "tshirt_quantity": 2,
         "user_agent": "Mozilla/5.0 (Windows NT 10.0| Win64| x64) AppleWebKit/537.36 (KHTML, like Gecko) Chrome/56.0.2924.8…",
         "_deepnote_index_column": 14
        },
        {
         "customer_id": "907041",
         "order_date": "20/05/2016",
         "order_id": "HTS-907041-0002",
         "pages_visited": 14,
         "tshirt_category": "White T-Shirt F",
         "tshirt_price": "18",
         "tshirt_quantity": 3,
         "user_agent": "Mozilla/5.0 (Windows NT 6.1| WOW64| rv:51.0) Gecko/20100101 Firefox/51.0",
         "_deepnote_index_column": 15
        },
        {
         "customer_id": "399607",
         "order_date": "09/03/2014",
         "order_id": "HTS-399607-0002",
         "pages_visited": 12,
         "tshirt_category": "White T-Shirt M",
         "tshirt_price": "20",
         "tshirt_quantity": 5,
         "user_agent": "Mozilla/5.0 (Windows NT 6.1| WOW64) AppleWebKit/537.36 (KHTML, like Gecko) Chrome/56.0.2924.87 Safa…",
         "_deepnote_index_column": 16
        },
        {
         "customer_id": "610587",
         "order_date": "08/01/2017",
         "order_id": "HTS-610587-0004",
         "pages_visited": 5,
         "tshirt_category": "Hoodie",
         "tshirt_price": "23",
         "tshirt_quantity": 1,
         "user_agent": "Mozilla/5.0 (X11| Linux x86_64) AppleWebKit/537.36 (KHTML, like Gecko) Chrome/56.0.2924.87 Safari/5…",
         "_deepnote_index_column": 17
        },
        {
         "customer_id": "707341",
         "order_date": "03/10/2014",
         "order_id": "HTS-707341-0003",
         "pages_visited": 8,
         "tshirt_category": "Black T-Shirt M",
         "tshirt_price": "19",
         "tshirt_quantity": 3,
         "user_agent": "Mozilla/5.0 (Macintosh| Intel Mac OS X 10_12_3) AppleWebKit/602.4.8 (KHTML, like Gecko) Version/10.…",
         "_deepnote_index_column": 18
        },
        {
         "customer_id": "pq3m7c",
         "order_date": "08/09/2015",
         "order_id": "HTS-pq3m7c-0001",
         "pages_visited": 11,
         "tshirt_category": "Hoodie",
         "tshirt_price": "23",
         "tshirt_quantity": 1,
         "user_agent": "Mozilla/5.0 (Windows NT 6.1| WOW64| rv:52.0) Gecko/20100101 Firefox/52.0",
         "_deepnote_index_column": 19
        },
        {
         "customer_id": "0lkdil",
         "order_date": "19/12/2016",
         "order_id": "HTS-0lkdil-0002",
         "pages_visited": 8,
         "tshirt_category": "Black T-Shirt F",
         "tshirt_price": "17,5",
         "tshirt_quantity": 1,
         "user_agent": "Mozilla/5.0 (Macintosh| Intel Mac OS X 10_12_3) AppleWebKit/537.36 (KHTML, like Gecko) Chrome/56.0.…",
         "_deepnote_index_column": 20
        },
        {
         "customer_id": "318409",
         "order_date": "02/08/2015",
         "order_id": "HTS-318409-0001",
         "pages_visited": 19,
         "tshirt_category": "Black T-Shirt M",
         "tshirt_price": "19",
         "tshirt_quantity": 1,
         "user_agent": "Mozilla/5.0 (Macintosh| Intel Mac OS X 10_12_3) AppleWebKit/602.4.8 (KHTML, like Gecko) Version/10.…",
         "_deepnote_index_column": 21
        },
        {
         "customer_id": "964210",
         "order_date": "15/09/2014",
         "order_id": "HTS-964210-0002",
         "pages_visited": 6,
         "tshirt_category": "Black T-Shirt F",
         "tshirt_price": "17,5",
         "tshirt_quantity": 1,
         "user_agent": "Mozilla/5.0 (Windows NT 6.1| Win64| x64) AppleWebKit/537.36 (KHTML, like Gecko) Chrome/56.0.2924.87…",
         "_deepnote_index_column": 22
        },
        {
         "customer_id": "162811",
         "order_date": "23/06/2015",
         "order_id": "HTS-162811-0002",
         "pages_visited": 6,
         "tshirt_category": "Black T-Shirt M",
         "tshirt_price": "19",
         "tshirt_quantity": 3,
         "user_agent": "Mozilla/5.0 (Windows NT 6.1| WOW64| rv:51.0) Gecko/20100101 Firefox/51.0",
         "_deepnote_index_column": 23
        },
        {
         "customer_id": "760379",
         "order_date": "26/08/2013",
         "order_id": "HTS-760379-0001",
         "pages_visited": 14,
         "tshirt_category": "Hoodie",
         "tshirt_price": "23",
         "tshirt_quantity": 1,
         "user_agent": "Mozilla/5.0 (Windows NT 10.0| WOW64| rv:51.0) Gecko/20100101 Firefox/51.0",
         "_deepnote_index_column": 24
        },
        {
         "customer_id": "710433",
         "order_date": "28/01/2015",
         "order_id": "HTS-710433-0001",
         "pages_visited": 11,
         "tshirt_category": "White T-Shirt F",
         "tshirt_price": "18",
         "tshirt_quantity": 1,
         "user_agent": "Mozilla/5.0 (Windows NT 6.1| WOW64) AppleWebKit/537.36 (KHTML, like Gecko) Chrome/56.0.2924.87 Safa…",
         "_deepnote_index_column": 25
        },
        {
         "customer_id": "kuqsq1",
         "order_date": "06/12/2016",
         "order_id": "HTS-kuqsq1-0002",
         "pages_visited": 16,
         "tshirt_category": "Black T-Shirt F",
         "tshirt_price": "17,5",
         "tshirt_quantity": 1,
         "user_agent": "Mozilla/5.0 (Windows NT 10.0| Win64| x64) AppleWebKit/537.36 (KHTML, like Gecko) Chrome/56.0.2924.8…",
         "_deepnote_index_column": 26
        },
        {
         "customer_id": "bv8gw3",
         "order_date": "11/11/2016",
         "order_id": "HTS-bv8gw3-0001",
         "pages_visited": 13,
         "tshirt_category": "Black T-Shirt M",
         "tshirt_price": "19",
         "tshirt_quantity": 1,
         "user_agent": "Mozilla/5.0 (Windows NT 10.0| Win64| x64) AppleWebKit/537.36 (KHTML, like Gecko) Chrome/56.0.2924.8…",
         "_deepnote_index_column": 27
        },
        {
         "customer_id": "3uouz3",
         "order_date": "22/08/2016",
         "order_id": "HTS-3uouz3-0001",
         "pages_visited": 15,
         "tshirt_category": "White T-Shirt M",
         "tshirt_price": "20",
         "tshirt_quantity": 1,
         "user_agent": "Mozilla/5.0 (Macintosh| Intel Mac OS X 10_11_6) AppleWebKit/537.36 (KHTML, like Gecko) Chrome/56.0.…",
         "_deepnote_index_column": 28
        },
        {
         "customer_id": "grd2ue",
         "order_date": "12/08/2015",
         "order_id": "HTS-grd2ue-0001",
         "pages_visited": 16,
         "tshirt_category": "Hoodie",
         "tshirt_price": "23",
         "tshirt_quantity": 2,
         "user_agent": "Mozilla/5.0 (Macintosh| Intel Mac OS X 10_11_6) AppleWebKit/537.36 (KHTML, like Gecko) Chrome/56.0.…",
         "_deepnote_index_column": 29
        },
        {
         "customer_id": "495119",
         "order_date": "27/01/2014",
         "order_id": "HTS-495119-0001",
         "pages_visited": 13,
         "tshirt_category": "Tennis Shirt",
         "tshirt_price": "24",
         "tshirt_quantity": 1,
         "user_agent": "Mozilla/5.0 (Windows NT 10.0| WOW64) AppleWebKit/537.36 (KHTML, like Gecko) Chrome/56.0.2924.87 Saf…",
         "_deepnote_index_column": 30
        },
        {
         "customer_id": "vz1jgr",
         "order_date": "25/11/2016",
         "order_id": "HTS-vz1jgr-0001",
         "pages_visited": 6,
         "tshirt_category": "White T-Shirt F",
         "tshirt_price": "18",
         "tshirt_quantity": 2,
         "user_agent": "Mozilla/5.0 (X11| Linux x86_64) AppleWebKit/537.36 (KHTML, like Gecko) Chrome/56.0.2924.87 Safari/5…",
         "_deepnote_index_column": 31
        },
        {
         "customer_id": "75826",
         "order_date": "13/04/2016",
         "order_id": "HTS-075826-0003",
         "pages_visited": 6,
         "tshirt_category": "White T-Shirt M",
         "tshirt_price": "20",
         "tshirt_quantity": 1,
         "user_agent": "Mozilla/5.0 (Windows NT 10.0| Win64| x64) AppleWebKit/537.36 (KHTML, like Gecko) Chrome/56.0.2924.8…",
         "_deepnote_index_column": 32
        },
        {
         "customer_id": "958838",
         "order_date": "12/03/2015",
         "order_id": "HTS-958838-0001",
         "pages_visited": 15,
         "tshirt_category": "White T-Shirt M",
         "tshirt_price": "20",
         "tshirt_quantity": 2,
         "user_agent": "Mozilla/5.0 (Macintosh| Intel Mac OS X 10_11_6) AppleWebKit/602.4.8 (KHTML, like Gecko) Version/10.…",
         "_deepnote_index_column": 33
        },
        {
         "customer_id": "301810",
         "order_date": "25/12/2015",
         "order_id": "HTS-301810-0003",
         "pages_visited": 10,
         "tshirt_category": "Hoodie",
         "tshirt_price": "23",
         "tshirt_quantity": 3,
         "user_agent": "Mozilla/5.0 (Windows NT 10.0| Win64| x64) AppleWebKit/537.36 (KHTML, like Gecko) Chrome/56.0.2924.8…",
         "_deepnote_index_column": 34
        },
        {
         "customer_id": "917138",
         "order_date": "01/05/2015",
         "order_id": "HTS-917138-0002",
         "pages_visited": 17,
         "tshirt_category": "White T-Shirt M",
         "tshirt_price": "20",
         "tshirt_quantity": 2,
         "user_agent": "Mozilla/5.0 (Windows NT 10.0| Win64| x64) AppleWebKit/537.36 (KHTML, like Gecko) Chrome/56.0.2924.8…",
         "_deepnote_index_column": 35
        },
        {
         "customer_id": "lby2fl",
         "order_date": "08/08/2016",
         "order_id": "HTS-lby2fl-0001",
         "pages_visited": 6,
         "tshirt_category": "White T-Shirt M",
         "tshirt_price": "20",
         "tshirt_quantity": 1,
         "user_agent": "Mozilla/5.0 (Macintosh| Intel Mac OS X 10_12_3) AppleWebKit/537.36 (KHTML, like Gecko) Chrome/56.0.…",
         "_deepnote_index_column": 36
        },
        {
         "customer_id": "797630",
         "order_date": "21/10/2016",
         "order_id": "HTS-797630-0004",
         "pages_visited": 12,
         "tshirt_category": "Black T-Shirt F",
         "tshirt_price": "17,5",
         "tshirt_quantity": 2,
         "user_agent": "Mozilla/5.0 (Windows NT 10.0| Win64| x64) AppleWebKit/537.36 (KHTML, like Gecko) Chrome/56.0.2924.8…",
         "_deepnote_index_column": 37
        },
        {
         "customer_id": "moudrf",
         "order_date": "27/12/2016",
         "order_id": "HTS-moudrf-0003",
         "pages_visited": 11,
         "tshirt_category": "White T-Shirt F",
         "tshirt_price": "18",
         "tshirt_quantity": 4,
         "user_agent": "Mozilla/5.0 (Windows NT 10.0| Win64| x64) AppleWebKit/537.36 (KHTML, like Gecko) Chrome/51.0.2704.7…",
         "_deepnote_index_column": 38
        },
        {
         "customer_id": "116680",
         "order_date": "27/10/2014",
         "order_id": "HTS-116680-0001",
         "pages_visited": 7,
         "tshirt_category": "Black T-Shirt F",
         "tshirt_price": "17,5",
         "tshirt_quantity": 1,
         "user_agent": "Mozilla/5.0 (Macintosh| Intel Mac OS X 10_12_3) AppleWebKit/602.4.8 (KHTML, like Gecko) Version/10.…",
         "_deepnote_index_column": 39
        },
        {
         "customer_id": "5j3r5q",
         "order_date": "20/09/2016",
         "order_id": "HTS-5j3r5q-0001",
         "pages_visited": 12,
         "tshirt_category": "White T-Shirt M",
         "tshirt_price": "20",
         "tshirt_quantity": 1,
         "user_agent": "Mozilla/5.0 (Windows NT 6.1| WOW64) AppleWebKit/537.36 (KHTML, like Gecko) Chrome/56.0.2924.87 Safa…",
         "_deepnote_index_column": 40
        },
        {
         "customer_id": "882780",
         "order_date": "25/09/2014",
         "order_id": "HTS-882780-0002",
         "pages_visited": 15,
         "tshirt_category": "Black T-Shirt M",
         "tshirt_price": "19",
         "tshirt_quantity": 1,
         "user_agent": "Mozilla/5.0 (Windows NT 6.3| WOW64) AppleWebKit/537.36 (KHTML, like Gecko) Chrome/56.0.2924.87 Safa…",
         "_deepnote_index_column": 41
        },
        {
         "customer_id": "qgqhv6",
         "order_date": "16/10/2016",
         "order_id": "HTS-qgqhv6-0001",
         "pages_visited": 21,
         "tshirt_category": "White T-Shirt F",
         "tshirt_price": "18",
         "tshirt_quantity": 1,
         "user_agent": "Mozilla/5.0 (Windows NT 6.1| WOW64| rv:51.0) Gecko/20100101 Firefox/51.0",
         "_deepnote_index_column": 42
        },
        {
         "customer_id": "ar83mg",
         "order_date": "22/07/2015",
         "order_id": "HTS-ar83mg-0001",
         "pages_visited": 9,
         "tshirt_category": "Tennis Shirt",
         "tshirt_price": "24",
         "tshirt_quantity": 2,
         "user_agent": "Mozilla/5.0 (Windows NT 6.1| WOW64) AppleWebKit/537.36 (KHTML, like Gecko) Chrome/56.0.2924.87 Safa…",
         "_deepnote_index_column": 43
        },
        {
         "customer_id": "442064",
         "order_date": "03/01/2017",
         "order_id": "HTS-442064-0003",
         "pages_visited": 8,
         "tshirt_category": "White T-Shirt M",
         "tshirt_price": "20",
         "tshirt_quantity": 1,
         "user_agent": "Mozilla/5.0 (Windows NT 6.1) AppleWebKit/537.36 (KHTML, like Gecko) Chrome/56.0.2924.87 Safari/537.…",
         "_deepnote_index_column": 44
        },
        {
         "customer_id": "286810",
         "order_date": "13/12/2013",
         "order_id": "HTS-286810-0002",
         "pages_visited": 10,
         "tshirt_category": "Bl Tshirt F",
         "tshirt_price": "17,5",
         "tshirt_quantity": 1,
         "user_agent": "Mozilla/5.0 (Windows NT 10.0| Win64| x64) AppleWebKit/537.36 (KHTML, like Gecko) Chrome/56.0.2924.8…",
         "_deepnote_index_column": 45
        },
        {
         "customer_id": "273332",
         "order_date": "10/11/2014",
         "order_id": "HTS-273332-0001",
         "pages_visited": 19,
         "tshirt_category": "White T-Shirt M",
         "tshirt_price": "20",
         "tshirt_quantity": 1,
         "user_agent": "Mozilla/5.0 (Windows NT 10.0| Win64| x64) AppleWebKit/537.36 (KHTML, like Gecko) Chrome/56.0.2924.8…",
         "_deepnote_index_column": 46
        },
        {
         "customer_id": "916341",
         "order_date": "18/04/2015",
         "order_id": "HTS-916341-0002",
         "pages_visited": 11,
         "tshirt_category": "Hoodie",
         "tshirt_price": "23",
         "tshirt_quantity": 2,
         "user_agent": "Mozilla/5.0 (Windows NT 10.0| Win64| x64) AppleWebKit/537.36 (KHTML, like Gecko) Chrome/56.0.2924.8…",
         "_deepnote_index_column": 47
        },
        {
         "customer_id": "481997",
         "order_date": "14/10/2014",
         "order_id": "HTS-481997-0001",
         "pages_visited": 12,
         "tshirt_category": "Black T-Shirt F",
         "tshirt_price": "17,5",
         "tshirt_quantity": 3,
         "user_agent": "Mozilla/5.0 (Windows NT 6.1| WOW64| Trident/7.0| rv:11.0) like Gecko",
         "_deepnote_index_column": 48
        },
        {
         "customer_id": "877835",
         "order_date": "09/12/2015",
         "order_id": "HTS-877835-0002",
         "pages_visited": 15,
         "tshirt_category": "Hoodie",
         "tshirt_price": "23",
         "tshirt_quantity": 3,
         "user_agent": "Mozilla/5.0 (Macintosh| Intel Mac OS X 10_12_3) AppleWebKit/602.4.8 (KHTML, like Gecko) Version/10.…",
         "_deepnote_index_column": 49
        },
        {
         "customer_id": "6ipkrh",
         "order_date": "13/02/2017",
         "order_id": "HTS-6ipkrh-0002",
         "pages_visited": 11,
         "tshirt_category": "Black T-Shirt F",
         "tshirt_price": "17,5",
         "tshirt_quantity": 3,
         "user_agent": "Mozilla/5.0 (Windows NT 10.0| Win64| x64) AppleWebKit/537.36 (KHTML, like Gecko) Chrome/56.0.2924.8…",
         "_deepnote_index_column": 50
        },
        {
         "customer_id": "919747",
         "order_date": "20/12/2015",
         "order_id": "HTS-919747-0004",
         "pages_visited": 12,
         "tshirt_category": "White T-Shirt F",
         "tshirt_price": "18",
         "tshirt_quantity": 2,
         "user_agent": "Mozilla/5.0 (Windows NT 10.0| WOW64) AppleWebKit/537.36 (KHTML, like Gecko) Chrome/56.0.2924.87 Saf…",
         "_deepnote_index_column": 51
        },
        {
         "customer_id": "9cuan5",
         "order_date": "25/03/2016",
         "order_id": "HTS-9cuan5-0001",
         "pages_visited": 10,
         "tshirt_category": "White T-Shirt M",
         "tshirt_price": "20",
         "tshirt_quantity": 1,
         "user_agent": "Mozilla/5.0 (Windows NT 6.1| Win64| x64) AppleWebKit/537.36 (KHTML, like Gecko) Chrome/56.0.2924.87…",
         "_deepnote_index_column": 52
        },
        {
         "customer_id": "842157",
         "order_date": "11/03/2015",
         "order_id": "HTS-842157-0002",
         "pages_visited": 11,
         "tshirt_category": "Black T-Shirt M",
         "tshirt_price": "19",
         "tshirt_quantity": 5,
         "user_agent": "Mozilla/5.0 (Macintosh| Intel Mac OS X 10_11_6) AppleWebKit/602.4.8 (KHTML, like Gecko) Version/10.…",
         "_deepnote_index_column": 53
        },
        {
         "customer_id": "279650",
         "order_date": "22/09/2013",
         "order_id": "HTS-279650-0001",
         "pages_visited": 17,
         "tshirt_category": "Hoodie",
         "tshirt_price": "23",
         "tshirt_quantity": 1,
         "user_agent": "Mozilla/5.0 (Windows NT 10.0| WOW64| rv:51.0) Gecko/20100101 Firefox/51.0",
         "_deepnote_index_column": 54
        },
        {
         "customer_id": "ggj8vc",
         "order_date": "30/12/2015",
         "order_id": "HTS-ggj8vc-0001",
         "pages_visited": 9,
         "tshirt_category": "White T-Shirt F",
         "tshirt_price": "18",
         "tshirt_quantity": 1,
         "user_agent": "Mozilla/5.0 (Windows NT 10.0| WOW64) AppleWebKit/537.36 (KHTML, like Gecko) Chrome/56.0.2924.87 Saf…",
         "_deepnote_index_column": 55
        },
        {
         "customer_id": "771496",
         "order_date": "12/02/2017",
         "order_id": "HTS-771496-0001",
         "pages_visited": 19,
         "tshirt_category": "Hoodie",
         "tshirt_price": "23",
         "tshirt_quantity": 1,
         "user_agent": "Mozilla/5.0 (Windows NT 6.3| WOW64) AppleWebKit/537.36 (KHTML, like Gecko) Chrome/56.0.2924.87 Safa…",
         "_deepnote_index_column": 56
        },
        {
         "customer_id": "7955",
         "order_date": "08/03/2016",
         "order_id": "HTS-007955-0001",
         "pages_visited": 13,
         "tshirt_category": "Tennis Shirt",
         "tshirt_price": "24",
         "tshirt_quantity": 1,
         "user_agent": "Mozilla/5.0 (Windows NT 10.0| Win64| x64) AppleWebKit/537.36 (KHTML, like Gecko) Chrome/56.0.2924.8…",
         "_deepnote_index_column": 57
        },
        {
         "customer_id": "738171",
         "order_date": "26/10/2016",
         "order_id": "HTS-738171-0005",
         "pages_visited": 10,
         "tshirt_category": "Black T-Shirt M",
         "tshirt_price": "19",
         "tshirt_quantity": 3,
         "user_agent": "Mozilla/5.0 (Windows NT 10.0| WOW64) AppleWebKit/537.36 (KHTML, like Gecko) Chrome/56.0.2924.87 Saf…",
         "_deepnote_index_column": 58
        },
        {
         "customer_id": "995267",
         "order_date": "20/03/2015",
         "order_id": "HTS-995267-0002",
         "pages_visited": 15,
         "tshirt_category": "White T-Shirt F",
         "tshirt_price": "18",
         "tshirt_quantity": 5,
         "user_agent": "Mozilla/5.0 (X11| Linux x86_64) AppleWebKit/537.36 (KHTML, like Gecko) Chrome/56.0.2924.87 Safari/5…",
         "_deepnote_index_column": 59
        },
        {
         "customer_id": "103700",
         "order_date": "28/12/2015",
         "order_id": "HTS-103700-0003",
         "pages_visited": 9,
         "tshirt_category": "White T-Shirt M",
         "tshirt_price": "20",
         "tshirt_quantity": 1,
         "user_agent": "Mozilla/5.0 (Windows NT 6.1| WOW64) AppleWebKit/537.36 (KHTML, like Gecko) Chrome/56.0.2924.87 Safa…",
         "_deepnote_index_column": 60
        },
        {
         "customer_id": "166680",
         "order_date": "09/12/2014",
         "order_id": "HTS-166680-0001",
         "pages_visited": 11,
         "tshirt_category": "White T-Shirt M",
         "tshirt_price": "20",
         "tshirt_quantity": 16,
         "user_agent": "Mozilla/5.0 (Macintosh| Intel Mac OS X 10_12_3) AppleWebKit/602.4.8 (KHTML, like Gecko) Version/10.…",
         "_deepnote_index_column": 61
        }
       ],
       "rows_bottom": [
        {
         "customer_id": "838334",
         "order_date": "01/08/2014",
         "order_id": "HTS-838334-0002",
         "pages_visited": 6,
         "tshirt_category": "Tennis Shirt",
         "tshirt_price": "24",
         "tshirt_quantity": 1,
         "user_agent": "Mozilla/5.0 (Windows NT 10.0| WOW64) AppleWebKit/537.36 (KHTML, like Gecko) Chrome/56.0.2924.87 Saf…",
         "_deepnote_index_column": 2862
        },
        {
         "customer_id": "366872",
         "order_date": "11/01/2016",
         "order_id": "HTS-366872-0006",
         "pages_visited": 6,
         "tshirt_category": "Tennis Shirt",
         "tshirt_price": "24",
         "tshirt_quantity": 6,
         "user_agent": "Mozilla/5.0 (Windows NT 10.0| WOW64) AppleWebKit/537.36 (KHTML, like Gecko) Chrome/56.0.2924.87 Saf…",
         "_deepnote_index_column": 2863
        },
        {
         "customer_id": "568641",
         "order_date": "14/03/2017",
         "order_id": "HTS-568641-0005",
         "pages_visited": 7,
         "tshirt_category": "Tennis Shirt",
         "tshirt_price": "24",
         "tshirt_quantity": 2,
         "user_agent": "Mozilla/5.0 (Windows NT 10.0| WOW64) AppleWebKit/537.36 (KHTML, like Gecko) Chrome/56.0.2924.87 Saf…",
         "_deepnote_index_column": 2864
        },
        {
         "customer_id": "366872",
         "order_date": "04/01/2015",
         "order_id": "HTS-366872-0004",
         "pages_visited": 7,
         "tshirt_category": "Tennis Shirt",
         "tshirt_price": "24",
         "tshirt_quantity": 3,
         "user_agent": "Mozilla/5.0 (Windows NT 10.0| WOW64) AppleWebKit/537.36 (KHTML, like Gecko) Chrome/56.0.2924.87 Saf…",
         "_deepnote_index_column": 2865
        },
        {
         "customer_id": "366872",
         "order_date": "24/06/2016",
         "order_id": "HTS-366872-0007",
         "pages_visited": 8,
         "tshirt_category": "Tennis Shirt",
         "tshirt_price": "24",
         "tshirt_quantity": 3,
         "user_agent": "Mozilla/5.0 (Windows NT 10.0| WOW64) AppleWebKit/537.36 (KHTML, like Gecko) Chrome/56.0.2924.87 Saf…",
         "_deepnote_index_column": 2866
        },
        {
         "customer_id": "892209",
         "order_date": "25/08/2013",
         "order_id": "HTS-892209-0001",
         "pages_visited": 9,
         "tshirt_category": "Tennis Shirt",
         "tshirt_price": "24",
         "tshirt_quantity": 1,
         "user_agent": "Mozilla/5.0 (Windows NT 10.0| WOW64) AppleWebKit/537.36 (KHTML, like Gecko) Chrome/56.0.2924.87 Saf…",
         "_deepnote_index_column": 2867
        },
        {
         "customer_id": "568641",
         "order_date": "16/11/2015",
         "order_id": "HTS-568641-0003",
         "pages_visited": 10,
         "tshirt_category": "Tennis Shirt",
         "tshirt_price": "24",
         "tshirt_quantity": 1,
         "user_agent": "Mozilla/5.0 (Windows NT 10.0| WOW64) AppleWebKit/537.36 (KHTML, like Gecko) Chrome/56.0.2924.87 Saf…",
         "_deepnote_index_column": 2868
        },
        {
         "customer_id": "254775",
         "order_date": "24/01/2016",
         "order_id": "HTS-254775-0003",
         "pages_visited": 11,
         "tshirt_category": "Tennis Shirt",
         "tshirt_price": "24",
         "tshirt_quantity": 2,
         "user_agent": "Mozilla/5.0 (Windows NT 10.0| WOW64) AppleWebKit/537.36 (KHTML, like Gecko) Chrome/56.0.2924.87 Saf…",
         "_deepnote_index_column": 2869
        },
        {
         "customer_id": "pxedg4",
         "order_date": "02/07/2015",
         "order_id": "HTS-pxedg4-0001",
         "pages_visited": 11,
         "tshirt_category": "Tennis Shirt",
         "tshirt_price": "24",
         "tshirt_quantity": 3,
         "user_agent": "Mozilla/5.0 (Windows NT 10.0| WOW64) AppleWebKit/537.36 (KHTML, like Gecko) Chrome/56.0.2924.87 Saf…",
         "_deepnote_index_column": 2870
        },
        {
         "customer_id": "215837",
         "order_date": "14/06/2016",
         "order_id": "HTS-215837-0002",
         "pages_visited": 12,
         "tshirt_category": "Tennis Shirt",
         "tshirt_price": "24",
         "tshirt_quantity": 1,
         "user_agent": "Mozilla/5.0 (Windows NT 10.0| WOW64) AppleWebKit/537.36 (KHTML, like Gecko) Chrome/56.0.2924.87 Saf…",
         "_deepnote_index_column": 2871
        },
        {
         "customer_id": "374675",
         "order_date": "16/06/2014",
         "order_id": "HTS-374675-0002",
         "pages_visited": 12,
         "tshirt_category": "Tennis Shirt",
         "tshirt_price": "24",
         "tshirt_quantity": 2,
         "user_agent": "Mozilla/5.0 (Windows NT 10.0| WOW64) AppleWebKit/537.36 (KHTML, like Gecko) Chrome/56.0.2924.87 Saf…",
         "_deepnote_index_column": 2872
        },
        {
         "customer_id": "254027",
         "order_date": "19/05/2016",
         "order_id": "HTS-254027-0003",
         "pages_visited": 12,
         "tshirt_category": "Tennis Shirt",
         "tshirt_price": "24",
         "tshirt_quantity": 4,
         "user_agent": "Mozilla/5.0 (Windows NT 10.0| WOW64) AppleWebKit/537.36 (KHTML, like Gecko) Chrome/56.0.2924.87 Saf…",
         "_deepnote_index_column": 2873
        },
        {
         "customer_id": "123244",
         "order_date": "23/08/2014",
         "order_id": "HTS-123244-0001",
         "pages_visited": 13,
         "tshirt_category": "Tennis Shirt",
         "tshirt_price": "24",
         "tshirt_quantity": 4,
         "user_agent": "Mozilla/5.0 (Windows NT 10.0| WOW64) AppleWebKit/537.36 (KHTML, like Gecko) Chrome/56.0.2924.87 Saf…",
         "_deepnote_index_column": 2874
        },
        {
         "customer_id": "583528",
         "order_date": "16/09/2014",
         "order_id": "HTS-583528-0001",
         "pages_visited": 18,
         "tshirt_category": "Tennis Shirt",
         "tshirt_price": "24",
         "tshirt_quantity": 3,
         "user_agent": "Mozilla/5.0 (Windows NT 10.0| WOW64) AppleWebKit/537.36 (KHTML, like Gecko) Chrome/56.0.2924.87 Saf…",
         "_deepnote_index_column": 2875
        },
        {
         "customer_id": "954392",
         "order_date": "31/10/2013",
         "order_id": "HTS-954392-0001",
         "pages_visited": 14,
         "tshirt_category": "Tennis Shirt",
         "tshirt_price": "24",
         "tshirt_quantity": 2,
         "user_agent": "Mozilla/5.0 (Windows NT 10.0| WOW64| rv:51.0) Gecko/20100101 Firefox/51.0",
         "_deepnote_index_column": 2876
        },
        {
         "customer_id": "826211",
         "order_date": "29/02/2016",
         "order_id": "HTS-826211-0001",
         "pages_visited": 15,
         "tshirt_category": "Tennis Shirt",
         "tshirt_price": "24",
         "tshirt_quantity": 1,
         "user_agent": "Mozilla/5.0 (Windows NT 10.0| WOW64| rv:51.0) Gecko/20100101 Firefox/51.0",
         "_deepnote_index_column": 2877
        },
        {
         "customer_id": "532177",
         "order_date": "20/04/2016",
         "order_id": "HTS-532177-0002",
         "pages_visited": 7,
         "tshirt_category": "Tennis Shirt",
         "tshirt_price": "24",
         "tshirt_quantity": 1,
         "user_agent": "Mozilla/5.0 (Windows NT 10.0| WOW64| rv:52.0) Gecko/20100101 Firefox/52.0",
         "_deepnote_index_column": 2878
        },
        {
         "customer_id": "852360",
         "order_date": "21/04/2014",
         "order_id": "HTS-852360-0001",
         "pages_visited": 7,
         "tshirt_category": "Tennis Shirt",
         "tshirt_price": "24",
         "tshirt_quantity": 2,
         "user_agent": "Mozilla/5.0 (Windows NT 10.0| WOW64| rv:52.0) Gecko/20100101 Firefox/52.0",
         "_deepnote_index_column": 2879
        },
        {
         "customer_id": "553303",
         "order_date": "24/07/2013",
         "order_id": "HTS-553303-0001",
         "pages_visited": 11,
         "tshirt_category": "Tennis Shirt",
         "tshirt_price": "24",
         "tshirt_quantity": 1,
         "user_agent": "Mozilla/5.0 (Windows NT 10.0| WOW64| rv:52.0) Gecko/20100101 Firefox/52.0",
         "_deepnote_index_column": 2880
        },
        {
         "customer_id": "665738",
         "order_date": "08/08/2016",
         "order_id": "HTS-665738-0004",
         "pages_visited": 5,
         "tshirt_category": "Tennis Shirt",
         "tshirt_price": "24",
         "tshirt_quantity": 2,
         "user_agent": "Mozilla/5.0 (Windows NT 10.0| Win64| x64) AppleWebKit/537.36 (KHTML, like Gecko) Chrome/56.0.2924.8…",
         "_deepnote_index_column": 2881
        },
        {
         "customer_id": "662419",
         "order_date": "03/04/2017",
         "order_id": "HTS-662419-0005",
         "pages_visited": 6,
         "tshirt_category": "Tennis Shirt",
         "tshirt_price": "24",
         "tshirt_quantity": 2,
         "user_agent": "Mozilla/5.0 (Windows NT 10.0| Win64| x64) AppleWebKit/537.36 (KHTML, like Gecko) Chrome/56.0.2924.8…",
         "_deepnote_index_column": 2882
        },
        {
         "customer_id": "249636",
         "order_date": "28/10/2015",
         "order_id": "HTS-249636-0003",
         "pages_visited": 9,
         "tshirt_category": "Tennis Shirt",
         "tshirt_price": "24",
         "tshirt_quantity": 2,
         "user_agent": "Mozilla/5.0 (Windows NT 10.0| Win64| x64) AppleWebKit/537.36 (KHTML, like Gecko) Chrome/56.0.2924.8…",
         "_deepnote_index_column": 2883
        },
        {
         "customer_id": "44759",
         "order_date": "23/07/2015",
         "order_id": "HTS-044759-0003",
         "pages_visited": 9,
         "tshirt_category": "Tennis Shirt",
         "tshirt_price": "24",
         "tshirt_quantity": 3,
         "user_agent": "Mozilla/5.0 (Windows NT 10.0| Win64| x64) AppleWebKit/537.36 (KHTML, like Gecko) Chrome/56.0.2924.8…",
         "_deepnote_index_column": 2884
        },
        {
         "customer_id": "389342",
         "order_date": "05/12/2013",
         "order_id": "HTS-389342-0001",
         "pages_visited": 10,
         "tshirt_category": "Tennis Shirt",
         "tshirt_price": "24",
         "tshirt_quantity": 2,
         "user_agent": "Mozilla/5.0 (Windows NT 10.0| Win64| x64) AppleWebKit/537.36 (KHTML, like Gecko) Chrome/56.0.2924.8…",
         "_deepnote_index_column": 2885
        },
        {
         "customer_id": "704302",
         "order_date": "27/06/2016",
         "order_id": "HTS-704302-0005",
         "pages_visited": 10,
         "tshirt_category": "Tennis Shirt",
         "tshirt_price": "24",
         "tshirt_quantity": 4,
         "user_agent": "Mozilla/5.0 (Windows NT 10.0| Win64| x64) AppleWebKit/537.36 (KHTML, like Gecko) Chrome/56.0.2924.8…",
         "_deepnote_index_column": 2886
        },
        {
         "customer_id": "174167",
         "order_date": "17/10/2014",
         "order_id": "HTS-174167-0001",
         "pages_visited": 11,
         "tshirt_category": "Tennis Shirt",
         "tshirt_price": "24",
         "tshirt_quantity": 1,
         "user_agent": "Mozilla/5.0 (Windows NT 10.0| Win64| x64) AppleWebKit/537.36 (KHTML, like Gecko) Chrome/56.0.2924.8…",
         "_deepnote_index_column": 2887
        },
        {
         "customer_id": "44759",
         "order_date": "07/04/2017",
         "order_id": "HTS-044759-0005",
         "pages_visited": 11,
         "tshirt_category": "Tennis Shirt",
         "tshirt_price": "24",
         "tshirt_quantity": 5,
         "user_agent": "Mozilla/5.0 (Windows NT 10.0| Win64| x64) AppleWebKit/537.36 (KHTML, like Gecko) Chrome/56.0.2924.8…",
         "_deepnote_index_column": 2888
        },
        {
         "customer_id": "by4n7h",
         "order_date": "12/10/2016",
         "order_id": "HTS-by4n7h-0002",
         "pages_visited": 13,
         "tshirt_category": "Tennis Shirt",
         "tshirt_price": "24",
         "tshirt_quantity": 2,
         "user_agent": "Mozilla/5.0 (Windows NT 10.0| Win64| x64) AppleWebKit/537.36 (KHTML, like Gecko) Chrome/56.0.2924.8…",
         "_deepnote_index_column": 2889
        },
        {
         "customer_id": "kc5k7h",
         "order_date": "22/08/2016",
         "order_id": "HTS-kc5k7h-0002",
         "pages_visited": 14,
         "tshirt_category": "Tennis Shirt",
         "tshirt_price": "24",
         "tshirt_quantity": 4,
         "user_agent": "Mozilla/5.0 (Windows NT 10.0| Win64| x64) AppleWebKit/537.36 (KHTML, like Gecko) Chrome/56.0.2924.8…",
         "_deepnote_index_column": 2890
        },
        {
         "customer_id": "784711",
         "order_date": "02/10/2015",
         "order_id": "HTS-784711-0003",
         "pages_visited": 15,
         "tshirt_category": "Tennis Shirt",
         "tshirt_price": "24",
         "tshirt_quantity": 5,
         "user_agent": "Mozilla/5.0 (Windows NT 10.0| Win64| x64) AppleWebKit/537.36 (KHTML, like Gecko) Chrome/56.0.2924.8…",
         "_deepnote_index_column": 2891
        },
        {
         "customer_id": "o8mesu",
         "order_date": "25/01/2016",
         "order_id": "HTS-o8mesu-0002",
         "pages_visited": 16,
         "tshirt_category": "Tennis Shirt",
         "tshirt_price": "24",
         "tshirt_quantity": 5,
         "user_agent": "Mozilla/5.0 (Windows NT 10.0| Win64| x64) AppleWebKit/537.36 (KHTML, like Gecko) Chrome/56.0.2924.8…",
         "_deepnote_index_column": 2892
        },
        {
         "customer_id": "399607",
         "order_date": "04/03/2016",
         "order_id": "HTS-399607-0005",
         "pages_visited": 2,
         "tshirt_category": "Tennis Shirt",
         "tshirt_price": "24",
         "tshirt_quantity": 4,
         "user_agent": "Mozilla/5.0 (Windows NT 6.1| WOW64) AppleWebKit/537.36 (KHTML, like Gecko) Chrome/56.0.2924.87 Safa…",
         "_deepnote_index_column": 2893
        },
        {
         "customer_id": "989355",
         "order_date": "18/01/2017",
         "order_id": "HTS-989355-0004",
         "pages_visited": 4,
         "tshirt_category": "Tennis Shirt",
         "tshirt_price": "24",
         "tshirt_quantity": 2,
         "user_agent": "Mozilla/5.0 (Windows NT 6.1| WOW64) AppleWebKit/537.36 (KHTML, like Gecko) Chrome/56.0.2924.87 Safa…",
         "_deepnote_index_column": 2894
        },
        {
         "customer_id": "86618",
         "order_date": "16/10/2015",
         "order_id": "HTS-086618-0006",
         "pages_visited": 6,
         "tshirt_category": "Tennis Shirt",
         "tshirt_price": "24",
         "tshirt_quantity": 2,
         "user_agent": "Mozilla/5.0 (Windows NT 6.1| WOW64) AppleWebKit/537.36 (KHTML, like Gecko) Chrome/56.0.2924.87 Safa…",
         "_deepnote_index_column": 2895
        },
        {
         "customer_id": "72488",
         "order_date": "22/09/2014",
         "order_id": "HTS-072488-0002",
         "pages_visited": 8,
         "tshirt_category": "Tennis Shirt",
         "tshirt_price": "24",
         "tshirt_quantity": 1,
         "user_agent": "Mozilla/5.0 (Windows NT 6.1| WOW64) AppleWebKit/537.36 (KHTML, like Gecko) Chrome/56.0.2924.87 Safa…",
         "_deepnote_index_column": 2896
        },
        {
         "customer_id": "744898",
         "order_date": "18/02/2015",
         "order_id": "HTS-744898-0003",
         "pages_visited": 8,
         "tshirt_category": "Tennis Shirt",
         "tshirt_price": "24",
         "tshirt_quantity": 2,
         "user_agent": "Mozilla/5.0 (Windows NT 6.1| WOW64) AppleWebKit/537.36 (KHTML, like Gecko) Chrome/56.0.2924.87 Safa…",
         "_deepnote_index_column": 2897
        },
        {
         "customer_id": "27163",
         "order_date": "03/12/2015",
         "order_id": "HTS-027163-0003",
         "pages_visited": 11,
         "tshirt_category": "Tennis Shirt",
         "tshirt_price": "24",
         "tshirt_quantity": 1,
         "user_agent": "Mozilla/5.0 (Windows NT 6.1| WOW64) AppleWebKit/537.36 (KHTML, like Gecko) Chrome/56.0.2924.87 Safa…",
         "_deepnote_index_column": 2898
        },
        {
         "customer_id": "8nc81b",
         "order_date": "25/02/2016",
         "order_id": "HTS-8nc81b-0002",
         "pages_visited": 12,
         "tshirt_category": "Tennis Shirt",
         "tshirt_price": "24",
         "tshirt_quantity": 4,
         "user_agent": "Mozilla/5.0 (Windows NT 6.1| WOW64) AppleWebKit/537.36 (KHTML, like Gecko) Chrome/56.0.2924.87 Safa…",
         "_deepnote_index_column": 2899
        },
        {
         "customer_id": "tq6ry2",
         "order_date": "05/01/2017",
         "order_id": "HTS-tq6ry2-0002",
         "pages_visited": 13,
         "tshirt_category": "Tennis Shirt",
         "tshirt_price": "24",
         "tshirt_quantity": 1,
         "user_agent": "Mozilla/5.0 (Windows NT 6.1| WOW64) AppleWebKit/537.36 (KHTML, like Gecko) Chrome/56.0.2924.87 Safa…",
         "_deepnote_index_column": 2900
        },
        {
         "customer_id": "62489",
         "order_date": "22/12/2013",
         "order_id": "HTS-062489-0001",
         "pages_visited": 18,
         "tshirt_category": "Tennis Shirt",
         "tshirt_price": "24",
         "tshirt_quantity": 1,
         "user_agent": "Mozilla/5.0 (Windows NT 6.1| WOW64) AppleWebKit/537.36 (KHTML, like Gecko) Chrome/56.0.2924.87 Safa…",
         "_deepnote_index_column": 2901
        },
        {
         "customer_id": "672344",
         "order_date": "19/11/2016",
         "order_id": "HTS-672344-0005",
         "pages_visited": 5,
         "tshirt_category": "Tennis Shirt",
         "tshirt_price": "24",
         "tshirt_quantity": 2,
         "user_agent": "Mozilla/5.0 (Windows NT 6.1| WOW64| rv:51.0) Gecko/20100101 Firefox/51.0",
         "_deepnote_index_column": 2902
        },
        {
         "customer_id": "763981",
         "order_date": "25/06/2015",
         "order_id": "HTS-763981-0002",
         "pages_visited": 7,
         "tshirt_category": "Tennis Shirt",
         "tshirt_price": "24",
         "tshirt_quantity": 5,
         "user_agent": "Mozilla/5.0 (Windows NT 6.1| WOW64| rv:51.0) Gecko/20100101 Firefox/51.0",
         "_deepnote_index_column": 2903
        },
        {
         "customer_id": "676955",
         "order_date": "25/12/2014",
         "order_id": "HTS-676955-0001",
         "pages_visited": 9,
         "tshirt_category": "Tennis Shirt",
         "tshirt_price": "24",
         "tshirt_quantity": 4,
         "user_agent": "Mozilla/5.0 (Windows NT 6.1| WOW64| rv:51.0) Gecko/20100101 Firefox/51.0",
         "_deepnote_index_column": 2904
        },
        {
         "customer_id": "278313",
         "order_date": "09/04/2016",
         "order_id": "HTS-278313-0004",
         "pages_visited": 15,
         "tshirt_category": "Tennis Shirt",
         "tshirt_price": "24",
         "tshirt_quantity": 13,
         "user_agent": "Mozilla/5.0 (Windows NT 6.1| WOW64| rv:51.0) Gecko/20100101 Firefox/51.0",
         "_deepnote_index_column": 2905
        },
        {
         "customer_id": "el0sj8",
         "order_date": "12/01/2017",
         "order_id": "HTS-el0sj8-0004",
         "pages_visited": 6,
         "tshirt_category": "Tennis Shirt",
         "tshirt_price": "24",
         "tshirt_quantity": 1,
         "user_agent": "Mozilla/5.0 (Windows NT 6.1| Win64| x64) AppleWebKit/537.36 (KHTML, like Gecko) Chrome/56.0.2924.87…",
         "_deepnote_index_column": 2906
        },
        {
         "customer_id": "545790",
         "order_date": "16/07/2015",
         "order_id": "HTS-545790-0005",
         "pages_visited": 6,
         "tshirt_category": "Tennis Shirt",
         "tshirt_price": "24",
         "tshirt_quantity": 3,
         "user_agent": "Mozilla/5.0 (Windows NT 6.1| Win64| x64) AppleWebKit/537.36 (KHTML, like Gecko) Chrome/56.0.2924.87…",
         "_deepnote_index_column": 2907
        },
        {
         "customer_id": "585862",
         "order_date": "19/11/2015",
         "order_id": "HTS-585862-0004",
         "pages_visited": 7,
         "tshirt_category": "Tennis Shirt",
         "tshirt_price": "24",
         "tshirt_quantity": 14,
         "user_agent": "Mozilla/5.0 (Windows NT 6.1| Win64| x64) AppleWebKit/537.36 (KHTML, like Gecko) Chrome/56.0.2924.87…",
         "_deepnote_index_column": 2908
        },
        {
         "customer_id": "585862",
         "order_date": "17/02/2015",
         "order_id": "HTS-585862-0003",
         "pages_visited": 8,
         "tshirt_category": "Tennis Shirt",
         "tshirt_price": "24",
         "tshirt_quantity": 18,
         "user_agent": "Mozilla/5.0 (Windows NT 6.1| Win64| x64) AppleWebKit/537.36 (KHTML, like Gecko) Chrome/56.0.2924.87…",
         "_deepnote_index_column": 2909
        },
        {
         "customer_id": "539658",
         "order_date": "29/12/2015",
         "order_id": "HTS-539658-0003",
         "pages_visited": 9,
         "tshirt_category": "Tennis Shirt",
         "tshirt_price": "24",
         "tshirt_quantity": 6,
         "user_agent": "Mozilla/5.0 (Windows NT 6.1| Win64| x64) AppleWebKit/537.36 (KHTML, like Gecko) Chrome/56.0.2924.87…",
         "_deepnote_index_column": 2910
        },
        {
         "customer_id": "187195",
         "order_date": "30/03/2016",
         "order_id": "HTS-187195-0003",
         "pages_visited": 10,
         "tshirt_category": "Tennis Shirt",
         "tshirt_price": "24",
         "tshirt_quantity": 5,
         "user_agent": "Mozilla/5.0 (Windows NT 6.1| Win64| x64) AppleWebKit/537.36 (KHTML, like Gecko) Chrome/56.0.2924.87…",
         "_deepnote_index_column": 2911
        },
        {
         "customer_id": "449243",
         "order_date": "09/06/2016",
         "order_id": "HTS-449243-0002",
         "pages_visited": 11,
         "tshirt_category": "Tennis Shirt",
         "tshirt_price": "24",
         "tshirt_quantity": 1,
         "user_agent": "Mozilla/5.0 (Windows NT 6.1| Win64| x64) AppleWebKit/537.36 (KHTML, like Gecko) Chrome/56.0.2924.87…",
         "_deepnote_index_column": 2912
        },
        {
         "customer_id": "83318",
         "order_date": "01/08/2016",
         "order_id": "HTS-083318-0005",
         "pages_visited": 11,
         "tshirt_category": "Tennis Shirt",
         "tshirt_price": "24",
         "tshirt_quantity": 2,
         "user_agent": "Mozilla/5.0 (Windows NT 6.1| Win64| x64) AppleWebKit/537.36 (KHTML, like Gecko) Chrome/56.0.2924.87…",
         "_deepnote_index_column": 2913
        },
        {
         "customer_id": "453848",
         "order_date": "18/07/2013",
         "order_id": "HTS-453848-0001",
         "pages_visited": 11,
         "tshirt_category": "Tennis Shirt",
         "tshirt_price": "24",
         "tshirt_quantity": 3,
         "user_agent": "Mozilla/5.0 (Windows NT 6.1| Win64| x64) AppleWebKit/537.36 (KHTML, like Gecko) Chrome/56.0.2924.87…",
         "_deepnote_index_column": 2914
        },
        {
         "customer_id": "83318",
         "order_date": "28/02/2015",
         "order_id": "HTS-083318-0003",
         "pages_visited": 12,
         "tshirt_category": "Tennis Shirt",
         "tshirt_price": "24",
         "tshirt_quantity": 3,
         "user_agent": "Mozilla/5.0 (Windows NT 6.1| Win64| x64) AppleWebKit/537.36 (KHTML, like Gecko) Chrome/56.0.2924.87…",
         "_deepnote_index_column": 2915
        },
        {
         "customer_id": "287913",
         "order_date": "25/12/2014",
         "order_id": "HTS-287913-0002",
         "pages_visited": 11,
         "tshirt_category": "Tennis Shirt",
         "tshirt_price": "24",
         "tshirt_quantity": 1,
         "user_agent": "Mozilla/5.0 (Windows NT 6.3| WOW64) AppleWebKit/537.36 (KHTML, like Gecko) Chrome/56.0.2924.87 Safa…",
         "_deepnote_index_column": 2916
        },
        {
         "customer_id": "534599",
         "order_date": "23/06/2014",
         "order_id": "HTS-534599-0001",
         "pages_visited": 9,
         "tshirt_category": "Tennis Shirt",
         "tshirt_price": "24",
         "tshirt_quantity": 3,
         "user_agent": "Mozilla/5.0 (X11| Linux x86_64) AppleWebKit/537.36 (KHTML, like Gecko) Chrome/56.0.2924.87 Safari/5…",
         "_deepnote_index_column": 2917
        },
        {
         "customer_id": "467894",
         "order_date": "14/10/2015",
         "order_id": "HTS-467894-0003",
         "pages_visited": 11,
         "tshirt_category": "Tennis Shirt",
         "tshirt_price": "24",
         "tshirt_quantity": 1,
         "user_agent": "Mozilla/5.0 (X11| Linux x86_64) AppleWebKit/537.36 (KHTML, like Gecko) Chrome/56.0.2924.87 Safari/5…",
         "_deepnote_index_column": 2918
        },
        {
         "customer_id": "371776",
         "order_date": "04/05/2015",
         "order_id": "HTS-371776-0002",
         "pages_visited": 16,
         "tshirt_category": "Tennis Shirt",
         "tshirt_price": "24",
         "tshirt_quantity": 2,
         "user_agent": "Mozilla/5.0 (X11| Linux x86_64) AppleWebKit/537.36 (KHTML, like Gecko) Chrome/56.0.2924.87 Safari/5…",
         "_deepnote_index_column": 2919
        },
        {
         "customer_id": "0b59cn",
         "order_date": "12/12/2016",
         "order_id": "HTS-0b59cn-0004",
         "pages_visited": 8,
         "tshirt_category": "Tennis Shirt",
         "tshirt_price": "24",
         "tshirt_quantity": 5,
         "user_agent": "Mozilla/5.0 (X11| Ubuntu| Linux x86_64| rv:51.0) Gecko/20100101 Firefox/51.0",
         "_deepnote_index_column": 2920
        },
        {
         "customer_id": "357322",
         "order_date": "10/12/2016",
         "order_id": "HTS-357322-0007",
         "pages_visited": 5,
         "tshirt_category": "Tennis Shirt",
         "tshirt_price": "24",
         "tshirt_quantity": 3,
         "user_agent": "Mozilla/5.0 (Windows NT 10.0| WOW64) AppleWebKit/537.36 (KHTML, like Gecko) Chrome/56.0.2924.87 Saf…",
         "_deepnote_index_column": 2921
        },
        {
         "customer_id": "l8c64t",
         "order_date": "01/03/2017",
         "order_id": "HTS-l8c64t-0003",
         "pages_visited": 7,
         "tshirt_category": "Tennis Shirt",
         "tshirt_price": "24",
         "tshirt_quantity": 2,
         "user_agent": "Mozilla/5.0 (Windows NT 10.0| WOW64| rv:52.0) Gecko/20100101 Firefox/52.0",
         "_deepnote_index_column": 2922
        },
        {
         "customer_id": "946557",
         "order_date": "21/07/2016",
         "order_id": "HTS-946557-0005",
         "pages_visited": 5,
         "tshirt_category": "Tennis Shirt",
         "tshirt_price": "24",
         "tshirt_quantity": 2,
         "user_agent": "Mozilla/5.0 (Windows NT 10.0| Win64| x64) AppleWebKit/537.36 (KHTML, like Gecko) Chrome/56.0.2924.8…",
         "_deepnote_index_column": 2923
        },
        {
         "customer_id": "1bhyje",
         "order_date": "22/06/2016",
         "order_id": "HTS-1bhyje-0002",
         "pages_visited": 17,
         "tshirt_category": "Tennis Shirt",
         "tshirt_price": "24",
         "tshirt_quantity": 1,
         "user_agent": "Mozilla/5.0 (X11| Linux x86_64) AppleWebKit/537.36 (KHTML, like Gecko) Chrome/56.0.2924.87 Safari/5…",
         "_deepnote_index_column": 2924
        }
       ]
      },
      "text/plain": "     customer_id  order_date         order_id  pages_visited  tshirt_category  \\\n0          38040  04/09/2016  HTS-038040-0002              9  White T-Shirt M   \n1         vft1eu  26/02/2017  HTS-vft1eu-0003             10  White T-Shirt F   \n2         914324  01/12/2013  HTS-914324-0001             10      Wh Tshirt F   \n3          61311  15/01/2016  HTS-061311-0003              9  Black T-Shirt F   \n4         494332  03/11/2013  HTS-494332-0001             10      Wh Tshirt F   \n...          ...         ...              ...            ...              ...   \n2920      0b59cn  12/12/2016  HTS-0b59cn-0004              8     Tennis Shirt   \n2921      357322  10/12/2016  HTS-357322-0007              5     Tennis Shirt   \n2922      l8c64t  01/03/2017  HTS-l8c64t-0003              7     Tennis Shirt   \n2923      946557  21/07/2016  HTS-946557-0005              5     Tennis Shirt   \n2924      1bhyje  22/06/2016  HTS-1bhyje-0002             17     Tennis Shirt   \n\n     tshirt_price  tshirt_quantity  \\\n0              20                1   \n1              18                3   \n2              18                1   \n3            17,5                4   \n4              18                2   \n...           ...              ...   \n2920           24                5   \n2921           24                3   \n2922           24                2   \n2923           24                2   \n2924           24                1   \n\n                                             user_agent  \n0     Mozilla/5.0 (Windows NT 10.0| WOW64) AppleWebK...  \n1     Mozilla/5.0 (Macintosh| Intel Mac OS X 10_12_3...  \n2     Mozilla/5.0 (Windows NT 10.0| WOW64) AppleWebK...  \n3     Mozilla/5.0 (Macintosh| Intel Mac OS X 10_12_3...  \n4     Mozilla/5.0 (Macintosh| Intel Mac OS X 10_11_6...  \n...                                                 ...  \n2920  Mozilla/5.0 (X11| Ubuntu| Linux x86_64| rv:51....  \n2921  Mozilla/5.0 (Windows NT 10.0| WOW64) AppleWebK...  \n2922  Mozilla/5.0 (Windows NT 10.0| WOW64| rv:52.0) ...  \n2923  Mozilla/5.0 (Windows NT 10.0| Win64| x64) Appl...  \n2924  Mozilla/5.0 (X11| Linux x86_64) AppleWebKit/53...  \n\n[12921 rows x 8 columns]",
      "text/html": "<div>\n<style scoped>\n    .dataframe tbody tr th:only-of-type {\n        vertical-align: middle;\n    }\n\n    .dataframe tbody tr th {\n        vertical-align: top;\n    }\n\n    .dataframe thead th {\n        text-align: right;\n    }\n</style>\n<table border=\"1\" class=\"dataframe\">\n  <thead>\n    <tr style=\"text-align: right;\">\n      <th></th>\n      <th>customer_id</th>\n      <th>order_date</th>\n      <th>order_id</th>\n      <th>pages_visited</th>\n      <th>tshirt_category</th>\n      <th>tshirt_price</th>\n      <th>tshirt_quantity</th>\n      <th>user_agent</th>\n    </tr>\n  </thead>\n  <tbody>\n    <tr>\n      <th>0</th>\n      <td>38040</td>\n      <td>04/09/2016</td>\n      <td>HTS-038040-0002</td>\n      <td>9</td>\n      <td>White T-Shirt M</td>\n      <td>20</td>\n      <td>1</td>\n      <td>Mozilla/5.0 (Windows NT 10.0| WOW64) AppleWebK...</td>\n    </tr>\n    <tr>\n      <th>1</th>\n      <td>vft1eu</td>\n      <td>26/02/2017</td>\n      <td>HTS-vft1eu-0003</td>\n      <td>10</td>\n      <td>White T-Shirt F</td>\n      <td>18</td>\n      <td>3</td>\n      <td>Mozilla/5.0 (Macintosh| Intel Mac OS X 10_12_3...</td>\n    </tr>\n    <tr>\n      <th>2</th>\n      <td>914324</td>\n      <td>01/12/2013</td>\n      <td>HTS-914324-0001</td>\n      <td>10</td>\n      <td>Wh Tshirt F</td>\n      <td>18</td>\n      <td>1</td>\n      <td>Mozilla/5.0 (Windows NT 10.0| WOW64) AppleWebK...</td>\n    </tr>\n    <tr>\n      <th>3</th>\n      <td>61311</td>\n      <td>15/01/2016</td>\n      <td>HTS-061311-0003</td>\n      <td>9</td>\n      <td>Black T-Shirt F</td>\n      <td>17,5</td>\n      <td>4</td>\n      <td>Mozilla/5.0 (Macintosh| Intel Mac OS X 10_12_3...</td>\n    </tr>\n    <tr>\n      <th>4</th>\n      <td>494332</td>\n      <td>03/11/2013</td>\n      <td>HTS-494332-0001</td>\n      <td>10</td>\n      <td>Wh Tshirt F</td>\n      <td>18</td>\n      <td>2</td>\n      <td>Mozilla/5.0 (Macintosh| Intel Mac OS X 10_11_6...</td>\n    </tr>\n    <tr>\n      <th>...</th>\n      <td>...</td>\n      <td>...</td>\n      <td>...</td>\n      <td>...</td>\n      <td>...</td>\n      <td>...</td>\n      <td>...</td>\n      <td>...</td>\n    </tr>\n    <tr>\n      <th>2920</th>\n      <td>0b59cn</td>\n      <td>12/12/2016</td>\n      <td>HTS-0b59cn-0004</td>\n      <td>8</td>\n      <td>Tennis Shirt</td>\n      <td>24</td>\n      <td>5</td>\n      <td>Mozilla/5.0 (X11| Ubuntu| Linux x86_64| rv:51....</td>\n    </tr>\n    <tr>\n      <th>2921</th>\n      <td>357322</td>\n      <td>10/12/2016</td>\n      <td>HTS-357322-0007</td>\n      <td>5</td>\n      <td>Tennis Shirt</td>\n      <td>24</td>\n      <td>3</td>\n      <td>Mozilla/5.0 (Windows NT 10.0| WOW64) AppleWebK...</td>\n    </tr>\n    <tr>\n      <th>2922</th>\n      <td>l8c64t</td>\n      <td>01/03/2017</td>\n      <td>HTS-l8c64t-0003</td>\n      <td>7</td>\n      <td>Tennis Shirt</td>\n      <td>24</td>\n      <td>2</td>\n      <td>Mozilla/5.0 (Windows NT 10.0| WOW64| rv:52.0) ...</td>\n    </tr>\n    <tr>\n      <th>2923</th>\n      <td>946557</td>\n      <td>21/07/2016</td>\n      <td>HTS-946557-0005</td>\n      <td>5</td>\n      <td>Tennis Shirt</td>\n      <td>24</td>\n      <td>2</td>\n      <td>Mozilla/5.0 (Windows NT 10.0| Win64| x64) Appl...</td>\n    </tr>\n    <tr>\n      <th>2924</th>\n      <td>1bhyje</td>\n      <td>22/06/2016</td>\n      <td>HTS-1bhyje-0002</td>\n      <td>17</td>\n      <td>Tennis Shirt</td>\n      <td>24</td>\n      <td>1</td>\n      <td>Mozilla/5.0 (X11| Linux x86_64) AppleWebKit/53...</td>\n    </tr>\n  </tbody>\n</table>\n<p>12921 rows × 8 columns</p>\n</div>"
     },
     "metadata": {}
    }
   ],
   "execution_count": null
  },
  {
   "cell_type": "markdown",
   "source": "## 2.2 Join",
   "metadata": {
    "tags": [],
    "is_collapsed": false,
    "cell_id": "00017-165c0440-f189-45d4-a123-71a2f55dd10d",
    "deepnote_cell_type": "text-cell-h2"
   }
  },
  {
   "cell_type": "markdown",
   "source": "### 2.2.1 Merging Sales and Client datasets",
   "metadata": {
    "tags": [],
    "is_collapsed": false,
    "cell_id": "00026-8fab6b96-dd22-4cbf-8164-62468440af5b",
    "deepnote_cell_type": "text-cell-h3"
   }
  },
  {
   "cell_type": "markdown",
   "source": "<div class=\"alert alert-block alert-info\">\n<b><p style=\"color:red;\">Exercice 14: Understand the steps of merging table</p></b>\nTry to understand the steps of merging data together. <br>\nThe following code allows to merge the tables <b>Sales</b> with <b>Client</b> together into 1 table. <br>\nYou will need the function <b>pandas.merge</b> : <a href=\"https://pandas.pydata.org/docs/reference/api/pandas.merge.html\">https://pandas.pydata.org/docs/reference/api/pandas.merge.html</a> <br>\nWe advice that you look at your data shape first, merge your tables, and check at the end your shape\n",
   "metadata": {
    "tags": [],
    "cell_id": "00027-ca53707a-d673-4796-a821-8f08b7278c10",
    "deepnote_cell_type": "markdown"
   }
  },
  {
   "cell_type": "code",
   "metadata": {
    "tags": [],
    "cell_id": "00026-cc991d05-271e-40dc-9330-2f0a68ff20ac",
    "deepnote_to_be_reexecuted": false,
    "source_hash": "23e622c9",
    "execution_start": 1631560786448,
    "execution_millis": 1,
    "deepnote_cell_type": "code"
   },
   "source": "# Let's make a check on the size of the dataframes before merging\nprint(df_vente.shape)\nprint(df_client.shape)",
   "outputs": [
    {
     "name": "stdout",
     "text": "(12921, 8)\n(2686, 10)\n",
     "output_type": "stream"
    }
   ],
   "execution_count": null
  },
  {
   "cell_type": "code",
   "metadata": {
    "tags": [],
    "cell_id": "00029-d8f10eb2-0352-4147-bc52-ee3d756e2324",
    "deepnote_to_be_reexecuted": false,
    "source_hash": "1e2869ad",
    "execution_start": 1631560789635,
    "execution_millis": 12,
    "deepnote_cell_type": "code"
   },
   "source": "list(df_vente)",
   "outputs": [
    {
     "output_type": "execute_result",
     "execution_count": 49,
     "data": {
      "text/plain": "['customer_id',\n 'order_date',\n 'order_id',\n 'pages_visited',\n 'tshirt_category',\n 'tshirt_price',\n 'tshirt_quantity',\n 'user_agent']"
     },
     "metadata": {}
    }
   ],
   "execution_count": null
  },
  {
   "cell_type": "code",
   "metadata": {
    "tags": [],
    "cell_id": "00030-81c89d8e-7f40-401f-932c-1ab4c2db3537",
    "deepnote_to_be_reexecuted": false,
    "source_hash": "b21e1668",
    "execution_start": 1631560791048,
    "execution_millis": 14,
    "deepnote_cell_type": "code"
   },
   "source": "list(df_client)",
   "outputs": [
    {
     "output_type": "execute_result",
     "execution_count": 50,
     "data": {
      "text/plain": "['customerID',\n 'gender',\n 'birthdate',\n 'ip_address',\n 'latitude',\n 'longitude',\n 'Country Name',\n 'country_code',\n 'city_name',\n 'email']"
     },
     "metadata": {}
    }
   ],
   "execution_count": null
  },
  {
   "cell_type": "code",
   "metadata": {
    "tags": [],
    "cell_id": "00026-c2cdcd42-3b98-4058-995c-e6d97b1e4f76",
    "deepnote_to_be_reexecuted": false,
    "source_hash": "a859df82",
    "execution_start": 1631561264316,
    "execution_millis": 19,
    "deepnote_cell_type": "code"
   },
   "source": "# Merge the 2 dataframes\ndf_final = pd.merge(df_vente, df_client, left_on=\"customer_id\", right_on=\"customerID\", how = \"left\")\ndf_final.shape",
   "outputs": [
    {
     "output_type": "execute_result",
     "execution_count": 52,
     "data": {
      "text/plain": "(12921, 18)"
     },
     "metadata": {}
    }
   ],
   "execution_count": null
  },
  {
   "cell_type": "code",
   "metadata": {
    "tags": [],
    "cell_id": "00017-020e3cf3-3ac1-4b97-9257-10fc7b58a67c",
    "deepnote_to_be_reexecuted": false,
    "source_hash": "fe515dcb",
    "execution_start": 1631561265192,
    "execution_millis": 120,
    "is_output_hidden": false,
    "deepnote_cell_type": "code"
   },
   "source": "# let's have a look at the data\ndf_final",
   "outputs": [
    {
     "output_type": "execute_result",
     "execution_count": 53,
     "data": {
      "application/vnd.deepnote.dataframe.v2+json": {
       "row_count": 12921,
       "column_count": 18,
       "columns": [
        {
         "name": "customer_id",
         "dtype": "object",
         "stats": {
          "unique_count": 5380,
          "nan_count": 0,
          "categories": [
           {
            "name": "536917",
            "count": 13
           },
           {
            "name": "409679",
            "count": 13
           },
           {
            "name": "5378 others",
            "count": 12895
           }
          ]
         }
        },
        {
         "name": "order_date",
         "dtype": "object",
         "stats": {
          "unique_count": 1401,
          "nan_count": 0,
          "categories": [
           {
            "name": "02/11/2015",
            "count": 25
           },
           {
            "name": "05/11/2015",
            "count": 25
           },
           {
            "name": "1399 others",
            "count": 12871
           }
          ]
         }
        },
        {
         "name": "order_id",
         "dtype": "object",
         "stats": {
          "unique_count": 12902,
          "nan_count": 0,
          "categories": [
           {
            "name": "HTS-296958-0001",
            "count": 2
           },
           {
            "name": "HTS-923895-0002",
            "count": 2
           },
           {
            "name": "12900 others",
            "count": 12917
           }
          ]
         }
        },
        {
         "name": "pages_visited",
         "dtype": "int64",
         "stats": {
          "unique_count": 25,
          "nan_count": 0,
          "min": "2",
          "max": "28",
          "histogram": [
           {
            "bin_start": 2,
            "bin_end": 4.6,
            "count": 394
           },
           {
            "bin_start": 4.6,
            "bin_end": 7.2,
            "count": 2004
           },
           {
            "bin_start": 7.2,
            "bin_end": 9.8,
            "count": 2495
           },
           {
            "bin_start": 9.8,
            "bin_end": 12.4,
            "count": 4063
           },
           {
            "bin_start": 12.4,
            "bin_end": 15,
            "count": 1990
           },
           {
            "bin_start": 15,
            "bin_end": 17.6,
            "count": 1513
           },
           {
            "bin_start": 17.6,
            "bin_end": 20.2,
            "count": 376
           },
           {
            "bin_start": 20.2,
            "bin_end": 22.8,
            "count": 60
           },
           {
            "bin_start": 22.8,
            "bin_end": 25.400000000000002,
            "count": 25
           },
           {
            "bin_start": 25.400000000000002,
            "bin_end": 28,
            "count": 1
           }
          ]
         }
        },
        {
         "name": "tshirt_category",
         "dtype": "object",
         "stats": {
          "unique_count": 10,
          "nan_count": 0,
          "categories": [
           {
            "name": "Hoodie",
            "count": 3047
           },
           {
            "name": "White T-Shirt M",
            "count": 2717
           },
           {
            "name": "8 others",
            "count": 7157
           }
          ]
         }
        },
        {
         "name": "tshirt_price",
         "dtype": "object",
         "stats": {
          "unique_count": 6,
          "nan_count": 0,
          "categories": [
           {
            "name": "23",
            "count": 3047
           },
           {
            "name": "20",
            "count": 2955
           },
           {
            "name": "4 others",
            "count": 6919
           }
          ]
         }
        },
        {
         "name": "tshirt_quantity",
         "dtype": "int64",
         "stats": {
          "unique_count": 28,
          "nan_count": 0,
          "min": "1",
          "max": "29",
          "histogram": [
           {
            "bin_start": 1,
            "bin_end": 3.8,
            "count": 10651
           },
           {
            "bin_start": 3.8,
            "bin_end": 6.6,
            "count": 1459
           },
           {
            "bin_start": 6.6,
            "bin_end": 9.399999999999999,
            "count": 181
           },
           {
            "bin_start": 9.399999999999999,
            "bin_end": 12.2,
            "count": 122
           },
           {
            "bin_start": 12.2,
            "bin_end": 15,
            "count": 116
           },
           {
            "bin_start": 15,
            "bin_end": 17.799999999999997,
            "count": 170
           },
           {
            "bin_start": 17.799999999999997,
            "bin_end": 20.599999999999998,
            "count": 126
           },
           {
            "bin_start": 20.599999999999998,
            "bin_end": 23.4,
            "count": 65
           },
           {
            "bin_start": 23.4,
            "bin_end": 26.2,
            "count": 27
           },
           {
            "bin_start": 26.2,
            "bin_end": 29,
            "count": 4
           }
          ]
         }
        },
        {
         "name": "user_agent",
         "dtype": "object"
        },
        {
         "name": "customerID",
         "dtype": "object"
        },
        {
         "name": "gender",
         "dtype": "object"
        },
        {
         "name": "birthdate",
         "dtype": "object"
        },
        {
         "name": "ip_address",
         "dtype": "object"
        },
        {
         "name": "latitude",
         "dtype": "float64"
        },
        {
         "name": "longitude",
         "dtype": "float64"
        },
        {
         "name": "Country Name",
         "dtype": "object"
        },
        {
         "name": "country_code",
         "dtype": "object"
        },
        {
         "name": "city_name",
         "dtype": "object"
        },
        {
         "name": "email",
         "dtype": "object"
        },
        {
         "name": "_deepnote_index_column",
         "dtype": "int64"
        }
       ],
       "rows_top": [
        {
         "customer_id": "38040",
         "order_date": "04/09/2016",
         "order_id": "HTS-038040-0002",
         "pages_visited": 9,
         "tshirt_category": "White T-Shirt M",
         "tshirt_price": "20",
         "tshirt_quantity": 1,
         "user_agent": "Mozilla/5.0 (Windows NT 10.0| WOW64) AppleWebKit/537.36 (KHTML, like Gecko) Chrome/56.0.2924.87 Saf…",
         "customerID": "nan",
         "gender": "nan",
         "birthdate": "nan",
         "ip_address": "nan",
         "latitude": "nan",
         "longitude": "nan",
         "Country Name": "nan",
         "country_code": "nan",
         "city_name": "nan",
         "email": "nan",
         "_deepnote_index_column": 0
        },
        {
         "customer_id": "vft1eu",
         "order_date": "26/02/2017",
         "order_id": "HTS-vft1eu-0003",
         "pages_visited": 10,
         "tshirt_category": "White T-Shirt F",
         "tshirt_price": "18",
         "tshirt_quantity": 3,
         "user_agent": "Mozilla/5.0 (Macintosh| Intel Mac OS X 10_12_3) AppleWebKit/602.4.8 (KHTML, like Gecko) Version/10.…",
         "customerID": "vft1eu",
         "gender": "F",
         "birthdate": "1969-06-27 00:00:00",
         "ip_address": "53.115.6.106",
         "latitude": 51,
         "longitude": 9,
         "Country Name": "Germany, Federal Republic of",
         "country_code": "DE",
         "city_name": "nan",
         "email": "HEOX@formation.fr",
         "_deepnote_index_column": 1
        },
        {
         "customer_id": "914324",
         "order_date": "01/12/2013",
         "order_id": "HTS-914324-0001",
         "pages_visited": 10,
         "tshirt_category": "Wh Tshirt F",
         "tshirt_price": "18",
         "tshirt_quantity": 1,
         "user_agent": "Mozilla/5.0 (Windows NT 10.0| WOW64) AppleWebKit/537.36 (KHTML, like Gecko) Chrome/56.0.2924.87 Saf…",
         "customerID": "nan",
         "gender": "nan",
         "birthdate": "nan",
         "ip_address": "nan",
         "latitude": "nan",
         "longitude": "nan",
         "Country Name": "nan",
         "country_code": "nan",
         "city_name": "nan",
         "email": "nan",
         "_deepnote_index_column": 2
        },
        {
         "customer_id": "61311",
         "order_date": "15/01/2016",
         "order_id": "HTS-061311-0003",
         "pages_visited": 9,
         "tshirt_category": "Black T-Shirt F",
         "tshirt_price": "17,5",
         "tshirt_quantity": 4,
         "user_agent": "Mozilla/5.0 (Macintosh| Intel Mac OS X 10_12_3) AppleWebKit/537.36 (KHTML, like Gecko) Chrome/56.0.…",
         "customerID": "nan",
         "gender": "nan",
         "birthdate": "nan",
         "ip_address": "nan",
         "latitude": "nan",
         "longitude": "nan",
         "Country Name": "nan",
         "country_code": "nan",
         "city_name": "nan",
         "email": "nan",
         "_deepnote_index_column": 3
        },
        {
         "customer_id": "494332",
         "order_date": "03/11/2013",
         "order_id": "HTS-494332-0001",
         "pages_visited": 10,
         "tshirt_category": "Wh Tshirt F",
         "tshirt_price": "18",
         "tshirt_quantity": 2,
         "user_agent": "Mozilla/5.0 (Macintosh| Intel Mac OS X 10_11_6) AppleWebKit/537.36 (KHTML, like Gecko) Chrome/56.0.…",
         "customerID": "nan",
         "gender": "nan",
         "birthdate": "nan",
         "ip_address": "nan",
         "latitude": "nan",
         "longitude": "nan",
         "Country Name": "nan",
         "country_code": "nan",
         "city_name": "nan",
         "email": "nan",
         "_deepnote_index_column": 4
        },
        {
         "customer_id": "463794",
         "order_date": "02/10/2013",
         "order_id": "HTS-463794-0001",
         "pages_visited": 14,
         "tshirt_category": "Tennis Shirt",
         "tshirt_price": "24",
         "tshirt_quantity": 1,
         "user_agent": "Mozilla/5.0 (Windows NT 10.0| Win64| x64) AppleWebKit/537.36 (KHTML, like Gecko) Chrome/56.0.2924.8…",
         "customerID": "nan",
         "gender": "nan",
         "birthdate": "nan",
         "ip_address": "nan",
         "latitude": "nan",
         "longitude": "nan",
         "Country Name": "nan",
         "country_code": "nan",
         "city_name": "nan",
         "email": "nan",
         "_deepnote_index_column": 5
        },
        {
         "customer_id": "132885",
         "order_date": "23/07/2013",
         "order_id": "HTS-132885-0001",
         "pages_visited": 17,
         "tshirt_category": "Wh Tshirt M",
         "tshirt_price": "20",
         "tshirt_quantity": 1,
         "user_agent": "Mozilla/5.0 (Windows NT 10.0| Win64| x64) AppleWebKit/537.36 (KHTML, like Gecko) Chrome/56.0.2924.8…",
         "customerID": "nan",
         "gender": "nan",
         "birthdate": "nan",
         "ip_address": "nan",
         "latitude": "nan",
         "longitude": "nan",
         "Country Name": "nan",
         "country_code": "nan",
         "city_name": "nan",
         "email": "nan",
         "_deepnote_index_column": 6
        },
        {
         "customer_id": "519113",
         "order_date": "24/11/2013",
         "order_id": "HTS-519113-0001",
         "pages_visited": 17,
         "tshirt_category": "Bl Tshirt F",
         "tshirt_price": "17,5",
         "tshirt_quantity": 1,
         "user_agent": "Mozilla/5.0 (Windows NT 6.1| WOW64) AppleWebKit/537.36 (KHTML, like Gecko) Chrome/56.0.2924.87 Safa…",
         "customerID": "nan",
         "gender": "nan",
         "birthdate": "nan",
         "ip_address": "nan",
         "latitude": "nan",
         "longitude": "nan",
         "Country Name": "nan",
         "country_code": "nan",
         "city_name": "nan",
         "email": "nan",
         "_deepnote_index_column": 7
        },
        {
         "customer_id": "je57lh",
         "order_date": "24/11/2015",
         "order_id": "HTS-je57lh-0001",
         "pages_visited": 15,
         "tshirt_category": "Hoodie",
         "tshirt_price": "23",
         "tshirt_quantity": 3,
         "user_agent": "Mozilla/5.0 (Windows NT 10.0| Win64| x64) AppleWebKit/537.36 (KHTML, like Gecko) Chrome/56.0.2924.8…",
         "customerID": "je57lh",
         "gender": "M",
         "birthdate": "1953-03-12 00:00:00",
         "ip_address": "110.116.130.200",
         "latitude": 39.92890167,
         "longitude": 116.388298,
         "Country Name": "China, People's Republic of",
         "country_code": "CN",
         "city_name": "Beijing",
         "email": "GOPB@formation.fr",
         "_deepnote_index_column": 8
        },
        {
         "customer_id": "49348",
         "order_date": "15/08/2016",
         "order_id": "HTS-049348-0004",
         "pages_visited": 6,
         "tshirt_category": "Black T-Shirt F",
         "tshirt_price": "17,5",
         "tshirt_quantity": 1,
         "user_agent": "Mozilla/5.0 (Macintosh| Intel Mac OS X 10_11_6) AppleWebKit/537.36 (KHTML, like Gecko) Chrome/56.0.…",
         "customerID": "nan",
         "gender": "nan",
         "birthdate": "nan",
         "ip_address": "nan",
         "latitude": "nan",
         "longitude": "nan",
         "Country Name": "nan",
         "country_code": "nan",
         "city_name": "nan",
         "email": "nan",
         "_deepnote_index_column": 9
        },
        {
         "customer_id": "heb26i",
         "order_date": "29/11/2015",
         "order_id": "HTS-heb26i-0001",
         "pages_visited": 15,
         "tshirt_category": "Black T-Shirt F",
         "tshirt_price": "17,5",
         "tshirt_quantity": 1,
         "user_agent": "Mozilla/5.0 (Windows NT 6.1| Win64| x64) AppleWebKit/537.36 (KHTML, like Gecko) Chrome/56.0.2924.87…",
         "customerID": "heb26i",
         "gender": "F",
         "birthdate": "1984-12-27 00:00:00",
         "ip_address": "62.188.236.61",
         "latitude": 51.5,
         "longitude": -0.129999995,
         "Country Name": "United Kingdom of Great Britain & Northern Ireland",
         "country_code": "GB",
         "city_name": "nan",
         "email": "RPOO@formation.fr",
         "_deepnote_index_column": 10
        },
        {
         "customer_id": "989355",
         "order_date": "09/10/2015",
         "order_id": "HTS-989355-0003",
         "pages_visited": 10,
         "tshirt_category": "Hoodie",
         "tshirt_price": "23",
         "tshirt_quantity": 2,
         "user_agent": "Mozilla/5.0 (Windows NT 6.1| WOW64) AppleWebKit/537.36 (KHTML, like Gecko) Chrome/56.0.2924.87 Safa…",
         "customerID": "nan",
         "gender": "nan",
         "birthdate": "nan",
         "ip_address": "nan",
         "latitude": "nan",
         "longitude": "nan",
         "Country Name": "nan",
         "country_code": "nan",
         "city_name": "nan",
         "email": "nan",
         "_deepnote_index_column": 11
        },
        {
         "customer_id": "1b0lnt",
         "order_date": "16/01/2016",
         "order_id": "HTS-1b0lnt-0002",
         "pages_visited": 15,
         "tshirt_category": "White T-Shirt M",
         "tshirt_price": "20",
         "tshirt_quantity": 1,
         "user_agent": "Mozilla/5.0 (X11| Linux x86_64) AppleWebKit/537.36 (KHTML, like Gecko) Chrome/56.0.2924.87 Safari/5…",
         "customerID": "1b0lnt",
         "gender": "F",
         "birthdate": "1981-11-07 00:00:00",
         "ip_address": "117.228.120.81",
         "latitude": 18.5333004,
         "longitude": 73.86669922,
         "Country Name": "India, Republic of",
         "country_code": "IN",
         "city_name": "Poona",
         "email": "RKYX@formation.fr",
         "_deepnote_index_column": 12
        },
        {
         "customer_id": "198773",
         "order_date": "17/01/2015",
         "order_id": "HTS-198773-0002",
         "pages_visited": 5,
         "tshirt_category": "White T-Shirt M",
         "tshirt_price": "20",
         "tshirt_quantity": 1,
         "user_agent": "Mozilla/5.0 (Windows NT 10.0| Win64| x64) AppleWebKit/537.36 (KHTML, like Gecko) Chrome/56.0.2924.8…",
         "customerID": "nan",
         "gender": "nan",
         "birthdate": "nan",
         "ip_address": "nan",
         "latitude": "nan",
         "longitude": "nan",
         "Country Name": "nan",
         "country_code": "nan",
         "city_name": "nan",
         "email": "nan",
         "_deepnote_index_column": 13
        },
        {
         "customer_id": "476084",
         "order_date": "20/07/2014",
         "order_id": "HTS-476084-0001",
         "pages_visited": 11,
         "tshirt_category": "White T-Shirt M",
         "tshirt_price": "20",
         "tshirt_quantity": 2,
         "user_agent": "Mozilla/5.0 (Windows NT 10.0| Win64| x64) AppleWebKit/537.36 (KHTML, like Gecko) Chrome/56.0.2924.8…",
         "customerID": "nan",
         "gender": "nan",
         "birthdate": "nan",
         "ip_address": "nan",
         "latitude": "nan",
         "longitude": "nan",
         "Country Name": "nan",
         "country_code": "nan",
         "city_name": "nan",
         "email": "nan",
         "_deepnote_index_column": 14
        },
        {
         "customer_id": "907041",
         "order_date": "20/05/2016",
         "order_id": "HTS-907041-0002",
         "pages_visited": 14,
         "tshirt_category": "White T-Shirt F",
         "tshirt_price": "18",
         "tshirt_quantity": 3,
         "user_agent": "Mozilla/5.0 (Windows NT 6.1| WOW64| rv:51.0) Gecko/20100101 Firefox/51.0",
         "customerID": "nan",
         "gender": "nan",
         "birthdate": "nan",
         "ip_address": "nan",
         "latitude": "nan",
         "longitude": "nan",
         "Country Name": "nan",
         "country_code": "nan",
         "city_name": "nan",
         "email": "nan",
         "_deepnote_index_column": 15
        },
        {
         "customer_id": "399607",
         "order_date": "09/03/2014",
         "order_id": "HTS-399607-0002",
         "pages_visited": 12,
         "tshirt_category": "White T-Shirt M",
         "tshirt_price": "20",
         "tshirt_quantity": 5,
         "user_agent": "Mozilla/5.0 (Windows NT 6.1| WOW64) AppleWebKit/537.36 (KHTML, like Gecko) Chrome/56.0.2924.87 Safa…",
         "customerID": "nan",
         "gender": "nan",
         "birthdate": "nan",
         "ip_address": "nan",
         "latitude": "nan",
         "longitude": "nan",
         "Country Name": "nan",
         "country_code": "nan",
         "city_name": "nan",
         "email": "nan",
         "_deepnote_index_column": 16
        },
        {
         "customer_id": "610587",
         "order_date": "08/01/2017",
         "order_id": "HTS-610587-0004",
         "pages_visited": 5,
         "tshirt_category": "Hoodie",
         "tshirt_price": "23",
         "tshirt_quantity": 1,
         "user_agent": "Mozilla/5.0 (X11| Linux x86_64) AppleWebKit/537.36 (KHTML, like Gecko) Chrome/56.0.2924.87 Safari/5…",
         "customerID": "nan",
         "gender": "nan",
         "birthdate": "nan",
         "ip_address": "nan",
         "latitude": "nan",
         "longitude": "nan",
         "Country Name": "nan",
         "country_code": "nan",
         "city_name": "nan",
         "email": "nan",
         "_deepnote_index_column": 17
        },
        {
         "customer_id": "707341",
         "order_date": "03/10/2014",
         "order_id": "HTS-707341-0003",
         "pages_visited": 8,
         "tshirt_category": "Black T-Shirt M",
         "tshirt_price": "19",
         "tshirt_quantity": 3,
         "user_agent": "Mozilla/5.0 (Macintosh| Intel Mac OS X 10_12_3) AppleWebKit/602.4.8 (KHTML, like Gecko) Version/10.…",
         "customerID": "nan",
         "gender": "nan",
         "birthdate": "nan",
         "ip_address": "nan",
         "latitude": "nan",
         "longitude": "nan",
         "Country Name": "nan",
         "country_code": "nan",
         "city_name": "nan",
         "email": "nan",
         "_deepnote_index_column": 18
        },
        {
         "customer_id": "pq3m7c",
         "order_date": "08/09/2015",
         "order_id": "HTS-pq3m7c-0001",
         "pages_visited": 11,
         "tshirt_category": "Hoodie",
         "tshirt_price": "23",
         "tshirt_quantity": 1,
         "user_agent": "Mozilla/5.0 (Windows NT 6.1| WOW64| rv:52.0) Gecko/20100101 Firefox/52.0",
         "customerID": "pq3m7c",
         "gender": "M",
         "birthdate": "1992-01-19 00:00:00",
         "ip_address": "97.77.88.191",
         "latitude": 38,
         "longitude": -97,
         "Country Name": "United States of America",
         "country_code": "US",
         "city_name": "nan",
         "email": "ZAIT@formation.fr",
         "_deepnote_index_column": 19
        },
        {
         "customer_id": "0lkdil",
         "order_date": "19/12/2016",
         "order_id": "HTS-0lkdil-0002",
         "pages_visited": 8,
         "tshirt_category": "Black T-Shirt F",
         "tshirt_price": "17,5",
         "tshirt_quantity": 1,
         "user_agent": "Mozilla/5.0 (Macintosh| Intel Mac OS X 10_12_3) AppleWebKit/537.36 (KHTML, like Gecko) Chrome/56.0.…",
         "customerID": "0lkdil",
         "gender": "F",
         "birthdate": "1956-04-28 00:00:00",
         "ip_address": "85.133.57.170",
         "latitude": 51.5,
         "longitude": -0.129999995,
         "Country Name": "United Kingdom of Great Britain & Northern Ireland",
         "country_code": "GB",
         "city_name": "nan",
         "email": "SFOA@formation.fr",
         "_deepnote_index_column": 20
        },
        {
         "customer_id": "318409",
         "order_date": "02/08/2015",
         "order_id": "HTS-318409-0001",
         "pages_visited": 19,
         "tshirt_category": "Black T-Shirt M",
         "tshirt_price": "19",
         "tshirt_quantity": 1,
         "user_agent": "Mozilla/5.0 (Macintosh| Intel Mac OS X 10_12_3) AppleWebKit/602.4.8 (KHTML, like Gecko) Version/10.…",
         "customerID": "nan",
         "gender": "nan",
         "birthdate": "nan",
         "ip_address": "nan",
         "latitude": "nan",
         "longitude": "nan",
         "Country Name": "nan",
         "country_code": "nan",
         "city_name": "nan",
         "email": "nan",
         "_deepnote_index_column": 21
        },
        {
         "customer_id": "964210",
         "order_date": "15/09/2014",
         "order_id": "HTS-964210-0002",
         "pages_visited": 6,
         "tshirt_category": "Black T-Shirt F",
         "tshirt_price": "17,5",
         "tshirt_quantity": 1,
         "user_agent": "Mozilla/5.0 (Windows NT 6.1| Win64| x64) AppleWebKit/537.36 (KHTML, like Gecko) Chrome/56.0.2924.87…",
         "customerID": "nan",
         "gender": "nan",
         "birthdate": "nan",
         "ip_address": "nan",
         "latitude": "nan",
         "longitude": "nan",
         "Country Name": "nan",
         "country_code": "nan",
         "city_name": "nan",
         "email": "nan",
         "_deepnote_index_column": 22
        },
        {
         "customer_id": "162811",
         "order_date": "23/06/2015",
         "order_id": "HTS-162811-0002",
         "pages_visited": 6,
         "tshirt_category": "Black T-Shirt M",
         "tshirt_price": "19",
         "tshirt_quantity": 3,
         "user_agent": "Mozilla/5.0 (Windows NT 6.1| WOW64| rv:51.0) Gecko/20100101 Firefox/51.0",
         "customerID": "nan",
         "gender": "nan",
         "birthdate": "nan",
         "ip_address": "nan",
         "latitude": "nan",
         "longitude": "nan",
         "Country Name": "nan",
         "country_code": "nan",
         "city_name": "nan",
         "email": "nan",
         "_deepnote_index_column": 23
        },
        {
         "customer_id": "760379",
         "order_date": "26/08/2013",
         "order_id": "HTS-760379-0001",
         "pages_visited": 14,
         "tshirt_category": "Hoodie",
         "tshirt_price": "23",
         "tshirt_quantity": 1,
         "user_agent": "Mozilla/5.0 (Windows NT 10.0| WOW64| rv:51.0) Gecko/20100101 Firefox/51.0",
         "customerID": "nan",
         "gender": "nan",
         "birthdate": "nan",
         "ip_address": "nan",
         "latitude": "nan",
         "longitude": "nan",
         "Country Name": "nan",
         "country_code": "nan",
         "city_name": "nan",
         "email": "nan",
         "_deepnote_index_column": 24
        },
        {
         "customer_id": "710433",
         "order_date": "28/01/2015",
         "order_id": "HTS-710433-0001",
         "pages_visited": 11,
         "tshirt_category": "White T-Shirt F",
         "tshirt_price": "18",
         "tshirt_quantity": 1,
         "user_agent": "Mozilla/5.0 (Windows NT 6.1| WOW64) AppleWebKit/537.36 (KHTML, like Gecko) Chrome/56.0.2924.87 Safa…",
         "customerID": "nan",
         "gender": "nan",
         "birthdate": "nan",
         "ip_address": "nan",
         "latitude": "nan",
         "longitude": "nan",
         "Country Name": "nan",
         "country_code": "nan",
         "city_name": "nan",
         "email": "nan",
         "_deepnote_index_column": 25
        },
        {
         "customer_id": "kuqsq1",
         "order_date": "06/12/2016",
         "order_id": "HTS-kuqsq1-0002",
         "pages_visited": 16,
         "tshirt_category": "Black T-Shirt F",
         "tshirt_price": "17,5",
         "tshirt_quantity": 1,
         "user_agent": "Mozilla/5.0 (Windows NT 10.0| Win64| x64) AppleWebKit/537.36 (KHTML, like Gecko) Chrome/56.0.2924.8…",
         "customerID": "kuqsq1",
         "gender": "F",
         "birthdate": "1951-05-09 00:00:00",
         "ip_address": "119.206.205.10",
         "latitude": 37.5699997,
         "longitude": 126.9800034,
         "Country Name": "Korea, Republic of",
         "country_code": "KR",
         "city_name": "nan",
         "email": "MXWF@formation.fr",
         "_deepnote_index_column": 26
        }
       ],
       "rows_bottom": [
        {
         "customer_id": "744898",
         "order_date": "18/02/2015",
         "order_id": "HTS-744898-0003",
         "pages_visited": 8,
         "tshirt_category": "Tennis Shirt",
         "tshirt_price": "24",
         "tshirt_quantity": 2,
         "user_agent": "Mozilla/5.0 (Windows NT 6.1| WOW64) AppleWebKit/537.36 (KHTML, like Gecko) Chrome/56.0.2924.87 Safa…",
         "customerID": "nan",
         "gender": "nan",
         "birthdate": "nan",
         "ip_address": "nan",
         "latitude": "nan",
         "longitude": "nan",
         "Country Name": "nan",
         "country_code": "nan",
         "city_name": "nan",
         "email": "nan",
         "_deepnote_index_column": 12893
        },
        {
         "customer_id": "27163",
         "order_date": "03/12/2015",
         "order_id": "HTS-027163-0003",
         "pages_visited": 11,
         "tshirt_category": "Tennis Shirt",
         "tshirt_price": "24",
         "tshirt_quantity": 1,
         "user_agent": "Mozilla/5.0 (Windows NT 6.1| WOW64) AppleWebKit/537.36 (KHTML, like Gecko) Chrome/56.0.2924.87 Safa…",
         "customerID": "nan",
         "gender": "nan",
         "birthdate": "nan",
         "ip_address": "nan",
         "latitude": "nan",
         "longitude": "nan",
         "Country Name": "nan",
         "country_code": "nan",
         "city_name": "nan",
         "email": "nan",
         "_deepnote_index_column": 12894
        },
        {
         "customer_id": "8nc81b",
         "order_date": "25/02/2016",
         "order_id": "HTS-8nc81b-0002",
         "pages_visited": 12,
         "tshirt_category": "Tennis Shirt",
         "tshirt_price": "24",
         "tshirt_quantity": 4,
         "user_agent": "Mozilla/5.0 (Windows NT 6.1| WOW64) AppleWebKit/537.36 (KHTML, like Gecko) Chrome/56.0.2924.87 Safa…",
         "customerID": "nan",
         "gender": "nan",
         "birthdate": "nan",
         "ip_address": "nan",
         "latitude": "nan",
         "longitude": "nan",
         "Country Name": "nan",
         "country_code": "nan",
         "city_name": "nan",
         "email": "nan",
         "_deepnote_index_column": 12895
        },
        {
         "customer_id": "tq6ry2",
         "order_date": "05/01/2017",
         "order_id": "HTS-tq6ry2-0002",
         "pages_visited": 13,
         "tshirt_category": "Tennis Shirt",
         "tshirt_price": "24",
         "tshirt_quantity": 1,
         "user_agent": "Mozilla/5.0 (Windows NT 6.1| WOW64) AppleWebKit/537.36 (KHTML, like Gecko) Chrome/56.0.2924.87 Safa…",
         "customerID": "nan",
         "gender": "nan",
         "birthdate": "nan",
         "ip_address": "nan",
         "latitude": "nan",
         "longitude": "nan",
         "Country Name": "nan",
         "country_code": "nan",
         "city_name": "nan",
         "email": "nan",
         "_deepnote_index_column": 12896
        },
        {
         "customer_id": "62489",
         "order_date": "22/12/2013",
         "order_id": "HTS-062489-0001",
         "pages_visited": 18,
         "tshirt_category": "Tennis Shirt",
         "tshirt_price": "24",
         "tshirt_quantity": 1,
         "user_agent": "Mozilla/5.0 (Windows NT 6.1| WOW64) AppleWebKit/537.36 (KHTML, like Gecko) Chrome/56.0.2924.87 Safa…",
         "customerID": "nan",
         "gender": "nan",
         "birthdate": "nan",
         "ip_address": "nan",
         "latitude": "nan",
         "longitude": "nan",
         "Country Name": "nan",
         "country_code": "nan",
         "city_name": "nan",
         "email": "nan",
         "_deepnote_index_column": 12897
        },
        {
         "customer_id": "672344",
         "order_date": "19/11/2016",
         "order_id": "HTS-672344-0005",
         "pages_visited": 5,
         "tshirt_category": "Tennis Shirt",
         "tshirt_price": "24",
         "tshirt_quantity": 2,
         "user_agent": "Mozilla/5.0 (Windows NT 6.1| WOW64| rv:51.0) Gecko/20100101 Firefox/51.0",
         "customerID": "nan",
         "gender": "nan",
         "birthdate": "nan",
         "ip_address": "nan",
         "latitude": "nan",
         "longitude": "nan",
         "Country Name": "nan",
         "country_code": "nan",
         "city_name": "nan",
         "email": "nan",
         "_deepnote_index_column": 12898
        },
        {
         "customer_id": "763981",
         "order_date": "25/06/2015",
         "order_id": "HTS-763981-0002",
         "pages_visited": 7,
         "tshirt_category": "Tennis Shirt",
         "tshirt_price": "24",
         "tshirt_quantity": 5,
         "user_agent": "Mozilla/5.0 (Windows NT 6.1| WOW64| rv:51.0) Gecko/20100101 Firefox/51.0",
         "customerID": "nan",
         "gender": "nan",
         "birthdate": "nan",
         "ip_address": "nan",
         "latitude": "nan",
         "longitude": "nan",
         "Country Name": "nan",
         "country_code": "nan",
         "city_name": "nan",
         "email": "nan",
         "_deepnote_index_column": 12899
        },
        {
         "customer_id": "676955",
         "order_date": "25/12/2014",
         "order_id": "HTS-676955-0001",
         "pages_visited": 9,
         "tshirt_category": "Tennis Shirt",
         "tshirt_price": "24",
         "tshirt_quantity": 4,
         "user_agent": "Mozilla/5.0 (Windows NT 6.1| WOW64| rv:51.0) Gecko/20100101 Firefox/51.0",
         "customerID": "nan",
         "gender": "nan",
         "birthdate": "nan",
         "ip_address": "nan",
         "latitude": "nan",
         "longitude": "nan",
         "Country Name": "nan",
         "country_code": "nan",
         "city_name": "nan",
         "email": "nan",
         "_deepnote_index_column": 12900
        },
        {
         "customer_id": "278313",
         "order_date": "09/04/2016",
         "order_id": "HTS-278313-0004",
         "pages_visited": 15,
         "tshirt_category": "Tennis Shirt",
         "tshirt_price": "24",
         "tshirt_quantity": 13,
         "user_agent": "Mozilla/5.0 (Windows NT 6.1| WOW64| rv:51.0) Gecko/20100101 Firefox/51.0",
         "customerID": "nan",
         "gender": "nan",
         "birthdate": "nan",
         "ip_address": "nan",
         "latitude": "nan",
         "longitude": "nan",
         "Country Name": "nan",
         "country_code": "nan",
         "city_name": "nan",
         "email": "nan",
         "_deepnote_index_column": 12901
        },
        {
         "customer_id": "el0sj8",
         "order_date": "12/01/2017",
         "order_id": "HTS-el0sj8-0004",
         "pages_visited": 6,
         "tshirt_category": "Tennis Shirt",
         "tshirt_price": "24",
         "tshirt_quantity": 1,
         "user_agent": "Mozilla/5.0 (Windows NT 6.1| Win64| x64) AppleWebKit/537.36 (KHTML, like Gecko) Chrome/56.0.2924.87…",
         "customerID": "nan",
         "gender": "nan",
         "birthdate": "nan",
         "ip_address": "nan",
         "latitude": "nan",
         "longitude": "nan",
         "Country Name": "nan",
         "country_code": "nan",
         "city_name": "nan",
         "email": "nan",
         "_deepnote_index_column": 12902
        },
        {
         "customer_id": "545790",
         "order_date": "16/07/2015",
         "order_id": "HTS-545790-0005",
         "pages_visited": 6,
         "tshirt_category": "Tennis Shirt",
         "tshirt_price": "24",
         "tshirt_quantity": 3,
         "user_agent": "Mozilla/5.0 (Windows NT 6.1| Win64| x64) AppleWebKit/537.36 (KHTML, like Gecko) Chrome/56.0.2924.87…",
         "customerID": "nan",
         "gender": "nan",
         "birthdate": "nan",
         "ip_address": "nan",
         "latitude": "nan",
         "longitude": "nan",
         "Country Name": "nan",
         "country_code": "nan",
         "city_name": "nan",
         "email": "nan",
         "_deepnote_index_column": 12903
        },
        {
         "customer_id": "585862",
         "order_date": "19/11/2015",
         "order_id": "HTS-585862-0004",
         "pages_visited": 7,
         "tshirt_category": "Tennis Shirt",
         "tshirt_price": "24",
         "tshirt_quantity": 14,
         "user_agent": "Mozilla/5.0 (Windows NT 6.1| Win64| x64) AppleWebKit/537.36 (KHTML, like Gecko) Chrome/56.0.2924.87…",
         "customerID": "nan",
         "gender": "nan",
         "birthdate": "nan",
         "ip_address": "nan",
         "latitude": "nan",
         "longitude": "nan",
         "Country Name": "nan",
         "country_code": "nan",
         "city_name": "nan",
         "email": "nan",
         "_deepnote_index_column": 12904
        },
        {
         "customer_id": "585862",
         "order_date": "17/02/2015",
         "order_id": "HTS-585862-0003",
         "pages_visited": 8,
         "tshirt_category": "Tennis Shirt",
         "tshirt_price": "24",
         "tshirt_quantity": 18,
         "user_agent": "Mozilla/5.0 (Windows NT 6.1| Win64| x64) AppleWebKit/537.36 (KHTML, like Gecko) Chrome/56.0.2924.87…",
         "customerID": "nan",
         "gender": "nan",
         "birthdate": "nan",
         "ip_address": "nan",
         "latitude": "nan",
         "longitude": "nan",
         "Country Name": "nan",
         "country_code": "nan",
         "city_name": "nan",
         "email": "nan",
         "_deepnote_index_column": 12905
        },
        {
         "customer_id": "539658",
         "order_date": "29/12/2015",
         "order_id": "HTS-539658-0003",
         "pages_visited": 9,
         "tshirt_category": "Tennis Shirt",
         "tshirt_price": "24",
         "tshirt_quantity": 6,
         "user_agent": "Mozilla/5.0 (Windows NT 6.1| Win64| x64) AppleWebKit/537.36 (KHTML, like Gecko) Chrome/56.0.2924.87…",
         "customerID": "nan",
         "gender": "nan",
         "birthdate": "nan",
         "ip_address": "nan",
         "latitude": "nan",
         "longitude": "nan",
         "Country Name": "nan",
         "country_code": "nan",
         "city_name": "nan",
         "email": "nan",
         "_deepnote_index_column": 12906
        },
        {
         "customer_id": "187195",
         "order_date": "30/03/2016",
         "order_id": "HTS-187195-0003",
         "pages_visited": 10,
         "tshirt_category": "Tennis Shirt",
         "tshirt_price": "24",
         "tshirt_quantity": 5,
         "user_agent": "Mozilla/5.0 (Windows NT 6.1| Win64| x64) AppleWebKit/537.36 (KHTML, like Gecko) Chrome/56.0.2924.87…",
         "customerID": "nan",
         "gender": "nan",
         "birthdate": "nan",
         "ip_address": "nan",
         "latitude": "nan",
         "longitude": "nan",
         "Country Name": "nan",
         "country_code": "nan",
         "city_name": "nan",
         "email": "nan",
         "_deepnote_index_column": 12907
        },
        {
         "customer_id": "449243",
         "order_date": "09/06/2016",
         "order_id": "HTS-449243-0002",
         "pages_visited": 11,
         "tshirt_category": "Tennis Shirt",
         "tshirt_price": "24",
         "tshirt_quantity": 1,
         "user_agent": "Mozilla/5.0 (Windows NT 6.1| Win64| x64) AppleWebKit/537.36 (KHTML, like Gecko) Chrome/56.0.2924.87…",
         "customerID": "nan",
         "gender": "nan",
         "birthdate": "nan",
         "ip_address": "nan",
         "latitude": "nan",
         "longitude": "nan",
         "Country Name": "nan",
         "country_code": "nan",
         "city_name": "nan",
         "email": "nan",
         "_deepnote_index_column": 12908
        },
        {
         "customer_id": "83318",
         "order_date": "01/08/2016",
         "order_id": "HTS-083318-0005",
         "pages_visited": 11,
         "tshirt_category": "Tennis Shirt",
         "tshirt_price": "24",
         "tshirt_quantity": 2,
         "user_agent": "Mozilla/5.0 (Windows NT 6.1| Win64| x64) AppleWebKit/537.36 (KHTML, like Gecko) Chrome/56.0.2924.87…",
         "customerID": "nan",
         "gender": "nan",
         "birthdate": "nan",
         "ip_address": "nan",
         "latitude": "nan",
         "longitude": "nan",
         "Country Name": "nan",
         "country_code": "nan",
         "city_name": "nan",
         "email": "nan",
         "_deepnote_index_column": 12909
        },
        {
         "customer_id": "453848",
         "order_date": "18/07/2013",
         "order_id": "HTS-453848-0001",
         "pages_visited": 11,
         "tshirt_category": "Tennis Shirt",
         "tshirt_price": "24",
         "tshirt_quantity": 3,
         "user_agent": "Mozilla/5.0 (Windows NT 6.1| Win64| x64) AppleWebKit/537.36 (KHTML, like Gecko) Chrome/56.0.2924.87…",
         "customerID": "nan",
         "gender": "nan",
         "birthdate": "nan",
         "ip_address": "nan",
         "latitude": "nan",
         "longitude": "nan",
         "Country Name": "nan",
         "country_code": "nan",
         "city_name": "nan",
         "email": "nan",
         "_deepnote_index_column": 12910
        },
        {
         "customer_id": "83318",
         "order_date": "28/02/2015",
         "order_id": "HTS-083318-0003",
         "pages_visited": 12,
         "tshirt_category": "Tennis Shirt",
         "tshirt_price": "24",
         "tshirt_quantity": 3,
         "user_agent": "Mozilla/5.0 (Windows NT 6.1| Win64| x64) AppleWebKit/537.36 (KHTML, like Gecko) Chrome/56.0.2924.87…",
         "customerID": "nan",
         "gender": "nan",
         "birthdate": "nan",
         "ip_address": "nan",
         "latitude": "nan",
         "longitude": "nan",
         "Country Name": "nan",
         "country_code": "nan",
         "city_name": "nan",
         "email": "nan",
         "_deepnote_index_column": 12911
        },
        {
         "customer_id": "287913",
         "order_date": "25/12/2014",
         "order_id": "HTS-287913-0002",
         "pages_visited": 11,
         "tshirt_category": "Tennis Shirt",
         "tshirt_price": "24",
         "tshirt_quantity": 1,
         "user_agent": "Mozilla/5.0 (Windows NT 6.3| WOW64) AppleWebKit/537.36 (KHTML, like Gecko) Chrome/56.0.2924.87 Safa…",
         "customerID": "nan",
         "gender": "nan",
         "birthdate": "nan",
         "ip_address": "nan",
         "latitude": "nan",
         "longitude": "nan",
         "Country Name": "nan",
         "country_code": "nan",
         "city_name": "nan",
         "email": "nan",
         "_deepnote_index_column": 12912
        },
        {
         "customer_id": "534599",
         "order_date": "23/06/2014",
         "order_id": "HTS-534599-0001",
         "pages_visited": 9,
         "tshirt_category": "Tennis Shirt",
         "tshirt_price": "24",
         "tshirt_quantity": 3,
         "user_agent": "Mozilla/5.0 (X11| Linux x86_64) AppleWebKit/537.36 (KHTML, like Gecko) Chrome/56.0.2924.87 Safari/5…",
         "customerID": "nan",
         "gender": "nan",
         "birthdate": "nan",
         "ip_address": "nan",
         "latitude": "nan",
         "longitude": "nan",
         "Country Name": "nan",
         "country_code": "nan",
         "city_name": "nan",
         "email": "nan",
         "_deepnote_index_column": 12913
        },
        {
         "customer_id": "467894",
         "order_date": "14/10/2015",
         "order_id": "HTS-467894-0003",
         "pages_visited": 11,
         "tshirt_category": "Tennis Shirt",
         "tshirt_price": "24",
         "tshirt_quantity": 1,
         "user_agent": "Mozilla/5.0 (X11| Linux x86_64) AppleWebKit/537.36 (KHTML, like Gecko) Chrome/56.0.2924.87 Safari/5…",
         "customerID": "nan",
         "gender": "nan",
         "birthdate": "nan",
         "ip_address": "nan",
         "latitude": "nan",
         "longitude": "nan",
         "Country Name": "nan",
         "country_code": "nan",
         "city_name": "nan",
         "email": "nan",
         "_deepnote_index_column": 12914
        },
        {
         "customer_id": "371776",
         "order_date": "04/05/2015",
         "order_id": "HTS-371776-0002",
         "pages_visited": 16,
         "tshirt_category": "Tennis Shirt",
         "tshirt_price": "24",
         "tshirt_quantity": 2,
         "user_agent": "Mozilla/5.0 (X11| Linux x86_64) AppleWebKit/537.36 (KHTML, like Gecko) Chrome/56.0.2924.87 Safari/5…",
         "customerID": "nan",
         "gender": "nan",
         "birthdate": "nan",
         "ip_address": "nan",
         "latitude": "nan",
         "longitude": "nan",
         "Country Name": "nan",
         "country_code": "nan",
         "city_name": "nan",
         "email": "nan",
         "_deepnote_index_column": 12915
        },
        {
         "customer_id": "0b59cn",
         "order_date": "12/12/2016",
         "order_id": "HTS-0b59cn-0004",
         "pages_visited": 8,
         "tshirt_category": "Tennis Shirt",
         "tshirt_price": "24",
         "tshirt_quantity": 5,
         "user_agent": "Mozilla/5.0 (X11| Ubuntu| Linux x86_64| rv:51.0) Gecko/20100101 Firefox/51.0",
         "customerID": "nan",
         "gender": "nan",
         "birthdate": "nan",
         "ip_address": "nan",
         "latitude": "nan",
         "longitude": "nan",
         "Country Name": "nan",
         "country_code": "nan",
         "city_name": "nan",
         "email": "nan",
         "_deepnote_index_column": 12916
        },
        {
         "customer_id": "357322",
         "order_date": "10/12/2016",
         "order_id": "HTS-357322-0007",
         "pages_visited": 5,
         "tshirt_category": "Tennis Shirt",
         "tshirt_price": "24",
         "tshirt_quantity": 3,
         "user_agent": "Mozilla/5.0 (Windows NT 10.0| WOW64) AppleWebKit/537.36 (KHTML, like Gecko) Chrome/56.0.2924.87 Saf…",
         "customerID": "nan",
         "gender": "nan",
         "birthdate": "nan",
         "ip_address": "nan",
         "latitude": "nan",
         "longitude": "nan",
         "Country Name": "nan",
         "country_code": "nan",
         "city_name": "nan",
         "email": "nan",
         "_deepnote_index_column": 12917
        },
        {
         "customer_id": "l8c64t",
         "order_date": "01/03/2017",
         "order_id": "HTS-l8c64t-0003",
         "pages_visited": 7,
         "tshirt_category": "Tennis Shirt",
         "tshirt_price": "24",
         "tshirt_quantity": 2,
         "user_agent": "Mozilla/5.0 (Windows NT 10.0| WOW64| rv:52.0) Gecko/20100101 Firefox/52.0",
         "customerID": "nan",
         "gender": "nan",
         "birthdate": "nan",
         "ip_address": "nan",
         "latitude": "nan",
         "longitude": "nan",
         "Country Name": "nan",
         "country_code": "nan",
         "city_name": "nan",
         "email": "nan",
         "_deepnote_index_column": 12918
        },
        {
         "customer_id": "946557",
         "order_date": "21/07/2016",
         "order_id": "HTS-946557-0005",
         "pages_visited": 5,
         "tshirt_category": "Tennis Shirt",
         "tshirt_price": "24",
         "tshirt_quantity": 2,
         "user_agent": "Mozilla/5.0 (Windows NT 10.0| Win64| x64) AppleWebKit/537.36 (KHTML, like Gecko) Chrome/56.0.2924.8…",
         "customerID": "nan",
         "gender": "nan",
         "birthdate": "nan",
         "ip_address": "nan",
         "latitude": "nan",
         "longitude": "nan",
         "Country Name": "nan",
         "country_code": "nan",
         "city_name": "nan",
         "email": "nan",
         "_deepnote_index_column": 12919
        },
        {
         "customer_id": "1bhyje",
         "order_date": "22/06/2016",
         "order_id": "HTS-1bhyje-0002",
         "pages_visited": 17,
         "tshirt_category": "Tennis Shirt",
         "tshirt_price": "24",
         "tshirt_quantity": 1,
         "user_agent": "Mozilla/5.0 (X11| Linux x86_64) AppleWebKit/537.36 (KHTML, like Gecko) Chrome/56.0.2924.87 Safari/5…",
         "customerID": "nan",
         "gender": "nan",
         "birthdate": "nan",
         "ip_address": "nan",
         "latitude": "nan",
         "longitude": "nan",
         "Country Name": "nan",
         "country_code": "nan",
         "city_name": "nan",
         "email": "nan",
         "_deepnote_index_column": 12920
        }
       ]
      },
      "text/plain": "      customer_id  order_date         order_id  pages_visited  \\\n0           38040  04/09/2016  HTS-038040-0002              9   \n1          vft1eu  26/02/2017  HTS-vft1eu-0003             10   \n2          914324  01/12/2013  HTS-914324-0001             10   \n3           61311  15/01/2016  HTS-061311-0003              9   \n4          494332  03/11/2013  HTS-494332-0001             10   \n...           ...         ...              ...            ...   \n12916      0b59cn  12/12/2016  HTS-0b59cn-0004              8   \n12917      357322  10/12/2016  HTS-357322-0007              5   \n12918      l8c64t  01/03/2017  HTS-l8c64t-0003              7   \n12919      946557  21/07/2016  HTS-946557-0005              5   \n12920      1bhyje  22/06/2016  HTS-1bhyje-0002             17   \n\n       tshirt_category tshirt_price  tshirt_quantity  \\\n0      White T-Shirt M           20                1   \n1      White T-Shirt F           18                3   \n2          Wh Tshirt F           18                1   \n3      Black T-Shirt F         17,5                4   \n4          Wh Tshirt F           18                2   \n...                ...          ...              ...   \n12916     Tennis Shirt           24                5   \n12917     Tennis Shirt           24                3   \n12918     Tennis Shirt           24                2   \n12919     Tennis Shirt           24                2   \n12920     Tennis Shirt           24                1   \n\n                                              user_agent customerID gender  \\\n0      Mozilla/5.0 (Windows NT 10.0| WOW64) AppleWebK...        NaN    NaN   \n1      Mozilla/5.0 (Macintosh| Intel Mac OS X 10_12_3...     vft1eu      F   \n2      Mozilla/5.0 (Windows NT 10.0| WOW64) AppleWebK...        NaN    NaN   \n3      Mozilla/5.0 (Macintosh| Intel Mac OS X 10_12_3...        NaN    NaN   \n4      Mozilla/5.0 (Macintosh| Intel Mac OS X 10_11_6...        NaN    NaN   \n...                                                  ...        ...    ...   \n12916  Mozilla/5.0 (X11| Ubuntu| Linux x86_64| rv:51....        NaN    NaN   \n12917  Mozilla/5.0 (Windows NT 10.0| WOW64) AppleWebK...        NaN    NaN   \n12918  Mozilla/5.0 (Windows NT 10.0| WOW64| rv:52.0) ...        NaN    NaN   \n12919  Mozilla/5.0 (Windows NT 10.0| Win64| x64) Appl...        NaN    NaN   \n12920  Mozilla/5.0 (X11| Linux x86_64) AppleWebKit/53...        NaN    NaN   \n\n                 birthdate    ip_address  latitude  longitude  \\\n0                      NaN           NaN       NaN        NaN   \n1      1969-06-27 00:00:00  53.115.6.106      51.0        9.0   \n2                      NaN           NaN       NaN        NaN   \n3                      NaN           NaN       NaN        NaN   \n4                      NaN           NaN       NaN        NaN   \n...                    ...           ...       ...        ...   \n12916                  NaN           NaN       NaN        NaN   \n12917                  NaN           NaN       NaN        NaN   \n12918                  NaN           NaN       NaN        NaN   \n12919                  NaN           NaN       NaN        NaN   \n12920                  NaN           NaN       NaN        NaN   \n\n                       Country Name country_code city_name              email  \n0                               NaN          NaN       NaN                NaN  \n1      Germany, Federal Republic of           DE       NaN  HEOX@formation.fr  \n2                               NaN          NaN       NaN                NaN  \n3                               NaN          NaN       NaN                NaN  \n4                               NaN          NaN       NaN                NaN  \n...                             ...          ...       ...                ...  \n12916                           NaN          NaN       NaN                NaN  \n12917                           NaN          NaN       NaN                NaN  \n12918                           NaN          NaN       NaN                NaN  \n12919                           NaN          NaN       NaN                NaN  \n12920                           NaN          NaN       NaN                NaN  \n\n[12921 rows x 18 columns]",
      "text/html": "<div>\n<style scoped>\n    .dataframe tbody tr th:only-of-type {\n        vertical-align: middle;\n    }\n\n    .dataframe tbody tr th {\n        vertical-align: top;\n    }\n\n    .dataframe thead th {\n        text-align: right;\n    }\n</style>\n<table border=\"1\" class=\"dataframe\">\n  <thead>\n    <tr style=\"text-align: right;\">\n      <th></th>\n      <th>customer_id</th>\n      <th>order_date</th>\n      <th>order_id</th>\n      <th>pages_visited</th>\n      <th>tshirt_category</th>\n      <th>tshirt_price</th>\n      <th>tshirt_quantity</th>\n      <th>user_agent</th>\n      <th>customerID</th>\n      <th>gender</th>\n      <th>birthdate</th>\n      <th>ip_address</th>\n      <th>latitude</th>\n      <th>longitude</th>\n      <th>Country Name</th>\n      <th>country_code</th>\n      <th>city_name</th>\n      <th>email</th>\n    </tr>\n  </thead>\n  <tbody>\n    <tr>\n      <th>0</th>\n      <td>38040</td>\n      <td>04/09/2016</td>\n      <td>HTS-038040-0002</td>\n      <td>9</td>\n      <td>White T-Shirt M</td>\n      <td>20</td>\n      <td>1</td>\n      <td>Mozilla/5.0 (Windows NT 10.0| WOW64) AppleWebK...</td>\n      <td>NaN</td>\n      <td>NaN</td>\n      <td>NaN</td>\n      <td>NaN</td>\n      <td>NaN</td>\n      <td>NaN</td>\n      <td>NaN</td>\n      <td>NaN</td>\n      <td>NaN</td>\n      <td>NaN</td>\n    </tr>\n    <tr>\n      <th>1</th>\n      <td>vft1eu</td>\n      <td>26/02/2017</td>\n      <td>HTS-vft1eu-0003</td>\n      <td>10</td>\n      <td>White T-Shirt F</td>\n      <td>18</td>\n      <td>3</td>\n      <td>Mozilla/5.0 (Macintosh| Intel Mac OS X 10_12_3...</td>\n      <td>vft1eu</td>\n      <td>F</td>\n      <td>1969-06-27 00:00:00</td>\n      <td>53.115.6.106</td>\n      <td>51.0</td>\n      <td>9.0</td>\n      <td>Germany, Federal Republic of</td>\n      <td>DE</td>\n      <td>NaN</td>\n      <td>HEOX@formation.fr</td>\n    </tr>\n    <tr>\n      <th>2</th>\n      <td>914324</td>\n      <td>01/12/2013</td>\n      <td>HTS-914324-0001</td>\n      <td>10</td>\n      <td>Wh Tshirt F</td>\n      <td>18</td>\n      <td>1</td>\n      <td>Mozilla/5.0 (Windows NT 10.0| WOW64) AppleWebK...</td>\n      <td>NaN</td>\n      <td>NaN</td>\n      <td>NaN</td>\n      <td>NaN</td>\n      <td>NaN</td>\n      <td>NaN</td>\n      <td>NaN</td>\n      <td>NaN</td>\n      <td>NaN</td>\n      <td>NaN</td>\n    </tr>\n    <tr>\n      <th>3</th>\n      <td>61311</td>\n      <td>15/01/2016</td>\n      <td>HTS-061311-0003</td>\n      <td>9</td>\n      <td>Black T-Shirt F</td>\n      <td>17,5</td>\n      <td>4</td>\n      <td>Mozilla/5.0 (Macintosh| Intel Mac OS X 10_12_3...</td>\n      <td>NaN</td>\n      <td>NaN</td>\n      <td>NaN</td>\n      <td>NaN</td>\n      <td>NaN</td>\n      <td>NaN</td>\n      <td>NaN</td>\n      <td>NaN</td>\n      <td>NaN</td>\n      <td>NaN</td>\n    </tr>\n    <tr>\n      <th>4</th>\n      <td>494332</td>\n      <td>03/11/2013</td>\n      <td>HTS-494332-0001</td>\n      <td>10</td>\n      <td>Wh Tshirt F</td>\n      <td>18</td>\n      <td>2</td>\n      <td>Mozilla/5.0 (Macintosh| Intel Mac OS X 10_11_6...</td>\n      <td>NaN</td>\n      <td>NaN</td>\n      <td>NaN</td>\n      <td>NaN</td>\n      <td>NaN</td>\n      <td>NaN</td>\n      <td>NaN</td>\n      <td>NaN</td>\n      <td>NaN</td>\n      <td>NaN</td>\n    </tr>\n    <tr>\n      <th>...</th>\n      <td>...</td>\n      <td>...</td>\n      <td>...</td>\n      <td>...</td>\n      <td>...</td>\n      <td>...</td>\n      <td>...</td>\n      <td>...</td>\n      <td>...</td>\n      <td>...</td>\n      <td>...</td>\n      <td>...</td>\n      <td>...</td>\n      <td>...</td>\n      <td>...</td>\n      <td>...</td>\n      <td>...</td>\n      <td>...</td>\n    </tr>\n    <tr>\n      <th>12916</th>\n      <td>0b59cn</td>\n      <td>12/12/2016</td>\n      <td>HTS-0b59cn-0004</td>\n      <td>8</td>\n      <td>Tennis Shirt</td>\n      <td>24</td>\n      <td>5</td>\n      <td>Mozilla/5.0 (X11| Ubuntu| Linux x86_64| rv:51....</td>\n      <td>NaN</td>\n      <td>NaN</td>\n      <td>NaN</td>\n      <td>NaN</td>\n      <td>NaN</td>\n      <td>NaN</td>\n      <td>NaN</td>\n      <td>NaN</td>\n      <td>NaN</td>\n      <td>NaN</td>\n    </tr>\n    <tr>\n      <th>12917</th>\n      <td>357322</td>\n      <td>10/12/2016</td>\n      <td>HTS-357322-0007</td>\n      <td>5</td>\n      <td>Tennis Shirt</td>\n      <td>24</td>\n      <td>3</td>\n      <td>Mozilla/5.0 (Windows NT 10.0| WOW64) AppleWebK...</td>\n      <td>NaN</td>\n      <td>NaN</td>\n      <td>NaN</td>\n      <td>NaN</td>\n      <td>NaN</td>\n      <td>NaN</td>\n      <td>NaN</td>\n      <td>NaN</td>\n      <td>NaN</td>\n      <td>NaN</td>\n    </tr>\n    <tr>\n      <th>12918</th>\n      <td>l8c64t</td>\n      <td>01/03/2017</td>\n      <td>HTS-l8c64t-0003</td>\n      <td>7</td>\n      <td>Tennis Shirt</td>\n      <td>24</td>\n      <td>2</td>\n      <td>Mozilla/5.0 (Windows NT 10.0| WOW64| rv:52.0) ...</td>\n      <td>NaN</td>\n      <td>NaN</td>\n      <td>NaN</td>\n      <td>NaN</td>\n      <td>NaN</td>\n      <td>NaN</td>\n      <td>NaN</td>\n      <td>NaN</td>\n      <td>NaN</td>\n      <td>NaN</td>\n    </tr>\n    <tr>\n      <th>12919</th>\n      <td>946557</td>\n      <td>21/07/2016</td>\n      <td>HTS-946557-0005</td>\n      <td>5</td>\n      <td>Tennis Shirt</td>\n      <td>24</td>\n      <td>2</td>\n      <td>Mozilla/5.0 (Windows NT 10.0| Win64| x64) Appl...</td>\n      <td>NaN</td>\n      <td>NaN</td>\n      <td>NaN</td>\n      <td>NaN</td>\n      <td>NaN</td>\n      <td>NaN</td>\n      <td>NaN</td>\n      <td>NaN</td>\n      <td>NaN</td>\n      <td>NaN</td>\n    </tr>\n    <tr>\n      <th>12920</th>\n      <td>1bhyje</td>\n      <td>22/06/2016</td>\n      <td>HTS-1bhyje-0002</td>\n      <td>17</td>\n      <td>Tennis Shirt</td>\n      <td>24</td>\n      <td>1</td>\n      <td>Mozilla/5.0 (X11| Linux x86_64) AppleWebKit/53...</td>\n      <td>NaN</td>\n      <td>NaN</td>\n      <td>NaN</td>\n      <td>NaN</td>\n      <td>NaN</td>\n      <td>NaN</td>\n      <td>NaN</td>\n      <td>NaN</td>\n      <td>NaN</td>\n      <td>NaN</td>\n    </tr>\n  </tbody>\n</table>\n<p>12921 rows × 18 columns</p>\n</div>"
     },
     "metadata": {}
    }
   ],
   "execution_count": null
  },
  {
   "cell_type": "markdown",
   "source": "### 2.2.2 Merging Vente/Client with the Country datasets",
   "metadata": {
    "tags": [],
    "is_collapsed": false,
    "cell_id": "00030-7b3089eb-5e90-4528-adf5-aeac4426f59b",
    "deepnote_cell_type": "text-cell-h3"
   }
  },
  {
   "cell_type": "markdown",
   "source": "<div class=\"alert alert-block alert-info\">\n<b><p style=\"color:red;\">Exercice 15: Your turn: Merge the obtained previous Table with the Country Table</p></b>\nThe following code allows to merge the tables <b>Sales</b> with <b>Client</b> together into 1 table. <br>\nYou will need the function <b>pandas.merge</b> : <a href=\"https://pandas.pydata.org/docs/reference/api/pandas.merge.html\">https://pandas.pydata.org/docs/reference/api/pandas.merge.html</a> <br>\nWe advice that you look at your data shape first, merge your tables, and check at the end your shape\n",
   "metadata": {
    "tags": [],
    "cell_id": "00032-f84cc8b2-320b-47be-8397-06804fb1ea4d",
    "deepnote_cell_type": "markdown"
   }
  },
  {
   "cell_type": "code",
   "metadata": {
    "tags": [],
    "cell_id": "00031-2ee98c05-5da6-493f-853d-778a5bd3c5af",
    "deepnote_to_be_reexecuted": false,
    "source_hash": "d8cf838b",
    "execution_start": 1631561266958,
    "execution_millis": 43,
    "deepnote_cell_type": "code"
   },
   "source": "print(df_final.shape)\nprint(df_country.shape)",
   "outputs": [
    {
     "name": "stdout",
     "text": "(12921, 18)\n(254, 6)\n",
     "output_type": "stream"
    }
   ],
   "execution_count": null
  },
  {
   "cell_type": "code",
   "metadata": {
    "tags": [],
    "cell_id": "00032-44a16327-de20-47ad-92a9-d994e4cbe057",
    "deepnote_to_be_reexecuted": false,
    "source_hash": "7bb0f40e",
    "execution_start": 1631561267868,
    "execution_millis": 10,
    "deepnote_cell_type": "code"
   },
   "source": "list(df_country)",
   "outputs": [
    {
     "output_type": "execute_result",
     "execution_count": 55,
     "data": {
      "text/plain": "['Continent_Name',\n 'Continent_Code',\n 'Country_Name',\n 'Two_Letter_Country_Code',\n 'Three_Letter_Country_Code',\n 'Country_Number']"
     },
     "metadata": {}
    }
   ],
   "execution_count": null
  },
  {
   "cell_type": "code",
   "metadata": {
    "tags": [],
    "cell_id": "00032-a478b72f-512b-4a2e-8bf8-4dbb56d2c4c9",
    "deepnote_to_be_reexecuted": false,
    "source_hash": "60f36b4c",
    "execution_start": 1631561269459,
    "execution_millis": 10,
    "deepnote_cell_type": "code"
   },
   "source": "df_final = pd.merge(df_final, df_country, left_on=\"country_code\", right_on=\"Two_Letter_Country_Code\", how = \"left\")",
   "outputs": [],
   "execution_count": null
  },
  {
   "cell_type": "code",
   "metadata": {
    "tags": [],
    "cell_id": "00033-646867f0-84c0-4bde-b6cc-0920be5cbecf",
    "deepnote_to_be_reexecuted": false,
    "source_hash": "ea2727b7",
    "execution_start": 1631561270488,
    "execution_millis": 12,
    "deepnote_cell_type": "code"
   },
   "source": "print(df_final.shape)",
   "outputs": [
    {
     "name": "stdout",
     "text": "(12921, 24)\n",
     "output_type": "stream"
    }
   ],
   "execution_count": null
  },
  {
   "cell_type": "code",
   "metadata": {
    "tags": [],
    "cell_id": "00033-99c8a5e5-7230-4906-a888-8adcebce5ab0",
    "deepnote_to_be_reexecuted": false,
    "source_hash": "5d0cd32d",
    "execution_start": 1631561271388,
    "execution_millis": 139,
    "is_output_hidden": false,
    "deepnote_cell_type": "code"
   },
   "source": "df_final",
   "outputs": [
    {
     "output_type": "execute_result",
     "execution_count": 58,
     "data": {
      "application/vnd.deepnote.dataframe.v2+json": {
       "row_count": 12921,
       "column_count": 24,
       "columns": [
        {
         "name": "customer_id",
         "dtype": "object",
         "stats": {
          "unique_count": 5380,
          "nan_count": 0,
          "categories": [
           {
            "name": "536917",
            "count": 13
           },
           {
            "name": "409679",
            "count": 13
           },
           {
            "name": "5378 others",
            "count": 12895
           }
          ]
         }
        },
        {
         "name": "order_date",
         "dtype": "object",
         "stats": {
          "unique_count": 1401,
          "nan_count": 0,
          "categories": [
           {
            "name": "02/11/2015",
            "count": 25
           },
           {
            "name": "05/11/2015",
            "count": 25
           },
           {
            "name": "1399 others",
            "count": 12871
           }
          ]
         }
        },
        {
         "name": "order_id",
         "dtype": "object",
         "stats": {
          "unique_count": 12902,
          "nan_count": 0,
          "categories": [
           {
            "name": "HTS-296958-0001",
            "count": 2
           },
           {
            "name": "HTS-923895-0002",
            "count": 2
           },
           {
            "name": "12900 others",
            "count": 12917
           }
          ]
         }
        },
        {
         "name": "pages_visited",
         "dtype": "int64",
         "stats": {
          "unique_count": 25,
          "nan_count": 0,
          "min": "2",
          "max": "28",
          "histogram": [
           {
            "bin_start": 2,
            "bin_end": 4.6,
            "count": 394
           },
           {
            "bin_start": 4.6,
            "bin_end": 7.2,
            "count": 2004
           },
           {
            "bin_start": 7.2,
            "bin_end": 9.8,
            "count": 2495
           },
           {
            "bin_start": 9.8,
            "bin_end": 12.4,
            "count": 4063
           },
           {
            "bin_start": 12.4,
            "bin_end": 15,
            "count": 1990
           },
           {
            "bin_start": 15,
            "bin_end": 17.6,
            "count": 1513
           },
           {
            "bin_start": 17.6,
            "bin_end": 20.2,
            "count": 376
           },
           {
            "bin_start": 20.2,
            "bin_end": 22.8,
            "count": 60
           },
           {
            "bin_start": 22.8,
            "bin_end": 25.400000000000002,
            "count": 25
           },
           {
            "bin_start": 25.400000000000002,
            "bin_end": 28,
            "count": 1
           }
          ]
         }
        },
        {
         "name": "tshirt_category",
         "dtype": "object",
         "stats": {
          "unique_count": 10,
          "nan_count": 0,
          "categories": [
           {
            "name": "Hoodie",
            "count": 3047
           },
           {
            "name": "White T-Shirt M",
            "count": 2717
           },
           {
            "name": "8 others",
            "count": 7157
           }
          ]
         }
        },
        {
         "name": "tshirt_price",
         "dtype": "object",
         "stats": {
          "unique_count": 6,
          "nan_count": 0,
          "categories": [
           {
            "name": "23",
            "count": 3047
           },
           {
            "name": "20",
            "count": 2955
           },
           {
            "name": "4 others",
            "count": 6919
           }
          ]
         }
        },
        {
         "name": "tshirt_quantity",
         "dtype": "int64",
         "stats": {
          "unique_count": 28,
          "nan_count": 0,
          "min": "1",
          "max": "29",
          "histogram": [
           {
            "bin_start": 1,
            "bin_end": 3.8,
            "count": 10651
           },
           {
            "bin_start": 3.8,
            "bin_end": 6.6,
            "count": 1459
           },
           {
            "bin_start": 6.6,
            "bin_end": 9.399999999999999,
            "count": 181
           },
           {
            "bin_start": 9.399999999999999,
            "bin_end": 12.2,
            "count": 122
           },
           {
            "bin_start": 12.2,
            "bin_end": 15,
            "count": 116
           },
           {
            "bin_start": 15,
            "bin_end": 17.799999999999997,
            "count": 170
           },
           {
            "bin_start": 17.799999999999997,
            "bin_end": 20.599999999999998,
            "count": 126
           },
           {
            "bin_start": 20.599999999999998,
            "bin_end": 23.4,
            "count": 65
           },
           {
            "bin_start": 23.4,
            "bin_end": 26.2,
            "count": 27
           },
           {
            "bin_start": 26.2,
            "bin_end": 29,
            "count": 4
           }
          ]
         }
        },
        {
         "name": "user_agent",
         "dtype": "object"
        },
        {
         "name": "customerID",
         "dtype": "object"
        },
        {
         "name": "gender",
         "dtype": "object"
        },
        {
         "name": "birthdate",
         "dtype": "object"
        },
        {
         "name": "ip_address",
         "dtype": "object"
        },
        {
         "name": "latitude",
         "dtype": "float64"
        },
        {
         "name": "longitude",
         "dtype": "float64"
        },
        {
         "name": "Country Name",
         "dtype": "object"
        },
        {
         "name": "country_code",
         "dtype": "object"
        },
        {
         "name": "city_name",
         "dtype": "object"
        },
        {
         "name": "email",
         "dtype": "object"
        },
        {
         "name": "Continent_Name",
         "dtype": "object"
        },
        {
         "name": "Continent_Code",
         "dtype": "object"
        },
        {
         "name": "Country_Name",
         "dtype": "object"
        },
        {
         "name": "Two_Letter_Country_Code",
         "dtype": "object"
        },
        {
         "name": "Three_Letter_Country_Code",
         "dtype": "object"
        },
        {
         "name": "Country_Number",
         "dtype": "float64"
        },
        {
         "name": "_deepnote_index_column",
         "dtype": "int64"
        }
       ],
       "rows_top": [
        {
         "customer_id": "38040",
         "order_date": "04/09/2016",
         "order_id": "HTS-038040-0002",
         "pages_visited": 9,
         "tshirt_category": "White T-Shirt M",
         "tshirt_price": "20",
         "tshirt_quantity": 1,
         "user_agent": "Mozilla/5.0 (Windows NT 10.0| WOW64) AppleWebKit/537.36 (KHTML, like Gecko) Chrome/56.0.2924.87 Saf…",
         "customerID": "nan",
         "gender": "nan",
         "birthdate": "nan",
         "ip_address": "nan",
         "latitude": "nan",
         "longitude": "nan",
         "Country Name": "nan",
         "country_code": "nan",
         "city_name": "nan",
         "email": "nan",
         "Continent_Name": "Africa",
         "Continent_Code": "AF",
         "Country_Name": "Namibia, Republic of",
         "Two_Letter_Country_Code": "nan",
         "Three_Letter_Country_Code": "NAM",
         "Country_Number": 516,
         "_deepnote_index_column": 0
        },
        {
         "customer_id": "vft1eu",
         "order_date": "26/02/2017",
         "order_id": "HTS-vft1eu-0003",
         "pages_visited": 10,
         "tshirt_category": "White T-Shirt F",
         "tshirt_price": "18",
         "tshirt_quantity": 3,
         "user_agent": "Mozilla/5.0 (Macintosh| Intel Mac OS X 10_12_3) AppleWebKit/602.4.8 (KHTML, like Gecko) Version/10.…",
         "customerID": "vft1eu",
         "gender": "F",
         "birthdate": "1969-06-27 00:00:00",
         "ip_address": "53.115.6.106",
         "latitude": 51,
         "longitude": 9,
         "Country Name": "Germany, Federal Republic of",
         "country_code": "DE",
         "city_name": "nan",
         "email": "HEOX@formation.fr",
         "Continent_Name": "Europe",
         "Continent_Code": "EU",
         "Country_Name": "Germany, Federal Republic of",
         "Two_Letter_Country_Code": "DE",
         "Three_Letter_Country_Code": "DEU",
         "Country_Number": 276,
         "_deepnote_index_column": 1
        },
        {
         "customer_id": "914324",
         "order_date": "01/12/2013",
         "order_id": "HTS-914324-0001",
         "pages_visited": 10,
         "tshirt_category": "Wh Tshirt F",
         "tshirt_price": "18",
         "tshirt_quantity": 1,
         "user_agent": "Mozilla/5.0 (Windows NT 10.0| WOW64) AppleWebKit/537.36 (KHTML, like Gecko) Chrome/56.0.2924.87 Saf…",
         "customerID": "nan",
         "gender": "nan",
         "birthdate": "nan",
         "ip_address": "nan",
         "latitude": "nan",
         "longitude": "nan",
         "Country Name": "nan",
         "country_code": "nan",
         "city_name": "nan",
         "email": "nan",
         "Continent_Name": "Africa",
         "Continent_Code": "AF",
         "Country_Name": "Namibia, Republic of",
         "Two_Letter_Country_Code": "nan",
         "Three_Letter_Country_Code": "NAM",
         "Country_Number": 516,
         "_deepnote_index_column": 2
        },
        {
         "customer_id": "61311",
         "order_date": "15/01/2016",
         "order_id": "HTS-061311-0003",
         "pages_visited": 9,
         "tshirt_category": "Black T-Shirt F",
         "tshirt_price": "17,5",
         "tshirt_quantity": 4,
         "user_agent": "Mozilla/5.0 (Macintosh| Intel Mac OS X 10_12_3) AppleWebKit/537.36 (KHTML, like Gecko) Chrome/56.0.…",
         "customerID": "nan",
         "gender": "nan",
         "birthdate": "nan",
         "ip_address": "nan",
         "latitude": "nan",
         "longitude": "nan",
         "Country Name": "nan",
         "country_code": "nan",
         "city_name": "nan",
         "email": "nan",
         "Continent_Name": "Africa",
         "Continent_Code": "AF",
         "Country_Name": "Namibia, Republic of",
         "Two_Letter_Country_Code": "nan",
         "Three_Letter_Country_Code": "NAM",
         "Country_Number": 516,
         "_deepnote_index_column": 3
        },
        {
         "customer_id": "494332",
         "order_date": "03/11/2013",
         "order_id": "HTS-494332-0001",
         "pages_visited": 10,
         "tshirt_category": "Wh Tshirt F",
         "tshirt_price": "18",
         "tshirt_quantity": 2,
         "user_agent": "Mozilla/5.0 (Macintosh| Intel Mac OS X 10_11_6) AppleWebKit/537.36 (KHTML, like Gecko) Chrome/56.0.…",
         "customerID": "nan",
         "gender": "nan",
         "birthdate": "nan",
         "ip_address": "nan",
         "latitude": "nan",
         "longitude": "nan",
         "Country Name": "nan",
         "country_code": "nan",
         "city_name": "nan",
         "email": "nan",
         "Continent_Name": "Africa",
         "Continent_Code": "AF",
         "Country_Name": "Namibia, Republic of",
         "Two_Letter_Country_Code": "nan",
         "Three_Letter_Country_Code": "NAM",
         "Country_Number": 516,
         "_deepnote_index_column": 4
        },
        {
         "customer_id": "463794",
         "order_date": "02/10/2013",
         "order_id": "HTS-463794-0001",
         "pages_visited": 14,
         "tshirt_category": "Tennis Shirt",
         "tshirt_price": "24",
         "tshirt_quantity": 1,
         "user_agent": "Mozilla/5.0 (Windows NT 10.0| Win64| x64) AppleWebKit/537.36 (KHTML, like Gecko) Chrome/56.0.2924.8…",
         "customerID": "nan",
         "gender": "nan",
         "birthdate": "nan",
         "ip_address": "nan",
         "latitude": "nan",
         "longitude": "nan",
         "Country Name": "nan",
         "country_code": "nan",
         "city_name": "nan",
         "email": "nan",
         "Continent_Name": "Africa",
         "Continent_Code": "AF",
         "Country_Name": "Namibia, Republic of",
         "Two_Letter_Country_Code": "nan",
         "Three_Letter_Country_Code": "NAM",
         "Country_Number": 516,
         "_deepnote_index_column": 5
        },
        {
         "customer_id": "132885",
         "order_date": "23/07/2013",
         "order_id": "HTS-132885-0001",
         "pages_visited": 17,
         "tshirt_category": "Wh Tshirt M",
         "tshirt_price": "20",
         "tshirt_quantity": 1,
         "user_agent": "Mozilla/5.0 (Windows NT 10.0| Win64| x64) AppleWebKit/537.36 (KHTML, like Gecko) Chrome/56.0.2924.8…",
         "customerID": "nan",
         "gender": "nan",
         "birthdate": "nan",
         "ip_address": "nan",
         "latitude": "nan",
         "longitude": "nan",
         "Country Name": "nan",
         "country_code": "nan",
         "city_name": "nan",
         "email": "nan",
         "Continent_Name": "Africa",
         "Continent_Code": "AF",
         "Country_Name": "Namibia, Republic of",
         "Two_Letter_Country_Code": "nan",
         "Three_Letter_Country_Code": "NAM",
         "Country_Number": 516,
         "_deepnote_index_column": 6
        },
        {
         "customer_id": "519113",
         "order_date": "24/11/2013",
         "order_id": "HTS-519113-0001",
         "pages_visited": 17,
         "tshirt_category": "Bl Tshirt F",
         "tshirt_price": "17,5",
         "tshirt_quantity": 1,
         "user_agent": "Mozilla/5.0 (Windows NT 6.1| WOW64) AppleWebKit/537.36 (KHTML, like Gecko) Chrome/56.0.2924.87 Safa…",
         "customerID": "nan",
         "gender": "nan",
         "birthdate": "nan",
         "ip_address": "nan",
         "latitude": "nan",
         "longitude": "nan",
         "Country Name": "nan",
         "country_code": "nan",
         "city_name": "nan",
         "email": "nan",
         "Continent_Name": "Africa",
         "Continent_Code": "AF",
         "Country_Name": "Namibia, Republic of",
         "Two_Letter_Country_Code": "nan",
         "Three_Letter_Country_Code": "NAM",
         "Country_Number": 516,
         "_deepnote_index_column": 7
        },
        {
         "customer_id": "je57lh",
         "order_date": "24/11/2015",
         "order_id": "HTS-je57lh-0001",
         "pages_visited": 15,
         "tshirt_category": "Hoodie",
         "tshirt_price": "23",
         "tshirt_quantity": 3,
         "user_agent": "Mozilla/5.0 (Windows NT 10.0| Win64| x64) AppleWebKit/537.36 (KHTML, like Gecko) Chrome/56.0.2924.8…",
         "customerID": "je57lh",
         "gender": "M",
         "birthdate": "1953-03-12 00:00:00",
         "ip_address": "110.116.130.200",
         "latitude": 39.92890167,
         "longitude": 116.388298,
         "Country Name": "China, People's Republic of",
         "country_code": "CN",
         "city_name": "Beijing",
         "email": "GOPB@formation.fr",
         "Continent_Name": "Asia",
         "Continent_Code": "AS",
         "Country_Name": "China, People's Republic of",
         "Two_Letter_Country_Code": "CN",
         "Three_Letter_Country_Code": "CHN",
         "Country_Number": 156,
         "_deepnote_index_column": 8
        },
        {
         "customer_id": "49348",
         "order_date": "15/08/2016",
         "order_id": "HTS-049348-0004",
         "pages_visited": 6,
         "tshirt_category": "Black T-Shirt F",
         "tshirt_price": "17,5",
         "tshirt_quantity": 1,
         "user_agent": "Mozilla/5.0 (Macintosh| Intel Mac OS X 10_11_6) AppleWebKit/537.36 (KHTML, like Gecko) Chrome/56.0.…",
         "customerID": "nan",
         "gender": "nan",
         "birthdate": "nan",
         "ip_address": "nan",
         "latitude": "nan",
         "longitude": "nan",
         "Country Name": "nan",
         "country_code": "nan",
         "city_name": "nan",
         "email": "nan",
         "Continent_Name": "Africa",
         "Continent_Code": "AF",
         "Country_Name": "Namibia, Republic of",
         "Two_Letter_Country_Code": "nan",
         "Three_Letter_Country_Code": "NAM",
         "Country_Number": 516,
         "_deepnote_index_column": 9
        },
        {
         "customer_id": "heb26i",
         "order_date": "29/11/2015",
         "order_id": "HTS-heb26i-0001",
         "pages_visited": 15,
         "tshirt_category": "Black T-Shirt F",
         "tshirt_price": "17,5",
         "tshirt_quantity": 1,
         "user_agent": "Mozilla/5.0 (Windows NT 6.1| Win64| x64) AppleWebKit/537.36 (KHTML, like Gecko) Chrome/56.0.2924.87…",
         "customerID": "heb26i",
         "gender": "F",
         "birthdate": "1984-12-27 00:00:00",
         "ip_address": "62.188.236.61",
         "latitude": 51.5,
         "longitude": -0.129999995,
         "Country Name": "United Kingdom of Great Britain & Northern Ireland",
         "country_code": "GB",
         "city_name": "nan",
         "email": "RPOO@formation.fr",
         "Continent_Name": "Europe",
         "Continent_Code": "EU",
         "Country_Name": "United Kingdom of Great Britain & Northern Ireland",
         "Two_Letter_Country_Code": "GB",
         "Three_Letter_Country_Code": "GBR",
         "Country_Number": 826,
         "_deepnote_index_column": 10
        },
        {
         "customer_id": "989355",
         "order_date": "09/10/2015",
         "order_id": "HTS-989355-0003",
         "pages_visited": 10,
         "tshirt_category": "Hoodie",
         "tshirt_price": "23",
         "tshirt_quantity": 2,
         "user_agent": "Mozilla/5.0 (Windows NT 6.1| WOW64) AppleWebKit/537.36 (KHTML, like Gecko) Chrome/56.0.2924.87 Safa…",
         "customerID": "nan",
         "gender": "nan",
         "birthdate": "nan",
         "ip_address": "nan",
         "latitude": "nan",
         "longitude": "nan",
         "Country Name": "nan",
         "country_code": "nan",
         "city_name": "nan",
         "email": "nan",
         "Continent_Name": "Africa",
         "Continent_Code": "AF",
         "Country_Name": "Namibia, Republic of",
         "Two_Letter_Country_Code": "nan",
         "Three_Letter_Country_Code": "NAM",
         "Country_Number": 516,
         "_deepnote_index_column": 11
        },
        {
         "customer_id": "1b0lnt",
         "order_date": "16/01/2016",
         "order_id": "HTS-1b0lnt-0002",
         "pages_visited": 15,
         "tshirt_category": "White T-Shirt M",
         "tshirt_price": "20",
         "tshirt_quantity": 1,
         "user_agent": "Mozilla/5.0 (X11| Linux x86_64) AppleWebKit/537.36 (KHTML, like Gecko) Chrome/56.0.2924.87 Safari/5…",
         "customerID": "1b0lnt",
         "gender": "F",
         "birthdate": "1981-11-07 00:00:00",
         "ip_address": "117.228.120.81",
         "latitude": 18.5333004,
         "longitude": 73.86669922,
         "Country Name": "India, Republic of",
         "country_code": "IN",
         "city_name": "Poona",
         "email": "RKYX@formation.fr",
         "Continent_Name": "Asia",
         "Continent_Code": "AS",
         "Country_Name": "India, Republic of",
         "Two_Letter_Country_Code": "IN",
         "Three_Letter_Country_Code": "IND",
         "Country_Number": 356,
         "_deepnote_index_column": 12
        },
        {
         "customer_id": "198773",
         "order_date": "17/01/2015",
         "order_id": "HTS-198773-0002",
         "pages_visited": 5,
         "tshirt_category": "White T-Shirt M",
         "tshirt_price": "20",
         "tshirt_quantity": 1,
         "user_agent": "Mozilla/5.0 (Windows NT 10.0| Win64| x64) AppleWebKit/537.36 (KHTML, like Gecko) Chrome/56.0.2924.8…",
         "customerID": "nan",
         "gender": "nan",
         "birthdate": "nan",
         "ip_address": "nan",
         "latitude": "nan",
         "longitude": "nan",
         "Country Name": "nan",
         "country_code": "nan",
         "city_name": "nan",
         "email": "nan",
         "Continent_Name": "Africa",
         "Continent_Code": "AF",
         "Country_Name": "Namibia, Republic of",
         "Two_Letter_Country_Code": "nan",
         "Three_Letter_Country_Code": "NAM",
         "Country_Number": 516,
         "_deepnote_index_column": 13
        },
        {
         "customer_id": "476084",
         "order_date": "20/07/2014",
         "order_id": "HTS-476084-0001",
         "pages_visited": 11,
         "tshirt_category": "White T-Shirt M",
         "tshirt_price": "20",
         "tshirt_quantity": 2,
         "user_agent": "Mozilla/5.0 (Windows NT 10.0| Win64| x64) AppleWebKit/537.36 (KHTML, like Gecko) Chrome/56.0.2924.8…",
         "customerID": "nan",
         "gender": "nan",
         "birthdate": "nan",
         "ip_address": "nan",
         "latitude": "nan",
         "longitude": "nan",
         "Country Name": "nan",
         "country_code": "nan",
         "city_name": "nan",
         "email": "nan",
         "Continent_Name": "Africa",
         "Continent_Code": "AF",
         "Country_Name": "Namibia, Republic of",
         "Two_Letter_Country_Code": "nan",
         "Three_Letter_Country_Code": "NAM",
         "Country_Number": 516,
         "_deepnote_index_column": 14
        },
        {
         "customer_id": "907041",
         "order_date": "20/05/2016",
         "order_id": "HTS-907041-0002",
         "pages_visited": 14,
         "tshirt_category": "White T-Shirt F",
         "tshirt_price": "18",
         "tshirt_quantity": 3,
         "user_agent": "Mozilla/5.0 (Windows NT 6.1| WOW64| rv:51.0) Gecko/20100101 Firefox/51.0",
         "customerID": "nan",
         "gender": "nan",
         "birthdate": "nan",
         "ip_address": "nan",
         "latitude": "nan",
         "longitude": "nan",
         "Country Name": "nan",
         "country_code": "nan",
         "city_name": "nan",
         "email": "nan",
         "Continent_Name": "Africa",
         "Continent_Code": "AF",
         "Country_Name": "Namibia, Republic of",
         "Two_Letter_Country_Code": "nan",
         "Three_Letter_Country_Code": "NAM",
         "Country_Number": 516,
         "_deepnote_index_column": 15
        },
        {
         "customer_id": "399607",
         "order_date": "09/03/2014",
         "order_id": "HTS-399607-0002",
         "pages_visited": 12,
         "tshirt_category": "White T-Shirt M",
         "tshirt_price": "20",
         "tshirt_quantity": 5,
         "user_agent": "Mozilla/5.0 (Windows NT 6.1| WOW64) AppleWebKit/537.36 (KHTML, like Gecko) Chrome/56.0.2924.87 Safa…",
         "customerID": "nan",
         "gender": "nan",
         "birthdate": "nan",
         "ip_address": "nan",
         "latitude": "nan",
         "longitude": "nan",
         "Country Name": "nan",
         "country_code": "nan",
         "city_name": "nan",
         "email": "nan",
         "Continent_Name": "Africa",
         "Continent_Code": "AF",
         "Country_Name": "Namibia, Republic of",
         "Two_Letter_Country_Code": "nan",
         "Three_Letter_Country_Code": "NAM",
         "Country_Number": 516,
         "_deepnote_index_column": 16
        },
        {
         "customer_id": "610587",
         "order_date": "08/01/2017",
         "order_id": "HTS-610587-0004",
         "pages_visited": 5,
         "tshirt_category": "Hoodie",
         "tshirt_price": "23",
         "tshirt_quantity": 1,
         "user_agent": "Mozilla/5.0 (X11| Linux x86_64) AppleWebKit/537.36 (KHTML, like Gecko) Chrome/56.0.2924.87 Safari/5…",
         "customerID": "nan",
         "gender": "nan",
         "birthdate": "nan",
         "ip_address": "nan",
         "latitude": "nan",
         "longitude": "nan",
         "Country Name": "nan",
         "country_code": "nan",
         "city_name": "nan",
         "email": "nan",
         "Continent_Name": "Africa",
         "Continent_Code": "AF",
         "Country_Name": "Namibia, Republic of",
         "Two_Letter_Country_Code": "nan",
         "Three_Letter_Country_Code": "NAM",
         "Country_Number": 516,
         "_deepnote_index_column": 17
        },
        {
         "customer_id": "707341",
         "order_date": "03/10/2014",
         "order_id": "HTS-707341-0003",
         "pages_visited": 8,
         "tshirt_category": "Black T-Shirt M",
         "tshirt_price": "19",
         "tshirt_quantity": 3,
         "user_agent": "Mozilla/5.0 (Macintosh| Intel Mac OS X 10_12_3) AppleWebKit/602.4.8 (KHTML, like Gecko) Version/10.…",
         "customerID": "nan",
         "gender": "nan",
         "birthdate": "nan",
         "ip_address": "nan",
         "latitude": "nan",
         "longitude": "nan",
         "Country Name": "nan",
         "country_code": "nan",
         "city_name": "nan",
         "email": "nan",
         "Continent_Name": "Africa",
         "Continent_Code": "AF",
         "Country_Name": "Namibia, Republic of",
         "Two_Letter_Country_Code": "nan",
         "Three_Letter_Country_Code": "NAM",
         "Country_Number": 516,
         "_deepnote_index_column": 18
        },
        {
         "customer_id": "pq3m7c",
         "order_date": "08/09/2015",
         "order_id": "HTS-pq3m7c-0001",
         "pages_visited": 11,
         "tshirt_category": "Hoodie",
         "tshirt_price": "23",
         "tshirt_quantity": 1,
         "user_agent": "Mozilla/5.0 (Windows NT 6.1| WOW64| rv:52.0) Gecko/20100101 Firefox/52.0",
         "customerID": "pq3m7c",
         "gender": "M",
         "birthdate": "1992-01-19 00:00:00",
         "ip_address": "97.77.88.191",
         "latitude": 38,
         "longitude": -97,
         "Country Name": "United States of America",
         "country_code": "US",
         "city_name": "nan",
         "email": "ZAIT@formation.fr",
         "Continent_Name": "North America",
         "Continent_Code": "nan",
         "Country_Name": "United States of America",
         "Two_Letter_Country_Code": "US",
         "Three_Letter_Country_Code": "USA",
         "Country_Number": 840,
         "_deepnote_index_column": 19
        }
       ],
       "rows_bottom": [
        {
         "customer_id": "676955",
         "order_date": "25/12/2014",
         "order_id": "HTS-676955-0001",
         "pages_visited": 9,
         "tshirt_category": "Tennis Shirt",
         "tshirt_price": "24",
         "tshirt_quantity": 4,
         "user_agent": "Mozilla/5.0 (Windows NT 6.1| WOW64| rv:51.0) Gecko/20100101 Firefox/51.0",
         "customerID": "nan",
         "gender": "nan",
         "birthdate": "nan",
         "ip_address": "nan",
         "latitude": "nan",
         "longitude": "nan",
         "Country Name": "nan",
         "country_code": "nan",
         "city_name": "nan",
         "email": "nan",
         "Continent_Name": "Africa",
         "Continent_Code": "AF",
         "Country_Name": "Namibia, Republic of",
         "Two_Letter_Country_Code": "nan",
         "Three_Letter_Country_Code": "NAM",
         "Country_Number": 516,
         "_deepnote_index_column": 12900
        },
        {
         "customer_id": "278313",
         "order_date": "09/04/2016",
         "order_id": "HTS-278313-0004",
         "pages_visited": 15,
         "tshirt_category": "Tennis Shirt",
         "tshirt_price": "24",
         "tshirt_quantity": 13,
         "user_agent": "Mozilla/5.0 (Windows NT 6.1| WOW64| rv:51.0) Gecko/20100101 Firefox/51.0",
         "customerID": "nan",
         "gender": "nan",
         "birthdate": "nan",
         "ip_address": "nan",
         "latitude": "nan",
         "longitude": "nan",
         "Country Name": "nan",
         "country_code": "nan",
         "city_name": "nan",
         "email": "nan",
         "Continent_Name": "Africa",
         "Continent_Code": "AF",
         "Country_Name": "Namibia, Republic of",
         "Two_Letter_Country_Code": "nan",
         "Three_Letter_Country_Code": "NAM",
         "Country_Number": 516,
         "_deepnote_index_column": 12901
        },
        {
         "customer_id": "el0sj8",
         "order_date": "12/01/2017",
         "order_id": "HTS-el0sj8-0004",
         "pages_visited": 6,
         "tshirt_category": "Tennis Shirt",
         "tshirt_price": "24",
         "tshirt_quantity": 1,
         "user_agent": "Mozilla/5.0 (Windows NT 6.1| Win64| x64) AppleWebKit/537.36 (KHTML, like Gecko) Chrome/56.0.2924.87…",
         "customerID": "nan",
         "gender": "nan",
         "birthdate": "nan",
         "ip_address": "nan",
         "latitude": "nan",
         "longitude": "nan",
         "Country Name": "nan",
         "country_code": "nan",
         "city_name": "nan",
         "email": "nan",
         "Continent_Name": "Africa",
         "Continent_Code": "AF",
         "Country_Name": "Namibia, Republic of",
         "Two_Letter_Country_Code": "nan",
         "Three_Letter_Country_Code": "NAM",
         "Country_Number": 516,
         "_deepnote_index_column": 12902
        },
        {
         "customer_id": "545790",
         "order_date": "16/07/2015",
         "order_id": "HTS-545790-0005",
         "pages_visited": 6,
         "tshirt_category": "Tennis Shirt",
         "tshirt_price": "24",
         "tshirt_quantity": 3,
         "user_agent": "Mozilla/5.0 (Windows NT 6.1| Win64| x64) AppleWebKit/537.36 (KHTML, like Gecko) Chrome/56.0.2924.87…",
         "customerID": "nan",
         "gender": "nan",
         "birthdate": "nan",
         "ip_address": "nan",
         "latitude": "nan",
         "longitude": "nan",
         "Country Name": "nan",
         "country_code": "nan",
         "city_name": "nan",
         "email": "nan",
         "Continent_Name": "Africa",
         "Continent_Code": "AF",
         "Country_Name": "Namibia, Republic of",
         "Two_Letter_Country_Code": "nan",
         "Three_Letter_Country_Code": "NAM",
         "Country_Number": 516,
         "_deepnote_index_column": 12903
        },
        {
         "customer_id": "585862",
         "order_date": "19/11/2015",
         "order_id": "HTS-585862-0004",
         "pages_visited": 7,
         "tshirt_category": "Tennis Shirt",
         "tshirt_price": "24",
         "tshirt_quantity": 14,
         "user_agent": "Mozilla/5.0 (Windows NT 6.1| Win64| x64) AppleWebKit/537.36 (KHTML, like Gecko) Chrome/56.0.2924.87…",
         "customerID": "nan",
         "gender": "nan",
         "birthdate": "nan",
         "ip_address": "nan",
         "latitude": "nan",
         "longitude": "nan",
         "Country Name": "nan",
         "country_code": "nan",
         "city_name": "nan",
         "email": "nan",
         "Continent_Name": "Africa",
         "Continent_Code": "AF",
         "Country_Name": "Namibia, Republic of",
         "Two_Letter_Country_Code": "nan",
         "Three_Letter_Country_Code": "NAM",
         "Country_Number": 516,
         "_deepnote_index_column": 12904
        },
        {
         "customer_id": "585862",
         "order_date": "17/02/2015",
         "order_id": "HTS-585862-0003",
         "pages_visited": 8,
         "tshirt_category": "Tennis Shirt",
         "tshirt_price": "24",
         "tshirt_quantity": 18,
         "user_agent": "Mozilla/5.0 (Windows NT 6.1| Win64| x64) AppleWebKit/537.36 (KHTML, like Gecko) Chrome/56.0.2924.87…",
         "customerID": "nan",
         "gender": "nan",
         "birthdate": "nan",
         "ip_address": "nan",
         "latitude": "nan",
         "longitude": "nan",
         "Country Name": "nan",
         "country_code": "nan",
         "city_name": "nan",
         "email": "nan",
         "Continent_Name": "Africa",
         "Continent_Code": "AF",
         "Country_Name": "Namibia, Republic of",
         "Two_Letter_Country_Code": "nan",
         "Three_Letter_Country_Code": "NAM",
         "Country_Number": 516,
         "_deepnote_index_column": 12905
        },
        {
         "customer_id": "539658",
         "order_date": "29/12/2015",
         "order_id": "HTS-539658-0003",
         "pages_visited": 9,
         "tshirt_category": "Tennis Shirt",
         "tshirt_price": "24",
         "tshirt_quantity": 6,
         "user_agent": "Mozilla/5.0 (Windows NT 6.1| Win64| x64) AppleWebKit/537.36 (KHTML, like Gecko) Chrome/56.0.2924.87…",
         "customerID": "nan",
         "gender": "nan",
         "birthdate": "nan",
         "ip_address": "nan",
         "latitude": "nan",
         "longitude": "nan",
         "Country Name": "nan",
         "country_code": "nan",
         "city_name": "nan",
         "email": "nan",
         "Continent_Name": "Africa",
         "Continent_Code": "AF",
         "Country_Name": "Namibia, Republic of",
         "Two_Letter_Country_Code": "nan",
         "Three_Letter_Country_Code": "NAM",
         "Country_Number": 516,
         "_deepnote_index_column": 12906
        },
        {
         "customer_id": "187195",
         "order_date": "30/03/2016",
         "order_id": "HTS-187195-0003",
         "pages_visited": 10,
         "tshirt_category": "Tennis Shirt",
         "tshirt_price": "24",
         "tshirt_quantity": 5,
         "user_agent": "Mozilla/5.0 (Windows NT 6.1| Win64| x64) AppleWebKit/537.36 (KHTML, like Gecko) Chrome/56.0.2924.87…",
         "customerID": "nan",
         "gender": "nan",
         "birthdate": "nan",
         "ip_address": "nan",
         "latitude": "nan",
         "longitude": "nan",
         "Country Name": "nan",
         "country_code": "nan",
         "city_name": "nan",
         "email": "nan",
         "Continent_Name": "Africa",
         "Continent_Code": "AF",
         "Country_Name": "Namibia, Republic of",
         "Two_Letter_Country_Code": "nan",
         "Three_Letter_Country_Code": "NAM",
         "Country_Number": 516,
         "_deepnote_index_column": 12907
        },
        {
         "customer_id": "449243",
         "order_date": "09/06/2016",
         "order_id": "HTS-449243-0002",
         "pages_visited": 11,
         "tshirt_category": "Tennis Shirt",
         "tshirt_price": "24",
         "tshirt_quantity": 1,
         "user_agent": "Mozilla/5.0 (Windows NT 6.1| Win64| x64) AppleWebKit/537.36 (KHTML, like Gecko) Chrome/56.0.2924.87…",
         "customerID": "nan",
         "gender": "nan",
         "birthdate": "nan",
         "ip_address": "nan",
         "latitude": "nan",
         "longitude": "nan",
         "Country Name": "nan",
         "country_code": "nan",
         "city_name": "nan",
         "email": "nan",
         "Continent_Name": "Africa",
         "Continent_Code": "AF",
         "Country_Name": "Namibia, Republic of",
         "Two_Letter_Country_Code": "nan",
         "Three_Letter_Country_Code": "NAM",
         "Country_Number": 516,
         "_deepnote_index_column": 12908
        },
        {
         "customer_id": "83318",
         "order_date": "01/08/2016",
         "order_id": "HTS-083318-0005",
         "pages_visited": 11,
         "tshirt_category": "Tennis Shirt",
         "tshirt_price": "24",
         "tshirt_quantity": 2,
         "user_agent": "Mozilla/5.0 (Windows NT 6.1| Win64| x64) AppleWebKit/537.36 (KHTML, like Gecko) Chrome/56.0.2924.87…",
         "customerID": "nan",
         "gender": "nan",
         "birthdate": "nan",
         "ip_address": "nan",
         "latitude": "nan",
         "longitude": "nan",
         "Country Name": "nan",
         "country_code": "nan",
         "city_name": "nan",
         "email": "nan",
         "Continent_Name": "Africa",
         "Continent_Code": "AF",
         "Country_Name": "Namibia, Republic of",
         "Two_Letter_Country_Code": "nan",
         "Three_Letter_Country_Code": "NAM",
         "Country_Number": 516,
         "_deepnote_index_column": 12909
        },
        {
         "customer_id": "453848",
         "order_date": "18/07/2013",
         "order_id": "HTS-453848-0001",
         "pages_visited": 11,
         "tshirt_category": "Tennis Shirt",
         "tshirt_price": "24",
         "tshirt_quantity": 3,
         "user_agent": "Mozilla/5.0 (Windows NT 6.1| Win64| x64) AppleWebKit/537.36 (KHTML, like Gecko) Chrome/56.0.2924.87…",
         "customerID": "nan",
         "gender": "nan",
         "birthdate": "nan",
         "ip_address": "nan",
         "latitude": "nan",
         "longitude": "nan",
         "Country Name": "nan",
         "country_code": "nan",
         "city_name": "nan",
         "email": "nan",
         "Continent_Name": "Africa",
         "Continent_Code": "AF",
         "Country_Name": "Namibia, Republic of",
         "Two_Letter_Country_Code": "nan",
         "Three_Letter_Country_Code": "NAM",
         "Country_Number": 516,
         "_deepnote_index_column": 12910
        },
        {
         "customer_id": "83318",
         "order_date": "28/02/2015",
         "order_id": "HTS-083318-0003",
         "pages_visited": 12,
         "tshirt_category": "Tennis Shirt",
         "tshirt_price": "24",
         "tshirt_quantity": 3,
         "user_agent": "Mozilla/5.0 (Windows NT 6.1| Win64| x64) AppleWebKit/537.36 (KHTML, like Gecko) Chrome/56.0.2924.87…",
         "customerID": "nan",
         "gender": "nan",
         "birthdate": "nan",
         "ip_address": "nan",
         "latitude": "nan",
         "longitude": "nan",
         "Country Name": "nan",
         "country_code": "nan",
         "city_name": "nan",
         "email": "nan",
         "Continent_Name": "Africa",
         "Continent_Code": "AF",
         "Country_Name": "Namibia, Republic of",
         "Two_Letter_Country_Code": "nan",
         "Three_Letter_Country_Code": "NAM",
         "Country_Number": 516,
         "_deepnote_index_column": 12911
        },
        {
         "customer_id": "287913",
         "order_date": "25/12/2014",
         "order_id": "HTS-287913-0002",
         "pages_visited": 11,
         "tshirt_category": "Tennis Shirt",
         "tshirt_price": "24",
         "tshirt_quantity": 1,
         "user_agent": "Mozilla/5.0 (Windows NT 6.3| WOW64) AppleWebKit/537.36 (KHTML, like Gecko) Chrome/56.0.2924.87 Safa…",
         "customerID": "nan",
         "gender": "nan",
         "birthdate": "nan",
         "ip_address": "nan",
         "latitude": "nan",
         "longitude": "nan",
         "Country Name": "nan",
         "country_code": "nan",
         "city_name": "nan",
         "email": "nan",
         "Continent_Name": "Africa",
         "Continent_Code": "AF",
         "Country_Name": "Namibia, Republic of",
         "Two_Letter_Country_Code": "nan",
         "Three_Letter_Country_Code": "NAM",
         "Country_Number": 516,
         "_deepnote_index_column": 12912
        },
        {
         "customer_id": "534599",
         "order_date": "23/06/2014",
         "order_id": "HTS-534599-0001",
         "pages_visited": 9,
         "tshirt_category": "Tennis Shirt",
         "tshirt_price": "24",
         "tshirt_quantity": 3,
         "user_agent": "Mozilla/5.0 (X11| Linux x86_64) AppleWebKit/537.36 (KHTML, like Gecko) Chrome/56.0.2924.87 Safari/5…",
         "customerID": "nan",
         "gender": "nan",
         "birthdate": "nan",
         "ip_address": "nan",
         "latitude": "nan",
         "longitude": "nan",
         "Country Name": "nan",
         "country_code": "nan",
         "city_name": "nan",
         "email": "nan",
         "Continent_Name": "Africa",
         "Continent_Code": "AF",
         "Country_Name": "Namibia, Republic of",
         "Two_Letter_Country_Code": "nan",
         "Three_Letter_Country_Code": "NAM",
         "Country_Number": 516,
         "_deepnote_index_column": 12913
        },
        {
         "customer_id": "467894",
         "order_date": "14/10/2015",
         "order_id": "HTS-467894-0003",
         "pages_visited": 11,
         "tshirt_category": "Tennis Shirt",
         "tshirt_price": "24",
         "tshirt_quantity": 1,
         "user_agent": "Mozilla/5.0 (X11| Linux x86_64) AppleWebKit/537.36 (KHTML, like Gecko) Chrome/56.0.2924.87 Safari/5…",
         "customerID": "nan",
         "gender": "nan",
         "birthdate": "nan",
         "ip_address": "nan",
         "latitude": "nan",
         "longitude": "nan",
         "Country Name": "nan",
         "country_code": "nan",
         "city_name": "nan",
         "email": "nan",
         "Continent_Name": "Africa",
         "Continent_Code": "AF",
         "Country_Name": "Namibia, Republic of",
         "Two_Letter_Country_Code": "nan",
         "Three_Letter_Country_Code": "NAM",
         "Country_Number": 516,
         "_deepnote_index_column": 12914
        },
        {
         "customer_id": "371776",
         "order_date": "04/05/2015",
         "order_id": "HTS-371776-0002",
         "pages_visited": 16,
         "tshirt_category": "Tennis Shirt",
         "tshirt_price": "24",
         "tshirt_quantity": 2,
         "user_agent": "Mozilla/5.0 (X11| Linux x86_64) AppleWebKit/537.36 (KHTML, like Gecko) Chrome/56.0.2924.87 Safari/5…",
         "customerID": "nan",
         "gender": "nan",
         "birthdate": "nan",
         "ip_address": "nan",
         "latitude": "nan",
         "longitude": "nan",
         "Country Name": "nan",
         "country_code": "nan",
         "city_name": "nan",
         "email": "nan",
         "Continent_Name": "Africa",
         "Continent_Code": "AF",
         "Country_Name": "Namibia, Republic of",
         "Two_Letter_Country_Code": "nan",
         "Three_Letter_Country_Code": "NAM",
         "Country_Number": 516,
         "_deepnote_index_column": 12915
        },
        {
         "customer_id": "0b59cn",
         "order_date": "12/12/2016",
         "order_id": "HTS-0b59cn-0004",
         "pages_visited": 8,
         "tshirt_category": "Tennis Shirt",
         "tshirt_price": "24",
         "tshirt_quantity": 5,
         "user_agent": "Mozilla/5.0 (X11| Ubuntu| Linux x86_64| rv:51.0) Gecko/20100101 Firefox/51.0",
         "customerID": "nan",
         "gender": "nan",
         "birthdate": "nan",
         "ip_address": "nan",
         "latitude": "nan",
         "longitude": "nan",
         "Country Name": "nan",
         "country_code": "nan",
         "city_name": "nan",
         "email": "nan",
         "Continent_Name": "Africa",
         "Continent_Code": "AF",
         "Country_Name": "Namibia, Republic of",
         "Two_Letter_Country_Code": "nan",
         "Three_Letter_Country_Code": "NAM",
         "Country_Number": 516,
         "_deepnote_index_column": 12916
        },
        {
         "customer_id": "357322",
         "order_date": "10/12/2016",
         "order_id": "HTS-357322-0007",
         "pages_visited": 5,
         "tshirt_category": "Tennis Shirt",
         "tshirt_price": "24",
         "tshirt_quantity": 3,
         "user_agent": "Mozilla/5.0 (Windows NT 10.0| WOW64) AppleWebKit/537.36 (KHTML, like Gecko) Chrome/56.0.2924.87 Saf…",
         "customerID": "nan",
         "gender": "nan",
         "birthdate": "nan",
         "ip_address": "nan",
         "latitude": "nan",
         "longitude": "nan",
         "Country Name": "nan",
         "country_code": "nan",
         "city_name": "nan",
         "email": "nan",
         "Continent_Name": "Africa",
         "Continent_Code": "AF",
         "Country_Name": "Namibia, Republic of",
         "Two_Letter_Country_Code": "nan",
         "Three_Letter_Country_Code": "NAM",
         "Country_Number": 516,
         "_deepnote_index_column": 12917
        },
        {
         "customer_id": "l8c64t",
         "order_date": "01/03/2017",
         "order_id": "HTS-l8c64t-0003",
         "pages_visited": 7,
         "tshirt_category": "Tennis Shirt",
         "tshirt_price": "24",
         "tshirt_quantity": 2,
         "user_agent": "Mozilla/5.0 (Windows NT 10.0| WOW64| rv:52.0) Gecko/20100101 Firefox/52.0",
         "customerID": "nan",
         "gender": "nan",
         "birthdate": "nan",
         "ip_address": "nan",
         "latitude": "nan",
         "longitude": "nan",
         "Country Name": "nan",
         "country_code": "nan",
         "city_name": "nan",
         "email": "nan",
         "Continent_Name": "Africa",
         "Continent_Code": "AF",
         "Country_Name": "Namibia, Republic of",
         "Two_Letter_Country_Code": "nan",
         "Three_Letter_Country_Code": "NAM",
         "Country_Number": 516,
         "_deepnote_index_column": 12918
        },
        {
         "customer_id": "946557",
         "order_date": "21/07/2016",
         "order_id": "HTS-946557-0005",
         "pages_visited": 5,
         "tshirt_category": "Tennis Shirt",
         "tshirt_price": "24",
         "tshirt_quantity": 2,
         "user_agent": "Mozilla/5.0 (Windows NT 10.0| Win64| x64) AppleWebKit/537.36 (KHTML, like Gecko) Chrome/56.0.2924.8…",
         "customerID": "nan",
         "gender": "nan",
         "birthdate": "nan",
         "ip_address": "nan",
         "latitude": "nan",
         "longitude": "nan",
         "Country Name": "nan",
         "country_code": "nan",
         "city_name": "nan",
         "email": "nan",
         "Continent_Name": "Africa",
         "Continent_Code": "AF",
         "Country_Name": "Namibia, Republic of",
         "Two_Letter_Country_Code": "nan",
         "Three_Letter_Country_Code": "NAM",
         "Country_Number": 516,
         "_deepnote_index_column": 12919
        },
        {
         "customer_id": "1bhyje",
         "order_date": "22/06/2016",
         "order_id": "HTS-1bhyje-0002",
         "pages_visited": 17,
         "tshirt_category": "Tennis Shirt",
         "tshirt_price": "24",
         "tshirt_quantity": 1,
         "user_agent": "Mozilla/5.0 (X11| Linux x86_64) AppleWebKit/537.36 (KHTML, like Gecko) Chrome/56.0.2924.87 Safari/5…",
         "customerID": "nan",
         "gender": "nan",
         "birthdate": "nan",
         "ip_address": "nan",
         "latitude": "nan",
         "longitude": "nan",
         "Country Name": "nan",
         "country_code": "nan",
         "city_name": "nan",
         "email": "nan",
         "Continent_Name": "Africa",
         "Continent_Code": "AF",
         "Country_Name": "Namibia, Republic of",
         "Two_Letter_Country_Code": "nan",
         "Three_Letter_Country_Code": "NAM",
         "Country_Number": 516,
         "_deepnote_index_column": 12920
        }
       ]
      },
      "text/plain": "      customer_id  order_date         order_id  pages_visited  \\\n0           38040  04/09/2016  HTS-038040-0002              9   \n1          vft1eu  26/02/2017  HTS-vft1eu-0003             10   \n2          914324  01/12/2013  HTS-914324-0001             10   \n3           61311  15/01/2016  HTS-061311-0003              9   \n4          494332  03/11/2013  HTS-494332-0001             10   \n...           ...         ...              ...            ...   \n12916      0b59cn  12/12/2016  HTS-0b59cn-0004              8   \n12917      357322  10/12/2016  HTS-357322-0007              5   \n12918      l8c64t  01/03/2017  HTS-l8c64t-0003              7   \n12919      946557  21/07/2016  HTS-946557-0005              5   \n12920      1bhyje  22/06/2016  HTS-1bhyje-0002             17   \n\n       tshirt_category tshirt_price  tshirt_quantity  \\\n0      White T-Shirt M           20                1   \n1      White T-Shirt F           18                3   \n2          Wh Tshirt F           18                1   \n3      Black T-Shirt F         17,5                4   \n4          Wh Tshirt F           18                2   \n...                ...          ...              ...   \n12916     Tennis Shirt           24                5   \n12917     Tennis Shirt           24                3   \n12918     Tennis Shirt           24                2   \n12919     Tennis Shirt           24                2   \n12920     Tennis Shirt           24                1   \n\n                                              user_agent customerID gender  \\\n0      Mozilla/5.0 (Windows NT 10.0| WOW64) AppleWebK...        NaN    NaN   \n1      Mozilla/5.0 (Macintosh| Intel Mac OS X 10_12_3...     vft1eu      F   \n2      Mozilla/5.0 (Windows NT 10.0| WOW64) AppleWebK...        NaN    NaN   \n3      Mozilla/5.0 (Macintosh| Intel Mac OS X 10_12_3...        NaN    NaN   \n4      Mozilla/5.0 (Macintosh| Intel Mac OS X 10_11_6...        NaN    NaN   \n...                                                  ...        ...    ...   \n12916  Mozilla/5.0 (X11| Ubuntu| Linux x86_64| rv:51....        NaN    NaN   \n12917  Mozilla/5.0 (Windows NT 10.0| WOW64) AppleWebK...        NaN    NaN   \n12918  Mozilla/5.0 (Windows NT 10.0| WOW64| rv:52.0) ...        NaN    NaN   \n12919  Mozilla/5.0 (Windows NT 10.0| Win64| x64) Appl...        NaN    NaN   \n12920  Mozilla/5.0 (X11| Linux x86_64) AppleWebKit/53...        NaN    NaN   \n\n       ...                  Country Name country_code  city_name  \\\n0      ...                           NaN          NaN        NaN   \n1      ...  Germany, Federal Republic of           DE        NaN   \n2      ...                           NaN          NaN        NaN   \n3      ...                           NaN          NaN        NaN   \n4      ...                           NaN          NaN        NaN   \n...    ...                           ...          ...        ...   \n12916  ...                           NaN          NaN        NaN   \n12917  ...                           NaN          NaN        NaN   \n12918  ...                           NaN          NaN        NaN   \n12919  ...                           NaN          NaN        NaN   \n12920  ...                           NaN          NaN        NaN   \n\n                   email Continent_Name Continent_Code  \\\n0                    NaN         Africa             AF   \n1      HEOX@formation.fr         Europe             EU   \n2                    NaN         Africa             AF   \n3                    NaN         Africa             AF   \n4                    NaN         Africa             AF   \n...                  ...            ...            ...   \n12916                NaN         Africa             AF   \n12917                NaN         Africa             AF   \n12918                NaN         Africa             AF   \n12919                NaN         Africa             AF   \n12920                NaN         Africa             AF   \n\n                       Country_Name Two_Letter_Country_Code  \\\n0              Namibia, Republic of                     NaN   \n1      Germany, Federal Republic of                      DE   \n2              Namibia, Republic of                     NaN   \n3              Namibia, Republic of                     NaN   \n4              Namibia, Republic of                     NaN   \n...                             ...                     ...   \n12916          Namibia, Republic of                     NaN   \n12917          Namibia, Republic of                     NaN   \n12918          Namibia, Republic of                     NaN   \n12919          Namibia, Republic of                     NaN   \n12920          Namibia, Republic of                     NaN   \n\n      Three_Letter_Country_Code Country_Number  \n0                           NAM          516.0  \n1                           DEU          276.0  \n2                           NAM          516.0  \n3                           NAM          516.0  \n4                           NAM          516.0  \n...                         ...            ...  \n12916                       NAM          516.0  \n12917                       NAM          516.0  \n12918                       NAM          516.0  \n12919                       NAM          516.0  \n12920                       NAM          516.0  \n\n[12921 rows x 24 columns]",
      "text/html": "<div>\n<style scoped>\n    .dataframe tbody tr th:only-of-type {\n        vertical-align: middle;\n    }\n\n    .dataframe tbody tr th {\n        vertical-align: top;\n    }\n\n    .dataframe thead th {\n        text-align: right;\n    }\n</style>\n<table border=\"1\" class=\"dataframe\">\n  <thead>\n    <tr style=\"text-align: right;\">\n      <th></th>\n      <th>customer_id</th>\n      <th>order_date</th>\n      <th>order_id</th>\n      <th>pages_visited</th>\n      <th>tshirt_category</th>\n      <th>tshirt_price</th>\n      <th>tshirt_quantity</th>\n      <th>user_agent</th>\n      <th>customerID</th>\n      <th>gender</th>\n      <th>...</th>\n      <th>Country Name</th>\n      <th>country_code</th>\n      <th>city_name</th>\n      <th>email</th>\n      <th>Continent_Name</th>\n      <th>Continent_Code</th>\n      <th>Country_Name</th>\n      <th>Two_Letter_Country_Code</th>\n      <th>Three_Letter_Country_Code</th>\n      <th>Country_Number</th>\n    </tr>\n  </thead>\n  <tbody>\n    <tr>\n      <th>0</th>\n      <td>38040</td>\n      <td>04/09/2016</td>\n      <td>HTS-038040-0002</td>\n      <td>9</td>\n      <td>White T-Shirt M</td>\n      <td>20</td>\n      <td>1</td>\n      <td>Mozilla/5.0 (Windows NT 10.0| WOW64) AppleWebK...</td>\n      <td>NaN</td>\n      <td>NaN</td>\n      <td>...</td>\n      <td>NaN</td>\n      <td>NaN</td>\n      <td>NaN</td>\n      <td>NaN</td>\n      <td>Africa</td>\n      <td>AF</td>\n      <td>Namibia, Republic of</td>\n      <td>NaN</td>\n      <td>NAM</td>\n      <td>516.0</td>\n    </tr>\n    <tr>\n      <th>1</th>\n      <td>vft1eu</td>\n      <td>26/02/2017</td>\n      <td>HTS-vft1eu-0003</td>\n      <td>10</td>\n      <td>White T-Shirt F</td>\n      <td>18</td>\n      <td>3</td>\n      <td>Mozilla/5.0 (Macintosh| Intel Mac OS X 10_12_3...</td>\n      <td>vft1eu</td>\n      <td>F</td>\n      <td>...</td>\n      <td>Germany, Federal Republic of</td>\n      <td>DE</td>\n      <td>NaN</td>\n      <td>HEOX@formation.fr</td>\n      <td>Europe</td>\n      <td>EU</td>\n      <td>Germany, Federal Republic of</td>\n      <td>DE</td>\n      <td>DEU</td>\n      <td>276.0</td>\n    </tr>\n    <tr>\n      <th>2</th>\n      <td>914324</td>\n      <td>01/12/2013</td>\n      <td>HTS-914324-0001</td>\n      <td>10</td>\n      <td>Wh Tshirt F</td>\n      <td>18</td>\n      <td>1</td>\n      <td>Mozilla/5.0 (Windows NT 10.0| WOW64) AppleWebK...</td>\n      <td>NaN</td>\n      <td>NaN</td>\n      <td>...</td>\n      <td>NaN</td>\n      <td>NaN</td>\n      <td>NaN</td>\n      <td>NaN</td>\n      <td>Africa</td>\n      <td>AF</td>\n      <td>Namibia, Republic of</td>\n      <td>NaN</td>\n      <td>NAM</td>\n      <td>516.0</td>\n    </tr>\n    <tr>\n      <th>3</th>\n      <td>61311</td>\n      <td>15/01/2016</td>\n      <td>HTS-061311-0003</td>\n      <td>9</td>\n      <td>Black T-Shirt F</td>\n      <td>17,5</td>\n      <td>4</td>\n      <td>Mozilla/5.0 (Macintosh| Intel Mac OS X 10_12_3...</td>\n      <td>NaN</td>\n      <td>NaN</td>\n      <td>...</td>\n      <td>NaN</td>\n      <td>NaN</td>\n      <td>NaN</td>\n      <td>NaN</td>\n      <td>Africa</td>\n      <td>AF</td>\n      <td>Namibia, Republic of</td>\n      <td>NaN</td>\n      <td>NAM</td>\n      <td>516.0</td>\n    </tr>\n    <tr>\n      <th>4</th>\n      <td>494332</td>\n      <td>03/11/2013</td>\n      <td>HTS-494332-0001</td>\n      <td>10</td>\n      <td>Wh Tshirt F</td>\n      <td>18</td>\n      <td>2</td>\n      <td>Mozilla/5.0 (Macintosh| Intel Mac OS X 10_11_6...</td>\n      <td>NaN</td>\n      <td>NaN</td>\n      <td>...</td>\n      <td>NaN</td>\n      <td>NaN</td>\n      <td>NaN</td>\n      <td>NaN</td>\n      <td>Africa</td>\n      <td>AF</td>\n      <td>Namibia, Republic of</td>\n      <td>NaN</td>\n      <td>NAM</td>\n      <td>516.0</td>\n    </tr>\n    <tr>\n      <th>...</th>\n      <td>...</td>\n      <td>...</td>\n      <td>...</td>\n      <td>...</td>\n      <td>...</td>\n      <td>...</td>\n      <td>...</td>\n      <td>...</td>\n      <td>...</td>\n      <td>...</td>\n      <td>...</td>\n      <td>...</td>\n      <td>...</td>\n      <td>...</td>\n      <td>...</td>\n      <td>...</td>\n      <td>...</td>\n      <td>...</td>\n      <td>...</td>\n      <td>...</td>\n      <td>...</td>\n    </tr>\n    <tr>\n      <th>12916</th>\n      <td>0b59cn</td>\n      <td>12/12/2016</td>\n      <td>HTS-0b59cn-0004</td>\n      <td>8</td>\n      <td>Tennis Shirt</td>\n      <td>24</td>\n      <td>5</td>\n      <td>Mozilla/5.0 (X11| Ubuntu| Linux x86_64| rv:51....</td>\n      <td>NaN</td>\n      <td>NaN</td>\n      <td>...</td>\n      <td>NaN</td>\n      <td>NaN</td>\n      <td>NaN</td>\n      <td>NaN</td>\n      <td>Africa</td>\n      <td>AF</td>\n      <td>Namibia, Republic of</td>\n      <td>NaN</td>\n      <td>NAM</td>\n      <td>516.0</td>\n    </tr>\n    <tr>\n      <th>12917</th>\n      <td>357322</td>\n      <td>10/12/2016</td>\n      <td>HTS-357322-0007</td>\n      <td>5</td>\n      <td>Tennis Shirt</td>\n      <td>24</td>\n      <td>3</td>\n      <td>Mozilla/5.0 (Windows NT 10.0| WOW64) AppleWebK...</td>\n      <td>NaN</td>\n      <td>NaN</td>\n      <td>...</td>\n      <td>NaN</td>\n      <td>NaN</td>\n      <td>NaN</td>\n      <td>NaN</td>\n      <td>Africa</td>\n      <td>AF</td>\n      <td>Namibia, Republic of</td>\n      <td>NaN</td>\n      <td>NAM</td>\n      <td>516.0</td>\n    </tr>\n    <tr>\n      <th>12918</th>\n      <td>l8c64t</td>\n      <td>01/03/2017</td>\n      <td>HTS-l8c64t-0003</td>\n      <td>7</td>\n      <td>Tennis Shirt</td>\n      <td>24</td>\n      <td>2</td>\n      <td>Mozilla/5.0 (Windows NT 10.0| WOW64| rv:52.0) ...</td>\n      <td>NaN</td>\n      <td>NaN</td>\n      <td>...</td>\n      <td>NaN</td>\n      <td>NaN</td>\n      <td>NaN</td>\n      <td>NaN</td>\n      <td>Africa</td>\n      <td>AF</td>\n      <td>Namibia, Republic of</td>\n      <td>NaN</td>\n      <td>NAM</td>\n      <td>516.0</td>\n    </tr>\n    <tr>\n      <th>12919</th>\n      <td>946557</td>\n      <td>21/07/2016</td>\n      <td>HTS-946557-0005</td>\n      <td>5</td>\n      <td>Tennis Shirt</td>\n      <td>24</td>\n      <td>2</td>\n      <td>Mozilla/5.0 (Windows NT 10.0| Win64| x64) Appl...</td>\n      <td>NaN</td>\n      <td>NaN</td>\n      <td>...</td>\n      <td>NaN</td>\n      <td>NaN</td>\n      <td>NaN</td>\n      <td>NaN</td>\n      <td>Africa</td>\n      <td>AF</td>\n      <td>Namibia, Republic of</td>\n      <td>NaN</td>\n      <td>NAM</td>\n      <td>516.0</td>\n    </tr>\n    <tr>\n      <th>12920</th>\n      <td>1bhyje</td>\n      <td>22/06/2016</td>\n      <td>HTS-1bhyje-0002</td>\n      <td>17</td>\n      <td>Tennis Shirt</td>\n      <td>24</td>\n      <td>1</td>\n      <td>Mozilla/5.0 (X11| Linux x86_64) AppleWebKit/53...</td>\n      <td>NaN</td>\n      <td>NaN</td>\n      <td>...</td>\n      <td>NaN</td>\n      <td>NaN</td>\n      <td>NaN</td>\n      <td>NaN</td>\n      <td>Africa</td>\n      <td>AF</td>\n      <td>Namibia, Republic of</td>\n      <td>NaN</td>\n      <td>NAM</td>\n      <td>516.0</td>\n    </tr>\n  </tbody>\n</table>\n<p>12921 rows × 24 columns</p>\n</div>"
     },
     "metadata": {}
    }
   ],
   "execution_count": null
  },
  {
   "cell_type": "markdown",
   "source": "# 2bis - Analyze and Manipulating Data (Final Table)",
   "metadata": {
    "tags": [],
    "is_collapsed": false,
    "cell_id": "00028-34184707-987b-4f9f-a58c-3ef085ff39dc",
    "deepnote_cell_type": "text-cell-h1"
   }
  },
  {
   "cell_type": "markdown",
   "source": "<div class=\"alert alert-block alert-info\">\n<b><p style=\"color:red;\">Exercice 16: How many tshirt were sold ?</p></b>",
   "metadata": {
    "tags": [],
    "cell_id": "00069-067d5da1-bab3-455b-8a27-5611312fb864",
    "deepnote_cell_type": "markdown"
   }
  },
  {
   "cell_type": "code",
   "metadata": {
    "tags": [],
    "cell_id": "00067-5c0bca9e-567d-49db-ac08-7b7637e00fe9",
    "deepnote_to_be_reexecuted": false,
    "source_hash": "287383f3",
    "execution_start": 1631561371625,
    "execution_millis": 25,
    "deepnote_cell_type": "code"
   },
   "source": "df_final[\"tshirt_quantity\"].sum()",
   "outputs": [
    {
     "output_type": "execute_result",
     "execution_count": 60,
     "data": {
      "text/plain": "34931"
     },
     "metadata": {}
    }
   ],
   "execution_count": null
  },
  {
   "cell_type": "markdown",
   "source": "<div class=\"alert alert-block alert-info\">\n<b><p style=\"color:red;\">Exercice 17: Who are the Top 3 that makes the most number of orders ?</p></b>",
   "metadata": {
    "tags": [],
    "cell_id": "00071-d3930ce6-05de-4603-8a4b-6d81b9fa4e6f",
    "deepnote_cell_type": "markdown"
   }
  },
  {
   "cell_type": "code",
   "metadata": {
    "tags": [],
    "cell_id": "00073-2ae1b92b-9b77-43a0-b972-a5697e487b99",
    "deepnote_to_be_reexecuted": false,
    "source_hash": "70144a45",
    "execution_start": 1631561551985,
    "execution_millis": 15,
    "deepnote_cell_type": "code"
   },
   "source": "df_final[\"customer_id\"].value_counts()",
   "outputs": [
    {
     "output_type": "execute_result",
     "execution_count": 62,
     "data": {
      "text/plain": "536917    13\n409679    13\n632127    12\n368695    11\n650441    11\n          ..\n113516     1\nsfmm8v     1\n449277     1\n44217      1\nugwqgf     1\nName: customer_id, Length: 5380, dtype: int64"
     },
     "metadata": {}
    }
   ],
   "execution_count": null
  },
  {
   "cell_type": "markdown",
   "source": "<div class=\"alert alert-block alert-info\">\n<b><p style=\"color:red;\">Exercice 18: Which category of tshirt has the most number of orders ? What do you observe ?</p></b>\n\n\n",
   "metadata": {
    "tags": [],
    "cell_id": "00071-e8c9a46e-6218-4a96-a1a3-fc1c083b5585",
    "deepnote_cell_type": "markdown"
   }
  },
  {
   "cell_type": "code",
   "metadata": {
    "tags": [],
    "cell_id": "00072-48589f5d-f25b-4f3a-9f6a-6a9d0287aed3",
    "deepnote_to_be_reexecuted": false,
    "source_hash": "a9a8bd40",
    "execution_start": 1631561501928,
    "execution_millis": 9,
    "deepnote_cell_type": "code"
   },
   "source": "df_final[\"tshirt_category\"].value_counts()",
   "outputs": [
    {
     "output_type": "execute_result",
     "execution_count": 61,
     "data": {
      "text/plain": "Hoodie             3047\nWhite T-Shirt M    2717\nBlack T-Shirt M    2142\nWhite T-Shirt F    1657\nBlack T-Shirt F    1565\nTennis Shirt       1075\nWh Tshirt M         238\nBl Tshirt M         181\nWh Tshirt F         157\nBl Tshirt F         142\nName: tshirt_category, dtype: int64"
     },
     "metadata": {}
    }
   ],
   "execution_count": null
  },
  {
   "cell_type": "markdown",
   "source": "# 3 - Data Manipulation : Data Standardization",
   "metadata": {
    "tags": [],
    "is_collapsed": false,
    "cell_id": "00018-a3f15eb6-22d4-4636-8305-efeecf8e8a18",
    "deepnote_cell_type": "text-cell-h1"
   }
  },
  {
   "cell_type": "markdown",
   "source": "## 3.1 Categorical Standardization",
   "metadata": {
    "tags": [],
    "is_collapsed": false,
    "cell_id": "00041-80af16fd-f8f2-4341-bbf0-c43230f1f810",
    "deepnote_cell_type": "text-cell-h2"
   }
  },
  {
   "cell_type": "markdown",
   "source": "<div class=\"alert alert-block alert-info\">\n<b><p style=\"color:red;\">Exercice 19: Standardized the column t-shirt category</p></b>\nStandardize the column <b>tshirt_category</b> by replacing the values. <br>\nYou will need the function <b>pandas.replace</b> : <a href=\"https://pandas.pydata.org/docs/reference/api/pandas.DataFrame.replace.html\">https://pandas.pydata.org/docs/reference/api/pandas.DataFrame.replace.html</a> <br>\nWe advice that you look at your data shape first, merge your tables, and check at the end your shape\n",
   "metadata": {
    "tags": [],
    "cell_id": "00042-924588fe-3caf-4884-933d-e92bfdeebb29",
    "deepnote_cell_type": "markdown"
   }
  },
  {
   "cell_type": "code",
   "metadata": {
    "tags": [],
    "cell_id": "00041-80de814f-1f5c-4f66-84c5-8f4ab545ee37",
    "deepnote_to_be_reexecuted": false,
    "source_hash": "5d0cd32d",
    "execution_start": 1629806815070,
    "execution_millis": 169,
    "is_output_hidden": true,
    "deepnote_cell_type": "code"
   },
   "source": "# Look at the data\ndf_final",
   "outputs": [
    {
     "output_type": "execute_result",
     "execution_count": 19,
     "data": {
      "application/vnd.deepnote.dataframe.v2+json": {
       "row_count": 12921,
       "column_count": 24,
       "columns": [
        {
         "name": "customer_id",
         "dtype": "object",
         "stats": {
          "unique_count": 5380,
          "nan_count": 0,
          "categories": [
           {
            "name": "536917",
            "count": 13
           },
           {
            "name": "409679",
            "count": 13
           },
           {
            "name": "5378 others",
            "count": 12895
           }
          ]
         }
        },
        {
         "name": "order_date",
         "dtype": "object",
         "stats": {
          "unique_count": 1401,
          "nan_count": 0,
          "categories": [
           {
            "name": "02/11/2015",
            "count": 25
           },
           {
            "name": "05/11/2015",
            "count": 25
           },
           {
            "name": "1399 others",
            "count": 12871
           }
          ]
         }
        },
        {
         "name": "order_id",
         "dtype": "object",
         "stats": {
          "unique_count": 12902,
          "nan_count": 0,
          "categories": [
           {
            "name": "HTS-296958-0001",
            "count": 2
           },
           {
            "name": "HTS-923895-0002",
            "count": 2
           },
           {
            "name": "12900 others",
            "count": 12917
           }
          ]
         }
        },
        {
         "name": "pages_visited",
         "dtype": "int64",
         "stats": {
          "unique_count": 25,
          "nan_count": 0,
          "min": "2",
          "max": "28",
          "histogram": [
           {
            "bin_start": 2,
            "bin_end": 4.6,
            "count": 394
           },
           {
            "bin_start": 4.6,
            "bin_end": 7.2,
            "count": 2004
           },
           {
            "bin_start": 7.2,
            "bin_end": 9.8,
            "count": 2495
           },
           {
            "bin_start": 9.8,
            "bin_end": 12.4,
            "count": 4063
           },
           {
            "bin_start": 12.4,
            "bin_end": 15,
            "count": 1990
           },
           {
            "bin_start": 15,
            "bin_end": 17.6,
            "count": 1513
           },
           {
            "bin_start": 17.6,
            "bin_end": 20.2,
            "count": 376
           },
           {
            "bin_start": 20.2,
            "bin_end": 22.8,
            "count": 60
           },
           {
            "bin_start": 22.8,
            "bin_end": 25.400000000000002,
            "count": 25
           },
           {
            "bin_start": 25.400000000000002,
            "bin_end": 28,
            "count": 1
           }
          ]
         }
        },
        {
         "name": "tshirt_category",
         "dtype": "object",
         "stats": {
          "unique_count": 10,
          "nan_count": 0,
          "categories": [
           {
            "name": "Hoodie",
            "count": 3047
           },
           {
            "name": "White T-Shirt M",
            "count": 2717
           },
           {
            "name": "8 others",
            "count": 7157
           }
          ]
         }
        },
        {
         "name": "tshirt_price",
         "dtype": "object",
         "stats": {
          "unique_count": 6,
          "nan_count": 0,
          "categories": [
           {
            "name": "23",
            "count": 3047
           },
           {
            "name": "20",
            "count": 2955
           },
           {
            "name": "4 others",
            "count": 6919
           }
          ]
         }
        },
        {
         "name": "tshirt_quantity",
         "dtype": "int64",
         "stats": {
          "unique_count": 28,
          "nan_count": 0,
          "min": "1",
          "max": "29",
          "histogram": [
           {
            "bin_start": 1,
            "bin_end": 3.8,
            "count": 10651
           },
           {
            "bin_start": 3.8,
            "bin_end": 6.6,
            "count": 1459
           },
           {
            "bin_start": 6.6,
            "bin_end": 9.399999999999999,
            "count": 181
           },
           {
            "bin_start": 9.399999999999999,
            "bin_end": 12.2,
            "count": 122
           },
           {
            "bin_start": 12.2,
            "bin_end": 15,
            "count": 116
           },
           {
            "bin_start": 15,
            "bin_end": 17.799999999999997,
            "count": 170
           },
           {
            "bin_start": 17.799999999999997,
            "bin_end": 20.599999999999998,
            "count": 126
           },
           {
            "bin_start": 20.599999999999998,
            "bin_end": 23.4,
            "count": 65
           },
           {
            "bin_start": 23.4,
            "bin_end": 26.2,
            "count": 27
           },
           {
            "bin_start": 26.2,
            "bin_end": 29,
            "count": 4
           }
          ]
         }
        },
        {
         "name": "user_agent",
         "dtype": "object"
        },
        {
         "name": "customerID",
         "dtype": "object"
        },
        {
         "name": "gender",
         "dtype": "object"
        },
        {
         "name": "birthdate",
         "dtype": "object"
        },
        {
         "name": "ip_address",
         "dtype": "object"
        },
        {
         "name": "latitude",
         "dtype": "float64"
        },
        {
         "name": "longitude",
         "dtype": "float64"
        },
        {
         "name": "Country Name",
         "dtype": "object"
        },
        {
         "name": "country_code",
         "dtype": "object"
        },
        {
         "name": "city_name",
         "dtype": "object"
        },
        {
         "name": "email",
         "dtype": "object"
        },
        {
         "name": "Continent_Name",
         "dtype": "object"
        },
        {
         "name": "Continent_Code",
         "dtype": "object"
        },
        {
         "name": "Country_Name",
         "dtype": "object"
        },
        {
         "name": "Two_Letter_Country_Code",
         "dtype": "object"
        },
        {
         "name": "Three_Letter_Country_Code",
         "dtype": "object"
        },
        {
         "name": "Country_Number",
         "dtype": "float64"
        },
        {
         "name": "_deepnote_index_column",
         "dtype": "int64"
        }
       ],
       "rows_top": [
        {
         "customer_id": "38040",
         "order_date": "04/09/2016",
         "order_id": "HTS-038040-0002",
         "pages_visited": 9,
         "tshirt_category": "White T-Shirt M",
         "tshirt_price": "20",
         "tshirt_quantity": 1,
         "user_agent": "Mozilla/5.0 (Windows NT 10.0| WOW64) AppleWebKit/537.36 (KHTML, like Gecko) Chrome/56.0.2924.87 Saf…",
         "customerID": "nan",
         "gender": "nan",
         "birthdate": "nan",
         "ip_address": "nan",
         "latitude": "nan",
         "longitude": "nan",
         "Country Name": "nan",
         "country_code": "nan",
         "city_name": "nan",
         "email": "nan",
         "Continent_Name": "Africa",
         "Continent_Code": "AF",
         "Country_Name": "Namibia, Republic of",
         "Two_Letter_Country_Code": "nan",
         "Three_Letter_Country_Code": "NAM",
         "Country_Number": 516,
         "_deepnote_index_column": 0
        },
        {
         "customer_id": "vft1eu",
         "order_date": "26/02/2017",
         "order_id": "HTS-vft1eu-0003",
         "pages_visited": 10,
         "tshirt_category": "White T-Shirt F",
         "tshirt_price": "18",
         "tshirt_quantity": 3,
         "user_agent": "Mozilla/5.0 (Macintosh| Intel Mac OS X 10_12_3) AppleWebKit/602.4.8 (KHTML, like Gecko) Version/10.…",
         "customerID": "vft1eu",
         "gender": "F",
         "birthdate": "1969-06-27 00:00:00",
         "ip_address": "53.115.6.106",
         "latitude": 51,
         "longitude": 9,
         "Country Name": "Germany, Federal Republic of",
         "country_code": "DE",
         "city_name": "nan",
         "email": "HEOX@formation.fr",
         "Continent_Name": "Europe",
         "Continent_Code": "EU",
         "Country_Name": "Germany, Federal Republic of",
         "Two_Letter_Country_Code": "DE",
         "Three_Letter_Country_Code": "DEU",
         "Country_Number": 276,
         "_deepnote_index_column": 1
        },
        {
         "customer_id": "914324",
         "order_date": "01/12/2013",
         "order_id": "HTS-914324-0001",
         "pages_visited": 10,
         "tshirt_category": "Wh Tshirt F",
         "tshirt_price": "18",
         "tshirt_quantity": 1,
         "user_agent": "Mozilla/5.0 (Windows NT 10.0| WOW64) AppleWebKit/537.36 (KHTML, like Gecko) Chrome/56.0.2924.87 Saf…",
         "customerID": "nan",
         "gender": "nan",
         "birthdate": "nan",
         "ip_address": "nan",
         "latitude": "nan",
         "longitude": "nan",
         "Country Name": "nan",
         "country_code": "nan",
         "city_name": "nan",
         "email": "nan",
         "Continent_Name": "Africa",
         "Continent_Code": "AF",
         "Country_Name": "Namibia, Republic of",
         "Two_Letter_Country_Code": "nan",
         "Three_Letter_Country_Code": "NAM",
         "Country_Number": 516,
         "_deepnote_index_column": 2
        },
        {
         "customer_id": "61311",
         "order_date": "15/01/2016",
         "order_id": "HTS-061311-0003",
         "pages_visited": 9,
         "tshirt_category": "Black T-Shirt F",
         "tshirt_price": "17,5",
         "tshirt_quantity": 4,
         "user_agent": "Mozilla/5.0 (Macintosh| Intel Mac OS X 10_12_3) AppleWebKit/537.36 (KHTML, like Gecko) Chrome/56.0.…",
         "customerID": "nan",
         "gender": "nan",
         "birthdate": "nan",
         "ip_address": "nan",
         "latitude": "nan",
         "longitude": "nan",
         "Country Name": "nan",
         "country_code": "nan",
         "city_name": "nan",
         "email": "nan",
         "Continent_Name": "Africa",
         "Continent_Code": "AF",
         "Country_Name": "Namibia, Republic of",
         "Two_Letter_Country_Code": "nan",
         "Three_Letter_Country_Code": "NAM",
         "Country_Number": 516,
         "_deepnote_index_column": 3
        },
        {
         "customer_id": "494332",
         "order_date": "03/11/2013",
         "order_id": "HTS-494332-0001",
         "pages_visited": 10,
         "tshirt_category": "Wh Tshirt F",
         "tshirt_price": "18",
         "tshirt_quantity": 2,
         "user_agent": "Mozilla/5.0 (Macintosh| Intel Mac OS X 10_11_6) AppleWebKit/537.36 (KHTML, like Gecko) Chrome/56.0.…",
         "customerID": "nan",
         "gender": "nan",
         "birthdate": "nan",
         "ip_address": "nan",
         "latitude": "nan",
         "longitude": "nan",
         "Country Name": "nan",
         "country_code": "nan",
         "city_name": "nan",
         "email": "nan",
         "Continent_Name": "Africa",
         "Continent_Code": "AF",
         "Country_Name": "Namibia, Republic of",
         "Two_Letter_Country_Code": "nan",
         "Three_Letter_Country_Code": "NAM",
         "Country_Number": 516,
         "_deepnote_index_column": 4
        },
        {
         "customer_id": "463794",
         "order_date": "02/10/2013",
         "order_id": "HTS-463794-0001",
         "pages_visited": 14,
         "tshirt_category": "Tennis Shirt",
         "tshirt_price": "24",
         "tshirt_quantity": 1,
         "user_agent": "Mozilla/5.0 (Windows NT 10.0| Win64| x64) AppleWebKit/537.36 (KHTML, like Gecko) Chrome/56.0.2924.8…",
         "customerID": "nan",
         "gender": "nan",
         "birthdate": "nan",
         "ip_address": "nan",
         "latitude": "nan",
         "longitude": "nan",
         "Country Name": "nan",
         "country_code": "nan",
         "city_name": "nan",
         "email": "nan",
         "Continent_Name": "Africa",
         "Continent_Code": "AF",
         "Country_Name": "Namibia, Republic of",
         "Two_Letter_Country_Code": "nan",
         "Three_Letter_Country_Code": "NAM",
         "Country_Number": 516,
         "_deepnote_index_column": 5
        },
        {
         "customer_id": "132885",
         "order_date": "23/07/2013",
         "order_id": "HTS-132885-0001",
         "pages_visited": 17,
         "tshirt_category": "Wh Tshirt M",
         "tshirt_price": "20",
         "tshirt_quantity": 1,
         "user_agent": "Mozilla/5.0 (Windows NT 10.0| Win64| x64) AppleWebKit/537.36 (KHTML, like Gecko) Chrome/56.0.2924.8…",
         "customerID": "nan",
         "gender": "nan",
         "birthdate": "nan",
         "ip_address": "nan",
         "latitude": "nan",
         "longitude": "nan",
         "Country Name": "nan",
         "country_code": "nan",
         "city_name": "nan",
         "email": "nan",
         "Continent_Name": "Africa",
         "Continent_Code": "AF",
         "Country_Name": "Namibia, Republic of",
         "Two_Letter_Country_Code": "nan",
         "Three_Letter_Country_Code": "NAM",
         "Country_Number": 516,
         "_deepnote_index_column": 6
        },
        {
         "customer_id": "519113",
         "order_date": "24/11/2013",
         "order_id": "HTS-519113-0001",
         "pages_visited": 17,
         "tshirt_category": "Bl Tshirt F",
         "tshirt_price": "17,5",
         "tshirt_quantity": 1,
         "user_agent": "Mozilla/5.0 (Windows NT 6.1| WOW64) AppleWebKit/537.36 (KHTML, like Gecko) Chrome/56.0.2924.87 Safa…",
         "customerID": "nan",
         "gender": "nan",
         "birthdate": "nan",
         "ip_address": "nan",
         "latitude": "nan",
         "longitude": "nan",
         "Country Name": "nan",
         "country_code": "nan",
         "city_name": "nan",
         "email": "nan",
         "Continent_Name": "Africa",
         "Continent_Code": "AF",
         "Country_Name": "Namibia, Republic of",
         "Two_Letter_Country_Code": "nan",
         "Three_Letter_Country_Code": "NAM",
         "Country_Number": 516,
         "_deepnote_index_column": 7
        },
        {
         "customer_id": "je57lh",
         "order_date": "24/11/2015",
         "order_id": "HTS-je57lh-0001",
         "pages_visited": 15,
         "tshirt_category": "Hoodie",
         "tshirt_price": "23",
         "tshirt_quantity": 3,
         "user_agent": "Mozilla/5.0 (Windows NT 10.0| Win64| x64) AppleWebKit/537.36 (KHTML, like Gecko) Chrome/56.0.2924.8…",
         "customerID": "je57lh",
         "gender": "M",
         "birthdate": "1953-03-12 00:00:00",
         "ip_address": "110.116.130.200",
         "latitude": 39.92890167,
         "longitude": 116.388298,
         "Country Name": "China, People's Republic of",
         "country_code": "CN",
         "city_name": "Beijing",
         "email": "GOPB@formation.fr",
         "Continent_Name": "Asia",
         "Continent_Code": "AS",
         "Country_Name": "China, People's Republic of",
         "Two_Letter_Country_Code": "CN",
         "Three_Letter_Country_Code": "CHN",
         "Country_Number": 156,
         "_deepnote_index_column": 8
        },
        {
         "customer_id": "49348",
         "order_date": "15/08/2016",
         "order_id": "HTS-049348-0004",
         "pages_visited": 6,
         "tshirt_category": "Black T-Shirt F",
         "tshirt_price": "17,5",
         "tshirt_quantity": 1,
         "user_agent": "Mozilla/5.0 (Macintosh| Intel Mac OS X 10_11_6) AppleWebKit/537.36 (KHTML, like Gecko) Chrome/56.0.…",
         "customerID": "nan",
         "gender": "nan",
         "birthdate": "nan",
         "ip_address": "nan",
         "latitude": "nan",
         "longitude": "nan",
         "Country Name": "nan",
         "country_code": "nan",
         "city_name": "nan",
         "email": "nan",
         "Continent_Name": "Africa",
         "Continent_Code": "AF",
         "Country_Name": "Namibia, Republic of",
         "Two_Letter_Country_Code": "nan",
         "Three_Letter_Country_Code": "NAM",
         "Country_Number": 516,
         "_deepnote_index_column": 9
        },
        {
         "customer_id": "heb26i",
         "order_date": "29/11/2015",
         "order_id": "HTS-heb26i-0001",
         "pages_visited": 15,
         "tshirt_category": "Black T-Shirt F",
         "tshirt_price": "17,5",
         "tshirt_quantity": 1,
         "user_agent": "Mozilla/5.0 (Windows NT 6.1| Win64| x64) AppleWebKit/537.36 (KHTML, like Gecko) Chrome/56.0.2924.87…",
         "customerID": "heb26i",
         "gender": "F",
         "birthdate": "1984-12-27 00:00:00",
         "ip_address": "62.188.236.61",
         "latitude": 51.5,
         "longitude": -0.129999995,
         "Country Name": "United Kingdom of Great Britain & Northern Ireland",
         "country_code": "GB",
         "city_name": "nan",
         "email": "RPOO@formation.fr",
         "Continent_Name": "Europe",
         "Continent_Code": "EU",
         "Country_Name": "United Kingdom of Great Britain & Northern Ireland",
         "Two_Letter_Country_Code": "GB",
         "Three_Letter_Country_Code": "GBR",
         "Country_Number": 826,
         "_deepnote_index_column": 10
        },
        {
         "customer_id": "989355",
         "order_date": "09/10/2015",
         "order_id": "HTS-989355-0003",
         "pages_visited": 10,
         "tshirt_category": "Hoodie",
         "tshirt_price": "23",
         "tshirt_quantity": 2,
         "user_agent": "Mozilla/5.0 (Windows NT 6.1| WOW64) AppleWebKit/537.36 (KHTML, like Gecko) Chrome/56.0.2924.87 Safa…",
         "customerID": "nan",
         "gender": "nan",
         "birthdate": "nan",
         "ip_address": "nan",
         "latitude": "nan",
         "longitude": "nan",
         "Country Name": "nan",
         "country_code": "nan",
         "city_name": "nan",
         "email": "nan",
         "Continent_Name": "Africa",
         "Continent_Code": "AF",
         "Country_Name": "Namibia, Republic of",
         "Two_Letter_Country_Code": "nan",
         "Three_Letter_Country_Code": "NAM",
         "Country_Number": 516,
         "_deepnote_index_column": 11
        },
        {
         "customer_id": "1b0lnt",
         "order_date": "16/01/2016",
         "order_id": "HTS-1b0lnt-0002",
         "pages_visited": 15,
         "tshirt_category": "White T-Shirt M",
         "tshirt_price": "20",
         "tshirt_quantity": 1,
         "user_agent": "Mozilla/5.0 (X11| Linux x86_64) AppleWebKit/537.36 (KHTML, like Gecko) Chrome/56.0.2924.87 Safari/5…",
         "customerID": "1b0lnt",
         "gender": "F",
         "birthdate": "1981-11-07 00:00:00",
         "ip_address": "117.228.120.81",
         "latitude": 18.5333004,
         "longitude": 73.86669922,
         "Country Name": "India, Republic of",
         "country_code": "IN",
         "city_name": "Poona",
         "email": "RKYX@formation.fr",
         "Continent_Name": "Asia",
         "Continent_Code": "AS",
         "Country_Name": "India, Republic of",
         "Two_Letter_Country_Code": "IN",
         "Three_Letter_Country_Code": "IND",
         "Country_Number": 356,
         "_deepnote_index_column": 12
        },
        {
         "customer_id": "198773",
         "order_date": "17/01/2015",
         "order_id": "HTS-198773-0002",
         "pages_visited": 5,
         "tshirt_category": "White T-Shirt M",
         "tshirt_price": "20",
         "tshirt_quantity": 1,
         "user_agent": "Mozilla/5.0 (Windows NT 10.0| Win64| x64) AppleWebKit/537.36 (KHTML, like Gecko) Chrome/56.0.2924.8…",
         "customerID": "nan",
         "gender": "nan",
         "birthdate": "nan",
         "ip_address": "nan",
         "latitude": "nan",
         "longitude": "nan",
         "Country Name": "nan",
         "country_code": "nan",
         "city_name": "nan",
         "email": "nan",
         "Continent_Name": "Africa",
         "Continent_Code": "AF",
         "Country_Name": "Namibia, Republic of",
         "Two_Letter_Country_Code": "nan",
         "Three_Letter_Country_Code": "NAM",
         "Country_Number": 516,
         "_deepnote_index_column": 13
        },
        {
         "customer_id": "476084",
         "order_date": "20/07/2014",
         "order_id": "HTS-476084-0001",
         "pages_visited": 11,
         "tshirt_category": "White T-Shirt M",
         "tshirt_price": "20",
         "tshirt_quantity": 2,
         "user_agent": "Mozilla/5.0 (Windows NT 10.0| Win64| x64) AppleWebKit/537.36 (KHTML, like Gecko) Chrome/56.0.2924.8…",
         "customerID": "nan",
         "gender": "nan",
         "birthdate": "nan",
         "ip_address": "nan",
         "latitude": "nan",
         "longitude": "nan",
         "Country Name": "nan",
         "country_code": "nan",
         "city_name": "nan",
         "email": "nan",
         "Continent_Name": "Africa",
         "Continent_Code": "AF",
         "Country_Name": "Namibia, Republic of",
         "Two_Letter_Country_Code": "nan",
         "Three_Letter_Country_Code": "NAM",
         "Country_Number": 516,
         "_deepnote_index_column": 14
        },
        {
         "customer_id": "907041",
         "order_date": "20/05/2016",
         "order_id": "HTS-907041-0002",
         "pages_visited": 14,
         "tshirt_category": "White T-Shirt F",
         "tshirt_price": "18",
         "tshirt_quantity": 3,
         "user_agent": "Mozilla/5.0 (Windows NT 6.1| WOW64| rv:51.0) Gecko/20100101 Firefox/51.0",
         "customerID": "nan",
         "gender": "nan",
         "birthdate": "nan",
         "ip_address": "nan",
         "latitude": "nan",
         "longitude": "nan",
         "Country Name": "nan",
         "country_code": "nan",
         "city_name": "nan",
         "email": "nan",
         "Continent_Name": "Africa",
         "Continent_Code": "AF",
         "Country_Name": "Namibia, Republic of",
         "Two_Letter_Country_Code": "nan",
         "Three_Letter_Country_Code": "NAM",
         "Country_Number": 516,
         "_deepnote_index_column": 15
        },
        {
         "customer_id": "399607",
         "order_date": "09/03/2014",
         "order_id": "HTS-399607-0002",
         "pages_visited": 12,
         "tshirt_category": "White T-Shirt M",
         "tshirt_price": "20",
         "tshirt_quantity": 5,
         "user_agent": "Mozilla/5.0 (Windows NT 6.1| WOW64) AppleWebKit/537.36 (KHTML, like Gecko) Chrome/56.0.2924.87 Safa…",
         "customerID": "nan",
         "gender": "nan",
         "birthdate": "nan",
         "ip_address": "nan",
         "latitude": "nan",
         "longitude": "nan",
         "Country Name": "nan",
         "country_code": "nan",
         "city_name": "nan",
         "email": "nan",
         "Continent_Name": "Africa",
         "Continent_Code": "AF",
         "Country_Name": "Namibia, Republic of",
         "Two_Letter_Country_Code": "nan",
         "Three_Letter_Country_Code": "NAM",
         "Country_Number": 516,
         "_deepnote_index_column": 16
        },
        {
         "customer_id": "610587",
         "order_date": "08/01/2017",
         "order_id": "HTS-610587-0004",
         "pages_visited": 5,
         "tshirt_category": "Hoodie",
         "tshirt_price": "23",
         "tshirt_quantity": 1,
         "user_agent": "Mozilla/5.0 (X11| Linux x86_64) AppleWebKit/537.36 (KHTML, like Gecko) Chrome/56.0.2924.87 Safari/5…",
         "customerID": "nan",
         "gender": "nan",
         "birthdate": "nan",
         "ip_address": "nan",
         "latitude": "nan",
         "longitude": "nan",
         "Country Name": "nan",
         "country_code": "nan",
         "city_name": "nan",
         "email": "nan",
         "Continent_Name": "Africa",
         "Continent_Code": "AF",
         "Country_Name": "Namibia, Republic of",
         "Two_Letter_Country_Code": "nan",
         "Three_Letter_Country_Code": "NAM",
         "Country_Number": 516,
         "_deepnote_index_column": 17
        },
        {
         "customer_id": "707341",
         "order_date": "03/10/2014",
         "order_id": "HTS-707341-0003",
         "pages_visited": 8,
         "tshirt_category": "Black T-Shirt M",
         "tshirt_price": "19",
         "tshirt_quantity": 3,
         "user_agent": "Mozilla/5.0 (Macintosh| Intel Mac OS X 10_12_3) AppleWebKit/602.4.8 (KHTML, like Gecko) Version/10.…",
         "customerID": "nan",
         "gender": "nan",
         "birthdate": "nan",
         "ip_address": "nan",
         "latitude": "nan",
         "longitude": "nan",
         "Country Name": "nan",
         "country_code": "nan",
         "city_name": "nan",
         "email": "nan",
         "Continent_Name": "Africa",
         "Continent_Code": "AF",
         "Country_Name": "Namibia, Republic of",
         "Two_Letter_Country_Code": "nan",
         "Three_Letter_Country_Code": "NAM",
         "Country_Number": 516,
         "_deepnote_index_column": 18
        },
        {
         "customer_id": "pq3m7c",
         "order_date": "08/09/2015",
         "order_id": "HTS-pq3m7c-0001",
         "pages_visited": 11,
         "tshirt_category": "Hoodie",
         "tshirt_price": "23",
         "tshirt_quantity": 1,
         "user_agent": "Mozilla/5.0 (Windows NT 6.1| WOW64| rv:52.0) Gecko/20100101 Firefox/52.0",
         "customerID": "pq3m7c",
         "gender": "M",
         "birthdate": "1992-01-19 00:00:00",
         "ip_address": "97.77.88.191",
         "latitude": 38,
         "longitude": -97,
         "Country Name": "United States of America",
         "country_code": "US",
         "city_name": "nan",
         "email": "ZAIT@formation.fr",
         "Continent_Name": "North America",
         "Continent_Code": "nan",
         "Country_Name": "United States of America",
         "Two_Letter_Country_Code": "US",
         "Three_Letter_Country_Code": "USA",
         "Country_Number": 840,
         "_deepnote_index_column": 19
        }
       ],
       "rows_bottom": [
        {
         "customer_id": "676955",
         "order_date": "25/12/2014",
         "order_id": "HTS-676955-0001",
         "pages_visited": 9,
         "tshirt_category": "Tennis Shirt",
         "tshirt_price": "24",
         "tshirt_quantity": 4,
         "user_agent": "Mozilla/5.0 (Windows NT 6.1| WOW64| rv:51.0) Gecko/20100101 Firefox/51.0",
         "customerID": "nan",
         "gender": "nan",
         "birthdate": "nan",
         "ip_address": "nan",
         "latitude": "nan",
         "longitude": "nan",
         "Country Name": "nan",
         "country_code": "nan",
         "city_name": "nan",
         "email": "nan",
         "Continent_Name": "Africa",
         "Continent_Code": "AF",
         "Country_Name": "Namibia, Republic of",
         "Two_Letter_Country_Code": "nan",
         "Three_Letter_Country_Code": "NAM",
         "Country_Number": 516,
         "_deepnote_index_column": 12900
        },
        {
         "customer_id": "278313",
         "order_date": "09/04/2016",
         "order_id": "HTS-278313-0004",
         "pages_visited": 15,
         "tshirt_category": "Tennis Shirt",
         "tshirt_price": "24",
         "tshirt_quantity": 13,
         "user_agent": "Mozilla/5.0 (Windows NT 6.1| WOW64| rv:51.0) Gecko/20100101 Firefox/51.0",
         "customerID": "nan",
         "gender": "nan",
         "birthdate": "nan",
         "ip_address": "nan",
         "latitude": "nan",
         "longitude": "nan",
         "Country Name": "nan",
         "country_code": "nan",
         "city_name": "nan",
         "email": "nan",
         "Continent_Name": "Africa",
         "Continent_Code": "AF",
         "Country_Name": "Namibia, Republic of",
         "Two_Letter_Country_Code": "nan",
         "Three_Letter_Country_Code": "NAM",
         "Country_Number": 516,
         "_deepnote_index_column": 12901
        },
        {
         "customer_id": "el0sj8",
         "order_date": "12/01/2017",
         "order_id": "HTS-el0sj8-0004",
         "pages_visited": 6,
         "tshirt_category": "Tennis Shirt",
         "tshirt_price": "24",
         "tshirt_quantity": 1,
         "user_agent": "Mozilla/5.0 (Windows NT 6.1| Win64| x64) AppleWebKit/537.36 (KHTML, like Gecko) Chrome/56.0.2924.87…",
         "customerID": "nan",
         "gender": "nan",
         "birthdate": "nan",
         "ip_address": "nan",
         "latitude": "nan",
         "longitude": "nan",
         "Country Name": "nan",
         "country_code": "nan",
         "city_name": "nan",
         "email": "nan",
         "Continent_Name": "Africa",
         "Continent_Code": "AF",
         "Country_Name": "Namibia, Republic of",
         "Two_Letter_Country_Code": "nan",
         "Three_Letter_Country_Code": "NAM",
         "Country_Number": 516,
         "_deepnote_index_column": 12902
        },
        {
         "customer_id": "545790",
         "order_date": "16/07/2015",
         "order_id": "HTS-545790-0005",
         "pages_visited": 6,
         "tshirt_category": "Tennis Shirt",
         "tshirt_price": "24",
         "tshirt_quantity": 3,
         "user_agent": "Mozilla/5.0 (Windows NT 6.1| Win64| x64) AppleWebKit/537.36 (KHTML, like Gecko) Chrome/56.0.2924.87…",
         "customerID": "nan",
         "gender": "nan",
         "birthdate": "nan",
         "ip_address": "nan",
         "latitude": "nan",
         "longitude": "nan",
         "Country Name": "nan",
         "country_code": "nan",
         "city_name": "nan",
         "email": "nan",
         "Continent_Name": "Africa",
         "Continent_Code": "AF",
         "Country_Name": "Namibia, Republic of",
         "Two_Letter_Country_Code": "nan",
         "Three_Letter_Country_Code": "NAM",
         "Country_Number": 516,
         "_deepnote_index_column": 12903
        },
        {
         "customer_id": "585862",
         "order_date": "19/11/2015",
         "order_id": "HTS-585862-0004",
         "pages_visited": 7,
         "tshirt_category": "Tennis Shirt",
         "tshirt_price": "24",
         "tshirt_quantity": 14,
         "user_agent": "Mozilla/5.0 (Windows NT 6.1| Win64| x64) AppleWebKit/537.36 (KHTML, like Gecko) Chrome/56.0.2924.87…",
         "customerID": "nan",
         "gender": "nan",
         "birthdate": "nan",
         "ip_address": "nan",
         "latitude": "nan",
         "longitude": "nan",
         "Country Name": "nan",
         "country_code": "nan",
         "city_name": "nan",
         "email": "nan",
         "Continent_Name": "Africa",
         "Continent_Code": "AF",
         "Country_Name": "Namibia, Republic of",
         "Two_Letter_Country_Code": "nan",
         "Three_Letter_Country_Code": "NAM",
         "Country_Number": 516,
         "_deepnote_index_column": 12904
        },
        {
         "customer_id": "585862",
         "order_date": "17/02/2015",
         "order_id": "HTS-585862-0003",
         "pages_visited": 8,
         "tshirt_category": "Tennis Shirt",
         "tshirt_price": "24",
         "tshirt_quantity": 18,
         "user_agent": "Mozilla/5.0 (Windows NT 6.1| Win64| x64) AppleWebKit/537.36 (KHTML, like Gecko) Chrome/56.0.2924.87…",
         "customerID": "nan",
         "gender": "nan",
         "birthdate": "nan",
         "ip_address": "nan",
         "latitude": "nan",
         "longitude": "nan",
         "Country Name": "nan",
         "country_code": "nan",
         "city_name": "nan",
         "email": "nan",
         "Continent_Name": "Africa",
         "Continent_Code": "AF",
         "Country_Name": "Namibia, Republic of",
         "Two_Letter_Country_Code": "nan",
         "Three_Letter_Country_Code": "NAM",
         "Country_Number": 516,
         "_deepnote_index_column": 12905
        },
        {
         "customer_id": "539658",
         "order_date": "29/12/2015",
         "order_id": "HTS-539658-0003",
         "pages_visited": 9,
         "tshirt_category": "Tennis Shirt",
         "tshirt_price": "24",
         "tshirt_quantity": 6,
         "user_agent": "Mozilla/5.0 (Windows NT 6.1| Win64| x64) AppleWebKit/537.36 (KHTML, like Gecko) Chrome/56.0.2924.87…",
         "customerID": "nan",
         "gender": "nan",
         "birthdate": "nan",
         "ip_address": "nan",
         "latitude": "nan",
         "longitude": "nan",
         "Country Name": "nan",
         "country_code": "nan",
         "city_name": "nan",
         "email": "nan",
         "Continent_Name": "Africa",
         "Continent_Code": "AF",
         "Country_Name": "Namibia, Republic of",
         "Two_Letter_Country_Code": "nan",
         "Three_Letter_Country_Code": "NAM",
         "Country_Number": 516,
         "_deepnote_index_column": 12906
        },
        {
         "customer_id": "187195",
         "order_date": "30/03/2016",
         "order_id": "HTS-187195-0003",
         "pages_visited": 10,
         "tshirt_category": "Tennis Shirt",
         "tshirt_price": "24",
         "tshirt_quantity": 5,
         "user_agent": "Mozilla/5.0 (Windows NT 6.1| Win64| x64) AppleWebKit/537.36 (KHTML, like Gecko) Chrome/56.0.2924.87…",
         "customerID": "nan",
         "gender": "nan",
         "birthdate": "nan",
         "ip_address": "nan",
         "latitude": "nan",
         "longitude": "nan",
         "Country Name": "nan",
         "country_code": "nan",
         "city_name": "nan",
         "email": "nan",
         "Continent_Name": "Africa",
         "Continent_Code": "AF",
         "Country_Name": "Namibia, Republic of",
         "Two_Letter_Country_Code": "nan",
         "Three_Letter_Country_Code": "NAM",
         "Country_Number": 516,
         "_deepnote_index_column": 12907
        },
        {
         "customer_id": "449243",
         "order_date": "09/06/2016",
         "order_id": "HTS-449243-0002",
         "pages_visited": 11,
         "tshirt_category": "Tennis Shirt",
         "tshirt_price": "24",
         "tshirt_quantity": 1,
         "user_agent": "Mozilla/5.0 (Windows NT 6.1| Win64| x64) AppleWebKit/537.36 (KHTML, like Gecko) Chrome/56.0.2924.87…",
         "customerID": "nan",
         "gender": "nan",
         "birthdate": "nan",
         "ip_address": "nan",
         "latitude": "nan",
         "longitude": "nan",
         "Country Name": "nan",
         "country_code": "nan",
         "city_name": "nan",
         "email": "nan",
         "Continent_Name": "Africa",
         "Continent_Code": "AF",
         "Country_Name": "Namibia, Republic of",
         "Two_Letter_Country_Code": "nan",
         "Three_Letter_Country_Code": "NAM",
         "Country_Number": 516,
         "_deepnote_index_column": 12908
        },
        {
         "customer_id": "83318",
         "order_date": "01/08/2016",
         "order_id": "HTS-083318-0005",
         "pages_visited": 11,
         "tshirt_category": "Tennis Shirt",
         "tshirt_price": "24",
         "tshirt_quantity": 2,
         "user_agent": "Mozilla/5.0 (Windows NT 6.1| Win64| x64) AppleWebKit/537.36 (KHTML, like Gecko) Chrome/56.0.2924.87…",
         "customerID": "nan",
         "gender": "nan",
         "birthdate": "nan",
         "ip_address": "nan",
         "latitude": "nan",
         "longitude": "nan",
         "Country Name": "nan",
         "country_code": "nan",
         "city_name": "nan",
         "email": "nan",
         "Continent_Name": "Africa",
         "Continent_Code": "AF",
         "Country_Name": "Namibia, Republic of",
         "Two_Letter_Country_Code": "nan",
         "Three_Letter_Country_Code": "NAM",
         "Country_Number": 516,
         "_deepnote_index_column": 12909
        },
        {
         "customer_id": "453848",
         "order_date": "18/07/2013",
         "order_id": "HTS-453848-0001",
         "pages_visited": 11,
         "tshirt_category": "Tennis Shirt",
         "tshirt_price": "24",
         "tshirt_quantity": 3,
         "user_agent": "Mozilla/5.0 (Windows NT 6.1| Win64| x64) AppleWebKit/537.36 (KHTML, like Gecko) Chrome/56.0.2924.87…",
         "customerID": "nan",
         "gender": "nan",
         "birthdate": "nan",
         "ip_address": "nan",
         "latitude": "nan",
         "longitude": "nan",
         "Country Name": "nan",
         "country_code": "nan",
         "city_name": "nan",
         "email": "nan",
         "Continent_Name": "Africa",
         "Continent_Code": "AF",
         "Country_Name": "Namibia, Republic of",
         "Two_Letter_Country_Code": "nan",
         "Three_Letter_Country_Code": "NAM",
         "Country_Number": 516,
         "_deepnote_index_column": 12910
        },
        {
         "customer_id": "83318",
         "order_date": "28/02/2015",
         "order_id": "HTS-083318-0003",
         "pages_visited": 12,
         "tshirt_category": "Tennis Shirt",
         "tshirt_price": "24",
         "tshirt_quantity": 3,
         "user_agent": "Mozilla/5.0 (Windows NT 6.1| Win64| x64) AppleWebKit/537.36 (KHTML, like Gecko) Chrome/56.0.2924.87…",
         "customerID": "nan",
         "gender": "nan",
         "birthdate": "nan",
         "ip_address": "nan",
         "latitude": "nan",
         "longitude": "nan",
         "Country Name": "nan",
         "country_code": "nan",
         "city_name": "nan",
         "email": "nan",
         "Continent_Name": "Africa",
         "Continent_Code": "AF",
         "Country_Name": "Namibia, Republic of",
         "Two_Letter_Country_Code": "nan",
         "Three_Letter_Country_Code": "NAM",
         "Country_Number": 516,
         "_deepnote_index_column": 12911
        },
        {
         "customer_id": "287913",
         "order_date": "25/12/2014",
         "order_id": "HTS-287913-0002",
         "pages_visited": 11,
         "tshirt_category": "Tennis Shirt",
         "tshirt_price": "24",
         "tshirt_quantity": 1,
         "user_agent": "Mozilla/5.0 (Windows NT 6.3| WOW64) AppleWebKit/537.36 (KHTML, like Gecko) Chrome/56.0.2924.87 Safa…",
         "customerID": "nan",
         "gender": "nan",
         "birthdate": "nan",
         "ip_address": "nan",
         "latitude": "nan",
         "longitude": "nan",
         "Country Name": "nan",
         "country_code": "nan",
         "city_name": "nan",
         "email": "nan",
         "Continent_Name": "Africa",
         "Continent_Code": "AF",
         "Country_Name": "Namibia, Republic of",
         "Two_Letter_Country_Code": "nan",
         "Three_Letter_Country_Code": "NAM",
         "Country_Number": 516,
         "_deepnote_index_column": 12912
        },
        {
         "customer_id": "534599",
         "order_date": "23/06/2014",
         "order_id": "HTS-534599-0001",
         "pages_visited": 9,
         "tshirt_category": "Tennis Shirt",
         "tshirt_price": "24",
         "tshirt_quantity": 3,
         "user_agent": "Mozilla/5.0 (X11| Linux x86_64) AppleWebKit/537.36 (KHTML, like Gecko) Chrome/56.0.2924.87 Safari/5…",
         "customerID": "nan",
         "gender": "nan",
         "birthdate": "nan",
         "ip_address": "nan",
         "latitude": "nan",
         "longitude": "nan",
         "Country Name": "nan",
         "country_code": "nan",
         "city_name": "nan",
         "email": "nan",
         "Continent_Name": "Africa",
         "Continent_Code": "AF",
         "Country_Name": "Namibia, Republic of",
         "Two_Letter_Country_Code": "nan",
         "Three_Letter_Country_Code": "NAM",
         "Country_Number": 516,
         "_deepnote_index_column": 12913
        },
        {
         "customer_id": "467894",
         "order_date": "14/10/2015",
         "order_id": "HTS-467894-0003",
         "pages_visited": 11,
         "tshirt_category": "Tennis Shirt",
         "tshirt_price": "24",
         "tshirt_quantity": 1,
         "user_agent": "Mozilla/5.0 (X11| Linux x86_64) AppleWebKit/537.36 (KHTML, like Gecko) Chrome/56.0.2924.87 Safari/5…",
         "customerID": "nan",
         "gender": "nan",
         "birthdate": "nan",
         "ip_address": "nan",
         "latitude": "nan",
         "longitude": "nan",
         "Country Name": "nan",
         "country_code": "nan",
         "city_name": "nan",
         "email": "nan",
         "Continent_Name": "Africa",
         "Continent_Code": "AF",
         "Country_Name": "Namibia, Republic of",
         "Two_Letter_Country_Code": "nan",
         "Three_Letter_Country_Code": "NAM",
         "Country_Number": 516,
         "_deepnote_index_column": 12914
        },
        {
         "customer_id": "371776",
         "order_date": "04/05/2015",
         "order_id": "HTS-371776-0002",
         "pages_visited": 16,
         "tshirt_category": "Tennis Shirt",
         "tshirt_price": "24",
         "tshirt_quantity": 2,
         "user_agent": "Mozilla/5.0 (X11| Linux x86_64) AppleWebKit/537.36 (KHTML, like Gecko) Chrome/56.0.2924.87 Safari/5…",
         "customerID": "nan",
         "gender": "nan",
         "birthdate": "nan",
         "ip_address": "nan",
         "latitude": "nan",
         "longitude": "nan",
         "Country Name": "nan",
         "country_code": "nan",
         "city_name": "nan",
         "email": "nan",
         "Continent_Name": "Africa",
         "Continent_Code": "AF",
         "Country_Name": "Namibia, Republic of",
         "Two_Letter_Country_Code": "nan",
         "Three_Letter_Country_Code": "NAM",
         "Country_Number": 516,
         "_deepnote_index_column": 12915
        },
        {
         "customer_id": "0b59cn",
         "order_date": "12/12/2016",
         "order_id": "HTS-0b59cn-0004",
         "pages_visited": 8,
         "tshirt_category": "Tennis Shirt",
         "tshirt_price": "24",
         "tshirt_quantity": 5,
         "user_agent": "Mozilla/5.0 (X11| Ubuntu| Linux x86_64| rv:51.0) Gecko/20100101 Firefox/51.0",
         "customerID": "nan",
         "gender": "nan",
         "birthdate": "nan",
         "ip_address": "nan",
         "latitude": "nan",
         "longitude": "nan",
         "Country Name": "nan",
         "country_code": "nan",
         "city_name": "nan",
         "email": "nan",
         "Continent_Name": "Africa",
         "Continent_Code": "AF",
         "Country_Name": "Namibia, Republic of",
         "Two_Letter_Country_Code": "nan",
         "Three_Letter_Country_Code": "NAM",
         "Country_Number": 516,
         "_deepnote_index_column": 12916
        },
        {
         "customer_id": "357322",
         "order_date": "10/12/2016",
         "order_id": "HTS-357322-0007",
         "pages_visited": 5,
         "tshirt_category": "Tennis Shirt",
         "tshirt_price": "24",
         "tshirt_quantity": 3,
         "user_agent": "Mozilla/5.0 (Windows NT 10.0| WOW64) AppleWebKit/537.36 (KHTML, like Gecko) Chrome/56.0.2924.87 Saf…",
         "customerID": "nan",
         "gender": "nan",
         "birthdate": "nan",
         "ip_address": "nan",
         "latitude": "nan",
         "longitude": "nan",
         "Country Name": "nan",
         "country_code": "nan",
         "city_name": "nan",
         "email": "nan",
         "Continent_Name": "Africa",
         "Continent_Code": "AF",
         "Country_Name": "Namibia, Republic of",
         "Two_Letter_Country_Code": "nan",
         "Three_Letter_Country_Code": "NAM",
         "Country_Number": 516,
         "_deepnote_index_column": 12917
        },
        {
         "customer_id": "l8c64t",
         "order_date": "01/03/2017",
         "order_id": "HTS-l8c64t-0003",
         "pages_visited": 7,
         "tshirt_category": "Tennis Shirt",
         "tshirt_price": "24",
         "tshirt_quantity": 2,
         "user_agent": "Mozilla/5.0 (Windows NT 10.0| WOW64| rv:52.0) Gecko/20100101 Firefox/52.0",
         "customerID": "nan",
         "gender": "nan",
         "birthdate": "nan",
         "ip_address": "nan",
         "latitude": "nan",
         "longitude": "nan",
         "Country Name": "nan",
         "country_code": "nan",
         "city_name": "nan",
         "email": "nan",
         "Continent_Name": "Africa",
         "Continent_Code": "AF",
         "Country_Name": "Namibia, Republic of",
         "Two_Letter_Country_Code": "nan",
         "Three_Letter_Country_Code": "NAM",
         "Country_Number": 516,
         "_deepnote_index_column": 12918
        },
        {
         "customer_id": "946557",
         "order_date": "21/07/2016",
         "order_id": "HTS-946557-0005",
         "pages_visited": 5,
         "tshirt_category": "Tennis Shirt",
         "tshirt_price": "24",
         "tshirt_quantity": 2,
         "user_agent": "Mozilla/5.0 (Windows NT 10.0| Win64| x64) AppleWebKit/537.36 (KHTML, like Gecko) Chrome/56.0.2924.8…",
         "customerID": "nan",
         "gender": "nan",
         "birthdate": "nan",
         "ip_address": "nan",
         "latitude": "nan",
         "longitude": "nan",
         "Country Name": "nan",
         "country_code": "nan",
         "city_name": "nan",
         "email": "nan",
         "Continent_Name": "Africa",
         "Continent_Code": "AF",
         "Country_Name": "Namibia, Republic of",
         "Two_Letter_Country_Code": "nan",
         "Three_Letter_Country_Code": "NAM",
         "Country_Number": 516,
         "_deepnote_index_column": 12919
        },
        {
         "customer_id": "1bhyje",
         "order_date": "22/06/2016",
         "order_id": "HTS-1bhyje-0002",
         "pages_visited": 17,
         "tshirt_category": "Tennis Shirt",
         "tshirt_price": "24",
         "tshirt_quantity": 1,
         "user_agent": "Mozilla/5.0 (X11| Linux x86_64) AppleWebKit/537.36 (KHTML, like Gecko) Chrome/56.0.2924.87 Safari/5…",
         "customerID": "nan",
         "gender": "nan",
         "birthdate": "nan",
         "ip_address": "nan",
         "latitude": "nan",
         "longitude": "nan",
         "Country Name": "nan",
         "country_code": "nan",
         "city_name": "nan",
         "email": "nan",
         "Continent_Name": "Africa",
         "Continent_Code": "AF",
         "Country_Name": "Namibia, Republic of",
         "Two_Letter_Country_Code": "nan",
         "Three_Letter_Country_Code": "NAM",
         "Country_Number": 516,
         "_deepnote_index_column": 12920
        }
       ]
      },
      "text/plain": "      customer_id  order_date         order_id  pages_visited  \\\n0           38040  04/09/2016  HTS-038040-0002              9   \n1          vft1eu  26/02/2017  HTS-vft1eu-0003             10   \n2          914324  01/12/2013  HTS-914324-0001             10   \n3           61311  15/01/2016  HTS-061311-0003              9   \n4          494332  03/11/2013  HTS-494332-0001             10   \n...           ...         ...              ...            ...   \n12916      0b59cn  12/12/2016  HTS-0b59cn-0004              8   \n12917      357322  10/12/2016  HTS-357322-0007              5   \n12918      l8c64t  01/03/2017  HTS-l8c64t-0003              7   \n12919      946557  21/07/2016  HTS-946557-0005              5   \n12920      1bhyje  22/06/2016  HTS-1bhyje-0002             17   \n\n       tshirt_category tshirt_price  tshirt_quantity  \\\n0      White T-Shirt M           20                1   \n1      White T-Shirt F           18                3   \n2          Wh Tshirt F           18                1   \n3      Black T-Shirt F         17,5                4   \n4          Wh Tshirt F           18                2   \n...                ...          ...              ...   \n12916     Tennis Shirt           24                5   \n12917     Tennis Shirt           24                3   \n12918     Tennis Shirt           24                2   \n12919     Tennis Shirt           24                2   \n12920     Tennis Shirt           24                1   \n\n                                              user_agent customerID gender  \\\n0      Mozilla/5.0 (Windows NT 10.0| WOW64) AppleWebK...        NaN    NaN   \n1      Mozilla/5.0 (Macintosh| Intel Mac OS X 10_12_3...     vft1eu      F   \n2      Mozilla/5.0 (Windows NT 10.0| WOW64) AppleWebK...        NaN    NaN   \n3      Mozilla/5.0 (Macintosh| Intel Mac OS X 10_12_3...        NaN    NaN   \n4      Mozilla/5.0 (Macintosh| Intel Mac OS X 10_11_6...        NaN    NaN   \n...                                                  ...        ...    ...   \n12916  Mozilla/5.0 (X11| Ubuntu| Linux x86_64| rv:51....        NaN    NaN   \n12917  Mozilla/5.0 (Windows NT 10.0| WOW64) AppleWebK...        NaN    NaN   \n12918  Mozilla/5.0 (Windows NT 10.0| WOW64| rv:52.0) ...        NaN    NaN   \n12919  Mozilla/5.0 (Windows NT 10.0| Win64| x64) Appl...        NaN    NaN   \n12920  Mozilla/5.0 (X11| Linux x86_64) AppleWebKit/53...        NaN    NaN   \n\n       ...                  Country Name country_code  city_name  \\\n0      ...                           NaN          NaN        NaN   \n1      ...  Germany, Federal Republic of           DE        NaN   \n2      ...                           NaN          NaN        NaN   \n3      ...                           NaN          NaN        NaN   \n4      ...                           NaN          NaN        NaN   \n...    ...                           ...          ...        ...   \n12916  ...                           NaN          NaN        NaN   \n12917  ...                           NaN          NaN        NaN   \n12918  ...                           NaN          NaN        NaN   \n12919  ...                           NaN          NaN        NaN   \n12920  ...                           NaN          NaN        NaN   \n\n                   email Continent_Name Continent_Code  \\\n0                    NaN         Africa             AF   \n1      HEOX@formation.fr         Europe             EU   \n2                    NaN         Africa             AF   \n3                    NaN         Africa             AF   \n4                    NaN         Africa             AF   \n...                  ...            ...            ...   \n12916                NaN         Africa             AF   \n12917                NaN         Africa             AF   \n12918                NaN         Africa             AF   \n12919                NaN         Africa             AF   \n12920                NaN         Africa             AF   \n\n                       Country_Name Two_Letter_Country_Code  \\\n0              Namibia, Republic of                     NaN   \n1      Germany, Federal Republic of                      DE   \n2              Namibia, Republic of                     NaN   \n3              Namibia, Republic of                     NaN   \n4              Namibia, Republic of                     NaN   \n...                             ...                     ...   \n12916          Namibia, Republic of                     NaN   \n12917          Namibia, Republic of                     NaN   \n12918          Namibia, Republic of                     NaN   \n12919          Namibia, Republic of                     NaN   \n12920          Namibia, Republic of                     NaN   \n\n      Three_Letter_Country_Code Country_Number  \n0                           NAM          516.0  \n1                           DEU          276.0  \n2                           NAM          516.0  \n3                           NAM          516.0  \n4                           NAM          516.0  \n...                         ...            ...  \n12916                       NAM          516.0  \n12917                       NAM          516.0  \n12918                       NAM          516.0  \n12919                       NAM          516.0  \n12920                       NAM          516.0  \n\n[12921 rows x 24 columns]",
      "text/html": "<div>\n<style scoped>\n    .dataframe tbody tr th:only-of-type {\n        vertical-align: middle;\n    }\n\n    .dataframe tbody tr th {\n        vertical-align: top;\n    }\n\n    .dataframe thead th {\n        text-align: right;\n    }\n</style>\n<table border=\"1\" class=\"dataframe\">\n  <thead>\n    <tr style=\"text-align: right;\">\n      <th></th>\n      <th>customer_id</th>\n      <th>order_date</th>\n      <th>order_id</th>\n      <th>pages_visited</th>\n      <th>tshirt_category</th>\n      <th>tshirt_price</th>\n      <th>tshirt_quantity</th>\n      <th>user_agent</th>\n      <th>customerID</th>\n      <th>gender</th>\n      <th>...</th>\n      <th>Country Name</th>\n      <th>country_code</th>\n      <th>city_name</th>\n      <th>email</th>\n      <th>Continent_Name</th>\n      <th>Continent_Code</th>\n      <th>Country_Name</th>\n      <th>Two_Letter_Country_Code</th>\n      <th>Three_Letter_Country_Code</th>\n      <th>Country_Number</th>\n    </tr>\n  </thead>\n  <tbody>\n    <tr>\n      <th>0</th>\n      <td>38040</td>\n      <td>04/09/2016</td>\n      <td>HTS-038040-0002</td>\n      <td>9</td>\n      <td>White T-Shirt M</td>\n      <td>20</td>\n      <td>1</td>\n      <td>Mozilla/5.0 (Windows NT 10.0| WOW64) AppleWebK...</td>\n      <td>NaN</td>\n      <td>NaN</td>\n      <td>...</td>\n      <td>NaN</td>\n      <td>NaN</td>\n      <td>NaN</td>\n      <td>NaN</td>\n      <td>Africa</td>\n      <td>AF</td>\n      <td>Namibia, Republic of</td>\n      <td>NaN</td>\n      <td>NAM</td>\n      <td>516.0</td>\n    </tr>\n    <tr>\n      <th>1</th>\n      <td>vft1eu</td>\n      <td>26/02/2017</td>\n      <td>HTS-vft1eu-0003</td>\n      <td>10</td>\n      <td>White T-Shirt F</td>\n      <td>18</td>\n      <td>3</td>\n      <td>Mozilla/5.0 (Macintosh| Intel Mac OS X 10_12_3...</td>\n      <td>vft1eu</td>\n      <td>F</td>\n      <td>...</td>\n      <td>Germany, Federal Republic of</td>\n      <td>DE</td>\n      <td>NaN</td>\n      <td>HEOX@formation.fr</td>\n      <td>Europe</td>\n      <td>EU</td>\n      <td>Germany, Federal Republic of</td>\n      <td>DE</td>\n      <td>DEU</td>\n      <td>276.0</td>\n    </tr>\n    <tr>\n      <th>2</th>\n      <td>914324</td>\n      <td>01/12/2013</td>\n      <td>HTS-914324-0001</td>\n      <td>10</td>\n      <td>Wh Tshirt F</td>\n      <td>18</td>\n      <td>1</td>\n      <td>Mozilla/5.0 (Windows NT 10.0| WOW64) AppleWebK...</td>\n      <td>NaN</td>\n      <td>NaN</td>\n      <td>...</td>\n      <td>NaN</td>\n      <td>NaN</td>\n      <td>NaN</td>\n      <td>NaN</td>\n      <td>Africa</td>\n      <td>AF</td>\n      <td>Namibia, Republic of</td>\n      <td>NaN</td>\n      <td>NAM</td>\n      <td>516.0</td>\n    </tr>\n    <tr>\n      <th>3</th>\n      <td>61311</td>\n      <td>15/01/2016</td>\n      <td>HTS-061311-0003</td>\n      <td>9</td>\n      <td>Black T-Shirt F</td>\n      <td>17,5</td>\n      <td>4</td>\n      <td>Mozilla/5.0 (Macintosh| Intel Mac OS X 10_12_3...</td>\n      <td>NaN</td>\n      <td>NaN</td>\n      <td>...</td>\n      <td>NaN</td>\n      <td>NaN</td>\n      <td>NaN</td>\n      <td>NaN</td>\n      <td>Africa</td>\n      <td>AF</td>\n      <td>Namibia, Republic of</td>\n      <td>NaN</td>\n      <td>NAM</td>\n      <td>516.0</td>\n    </tr>\n    <tr>\n      <th>4</th>\n      <td>494332</td>\n      <td>03/11/2013</td>\n      <td>HTS-494332-0001</td>\n      <td>10</td>\n      <td>Wh Tshirt F</td>\n      <td>18</td>\n      <td>2</td>\n      <td>Mozilla/5.0 (Macintosh| Intel Mac OS X 10_11_6...</td>\n      <td>NaN</td>\n      <td>NaN</td>\n      <td>...</td>\n      <td>NaN</td>\n      <td>NaN</td>\n      <td>NaN</td>\n      <td>NaN</td>\n      <td>Africa</td>\n      <td>AF</td>\n      <td>Namibia, Republic of</td>\n      <td>NaN</td>\n      <td>NAM</td>\n      <td>516.0</td>\n    </tr>\n    <tr>\n      <th>...</th>\n      <td>...</td>\n      <td>...</td>\n      <td>...</td>\n      <td>...</td>\n      <td>...</td>\n      <td>...</td>\n      <td>...</td>\n      <td>...</td>\n      <td>...</td>\n      <td>...</td>\n      <td>...</td>\n      <td>...</td>\n      <td>...</td>\n      <td>...</td>\n      <td>...</td>\n      <td>...</td>\n      <td>...</td>\n      <td>...</td>\n      <td>...</td>\n      <td>...</td>\n      <td>...</td>\n    </tr>\n    <tr>\n      <th>12916</th>\n      <td>0b59cn</td>\n      <td>12/12/2016</td>\n      <td>HTS-0b59cn-0004</td>\n      <td>8</td>\n      <td>Tennis Shirt</td>\n      <td>24</td>\n      <td>5</td>\n      <td>Mozilla/5.0 (X11| Ubuntu| Linux x86_64| rv:51....</td>\n      <td>NaN</td>\n      <td>NaN</td>\n      <td>...</td>\n      <td>NaN</td>\n      <td>NaN</td>\n      <td>NaN</td>\n      <td>NaN</td>\n      <td>Africa</td>\n      <td>AF</td>\n      <td>Namibia, Republic of</td>\n      <td>NaN</td>\n      <td>NAM</td>\n      <td>516.0</td>\n    </tr>\n    <tr>\n      <th>12917</th>\n      <td>357322</td>\n      <td>10/12/2016</td>\n      <td>HTS-357322-0007</td>\n      <td>5</td>\n      <td>Tennis Shirt</td>\n      <td>24</td>\n      <td>3</td>\n      <td>Mozilla/5.0 (Windows NT 10.0| WOW64) AppleWebK...</td>\n      <td>NaN</td>\n      <td>NaN</td>\n      <td>...</td>\n      <td>NaN</td>\n      <td>NaN</td>\n      <td>NaN</td>\n      <td>NaN</td>\n      <td>Africa</td>\n      <td>AF</td>\n      <td>Namibia, Republic of</td>\n      <td>NaN</td>\n      <td>NAM</td>\n      <td>516.0</td>\n    </tr>\n    <tr>\n      <th>12918</th>\n      <td>l8c64t</td>\n      <td>01/03/2017</td>\n      <td>HTS-l8c64t-0003</td>\n      <td>7</td>\n      <td>Tennis Shirt</td>\n      <td>24</td>\n      <td>2</td>\n      <td>Mozilla/5.0 (Windows NT 10.0| WOW64| rv:52.0) ...</td>\n      <td>NaN</td>\n      <td>NaN</td>\n      <td>...</td>\n      <td>NaN</td>\n      <td>NaN</td>\n      <td>NaN</td>\n      <td>NaN</td>\n      <td>Africa</td>\n      <td>AF</td>\n      <td>Namibia, Republic of</td>\n      <td>NaN</td>\n      <td>NAM</td>\n      <td>516.0</td>\n    </tr>\n    <tr>\n      <th>12919</th>\n      <td>946557</td>\n      <td>21/07/2016</td>\n      <td>HTS-946557-0005</td>\n      <td>5</td>\n      <td>Tennis Shirt</td>\n      <td>24</td>\n      <td>2</td>\n      <td>Mozilla/5.0 (Windows NT 10.0| Win64| x64) Appl...</td>\n      <td>NaN</td>\n      <td>NaN</td>\n      <td>...</td>\n      <td>NaN</td>\n      <td>NaN</td>\n      <td>NaN</td>\n      <td>NaN</td>\n      <td>Africa</td>\n      <td>AF</td>\n      <td>Namibia, Republic of</td>\n      <td>NaN</td>\n      <td>NAM</td>\n      <td>516.0</td>\n    </tr>\n    <tr>\n      <th>12920</th>\n      <td>1bhyje</td>\n      <td>22/06/2016</td>\n      <td>HTS-1bhyje-0002</td>\n      <td>17</td>\n      <td>Tennis Shirt</td>\n      <td>24</td>\n      <td>1</td>\n      <td>Mozilla/5.0 (X11| Linux x86_64) AppleWebKit/53...</td>\n      <td>NaN</td>\n      <td>NaN</td>\n      <td>...</td>\n      <td>NaN</td>\n      <td>NaN</td>\n      <td>NaN</td>\n      <td>NaN</td>\n      <td>Africa</td>\n      <td>AF</td>\n      <td>Namibia, Republic of</td>\n      <td>NaN</td>\n      <td>NAM</td>\n      <td>516.0</td>\n    </tr>\n  </tbody>\n</table>\n<p>12921 rows × 24 columns</p>\n</div>"
     },
     "metadata": {}
    }
   ],
   "execution_count": null
  },
  {
   "cell_type": "code",
   "metadata": {
    "tags": [],
    "cell_id": "00019-bd8d9006-9475-475a-b6dc-84081e2279c6",
    "deepnote_to_be_reexecuted": false,
    "source_hash": "2d071d1",
    "execution_start": 1629806916532,
    "execution_millis": 8,
    "allow_embed": "code_output",
    "is_output_hidden": true,
    "deepnote_cell_type": "code"
   },
   "source": "# Analyze the Frequencies of the categorical column\ndf_final[\"tshirt_category\"].value_counts()",
   "outputs": [
    {
     "output_type": "execute_result",
     "execution_count": 22,
     "data": {
      "text/plain": "Hoodie             3047\nWhite T-Shirt M    2717\nBlack T-Shirt M    2142\nWhite T-Shirt F    1657\nBlack T-Shirt F    1565\nTennis Shirt       1075\nWh Tshirt M         238\nBl Tshirt M         181\nWh Tshirt F         157\nBl Tshirt F         142\nName: tshirt_category, dtype: int64"
     },
     "metadata": {}
    }
   ],
   "execution_count": null
  },
  {
   "cell_type": "code",
   "metadata": {
    "tags": [],
    "cell_id": "00044-87097f6d-d63b-4535-8e59-a578f01ba66f",
    "deepnote_to_be_reexecuted": false,
    "source_hash": "327c7176",
    "execution_start": 1629807202614,
    "execution_millis": 4,
    "is_output_hidden": true,
    "deepnote_cell_type": "code"
   },
   "source": "# Replace the values \ndf_final[\"tshirt_category\"].replace({\"Wh Tshirt M\": \"White T-Shirt M\",\n                                    \"Bl Tshirt M\" : \"Black T-Shirt M\", \n                                    \"Wh Tshirt F\" : \"White T-Shirt F\",\n                                    \"Bl Tshirt F\" : \"Black T-Shirt F\",\n                                    }, \n                                    inplace=True)\n",
   "outputs": [
    {
     "output_type": "execute_result",
     "execution_count": 28,
     "data": {
      "text/plain": "Hoodie             3047\nWhite T-Shirt M    2955\nBlack T-Shirt M    2323\nWhite T-Shirt F    1814\nBlack T-Shirt F    1707\nTennis Shirt       1075\nName: tshirt_category, dtype: int64"
     },
     "metadata": {}
    }
   ],
   "execution_count": null
  },
  {
   "cell_type": "code",
   "metadata": {
    "tags": [],
    "cell_id": "00045-8108584f-e3b8-445f-b8cc-f8d0d9289105",
    "deepnote_to_be_reexecuted": false,
    "source_hash": "1decc586",
    "execution_start": 1629807888794,
    "execution_millis": 4,
    "is_output_hidden": true,
    "deepnote_cell_type": "code"
   },
   "source": "# Look at the result\ndf_final[\"tshirt_category\"].value_counts()",
   "outputs": [
    {
     "output_type": "execute_result",
     "execution_count": 37,
     "data": {
      "text/plain": "Hoodie             3047\nWhite T-Shirt M    2955\nBlack T-Shirt M    2323\nWhite T-Shirt F    1814\nBlack T-Shirt F    1707\nTennis Shirt       1075\nName: tshirt_category, dtype: int64"
     },
     "metadata": {}
    }
   ],
   "execution_count": null
  },
  {
   "cell_type": "code",
   "source": "# Answer to the original question\ndf_final[\"tshirt_category\"].value_counts()",
   "metadata": {
    "tags": [],
    "cell_id": "00086-64e67cd2-ee92-4a43-9b40-4724f348efcb",
    "deepnote_to_be_reexecuted": false,
    "source_hash": "27e916e3",
    "execution_start": 1631563782354,
    "execution_millis": 37,
    "deepnote_cell_type": "code"
   },
   "outputs": [
    {
     "output_type": "execute_result",
     "execution_count": 74,
     "data": {
      "text/plain": "Hoodie             3047\nWhite T-Shirt M    2717\nBlack T-Shirt M    2142\nWhite T-Shirt F    1657\nBlack T-Shirt F    1565\nTennis Shirt       1075\nWh Tshirt M         238\nBl Tshirt M         181\nWh Tshirt F         157\nBl Tshirt F         142\nName: tshirt_category, dtype: int64"
     },
     "metadata": {}
    }
   ],
   "execution_count": null
  },
  {
   "cell_type": "markdown",
   "source": "## 3.2 Numeric Standardization",
   "metadata": {
    "tags": [],
    "is_collapsed": false,
    "cell_id": "00044-982b4dc4-4a7e-4d38-b127-8a9ff6c865fb",
    "deepnote_cell_type": "text-cell-h2"
   }
  },
  {
   "cell_type": "markdown",
   "source": "<div class=\"alert alert-block alert-info\">\n<b><p style=\"color:red;\">Exercice 20: Standardized the column pages_visited</p></b>\nStandardize the column <b>pages_visited</b> by using a min/max normalization. <br>\nYou will need the function <b>sklearn.preprocessing.MinMaxScaler</b> : <a href=\"https://scikit-learn.org/stable/modules/generated/sklearn.preprocessing.MinMaxScaler.html\">https://scikit-learn.org/stable/modules/generated/sklearn.preprocessing.MinMaxScaler.html</a> <br>\n",
   "metadata": {
    "tags": [],
    "cell_id": "00048-1eaa76fb-06af-4de5-9e6d-a12be09201b9",
    "deepnote_cell_type": "markdown"
   }
  },
  {
   "cell_type": "code",
   "metadata": {
    "tags": [],
    "cell_id": "00046-dbdcdba5-d62d-4a2e-ad27-5e5cd908af65",
    "deepnote_to_be_reexecuted": false,
    "source_hash": "b30b9611",
    "execution_start": 1629807420529,
    "execution_millis": 127,
    "is_output_hidden": true,
    "deepnote_cell_type": "code"
   },
   "source": "import pandas as pd\nfrom sklearn import preprocessing\n\nx = df_final[\"pages_visited\"].values.reshape(-1, 1) #returns a numpy array\nmin_max_scaler = preprocessing.MinMaxScaler()\nx_scaled = min_max_scaler.fit_transform(x)\ndf_final[\"pages_visited\"] = pd.DataFrame(x_scaled)\n\ndf_final",
   "outputs": [
    {
     "output_type": "execute_result",
     "execution_count": 36,
     "data": {
      "application/vnd.deepnote.dataframe.v2+json": {
       "row_count": 12921,
       "column_count": 24,
       "columns": [
        {
         "name": "customer_id",
         "dtype": "object",
         "stats": {
          "unique_count": 5380,
          "nan_count": 0,
          "categories": [
           {
            "name": "536917",
            "count": 13
           },
           {
            "name": "409679",
            "count": 13
           },
           {
            "name": "5378 others",
            "count": 12895
           }
          ]
         }
        },
        {
         "name": "order_date",
         "dtype": "object",
         "stats": {
          "unique_count": 1401,
          "nan_count": 0,
          "categories": [
           {
            "name": "02/11/2015",
            "count": 25
           },
           {
            "name": "05/11/2015",
            "count": 25
           },
           {
            "name": "1399 others",
            "count": 12871
           }
          ]
         }
        },
        {
         "name": "order_id",
         "dtype": "object",
         "stats": {
          "unique_count": 12902,
          "nan_count": 0,
          "categories": [
           {
            "name": "HTS-296958-0001",
            "count": 2
           },
           {
            "name": "HTS-923895-0002",
            "count": 2
           },
           {
            "name": "12900 others",
            "count": 12917
           }
          ]
         }
        },
        {
         "name": "pages_visited",
         "dtype": "float64",
         "stats": {
          "unique_count": 25,
          "nan_count": 0,
          "min": "0.0",
          "max": "1.0",
          "histogram": [
           {
            "bin_start": 0,
            "bin_end": 0.1,
            "count": 394
           },
           {
            "bin_start": 0.1,
            "bin_end": 0.2,
            "count": 2004
           },
           {
            "bin_start": 0.2,
            "bin_end": 0.30000000000000004,
            "count": 2495
           },
           {
            "bin_start": 0.30000000000000004,
            "bin_end": 0.4,
            "count": 4063
           },
           {
            "bin_start": 0.4,
            "bin_end": 0.5,
            "count": 2668
           },
           {
            "bin_start": 0.5,
            "bin_end": 0.6000000000000001,
            "count": 835
           },
           {
            "bin_start": 0.6000000000000001,
            "bin_end": 0.7000000000000001,
            "count": 376
           },
           {
            "bin_start": 0.7000000000000001,
            "bin_end": 0.8,
            "count": 60
           },
           {
            "bin_start": 0.8,
            "bin_end": 0.9,
            "count": 25
           },
           {
            "bin_start": 0.9,
            "bin_end": 1,
            "count": 1
           }
          ]
         }
        },
        {
         "name": "tshirt_category",
         "dtype": "object",
         "stats": {
          "unique_count": 6,
          "nan_count": 0,
          "categories": [
           {
            "name": "Hoodie",
            "count": 3047
           },
           {
            "name": "White T-Shirt M",
            "count": 2955
           },
           {
            "name": "4 others",
            "count": 6919
           }
          ]
         }
        },
        {
         "name": "tshirt_price",
         "dtype": "object",
         "stats": {
          "unique_count": 6,
          "nan_count": 0,
          "categories": [
           {
            "name": "23",
            "count": 3047
           },
           {
            "name": "20",
            "count": 2955
           },
           {
            "name": "4 others",
            "count": 6919
           }
          ]
         }
        },
        {
         "name": "tshirt_quantity",
         "dtype": "int64",
         "stats": {
          "unique_count": 28,
          "nan_count": 0,
          "min": "1",
          "max": "29",
          "histogram": [
           {
            "bin_start": 1,
            "bin_end": 3.8,
            "count": 10651
           },
           {
            "bin_start": 3.8,
            "bin_end": 6.6,
            "count": 1459
           },
           {
            "bin_start": 6.6,
            "bin_end": 9.399999999999999,
            "count": 181
           },
           {
            "bin_start": 9.399999999999999,
            "bin_end": 12.2,
            "count": 122
           },
           {
            "bin_start": 12.2,
            "bin_end": 15,
            "count": 116
           },
           {
            "bin_start": 15,
            "bin_end": 17.799999999999997,
            "count": 170
           },
           {
            "bin_start": 17.799999999999997,
            "bin_end": 20.599999999999998,
            "count": 126
           },
           {
            "bin_start": 20.599999999999998,
            "bin_end": 23.4,
            "count": 65
           },
           {
            "bin_start": 23.4,
            "bin_end": 26.2,
            "count": 27
           },
           {
            "bin_start": 26.2,
            "bin_end": 29,
            "count": 4
           }
          ]
         }
        },
        {
         "name": "user_agent",
         "dtype": "object"
        },
        {
         "name": "customerID",
         "dtype": "object"
        },
        {
         "name": "gender",
         "dtype": "object"
        },
        {
         "name": "birthdate",
         "dtype": "object"
        },
        {
         "name": "ip_address",
         "dtype": "object"
        },
        {
         "name": "latitude",
         "dtype": "float64"
        },
        {
         "name": "longitude",
         "dtype": "float64"
        },
        {
         "name": "Country Name",
         "dtype": "object"
        },
        {
         "name": "country_code",
         "dtype": "object"
        },
        {
         "name": "city_name",
         "dtype": "object"
        },
        {
         "name": "email",
         "dtype": "object"
        },
        {
         "name": "Continent_Name",
         "dtype": "object"
        },
        {
         "name": "Continent_Code",
         "dtype": "object"
        },
        {
         "name": "Country_Name",
         "dtype": "object"
        },
        {
         "name": "Two_Letter_Country_Code",
         "dtype": "object"
        },
        {
         "name": "Three_Letter_Country_Code",
         "dtype": "object"
        },
        {
         "name": "Country_Number",
         "dtype": "float64"
        },
        {
         "name": "_deepnote_index_column",
         "dtype": "int64"
        }
       ],
       "rows_top": [
        {
         "customer_id": "38040",
         "order_date": "04/09/2016",
         "order_id": "HTS-038040-0002",
         "pages_visited": 0.26923076923076916,
         "tshirt_category": "White T-Shirt M",
         "tshirt_price": "20",
         "tshirt_quantity": 1,
         "user_agent": "Mozilla/5.0 (Windows NT 10.0| WOW64) AppleWebKit/537.36 (KHTML, like Gecko) Chrome/56.0.2924.87 Saf…",
         "customerID": "nan",
         "gender": "nan",
         "birthdate": "nan",
         "ip_address": "nan",
         "latitude": "nan",
         "longitude": "nan",
         "Country Name": "nan",
         "country_code": "nan",
         "city_name": "nan",
         "email": "nan",
         "Continent_Name": "Africa",
         "Continent_Code": "AF",
         "Country_Name": "Namibia, Republic of",
         "Two_Letter_Country_Code": "nan",
         "Three_Letter_Country_Code": "NAM",
         "Country_Number": 516,
         "_deepnote_index_column": 0
        },
        {
         "customer_id": "vft1eu",
         "order_date": "26/02/2017",
         "order_id": "HTS-vft1eu-0003",
         "pages_visited": 0.30769230769230765,
         "tshirt_category": "White T-Shirt F",
         "tshirt_price": "18",
         "tshirt_quantity": 3,
         "user_agent": "Mozilla/5.0 (Macintosh| Intel Mac OS X 10_12_3) AppleWebKit/602.4.8 (KHTML, like Gecko) Version/10.…",
         "customerID": "vft1eu",
         "gender": "F",
         "birthdate": "1969-06-27 00:00:00",
         "ip_address": "53.115.6.106",
         "latitude": 51,
         "longitude": 9,
         "Country Name": "Germany, Federal Republic of",
         "country_code": "DE",
         "city_name": "nan",
         "email": "HEOX@formation.fr",
         "Continent_Name": "Europe",
         "Continent_Code": "EU",
         "Country_Name": "Germany, Federal Republic of",
         "Two_Letter_Country_Code": "DE",
         "Three_Letter_Country_Code": "DEU",
         "Country_Number": 276,
         "_deepnote_index_column": 1
        },
        {
         "customer_id": "914324",
         "order_date": "01/12/2013",
         "order_id": "HTS-914324-0001",
         "pages_visited": 0.30769230769230765,
         "tshirt_category": "White T-Shirt F",
         "tshirt_price": "18",
         "tshirt_quantity": 1,
         "user_agent": "Mozilla/5.0 (Windows NT 10.0| WOW64) AppleWebKit/537.36 (KHTML, like Gecko) Chrome/56.0.2924.87 Saf…",
         "customerID": "nan",
         "gender": "nan",
         "birthdate": "nan",
         "ip_address": "nan",
         "latitude": "nan",
         "longitude": "nan",
         "Country Name": "nan",
         "country_code": "nan",
         "city_name": "nan",
         "email": "nan",
         "Continent_Name": "Africa",
         "Continent_Code": "AF",
         "Country_Name": "Namibia, Republic of",
         "Two_Letter_Country_Code": "nan",
         "Three_Letter_Country_Code": "NAM",
         "Country_Number": 516,
         "_deepnote_index_column": 2
        },
        {
         "customer_id": "61311",
         "order_date": "15/01/2016",
         "order_id": "HTS-061311-0003",
         "pages_visited": 0.26923076923076916,
         "tshirt_category": "Black T-Shirt F",
         "tshirt_price": "17,5",
         "tshirt_quantity": 4,
         "user_agent": "Mozilla/5.0 (Macintosh| Intel Mac OS X 10_12_3) AppleWebKit/537.36 (KHTML, like Gecko) Chrome/56.0.…",
         "customerID": "nan",
         "gender": "nan",
         "birthdate": "nan",
         "ip_address": "nan",
         "latitude": "nan",
         "longitude": "nan",
         "Country Name": "nan",
         "country_code": "nan",
         "city_name": "nan",
         "email": "nan",
         "Continent_Name": "Africa",
         "Continent_Code": "AF",
         "Country_Name": "Namibia, Republic of",
         "Two_Letter_Country_Code": "nan",
         "Three_Letter_Country_Code": "NAM",
         "Country_Number": 516,
         "_deepnote_index_column": 3
        },
        {
         "customer_id": "494332",
         "order_date": "03/11/2013",
         "order_id": "HTS-494332-0001",
         "pages_visited": 0.30769230769230765,
         "tshirt_category": "White T-Shirt F",
         "tshirt_price": "18",
         "tshirt_quantity": 2,
         "user_agent": "Mozilla/5.0 (Macintosh| Intel Mac OS X 10_11_6) AppleWebKit/537.36 (KHTML, like Gecko) Chrome/56.0.…",
         "customerID": "nan",
         "gender": "nan",
         "birthdate": "nan",
         "ip_address": "nan",
         "latitude": "nan",
         "longitude": "nan",
         "Country Name": "nan",
         "country_code": "nan",
         "city_name": "nan",
         "email": "nan",
         "Continent_Name": "Africa",
         "Continent_Code": "AF",
         "Country_Name": "Namibia, Republic of",
         "Two_Letter_Country_Code": "nan",
         "Three_Letter_Country_Code": "NAM",
         "Country_Number": 516,
         "_deepnote_index_column": 4
        },
        {
         "customer_id": "463794",
         "order_date": "02/10/2013",
         "order_id": "HTS-463794-0001",
         "pages_visited": 0.4615384615384615,
         "tshirt_category": "Tennis Shirt",
         "tshirt_price": "24",
         "tshirt_quantity": 1,
         "user_agent": "Mozilla/5.0 (Windows NT 10.0| Win64| x64) AppleWebKit/537.36 (KHTML, like Gecko) Chrome/56.0.2924.8…",
         "customerID": "nan",
         "gender": "nan",
         "birthdate": "nan",
         "ip_address": "nan",
         "latitude": "nan",
         "longitude": "nan",
         "Country Name": "nan",
         "country_code": "nan",
         "city_name": "nan",
         "email": "nan",
         "Continent_Name": "Africa",
         "Continent_Code": "AF",
         "Country_Name": "Namibia, Republic of",
         "Two_Letter_Country_Code": "nan",
         "Three_Letter_Country_Code": "NAM",
         "Country_Number": 516,
         "_deepnote_index_column": 5
        },
        {
         "customer_id": "132885",
         "order_date": "23/07/2013",
         "order_id": "HTS-132885-0001",
         "pages_visited": 0.5769230769230768,
         "tshirt_category": "White T-Shirt M",
         "tshirt_price": "20",
         "tshirt_quantity": 1,
         "user_agent": "Mozilla/5.0 (Windows NT 10.0| Win64| x64) AppleWebKit/537.36 (KHTML, like Gecko) Chrome/56.0.2924.8…",
         "customerID": "nan",
         "gender": "nan",
         "birthdate": "nan",
         "ip_address": "nan",
         "latitude": "nan",
         "longitude": "nan",
         "Country Name": "nan",
         "country_code": "nan",
         "city_name": "nan",
         "email": "nan",
         "Continent_Name": "Africa",
         "Continent_Code": "AF",
         "Country_Name": "Namibia, Republic of",
         "Two_Letter_Country_Code": "nan",
         "Three_Letter_Country_Code": "NAM",
         "Country_Number": 516,
         "_deepnote_index_column": 6
        },
        {
         "customer_id": "519113",
         "order_date": "24/11/2013",
         "order_id": "HTS-519113-0001",
         "pages_visited": 0.5769230769230768,
         "tshirt_category": "Black T-Shirt F",
         "tshirt_price": "17,5",
         "tshirt_quantity": 1,
         "user_agent": "Mozilla/5.0 (Windows NT 6.1| WOW64) AppleWebKit/537.36 (KHTML, like Gecko) Chrome/56.0.2924.87 Safa…",
         "customerID": "nan",
         "gender": "nan",
         "birthdate": "nan",
         "ip_address": "nan",
         "latitude": "nan",
         "longitude": "nan",
         "Country Name": "nan",
         "country_code": "nan",
         "city_name": "nan",
         "email": "nan",
         "Continent_Name": "Africa",
         "Continent_Code": "AF",
         "Country_Name": "Namibia, Republic of",
         "Two_Letter_Country_Code": "nan",
         "Three_Letter_Country_Code": "NAM",
         "Country_Number": 516,
         "_deepnote_index_column": 7
        },
        {
         "customer_id": "je57lh",
         "order_date": "24/11/2015",
         "order_id": "HTS-je57lh-0001",
         "pages_visited": 0.4999999999999999,
         "tshirt_category": "Hoodie",
         "tshirt_price": "23",
         "tshirt_quantity": 3,
         "user_agent": "Mozilla/5.0 (Windows NT 10.0| Win64| x64) AppleWebKit/537.36 (KHTML, like Gecko) Chrome/56.0.2924.8…",
         "customerID": "je57lh",
         "gender": "M",
         "birthdate": "1953-03-12 00:00:00",
         "ip_address": "110.116.130.200",
         "latitude": 39.92890167,
         "longitude": 116.388298,
         "Country Name": "China, People's Republic of",
         "country_code": "CN",
         "city_name": "Beijing",
         "email": "GOPB@formation.fr",
         "Continent_Name": "Asia",
         "Continent_Code": "AS",
         "Country_Name": "China, People's Republic of",
         "Two_Letter_Country_Code": "CN",
         "Three_Letter_Country_Code": "CHN",
         "Country_Number": 156,
         "_deepnote_index_column": 8
        },
        {
         "customer_id": "49348",
         "order_date": "15/08/2016",
         "order_id": "HTS-049348-0004",
         "pages_visited": 0.15384615384615383,
         "tshirt_category": "Black T-Shirt F",
         "tshirt_price": "17,5",
         "tshirt_quantity": 1,
         "user_agent": "Mozilla/5.0 (Macintosh| Intel Mac OS X 10_11_6) AppleWebKit/537.36 (KHTML, like Gecko) Chrome/56.0.…",
         "customerID": "nan",
         "gender": "nan",
         "birthdate": "nan",
         "ip_address": "nan",
         "latitude": "nan",
         "longitude": "nan",
         "Country Name": "nan",
         "country_code": "nan",
         "city_name": "nan",
         "email": "nan",
         "Continent_Name": "Africa",
         "Continent_Code": "AF",
         "Country_Name": "Namibia, Republic of",
         "Two_Letter_Country_Code": "nan",
         "Three_Letter_Country_Code": "NAM",
         "Country_Number": 516,
         "_deepnote_index_column": 9
        },
        {
         "customer_id": "heb26i",
         "order_date": "29/11/2015",
         "order_id": "HTS-heb26i-0001",
         "pages_visited": 0.4999999999999999,
         "tshirt_category": "Black T-Shirt F",
         "tshirt_price": "17,5",
         "tshirt_quantity": 1,
         "user_agent": "Mozilla/5.0 (Windows NT 6.1| Win64| x64) AppleWebKit/537.36 (KHTML, like Gecko) Chrome/56.0.2924.87…",
         "customerID": "heb26i",
         "gender": "F",
         "birthdate": "1984-12-27 00:00:00",
         "ip_address": "62.188.236.61",
         "latitude": 51.5,
         "longitude": -0.129999995,
         "Country Name": "United Kingdom of Great Britain & Northern Ireland",
         "country_code": "GB",
         "city_name": "nan",
         "email": "RPOO@formation.fr",
         "Continent_Name": "Europe",
         "Continent_Code": "EU",
         "Country_Name": "United Kingdom of Great Britain & Northern Ireland",
         "Two_Letter_Country_Code": "GB",
         "Three_Letter_Country_Code": "GBR",
         "Country_Number": 826,
         "_deepnote_index_column": 10
        },
        {
         "customer_id": "989355",
         "order_date": "09/10/2015",
         "order_id": "HTS-989355-0003",
         "pages_visited": 0.30769230769230765,
         "tshirt_category": "Hoodie",
         "tshirt_price": "23",
         "tshirt_quantity": 2,
         "user_agent": "Mozilla/5.0 (Windows NT 6.1| WOW64) AppleWebKit/537.36 (KHTML, like Gecko) Chrome/56.0.2924.87 Safa…",
         "customerID": "nan",
         "gender": "nan",
         "birthdate": "nan",
         "ip_address": "nan",
         "latitude": "nan",
         "longitude": "nan",
         "Country Name": "nan",
         "country_code": "nan",
         "city_name": "nan",
         "email": "nan",
         "Continent_Name": "Africa",
         "Continent_Code": "AF",
         "Country_Name": "Namibia, Republic of",
         "Two_Letter_Country_Code": "nan",
         "Three_Letter_Country_Code": "NAM",
         "Country_Number": 516,
         "_deepnote_index_column": 11
        },
        {
         "customer_id": "1b0lnt",
         "order_date": "16/01/2016",
         "order_id": "HTS-1b0lnt-0002",
         "pages_visited": 0.4999999999999999,
         "tshirt_category": "White T-Shirt M",
         "tshirt_price": "20",
         "tshirt_quantity": 1,
         "user_agent": "Mozilla/5.0 (X11| Linux x86_64) AppleWebKit/537.36 (KHTML, like Gecko) Chrome/56.0.2924.87 Safari/5…",
         "customerID": "1b0lnt",
         "gender": "F",
         "birthdate": "1981-11-07 00:00:00",
         "ip_address": "117.228.120.81",
         "latitude": 18.5333004,
         "longitude": 73.86669922,
         "Country Name": "India, Republic of",
         "country_code": "IN",
         "city_name": "Poona",
         "email": "RKYX@formation.fr",
         "Continent_Name": "Asia",
         "Continent_Code": "AS",
         "Country_Name": "India, Republic of",
         "Two_Letter_Country_Code": "IN",
         "Three_Letter_Country_Code": "IND",
         "Country_Number": 356,
         "_deepnote_index_column": 12
        },
        {
         "customer_id": "198773",
         "order_date": "17/01/2015",
         "order_id": "HTS-198773-0002",
         "pages_visited": 0.11538461538461536,
         "tshirt_category": "White T-Shirt M",
         "tshirt_price": "20",
         "tshirt_quantity": 1,
         "user_agent": "Mozilla/5.0 (Windows NT 10.0| Win64| x64) AppleWebKit/537.36 (KHTML, like Gecko) Chrome/56.0.2924.8…",
         "customerID": "nan",
         "gender": "nan",
         "birthdate": "nan",
         "ip_address": "nan",
         "latitude": "nan",
         "longitude": "nan",
         "Country Name": "nan",
         "country_code": "nan",
         "city_name": "nan",
         "email": "nan",
         "Continent_Name": "Africa",
         "Continent_Code": "AF",
         "Country_Name": "Namibia, Republic of",
         "Two_Letter_Country_Code": "nan",
         "Three_Letter_Country_Code": "NAM",
         "Country_Number": 516,
         "_deepnote_index_column": 13
        },
        {
         "customer_id": "476084",
         "order_date": "20/07/2014",
         "order_id": "HTS-476084-0001",
         "pages_visited": 0.34615384615384615,
         "tshirt_category": "White T-Shirt M",
         "tshirt_price": "20",
         "tshirt_quantity": 2,
         "user_agent": "Mozilla/5.0 (Windows NT 10.0| Win64| x64) AppleWebKit/537.36 (KHTML, like Gecko) Chrome/56.0.2924.8…",
         "customerID": "nan",
         "gender": "nan",
         "birthdate": "nan",
         "ip_address": "nan",
         "latitude": "nan",
         "longitude": "nan",
         "Country Name": "nan",
         "country_code": "nan",
         "city_name": "nan",
         "email": "nan",
         "Continent_Name": "Africa",
         "Continent_Code": "AF",
         "Country_Name": "Namibia, Republic of",
         "Two_Letter_Country_Code": "nan",
         "Three_Letter_Country_Code": "NAM",
         "Country_Number": 516,
         "_deepnote_index_column": 14
        },
        {
         "customer_id": "907041",
         "order_date": "20/05/2016",
         "order_id": "HTS-907041-0002",
         "pages_visited": 0.4615384615384615,
         "tshirt_category": "White T-Shirt F",
         "tshirt_price": "18",
         "tshirt_quantity": 3,
         "user_agent": "Mozilla/5.0 (Windows NT 6.1| WOW64| rv:51.0) Gecko/20100101 Firefox/51.0",
         "customerID": "nan",
         "gender": "nan",
         "birthdate": "nan",
         "ip_address": "nan",
         "latitude": "nan",
         "longitude": "nan",
         "Country Name": "nan",
         "country_code": "nan",
         "city_name": "nan",
         "email": "nan",
         "Continent_Name": "Africa",
         "Continent_Code": "AF",
         "Country_Name": "Namibia, Republic of",
         "Two_Letter_Country_Code": "nan",
         "Three_Letter_Country_Code": "NAM",
         "Country_Number": 516,
         "_deepnote_index_column": 15
        },
        {
         "customer_id": "399607",
         "order_date": "09/03/2014",
         "order_id": "HTS-399607-0002",
         "pages_visited": 0.3846153846153845,
         "tshirt_category": "White T-Shirt M",
         "tshirt_price": "20",
         "tshirt_quantity": 5,
         "user_agent": "Mozilla/5.0 (Windows NT 6.1| WOW64) AppleWebKit/537.36 (KHTML, like Gecko) Chrome/56.0.2924.87 Safa…",
         "customerID": "nan",
         "gender": "nan",
         "birthdate": "nan",
         "ip_address": "nan",
         "latitude": "nan",
         "longitude": "nan",
         "Country Name": "nan",
         "country_code": "nan",
         "city_name": "nan",
         "email": "nan",
         "Continent_Name": "Africa",
         "Continent_Code": "AF",
         "Country_Name": "Namibia, Republic of",
         "Two_Letter_Country_Code": "nan",
         "Three_Letter_Country_Code": "NAM",
         "Country_Number": 516,
         "_deepnote_index_column": 16
        },
        {
         "customer_id": "610587",
         "order_date": "08/01/2017",
         "order_id": "HTS-610587-0004",
         "pages_visited": 0.11538461538461536,
         "tshirt_category": "Hoodie",
         "tshirt_price": "23",
         "tshirt_quantity": 1,
         "user_agent": "Mozilla/5.0 (X11| Linux x86_64) AppleWebKit/537.36 (KHTML, like Gecko) Chrome/56.0.2924.87 Safari/5…",
         "customerID": "nan",
         "gender": "nan",
         "birthdate": "nan",
         "ip_address": "nan",
         "latitude": "nan",
         "longitude": "nan",
         "Country Name": "nan",
         "country_code": "nan",
         "city_name": "nan",
         "email": "nan",
         "Continent_Name": "Africa",
         "Continent_Code": "AF",
         "Country_Name": "Namibia, Republic of",
         "Two_Letter_Country_Code": "nan",
         "Three_Letter_Country_Code": "NAM",
         "Country_Number": 516,
         "_deepnote_index_column": 17
        },
        {
         "customer_id": "707341",
         "order_date": "03/10/2014",
         "order_id": "HTS-707341-0003",
         "pages_visited": 0.23076923076923073,
         "tshirt_category": "Black T-Shirt M",
         "tshirt_price": "19",
         "tshirt_quantity": 3,
         "user_agent": "Mozilla/5.0 (Macintosh| Intel Mac OS X 10_12_3) AppleWebKit/602.4.8 (KHTML, like Gecko) Version/10.…",
         "customerID": "nan",
         "gender": "nan",
         "birthdate": "nan",
         "ip_address": "nan",
         "latitude": "nan",
         "longitude": "nan",
         "Country Name": "nan",
         "country_code": "nan",
         "city_name": "nan",
         "email": "nan",
         "Continent_Name": "Africa",
         "Continent_Code": "AF",
         "Country_Name": "Namibia, Republic of",
         "Two_Letter_Country_Code": "nan",
         "Three_Letter_Country_Code": "NAM",
         "Country_Number": 516,
         "_deepnote_index_column": 18
        },
        {
         "customer_id": "pq3m7c",
         "order_date": "08/09/2015",
         "order_id": "HTS-pq3m7c-0001",
         "pages_visited": 0.34615384615384615,
         "tshirt_category": "Hoodie",
         "tshirt_price": "23",
         "tshirt_quantity": 1,
         "user_agent": "Mozilla/5.0 (Windows NT 6.1| WOW64| rv:52.0) Gecko/20100101 Firefox/52.0",
         "customerID": "pq3m7c",
         "gender": "M",
         "birthdate": "1992-01-19 00:00:00",
         "ip_address": "97.77.88.191",
         "latitude": 38,
         "longitude": -97,
         "Country Name": "United States of America",
         "country_code": "US",
         "city_name": "nan",
         "email": "ZAIT@formation.fr",
         "Continent_Name": "North America",
         "Continent_Code": "nan",
         "Country_Name": "United States of America",
         "Two_Letter_Country_Code": "US",
         "Three_Letter_Country_Code": "USA",
         "Country_Number": 840,
         "_deepnote_index_column": 19
        }
       ],
       "rows_bottom": [
        {
         "customer_id": "676955",
         "order_date": "25/12/2014",
         "order_id": "HTS-676955-0001",
         "pages_visited": 0.26923076923076916,
         "tshirt_category": "Tennis Shirt",
         "tshirt_price": "24",
         "tshirt_quantity": 4,
         "user_agent": "Mozilla/5.0 (Windows NT 6.1| WOW64| rv:51.0) Gecko/20100101 Firefox/51.0",
         "customerID": "nan",
         "gender": "nan",
         "birthdate": "nan",
         "ip_address": "nan",
         "latitude": "nan",
         "longitude": "nan",
         "Country Name": "nan",
         "country_code": "nan",
         "city_name": "nan",
         "email": "nan",
         "Continent_Name": "Africa",
         "Continent_Code": "AF",
         "Country_Name": "Namibia, Republic of",
         "Two_Letter_Country_Code": "nan",
         "Three_Letter_Country_Code": "NAM",
         "Country_Number": 516,
         "_deepnote_index_column": 12900
        },
        {
         "customer_id": "278313",
         "order_date": "09/04/2016",
         "order_id": "HTS-278313-0004",
         "pages_visited": 0.4999999999999999,
         "tshirt_category": "Tennis Shirt",
         "tshirt_price": "24",
         "tshirt_quantity": 13,
         "user_agent": "Mozilla/5.0 (Windows NT 6.1| WOW64| rv:51.0) Gecko/20100101 Firefox/51.0",
         "customerID": "nan",
         "gender": "nan",
         "birthdate": "nan",
         "ip_address": "nan",
         "latitude": "nan",
         "longitude": "nan",
         "Country Name": "nan",
         "country_code": "nan",
         "city_name": "nan",
         "email": "nan",
         "Continent_Name": "Africa",
         "Continent_Code": "AF",
         "Country_Name": "Namibia, Republic of",
         "Two_Letter_Country_Code": "nan",
         "Three_Letter_Country_Code": "NAM",
         "Country_Number": 516,
         "_deepnote_index_column": 12901
        },
        {
         "customer_id": "el0sj8",
         "order_date": "12/01/2017",
         "order_id": "HTS-el0sj8-0004",
         "pages_visited": 0.15384615384615383,
         "tshirt_category": "Tennis Shirt",
         "tshirt_price": "24",
         "tshirt_quantity": 1,
         "user_agent": "Mozilla/5.0 (Windows NT 6.1| Win64| x64) AppleWebKit/537.36 (KHTML, like Gecko) Chrome/56.0.2924.87…",
         "customerID": "nan",
         "gender": "nan",
         "birthdate": "nan",
         "ip_address": "nan",
         "latitude": "nan",
         "longitude": "nan",
         "Country Name": "nan",
         "country_code": "nan",
         "city_name": "nan",
         "email": "nan",
         "Continent_Name": "Africa",
         "Continent_Code": "AF",
         "Country_Name": "Namibia, Republic of",
         "Two_Letter_Country_Code": "nan",
         "Three_Letter_Country_Code": "NAM",
         "Country_Number": 516,
         "_deepnote_index_column": 12902
        },
        {
         "customer_id": "545790",
         "order_date": "16/07/2015",
         "order_id": "HTS-545790-0005",
         "pages_visited": 0.15384615384615383,
         "tshirt_category": "Tennis Shirt",
         "tshirt_price": "24",
         "tshirt_quantity": 3,
         "user_agent": "Mozilla/5.0 (Windows NT 6.1| Win64| x64) AppleWebKit/537.36 (KHTML, like Gecko) Chrome/56.0.2924.87…",
         "customerID": "nan",
         "gender": "nan",
         "birthdate": "nan",
         "ip_address": "nan",
         "latitude": "nan",
         "longitude": "nan",
         "Country Name": "nan",
         "country_code": "nan",
         "city_name": "nan",
         "email": "nan",
         "Continent_Name": "Africa",
         "Continent_Code": "AF",
         "Country_Name": "Namibia, Republic of",
         "Two_Letter_Country_Code": "nan",
         "Three_Letter_Country_Code": "NAM",
         "Country_Number": 516,
         "_deepnote_index_column": 12903
        },
        {
         "customer_id": "585862",
         "order_date": "19/11/2015",
         "order_id": "HTS-585862-0004",
         "pages_visited": 0.1923076923076923,
         "tshirt_category": "Tennis Shirt",
         "tshirt_price": "24",
         "tshirt_quantity": 14,
         "user_agent": "Mozilla/5.0 (Windows NT 6.1| Win64| x64) AppleWebKit/537.36 (KHTML, like Gecko) Chrome/56.0.2924.87…",
         "customerID": "nan",
         "gender": "nan",
         "birthdate": "nan",
         "ip_address": "nan",
         "latitude": "nan",
         "longitude": "nan",
         "Country Name": "nan",
         "country_code": "nan",
         "city_name": "nan",
         "email": "nan",
         "Continent_Name": "Africa",
         "Continent_Code": "AF",
         "Country_Name": "Namibia, Republic of",
         "Two_Letter_Country_Code": "nan",
         "Three_Letter_Country_Code": "NAM",
         "Country_Number": 516,
         "_deepnote_index_column": 12904
        },
        {
         "customer_id": "585862",
         "order_date": "17/02/2015",
         "order_id": "HTS-585862-0003",
         "pages_visited": 0.23076923076923073,
         "tshirt_category": "Tennis Shirt",
         "tshirt_price": "24",
         "tshirt_quantity": 18,
         "user_agent": "Mozilla/5.0 (Windows NT 6.1| Win64| x64) AppleWebKit/537.36 (KHTML, like Gecko) Chrome/56.0.2924.87…",
         "customerID": "nan",
         "gender": "nan",
         "birthdate": "nan",
         "ip_address": "nan",
         "latitude": "nan",
         "longitude": "nan",
         "Country Name": "nan",
         "country_code": "nan",
         "city_name": "nan",
         "email": "nan",
         "Continent_Name": "Africa",
         "Continent_Code": "AF",
         "Country_Name": "Namibia, Republic of",
         "Two_Letter_Country_Code": "nan",
         "Three_Letter_Country_Code": "NAM",
         "Country_Number": 516,
         "_deepnote_index_column": 12905
        },
        {
         "customer_id": "539658",
         "order_date": "29/12/2015",
         "order_id": "HTS-539658-0003",
         "pages_visited": 0.26923076923076916,
         "tshirt_category": "Tennis Shirt",
         "tshirt_price": "24",
         "tshirt_quantity": 6,
         "user_agent": "Mozilla/5.0 (Windows NT 6.1| Win64| x64) AppleWebKit/537.36 (KHTML, like Gecko) Chrome/56.0.2924.87…",
         "customerID": "nan",
         "gender": "nan",
         "birthdate": "nan",
         "ip_address": "nan",
         "latitude": "nan",
         "longitude": "nan",
         "Country Name": "nan",
         "country_code": "nan",
         "city_name": "nan",
         "email": "nan",
         "Continent_Name": "Africa",
         "Continent_Code": "AF",
         "Country_Name": "Namibia, Republic of",
         "Two_Letter_Country_Code": "nan",
         "Three_Letter_Country_Code": "NAM",
         "Country_Number": 516,
         "_deepnote_index_column": 12906
        },
        {
         "customer_id": "187195",
         "order_date": "30/03/2016",
         "order_id": "HTS-187195-0003",
         "pages_visited": 0.30769230769230765,
         "tshirt_category": "Tennis Shirt",
         "tshirt_price": "24",
         "tshirt_quantity": 5,
         "user_agent": "Mozilla/5.0 (Windows NT 6.1| Win64| x64) AppleWebKit/537.36 (KHTML, like Gecko) Chrome/56.0.2924.87…",
         "customerID": "nan",
         "gender": "nan",
         "birthdate": "nan",
         "ip_address": "nan",
         "latitude": "nan",
         "longitude": "nan",
         "Country Name": "nan",
         "country_code": "nan",
         "city_name": "nan",
         "email": "nan",
         "Continent_Name": "Africa",
         "Continent_Code": "AF",
         "Country_Name": "Namibia, Republic of",
         "Two_Letter_Country_Code": "nan",
         "Three_Letter_Country_Code": "NAM",
         "Country_Number": 516,
         "_deepnote_index_column": 12907
        },
        {
         "customer_id": "449243",
         "order_date": "09/06/2016",
         "order_id": "HTS-449243-0002",
         "pages_visited": 0.34615384615384615,
         "tshirt_category": "Tennis Shirt",
         "tshirt_price": "24",
         "tshirt_quantity": 1,
         "user_agent": "Mozilla/5.0 (Windows NT 6.1| Win64| x64) AppleWebKit/537.36 (KHTML, like Gecko) Chrome/56.0.2924.87…",
         "customerID": "nan",
         "gender": "nan",
         "birthdate": "nan",
         "ip_address": "nan",
         "latitude": "nan",
         "longitude": "nan",
         "Country Name": "nan",
         "country_code": "nan",
         "city_name": "nan",
         "email": "nan",
         "Continent_Name": "Africa",
         "Continent_Code": "AF",
         "Country_Name": "Namibia, Republic of",
         "Two_Letter_Country_Code": "nan",
         "Three_Letter_Country_Code": "NAM",
         "Country_Number": 516,
         "_deepnote_index_column": 12908
        },
        {
         "customer_id": "83318",
         "order_date": "01/08/2016",
         "order_id": "HTS-083318-0005",
         "pages_visited": 0.34615384615384615,
         "tshirt_category": "Tennis Shirt",
         "tshirt_price": "24",
         "tshirt_quantity": 2,
         "user_agent": "Mozilla/5.0 (Windows NT 6.1| Win64| x64) AppleWebKit/537.36 (KHTML, like Gecko) Chrome/56.0.2924.87…",
         "customerID": "nan",
         "gender": "nan",
         "birthdate": "nan",
         "ip_address": "nan",
         "latitude": "nan",
         "longitude": "nan",
         "Country Name": "nan",
         "country_code": "nan",
         "city_name": "nan",
         "email": "nan",
         "Continent_Name": "Africa",
         "Continent_Code": "AF",
         "Country_Name": "Namibia, Republic of",
         "Two_Letter_Country_Code": "nan",
         "Three_Letter_Country_Code": "NAM",
         "Country_Number": 516,
         "_deepnote_index_column": 12909
        },
        {
         "customer_id": "453848",
         "order_date": "18/07/2013",
         "order_id": "HTS-453848-0001",
         "pages_visited": 0.34615384615384615,
         "tshirt_category": "Tennis Shirt",
         "tshirt_price": "24",
         "tshirt_quantity": 3,
         "user_agent": "Mozilla/5.0 (Windows NT 6.1| Win64| x64) AppleWebKit/537.36 (KHTML, like Gecko) Chrome/56.0.2924.87…",
         "customerID": "nan",
         "gender": "nan",
         "birthdate": "nan",
         "ip_address": "nan",
         "latitude": "nan",
         "longitude": "nan",
         "Country Name": "nan",
         "country_code": "nan",
         "city_name": "nan",
         "email": "nan",
         "Continent_Name": "Africa",
         "Continent_Code": "AF",
         "Country_Name": "Namibia, Republic of",
         "Two_Letter_Country_Code": "nan",
         "Three_Letter_Country_Code": "NAM",
         "Country_Number": 516,
         "_deepnote_index_column": 12910
        },
        {
         "customer_id": "83318",
         "order_date": "28/02/2015",
         "order_id": "HTS-083318-0003",
         "pages_visited": 0.3846153846153845,
         "tshirt_category": "Tennis Shirt",
         "tshirt_price": "24",
         "tshirt_quantity": 3,
         "user_agent": "Mozilla/5.0 (Windows NT 6.1| Win64| x64) AppleWebKit/537.36 (KHTML, like Gecko) Chrome/56.0.2924.87…",
         "customerID": "nan",
         "gender": "nan",
         "birthdate": "nan",
         "ip_address": "nan",
         "latitude": "nan",
         "longitude": "nan",
         "Country Name": "nan",
         "country_code": "nan",
         "city_name": "nan",
         "email": "nan",
         "Continent_Name": "Africa",
         "Continent_Code": "AF",
         "Country_Name": "Namibia, Republic of",
         "Two_Letter_Country_Code": "nan",
         "Three_Letter_Country_Code": "NAM",
         "Country_Number": 516,
         "_deepnote_index_column": 12911
        },
        {
         "customer_id": "287913",
         "order_date": "25/12/2014",
         "order_id": "HTS-287913-0002",
         "pages_visited": 0.34615384615384615,
         "tshirt_category": "Tennis Shirt",
         "tshirt_price": "24",
         "tshirt_quantity": 1,
         "user_agent": "Mozilla/5.0 (Windows NT 6.3| WOW64) AppleWebKit/537.36 (KHTML, like Gecko) Chrome/56.0.2924.87 Safa…",
         "customerID": "nan",
         "gender": "nan",
         "birthdate": "nan",
         "ip_address": "nan",
         "latitude": "nan",
         "longitude": "nan",
         "Country Name": "nan",
         "country_code": "nan",
         "city_name": "nan",
         "email": "nan",
         "Continent_Name": "Africa",
         "Continent_Code": "AF",
         "Country_Name": "Namibia, Republic of",
         "Two_Letter_Country_Code": "nan",
         "Three_Letter_Country_Code": "NAM",
         "Country_Number": 516,
         "_deepnote_index_column": 12912
        },
        {
         "customer_id": "534599",
         "order_date": "23/06/2014",
         "order_id": "HTS-534599-0001",
         "pages_visited": 0.26923076923076916,
         "tshirt_category": "Tennis Shirt",
         "tshirt_price": "24",
         "tshirt_quantity": 3,
         "user_agent": "Mozilla/5.0 (X11| Linux x86_64) AppleWebKit/537.36 (KHTML, like Gecko) Chrome/56.0.2924.87 Safari/5…",
         "customerID": "nan",
         "gender": "nan",
         "birthdate": "nan",
         "ip_address": "nan",
         "latitude": "nan",
         "longitude": "nan",
         "Country Name": "nan",
         "country_code": "nan",
         "city_name": "nan",
         "email": "nan",
         "Continent_Name": "Africa",
         "Continent_Code": "AF",
         "Country_Name": "Namibia, Republic of",
         "Two_Letter_Country_Code": "nan",
         "Three_Letter_Country_Code": "NAM",
         "Country_Number": 516,
         "_deepnote_index_column": 12913
        },
        {
         "customer_id": "467894",
         "order_date": "14/10/2015",
         "order_id": "HTS-467894-0003",
         "pages_visited": 0.34615384615384615,
         "tshirt_category": "Tennis Shirt",
         "tshirt_price": "24",
         "tshirt_quantity": 1,
         "user_agent": "Mozilla/5.0 (X11| Linux x86_64) AppleWebKit/537.36 (KHTML, like Gecko) Chrome/56.0.2924.87 Safari/5…",
         "customerID": "nan",
         "gender": "nan",
         "birthdate": "nan",
         "ip_address": "nan",
         "latitude": "nan",
         "longitude": "nan",
         "Country Name": "nan",
         "country_code": "nan",
         "city_name": "nan",
         "email": "nan",
         "Continent_Name": "Africa",
         "Continent_Code": "AF",
         "Country_Name": "Namibia, Republic of",
         "Two_Letter_Country_Code": "nan",
         "Three_Letter_Country_Code": "NAM",
         "Country_Number": 516,
         "_deepnote_index_column": 12914
        },
        {
         "customer_id": "371776",
         "order_date": "04/05/2015",
         "order_id": "HTS-371776-0002",
         "pages_visited": 0.5384615384615384,
         "tshirt_category": "Tennis Shirt",
         "tshirt_price": "24",
         "tshirt_quantity": 2,
         "user_agent": "Mozilla/5.0 (X11| Linux x86_64) AppleWebKit/537.36 (KHTML, like Gecko) Chrome/56.0.2924.87 Safari/5…",
         "customerID": "nan",
         "gender": "nan",
         "birthdate": "nan",
         "ip_address": "nan",
         "latitude": "nan",
         "longitude": "nan",
         "Country Name": "nan",
         "country_code": "nan",
         "city_name": "nan",
         "email": "nan",
         "Continent_Name": "Africa",
         "Continent_Code": "AF",
         "Country_Name": "Namibia, Republic of",
         "Two_Letter_Country_Code": "nan",
         "Three_Letter_Country_Code": "NAM",
         "Country_Number": 516,
         "_deepnote_index_column": 12915
        },
        {
         "customer_id": "0b59cn",
         "order_date": "12/12/2016",
         "order_id": "HTS-0b59cn-0004",
         "pages_visited": 0.23076923076923073,
         "tshirt_category": "Tennis Shirt",
         "tshirt_price": "24",
         "tshirt_quantity": 5,
         "user_agent": "Mozilla/5.0 (X11| Ubuntu| Linux x86_64| rv:51.0) Gecko/20100101 Firefox/51.0",
         "customerID": "nan",
         "gender": "nan",
         "birthdate": "nan",
         "ip_address": "nan",
         "latitude": "nan",
         "longitude": "nan",
         "Country Name": "nan",
         "country_code": "nan",
         "city_name": "nan",
         "email": "nan",
         "Continent_Name": "Africa",
         "Continent_Code": "AF",
         "Country_Name": "Namibia, Republic of",
         "Two_Letter_Country_Code": "nan",
         "Three_Letter_Country_Code": "NAM",
         "Country_Number": 516,
         "_deepnote_index_column": 12916
        },
        {
         "customer_id": "357322",
         "order_date": "10/12/2016",
         "order_id": "HTS-357322-0007",
         "pages_visited": 0.11538461538461536,
         "tshirt_category": "Tennis Shirt",
         "tshirt_price": "24",
         "tshirt_quantity": 3,
         "user_agent": "Mozilla/5.0 (Windows NT 10.0| WOW64) AppleWebKit/537.36 (KHTML, like Gecko) Chrome/56.0.2924.87 Saf…",
         "customerID": "nan",
         "gender": "nan",
         "birthdate": "nan",
         "ip_address": "nan",
         "latitude": "nan",
         "longitude": "nan",
         "Country Name": "nan",
         "country_code": "nan",
         "city_name": "nan",
         "email": "nan",
         "Continent_Name": "Africa",
         "Continent_Code": "AF",
         "Country_Name": "Namibia, Republic of",
         "Two_Letter_Country_Code": "nan",
         "Three_Letter_Country_Code": "NAM",
         "Country_Number": 516,
         "_deepnote_index_column": 12917
        },
        {
         "customer_id": "l8c64t",
         "order_date": "01/03/2017",
         "order_id": "HTS-l8c64t-0003",
         "pages_visited": 0.1923076923076923,
         "tshirt_category": "Tennis Shirt",
         "tshirt_price": "24",
         "tshirt_quantity": 2,
         "user_agent": "Mozilla/5.0 (Windows NT 10.0| WOW64| rv:52.0) Gecko/20100101 Firefox/52.0",
         "customerID": "nan",
         "gender": "nan",
         "birthdate": "nan",
         "ip_address": "nan",
         "latitude": "nan",
         "longitude": "nan",
         "Country Name": "nan",
         "country_code": "nan",
         "city_name": "nan",
         "email": "nan",
         "Continent_Name": "Africa",
         "Continent_Code": "AF",
         "Country_Name": "Namibia, Republic of",
         "Two_Letter_Country_Code": "nan",
         "Three_Letter_Country_Code": "NAM",
         "Country_Number": 516,
         "_deepnote_index_column": 12918
        },
        {
         "customer_id": "946557",
         "order_date": "21/07/2016",
         "order_id": "HTS-946557-0005",
         "pages_visited": 0.11538461538461536,
         "tshirt_category": "Tennis Shirt",
         "tshirt_price": "24",
         "tshirt_quantity": 2,
         "user_agent": "Mozilla/5.0 (Windows NT 10.0| Win64| x64) AppleWebKit/537.36 (KHTML, like Gecko) Chrome/56.0.2924.8…",
         "customerID": "nan",
         "gender": "nan",
         "birthdate": "nan",
         "ip_address": "nan",
         "latitude": "nan",
         "longitude": "nan",
         "Country Name": "nan",
         "country_code": "nan",
         "city_name": "nan",
         "email": "nan",
         "Continent_Name": "Africa",
         "Continent_Code": "AF",
         "Country_Name": "Namibia, Republic of",
         "Two_Letter_Country_Code": "nan",
         "Three_Letter_Country_Code": "NAM",
         "Country_Number": 516,
         "_deepnote_index_column": 12919
        },
        {
         "customer_id": "1bhyje",
         "order_date": "22/06/2016",
         "order_id": "HTS-1bhyje-0002",
         "pages_visited": 0.5769230769230768,
         "tshirt_category": "Tennis Shirt",
         "tshirt_price": "24",
         "tshirt_quantity": 1,
         "user_agent": "Mozilla/5.0 (X11| Linux x86_64) AppleWebKit/537.36 (KHTML, like Gecko) Chrome/56.0.2924.87 Safari/5…",
         "customerID": "nan",
         "gender": "nan",
         "birthdate": "nan",
         "ip_address": "nan",
         "latitude": "nan",
         "longitude": "nan",
         "Country Name": "nan",
         "country_code": "nan",
         "city_name": "nan",
         "email": "nan",
         "Continent_Name": "Africa",
         "Continent_Code": "AF",
         "Country_Name": "Namibia, Republic of",
         "Two_Letter_Country_Code": "nan",
         "Three_Letter_Country_Code": "NAM",
         "Country_Number": 516,
         "_deepnote_index_column": 12920
        }
       ]
      },
      "text/plain": "      customer_id  order_date         order_id  pages_visited  \\\n0           38040  04/09/2016  HTS-038040-0002       0.269231   \n1          vft1eu  26/02/2017  HTS-vft1eu-0003       0.307692   \n2          914324  01/12/2013  HTS-914324-0001       0.307692   \n3           61311  15/01/2016  HTS-061311-0003       0.269231   \n4          494332  03/11/2013  HTS-494332-0001       0.307692   \n...           ...         ...              ...            ...   \n12916      0b59cn  12/12/2016  HTS-0b59cn-0004       0.230769   \n12917      357322  10/12/2016  HTS-357322-0007       0.115385   \n12918      l8c64t  01/03/2017  HTS-l8c64t-0003       0.192308   \n12919      946557  21/07/2016  HTS-946557-0005       0.115385   \n12920      1bhyje  22/06/2016  HTS-1bhyje-0002       0.576923   \n\n       tshirt_category tshirt_price  tshirt_quantity  \\\n0      White T-Shirt M           20                1   \n1      White T-Shirt F           18                3   \n2      White T-Shirt F           18                1   \n3      Black T-Shirt F         17,5                4   \n4      White T-Shirt F           18                2   \n...                ...          ...              ...   \n12916     Tennis Shirt           24                5   \n12917     Tennis Shirt           24                3   \n12918     Tennis Shirt           24                2   \n12919     Tennis Shirt           24                2   \n12920     Tennis Shirt           24                1   \n\n                                              user_agent customerID gender  \\\n0      Mozilla/5.0 (Windows NT 10.0| WOW64) AppleWebK...        NaN    NaN   \n1      Mozilla/5.0 (Macintosh| Intel Mac OS X 10_12_3...     vft1eu      F   \n2      Mozilla/5.0 (Windows NT 10.0| WOW64) AppleWebK...        NaN    NaN   \n3      Mozilla/5.0 (Macintosh| Intel Mac OS X 10_12_3...        NaN    NaN   \n4      Mozilla/5.0 (Macintosh| Intel Mac OS X 10_11_6...        NaN    NaN   \n...                                                  ...        ...    ...   \n12916  Mozilla/5.0 (X11| Ubuntu| Linux x86_64| rv:51....        NaN    NaN   \n12917  Mozilla/5.0 (Windows NT 10.0| WOW64) AppleWebK...        NaN    NaN   \n12918  Mozilla/5.0 (Windows NT 10.0| WOW64| rv:52.0) ...        NaN    NaN   \n12919  Mozilla/5.0 (Windows NT 10.0| Win64| x64) Appl...        NaN    NaN   \n12920  Mozilla/5.0 (X11| Linux x86_64) AppleWebKit/53...        NaN    NaN   \n\n       ...                  Country Name country_code  city_name  \\\n0      ...                           NaN          NaN        NaN   \n1      ...  Germany, Federal Republic of           DE        NaN   \n2      ...                           NaN          NaN        NaN   \n3      ...                           NaN          NaN        NaN   \n4      ...                           NaN          NaN        NaN   \n...    ...                           ...          ...        ...   \n12916  ...                           NaN          NaN        NaN   \n12917  ...                           NaN          NaN        NaN   \n12918  ...                           NaN          NaN        NaN   \n12919  ...                           NaN          NaN        NaN   \n12920  ...                           NaN          NaN        NaN   \n\n                   email Continent_Name Continent_Code  \\\n0                    NaN         Africa             AF   \n1      HEOX@formation.fr         Europe             EU   \n2                    NaN         Africa             AF   \n3                    NaN         Africa             AF   \n4                    NaN         Africa             AF   \n...                  ...            ...            ...   \n12916                NaN         Africa             AF   \n12917                NaN         Africa             AF   \n12918                NaN         Africa             AF   \n12919                NaN         Africa             AF   \n12920                NaN         Africa             AF   \n\n                       Country_Name Two_Letter_Country_Code  \\\n0              Namibia, Republic of                     NaN   \n1      Germany, Federal Republic of                      DE   \n2              Namibia, Republic of                     NaN   \n3              Namibia, Republic of                     NaN   \n4              Namibia, Republic of                     NaN   \n...                             ...                     ...   \n12916          Namibia, Republic of                     NaN   \n12917          Namibia, Republic of                     NaN   \n12918          Namibia, Republic of                     NaN   \n12919          Namibia, Republic of                     NaN   \n12920          Namibia, Republic of                     NaN   \n\n      Three_Letter_Country_Code Country_Number  \n0                           NAM          516.0  \n1                           DEU          276.0  \n2                           NAM          516.0  \n3                           NAM          516.0  \n4                           NAM          516.0  \n...                         ...            ...  \n12916                       NAM          516.0  \n12917                       NAM          516.0  \n12918                       NAM          516.0  \n12919                       NAM          516.0  \n12920                       NAM          516.0  \n\n[12921 rows x 24 columns]",
      "text/html": "<div>\n<style scoped>\n    .dataframe tbody tr th:only-of-type {\n        vertical-align: middle;\n    }\n\n    .dataframe tbody tr th {\n        vertical-align: top;\n    }\n\n    .dataframe thead th {\n        text-align: right;\n    }\n</style>\n<table border=\"1\" class=\"dataframe\">\n  <thead>\n    <tr style=\"text-align: right;\">\n      <th></th>\n      <th>customer_id</th>\n      <th>order_date</th>\n      <th>order_id</th>\n      <th>pages_visited</th>\n      <th>tshirt_category</th>\n      <th>tshirt_price</th>\n      <th>tshirt_quantity</th>\n      <th>user_agent</th>\n      <th>customerID</th>\n      <th>gender</th>\n      <th>...</th>\n      <th>Country Name</th>\n      <th>country_code</th>\n      <th>city_name</th>\n      <th>email</th>\n      <th>Continent_Name</th>\n      <th>Continent_Code</th>\n      <th>Country_Name</th>\n      <th>Two_Letter_Country_Code</th>\n      <th>Three_Letter_Country_Code</th>\n      <th>Country_Number</th>\n    </tr>\n  </thead>\n  <tbody>\n    <tr>\n      <th>0</th>\n      <td>38040</td>\n      <td>04/09/2016</td>\n      <td>HTS-038040-0002</td>\n      <td>0.269231</td>\n      <td>White T-Shirt M</td>\n      <td>20</td>\n      <td>1</td>\n      <td>Mozilla/5.0 (Windows NT 10.0| WOW64) AppleWebK...</td>\n      <td>NaN</td>\n      <td>NaN</td>\n      <td>...</td>\n      <td>NaN</td>\n      <td>NaN</td>\n      <td>NaN</td>\n      <td>NaN</td>\n      <td>Africa</td>\n      <td>AF</td>\n      <td>Namibia, Republic of</td>\n      <td>NaN</td>\n      <td>NAM</td>\n      <td>516.0</td>\n    </tr>\n    <tr>\n      <th>1</th>\n      <td>vft1eu</td>\n      <td>26/02/2017</td>\n      <td>HTS-vft1eu-0003</td>\n      <td>0.307692</td>\n      <td>White T-Shirt F</td>\n      <td>18</td>\n      <td>3</td>\n      <td>Mozilla/5.0 (Macintosh| Intel Mac OS X 10_12_3...</td>\n      <td>vft1eu</td>\n      <td>F</td>\n      <td>...</td>\n      <td>Germany, Federal Republic of</td>\n      <td>DE</td>\n      <td>NaN</td>\n      <td>HEOX@formation.fr</td>\n      <td>Europe</td>\n      <td>EU</td>\n      <td>Germany, Federal Republic of</td>\n      <td>DE</td>\n      <td>DEU</td>\n      <td>276.0</td>\n    </tr>\n    <tr>\n      <th>2</th>\n      <td>914324</td>\n      <td>01/12/2013</td>\n      <td>HTS-914324-0001</td>\n      <td>0.307692</td>\n      <td>White T-Shirt F</td>\n      <td>18</td>\n      <td>1</td>\n      <td>Mozilla/5.0 (Windows NT 10.0| WOW64) AppleWebK...</td>\n      <td>NaN</td>\n      <td>NaN</td>\n      <td>...</td>\n      <td>NaN</td>\n      <td>NaN</td>\n      <td>NaN</td>\n      <td>NaN</td>\n      <td>Africa</td>\n      <td>AF</td>\n      <td>Namibia, Republic of</td>\n      <td>NaN</td>\n      <td>NAM</td>\n      <td>516.0</td>\n    </tr>\n    <tr>\n      <th>3</th>\n      <td>61311</td>\n      <td>15/01/2016</td>\n      <td>HTS-061311-0003</td>\n      <td>0.269231</td>\n      <td>Black T-Shirt F</td>\n      <td>17,5</td>\n      <td>4</td>\n      <td>Mozilla/5.0 (Macintosh| Intel Mac OS X 10_12_3...</td>\n      <td>NaN</td>\n      <td>NaN</td>\n      <td>...</td>\n      <td>NaN</td>\n      <td>NaN</td>\n      <td>NaN</td>\n      <td>NaN</td>\n      <td>Africa</td>\n      <td>AF</td>\n      <td>Namibia, Republic of</td>\n      <td>NaN</td>\n      <td>NAM</td>\n      <td>516.0</td>\n    </tr>\n    <tr>\n      <th>4</th>\n      <td>494332</td>\n      <td>03/11/2013</td>\n      <td>HTS-494332-0001</td>\n      <td>0.307692</td>\n      <td>White T-Shirt F</td>\n      <td>18</td>\n      <td>2</td>\n      <td>Mozilla/5.0 (Macintosh| Intel Mac OS X 10_11_6...</td>\n      <td>NaN</td>\n      <td>NaN</td>\n      <td>...</td>\n      <td>NaN</td>\n      <td>NaN</td>\n      <td>NaN</td>\n      <td>NaN</td>\n      <td>Africa</td>\n      <td>AF</td>\n      <td>Namibia, Republic of</td>\n      <td>NaN</td>\n      <td>NAM</td>\n      <td>516.0</td>\n    </tr>\n    <tr>\n      <th>...</th>\n      <td>...</td>\n      <td>...</td>\n      <td>...</td>\n      <td>...</td>\n      <td>...</td>\n      <td>...</td>\n      <td>...</td>\n      <td>...</td>\n      <td>...</td>\n      <td>...</td>\n      <td>...</td>\n      <td>...</td>\n      <td>...</td>\n      <td>...</td>\n      <td>...</td>\n      <td>...</td>\n      <td>...</td>\n      <td>...</td>\n      <td>...</td>\n      <td>...</td>\n      <td>...</td>\n    </tr>\n    <tr>\n      <th>12916</th>\n      <td>0b59cn</td>\n      <td>12/12/2016</td>\n      <td>HTS-0b59cn-0004</td>\n      <td>0.230769</td>\n      <td>Tennis Shirt</td>\n      <td>24</td>\n      <td>5</td>\n      <td>Mozilla/5.0 (X11| Ubuntu| Linux x86_64| rv:51....</td>\n      <td>NaN</td>\n      <td>NaN</td>\n      <td>...</td>\n      <td>NaN</td>\n      <td>NaN</td>\n      <td>NaN</td>\n      <td>NaN</td>\n      <td>Africa</td>\n      <td>AF</td>\n      <td>Namibia, Republic of</td>\n      <td>NaN</td>\n      <td>NAM</td>\n      <td>516.0</td>\n    </tr>\n    <tr>\n      <th>12917</th>\n      <td>357322</td>\n      <td>10/12/2016</td>\n      <td>HTS-357322-0007</td>\n      <td>0.115385</td>\n      <td>Tennis Shirt</td>\n      <td>24</td>\n      <td>3</td>\n      <td>Mozilla/5.0 (Windows NT 10.0| WOW64) AppleWebK...</td>\n      <td>NaN</td>\n      <td>NaN</td>\n      <td>...</td>\n      <td>NaN</td>\n      <td>NaN</td>\n      <td>NaN</td>\n      <td>NaN</td>\n      <td>Africa</td>\n      <td>AF</td>\n      <td>Namibia, Republic of</td>\n      <td>NaN</td>\n      <td>NAM</td>\n      <td>516.0</td>\n    </tr>\n    <tr>\n      <th>12918</th>\n      <td>l8c64t</td>\n      <td>01/03/2017</td>\n      <td>HTS-l8c64t-0003</td>\n      <td>0.192308</td>\n      <td>Tennis Shirt</td>\n      <td>24</td>\n      <td>2</td>\n      <td>Mozilla/5.0 (Windows NT 10.0| WOW64| rv:52.0) ...</td>\n      <td>NaN</td>\n      <td>NaN</td>\n      <td>...</td>\n      <td>NaN</td>\n      <td>NaN</td>\n      <td>NaN</td>\n      <td>NaN</td>\n      <td>Africa</td>\n      <td>AF</td>\n      <td>Namibia, Republic of</td>\n      <td>NaN</td>\n      <td>NAM</td>\n      <td>516.0</td>\n    </tr>\n    <tr>\n      <th>12919</th>\n      <td>946557</td>\n      <td>21/07/2016</td>\n      <td>HTS-946557-0005</td>\n      <td>0.115385</td>\n      <td>Tennis Shirt</td>\n      <td>24</td>\n      <td>2</td>\n      <td>Mozilla/5.0 (Windows NT 10.0| Win64| x64) Appl...</td>\n      <td>NaN</td>\n      <td>NaN</td>\n      <td>...</td>\n      <td>NaN</td>\n      <td>NaN</td>\n      <td>NaN</td>\n      <td>NaN</td>\n      <td>Africa</td>\n      <td>AF</td>\n      <td>Namibia, Republic of</td>\n      <td>NaN</td>\n      <td>NAM</td>\n      <td>516.0</td>\n    </tr>\n    <tr>\n      <th>12920</th>\n      <td>1bhyje</td>\n      <td>22/06/2016</td>\n      <td>HTS-1bhyje-0002</td>\n      <td>0.576923</td>\n      <td>Tennis Shirt</td>\n      <td>24</td>\n      <td>1</td>\n      <td>Mozilla/5.0 (X11| Linux x86_64) AppleWebKit/53...</td>\n      <td>NaN</td>\n      <td>NaN</td>\n      <td>...</td>\n      <td>NaN</td>\n      <td>NaN</td>\n      <td>NaN</td>\n      <td>NaN</td>\n      <td>Africa</td>\n      <td>AF</td>\n      <td>Namibia, Republic of</td>\n      <td>NaN</td>\n      <td>NAM</td>\n      <td>516.0</td>\n    </tr>\n  </tbody>\n</table>\n<p>12921 rows × 24 columns</p>\n</div>"
     },
     "metadata": {}
    }
   ],
   "execution_count": null
  },
  {
   "cell_type": "markdown",
   "source": "# 4 - Data Manipulation : Label Encoding",
   "metadata": {
    "tags": [],
    "is_collapsed": false,
    "cell_id": "00020-19b53742-8b2f-4b97-8a9c-f1985127193d",
    "deepnote_cell_type": "text-cell-h1"
   }
  },
  {
   "cell_type": "markdown",
   "source": "<div class=\"alert alert-block alert-info\">\n<b><p style=\"color:red;\">Exercice 21: Encode the column t-shirt category</p></b>\nEncode the column <b>tshirt_category</b> by replacing the values. <br>\nYou will need the function <b>sklearn.preprocessing.LabelEncoder</b> : <a href=\"https://scikit-learn.org/stable/modules/generated/sklearn.preprocessing.LabelEncoder.html?highlight=label%20encoder#sklearn.preprocessing.LabelEncoder\">https://scikit-learn.org/stable/modules/generated/sklearn.preprocessing.LabelEncoder.html?highlight=label%20encoder#sklearn.preprocessing.LabelEncoder</a> <br>\nWe advice that you look at your data shape first, merge your tables, and check at the end your shape\n",
   "metadata": {
    "tags": [],
    "cell_id": "00051-ffdc9067-1855-4cfb-a8fb-6ed62645648f",
    "deepnote_cell_type": "markdown"
   }
  },
  {
   "cell_type": "code",
   "metadata": {
    "tags": [],
    "cell_id": "00051-858f3ce2-3044-479d-bb3b-c8c58e6906d5",
    "deepnote_to_be_reexecuted": false,
    "source_hash": "2b824ecb",
    "execution_start": 1629809052153,
    "execution_millis": 77,
    "is_output_hidden": true,
    "deepnote_cell_type": "code"
   },
   "source": "# Look at the data\ndf_final",
   "outputs": [
    {
     "output_type": "execute_result",
     "execution_count": 42,
     "data": {
      "application/vnd.deepnote.dataframe.v2+json": {
       "row_count": 12921,
       "column_count": 24,
       "columns": [
        {
         "name": "customer_id",
         "dtype": "object",
         "stats": {
          "unique_count": 5380,
          "nan_count": 0,
          "categories": [
           {
            "name": "536917",
            "count": 13
           },
           {
            "name": "409679",
            "count": 13
           },
           {
            "name": "5378 others",
            "count": 12895
           }
          ]
         }
        },
        {
         "name": "order_date",
         "dtype": "object",
         "stats": {
          "unique_count": 1401,
          "nan_count": 0,
          "categories": [
           {
            "name": "02/11/2015",
            "count": 25
           },
           {
            "name": "05/11/2015",
            "count": 25
           },
           {
            "name": "1399 others",
            "count": 12871
           }
          ]
         }
        },
        {
         "name": "order_id",
         "dtype": "object",
         "stats": {
          "unique_count": 12902,
          "nan_count": 0,
          "categories": [
           {
            "name": "HTS-296958-0001",
            "count": 2
           },
           {
            "name": "HTS-923895-0002",
            "count": 2
           },
           {
            "name": "12900 others",
            "count": 12917
           }
          ]
         }
        },
        {
         "name": "pages_visited",
         "dtype": "float64",
         "stats": {
          "unique_count": 25,
          "nan_count": 0,
          "min": "0.0",
          "max": "1.0",
          "histogram": [
           {
            "bin_start": 0,
            "bin_end": 0.1,
            "count": 394
           },
           {
            "bin_start": 0.1,
            "bin_end": 0.2,
            "count": 2004
           },
           {
            "bin_start": 0.2,
            "bin_end": 0.30000000000000004,
            "count": 2495
           },
           {
            "bin_start": 0.30000000000000004,
            "bin_end": 0.4,
            "count": 4063
           },
           {
            "bin_start": 0.4,
            "bin_end": 0.5,
            "count": 2668
           },
           {
            "bin_start": 0.5,
            "bin_end": 0.6000000000000001,
            "count": 835
           },
           {
            "bin_start": 0.6000000000000001,
            "bin_end": 0.7000000000000001,
            "count": 376
           },
           {
            "bin_start": 0.7000000000000001,
            "bin_end": 0.8,
            "count": 60
           },
           {
            "bin_start": 0.8,
            "bin_end": 0.9,
            "count": 25
           },
           {
            "bin_start": 0.9,
            "bin_end": 1,
            "count": 1
           }
          ]
         }
        },
        {
         "name": "tshirt_category",
         "dtype": "int64",
         "stats": {
          "unique_count": 6,
          "nan_count": 0,
          "min": "0",
          "max": "5",
          "histogram": [
           {
            "bin_start": 0,
            "bin_end": 0.5,
            "count": 1707
           },
           {
            "bin_start": 0.5,
            "bin_end": 1,
            "count": 0
           },
           {
            "bin_start": 1,
            "bin_end": 1.5,
            "count": 2323
           },
           {
            "bin_start": 1.5,
            "bin_end": 2,
            "count": 0
           },
           {
            "bin_start": 2,
            "bin_end": 2.5,
            "count": 3047
           },
           {
            "bin_start": 2.5,
            "bin_end": 3,
            "count": 0
           },
           {
            "bin_start": 3,
            "bin_end": 3.5,
            "count": 1075
           },
           {
            "bin_start": 3.5,
            "bin_end": 4,
            "count": 0
           },
           {
            "bin_start": 4,
            "bin_end": 4.5,
            "count": 1814
           },
           {
            "bin_start": 4.5,
            "bin_end": 5,
            "count": 2955
           }
          ]
         }
        },
        {
         "name": "tshirt_price",
         "dtype": "object",
         "stats": {
          "unique_count": 6,
          "nan_count": 0,
          "categories": [
           {
            "name": "23",
            "count": 3047
           },
           {
            "name": "20",
            "count": 2955
           },
           {
            "name": "4 others",
            "count": 6919
           }
          ]
         }
        },
        {
         "name": "tshirt_quantity",
         "dtype": "int64",
         "stats": {
          "unique_count": 28,
          "nan_count": 0,
          "min": "1",
          "max": "29",
          "histogram": [
           {
            "bin_start": 1,
            "bin_end": 3.8,
            "count": 10651
           },
           {
            "bin_start": 3.8,
            "bin_end": 6.6,
            "count": 1459
           },
           {
            "bin_start": 6.6,
            "bin_end": 9.399999999999999,
            "count": 181
           },
           {
            "bin_start": 9.399999999999999,
            "bin_end": 12.2,
            "count": 122
           },
           {
            "bin_start": 12.2,
            "bin_end": 15,
            "count": 116
           },
           {
            "bin_start": 15,
            "bin_end": 17.799999999999997,
            "count": 170
           },
           {
            "bin_start": 17.799999999999997,
            "bin_end": 20.599999999999998,
            "count": 126
           },
           {
            "bin_start": 20.599999999999998,
            "bin_end": 23.4,
            "count": 65
           },
           {
            "bin_start": 23.4,
            "bin_end": 26.2,
            "count": 27
           },
           {
            "bin_start": 26.2,
            "bin_end": 29,
            "count": 4
           }
          ]
         }
        },
        {
         "name": "user_agent",
         "dtype": "object"
        },
        {
         "name": "customerID",
         "dtype": "object"
        },
        {
         "name": "gender",
         "dtype": "object"
        },
        {
         "name": "birthdate",
         "dtype": "object"
        },
        {
         "name": "ip_address",
         "dtype": "object"
        },
        {
         "name": "latitude",
         "dtype": "float64"
        },
        {
         "name": "longitude",
         "dtype": "float64"
        },
        {
         "name": "Country Name",
         "dtype": "object"
        },
        {
         "name": "country_code",
         "dtype": "object"
        },
        {
         "name": "city_name",
         "dtype": "object"
        },
        {
         "name": "email",
         "dtype": "object"
        },
        {
         "name": "Continent_Name",
         "dtype": "object"
        },
        {
         "name": "Continent_Code",
         "dtype": "object"
        },
        {
         "name": "Country_Name",
         "dtype": "object"
        },
        {
         "name": "Two_Letter_Country_Code",
         "dtype": "object"
        },
        {
         "name": "Three_Letter_Country_Code",
         "dtype": "object"
        },
        {
         "name": "Country_Number",
         "dtype": "float64"
        },
        {
         "name": "_deepnote_index_column",
         "dtype": "int64"
        }
       ],
       "rows_top": [
        {
         "customer_id": "38040",
         "order_date": "04/09/2016",
         "order_id": "HTS-038040-0002",
         "pages_visited": 0.26923076923076916,
         "tshirt_category": 5,
         "tshirt_price": "20",
         "tshirt_quantity": 1,
         "user_agent": "Mozilla/5.0 (Windows NT 10.0| WOW64) AppleWebKit/537.36 (KHTML, like Gecko) Chrome/56.0.2924.87 Saf…",
         "customerID": "nan",
         "gender": "nan",
         "birthdate": "nan",
         "ip_address": "nan",
         "latitude": "nan",
         "longitude": "nan",
         "Country Name": "nan",
         "country_code": "nan",
         "city_name": "nan",
         "email": "nan",
         "Continent_Name": "Africa",
         "Continent_Code": "AF",
         "Country_Name": "Namibia, Republic of",
         "Two_Letter_Country_Code": "nan",
         "Three_Letter_Country_Code": "NAM",
         "Country_Number": 516,
         "_deepnote_index_column": 0
        },
        {
         "customer_id": "vft1eu",
         "order_date": "26/02/2017",
         "order_id": "HTS-vft1eu-0003",
         "pages_visited": 0.30769230769230765,
         "tshirt_category": 4,
         "tshirt_price": "18",
         "tshirt_quantity": 3,
         "user_agent": "Mozilla/5.0 (Macintosh| Intel Mac OS X 10_12_3) AppleWebKit/602.4.8 (KHTML, like Gecko) Version/10.…",
         "customerID": "vft1eu",
         "gender": "F",
         "birthdate": "1969-06-27 00:00:00",
         "ip_address": "53.115.6.106",
         "latitude": 51,
         "longitude": 9,
         "Country Name": "Germany, Federal Republic of",
         "country_code": "DE",
         "city_name": "nan",
         "email": "HEOX@formation.fr",
         "Continent_Name": "Europe",
         "Continent_Code": "EU",
         "Country_Name": "Germany, Federal Republic of",
         "Two_Letter_Country_Code": "DE",
         "Three_Letter_Country_Code": "DEU",
         "Country_Number": 276,
         "_deepnote_index_column": 1
        },
        {
         "customer_id": "914324",
         "order_date": "01/12/2013",
         "order_id": "HTS-914324-0001",
         "pages_visited": 0.30769230769230765,
         "tshirt_category": 4,
         "tshirt_price": "18",
         "tshirt_quantity": 1,
         "user_agent": "Mozilla/5.0 (Windows NT 10.0| WOW64) AppleWebKit/537.36 (KHTML, like Gecko) Chrome/56.0.2924.87 Saf…",
         "customerID": "nan",
         "gender": "nan",
         "birthdate": "nan",
         "ip_address": "nan",
         "latitude": "nan",
         "longitude": "nan",
         "Country Name": "nan",
         "country_code": "nan",
         "city_name": "nan",
         "email": "nan",
         "Continent_Name": "Africa",
         "Continent_Code": "AF",
         "Country_Name": "Namibia, Republic of",
         "Two_Letter_Country_Code": "nan",
         "Three_Letter_Country_Code": "NAM",
         "Country_Number": 516,
         "_deepnote_index_column": 2
        },
        {
         "customer_id": "61311",
         "order_date": "15/01/2016",
         "order_id": "HTS-061311-0003",
         "pages_visited": 0.26923076923076916,
         "tshirt_category": 0,
         "tshirt_price": "17,5",
         "tshirt_quantity": 4,
         "user_agent": "Mozilla/5.0 (Macintosh| Intel Mac OS X 10_12_3) AppleWebKit/537.36 (KHTML, like Gecko) Chrome/56.0.…",
         "customerID": "nan",
         "gender": "nan",
         "birthdate": "nan",
         "ip_address": "nan",
         "latitude": "nan",
         "longitude": "nan",
         "Country Name": "nan",
         "country_code": "nan",
         "city_name": "nan",
         "email": "nan",
         "Continent_Name": "Africa",
         "Continent_Code": "AF",
         "Country_Name": "Namibia, Republic of",
         "Two_Letter_Country_Code": "nan",
         "Three_Letter_Country_Code": "NAM",
         "Country_Number": 516,
         "_deepnote_index_column": 3
        },
        {
         "customer_id": "494332",
         "order_date": "03/11/2013",
         "order_id": "HTS-494332-0001",
         "pages_visited": 0.30769230769230765,
         "tshirt_category": 4,
         "tshirt_price": "18",
         "tshirt_quantity": 2,
         "user_agent": "Mozilla/5.0 (Macintosh| Intel Mac OS X 10_11_6) AppleWebKit/537.36 (KHTML, like Gecko) Chrome/56.0.…",
         "customerID": "nan",
         "gender": "nan",
         "birthdate": "nan",
         "ip_address": "nan",
         "latitude": "nan",
         "longitude": "nan",
         "Country Name": "nan",
         "country_code": "nan",
         "city_name": "nan",
         "email": "nan",
         "Continent_Name": "Africa",
         "Continent_Code": "AF",
         "Country_Name": "Namibia, Republic of",
         "Two_Letter_Country_Code": "nan",
         "Three_Letter_Country_Code": "NAM",
         "Country_Number": 516,
         "_deepnote_index_column": 4
        },
        {
         "customer_id": "463794",
         "order_date": "02/10/2013",
         "order_id": "HTS-463794-0001",
         "pages_visited": 0.4615384615384615,
         "tshirt_category": 3,
         "tshirt_price": "24",
         "tshirt_quantity": 1,
         "user_agent": "Mozilla/5.0 (Windows NT 10.0| Win64| x64) AppleWebKit/537.36 (KHTML, like Gecko) Chrome/56.0.2924.8…",
         "customerID": "nan",
         "gender": "nan",
         "birthdate": "nan",
         "ip_address": "nan",
         "latitude": "nan",
         "longitude": "nan",
         "Country Name": "nan",
         "country_code": "nan",
         "city_name": "nan",
         "email": "nan",
         "Continent_Name": "Africa",
         "Continent_Code": "AF",
         "Country_Name": "Namibia, Republic of",
         "Two_Letter_Country_Code": "nan",
         "Three_Letter_Country_Code": "NAM",
         "Country_Number": 516,
         "_deepnote_index_column": 5
        },
        {
         "customer_id": "132885",
         "order_date": "23/07/2013",
         "order_id": "HTS-132885-0001",
         "pages_visited": 0.5769230769230768,
         "tshirt_category": 5,
         "tshirt_price": "20",
         "tshirt_quantity": 1,
         "user_agent": "Mozilla/5.0 (Windows NT 10.0| Win64| x64) AppleWebKit/537.36 (KHTML, like Gecko) Chrome/56.0.2924.8…",
         "customerID": "nan",
         "gender": "nan",
         "birthdate": "nan",
         "ip_address": "nan",
         "latitude": "nan",
         "longitude": "nan",
         "Country Name": "nan",
         "country_code": "nan",
         "city_name": "nan",
         "email": "nan",
         "Continent_Name": "Africa",
         "Continent_Code": "AF",
         "Country_Name": "Namibia, Republic of",
         "Two_Letter_Country_Code": "nan",
         "Three_Letter_Country_Code": "NAM",
         "Country_Number": 516,
         "_deepnote_index_column": 6
        },
        {
         "customer_id": "519113",
         "order_date": "24/11/2013",
         "order_id": "HTS-519113-0001",
         "pages_visited": 0.5769230769230768,
         "tshirt_category": 0,
         "tshirt_price": "17,5",
         "tshirt_quantity": 1,
         "user_agent": "Mozilla/5.0 (Windows NT 6.1| WOW64) AppleWebKit/537.36 (KHTML, like Gecko) Chrome/56.0.2924.87 Safa…",
         "customerID": "nan",
         "gender": "nan",
         "birthdate": "nan",
         "ip_address": "nan",
         "latitude": "nan",
         "longitude": "nan",
         "Country Name": "nan",
         "country_code": "nan",
         "city_name": "nan",
         "email": "nan",
         "Continent_Name": "Africa",
         "Continent_Code": "AF",
         "Country_Name": "Namibia, Republic of",
         "Two_Letter_Country_Code": "nan",
         "Three_Letter_Country_Code": "NAM",
         "Country_Number": 516,
         "_deepnote_index_column": 7
        },
        {
         "customer_id": "je57lh",
         "order_date": "24/11/2015",
         "order_id": "HTS-je57lh-0001",
         "pages_visited": 0.4999999999999999,
         "tshirt_category": 2,
         "tshirt_price": "23",
         "tshirt_quantity": 3,
         "user_agent": "Mozilla/5.0 (Windows NT 10.0| Win64| x64) AppleWebKit/537.36 (KHTML, like Gecko) Chrome/56.0.2924.8…",
         "customerID": "je57lh",
         "gender": "M",
         "birthdate": "1953-03-12 00:00:00",
         "ip_address": "110.116.130.200",
         "latitude": 39.92890167,
         "longitude": 116.388298,
         "Country Name": "China, People's Republic of",
         "country_code": "CN",
         "city_name": "Beijing",
         "email": "GOPB@formation.fr",
         "Continent_Name": "Asia",
         "Continent_Code": "AS",
         "Country_Name": "China, People's Republic of",
         "Two_Letter_Country_Code": "CN",
         "Three_Letter_Country_Code": "CHN",
         "Country_Number": 156,
         "_deepnote_index_column": 8
        },
        {
         "customer_id": "49348",
         "order_date": "15/08/2016",
         "order_id": "HTS-049348-0004",
         "pages_visited": 0.15384615384615383,
         "tshirt_category": 0,
         "tshirt_price": "17,5",
         "tshirt_quantity": 1,
         "user_agent": "Mozilla/5.0 (Macintosh| Intel Mac OS X 10_11_6) AppleWebKit/537.36 (KHTML, like Gecko) Chrome/56.0.…",
         "customerID": "nan",
         "gender": "nan",
         "birthdate": "nan",
         "ip_address": "nan",
         "latitude": "nan",
         "longitude": "nan",
         "Country Name": "nan",
         "country_code": "nan",
         "city_name": "nan",
         "email": "nan",
         "Continent_Name": "Africa",
         "Continent_Code": "AF",
         "Country_Name": "Namibia, Republic of",
         "Two_Letter_Country_Code": "nan",
         "Three_Letter_Country_Code": "NAM",
         "Country_Number": 516,
         "_deepnote_index_column": 9
        },
        {
         "customer_id": "heb26i",
         "order_date": "29/11/2015",
         "order_id": "HTS-heb26i-0001",
         "pages_visited": 0.4999999999999999,
         "tshirt_category": 0,
         "tshirt_price": "17,5",
         "tshirt_quantity": 1,
         "user_agent": "Mozilla/5.0 (Windows NT 6.1| Win64| x64) AppleWebKit/537.36 (KHTML, like Gecko) Chrome/56.0.2924.87…",
         "customerID": "heb26i",
         "gender": "F",
         "birthdate": "1984-12-27 00:00:00",
         "ip_address": "62.188.236.61",
         "latitude": 51.5,
         "longitude": -0.129999995,
         "Country Name": "United Kingdom of Great Britain & Northern Ireland",
         "country_code": "GB",
         "city_name": "nan",
         "email": "RPOO@formation.fr",
         "Continent_Name": "Europe",
         "Continent_Code": "EU",
         "Country_Name": "United Kingdom of Great Britain & Northern Ireland",
         "Two_Letter_Country_Code": "GB",
         "Three_Letter_Country_Code": "GBR",
         "Country_Number": 826,
         "_deepnote_index_column": 10
        },
        {
         "customer_id": "989355",
         "order_date": "09/10/2015",
         "order_id": "HTS-989355-0003",
         "pages_visited": 0.30769230769230765,
         "tshirt_category": 2,
         "tshirt_price": "23",
         "tshirt_quantity": 2,
         "user_agent": "Mozilla/5.0 (Windows NT 6.1| WOW64) AppleWebKit/537.36 (KHTML, like Gecko) Chrome/56.0.2924.87 Safa…",
         "customerID": "nan",
         "gender": "nan",
         "birthdate": "nan",
         "ip_address": "nan",
         "latitude": "nan",
         "longitude": "nan",
         "Country Name": "nan",
         "country_code": "nan",
         "city_name": "nan",
         "email": "nan",
         "Continent_Name": "Africa",
         "Continent_Code": "AF",
         "Country_Name": "Namibia, Republic of",
         "Two_Letter_Country_Code": "nan",
         "Three_Letter_Country_Code": "NAM",
         "Country_Number": 516,
         "_deepnote_index_column": 11
        },
        {
         "customer_id": "1b0lnt",
         "order_date": "16/01/2016",
         "order_id": "HTS-1b0lnt-0002",
         "pages_visited": 0.4999999999999999,
         "tshirt_category": 5,
         "tshirt_price": "20",
         "tshirt_quantity": 1,
         "user_agent": "Mozilla/5.0 (X11| Linux x86_64) AppleWebKit/537.36 (KHTML, like Gecko) Chrome/56.0.2924.87 Safari/5…",
         "customerID": "1b0lnt",
         "gender": "F",
         "birthdate": "1981-11-07 00:00:00",
         "ip_address": "117.228.120.81",
         "latitude": 18.5333004,
         "longitude": 73.86669922,
         "Country Name": "India, Republic of",
         "country_code": "IN",
         "city_name": "Poona",
         "email": "RKYX@formation.fr",
         "Continent_Name": "Asia",
         "Continent_Code": "AS",
         "Country_Name": "India, Republic of",
         "Two_Letter_Country_Code": "IN",
         "Three_Letter_Country_Code": "IND",
         "Country_Number": 356,
         "_deepnote_index_column": 12
        },
        {
         "customer_id": "198773",
         "order_date": "17/01/2015",
         "order_id": "HTS-198773-0002",
         "pages_visited": 0.11538461538461536,
         "tshirt_category": 5,
         "tshirt_price": "20",
         "tshirt_quantity": 1,
         "user_agent": "Mozilla/5.0 (Windows NT 10.0| Win64| x64) AppleWebKit/537.36 (KHTML, like Gecko) Chrome/56.0.2924.8…",
         "customerID": "nan",
         "gender": "nan",
         "birthdate": "nan",
         "ip_address": "nan",
         "latitude": "nan",
         "longitude": "nan",
         "Country Name": "nan",
         "country_code": "nan",
         "city_name": "nan",
         "email": "nan",
         "Continent_Name": "Africa",
         "Continent_Code": "AF",
         "Country_Name": "Namibia, Republic of",
         "Two_Letter_Country_Code": "nan",
         "Three_Letter_Country_Code": "NAM",
         "Country_Number": 516,
         "_deepnote_index_column": 13
        },
        {
         "customer_id": "476084",
         "order_date": "20/07/2014",
         "order_id": "HTS-476084-0001",
         "pages_visited": 0.34615384615384615,
         "tshirt_category": 5,
         "tshirt_price": "20",
         "tshirt_quantity": 2,
         "user_agent": "Mozilla/5.0 (Windows NT 10.0| Win64| x64) AppleWebKit/537.36 (KHTML, like Gecko) Chrome/56.0.2924.8…",
         "customerID": "nan",
         "gender": "nan",
         "birthdate": "nan",
         "ip_address": "nan",
         "latitude": "nan",
         "longitude": "nan",
         "Country Name": "nan",
         "country_code": "nan",
         "city_name": "nan",
         "email": "nan",
         "Continent_Name": "Africa",
         "Continent_Code": "AF",
         "Country_Name": "Namibia, Republic of",
         "Two_Letter_Country_Code": "nan",
         "Three_Letter_Country_Code": "NAM",
         "Country_Number": 516,
         "_deepnote_index_column": 14
        },
        {
         "customer_id": "907041",
         "order_date": "20/05/2016",
         "order_id": "HTS-907041-0002",
         "pages_visited": 0.4615384615384615,
         "tshirt_category": 4,
         "tshirt_price": "18",
         "tshirt_quantity": 3,
         "user_agent": "Mozilla/5.0 (Windows NT 6.1| WOW64| rv:51.0) Gecko/20100101 Firefox/51.0",
         "customerID": "nan",
         "gender": "nan",
         "birthdate": "nan",
         "ip_address": "nan",
         "latitude": "nan",
         "longitude": "nan",
         "Country Name": "nan",
         "country_code": "nan",
         "city_name": "nan",
         "email": "nan",
         "Continent_Name": "Africa",
         "Continent_Code": "AF",
         "Country_Name": "Namibia, Republic of",
         "Two_Letter_Country_Code": "nan",
         "Three_Letter_Country_Code": "NAM",
         "Country_Number": 516,
         "_deepnote_index_column": 15
        },
        {
         "customer_id": "399607",
         "order_date": "09/03/2014",
         "order_id": "HTS-399607-0002",
         "pages_visited": 0.3846153846153845,
         "tshirt_category": 5,
         "tshirt_price": "20",
         "tshirt_quantity": 5,
         "user_agent": "Mozilla/5.0 (Windows NT 6.1| WOW64) AppleWebKit/537.36 (KHTML, like Gecko) Chrome/56.0.2924.87 Safa…",
         "customerID": "nan",
         "gender": "nan",
         "birthdate": "nan",
         "ip_address": "nan",
         "latitude": "nan",
         "longitude": "nan",
         "Country Name": "nan",
         "country_code": "nan",
         "city_name": "nan",
         "email": "nan",
         "Continent_Name": "Africa",
         "Continent_Code": "AF",
         "Country_Name": "Namibia, Republic of",
         "Two_Letter_Country_Code": "nan",
         "Three_Letter_Country_Code": "NAM",
         "Country_Number": 516,
         "_deepnote_index_column": 16
        },
        {
         "customer_id": "610587",
         "order_date": "08/01/2017",
         "order_id": "HTS-610587-0004",
         "pages_visited": 0.11538461538461536,
         "tshirt_category": 2,
         "tshirt_price": "23",
         "tshirt_quantity": 1,
         "user_agent": "Mozilla/5.0 (X11| Linux x86_64) AppleWebKit/537.36 (KHTML, like Gecko) Chrome/56.0.2924.87 Safari/5…",
         "customerID": "nan",
         "gender": "nan",
         "birthdate": "nan",
         "ip_address": "nan",
         "latitude": "nan",
         "longitude": "nan",
         "Country Name": "nan",
         "country_code": "nan",
         "city_name": "nan",
         "email": "nan",
         "Continent_Name": "Africa",
         "Continent_Code": "AF",
         "Country_Name": "Namibia, Republic of",
         "Two_Letter_Country_Code": "nan",
         "Three_Letter_Country_Code": "NAM",
         "Country_Number": 516,
         "_deepnote_index_column": 17
        },
        {
         "customer_id": "707341",
         "order_date": "03/10/2014",
         "order_id": "HTS-707341-0003",
         "pages_visited": 0.23076923076923073,
         "tshirt_category": 1,
         "tshirt_price": "19",
         "tshirt_quantity": 3,
         "user_agent": "Mozilla/5.0 (Macintosh| Intel Mac OS X 10_12_3) AppleWebKit/602.4.8 (KHTML, like Gecko) Version/10.…",
         "customerID": "nan",
         "gender": "nan",
         "birthdate": "nan",
         "ip_address": "nan",
         "latitude": "nan",
         "longitude": "nan",
         "Country Name": "nan",
         "country_code": "nan",
         "city_name": "nan",
         "email": "nan",
         "Continent_Name": "Africa",
         "Continent_Code": "AF",
         "Country_Name": "Namibia, Republic of",
         "Two_Letter_Country_Code": "nan",
         "Three_Letter_Country_Code": "NAM",
         "Country_Number": 516,
         "_deepnote_index_column": 18
        },
        {
         "customer_id": "pq3m7c",
         "order_date": "08/09/2015",
         "order_id": "HTS-pq3m7c-0001",
         "pages_visited": 0.34615384615384615,
         "tshirt_category": 2,
         "tshirt_price": "23",
         "tshirt_quantity": 1,
         "user_agent": "Mozilla/5.0 (Windows NT 6.1| WOW64| rv:52.0) Gecko/20100101 Firefox/52.0",
         "customerID": "pq3m7c",
         "gender": "M",
         "birthdate": "1992-01-19 00:00:00",
         "ip_address": "97.77.88.191",
         "latitude": 38,
         "longitude": -97,
         "Country Name": "United States of America",
         "country_code": "US",
         "city_name": "nan",
         "email": "ZAIT@formation.fr",
         "Continent_Name": "North America",
         "Continent_Code": "nan",
         "Country_Name": "United States of America",
         "Two_Letter_Country_Code": "US",
         "Three_Letter_Country_Code": "USA",
         "Country_Number": 840,
         "_deepnote_index_column": 19
        }
       ],
       "rows_bottom": [
        {
         "customer_id": "676955",
         "order_date": "25/12/2014",
         "order_id": "HTS-676955-0001",
         "pages_visited": 0.26923076923076916,
         "tshirt_category": 3,
         "tshirt_price": "24",
         "tshirt_quantity": 4,
         "user_agent": "Mozilla/5.0 (Windows NT 6.1| WOW64| rv:51.0) Gecko/20100101 Firefox/51.0",
         "customerID": "nan",
         "gender": "nan",
         "birthdate": "nan",
         "ip_address": "nan",
         "latitude": "nan",
         "longitude": "nan",
         "Country Name": "nan",
         "country_code": "nan",
         "city_name": "nan",
         "email": "nan",
         "Continent_Name": "Africa",
         "Continent_Code": "AF",
         "Country_Name": "Namibia, Republic of",
         "Two_Letter_Country_Code": "nan",
         "Three_Letter_Country_Code": "NAM",
         "Country_Number": 516,
         "_deepnote_index_column": 12900
        },
        {
         "customer_id": "278313",
         "order_date": "09/04/2016",
         "order_id": "HTS-278313-0004",
         "pages_visited": 0.4999999999999999,
         "tshirt_category": 3,
         "tshirt_price": "24",
         "tshirt_quantity": 13,
         "user_agent": "Mozilla/5.0 (Windows NT 6.1| WOW64| rv:51.0) Gecko/20100101 Firefox/51.0",
         "customerID": "nan",
         "gender": "nan",
         "birthdate": "nan",
         "ip_address": "nan",
         "latitude": "nan",
         "longitude": "nan",
         "Country Name": "nan",
         "country_code": "nan",
         "city_name": "nan",
         "email": "nan",
         "Continent_Name": "Africa",
         "Continent_Code": "AF",
         "Country_Name": "Namibia, Republic of",
         "Two_Letter_Country_Code": "nan",
         "Three_Letter_Country_Code": "NAM",
         "Country_Number": 516,
         "_deepnote_index_column": 12901
        },
        {
         "customer_id": "el0sj8",
         "order_date": "12/01/2017",
         "order_id": "HTS-el0sj8-0004",
         "pages_visited": 0.15384615384615383,
         "tshirt_category": 3,
         "tshirt_price": "24",
         "tshirt_quantity": 1,
         "user_agent": "Mozilla/5.0 (Windows NT 6.1| Win64| x64) AppleWebKit/537.36 (KHTML, like Gecko) Chrome/56.0.2924.87…",
         "customerID": "nan",
         "gender": "nan",
         "birthdate": "nan",
         "ip_address": "nan",
         "latitude": "nan",
         "longitude": "nan",
         "Country Name": "nan",
         "country_code": "nan",
         "city_name": "nan",
         "email": "nan",
         "Continent_Name": "Africa",
         "Continent_Code": "AF",
         "Country_Name": "Namibia, Republic of",
         "Two_Letter_Country_Code": "nan",
         "Three_Letter_Country_Code": "NAM",
         "Country_Number": 516,
         "_deepnote_index_column": 12902
        },
        {
         "customer_id": "545790",
         "order_date": "16/07/2015",
         "order_id": "HTS-545790-0005",
         "pages_visited": 0.15384615384615383,
         "tshirt_category": 3,
         "tshirt_price": "24",
         "tshirt_quantity": 3,
         "user_agent": "Mozilla/5.0 (Windows NT 6.1| Win64| x64) AppleWebKit/537.36 (KHTML, like Gecko) Chrome/56.0.2924.87…",
         "customerID": "nan",
         "gender": "nan",
         "birthdate": "nan",
         "ip_address": "nan",
         "latitude": "nan",
         "longitude": "nan",
         "Country Name": "nan",
         "country_code": "nan",
         "city_name": "nan",
         "email": "nan",
         "Continent_Name": "Africa",
         "Continent_Code": "AF",
         "Country_Name": "Namibia, Republic of",
         "Two_Letter_Country_Code": "nan",
         "Three_Letter_Country_Code": "NAM",
         "Country_Number": 516,
         "_deepnote_index_column": 12903
        },
        {
         "customer_id": "585862",
         "order_date": "19/11/2015",
         "order_id": "HTS-585862-0004",
         "pages_visited": 0.1923076923076923,
         "tshirt_category": 3,
         "tshirt_price": "24",
         "tshirt_quantity": 14,
         "user_agent": "Mozilla/5.0 (Windows NT 6.1| Win64| x64) AppleWebKit/537.36 (KHTML, like Gecko) Chrome/56.0.2924.87…",
         "customerID": "nan",
         "gender": "nan",
         "birthdate": "nan",
         "ip_address": "nan",
         "latitude": "nan",
         "longitude": "nan",
         "Country Name": "nan",
         "country_code": "nan",
         "city_name": "nan",
         "email": "nan",
         "Continent_Name": "Africa",
         "Continent_Code": "AF",
         "Country_Name": "Namibia, Republic of",
         "Two_Letter_Country_Code": "nan",
         "Three_Letter_Country_Code": "NAM",
         "Country_Number": 516,
         "_deepnote_index_column": 12904
        },
        {
         "customer_id": "585862",
         "order_date": "17/02/2015",
         "order_id": "HTS-585862-0003",
         "pages_visited": 0.23076923076923073,
         "tshirt_category": 3,
         "tshirt_price": "24",
         "tshirt_quantity": 18,
         "user_agent": "Mozilla/5.0 (Windows NT 6.1| Win64| x64) AppleWebKit/537.36 (KHTML, like Gecko) Chrome/56.0.2924.87…",
         "customerID": "nan",
         "gender": "nan",
         "birthdate": "nan",
         "ip_address": "nan",
         "latitude": "nan",
         "longitude": "nan",
         "Country Name": "nan",
         "country_code": "nan",
         "city_name": "nan",
         "email": "nan",
         "Continent_Name": "Africa",
         "Continent_Code": "AF",
         "Country_Name": "Namibia, Republic of",
         "Two_Letter_Country_Code": "nan",
         "Three_Letter_Country_Code": "NAM",
         "Country_Number": 516,
         "_deepnote_index_column": 12905
        },
        {
         "customer_id": "539658",
         "order_date": "29/12/2015",
         "order_id": "HTS-539658-0003",
         "pages_visited": 0.26923076923076916,
         "tshirt_category": 3,
         "tshirt_price": "24",
         "tshirt_quantity": 6,
         "user_agent": "Mozilla/5.0 (Windows NT 6.1| Win64| x64) AppleWebKit/537.36 (KHTML, like Gecko) Chrome/56.0.2924.87…",
         "customerID": "nan",
         "gender": "nan",
         "birthdate": "nan",
         "ip_address": "nan",
         "latitude": "nan",
         "longitude": "nan",
         "Country Name": "nan",
         "country_code": "nan",
         "city_name": "nan",
         "email": "nan",
         "Continent_Name": "Africa",
         "Continent_Code": "AF",
         "Country_Name": "Namibia, Republic of",
         "Two_Letter_Country_Code": "nan",
         "Three_Letter_Country_Code": "NAM",
         "Country_Number": 516,
         "_deepnote_index_column": 12906
        },
        {
         "customer_id": "187195",
         "order_date": "30/03/2016",
         "order_id": "HTS-187195-0003",
         "pages_visited": 0.30769230769230765,
         "tshirt_category": 3,
         "tshirt_price": "24",
         "tshirt_quantity": 5,
         "user_agent": "Mozilla/5.0 (Windows NT 6.1| Win64| x64) AppleWebKit/537.36 (KHTML, like Gecko) Chrome/56.0.2924.87…",
         "customerID": "nan",
         "gender": "nan",
         "birthdate": "nan",
         "ip_address": "nan",
         "latitude": "nan",
         "longitude": "nan",
         "Country Name": "nan",
         "country_code": "nan",
         "city_name": "nan",
         "email": "nan",
         "Continent_Name": "Africa",
         "Continent_Code": "AF",
         "Country_Name": "Namibia, Republic of",
         "Two_Letter_Country_Code": "nan",
         "Three_Letter_Country_Code": "NAM",
         "Country_Number": 516,
         "_deepnote_index_column": 12907
        },
        {
         "customer_id": "449243",
         "order_date": "09/06/2016",
         "order_id": "HTS-449243-0002",
         "pages_visited": 0.34615384615384615,
         "tshirt_category": 3,
         "tshirt_price": "24",
         "tshirt_quantity": 1,
         "user_agent": "Mozilla/5.0 (Windows NT 6.1| Win64| x64) AppleWebKit/537.36 (KHTML, like Gecko) Chrome/56.0.2924.87…",
         "customerID": "nan",
         "gender": "nan",
         "birthdate": "nan",
         "ip_address": "nan",
         "latitude": "nan",
         "longitude": "nan",
         "Country Name": "nan",
         "country_code": "nan",
         "city_name": "nan",
         "email": "nan",
         "Continent_Name": "Africa",
         "Continent_Code": "AF",
         "Country_Name": "Namibia, Republic of",
         "Two_Letter_Country_Code": "nan",
         "Three_Letter_Country_Code": "NAM",
         "Country_Number": 516,
         "_deepnote_index_column": 12908
        },
        {
         "customer_id": "83318",
         "order_date": "01/08/2016",
         "order_id": "HTS-083318-0005",
         "pages_visited": 0.34615384615384615,
         "tshirt_category": 3,
         "tshirt_price": "24",
         "tshirt_quantity": 2,
         "user_agent": "Mozilla/5.0 (Windows NT 6.1| Win64| x64) AppleWebKit/537.36 (KHTML, like Gecko) Chrome/56.0.2924.87…",
         "customerID": "nan",
         "gender": "nan",
         "birthdate": "nan",
         "ip_address": "nan",
         "latitude": "nan",
         "longitude": "nan",
         "Country Name": "nan",
         "country_code": "nan",
         "city_name": "nan",
         "email": "nan",
         "Continent_Name": "Africa",
         "Continent_Code": "AF",
         "Country_Name": "Namibia, Republic of",
         "Two_Letter_Country_Code": "nan",
         "Three_Letter_Country_Code": "NAM",
         "Country_Number": 516,
         "_deepnote_index_column": 12909
        },
        {
         "customer_id": "453848",
         "order_date": "18/07/2013",
         "order_id": "HTS-453848-0001",
         "pages_visited": 0.34615384615384615,
         "tshirt_category": 3,
         "tshirt_price": "24",
         "tshirt_quantity": 3,
         "user_agent": "Mozilla/5.0 (Windows NT 6.1| Win64| x64) AppleWebKit/537.36 (KHTML, like Gecko) Chrome/56.0.2924.87…",
         "customerID": "nan",
         "gender": "nan",
         "birthdate": "nan",
         "ip_address": "nan",
         "latitude": "nan",
         "longitude": "nan",
         "Country Name": "nan",
         "country_code": "nan",
         "city_name": "nan",
         "email": "nan",
         "Continent_Name": "Africa",
         "Continent_Code": "AF",
         "Country_Name": "Namibia, Republic of",
         "Two_Letter_Country_Code": "nan",
         "Three_Letter_Country_Code": "NAM",
         "Country_Number": 516,
         "_deepnote_index_column": 12910
        },
        {
         "customer_id": "83318",
         "order_date": "28/02/2015",
         "order_id": "HTS-083318-0003",
         "pages_visited": 0.3846153846153845,
         "tshirt_category": 3,
         "tshirt_price": "24",
         "tshirt_quantity": 3,
         "user_agent": "Mozilla/5.0 (Windows NT 6.1| Win64| x64) AppleWebKit/537.36 (KHTML, like Gecko) Chrome/56.0.2924.87…",
         "customerID": "nan",
         "gender": "nan",
         "birthdate": "nan",
         "ip_address": "nan",
         "latitude": "nan",
         "longitude": "nan",
         "Country Name": "nan",
         "country_code": "nan",
         "city_name": "nan",
         "email": "nan",
         "Continent_Name": "Africa",
         "Continent_Code": "AF",
         "Country_Name": "Namibia, Republic of",
         "Two_Letter_Country_Code": "nan",
         "Three_Letter_Country_Code": "NAM",
         "Country_Number": 516,
         "_deepnote_index_column": 12911
        },
        {
         "customer_id": "287913",
         "order_date": "25/12/2014",
         "order_id": "HTS-287913-0002",
         "pages_visited": 0.34615384615384615,
         "tshirt_category": 3,
         "tshirt_price": "24",
         "tshirt_quantity": 1,
         "user_agent": "Mozilla/5.0 (Windows NT 6.3| WOW64) AppleWebKit/537.36 (KHTML, like Gecko) Chrome/56.0.2924.87 Safa…",
         "customerID": "nan",
         "gender": "nan",
         "birthdate": "nan",
         "ip_address": "nan",
         "latitude": "nan",
         "longitude": "nan",
         "Country Name": "nan",
         "country_code": "nan",
         "city_name": "nan",
         "email": "nan",
         "Continent_Name": "Africa",
         "Continent_Code": "AF",
         "Country_Name": "Namibia, Republic of",
         "Two_Letter_Country_Code": "nan",
         "Three_Letter_Country_Code": "NAM",
         "Country_Number": 516,
         "_deepnote_index_column": 12912
        },
        {
         "customer_id": "534599",
         "order_date": "23/06/2014",
         "order_id": "HTS-534599-0001",
         "pages_visited": 0.26923076923076916,
         "tshirt_category": 3,
         "tshirt_price": "24",
         "tshirt_quantity": 3,
         "user_agent": "Mozilla/5.0 (X11| Linux x86_64) AppleWebKit/537.36 (KHTML, like Gecko) Chrome/56.0.2924.87 Safari/5…",
         "customerID": "nan",
         "gender": "nan",
         "birthdate": "nan",
         "ip_address": "nan",
         "latitude": "nan",
         "longitude": "nan",
         "Country Name": "nan",
         "country_code": "nan",
         "city_name": "nan",
         "email": "nan",
         "Continent_Name": "Africa",
         "Continent_Code": "AF",
         "Country_Name": "Namibia, Republic of",
         "Two_Letter_Country_Code": "nan",
         "Three_Letter_Country_Code": "NAM",
         "Country_Number": 516,
         "_deepnote_index_column": 12913
        },
        {
         "customer_id": "467894",
         "order_date": "14/10/2015",
         "order_id": "HTS-467894-0003",
         "pages_visited": 0.34615384615384615,
         "tshirt_category": 3,
         "tshirt_price": "24",
         "tshirt_quantity": 1,
         "user_agent": "Mozilla/5.0 (X11| Linux x86_64) AppleWebKit/537.36 (KHTML, like Gecko) Chrome/56.0.2924.87 Safari/5…",
         "customerID": "nan",
         "gender": "nan",
         "birthdate": "nan",
         "ip_address": "nan",
         "latitude": "nan",
         "longitude": "nan",
         "Country Name": "nan",
         "country_code": "nan",
         "city_name": "nan",
         "email": "nan",
         "Continent_Name": "Africa",
         "Continent_Code": "AF",
         "Country_Name": "Namibia, Republic of",
         "Two_Letter_Country_Code": "nan",
         "Three_Letter_Country_Code": "NAM",
         "Country_Number": 516,
         "_deepnote_index_column": 12914
        },
        {
         "customer_id": "371776",
         "order_date": "04/05/2015",
         "order_id": "HTS-371776-0002",
         "pages_visited": 0.5384615384615384,
         "tshirt_category": 3,
         "tshirt_price": "24",
         "tshirt_quantity": 2,
         "user_agent": "Mozilla/5.0 (X11| Linux x86_64) AppleWebKit/537.36 (KHTML, like Gecko) Chrome/56.0.2924.87 Safari/5…",
         "customerID": "nan",
         "gender": "nan",
         "birthdate": "nan",
         "ip_address": "nan",
         "latitude": "nan",
         "longitude": "nan",
         "Country Name": "nan",
         "country_code": "nan",
         "city_name": "nan",
         "email": "nan",
         "Continent_Name": "Africa",
         "Continent_Code": "AF",
         "Country_Name": "Namibia, Republic of",
         "Two_Letter_Country_Code": "nan",
         "Three_Letter_Country_Code": "NAM",
         "Country_Number": 516,
         "_deepnote_index_column": 12915
        },
        {
         "customer_id": "0b59cn",
         "order_date": "12/12/2016",
         "order_id": "HTS-0b59cn-0004",
         "pages_visited": 0.23076923076923073,
         "tshirt_category": 3,
         "tshirt_price": "24",
         "tshirt_quantity": 5,
         "user_agent": "Mozilla/5.0 (X11| Ubuntu| Linux x86_64| rv:51.0) Gecko/20100101 Firefox/51.0",
         "customerID": "nan",
         "gender": "nan",
         "birthdate": "nan",
         "ip_address": "nan",
         "latitude": "nan",
         "longitude": "nan",
         "Country Name": "nan",
         "country_code": "nan",
         "city_name": "nan",
         "email": "nan",
         "Continent_Name": "Africa",
         "Continent_Code": "AF",
         "Country_Name": "Namibia, Republic of",
         "Two_Letter_Country_Code": "nan",
         "Three_Letter_Country_Code": "NAM",
         "Country_Number": 516,
         "_deepnote_index_column": 12916
        },
        {
         "customer_id": "357322",
         "order_date": "10/12/2016",
         "order_id": "HTS-357322-0007",
         "pages_visited": 0.11538461538461536,
         "tshirt_category": 3,
         "tshirt_price": "24",
         "tshirt_quantity": 3,
         "user_agent": "Mozilla/5.0 (Windows NT 10.0| WOW64) AppleWebKit/537.36 (KHTML, like Gecko) Chrome/56.0.2924.87 Saf…",
         "customerID": "nan",
         "gender": "nan",
         "birthdate": "nan",
         "ip_address": "nan",
         "latitude": "nan",
         "longitude": "nan",
         "Country Name": "nan",
         "country_code": "nan",
         "city_name": "nan",
         "email": "nan",
         "Continent_Name": "Africa",
         "Continent_Code": "AF",
         "Country_Name": "Namibia, Republic of",
         "Two_Letter_Country_Code": "nan",
         "Three_Letter_Country_Code": "NAM",
         "Country_Number": 516,
         "_deepnote_index_column": 12917
        },
        {
         "customer_id": "l8c64t",
         "order_date": "01/03/2017",
         "order_id": "HTS-l8c64t-0003",
         "pages_visited": 0.1923076923076923,
         "tshirt_category": 3,
         "tshirt_price": "24",
         "tshirt_quantity": 2,
         "user_agent": "Mozilla/5.0 (Windows NT 10.0| WOW64| rv:52.0) Gecko/20100101 Firefox/52.0",
         "customerID": "nan",
         "gender": "nan",
         "birthdate": "nan",
         "ip_address": "nan",
         "latitude": "nan",
         "longitude": "nan",
         "Country Name": "nan",
         "country_code": "nan",
         "city_name": "nan",
         "email": "nan",
         "Continent_Name": "Africa",
         "Continent_Code": "AF",
         "Country_Name": "Namibia, Republic of",
         "Two_Letter_Country_Code": "nan",
         "Three_Letter_Country_Code": "NAM",
         "Country_Number": 516,
         "_deepnote_index_column": 12918
        },
        {
         "customer_id": "946557",
         "order_date": "21/07/2016",
         "order_id": "HTS-946557-0005",
         "pages_visited": 0.11538461538461536,
         "tshirt_category": 3,
         "tshirt_price": "24",
         "tshirt_quantity": 2,
         "user_agent": "Mozilla/5.0 (Windows NT 10.0| Win64| x64) AppleWebKit/537.36 (KHTML, like Gecko) Chrome/56.0.2924.8…",
         "customerID": "nan",
         "gender": "nan",
         "birthdate": "nan",
         "ip_address": "nan",
         "latitude": "nan",
         "longitude": "nan",
         "Country Name": "nan",
         "country_code": "nan",
         "city_name": "nan",
         "email": "nan",
         "Continent_Name": "Africa",
         "Continent_Code": "AF",
         "Country_Name": "Namibia, Republic of",
         "Two_Letter_Country_Code": "nan",
         "Three_Letter_Country_Code": "NAM",
         "Country_Number": 516,
         "_deepnote_index_column": 12919
        },
        {
         "customer_id": "1bhyje",
         "order_date": "22/06/2016",
         "order_id": "HTS-1bhyje-0002",
         "pages_visited": 0.5769230769230768,
         "tshirt_category": 3,
         "tshirt_price": "24",
         "tshirt_quantity": 1,
         "user_agent": "Mozilla/5.0 (X11| Linux x86_64) AppleWebKit/537.36 (KHTML, like Gecko) Chrome/56.0.2924.87 Safari/5…",
         "customerID": "nan",
         "gender": "nan",
         "birthdate": "nan",
         "ip_address": "nan",
         "latitude": "nan",
         "longitude": "nan",
         "Country Name": "nan",
         "country_code": "nan",
         "city_name": "nan",
         "email": "nan",
         "Continent_Name": "Africa",
         "Continent_Code": "AF",
         "Country_Name": "Namibia, Republic of",
         "Two_Letter_Country_Code": "nan",
         "Three_Letter_Country_Code": "NAM",
         "Country_Number": 516,
         "_deepnote_index_column": 12920
        }
       ]
      },
      "text/plain": "      customer_id  order_date         order_id  pages_visited  \\\n0           38040  04/09/2016  HTS-038040-0002       0.269231   \n1          vft1eu  26/02/2017  HTS-vft1eu-0003       0.307692   \n2          914324  01/12/2013  HTS-914324-0001       0.307692   \n3           61311  15/01/2016  HTS-061311-0003       0.269231   \n4          494332  03/11/2013  HTS-494332-0001       0.307692   \n...           ...         ...              ...            ...   \n12916      0b59cn  12/12/2016  HTS-0b59cn-0004       0.230769   \n12917      357322  10/12/2016  HTS-357322-0007       0.115385   \n12918      l8c64t  01/03/2017  HTS-l8c64t-0003       0.192308   \n12919      946557  21/07/2016  HTS-946557-0005       0.115385   \n12920      1bhyje  22/06/2016  HTS-1bhyje-0002       0.576923   \n\n       tshirt_category tshirt_price  tshirt_quantity  \\\n0                    5           20                1   \n1                    4           18                3   \n2                    4           18                1   \n3                    0         17,5                4   \n4                    4           18                2   \n...                ...          ...              ...   \n12916                3           24                5   \n12917                3           24                3   \n12918                3           24                2   \n12919                3           24                2   \n12920                3           24                1   \n\n                                              user_agent customerID gender  \\\n0      Mozilla/5.0 (Windows NT 10.0| WOW64) AppleWebK...        NaN    NaN   \n1      Mozilla/5.0 (Macintosh| Intel Mac OS X 10_12_3...     vft1eu      F   \n2      Mozilla/5.0 (Windows NT 10.0| WOW64) AppleWebK...        NaN    NaN   \n3      Mozilla/5.0 (Macintosh| Intel Mac OS X 10_12_3...        NaN    NaN   \n4      Mozilla/5.0 (Macintosh| Intel Mac OS X 10_11_6...        NaN    NaN   \n...                                                  ...        ...    ...   \n12916  Mozilla/5.0 (X11| Ubuntu| Linux x86_64| rv:51....        NaN    NaN   \n12917  Mozilla/5.0 (Windows NT 10.0| WOW64) AppleWebK...        NaN    NaN   \n12918  Mozilla/5.0 (Windows NT 10.0| WOW64| rv:52.0) ...        NaN    NaN   \n12919  Mozilla/5.0 (Windows NT 10.0| Win64| x64) Appl...        NaN    NaN   \n12920  Mozilla/5.0 (X11| Linux x86_64) AppleWebKit/53...        NaN    NaN   \n\n       ...                  Country Name country_code  city_name  \\\n0      ...                           NaN          NaN        NaN   \n1      ...  Germany, Federal Republic of           DE        NaN   \n2      ...                           NaN          NaN        NaN   \n3      ...                           NaN          NaN        NaN   \n4      ...                           NaN          NaN        NaN   \n...    ...                           ...          ...        ...   \n12916  ...                           NaN          NaN        NaN   \n12917  ...                           NaN          NaN        NaN   \n12918  ...                           NaN          NaN        NaN   \n12919  ...                           NaN          NaN        NaN   \n12920  ...                           NaN          NaN        NaN   \n\n                   email Continent_Name Continent_Code  \\\n0                    NaN         Africa             AF   \n1      HEOX@formation.fr         Europe             EU   \n2                    NaN         Africa             AF   \n3                    NaN         Africa             AF   \n4                    NaN         Africa             AF   \n...                  ...            ...            ...   \n12916                NaN         Africa             AF   \n12917                NaN         Africa             AF   \n12918                NaN         Africa             AF   \n12919                NaN         Africa             AF   \n12920                NaN         Africa             AF   \n\n                       Country_Name Two_Letter_Country_Code  \\\n0              Namibia, Republic of                     NaN   \n1      Germany, Federal Republic of                      DE   \n2              Namibia, Republic of                     NaN   \n3              Namibia, Republic of                     NaN   \n4              Namibia, Republic of                     NaN   \n...                             ...                     ...   \n12916          Namibia, Republic of                     NaN   \n12917          Namibia, Republic of                     NaN   \n12918          Namibia, Republic of                     NaN   \n12919          Namibia, Republic of                     NaN   \n12920          Namibia, Republic of                     NaN   \n\n      Three_Letter_Country_Code Country_Number  \n0                           NAM          516.0  \n1                           DEU          276.0  \n2                           NAM          516.0  \n3                           NAM          516.0  \n4                           NAM          516.0  \n...                         ...            ...  \n12916                       NAM          516.0  \n12917                       NAM          516.0  \n12918                       NAM          516.0  \n12919                       NAM          516.0  \n12920                       NAM          516.0  \n\n[12921 rows x 24 columns]",
      "text/html": "<div>\n<style scoped>\n    .dataframe tbody tr th:only-of-type {\n        vertical-align: middle;\n    }\n\n    .dataframe tbody tr th {\n        vertical-align: top;\n    }\n\n    .dataframe thead th {\n        text-align: right;\n    }\n</style>\n<table border=\"1\" class=\"dataframe\">\n  <thead>\n    <tr style=\"text-align: right;\">\n      <th></th>\n      <th>customer_id</th>\n      <th>order_date</th>\n      <th>order_id</th>\n      <th>pages_visited</th>\n      <th>tshirt_category</th>\n      <th>tshirt_price</th>\n      <th>tshirt_quantity</th>\n      <th>user_agent</th>\n      <th>customerID</th>\n      <th>gender</th>\n      <th>...</th>\n      <th>Country Name</th>\n      <th>country_code</th>\n      <th>city_name</th>\n      <th>email</th>\n      <th>Continent_Name</th>\n      <th>Continent_Code</th>\n      <th>Country_Name</th>\n      <th>Two_Letter_Country_Code</th>\n      <th>Three_Letter_Country_Code</th>\n      <th>Country_Number</th>\n    </tr>\n  </thead>\n  <tbody>\n    <tr>\n      <th>0</th>\n      <td>38040</td>\n      <td>04/09/2016</td>\n      <td>HTS-038040-0002</td>\n      <td>0.269231</td>\n      <td>5</td>\n      <td>20</td>\n      <td>1</td>\n      <td>Mozilla/5.0 (Windows NT 10.0| WOW64) AppleWebK...</td>\n      <td>NaN</td>\n      <td>NaN</td>\n      <td>...</td>\n      <td>NaN</td>\n      <td>NaN</td>\n      <td>NaN</td>\n      <td>NaN</td>\n      <td>Africa</td>\n      <td>AF</td>\n      <td>Namibia, Republic of</td>\n      <td>NaN</td>\n      <td>NAM</td>\n      <td>516.0</td>\n    </tr>\n    <tr>\n      <th>1</th>\n      <td>vft1eu</td>\n      <td>26/02/2017</td>\n      <td>HTS-vft1eu-0003</td>\n      <td>0.307692</td>\n      <td>4</td>\n      <td>18</td>\n      <td>3</td>\n      <td>Mozilla/5.0 (Macintosh| Intel Mac OS X 10_12_3...</td>\n      <td>vft1eu</td>\n      <td>F</td>\n      <td>...</td>\n      <td>Germany, Federal Republic of</td>\n      <td>DE</td>\n      <td>NaN</td>\n      <td>HEOX@formation.fr</td>\n      <td>Europe</td>\n      <td>EU</td>\n      <td>Germany, Federal Republic of</td>\n      <td>DE</td>\n      <td>DEU</td>\n      <td>276.0</td>\n    </tr>\n    <tr>\n      <th>2</th>\n      <td>914324</td>\n      <td>01/12/2013</td>\n      <td>HTS-914324-0001</td>\n      <td>0.307692</td>\n      <td>4</td>\n      <td>18</td>\n      <td>1</td>\n      <td>Mozilla/5.0 (Windows NT 10.0| WOW64) AppleWebK...</td>\n      <td>NaN</td>\n      <td>NaN</td>\n      <td>...</td>\n      <td>NaN</td>\n      <td>NaN</td>\n      <td>NaN</td>\n      <td>NaN</td>\n      <td>Africa</td>\n      <td>AF</td>\n      <td>Namibia, Republic of</td>\n      <td>NaN</td>\n      <td>NAM</td>\n      <td>516.0</td>\n    </tr>\n    <tr>\n      <th>3</th>\n      <td>61311</td>\n      <td>15/01/2016</td>\n      <td>HTS-061311-0003</td>\n      <td>0.269231</td>\n      <td>0</td>\n      <td>17,5</td>\n      <td>4</td>\n      <td>Mozilla/5.0 (Macintosh| Intel Mac OS X 10_12_3...</td>\n      <td>NaN</td>\n      <td>NaN</td>\n      <td>...</td>\n      <td>NaN</td>\n      <td>NaN</td>\n      <td>NaN</td>\n      <td>NaN</td>\n      <td>Africa</td>\n      <td>AF</td>\n      <td>Namibia, Republic of</td>\n      <td>NaN</td>\n      <td>NAM</td>\n      <td>516.0</td>\n    </tr>\n    <tr>\n      <th>4</th>\n      <td>494332</td>\n      <td>03/11/2013</td>\n      <td>HTS-494332-0001</td>\n      <td>0.307692</td>\n      <td>4</td>\n      <td>18</td>\n      <td>2</td>\n      <td>Mozilla/5.0 (Macintosh| Intel Mac OS X 10_11_6...</td>\n      <td>NaN</td>\n      <td>NaN</td>\n      <td>...</td>\n      <td>NaN</td>\n      <td>NaN</td>\n      <td>NaN</td>\n      <td>NaN</td>\n      <td>Africa</td>\n      <td>AF</td>\n      <td>Namibia, Republic of</td>\n      <td>NaN</td>\n      <td>NAM</td>\n      <td>516.0</td>\n    </tr>\n    <tr>\n      <th>...</th>\n      <td>...</td>\n      <td>...</td>\n      <td>...</td>\n      <td>...</td>\n      <td>...</td>\n      <td>...</td>\n      <td>...</td>\n      <td>...</td>\n      <td>...</td>\n      <td>...</td>\n      <td>...</td>\n      <td>...</td>\n      <td>...</td>\n      <td>...</td>\n      <td>...</td>\n      <td>...</td>\n      <td>...</td>\n      <td>...</td>\n      <td>...</td>\n      <td>...</td>\n      <td>...</td>\n    </tr>\n    <tr>\n      <th>12916</th>\n      <td>0b59cn</td>\n      <td>12/12/2016</td>\n      <td>HTS-0b59cn-0004</td>\n      <td>0.230769</td>\n      <td>3</td>\n      <td>24</td>\n      <td>5</td>\n      <td>Mozilla/5.0 (X11| Ubuntu| Linux x86_64| rv:51....</td>\n      <td>NaN</td>\n      <td>NaN</td>\n      <td>...</td>\n      <td>NaN</td>\n      <td>NaN</td>\n      <td>NaN</td>\n      <td>NaN</td>\n      <td>Africa</td>\n      <td>AF</td>\n      <td>Namibia, Republic of</td>\n      <td>NaN</td>\n      <td>NAM</td>\n      <td>516.0</td>\n    </tr>\n    <tr>\n      <th>12917</th>\n      <td>357322</td>\n      <td>10/12/2016</td>\n      <td>HTS-357322-0007</td>\n      <td>0.115385</td>\n      <td>3</td>\n      <td>24</td>\n      <td>3</td>\n      <td>Mozilla/5.0 (Windows NT 10.0| WOW64) AppleWebK...</td>\n      <td>NaN</td>\n      <td>NaN</td>\n      <td>...</td>\n      <td>NaN</td>\n      <td>NaN</td>\n      <td>NaN</td>\n      <td>NaN</td>\n      <td>Africa</td>\n      <td>AF</td>\n      <td>Namibia, Republic of</td>\n      <td>NaN</td>\n      <td>NAM</td>\n      <td>516.0</td>\n    </tr>\n    <tr>\n      <th>12918</th>\n      <td>l8c64t</td>\n      <td>01/03/2017</td>\n      <td>HTS-l8c64t-0003</td>\n      <td>0.192308</td>\n      <td>3</td>\n      <td>24</td>\n      <td>2</td>\n      <td>Mozilla/5.0 (Windows NT 10.0| WOW64| rv:52.0) ...</td>\n      <td>NaN</td>\n      <td>NaN</td>\n      <td>...</td>\n      <td>NaN</td>\n      <td>NaN</td>\n      <td>NaN</td>\n      <td>NaN</td>\n      <td>Africa</td>\n      <td>AF</td>\n      <td>Namibia, Republic of</td>\n      <td>NaN</td>\n      <td>NAM</td>\n      <td>516.0</td>\n    </tr>\n    <tr>\n      <th>12919</th>\n      <td>946557</td>\n      <td>21/07/2016</td>\n      <td>HTS-946557-0005</td>\n      <td>0.115385</td>\n      <td>3</td>\n      <td>24</td>\n      <td>2</td>\n      <td>Mozilla/5.0 (Windows NT 10.0| Win64| x64) Appl...</td>\n      <td>NaN</td>\n      <td>NaN</td>\n      <td>...</td>\n      <td>NaN</td>\n      <td>NaN</td>\n      <td>NaN</td>\n      <td>NaN</td>\n      <td>Africa</td>\n      <td>AF</td>\n      <td>Namibia, Republic of</td>\n      <td>NaN</td>\n      <td>NAM</td>\n      <td>516.0</td>\n    </tr>\n    <tr>\n      <th>12920</th>\n      <td>1bhyje</td>\n      <td>22/06/2016</td>\n      <td>HTS-1bhyje-0002</td>\n      <td>0.576923</td>\n      <td>3</td>\n      <td>24</td>\n      <td>1</td>\n      <td>Mozilla/5.0 (X11| Linux x86_64) AppleWebKit/53...</td>\n      <td>NaN</td>\n      <td>NaN</td>\n      <td>...</td>\n      <td>NaN</td>\n      <td>NaN</td>\n      <td>NaN</td>\n      <td>NaN</td>\n      <td>Africa</td>\n      <td>AF</td>\n      <td>Namibia, Republic of</td>\n      <td>NaN</td>\n      <td>NAM</td>\n      <td>516.0</td>\n    </tr>\n  </tbody>\n</table>\n<p>12921 rows × 24 columns</p>\n</div>"
     },
     "metadata": {}
    }
   ],
   "execution_count": null
  },
  {
   "cell_type": "code",
   "metadata": {
    "tags": [],
    "cell_id": "00051-f3145c09-a767-48c9-a2ac-124f89943d44",
    "deepnote_to_be_reexecuted": false,
    "source_hash": "16ee3bd5",
    "execution_start": 1629809052564,
    "execution_millis": 2,
    "deepnote_cell_type": "code"
   },
   "source": "# importing the Dependencies\nimport pandas as pd\nfrom sklearn.preprocessing import LabelEncoder\n\n# load the Label Encoder function\nlabel_encode = LabelEncoder()\n\nlabels = label_encode.fit_transform(df_final[\"tshirt_category\"])\n\n# appending the labels to the DataFrame\ndf_final[\"tshirt_category\"] = labels",
   "outputs": [],
   "execution_count": null
  },
  {
   "cell_type": "code",
   "metadata": {
    "tags": [],
    "cell_id": "00053-eb73e2fe-1353-4668-b23a-23bec791ffc5",
    "deepnote_to_be_reexecuted": false,
    "source_hash": "b1170ddd",
    "execution_start": 1629809053419,
    "execution_millis": 18,
    "deepnote_cell_type": "code"
   },
   "source": "# Look at the correspondance\nlabel_encode.classes_",
   "outputs": [
    {
     "output_type": "execute_result",
     "execution_count": 44,
     "data": {
      "text/plain": "array([0, 1, 2, 3, 4, 5])"
     },
     "metadata": {}
    }
   ],
   "execution_count": null
  },
  {
   "cell_type": "code",
   "metadata": {
    "tags": [],
    "cell_id": "00053-b62ca3b8-c702-4c4e-95aa-42b10b87b6e9",
    "deepnote_to_be_reexecuted": false,
    "source_hash": "2b824ecb",
    "execution_start": 1629809054187,
    "execution_millis": 132,
    "is_output_hidden": true,
    "deepnote_cell_type": "code"
   },
   "source": "# Look at the data\ndf_final",
   "outputs": [
    {
     "output_type": "execute_result",
     "execution_count": 45,
     "data": {
      "application/vnd.deepnote.dataframe.v2+json": {
       "row_count": 12921,
       "column_count": 24,
       "columns": [
        {
         "name": "customer_id",
         "dtype": "object",
         "stats": {
          "unique_count": 5380,
          "nan_count": 0,
          "categories": [
           {
            "name": "536917",
            "count": 13
           },
           {
            "name": "409679",
            "count": 13
           },
           {
            "name": "5378 others",
            "count": 12895
           }
          ]
         }
        },
        {
         "name": "order_date",
         "dtype": "object",
         "stats": {
          "unique_count": 1401,
          "nan_count": 0,
          "categories": [
           {
            "name": "02/11/2015",
            "count": 25
           },
           {
            "name": "05/11/2015",
            "count": 25
           },
           {
            "name": "1399 others",
            "count": 12871
           }
          ]
         }
        },
        {
         "name": "order_id",
         "dtype": "object",
         "stats": {
          "unique_count": 12902,
          "nan_count": 0,
          "categories": [
           {
            "name": "HTS-296958-0001",
            "count": 2
           },
           {
            "name": "HTS-923895-0002",
            "count": 2
           },
           {
            "name": "12900 others",
            "count": 12917
           }
          ]
         }
        },
        {
         "name": "pages_visited",
         "dtype": "float64",
         "stats": {
          "unique_count": 25,
          "nan_count": 0,
          "min": "0.0",
          "max": "1.0",
          "histogram": [
           {
            "bin_start": 0,
            "bin_end": 0.1,
            "count": 394
           },
           {
            "bin_start": 0.1,
            "bin_end": 0.2,
            "count": 2004
           },
           {
            "bin_start": 0.2,
            "bin_end": 0.30000000000000004,
            "count": 2495
           },
           {
            "bin_start": 0.30000000000000004,
            "bin_end": 0.4,
            "count": 4063
           },
           {
            "bin_start": 0.4,
            "bin_end": 0.5,
            "count": 2668
           },
           {
            "bin_start": 0.5,
            "bin_end": 0.6000000000000001,
            "count": 835
           },
           {
            "bin_start": 0.6000000000000001,
            "bin_end": 0.7000000000000001,
            "count": 376
           },
           {
            "bin_start": 0.7000000000000001,
            "bin_end": 0.8,
            "count": 60
           },
           {
            "bin_start": 0.8,
            "bin_end": 0.9,
            "count": 25
           },
           {
            "bin_start": 0.9,
            "bin_end": 1,
            "count": 1
           }
          ]
         }
        },
        {
         "name": "tshirt_category",
         "dtype": "int64",
         "stats": {
          "unique_count": 6,
          "nan_count": 0,
          "min": "0",
          "max": "5",
          "histogram": [
           {
            "bin_start": 0,
            "bin_end": 0.5,
            "count": 1707
           },
           {
            "bin_start": 0.5,
            "bin_end": 1,
            "count": 0
           },
           {
            "bin_start": 1,
            "bin_end": 1.5,
            "count": 2323
           },
           {
            "bin_start": 1.5,
            "bin_end": 2,
            "count": 0
           },
           {
            "bin_start": 2,
            "bin_end": 2.5,
            "count": 3047
           },
           {
            "bin_start": 2.5,
            "bin_end": 3,
            "count": 0
           },
           {
            "bin_start": 3,
            "bin_end": 3.5,
            "count": 1075
           },
           {
            "bin_start": 3.5,
            "bin_end": 4,
            "count": 0
           },
           {
            "bin_start": 4,
            "bin_end": 4.5,
            "count": 1814
           },
           {
            "bin_start": 4.5,
            "bin_end": 5,
            "count": 2955
           }
          ]
         }
        },
        {
         "name": "tshirt_price",
         "dtype": "object",
         "stats": {
          "unique_count": 6,
          "nan_count": 0,
          "categories": [
           {
            "name": "23",
            "count": 3047
           },
           {
            "name": "20",
            "count": 2955
           },
           {
            "name": "4 others",
            "count": 6919
           }
          ]
         }
        },
        {
         "name": "tshirt_quantity",
         "dtype": "int64",
         "stats": {
          "unique_count": 28,
          "nan_count": 0,
          "min": "1",
          "max": "29",
          "histogram": [
           {
            "bin_start": 1,
            "bin_end": 3.8,
            "count": 10651
           },
           {
            "bin_start": 3.8,
            "bin_end": 6.6,
            "count": 1459
           },
           {
            "bin_start": 6.6,
            "bin_end": 9.399999999999999,
            "count": 181
           },
           {
            "bin_start": 9.399999999999999,
            "bin_end": 12.2,
            "count": 122
           },
           {
            "bin_start": 12.2,
            "bin_end": 15,
            "count": 116
           },
           {
            "bin_start": 15,
            "bin_end": 17.799999999999997,
            "count": 170
           },
           {
            "bin_start": 17.799999999999997,
            "bin_end": 20.599999999999998,
            "count": 126
           },
           {
            "bin_start": 20.599999999999998,
            "bin_end": 23.4,
            "count": 65
           },
           {
            "bin_start": 23.4,
            "bin_end": 26.2,
            "count": 27
           },
           {
            "bin_start": 26.2,
            "bin_end": 29,
            "count": 4
           }
          ]
         }
        },
        {
         "name": "user_agent",
         "dtype": "object"
        },
        {
         "name": "customerID",
         "dtype": "object"
        },
        {
         "name": "gender",
         "dtype": "object"
        },
        {
         "name": "birthdate",
         "dtype": "object"
        },
        {
         "name": "ip_address",
         "dtype": "object"
        },
        {
         "name": "latitude",
         "dtype": "float64"
        },
        {
         "name": "longitude",
         "dtype": "float64"
        },
        {
         "name": "Country Name",
         "dtype": "object"
        },
        {
         "name": "country_code",
         "dtype": "object"
        },
        {
         "name": "city_name",
         "dtype": "object"
        },
        {
         "name": "email",
         "dtype": "object"
        },
        {
         "name": "Continent_Name",
         "dtype": "object"
        },
        {
         "name": "Continent_Code",
         "dtype": "object"
        },
        {
         "name": "Country_Name",
         "dtype": "object"
        },
        {
         "name": "Two_Letter_Country_Code",
         "dtype": "object"
        },
        {
         "name": "Three_Letter_Country_Code",
         "dtype": "object"
        },
        {
         "name": "Country_Number",
         "dtype": "float64"
        },
        {
         "name": "_deepnote_index_column",
         "dtype": "int64"
        }
       ],
       "rows_top": [
        {
         "customer_id": "38040",
         "order_date": "04/09/2016",
         "order_id": "HTS-038040-0002",
         "pages_visited": 0.26923076923076916,
         "tshirt_category": 5,
         "tshirt_price": "20",
         "tshirt_quantity": 1,
         "user_agent": "Mozilla/5.0 (Windows NT 10.0| WOW64) AppleWebKit/537.36 (KHTML, like Gecko) Chrome/56.0.2924.87 Saf…",
         "customerID": "nan",
         "gender": "nan",
         "birthdate": "nan",
         "ip_address": "nan",
         "latitude": "nan",
         "longitude": "nan",
         "Country Name": "nan",
         "country_code": "nan",
         "city_name": "nan",
         "email": "nan",
         "Continent_Name": "Africa",
         "Continent_Code": "AF",
         "Country_Name": "Namibia, Republic of",
         "Two_Letter_Country_Code": "nan",
         "Three_Letter_Country_Code": "NAM",
         "Country_Number": 516,
         "_deepnote_index_column": 0
        },
        {
         "customer_id": "vft1eu",
         "order_date": "26/02/2017",
         "order_id": "HTS-vft1eu-0003",
         "pages_visited": 0.30769230769230765,
         "tshirt_category": 4,
         "tshirt_price": "18",
         "tshirt_quantity": 3,
         "user_agent": "Mozilla/5.0 (Macintosh| Intel Mac OS X 10_12_3) AppleWebKit/602.4.8 (KHTML, like Gecko) Version/10.…",
         "customerID": "vft1eu",
         "gender": "F",
         "birthdate": "1969-06-27 00:00:00",
         "ip_address": "53.115.6.106",
         "latitude": 51,
         "longitude": 9,
         "Country Name": "Germany, Federal Republic of",
         "country_code": "DE",
         "city_name": "nan",
         "email": "HEOX@formation.fr",
         "Continent_Name": "Europe",
         "Continent_Code": "EU",
         "Country_Name": "Germany, Federal Republic of",
         "Two_Letter_Country_Code": "DE",
         "Three_Letter_Country_Code": "DEU",
         "Country_Number": 276,
         "_deepnote_index_column": 1
        },
        {
         "customer_id": "914324",
         "order_date": "01/12/2013",
         "order_id": "HTS-914324-0001",
         "pages_visited": 0.30769230769230765,
         "tshirt_category": 4,
         "tshirt_price": "18",
         "tshirt_quantity": 1,
         "user_agent": "Mozilla/5.0 (Windows NT 10.0| WOW64) AppleWebKit/537.36 (KHTML, like Gecko) Chrome/56.0.2924.87 Saf…",
         "customerID": "nan",
         "gender": "nan",
         "birthdate": "nan",
         "ip_address": "nan",
         "latitude": "nan",
         "longitude": "nan",
         "Country Name": "nan",
         "country_code": "nan",
         "city_name": "nan",
         "email": "nan",
         "Continent_Name": "Africa",
         "Continent_Code": "AF",
         "Country_Name": "Namibia, Republic of",
         "Two_Letter_Country_Code": "nan",
         "Three_Letter_Country_Code": "NAM",
         "Country_Number": 516,
         "_deepnote_index_column": 2
        },
        {
         "customer_id": "61311",
         "order_date": "15/01/2016",
         "order_id": "HTS-061311-0003",
         "pages_visited": 0.26923076923076916,
         "tshirt_category": 0,
         "tshirt_price": "17,5",
         "tshirt_quantity": 4,
         "user_agent": "Mozilla/5.0 (Macintosh| Intel Mac OS X 10_12_3) AppleWebKit/537.36 (KHTML, like Gecko) Chrome/56.0.…",
         "customerID": "nan",
         "gender": "nan",
         "birthdate": "nan",
         "ip_address": "nan",
         "latitude": "nan",
         "longitude": "nan",
         "Country Name": "nan",
         "country_code": "nan",
         "city_name": "nan",
         "email": "nan",
         "Continent_Name": "Africa",
         "Continent_Code": "AF",
         "Country_Name": "Namibia, Republic of",
         "Two_Letter_Country_Code": "nan",
         "Three_Letter_Country_Code": "NAM",
         "Country_Number": 516,
         "_deepnote_index_column": 3
        },
        {
         "customer_id": "494332",
         "order_date": "03/11/2013",
         "order_id": "HTS-494332-0001",
         "pages_visited": 0.30769230769230765,
         "tshirt_category": 4,
         "tshirt_price": "18",
         "tshirt_quantity": 2,
         "user_agent": "Mozilla/5.0 (Macintosh| Intel Mac OS X 10_11_6) AppleWebKit/537.36 (KHTML, like Gecko) Chrome/56.0.…",
         "customerID": "nan",
         "gender": "nan",
         "birthdate": "nan",
         "ip_address": "nan",
         "latitude": "nan",
         "longitude": "nan",
         "Country Name": "nan",
         "country_code": "nan",
         "city_name": "nan",
         "email": "nan",
         "Continent_Name": "Africa",
         "Continent_Code": "AF",
         "Country_Name": "Namibia, Republic of",
         "Two_Letter_Country_Code": "nan",
         "Three_Letter_Country_Code": "NAM",
         "Country_Number": 516,
         "_deepnote_index_column": 4
        },
        {
         "customer_id": "463794",
         "order_date": "02/10/2013",
         "order_id": "HTS-463794-0001",
         "pages_visited": 0.4615384615384615,
         "tshirt_category": 3,
         "tshirt_price": "24",
         "tshirt_quantity": 1,
         "user_agent": "Mozilla/5.0 (Windows NT 10.0| Win64| x64) AppleWebKit/537.36 (KHTML, like Gecko) Chrome/56.0.2924.8…",
         "customerID": "nan",
         "gender": "nan",
         "birthdate": "nan",
         "ip_address": "nan",
         "latitude": "nan",
         "longitude": "nan",
         "Country Name": "nan",
         "country_code": "nan",
         "city_name": "nan",
         "email": "nan",
         "Continent_Name": "Africa",
         "Continent_Code": "AF",
         "Country_Name": "Namibia, Republic of",
         "Two_Letter_Country_Code": "nan",
         "Three_Letter_Country_Code": "NAM",
         "Country_Number": 516,
         "_deepnote_index_column": 5
        },
        {
         "customer_id": "132885",
         "order_date": "23/07/2013",
         "order_id": "HTS-132885-0001",
         "pages_visited": 0.5769230769230768,
         "tshirt_category": 5,
         "tshirt_price": "20",
         "tshirt_quantity": 1,
         "user_agent": "Mozilla/5.0 (Windows NT 10.0| Win64| x64) AppleWebKit/537.36 (KHTML, like Gecko) Chrome/56.0.2924.8…",
         "customerID": "nan",
         "gender": "nan",
         "birthdate": "nan",
         "ip_address": "nan",
         "latitude": "nan",
         "longitude": "nan",
         "Country Name": "nan",
         "country_code": "nan",
         "city_name": "nan",
         "email": "nan",
         "Continent_Name": "Africa",
         "Continent_Code": "AF",
         "Country_Name": "Namibia, Republic of",
         "Two_Letter_Country_Code": "nan",
         "Three_Letter_Country_Code": "NAM",
         "Country_Number": 516,
         "_deepnote_index_column": 6
        },
        {
         "customer_id": "519113",
         "order_date": "24/11/2013",
         "order_id": "HTS-519113-0001",
         "pages_visited": 0.5769230769230768,
         "tshirt_category": 0,
         "tshirt_price": "17,5",
         "tshirt_quantity": 1,
         "user_agent": "Mozilla/5.0 (Windows NT 6.1| WOW64) AppleWebKit/537.36 (KHTML, like Gecko) Chrome/56.0.2924.87 Safa…",
         "customerID": "nan",
         "gender": "nan",
         "birthdate": "nan",
         "ip_address": "nan",
         "latitude": "nan",
         "longitude": "nan",
         "Country Name": "nan",
         "country_code": "nan",
         "city_name": "nan",
         "email": "nan",
         "Continent_Name": "Africa",
         "Continent_Code": "AF",
         "Country_Name": "Namibia, Republic of",
         "Two_Letter_Country_Code": "nan",
         "Three_Letter_Country_Code": "NAM",
         "Country_Number": 516,
         "_deepnote_index_column": 7
        },
        {
         "customer_id": "je57lh",
         "order_date": "24/11/2015",
         "order_id": "HTS-je57lh-0001",
         "pages_visited": 0.4999999999999999,
         "tshirt_category": 2,
         "tshirt_price": "23",
         "tshirt_quantity": 3,
         "user_agent": "Mozilla/5.0 (Windows NT 10.0| Win64| x64) AppleWebKit/537.36 (KHTML, like Gecko) Chrome/56.0.2924.8…",
         "customerID": "je57lh",
         "gender": "M",
         "birthdate": "1953-03-12 00:00:00",
         "ip_address": "110.116.130.200",
         "latitude": 39.92890167,
         "longitude": 116.388298,
         "Country Name": "China, People's Republic of",
         "country_code": "CN",
         "city_name": "Beijing",
         "email": "GOPB@formation.fr",
         "Continent_Name": "Asia",
         "Continent_Code": "AS",
         "Country_Name": "China, People's Republic of",
         "Two_Letter_Country_Code": "CN",
         "Three_Letter_Country_Code": "CHN",
         "Country_Number": 156,
         "_deepnote_index_column": 8
        },
        {
         "customer_id": "49348",
         "order_date": "15/08/2016",
         "order_id": "HTS-049348-0004",
         "pages_visited": 0.15384615384615383,
         "tshirt_category": 0,
         "tshirt_price": "17,5",
         "tshirt_quantity": 1,
         "user_agent": "Mozilla/5.0 (Macintosh| Intel Mac OS X 10_11_6) AppleWebKit/537.36 (KHTML, like Gecko) Chrome/56.0.…",
         "customerID": "nan",
         "gender": "nan",
         "birthdate": "nan",
         "ip_address": "nan",
         "latitude": "nan",
         "longitude": "nan",
         "Country Name": "nan",
         "country_code": "nan",
         "city_name": "nan",
         "email": "nan",
         "Continent_Name": "Africa",
         "Continent_Code": "AF",
         "Country_Name": "Namibia, Republic of",
         "Two_Letter_Country_Code": "nan",
         "Three_Letter_Country_Code": "NAM",
         "Country_Number": 516,
         "_deepnote_index_column": 9
        },
        {
         "customer_id": "heb26i",
         "order_date": "29/11/2015",
         "order_id": "HTS-heb26i-0001",
         "pages_visited": 0.4999999999999999,
         "tshirt_category": 0,
         "tshirt_price": "17,5",
         "tshirt_quantity": 1,
         "user_agent": "Mozilla/5.0 (Windows NT 6.1| Win64| x64) AppleWebKit/537.36 (KHTML, like Gecko) Chrome/56.0.2924.87…",
         "customerID": "heb26i",
         "gender": "F",
         "birthdate": "1984-12-27 00:00:00",
         "ip_address": "62.188.236.61",
         "latitude": 51.5,
         "longitude": -0.129999995,
         "Country Name": "United Kingdom of Great Britain & Northern Ireland",
         "country_code": "GB",
         "city_name": "nan",
         "email": "RPOO@formation.fr",
         "Continent_Name": "Europe",
         "Continent_Code": "EU",
         "Country_Name": "United Kingdom of Great Britain & Northern Ireland",
         "Two_Letter_Country_Code": "GB",
         "Three_Letter_Country_Code": "GBR",
         "Country_Number": 826,
         "_deepnote_index_column": 10
        },
        {
         "customer_id": "989355",
         "order_date": "09/10/2015",
         "order_id": "HTS-989355-0003",
         "pages_visited": 0.30769230769230765,
         "tshirt_category": 2,
         "tshirt_price": "23",
         "tshirt_quantity": 2,
         "user_agent": "Mozilla/5.0 (Windows NT 6.1| WOW64) AppleWebKit/537.36 (KHTML, like Gecko) Chrome/56.0.2924.87 Safa…",
         "customerID": "nan",
         "gender": "nan",
         "birthdate": "nan",
         "ip_address": "nan",
         "latitude": "nan",
         "longitude": "nan",
         "Country Name": "nan",
         "country_code": "nan",
         "city_name": "nan",
         "email": "nan",
         "Continent_Name": "Africa",
         "Continent_Code": "AF",
         "Country_Name": "Namibia, Republic of",
         "Two_Letter_Country_Code": "nan",
         "Three_Letter_Country_Code": "NAM",
         "Country_Number": 516,
         "_deepnote_index_column": 11
        },
        {
         "customer_id": "1b0lnt",
         "order_date": "16/01/2016",
         "order_id": "HTS-1b0lnt-0002",
         "pages_visited": 0.4999999999999999,
         "tshirt_category": 5,
         "tshirt_price": "20",
         "tshirt_quantity": 1,
         "user_agent": "Mozilla/5.0 (X11| Linux x86_64) AppleWebKit/537.36 (KHTML, like Gecko) Chrome/56.0.2924.87 Safari/5…",
         "customerID": "1b0lnt",
         "gender": "F",
         "birthdate": "1981-11-07 00:00:00",
         "ip_address": "117.228.120.81",
         "latitude": 18.5333004,
         "longitude": 73.86669922,
         "Country Name": "India, Republic of",
         "country_code": "IN",
         "city_name": "Poona",
         "email": "RKYX@formation.fr",
         "Continent_Name": "Asia",
         "Continent_Code": "AS",
         "Country_Name": "India, Republic of",
         "Two_Letter_Country_Code": "IN",
         "Three_Letter_Country_Code": "IND",
         "Country_Number": 356,
         "_deepnote_index_column": 12
        },
        {
         "customer_id": "198773",
         "order_date": "17/01/2015",
         "order_id": "HTS-198773-0002",
         "pages_visited": 0.11538461538461536,
         "tshirt_category": 5,
         "tshirt_price": "20",
         "tshirt_quantity": 1,
         "user_agent": "Mozilla/5.0 (Windows NT 10.0| Win64| x64) AppleWebKit/537.36 (KHTML, like Gecko) Chrome/56.0.2924.8…",
         "customerID": "nan",
         "gender": "nan",
         "birthdate": "nan",
         "ip_address": "nan",
         "latitude": "nan",
         "longitude": "nan",
         "Country Name": "nan",
         "country_code": "nan",
         "city_name": "nan",
         "email": "nan",
         "Continent_Name": "Africa",
         "Continent_Code": "AF",
         "Country_Name": "Namibia, Republic of",
         "Two_Letter_Country_Code": "nan",
         "Three_Letter_Country_Code": "NAM",
         "Country_Number": 516,
         "_deepnote_index_column": 13
        },
        {
         "customer_id": "476084",
         "order_date": "20/07/2014",
         "order_id": "HTS-476084-0001",
         "pages_visited": 0.34615384615384615,
         "tshirt_category": 5,
         "tshirt_price": "20",
         "tshirt_quantity": 2,
         "user_agent": "Mozilla/5.0 (Windows NT 10.0| Win64| x64) AppleWebKit/537.36 (KHTML, like Gecko) Chrome/56.0.2924.8…",
         "customerID": "nan",
         "gender": "nan",
         "birthdate": "nan",
         "ip_address": "nan",
         "latitude": "nan",
         "longitude": "nan",
         "Country Name": "nan",
         "country_code": "nan",
         "city_name": "nan",
         "email": "nan",
         "Continent_Name": "Africa",
         "Continent_Code": "AF",
         "Country_Name": "Namibia, Republic of",
         "Two_Letter_Country_Code": "nan",
         "Three_Letter_Country_Code": "NAM",
         "Country_Number": 516,
         "_deepnote_index_column": 14
        },
        {
         "customer_id": "907041",
         "order_date": "20/05/2016",
         "order_id": "HTS-907041-0002",
         "pages_visited": 0.4615384615384615,
         "tshirt_category": 4,
         "tshirt_price": "18",
         "tshirt_quantity": 3,
         "user_agent": "Mozilla/5.0 (Windows NT 6.1| WOW64| rv:51.0) Gecko/20100101 Firefox/51.0",
         "customerID": "nan",
         "gender": "nan",
         "birthdate": "nan",
         "ip_address": "nan",
         "latitude": "nan",
         "longitude": "nan",
         "Country Name": "nan",
         "country_code": "nan",
         "city_name": "nan",
         "email": "nan",
         "Continent_Name": "Africa",
         "Continent_Code": "AF",
         "Country_Name": "Namibia, Republic of",
         "Two_Letter_Country_Code": "nan",
         "Three_Letter_Country_Code": "NAM",
         "Country_Number": 516,
         "_deepnote_index_column": 15
        },
        {
         "customer_id": "399607",
         "order_date": "09/03/2014",
         "order_id": "HTS-399607-0002",
         "pages_visited": 0.3846153846153845,
         "tshirt_category": 5,
         "tshirt_price": "20",
         "tshirt_quantity": 5,
         "user_agent": "Mozilla/5.0 (Windows NT 6.1| WOW64) AppleWebKit/537.36 (KHTML, like Gecko) Chrome/56.0.2924.87 Safa…",
         "customerID": "nan",
         "gender": "nan",
         "birthdate": "nan",
         "ip_address": "nan",
         "latitude": "nan",
         "longitude": "nan",
         "Country Name": "nan",
         "country_code": "nan",
         "city_name": "nan",
         "email": "nan",
         "Continent_Name": "Africa",
         "Continent_Code": "AF",
         "Country_Name": "Namibia, Republic of",
         "Two_Letter_Country_Code": "nan",
         "Three_Letter_Country_Code": "NAM",
         "Country_Number": 516,
         "_deepnote_index_column": 16
        },
        {
         "customer_id": "610587",
         "order_date": "08/01/2017",
         "order_id": "HTS-610587-0004",
         "pages_visited": 0.11538461538461536,
         "tshirt_category": 2,
         "tshirt_price": "23",
         "tshirt_quantity": 1,
         "user_agent": "Mozilla/5.0 (X11| Linux x86_64) AppleWebKit/537.36 (KHTML, like Gecko) Chrome/56.0.2924.87 Safari/5…",
         "customerID": "nan",
         "gender": "nan",
         "birthdate": "nan",
         "ip_address": "nan",
         "latitude": "nan",
         "longitude": "nan",
         "Country Name": "nan",
         "country_code": "nan",
         "city_name": "nan",
         "email": "nan",
         "Continent_Name": "Africa",
         "Continent_Code": "AF",
         "Country_Name": "Namibia, Republic of",
         "Two_Letter_Country_Code": "nan",
         "Three_Letter_Country_Code": "NAM",
         "Country_Number": 516,
         "_deepnote_index_column": 17
        },
        {
         "customer_id": "707341",
         "order_date": "03/10/2014",
         "order_id": "HTS-707341-0003",
         "pages_visited": 0.23076923076923073,
         "tshirt_category": 1,
         "tshirt_price": "19",
         "tshirt_quantity": 3,
         "user_agent": "Mozilla/5.0 (Macintosh| Intel Mac OS X 10_12_3) AppleWebKit/602.4.8 (KHTML, like Gecko) Version/10.…",
         "customerID": "nan",
         "gender": "nan",
         "birthdate": "nan",
         "ip_address": "nan",
         "latitude": "nan",
         "longitude": "nan",
         "Country Name": "nan",
         "country_code": "nan",
         "city_name": "nan",
         "email": "nan",
         "Continent_Name": "Africa",
         "Continent_Code": "AF",
         "Country_Name": "Namibia, Republic of",
         "Two_Letter_Country_Code": "nan",
         "Three_Letter_Country_Code": "NAM",
         "Country_Number": 516,
         "_deepnote_index_column": 18
        },
        {
         "customer_id": "pq3m7c",
         "order_date": "08/09/2015",
         "order_id": "HTS-pq3m7c-0001",
         "pages_visited": 0.34615384615384615,
         "tshirt_category": 2,
         "tshirt_price": "23",
         "tshirt_quantity": 1,
         "user_agent": "Mozilla/5.0 (Windows NT 6.1| WOW64| rv:52.0) Gecko/20100101 Firefox/52.0",
         "customerID": "pq3m7c",
         "gender": "M",
         "birthdate": "1992-01-19 00:00:00",
         "ip_address": "97.77.88.191",
         "latitude": 38,
         "longitude": -97,
         "Country Name": "United States of America",
         "country_code": "US",
         "city_name": "nan",
         "email": "ZAIT@formation.fr",
         "Continent_Name": "North America",
         "Continent_Code": "nan",
         "Country_Name": "United States of America",
         "Two_Letter_Country_Code": "US",
         "Three_Letter_Country_Code": "USA",
         "Country_Number": 840,
         "_deepnote_index_column": 19
        }
       ],
       "rows_bottom": [
        {
         "customer_id": "676955",
         "order_date": "25/12/2014",
         "order_id": "HTS-676955-0001",
         "pages_visited": 0.26923076923076916,
         "tshirt_category": 3,
         "tshirt_price": "24",
         "tshirt_quantity": 4,
         "user_agent": "Mozilla/5.0 (Windows NT 6.1| WOW64| rv:51.0) Gecko/20100101 Firefox/51.0",
         "customerID": "nan",
         "gender": "nan",
         "birthdate": "nan",
         "ip_address": "nan",
         "latitude": "nan",
         "longitude": "nan",
         "Country Name": "nan",
         "country_code": "nan",
         "city_name": "nan",
         "email": "nan",
         "Continent_Name": "Africa",
         "Continent_Code": "AF",
         "Country_Name": "Namibia, Republic of",
         "Two_Letter_Country_Code": "nan",
         "Three_Letter_Country_Code": "NAM",
         "Country_Number": 516,
         "_deepnote_index_column": 12900
        },
        {
         "customer_id": "278313",
         "order_date": "09/04/2016",
         "order_id": "HTS-278313-0004",
         "pages_visited": 0.4999999999999999,
         "tshirt_category": 3,
         "tshirt_price": "24",
         "tshirt_quantity": 13,
         "user_agent": "Mozilla/5.0 (Windows NT 6.1| WOW64| rv:51.0) Gecko/20100101 Firefox/51.0",
         "customerID": "nan",
         "gender": "nan",
         "birthdate": "nan",
         "ip_address": "nan",
         "latitude": "nan",
         "longitude": "nan",
         "Country Name": "nan",
         "country_code": "nan",
         "city_name": "nan",
         "email": "nan",
         "Continent_Name": "Africa",
         "Continent_Code": "AF",
         "Country_Name": "Namibia, Republic of",
         "Two_Letter_Country_Code": "nan",
         "Three_Letter_Country_Code": "NAM",
         "Country_Number": 516,
         "_deepnote_index_column": 12901
        },
        {
         "customer_id": "el0sj8",
         "order_date": "12/01/2017",
         "order_id": "HTS-el0sj8-0004",
         "pages_visited": 0.15384615384615383,
         "tshirt_category": 3,
         "tshirt_price": "24",
         "tshirt_quantity": 1,
         "user_agent": "Mozilla/5.0 (Windows NT 6.1| Win64| x64) AppleWebKit/537.36 (KHTML, like Gecko) Chrome/56.0.2924.87…",
         "customerID": "nan",
         "gender": "nan",
         "birthdate": "nan",
         "ip_address": "nan",
         "latitude": "nan",
         "longitude": "nan",
         "Country Name": "nan",
         "country_code": "nan",
         "city_name": "nan",
         "email": "nan",
         "Continent_Name": "Africa",
         "Continent_Code": "AF",
         "Country_Name": "Namibia, Republic of",
         "Two_Letter_Country_Code": "nan",
         "Three_Letter_Country_Code": "NAM",
         "Country_Number": 516,
         "_deepnote_index_column": 12902
        },
        {
         "customer_id": "545790",
         "order_date": "16/07/2015",
         "order_id": "HTS-545790-0005",
         "pages_visited": 0.15384615384615383,
         "tshirt_category": 3,
         "tshirt_price": "24",
         "tshirt_quantity": 3,
         "user_agent": "Mozilla/5.0 (Windows NT 6.1| Win64| x64) AppleWebKit/537.36 (KHTML, like Gecko) Chrome/56.0.2924.87…",
         "customerID": "nan",
         "gender": "nan",
         "birthdate": "nan",
         "ip_address": "nan",
         "latitude": "nan",
         "longitude": "nan",
         "Country Name": "nan",
         "country_code": "nan",
         "city_name": "nan",
         "email": "nan",
         "Continent_Name": "Africa",
         "Continent_Code": "AF",
         "Country_Name": "Namibia, Republic of",
         "Two_Letter_Country_Code": "nan",
         "Three_Letter_Country_Code": "NAM",
         "Country_Number": 516,
         "_deepnote_index_column": 12903
        },
        {
         "customer_id": "585862",
         "order_date": "19/11/2015",
         "order_id": "HTS-585862-0004",
         "pages_visited": 0.1923076923076923,
         "tshirt_category": 3,
         "tshirt_price": "24",
         "tshirt_quantity": 14,
         "user_agent": "Mozilla/5.0 (Windows NT 6.1| Win64| x64) AppleWebKit/537.36 (KHTML, like Gecko) Chrome/56.0.2924.87…",
         "customerID": "nan",
         "gender": "nan",
         "birthdate": "nan",
         "ip_address": "nan",
         "latitude": "nan",
         "longitude": "nan",
         "Country Name": "nan",
         "country_code": "nan",
         "city_name": "nan",
         "email": "nan",
         "Continent_Name": "Africa",
         "Continent_Code": "AF",
         "Country_Name": "Namibia, Republic of",
         "Two_Letter_Country_Code": "nan",
         "Three_Letter_Country_Code": "NAM",
         "Country_Number": 516,
         "_deepnote_index_column": 12904
        },
        {
         "customer_id": "585862",
         "order_date": "17/02/2015",
         "order_id": "HTS-585862-0003",
         "pages_visited": 0.23076923076923073,
         "tshirt_category": 3,
         "tshirt_price": "24",
         "tshirt_quantity": 18,
         "user_agent": "Mozilla/5.0 (Windows NT 6.1| Win64| x64) AppleWebKit/537.36 (KHTML, like Gecko) Chrome/56.0.2924.87…",
         "customerID": "nan",
         "gender": "nan",
         "birthdate": "nan",
         "ip_address": "nan",
         "latitude": "nan",
         "longitude": "nan",
         "Country Name": "nan",
         "country_code": "nan",
         "city_name": "nan",
         "email": "nan",
         "Continent_Name": "Africa",
         "Continent_Code": "AF",
         "Country_Name": "Namibia, Republic of",
         "Two_Letter_Country_Code": "nan",
         "Three_Letter_Country_Code": "NAM",
         "Country_Number": 516,
         "_deepnote_index_column": 12905
        },
        {
         "customer_id": "539658",
         "order_date": "29/12/2015",
         "order_id": "HTS-539658-0003",
         "pages_visited": 0.26923076923076916,
         "tshirt_category": 3,
         "tshirt_price": "24",
         "tshirt_quantity": 6,
         "user_agent": "Mozilla/5.0 (Windows NT 6.1| Win64| x64) AppleWebKit/537.36 (KHTML, like Gecko) Chrome/56.0.2924.87…",
         "customerID": "nan",
         "gender": "nan",
         "birthdate": "nan",
         "ip_address": "nan",
         "latitude": "nan",
         "longitude": "nan",
         "Country Name": "nan",
         "country_code": "nan",
         "city_name": "nan",
         "email": "nan",
         "Continent_Name": "Africa",
         "Continent_Code": "AF",
         "Country_Name": "Namibia, Republic of",
         "Two_Letter_Country_Code": "nan",
         "Three_Letter_Country_Code": "NAM",
         "Country_Number": 516,
         "_deepnote_index_column": 12906
        },
        {
         "customer_id": "187195",
         "order_date": "30/03/2016",
         "order_id": "HTS-187195-0003",
         "pages_visited": 0.30769230769230765,
         "tshirt_category": 3,
         "tshirt_price": "24",
         "tshirt_quantity": 5,
         "user_agent": "Mozilla/5.0 (Windows NT 6.1| Win64| x64) AppleWebKit/537.36 (KHTML, like Gecko) Chrome/56.0.2924.87…",
         "customerID": "nan",
         "gender": "nan",
         "birthdate": "nan",
         "ip_address": "nan",
         "latitude": "nan",
         "longitude": "nan",
         "Country Name": "nan",
         "country_code": "nan",
         "city_name": "nan",
         "email": "nan",
         "Continent_Name": "Africa",
         "Continent_Code": "AF",
         "Country_Name": "Namibia, Republic of",
         "Two_Letter_Country_Code": "nan",
         "Three_Letter_Country_Code": "NAM",
         "Country_Number": 516,
         "_deepnote_index_column": 12907
        },
        {
         "customer_id": "449243",
         "order_date": "09/06/2016",
         "order_id": "HTS-449243-0002",
         "pages_visited": 0.34615384615384615,
         "tshirt_category": 3,
         "tshirt_price": "24",
         "tshirt_quantity": 1,
         "user_agent": "Mozilla/5.0 (Windows NT 6.1| Win64| x64) AppleWebKit/537.36 (KHTML, like Gecko) Chrome/56.0.2924.87…",
         "customerID": "nan",
         "gender": "nan",
         "birthdate": "nan",
         "ip_address": "nan",
         "latitude": "nan",
         "longitude": "nan",
         "Country Name": "nan",
         "country_code": "nan",
         "city_name": "nan",
         "email": "nan",
         "Continent_Name": "Africa",
         "Continent_Code": "AF",
         "Country_Name": "Namibia, Republic of",
         "Two_Letter_Country_Code": "nan",
         "Three_Letter_Country_Code": "NAM",
         "Country_Number": 516,
         "_deepnote_index_column": 12908
        },
        {
         "customer_id": "83318",
         "order_date": "01/08/2016",
         "order_id": "HTS-083318-0005",
         "pages_visited": 0.34615384615384615,
         "tshirt_category": 3,
         "tshirt_price": "24",
         "tshirt_quantity": 2,
         "user_agent": "Mozilla/5.0 (Windows NT 6.1| Win64| x64) AppleWebKit/537.36 (KHTML, like Gecko) Chrome/56.0.2924.87…",
         "customerID": "nan",
         "gender": "nan",
         "birthdate": "nan",
         "ip_address": "nan",
         "latitude": "nan",
         "longitude": "nan",
         "Country Name": "nan",
         "country_code": "nan",
         "city_name": "nan",
         "email": "nan",
         "Continent_Name": "Africa",
         "Continent_Code": "AF",
         "Country_Name": "Namibia, Republic of",
         "Two_Letter_Country_Code": "nan",
         "Three_Letter_Country_Code": "NAM",
         "Country_Number": 516,
         "_deepnote_index_column": 12909
        },
        {
         "customer_id": "453848",
         "order_date": "18/07/2013",
         "order_id": "HTS-453848-0001",
         "pages_visited": 0.34615384615384615,
         "tshirt_category": 3,
         "tshirt_price": "24",
         "tshirt_quantity": 3,
         "user_agent": "Mozilla/5.0 (Windows NT 6.1| Win64| x64) AppleWebKit/537.36 (KHTML, like Gecko) Chrome/56.0.2924.87…",
         "customerID": "nan",
         "gender": "nan",
         "birthdate": "nan",
         "ip_address": "nan",
         "latitude": "nan",
         "longitude": "nan",
         "Country Name": "nan",
         "country_code": "nan",
         "city_name": "nan",
         "email": "nan",
         "Continent_Name": "Africa",
         "Continent_Code": "AF",
         "Country_Name": "Namibia, Republic of",
         "Two_Letter_Country_Code": "nan",
         "Three_Letter_Country_Code": "NAM",
         "Country_Number": 516,
         "_deepnote_index_column": 12910
        },
        {
         "customer_id": "83318",
         "order_date": "28/02/2015",
         "order_id": "HTS-083318-0003",
         "pages_visited": 0.3846153846153845,
         "tshirt_category": 3,
         "tshirt_price": "24",
         "tshirt_quantity": 3,
         "user_agent": "Mozilla/5.0 (Windows NT 6.1| Win64| x64) AppleWebKit/537.36 (KHTML, like Gecko) Chrome/56.0.2924.87…",
         "customerID": "nan",
         "gender": "nan",
         "birthdate": "nan",
         "ip_address": "nan",
         "latitude": "nan",
         "longitude": "nan",
         "Country Name": "nan",
         "country_code": "nan",
         "city_name": "nan",
         "email": "nan",
         "Continent_Name": "Africa",
         "Continent_Code": "AF",
         "Country_Name": "Namibia, Republic of",
         "Two_Letter_Country_Code": "nan",
         "Three_Letter_Country_Code": "NAM",
         "Country_Number": 516,
         "_deepnote_index_column": 12911
        },
        {
         "customer_id": "287913",
         "order_date": "25/12/2014",
         "order_id": "HTS-287913-0002",
         "pages_visited": 0.34615384615384615,
         "tshirt_category": 3,
         "tshirt_price": "24",
         "tshirt_quantity": 1,
         "user_agent": "Mozilla/5.0 (Windows NT 6.3| WOW64) AppleWebKit/537.36 (KHTML, like Gecko) Chrome/56.0.2924.87 Safa…",
         "customerID": "nan",
         "gender": "nan",
         "birthdate": "nan",
         "ip_address": "nan",
         "latitude": "nan",
         "longitude": "nan",
         "Country Name": "nan",
         "country_code": "nan",
         "city_name": "nan",
         "email": "nan",
         "Continent_Name": "Africa",
         "Continent_Code": "AF",
         "Country_Name": "Namibia, Republic of",
         "Two_Letter_Country_Code": "nan",
         "Three_Letter_Country_Code": "NAM",
         "Country_Number": 516,
         "_deepnote_index_column": 12912
        },
        {
         "customer_id": "534599",
         "order_date": "23/06/2014",
         "order_id": "HTS-534599-0001",
         "pages_visited": 0.26923076923076916,
         "tshirt_category": 3,
         "tshirt_price": "24",
         "tshirt_quantity": 3,
         "user_agent": "Mozilla/5.0 (X11| Linux x86_64) AppleWebKit/537.36 (KHTML, like Gecko) Chrome/56.0.2924.87 Safari/5…",
         "customerID": "nan",
         "gender": "nan",
         "birthdate": "nan",
         "ip_address": "nan",
         "latitude": "nan",
         "longitude": "nan",
         "Country Name": "nan",
         "country_code": "nan",
         "city_name": "nan",
         "email": "nan",
         "Continent_Name": "Africa",
         "Continent_Code": "AF",
         "Country_Name": "Namibia, Republic of",
         "Two_Letter_Country_Code": "nan",
         "Three_Letter_Country_Code": "NAM",
         "Country_Number": 516,
         "_deepnote_index_column": 12913
        },
        {
         "customer_id": "467894",
         "order_date": "14/10/2015",
         "order_id": "HTS-467894-0003",
         "pages_visited": 0.34615384615384615,
         "tshirt_category": 3,
         "tshirt_price": "24",
         "tshirt_quantity": 1,
         "user_agent": "Mozilla/5.0 (X11| Linux x86_64) AppleWebKit/537.36 (KHTML, like Gecko) Chrome/56.0.2924.87 Safari/5…",
         "customerID": "nan",
         "gender": "nan",
         "birthdate": "nan",
         "ip_address": "nan",
         "latitude": "nan",
         "longitude": "nan",
         "Country Name": "nan",
         "country_code": "nan",
         "city_name": "nan",
         "email": "nan",
         "Continent_Name": "Africa",
         "Continent_Code": "AF",
         "Country_Name": "Namibia, Republic of",
         "Two_Letter_Country_Code": "nan",
         "Three_Letter_Country_Code": "NAM",
         "Country_Number": 516,
         "_deepnote_index_column": 12914
        },
        {
         "customer_id": "371776",
         "order_date": "04/05/2015",
         "order_id": "HTS-371776-0002",
         "pages_visited": 0.5384615384615384,
         "tshirt_category": 3,
         "tshirt_price": "24",
         "tshirt_quantity": 2,
         "user_agent": "Mozilla/5.0 (X11| Linux x86_64) AppleWebKit/537.36 (KHTML, like Gecko) Chrome/56.0.2924.87 Safari/5…",
         "customerID": "nan",
         "gender": "nan",
         "birthdate": "nan",
         "ip_address": "nan",
         "latitude": "nan",
         "longitude": "nan",
         "Country Name": "nan",
         "country_code": "nan",
         "city_name": "nan",
         "email": "nan",
         "Continent_Name": "Africa",
         "Continent_Code": "AF",
         "Country_Name": "Namibia, Republic of",
         "Two_Letter_Country_Code": "nan",
         "Three_Letter_Country_Code": "NAM",
         "Country_Number": 516,
         "_deepnote_index_column": 12915
        },
        {
         "customer_id": "0b59cn",
         "order_date": "12/12/2016",
         "order_id": "HTS-0b59cn-0004",
         "pages_visited": 0.23076923076923073,
         "tshirt_category": 3,
         "tshirt_price": "24",
         "tshirt_quantity": 5,
         "user_agent": "Mozilla/5.0 (X11| Ubuntu| Linux x86_64| rv:51.0) Gecko/20100101 Firefox/51.0",
         "customerID": "nan",
         "gender": "nan",
         "birthdate": "nan",
         "ip_address": "nan",
         "latitude": "nan",
         "longitude": "nan",
         "Country Name": "nan",
         "country_code": "nan",
         "city_name": "nan",
         "email": "nan",
         "Continent_Name": "Africa",
         "Continent_Code": "AF",
         "Country_Name": "Namibia, Republic of",
         "Two_Letter_Country_Code": "nan",
         "Three_Letter_Country_Code": "NAM",
         "Country_Number": 516,
         "_deepnote_index_column": 12916
        },
        {
         "customer_id": "357322",
         "order_date": "10/12/2016",
         "order_id": "HTS-357322-0007",
         "pages_visited": 0.11538461538461536,
         "tshirt_category": 3,
         "tshirt_price": "24",
         "tshirt_quantity": 3,
         "user_agent": "Mozilla/5.0 (Windows NT 10.0| WOW64) AppleWebKit/537.36 (KHTML, like Gecko) Chrome/56.0.2924.87 Saf…",
         "customerID": "nan",
         "gender": "nan",
         "birthdate": "nan",
         "ip_address": "nan",
         "latitude": "nan",
         "longitude": "nan",
         "Country Name": "nan",
         "country_code": "nan",
         "city_name": "nan",
         "email": "nan",
         "Continent_Name": "Africa",
         "Continent_Code": "AF",
         "Country_Name": "Namibia, Republic of",
         "Two_Letter_Country_Code": "nan",
         "Three_Letter_Country_Code": "NAM",
         "Country_Number": 516,
         "_deepnote_index_column": 12917
        },
        {
         "customer_id": "l8c64t",
         "order_date": "01/03/2017",
         "order_id": "HTS-l8c64t-0003",
         "pages_visited": 0.1923076923076923,
         "tshirt_category": 3,
         "tshirt_price": "24",
         "tshirt_quantity": 2,
         "user_agent": "Mozilla/5.0 (Windows NT 10.0| WOW64| rv:52.0) Gecko/20100101 Firefox/52.0",
         "customerID": "nan",
         "gender": "nan",
         "birthdate": "nan",
         "ip_address": "nan",
         "latitude": "nan",
         "longitude": "nan",
         "Country Name": "nan",
         "country_code": "nan",
         "city_name": "nan",
         "email": "nan",
         "Continent_Name": "Africa",
         "Continent_Code": "AF",
         "Country_Name": "Namibia, Republic of",
         "Two_Letter_Country_Code": "nan",
         "Three_Letter_Country_Code": "NAM",
         "Country_Number": 516,
         "_deepnote_index_column": 12918
        },
        {
         "customer_id": "946557",
         "order_date": "21/07/2016",
         "order_id": "HTS-946557-0005",
         "pages_visited": 0.11538461538461536,
         "tshirt_category": 3,
         "tshirt_price": "24",
         "tshirt_quantity": 2,
         "user_agent": "Mozilla/5.0 (Windows NT 10.0| Win64| x64) AppleWebKit/537.36 (KHTML, like Gecko) Chrome/56.0.2924.8…",
         "customerID": "nan",
         "gender": "nan",
         "birthdate": "nan",
         "ip_address": "nan",
         "latitude": "nan",
         "longitude": "nan",
         "Country Name": "nan",
         "country_code": "nan",
         "city_name": "nan",
         "email": "nan",
         "Continent_Name": "Africa",
         "Continent_Code": "AF",
         "Country_Name": "Namibia, Republic of",
         "Two_Letter_Country_Code": "nan",
         "Three_Letter_Country_Code": "NAM",
         "Country_Number": 516,
         "_deepnote_index_column": 12919
        },
        {
         "customer_id": "1bhyje",
         "order_date": "22/06/2016",
         "order_id": "HTS-1bhyje-0002",
         "pages_visited": 0.5769230769230768,
         "tshirt_category": 3,
         "tshirt_price": "24",
         "tshirt_quantity": 1,
         "user_agent": "Mozilla/5.0 (X11| Linux x86_64) AppleWebKit/537.36 (KHTML, like Gecko) Chrome/56.0.2924.87 Safari/5…",
         "customerID": "nan",
         "gender": "nan",
         "birthdate": "nan",
         "ip_address": "nan",
         "latitude": "nan",
         "longitude": "nan",
         "Country Name": "nan",
         "country_code": "nan",
         "city_name": "nan",
         "email": "nan",
         "Continent_Name": "Africa",
         "Continent_Code": "AF",
         "Country_Name": "Namibia, Republic of",
         "Two_Letter_Country_Code": "nan",
         "Three_Letter_Country_Code": "NAM",
         "Country_Number": 516,
         "_deepnote_index_column": 12920
        }
       ]
      },
      "text/plain": "      customer_id  order_date         order_id  pages_visited  \\\n0           38040  04/09/2016  HTS-038040-0002       0.269231   \n1          vft1eu  26/02/2017  HTS-vft1eu-0003       0.307692   \n2          914324  01/12/2013  HTS-914324-0001       0.307692   \n3           61311  15/01/2016  HTS-061311-0003       0.269231   \n4          494332  03/11/2013  HTS-494332-0001       0.307692   \n...           ...         ...              ...            ...   \n12916      0b59cn  12/12/2016  HTS-0b59cn-0004       0.230769   \n12917      357322  10/12/2016  HTS-357322-0007       0.115385   \n12918      l8c64t  01/03/2017  HTS-l8c64t-0003       0.192308   \n12919      946557  21/07/2016  HTS-946557-0005       0.115385   \n12920      1bhyje  22/06/2016  HTS-1bhyje-0002       0.576923   \n\n       tshirt_category tshirt_price  tshirt_quantity  \\\n0                    5           20                1   \n1                    4           18                3   \n2                    4           18                1   \n3                    0         17,5                4   \n4                    4           18                2   \n...                ...          ...              ...   \n12916                3           24                5   \n12917                3           24                3   \n12918                3           24                2   \n12919                3           24                2   \n12920                3           24                1   \n\n                                              user_agent customerID gender  \\\n0      Mozilla/5.0 (Windows NT 10.0| WOW64) AppleWebK...        NaN    NaN   \n1      Mozilla/5.0 (Macintosh| Intel Mac OS X 10_12_3...     vft1eu      F   \n2      Mozilla/5.0 (Windows NT 10.0| WOW64) AppleWebK...        NaN    NaN   \n3      Mozilla/5.0 (Macintosh| Intel Mac OS X 10_12_3...        NaN    NaN   \n4      Mozilla/5.0 (Macintosh| Intel Mac OS X 10_11_6...        NaN    NaN   \n...                                                  ...        ...    ...   \n12916  Mozilla/5.0 (X11| Ubuntu| Linux x86_64| rv:51....        NaN    NaN   \n12917  Mozilla/5.0 (Windows NT 10.0| WOW64) AppleWebK...        NaN    NaN   \n12918  Mozilla/5.0 (Windows NT 10.0| WOW64| rv:52.0) ...        NaN    NaN   \n12919  Mozilla/5.0 (Windows NT 10.0| Win64| x64) Appl...        NaN    NaN   \n12920  Mozilla/5.0 (X11| Linux x86_64) AppleWebKit/53...        NaN    NaN   \n\n       ...                  Country Name country_code  city_name  \\\n0      ...                           NaN          NaN        NaN   \n1      ...  Germany, Federal Republic of           DE        NaN   \n2      ...                           NaN          NaN        NaN   \n3      ...                           NaN          NaN        NaN   \n4      ...                           NaN          NaN        NaN   \n...    ...                           ...          ...        ...   \n12916  ...                           NaN          NaN        NaN   \n12917  ...                           NaN          NaN        NaN   \n12918  ...                           NaN          NaN        NaN   \n12919  ...                           NaN          NaN        NaN   \n12920  ...                           NaN          NaN        NaN   \n\n                   email Continent_Name Continent_Code  \\\n0                    NaN         Africa             AF   \n1      HEOX@formation.fr         Europe             EU   \n2                    NaN         Africa             AF   \n3                    NaN         Africa             AF   \n4                    NaN         Africa             AF   \n...                  ...            ...            ...   \n12916                NaN         Africa             AF   \n12917                NaN         Africa             AF   \n12918                NaN         Africa             AF   \n12919                NaN         Africa             AF   \n12920                NaN         Africa             AF   \n\n                       Country_Name Two_Letter_Country_Code  \\\n0              Namibia, Republic of                     NaN   \n1      Germany, Federal Republic of                      DE   \n2              Namibia, Republic of                     NaN   \n3              Namibia, Republic of                     NaN   \n4              Namibia, Republic of                     NaN   \n...                             ...                     ...   \n12916          Namibia, Republic of                     NaN   \n12917          Namibia, Republic of                     NaN   \n12918          Namibia, Republic of                     NaN   \n12919          Namibia, Republic of                     NaN   \n12920          Namibia, Republic of                     NaN   \n\n      Three_Letter_Country_Code Country_Number  \n0                           NAM          516.0  \n1                           DEU          276.0  \n2                           NAM          516.0  \n3                           NAM          516.0  \n4                           NAM          516.0  \n...                         ...            ...  \n12916                       NAM          516.0  \n12917                       NAM          516.0  \n12918                       NAM          516.0  \n12919                       NAM          516.0  \n12920                       NAM          516.0  \n\n[12921 rows x 24 columns]",
      "text/html": "<div>\n<style scoped>\n    .dataframe tbody tr th:only-of-type {\n        vertical-align: middle;\n    }\n\n    .dataframe tbody tr th {\n        vertical-align: top;\n    }\n\n    .dataframe thead th {\n        text-align: right;\n    }\n</style>\n<table border=\"1\" class=\"dataframe\">\n  <thead>\n    <tr style=\"text-align: right;\">\n      <th></th>\n      <th>customer_id</th>\n      <th>order_date</th>\n      <th>order_id</th>\n      <th>pages_visited</th>\n      <th>tshirt_category</th>\n      <th>tshirt_price</th>\n      <th>tshirt_quantity</th>\n      <th>user_agent</th>\n      <th>customerID</th>\n      <th>gender</th>\n      <th>...</th>\n      <th>Country Name</th>\n      <th>country_code</th>\n      <th>city_name</th>\n      <th>email</th>\n      <th>Continent_Name</th>\n      <th>Continent_Code</th>\n      <th>Country_Name</th>\n      <th>Two_Letter_Country_Code</th>\n      <th>Three_Letter_Country_Code</th>\n      <th>Country_Number</th>\n    </tr>\n  </thead>\n  <tbody>\n    <tr>\n      <th>0</th>\n      <td>38040</td>\n      <td>04/09/2016</td>\n      <td>HTS-038040-0002</td>\n      <td>0.269231</td>\n      <td>5</td>\n      <td>20</td>\n      <td>1</td>\n      <td>Mozilla/5.0 (Windows NT 10.0| WOW64) AppleWebK...</td>\n      <td>NaN</td>\n      <td>NaN</td>\n      <td>...</td>\n      <td>NaN</td>\n      <td>NaN</td>\n      <td>NaN</td>\n      <td>NaN</td>\n      <td>Africa</td>\n      <td>AF</td>\n      <td>Namibia, Republic of</td>\n      <td>NaN</td>\n      <td>NAM</td>\n      <td>516.0</td>\n    </tr>\n    <tr>\n      <th>1</th>\n      <td>vft1eu</td>\n      <td>26/02/2017</td>\n      <td>HTS-vft1eu-0003</td>\n      <td>0.307692</td>\n      <td>4</td>\n      <td>18</td>\n      <td>3</td>\n      <td>Mozilla/5.0 (Macintosh| Intel Mac OS X 10_12_3...</td>\n      <td>vft1eu</td>\n      <td>F</td>\n      <td>...</td>\n      <td>Germany, Federal Republic of</td>\n      <td>DE</td>\n      <td>NaN</td>\n      <td>HEOX@formation.fr</td>\n      <td>Europe</td>\n      <td>EU</td>\n      <td>Germany, Federal Republic of</td>\n      <td>DE</td>\n      <td>DEU</td>\n      <td>276.0</td>\n    </tr>\n    <tr>\n      <th>2</th>\n      <td>914324</td>\n      <td>01/12/2013</td>\n      <td>HTS-914324-0001</td>\n      <td>0.307692</td>\n      <td>4</td>\n      <td>18</td>\n      <td>1</td>\n      <td>Mozilla/5.0 (Windows NT 10.0| WOW64) AppleWebK...</td>\n      <td>NaN</td>\n      <td>NaN</td>\n      <td>...</td>\n      <td>NaN</td>\n      <td>NaN</td>\n      <td>NaN</td>\n      <td>NaN</td>\n      <td>Africa</td>\n      <td>AF</td>\n      <td>Namibia, Republic of</td>\n      <td>NaN</td>\n      <td>NAM</td>\n      <td>516.0</td>\n    </tr>\n    <tr>\n      <th>3</th>\n      <td>61311</td>\n      <td>15/01/2016</td>\n      <td>HTS-061311-0003</td>\n      <td>0.269231</td>\n      <td>0</td>\n      <td>17,5</td>\n      <td>4</td>\n      <td>Mozilla/5.0 (Macintosh| Intel Mac OS X 10_12_3...</td>\n      <td>NaN</td>\n      <td>NaN</td>\n      <td>...</td>\n      <td>NaN</td>\n      <td>NaN</td>\n      <td>NaN</td>\n      <td>NaN</td>\n      <td>Africa</td>\n      <td>AF</td>\n      <td>Namibia, Republic of</td>\n      <td>NaN</td>\n      <td>NAM</td>\n      <td>516.0</td>\n    </tr>\n    <tr>\n      <th>4</th>\n      <td>494332</td>\n      <td>03/11/2013</td>\n      <td>HTS-494332-0001</td>\n      <td>0.307692</td>\n      <td>4</td>\n      <td>18</td>\n      <td>2</td>\n      <td>Mozilla/5.0 (Macintosh| Intel Mac OS X 10_11_6...</td>\n      <td>NaN</td>\n      <td>NaN</td>\n      <td>...</td>\n      <td>NaN</td>\n      <td>NaN</td>\n      <td>NaN</td>\n      <td>NaN</td>\n      <td>Africa</td>\n      <td>AF</td>\n      <td>Namibia, Republic of</td>\n      <td>NaN</td>\n      <td>NAM</td>\n      <td>516.0</td>\n    </tr>\n    <tr>\n      <th>...</th>\n      <td>...</td>\n      <td>...</td>\n      <td>...</td>\n      <td>...</td>\n      <td>...</td>\n      <td>...</td>\n      <td>...</td>\n      <td>...</td>\n      <td>...</td>\n      <td>...</td>\n      <td>...</td>\n      <td>...</td>\n      <td>...</td>\n      <td>...</td>\n      <td>...</td>\n      <td>...</td>\n      <td>...</td>\n      <td>...</td>\n      <td>...</td>\n      <td>...</td>\n      <td>...</td>\n    </tr>\n    <tr>\n      <th>12916</th>\n      <td>0b59cn</td>\n      <td>12/12/2016</td>\n      <td>HTS-0b59cn-0004</td>\n      <td>0.230769</td>\n      <td>3</td>\n      <td>24</td>\n      <td>5</td>\n      <td>Mozilla/5.0 (X11| Ubuntu| Linux x86_64| rv:51....</td>\n      <td>NaN</td>\n      <td>NaN</td>\n      <td>...</td>\n      <td>NaN</td>\n      <td>NaN</td>\n      <td>NaN</td>\n      <td>NaN</td>\n      <td>Africa</td>\n      <td>AF</td>\n      <td>Namibia, Republic of</td>\n      <td>NaN</td>\n      <td>NAM</td>\n      <td>516.0</td>\n    </tr>\n    <tr>\n      <th>12917</th>\n      <td>357322</td>\n      <td>10/12/2016</td>\n      <td>HTS-357322-0007</td>\n      <td>0.115385</td>\n      <td>3</td>\n      <td>24</td>\n      <td>3</td>\n      <td>Mozilla/5.0 (Windows NT 10.0| WOW64) AppleWebK...</td>\n      <td>NaN</td>\n      <td>NaN</td>\n      <td>...</td>\n      <td>NaN</td>\n      <td>NaN</td>\n      <td>NaN</td>\n      <td>NaN</td>\n      <td>Africa</td>\n      <td>AF</td>\n      <td>Namibia, Republic of</td>\n      <td>NaN</td>\n      <td>NAM</td>\n      <td>516.0</td>\n    </tr>\n    <tr>\n      <th>12918</th>\n      <td>l8c64t</td>\n      <td>01/03/2017</td>\n      <td>HTS-l8c64t-0003</td>\n      <td>0.192308</td>\n      <td>3</td>\n      <td>24</td>\n      <td>2</td>\n      <td>Mozilla/5.0 (Windows NT 10.0| WOW64| rv:52.0) ...</td>\n      <td>NaN</td>\n      <td>NaN</td>\n      <td>...</td>\n      <td>NaN</td>\n      <td>NaN</td>\n      <td>NaN</td>\n      <td>NaN</td>\n      <td>Africa</td>\n      <td>AF</td>\n      <td>Namibia, Republic of</td>\n      <td>NaN</td>\n      <td>NAM</td>\n      <td>516.0</td>\n    </tr>\n    <tr>\n      <th>12919</th>\n      <td>946557</td>\n      <td>21/07/2016</td>\n      <td>HTS-946557-0005</td>\n      <td>0.115385</td>\n      <td>3</td>\n      <td>24</td>\n      <td>2</td>\n      <td>Mozilla/5.0 (Windows NT 10.0| Win64| x64) Appl...</td>\n      <td>NaN</td>\n      <td>NaN</td>\n      <td>...</td>\n      <td>NaN</td>\n      <td>NaN</td>\n      <td>NaN</td>\n      <td>NaN</td>\n      <td>Africa</td>\n      <td>AF</td>\n      <td>Namibia, Republic of</td>\n      <td>NaN</td>\n      <td>NAM</td>\n      <td>516.0</td>\n    </tr>\n    <tr>\n      <th>12920</th>\n      <td>1bhyje</td>\n      <td>22/06/2016</td>\n      <td>HTS-1bhyje-0002</td>\n      <td>0.576923</td>\n      <td>3</td>\n      <td>24</td>\n      <td>1</td>\n      <td>Mozilla/5.0 (X11| Linux x86_64) AppleWebKit/53...</td>\n      <td>NaN</td>\n      <td>NaN</td>\n      <td>...</td>\n      <td>NaN</td>\n      <td>NaN</td>\n      <td>NaN</td>\n      <td>NaN</td>\n      <td>Africa</td>\n      <td>AF</td>\n      <td>Namibia, Republic of</td>\n      <td>NaN</td>\n      <td>NAM</td>\n      <td>516.0</td>\n    </tr>\n  </tbody>\n</table>\n<p>12921 rows × 24 columns</p>\n</div>"
     },
     "metadata": {}
    }
   ],
   "execution_count": null
  },
  {
   "cell_type": "markdown",
   "source": "# 5 - Exporting the data",
   "metadata": {
    "tags": [],
    "is_collapsed": false,
    "cell_id": "00051-63ac6e91-d3e7-4efa-ad11-b5256336e742",
    "deepnote_cell_type": "text-cell-h1"
   }
  },
  {
   "cell_type": "markdown",
   "source": "The general documentation to export dataframe in Python can be found here: https://pandas.pydata.org/docs/reference/frame.html",
   "metadata": {
    "tags": [],
    "cell_id": "00057-6dcde8f4-cf52-49d3-b5d9-b13a25bfcbbc",
    "deepnote_cell_type": "markdown"
   }
  },
  {
   "cell_type": "markdown",
   "source": "<div class=\"alert alert-block alert-info\">\n<b><p style=\"color:red;\">Exercice 22: Export the data in Excel</p></b>\nYou will need the function <b>pandas.DataFrame.to_excel</b> : <a href=\"https://pandas.pydata.org/docs/reference/api/pandas.DataFrame.to_excel.html\">https://pandas.pydata.org/docs/reference/api/pandas.DataFrame.to_excel.html</a> <br>\nTips: Be careful to the index inserted by default\n",
   "metadata": {
    "tags": [],
    "cell_id": "00057-5dfaf5da-a0a7-4f93-9049-5e93ce3e00ef",
    "deepnote_cell_type": "markdown"
   }
  },
  {
   "cell_type": "code",
   "metadata": {
    "tags": [],
    "cell_id": "00059-00918a1b-4dd0-4066-b0f5-ab4f2ecd72cb",
    "deepnote_to_be_reexecuted": false,
    "source_hash": "71fab6c3",
    "execution_start": 1629809214108,
    "execution_millis": 8523,
    "deepnote_cell_type": "code"
   },
   "source": "df_final.to_excel(\"SalesDataCaseStudy.xlsx\")",
   "outputs": [],
   "execution_count": null
  },
  {
   "cell_type": "markdown",
   "source": "<div class=\"alert alert-block alert-info\">\n<b><p style=\"color:red;\">Exercice 23: Export the data in CSV</p></b>\nYou will need the function <b>pandas.DataFrame.to_excel</b> : <a href=\"https://pandas.pydata.org/docs/reference/api/pandas.DataFrame.to_csv.html\">https://pandas.pydata.org/docs/reference/api/pandas.DataFrame.to_csv.html</a> <br>\nTips: Be careful to the index inserted by default\n",
   "metadata": {
    "tags": [],
    "cell_id": "00059-19d26f08-b9ee-4ee9-a412-d8e58e30a9a1",
    "deepnote_cell_type": "markdown"
   }
  },
  {
   "cell_type": "code",
   "metadata": {
    "tags": [],
    "cell_id": "00062-d2024dc3-65ed-4248-9af5-a6c4b7f7033e",
    "deepnote_cell_type": "code"
   },
   "source": "df_final.to_csv(\"SalesDataCaseStudy.csv\")",
   "outputs": [],
   "execution_count": null
  },
  {
   "cell_type": "markdown",
   "source": "<a style='text-decoration:none;line-height:16px;display:flex;color:#5B5B62;padding:10px;justify-content:end;' href='https://deepnote.com?utm_source=created-in-deepnote-cell&projectId=15271986-c986-45e3-9a81-c9d56c7c99fa' target=\"_blank\">\n<img alt='Created in deepnote.com' style='display:inline;max-height:16px;margin:0px;margin-right:7.5px;' src='data:image/svg+xml;base64,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' > </img>\nCreated in <span style='font-weight:600;margin-left:4px;'>Deepnote</span></a>",
   "metadata": {
    "tags": [],
    "created_in_deepnote_cell": true,
    "deepnote_cell_type": "markdown"
   }
  }
 ],
 "nbformat": 4,
 "nbformat_minor": 2,
 "metadata": {
  "orig_nbformat": 2,
  "deepnote": {
   "is_reactive": false
  },
  "deepnote_notebook_id": "55b78163-e59c-4fc9-b565-d315f65d0189",
  "deepnote_execution_queue": []
 }
}